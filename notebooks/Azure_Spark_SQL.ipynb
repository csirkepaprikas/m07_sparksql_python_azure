{
 "cells": [
  {
   "cell_type": "code",
   "execution_count": 0,
   "metadata": {
    "application/vnd.databricks.v1+cell": {
     "cellMetadata": {
      "byteLimit": 2048000,
      "rowLimit": 10000
     },
     "collapsed": true,
     "inputWidgets": {},
     "nuid": "f6ce7ab0-d884-4ac7-a9a0-0355d6d452a1",
     "showTitle": true,
     "tableResultSettingsMap": {},
     "title": "intermediate_data_check"
    }
   },
   "outputs": [
    {
     "name": "stdout",
     "output_type": "stream",
     "text": [
      "+-------+-------------------+---------+--------------+---------------------+--------------------+------------------+-------------------------+-------+---------+----------+-------+----------+----------+---------------+-----------------+-----------+-------------------+------------------------+-------------+--------------------+----------+----------+--------------+-------+-------+---------------+----------+---------+--------------------+----------+----+-----+---+\n",
      "|     id|          date_time|site_name|posa_continent|user_location_country|user_location_region|user_location_city|orig_destination_distance|user_id|is_mobile|is_package|channel|   srch_ci|   srch_co|srch_adults_cnt|srch_children_cnt|srch_rm_cnt|srch_destination_id|srch_destination_type_id|     hotel_id|             address|avg_tmpr_c|avg_tmpr_f|          city|country|geoHash|accomodation_id|  latitude|longitude|                name| wthr_date|year|month|day|\n",
      "+-------+-------------------+---------+--------------+---------------------+--------------------+------------------+-------------------------+-------+---------+----------+-------+----------+----------+---------------+-----------------+-----------+-------------------+------------------------+-------------+--------------------+----------+----------+--------------+-------+-------+---------------+----------+---------+--------------------+----------+----+-----+---+\n",
      "|2527659|2015-02-28 19:24:55|       24|             2|                    3|                  49|              4463|                     NULL|1196901|        0|         0|      5|2017-08-05|2017-08-06|              2|                0|          1|               8813|                       1|2791728742400|     Mill sime H tel|      17.9|      64.3|         Paris|     FR|   u09t|  2791728742400|48.8550236|2.3350786|15 Rue Jacob 6th ...|2017-08-18|2017|    8| 18|\n",
      "|2527494|2015-04-14 00:27:32|       24|             2|                    3|                  64|             18964|                     NULL|1196722|        0|         0|      5|2017-09-01|2017-09-04|              2|                1|          1|              20014|                       6|1254130450432|Hotel Corpus Christi|      30.8|      87.4|Corpus Christi|     US|   9ufw|  1254130450432| 27.796791| -97.3927|      601 N Water St|2017-08-18|2017|    8| 18|\n",
      "|2527065|2015-12-22 12:17:45|        2|             3|                   66|                 348|             48862|                1008.0811|1195437|        0|         0|      4|2017-08-28|2017-08-29|              2|                2|          1|              12008|                       1|3186865733637|Oceania Paris Por...|      17.9|      64.3|         Paris|     FR|   u09t|  3186865733637|48.8303023|2.2842872|52 Rue Oradour su...|2017-08-18|2017|    8| 18|\n",
      "|2526744|2015-01-13 11:07:34|        2|             3|                   66|                 462|             27117|                1110.4218|1194458|        0|         1|      9|2017-09-13|2017-09-16|              2|                1|          1|               8272|                       1|2250562863104|          Vice Versa|      17.9|      64.3|         Paris|     FR|   u09t|  2250562863104|48.8363819|2.2897793|213 rue de la Cro...|2017-08-18|2017|    8| 18|\n",
      "|2526639|2015-11-04 06:26:43|        2|             3|                   66|                 189|               151|                 118.1583|1194035|        0|         0|     10|2017-09-09|2017-09-11|              1|                0|          1|              25800|                       6|2886218022913|Holiday Inn Paris...|      17.9|      64.3|         Paris|     FR|   u09t|  2886218022913| 48.846837|2.3258066|92 rue de Vaugira...|2017-08-18|2017|    8| 18|\n",
      "|2526229|2015-12-02 09:47:09|       24|             2|                    3|                  61|             23792|                     NULL|1193046|        0|         1|      2|2016-10-24|2016-10-27|              2|                2|          2|              19369|                       6|2834678415364|H tel Le Relais S...|      17.9|      64.3|         Paris|     FR|   u09t|  2834678415364|48.8519208| 2.338878|9 Carrefour de l ...|2017-08-18|2017|    8| 18|\n",
      "|2526132|2015-08-04 21:47:35|       37|             1|                   69|                 693|             51112|                     NULL|1192704|        0|         0|      0|2016-10-13|2016-10-14|              2|                0|          1|              17168|                       5|2834678415364|H tel Le Relais S...|      17.9|      64.3|         Paris|     FR|   u09t|  2834678415364|48.8519208| 2.338878|9 Carrefour de l ...|2017-08-18|2017|    8| 18|\n",
      "|2525684|2015-01-21 09:57:29|       26|             0|                  215|                 715|               657|                 287.0899|1191109|        0|         0|      2|2017-08-27|2017-08-28|              1|                0|          1|               8259|                       1|1949915152385|Hotel Le petit Paris|      17.9|      64.3|         Paris|     FR|   u09t|  1949915152385|48.8452789| 2.342295|214 rue Saint Jac...|2017-08-18|2017|    8| 18|\n",
      "|2525571|2015-02-20 02:22:50|       24|             2|                   70|                  47|             14566|                     NULL|1190804|        0|         0|      2|2017-08-20|2017-08-22|              2|                0|          1|               5497|                       1|2671469658112|H tel des Academi...|      17.9|      64.3|         Paris|     FR|   u09t|  2671469658112|48.8420669|2.3304091|15 Rue De La Gran...|2017-08-18|2017|    8| 18|\n",
      "|2525478|2015-05-30 13:31:58|       24|             2|                    3|                  50|              5224|                     NULL|1190556|        0|         0|     10|2016-10-29|2016-11-02|              2|                1|          1|               8859|                       1|1864015806466|    Hotel Bachaumont|      17.9|      64.3|         Paris|     FR|   u09t|  1864015806466|48.8663208|2.3450399|18 rue Bachaumont...|2017-08-18|2017|    8| 18|\n",
      "|2525078|2015-07-14 10:58:12|        2|             3|                  218|                  17|             39100|                     NULL|1189134|        0|         0|     10|2017-09-25|2017-09-29|              4|                0|          1|               8254|                       1|2293512536066|H tel Belloy Sain...|      17.9|      64.3|         Paris|     FR|   u09t|  2293512536066|48.8503901|2.3422527|2 Rue Racine 6th ...|2017-08-18|2017|    8| 18|\n",
      "|2524598|2015-07-16 21:03:58|        2|             3|                  103|                  45|             38784|                     NULL|1187939|        0|         0|     10|2016-10-18|2016-10-19|              3|                0|          2|              12225|                       6|3350074490881|Pullman Paris Tou...|      17.9|      64.3|         Paris|     FR|   u09t|  3350074490881|48.8555664|2.2926243|18 Avenue De Suff...|2017-08-18|2017|    8| 18|\n",
      "|2524522|2015-09-27 22:37:22|       24|             2|                    3|                  50|              5703|                     NULL|1187637|        0|         0|      1|2016-10-10|2016-10-12|              1|                0|          1|               8220|                       1|1778116460547|    Relais Du Louvre|      17.9|      64.3|         Paris|     FR|   u09t|  1778116460547|48.8592264| 2.340996|19 Rue Des Pretre...|2017-08-18|2017|    8| 18|\n",
      "|2524280|2015-04-19 23:09:47|       24|             2|                    3|                  64|              3169|                     NULL|1186919|        0|         0|      0|2017-09-03|2017-09-05|              2|                0|          1|               8285|                       1|2396591751169|Hotel des Tuileri...|      17.9|      64.3|         Paris|     FR|   u09t|  2396591751169|48.8661705| 2.331561|10 rue Saint Hyac...|2017-08-18|2017|    8| 18|\n",
      "|2524169|2015-11-27 17:21:05|       11|             3|                  205|                 135|             27655|                 1294.507|1186677|        1|         0|      1|2016-10-03|2016-10-08|              2|                0|          1|              23693|                       1|3100966387712|H tel Chaplain Pa...|      17.9|      64.3|         Paris|     FR|   u09t|  3100966387712|48.8427564|2.3305636|11 Bis Rue Jules ...|2017-08-18|2017|    8| 18|\n",
      "|2523778|2015-03-01 12:43:25|        2|             3|                   66|                 331|             33511|                4740.3741|1185502|        0|         0|      1|2017-09-18|2017-09-23|              3|                0|          1|               8740|                       1|2430951489540|Snob Hotel by Ele...|      17.9|      64.3|         Paris|     FR|   u09t|  2430951489540|48.8622723|2.3495707|86 Rue Saint Deni...|2017-08-18|2017|    8| 18|\n",
      "|2523711|2015-02-06 19:29:05|       10|             0|                  182|                 416|             32100|                5847.8659|1185255|        0|         0|      5|2017-09-25|2017-10-01|              2|                2|          1|               8745|                       1|2044404432897|Holiday Inn Paris...|      17.9|      64.3|         Paris|     FR|   u09t|  2044404432897|48.8376887|2.3063102|10 rue Gager Gabi...|2017-08-18|2017|    8| 18|\n",
      "|2522929|2015-11-17 10:37:08|       24|             2|                    3|                  65|             28685|                     NULL|1182403|        0|         0|      5|2016-10-24|2016-10-26|              1|                0|          1|              14591|                       7|2723009265668|  Villa Beaumarchais|      17.9|      64.3|         Paris|     FR|   u09t|  2723009265668|48.8589516|2.3670407|5 rue des Arquebu...|2017-08-18|2017|    8| 18|\n",
      "|2522835|2015-02-15 00:47:53|       24|             2|                    3|                  50|              5703|                     NULL|1182155|        0|         0|      4|2016-10-01|2016-10-02|              1|                0|          1|              44976|                       1|2834678415361| H tel Mayfair Paris|      17.9|      64.3|         Paris|     FR|   u09t|  2834678415361|48.8661363|2.3260648|3 Rue Rouget De L...|2017-08-18|2017|    8| 18|\n",
      "|2522737|2015-04-11 14:32:42|       24|             2|                    3|                  50|             20442|                     NULL|1181756|        0|         0|      1|2017-08-30|2017-08-31|              1|                0|          1|              24328|                       6|2164663517190|Hotel Le Sainte B...|      17.9|      64.3|         Paris|     FR|   u09t|  2164663517190|48.8438998|2.3294858|9 Rue Sainte Beuv...|2017-08-18|2017|    8| 18|\n",
      "+-------+-------------------+---------+--------------+---------------------+--------------------+------------------+-------------------------+-------+---------+----------+-------+----------+----------+---------------+-----------------+-----------+-------------------+------------------------+-------------+--------------------+----------+----------+--------------+-------+-------+---------------+----------+---------+--------------------+----------+----+-----+---+\n",
      "only showing top 20 rows\n",
      "\n"
     ]
    }
   ],
   "source": [
    "# Azure Storage settings\n",
    "output_storage_account = \"e6o\"\n",
    "output_container = \"data\"\n",
    "\n",
    "spark.conf.set(\n",
    "    f\"fs.azure.account.key.{output_storage_account}.blob.core.windows.net\",\n",
    "    dbutils.secrets.get(scope=\"hw2secret\", key=\"AZURE_STORAGE_ACCOUNT_KEY_DESTINATION\"))\n",
    "\n",
    "# Read Hotel-Weather data and save it in Delta format\n",
    "hotel_weather_df = spark.read.format(\"parquet\").load(f\"wasbs://{output_container}@{output_storage_account}.blob.core.windows.net/joined_data/\")\n",
    "hotel_weather_df.show()"
   ]
  },
  {
   "cell_type": "code",
   "execution_count": 0,
   "metadata": {
    "application/vnd.databricks.v1+cell": {
     "cellMetadata": {
      "byteLimit": 2048000,
      "rowLimit": 10000
     },
     "collapsed": true,
     "inputWidgets": {},
     "nuid": "56b9aff7-60e0-4f64-a070-61e141c8ba9d",
     "showTitle": true,
     "tableResultSettingsMap": {},
     "title": "Preconfig"
    }
   },
   "outputs": [
    {
     "data": {
      "text/plain": [
       "com.databricks.backend.common.rpc.CommandCancelledException\n",
       "\tat com.databricks.spark.chauffeur.SequenceExecutionState.$anonfun$cancel$5(SequenceExecutionState.scala:136)\n",
       "\tat scala.Option.getOrElse(Option.scala:189)\n",
       "\tat com.databricks.spark.chauffeur.SequenceExecutionState.$anonfun$cancel$3(SequenceExecutionState.scala:136)\n",
       "\tat com.databricks.spark.chauffeur.SequenceExecutionState.$anonfun$cancel$3$adapted(SequenceExecutionState.scala:133)\n",
       "\tat scala.collection.immutable.Range.foreach(Range.scala:158)\n",
       "\tat com.databricks.spark.chauffeur.SequenceExecutionState.cancel(SequenceExecutionState.scala:133)\n",
       "\tat com.databricks.spark.chauffeur.ExecContextState.cancelRunningSequence(ExecContextState.scala:728)\n",
       "\tat com.databricks.spark.chauffeur.ExecContextState.$anonfun$cancel$1(ExecContextState.scala:446)\n",
       "\tat scala.Option.getOrElse(Option.scala:189)\n",
       "\tat com.databricks.spark.chauffeur.ExecContextState.cancel(ExecContextState.scala:446)\n",
       "\tat com.databricks.spark.chauffeur.ExecutionContextManagerV1.cancelExecution(ExecutionContextManagerV1.scala:464)\n",
       "\tat com.databricks.spark.chauffeur.ChauffeurState.$anonfun$process$1(ChauffeurState.scala:571)\n",
       "\tat com.databricks.logging.UsageLogging.$anonfun$recordOperation$1(UsageLogging.scala:528)\n",
       "\tat com.databricks.logging.UsageLogging.executeThunkAndCaptureResultTags$1(UsageLogging.scala:633)\n",
       "\tat com.databricks.logging.UsageLogging.$anonfun$recordOperationWithResultTags$4(UsageLogging.scala:656)\n",
       "\tat com.databricks.logging.AttributionContextTracing.$anonfun$withAttributionContext$1(AttributionContextTracing.scala:48)\n",
       "\tat com.databricks.logging.AttributionContext$.$anonfun$withValue$1(AttributionContext.scala:276)\n",
       "\tat scala.util.DynamicVariable.withValue(DynamicVariable.scala:62)\n",
       "\tat com.databricks.logging.AttributionContext$.withValue(AttributionContext.scala:272)\n",
       "\tat com.databricks.logging.AttributionContextTracing.withAttributionContext(AttributionContextTracing.scala:46)\n",
       "\tat com.databricks.logging.AttributionContextTracing.withAttributionContext$(AttributionContextTracing.scala:43)\n",
       "\tat com.databricks.spark.chauffeur.ChauffeurState.withAttributionContext(ChauffeurState.scala:51)\n",
       "\tat com.databricks.logging.AttributionContextTracing.withAttributionTags(AttributionContextTracing.scala:95)\n",
       "\tat com.databricks.logging.AttributionContextTracing.withAttributionTags$(AttributionContextTracing.scala:76)\n",
       "\tat com.databricks.spark.chauffeur.ChauffeurState.withAttributionTags(ChauffeurState.scala:51)\n",
       "\tat com.databricks.logging.UsageLogging.recordOperationWithResultTags(UsageLogging.scala:628)\n",
       "\tat com.databricks.logging.UsageLogging.recordOperationWithResultTags$(UsageLogging.scala:537)\n",
       "\tat com.databricks.spark.chauffeur.ChauffeurState.recordOperationWithResultTags(ChauffeurState.scala:51)\n",
       "\tat com.databricks.logging.UsageLogging.recordOperation(UsageLogging.scala:529)\n",
       "\tat com.databricks.logging.UsageLogging.recordOperation$(UsageLogging.scala:495)\n",
       "\tat com.databricks.spark.chauffeur.ChauffeurState.recordOperation(ChauffeurState.scala:51)\n",
       "\tat com.databricks.spark.chauffeur.ChauffeurState.process(ChauffeurState.scala:553)\n",
       "\tat com.databricks.spark.chauffeur.Chauffeur$$anon$1$$anonfun$receive$1.handleDriverRequest$1(Chauffeur.scala:846)\n",
       "\tat com.databricks.spark.chauffeur.Chauffeur$$anon$1$$anonfun$receive$1.$anonfun$applyOrElse$5(Chauffeur.scala:872)\n",
       "\tat com.databricks.logging.UsageLogging.executeThunkAndCaptureResultTags$1(UsageLogging.scala:633)\n",
       "\tat com.databricks.logging.UsageLogging.$anonfun$recordOperationWithResultTags$4(UsageLogging.scala:656)\n",
       "\tat com.databricks.logging.AttributionContextTracing.$anonfun$withAttributionContext$1(AttributionContextTracing.scala:48)\n",
       "\tat com.databricks.logging.AttributionContext$.$anonfun$withValue$1(AttributionContext.scala:276)\n",
       "\tat scala.util.DynamicVariable.withValue(DynamicVariable.scala:62)\n",
       "\tat com.databricks.logging.AttributionContext$.withValue(AttributionContext.scala:272)\n",
       "\tat com.databricks.logging.AttributionContextTracing.withAttributionContext(AttributionContextTracing.scala:46)\n",
       "\tat com.databricks.logging.AttributionContextTracing.withAttributionContext$(AttributionContextTracing.scala:43)\n",
       "\tat com.databricks.rpc.ServerBackend.withAttributionContext(ServerBackend.scala:22)\n",
       "\tat com.databricks.logging.AttributionContextTracing.withAttributionTags(AttributionContextTracing.scala:95)\n",
       "\tat com.databricks.logging.AttributionContextTracing.withAttributionTags$(AttributionContextTracing.scala:76)\n",
       "\tat com.databricks.rpc.ServerBackend.withAttributionTags(ServerBackend.scala:22)\n",
       "\tat com.databricks.logging.UsageLogging.recordOperationWithResultTags(UsageLogging.scala:628)\n",
       "\tat com.databricks.logging.UsageLogging.recordOperationWithResultTags$(UsageLogging.scala:537)\n",
       "\tat com.databricks.rpc.ServerBackend.recordOperationWithResultTags(ServerBackend.scala:22)\n",
       "\tat com.databricks.spark.chauffeur.Chauffeur$$anon$1$$anonfun$receive$1.handleDriverRequestWithUsageLogging$1(Chauffeur.scala:871)\n",
       "\tat com.databricks.spark.chauffeur.Chauffeur$$anon$1$$anonfun$receive$1.applyOrElse(Chauffeur.scala:926)\n",
       "\tat com.databricks.spark.chauffeur.Chauffeur$$anon$1$$anonfun$receive$1.applyOrElse(Chauffeur.scala:719)\n",
       "\tat com.databricks.rpc.ServerBackend.$anonfun$internalReceive0$2(ServerBackend.scala:174)\n",
       "\tat com.databricks.rpc.ServerBackend$$anonfun$commonReceive$1.applyOrElse(ServerBackend.scala:200)\n",
       "\tat com.databricks.rpc.ServerBackend$$anonfun$commonReceive$1.applyOrElse(ServerBackend.scala:200)\n",
       "\tat com.databricks.rpc.ServerBackend.internalReceive0(ServerBackend.scala:171)\n",
       "\tat com.databricks.rpc.ServerBackend.$anonfun$internalReceive$1(ServerBackend.scala:147)\n",
       "\tat com.databricks.logging.UsageLogging.$anonfun$recordOperation$1(UsageLogging.scala:528)\n",
       "\tat com.databricks.logging.UsageLogging.executeThunkAndCaptureResultTags$1(UsageLogging.scala:633)\n",
       "\tat com.databricks.logging.UsageLogging.$anonfun$recordOperationWithResultTags$4(UsageLogging.scala:656)\n",
       "\tat com.databricks.logging.AttributionContextTracing.$anonfun$withAttributionContext$1(AttributionContextTracing.scala:48)\n",
       "\tat com.databricks.logging.AttributionContext$.$anonfun$withValue$1(AttributionContext.scala:276)\n",
       "\tat scala.util.DynamicVariable.withValue(DynamicVariable.scala:62)\n",
       "\tat com.databricks.logging.AttributionContext$.withValue(AttributionContext.scala:272)\n",
       "\tat com.databricks.logging.AttributionContextTracing.withAttributionContext(AttributionContextTracing.scala:46)\n",
       "\tat com.databricks.logging.AttributionContextTracing.withAttributionContext$(AttributionContextTracing.scala:43)\n",
       "\tat com.databricks.rpc.ServerBackend.withAttributionContext(ServerBackend.scala:22)\n",
       "\tat com.databricks.logging.AttributionContextTracing.withAttributionTags(AttributionContextTracing.scala:95)\n",
       "\tat com.databricks.logging.AttributionContextTracing.withAttributionTags$(AttributionContextTracing.scala:76)\n",
       "\tat com.databricks.rpc.ServerBackend.withAttributionTags(ServerBackend.scala:22)\n",
       "\tat com.databricks.logging.UsageLogging.recordOperationWithResultTags(UsageLogging.scala:628)\n",
       "\tat com.databricks.logging.UsageLogging.recordOperationWithResultTags$(UsageLogging.scala:537)\n",
       "\tat com.databricks.rpc.ServerBackend.recordOperationWithResultTags(ServerBackend.scala:22)\n",
       "\tat com.databricks.logging.UsageLogging.recordOperation(UsageLogging.scala:529)\n",
       "\tat com.databricks.logging.UsageLogging.recordOperation$(UsageLogging.scala:495)\n",
       "\tat com.databricks.rpc.ServerBackend.recordOperation(ServerBackend.scala:22)\n",
       "\tat com.databricks.rpc.ServerBackend.internalReceive(ServerBackend.scala:146)\n",
       "\tat com.databricks.rpc.JettyServer$RequestManager.handleRPC(JettyServer.scala:1021)\n",
       "\tat com.databricks.rpc.JettyServer$RequestManager.handleRequestAndRespond(JettyServer.scala:942)\n",
       "\tat com.databricks.rpc.JettyServer$RequestManager.$anonfun$handleHttp$6(JettyServer.scala:546)\n",
       "\tat com.databricks.rpc.JettyServer$RequestManager.$anonfun$handleHttp$6$adapted(JettyServer.scala:515)\n",
       "\tat com.databricks.logging.activity.ActivityContextFactory$.$anonfun$withActivityInternal$6(ActivityContextFactory.scala:545)\n",
       "\tat com.databricks.logging.AttributionContextTracing.$anonfun$withAttributionContext$1(AttributionContextTracing.scala:48)\n",
       "\tat com.databricks.logging.AttributionContext$.$anonfun$withValue$1(AttributionContext.scala:276)\n",
       "\tat scala.util.DynamicVariable.withValue(DynamicVariable.scala:62)\n",
       "\tat com.databricks.logging.AttributionContext$.withValue(AttributionContext.scala:272)\n",
       "\tat com.databricks.logging.AttributionContextTracing.withAttributionContext(AttributionContextTracing.scala:46)\n",
       "\tat com.databricks.logging.AttributionContextTracing.withAttributionContext$(AttributionContextTracing.scala:43)\n",
       "\tat com.databricks.logging.activity.ActivityContextFactory$.withAttributionContext(ActivityContextFactory.scala:48)\n",
       "\tat com.databricks.logging.activity.ActivityContextFactory$.$anonfun$withActivityInternal$3(ActivityContextFactory.scala:545)\n",
       "\tat com.databricks.context.integrity.IntegrityCheckContext$ThreadLocalStorage$.withValue(IntegrityCheckContext.scala:73)\n",
       "\tat com.databricks.logging.activity.ActivityContextFactory$.withActivityInternal(ActivityContextFactory.scala:523)\n",
       "\tat com.databricks.logging.activity.ActivityContextFactory$.withServiceRequestActivity(ActivityContextFactory.scala:175)\n",
       "\tat com.databricks.rpc.JettyServer$RequestManager.handleHttp(JettyServer.scala:515)\n",
       "\tat com.databricks.rpc.JettyServer$RequestManager.doPost(JettyServer.scala:405)\n",
       "\tat javax.servlet.http.HttpServlet.service(HttpServlet.java:665)\n",
       "\tat com.databricks.rpc.HttpServletWithPatch.service(HttpServletWithPatch.scala:33)\n",
       "\tat javax.servlet.http.HttpServlet.service(HttpServlet.java:750)\n",
       "\tat org.eclipse.jetty.servlet.ServletHolder.handle(ServletHolder.java:799)\n",
       "\tat org.eclipse.jetty.servlet.ServletHandler.doHandle(ServletHandler.java:554)\n",
       "\tat org.eclipse.jetty.server.handler.ScopedHandler.nextScope(ScopedHandler.java:190)\n",
       "\tat org.eclipse.jetty.servlet.ServletHandler.doScope(ServletHandler.java:505)\n",
       "\tat org.eclipse.jetty.server.handler.ScopedHandler.handle(ScopedHandler.java:141)\n",
       "\tat org.eclipse.jetty.server.handler.HandlerWrapper.handle(HandlerWrapper.java:127)\n",
       "\tat org.eclipse.jetty.server.Server.handle(Server.java:516)\n",
       "\tat org.eclipse.jetty.server.HttpChannel.lambda$handle$1(HttpChannel.java:487)\n",
       "\tat org.eclipse.jetty.server.HttpChannel.dispatch(HttpChannel.java:732)\n",
       "\tat org.eclipse.jetty.server.HttpChannel.handle(HttpChannel.java:479)\n",
       "\tat org.eclipse.jetty.server.HttpConnection.onFillable(HttpConnection.java:277)\n",
       "\tat org.eclipse.jetty.io.AbstractConnection$ReadCallback.succeeded(AbstractConnection.java:311)\n",
       "\tat org.eclipse.jetty.io.FillInterest.fillable(FillInterest.java:105)\n",
       "\tat org.eclipse.jetty.io.ssl.SslConnection$DecryptedEndPoint.onFillable(SslConnection.java:555)\n",
       "\tat org.eclipse.jetty.io.ssl.SslConnection.onFillable(SslConnection.java:410)\n",
       "\tat org.eclipse.jetty.io.ssl.SslConnection$2.succeeded(SslConnection.java:164)\n",
       "\tat org.eclipse.jetty.io.FillInterest.fillable(FillInterest.java:105)\n",
       "\tat org.eclipse.jetty.io.ChannelEndPoint$1.run(ChannelEndPoint.java:104)\n",
       "\tat org.eclipse.jetty.util.thread.strategy.EatWhatYouKill.runTask(EatWhatYouKill.java:338)\n",
       "\tat org.eclipse.jetty.util.thread.strategy.EatWhatYouKill.doProduce(EatWhatYouKill.java:315)\n",
       "\tat org.eclipse.jetty.util.thread.strategy.EatWhatYouKill.tryProduce(EatWhatYouKill.java:173)\n",
       "\tat org.eclipse.jetty.util.thread.strategy.EatWhatYouKill.run(EatWhatYouKill.java:131)\n",
       "\tat org.eclipse.jetty.util.thread.ReservedThreadExecutor$ReservedThread.run(ReservedThreadExecutor.java:409)\n",
       "\tat com.databricks.rpc.InstrumentedQueuedThreadPool$$anon$1.$anonfun$run$2(InstrumentedQueuedThreadPool.scala:105)\n",
       "\tat scala.runtime.java8.JFunction0$mcV$sp.apply(JFunction0$mcV$sp.java:23)\n",
       "\tat com.databricks.logging.AttributionContextTracing.$anonfun$withAttributionContext$1(AttributionContextTracing.scala:48)\n",
       "\tat com.databricks.logging.AttributionContext$.$anonfun$withValue$1(AttributionContext.scala:276)\n",
       "\tat scala.util.DynamicVariable.withValue(DynamicVariable.scala:62)\n",
       "\tat com.databricks.logging.AttributionContext$.withValue(AttributionContext.scala:272)\n",
       "\tat com.databricks.logging.AttributionContextTracing.withAttributionContext(AttributionContextTracing.scala:46)\n",
       "\tat com.databricks.logging.AttributionContextTracing.withAttributionContext$(AttributionContextTracing.scala:43)\n",
       "\tat com.databricks.rpc.InstrumentedQueuedThreadPool.withAttributionContext(InstrumentedQueuedThreadPool.scala:45)\n",
       "\tat com.databricks.rpc.InstrumentedQueuedThreadPool$$anon$1.$anonfun$run$1(InstrumentedQueuedThreadPool.scala:105)\n",
       "\tat scala.runtime.java8.JFunction0$mcV$sp.apply(JFunction0$mcV$sp.java:23)\n",
       "\tat com.databricks.instrumentation.QueuedThreadPoolInstrumenter.trackActiveThreads(QueuedThreadPoolInstrumenter.scala:110)\n",
       "\tat com.databricks.instrumentation.QueuedThreadPoolInstrumenter.trackActiveThreads$(QueuedThreadPoolInstrumenter.scala:107)\n",
       "\tat com.databricks.rpc.InstrumentedQueuedThreadPool.trackActiveThreads(InstrumentedQueuedThreadPool.scala:45)\n",
       "\tat com.databricks.rpc.InstrumentedQueuedThreadPool$$anon$1.run(InstrumentedQueuedThreadPool.scala:87)\n",
       "\tat org.eclipse.jetty.util.thread.QueuedThreadPool.runJob(QueuedThreadPool.java:883)\n",
       "\tat org.eclipse.jetty.util.thread.QueuedThreadPool$Runner.run(QueuedThreadPool.java:1034)\n",
       "\tat java.lang.Thread.run(Thread.java:750)"
      ]
     },
     "metadata": {
      "application/vnd.databricks.v1+output": {
       "addedWidgets": {},
       "arguments": {},
       "datasetInfos": [],
       "jupyterProps": null,
       "metadata": {
        "errorSummary": "Cancelled"
       },
       "removedWidgets": [],
       "sqlProps": null,
       "stackFrames": [
        "com.databricks.backend.common.rpc.CommandCancelledException",
        "\tat com.databricks.spark.chauffeur.SequenceExecutionState.$anonfun$cancel$5(SequenceExecutionState.scala:136)",
        "\tat scala.Option.getOrElse(Option.scala:189)",
        "\tat com.databricks.spark.chauffeur.SequenceExecutionState.$anonfun$cancel$3(SequenceExecutionState.scala:136)",
        "\tat com.databricks.spark.chauffeur.SequenceExecutionState.$anonfun$cancel$3$adapted(SequenceExecutionState.scala:133)",
        "\tat scala.collection.immutable.Range.foreach(Range.scala:158)",
        "\tat com.databricks.spark.chauffeur.SequenceExecutionState.cancel(SequenceExecutionState.scala:133)",
        "\tat com.databricks.spark.chauffeur.ExecContextState.cancelRunningSequence(ExecContextState.scala:728)",
        "\tat com.databricks.spark.chauffeur.ExecContextState.$anonfun$cancel$1(ExecContextState.scala:446)",
        "\tat scala.Option.getOrElse(Option.scala:189)",
        "\tat com.databricks.spark.chauffeur.ExecContextState.cancel(ExecContextState.scala:446)",
        "\tat com.databricks.spark.chauffeur.ExecutionContextManagerV1.cancelExecution(ExecutionContextManagerV1.scala:464)",
        "\tat com.databricks.spark.chauffeur.ChauffeurState.$anonfun$process$1(ChauffeurState.scala:571)",
        "\tat com.databricks.logging.UsageLogging.$anonfun$recordOperation$1(UsageLogging.scala:528)",
        "\tat com.databricks.logging.UsageLogging.executeThunkAndCaptureResultTags$1(UsageLogging.scala:633)",
        "\tat com.databricks.logging.UsageLogging.$anonfun$recordOperationWithResultTags$4(UsageLogging.scala:656)",
        "\tat com.databricks.logging.AttributionContextTracing.$anonfun$withAttributionContext$1(AttributionContextTracing.scala:48)",
        "\tat com.databricks.logging.AttributionContext$.$anonfun$withValue$1(AttributionContext.scala:276)",
        "\tat scala.util.DynamicVariable.withValue(DynamicVariable.scala:62)",
        "\tat com.databricks.logging.AttributionContext$.withValue(AttributionContext.scala:272)",
        "\tat com.databricks.logging.AttributionContextTracing.withAttributionContext(AttributionContextTracing.scala:46)",
        "\tat com.databricks.logging.AttributionContextTracing.withAttributionContext$(AttributionContextTracing.scala:43)",
        "\tat com.databricks.spark.chauffeur.ChauffeurState.withAttributionContext(ChauffeurState.scala:51)",
        "\tat com.databricks.logging.AttributionContextTracing.withAttributionTags(AttributionContextTracing.scala:95)",
        "\tat com.databricks.logging.AttributionContextTracing.withAttributionTags$(AttributionContextTracing.scala:76)",
        "\tat com.databricks.spark.chauffeur.ChauffeurState.withAttributionTags(ChauffeurState.scala:51)",
        "\tat com.databricks.logging.UsageLogging.recordOperationWithResultTags(UsageLogging.scala:628)",
        "\tat com.databricks.logging.UsageLogging.recordOperationWithResultTags$(UsageLogging.scala:537)",
        "\tat com.databricks.spark.chauffeur.ChauffeurState.recordOperationWithResultTags(ChauffeurState.scala:51)",
        "\tat com.databricks.logging.UsageLogging.recordOperation(UsageLogging.scala:529)",
        "\tat com.databricks.logging.UsageLogging.recordOperation$(UsageLogging.scala:495)",
        "\tat com.databricks.spark.chauffeur.ChauffeurState.recordOperation(ChauffeurState.scala:51)",
        "\tat com.databricks.spark.chauffeur.ChauffeurState.process(ChauffeurState.scala:553)",
        "\tat com.databricks.spark.chauffeur.Chauffeur$$anon$1$$anonfun$receive$1.handleDriverRequest$1(Chauffeur.scala:846)",
        "\tat com.databricks.spark.chauffeur.Chauffeur$$anon$1$$anonfun$receive$1.$anonfun$applyOrElse$5(Chauffeur.scala:872)",
        "\tat com.databricks.logging.UsageLogging.executeThunkAndCaptureResultTags$1(UsageLogging.scala:633)",
        "\tat com.databricks.logging.UsageLogging.$anonfun$recordOperationWithResultTags$4(UsageLogging.scala:656)",
        "\tat com.databricks.logging.AttributionContextTracing.$anonfun$withAttributionContext$1(AttributionContextTracing.scala:48)",
        "\tat com.databricks.logging.AttributionContext$.$anonfun$withValue$1(AttributionContext.scala:276)",
        "\tat scala.util.DynamicVariable.withValue(DynamicVariable.scala:62)",
        "\tat com.databricks.logging.AttributionContext$.withValue(AttributionContext.scala:272)",
        "\tat com.databricks.logging.AttributionContextTracing.withAttributionContext(AttributionContextTracing.scala:46)",
        "\tat com.databricks.logging.AttributionContextTracing.withAttributionContext$(AttributionContextTracing.scala:43)",
        "\tat com.databricks.rpc.ServerBackend.withAttributionContext(ServerBackend.scala:22)",
        "\tat com.databricks.logging.AttributionContextTracing.withAttributionTags(AttributionContextTracing.scala:95)",
        "\tat com.databricks.logging.AttributionContextTracing.withAttributionTags$(AttributionContextTracing.scala:76)",
        "\tat com.databricks.rpc.ServerBackend.withAttributionTags(ServerBackend.scala:22)",
        "\tat com.databricks.logging.UsageLogging.recordOperationWithResultTags(UsageLogging.scala:628)",
        "\tat com.databricks.logging.UsageLogging.recordOperationWithResultTags$(UsageLogging.scala:537)",
        "\tat com.databricks.rpc.ServerBackend.recordOperationWithResultTags(ServerBackend.scala:22)",
        "\tat com.databricks.spark.chauffeur.Chauffeur$$anon$1$$anonfun$receive$1.handleDriverRequestWithUsageLogging$1(Chauffeur.scala:871)",
        "\tat com.databricks.spark.chauffeur.Chauffeur$$anon$1$$anonfun$receive$1.applyOrElse(Chauffeur.scala:926)",
        "\tat com.databricks.spark.chauffeur.Chauffeur$$anon$1$$anonfun$receive$1.applyOrElse(Chauffeur.scala:719)",
        "\tat com.databricks.rpc.ServerBackend.$anonfun$internalReceive0$2(ServerBackend.scala:174)",
        "\tat com.databricks.rpc.ServerBackend$$anonfun$commonReceive$1.applyOrElse(ServerBackend.scala:200)",
        "\tat com.databricks.rpc.ServerBackend$$anonfun$commonReceive$1.applyOrElse(ServerBackend.scala:200)",
        "\tat com.databricks.rpc.ServerBackend.internalReceive0(ServerBackend.scala:171)",
        "\tat com.databricks.rpc.ServerBackend.$anonfun$internalReceive$1(ServerBackend.scala:147)",
        "\tat com.databricks.logging.UsageLogging.$anonfun$recordOperation$1(UsageLogging.scala:528)",
        "\tat com.databricks.logging.UsageLogging.executeThunkAndCaptureResultTags$1(UsageLogging.scala:633)",
        "\tat com.databricks.logging.UsageLogging.$anonfun$recordOperationWithResultTags$4(UsageLogging.scala:656)",
        "\tat com.databricks.logging.AttributionContextTracing.$anonfun$withAttributionContext$1(AttributionContextTracing.scala:48)",
        "\tat com.databricks.logging.AttributionContext$.$anonfun$withValue$1(AttributionContext.scala:276)",
        "\tat scala.util.DynamicVariable.withValue(DynamicVariable.scala:62)",
        "\tat com.databricks.logging.AttributionContext$.withValue(AttributionContext.scala:272)",
        "\tat com.databricks.logging.AttributionContextTracing.withAttributionContext(AttributionContextTracing.scala:46)",
        "\tat com.databricks.logging.AttributionContextTracing.withAttributionContext$(AttributionContextTracing.scala:43)",
        "\tat com.databricks.rpc.ServerBackend.withAttributionContext(ServerBackend.scala:22)",
        "\tat com.databricks.logging.AttributionContextTracing.withAttributionTags(AttributionContextTracing.scala:95)",
        "\tat com.databricks.logging.AttributionContextTracing.withAttributionTags$(AttributionContextTracing.scala:76)",
        "\tat com.databricks.rpc.ServerBackend.withAttributionTags(ServerBackend.scala:22)",
        "\tat com.databricks.logging.UsageLogging.recordOperationWithResultTags(UsageLogging.scala:628)",
        "\tat com.databricks.logging.UsageLogging.recordOperationWithResultTags$(UsageLogging.scala:537)",
        "\tat com.databricks.rpc.ServerBackend.recordOperationWithResultTags(ServerBackend.scala:22)",
        "\tat com.databricks.logging.UsageLogging.recordOperation(UsageLogging.scala:529)",
        "\tat com.databricks.logging.UsageLogging.recordOperation$(UsageLogging.scala:495)",
        "\tat com.databricks.rpc.ServerBackend.recordOperation(ServerBackend.scala:22)",
        "\tat com.databricks.rpc.ServerBackend.internalReceive(ServerBackend.scala:146)",
        "\tat com.databricks.rpc.JettyServer$RequestManager.handleRPC(JettyServer.scala:1021)",
        "\tat com.databricks.rpc.JettyServer$RequestManager.handleRequestAndRespond(JettyServer.scala:942)",
        "\tat com.databricks.rpc.JettyServer$RequestManager.$anonfun$handleHttp$6(JettyServer.scala:546)",
        "\tat com.databricks.rpc.JettyServer$RequestManager.$anonfun$handleHttp$6$adapted(JettyServer.scala:515)",
        "\tat com.databricks.logging.activity.ActivityContextFactory$.$anonfun$withActivityInternal$6(ActivityContextFactory.scala:545)",
        "\tat com.databricks.logging.AttributionContextTracing.$anonfun$withAttributionContext$1(AttributionContextTracing.scala:48)",
        "\tat com.databricks.logging.AttributionContext$.$anonfun$withValue$1(AttributionContext.scala:276)",
        "\tat scala.util.DynamicVariable.withValue(DynamicVariable.scala:62)",
        "\tat com.databricks.logging.AttributionContext$.withValue(AttributionContext.scala:272)",
        "\tat com.databricks.logging.AttributionContextTracing.withAttributionContext(AttributionContextTracing.scala:46)",
        "\tat com.databricks.logging.AttributionContextTracing.withAttributionContext$(AttributionContextTracing.scala:43)",
        "\tat com.databricks.logging.activity.ActivityContextFactory$.withAttributionContext(ActivityContextFactory.scala:48)",
        "\tat com.databricks.logging.activity.ActivityContextFactory$.$anonfun$withActivityInternal$3(ActivityContextFactory.scala:545)",
        "\tat com.databricks.context.integrity.IntegrityCheckContext$ThreadLocalStorage$.withValue(IntegrityCheckContext.scala:73)",
        "\tat com.databricks.logging.activity.ActivityContextFactory$.withActivityInternal(ActivityContextFactory.scala:523)",
        "\tat com.databricks.logging.activity.ActivityContextFactory$.withServiceRequestActivity(ActivityContextFactory.scala:175)",
        "\tat com.databricks.rpc.JettyServer$RequestManager.handleHttp(JettyServer.scala:515)",
        "\tat com.databricks.rpc.JettyServer$RequestManager.doPost(JettyServer.scala:405)",
        "\tat javax.servlet.http.HttpServlet.service(HttpServlet.java:665)",
        "\tat com.databricks.rpc.HttpServletWithPatch.service(HttpServletWithPatch.scala:33)",
        "\tat javax.servlet.http.HttpServlet.service(HttpServlet.java:750)",
        "\tat org.eclipse.jetty.servlet.ServletHolder.handle(ServletHolder.java:799)",
        "\tat org.eclipse.jetty.servlet.ServletHandler.doHandle(ServletHandler.java:554)",
        "\tat org.eclipse.jetty.server.handler.ScopedHandler.nextScope(ScopedHandler.java:190)",
        "\tat org.eclipse.jetty.servlet.ServletHandler.doScope(ServletHandler.java:505)",
        "\tat org.eclipse.jetty.server.handler.ScopedHandler.handle(ScopedHandler.java:141)",
        "\tat org.eclipse.jetty.server.handler.HandlerWrapper.handle(HandlerWrapper.java:127)",
        "\tat org.eclipse.jetty.server.Server.handle(Server.java:516)",
        "\tat org.eclipse.jetty.server.HttpChannel.lambda$handle$1(HttpChannel.java:487)",
        "\tat org.eclipse.jetty.server.HttpChannel.dispatch(HttpChannel.java:732)",
        "\tat org.eclipse.jetty.server.HttpChannel.handle(HttpChannel.java:479)",
        "\tat org.eclipse.jetty.server.HttpConnection.onFillable(HttpConnection.java:277)",
        "\tat org.eclipse.jetty.io.AbstractConnection$ReadCallback.succeeded(AbstractConnection.java:311)",
        "\tat org.eclipse.jetty.io.FillInterest.fillable(FillInterest.java:105)",
        "\tat org.eclipse.jetty.io.ssl.SslConnection$DecryptedEndPoint.onFillable(SslConnection.java:555)",
        "\tat org.eclipse.jetty.io.ssl.SslConnection.onFillable(SslConnection.java:410)",
        "\tat org.eclipse.jetty.io.ssl.SslConnection$2.succeeded(SslConnection.java:164)",
        "\tat org.eclipse.jetty.io.FillInterest.fillable(FillInterest.java:105)",
        "\tat org.eclipse.jetty.io.ChannelEndPoint$1.run(ChannelEndPoint.java:104)",
        "\tat org.eclipse.jetty.util.thread.strategy.EatWhatYouKill.runTask(EatWhatYouKill.java:338)",
        "\tat org.eclipse.jetty.util.thread.strategy.EatWhatYouKill.doProduce(EatWhatYouKill.java:315)",
        "\tat org.eclipse.jetty.util.thread.strategy.EatWhatYouKill.tryProduce(EatWhatYouKill.java:173)",
        "\tat org.eclipse.jetty.util.thread.strategy.EatWhatYouKill.run(EatWhatYouKill.java:131)",
        "\tat org.eclipse.jetty.util.thread.ReservedThreadExecutor$ReservedThread.run(ReservedThreadExecutor.java:409)",
        "\tat com.databricks.rpc.InstrumentedQueuedThreadPool$$anon$1.$anonfun$run$2(InstrumentedQueuedThreadPool.scala:105)",
        "\tat scala.runtime.java8.JFunction0$mcV$sp.apply(JFunction0$mcV$sp.java:23)",
        "\tat com.databricks.logging.AttributionContextTracing.$anonfun$withAttributionContext$1(AttributionContextTracing.scala:48)",
        "\tat com.databricks.logging.AttributionContext$.$anonfun$withValue$1(AttributionContext.scala:276)",
        "\tat scala.util.DynamicVariable.withValue(DynamicVariable.scala:62)",
        "\tat com.databricks.logging.AttributionContext$.withValue(AttributionContext.scala:272)",
        "\tat com.databricks.logging.AttributionContextTracing.withAttributionContext(AttributionContextTracing.scala:46)",
        "\tat com.databricks.logging.AttributionContextTracing.withAttributionContext$(AttributionContextTracing.scala:43)",
        "\tat com.databricks.rpc.InstrumentedQueuedThreadPool.withAttributionContext(InstrumentedQueuedThreadPool.scala:45)",
        "\tat com.databricks.rpc.InstrumentedQueuedThreadPool$$anon$1.$anonfun$run$1(InstrumentedQueuedThreadPool.scala:105)",
        "\tat scala.runtime.java8.JFunction0$mcV$sp.apply(JFunction0$mcV$sp.java:23)",
        "\tat com.databricks.instrumentation.QueuedThreadPoolInstrumenter.trackActiveThreads(QueuedThreadPoolInstrumenter.scala:110)",
        "\tat com.databricks.instrumentation.QueuedThreadPoolInstrumenter.trackActiveThreads$(QueuedThreadPoolInstrumenter.scala:107)",
        "\tat com.databricks.rpc.InstrumentedQueuedThreadPool.trackActiveThreads(InstrumentedQueuedThreadPool.scala:45)",
        "\tat com.databricks.rpc.InstrumentedQueuedThreadPool$$anon$1.run(InstrumentedQueuedThreadPool.scala:87)",
        "\tat org.eclipse.jetty.util.thread.QueuedThreadPool.runJob(QueuedThreadPool.java:883)",
        "\tat org.eclipse.jetty.util.thread.QueuedThreadPool$Runner.run(QueuedThreadPool.java:1034)",
        "\tat java.lang.Thread.run(Thread.java:750)"
       ],
       "type": "baseError"
      }
     },
     "output_type": "display_data"
    }
   ],
   "source": [
    "# Azure Storage settings\n",
    "input_storage_account = \"homework2corvin\"\n",
    "output_storage_account = \"developmentwesteurope6o\"\n",
    "input_container = \"hw2\"\n",
    "output_container = \"data\"\n",
    "\n",
    "# Setting up Storage account keys\n",
    "spark.conf.set(\n",
    "    f\"fs.azure.account.key.{input_storage_account}.blob.core.windows.net\",\n",
    "    dbutils.secrets.get(scope=\"hw2secret\", key=\"AZURE_STORAGE_ACCOUNT_KEY_SOURCE\"))\n",
    "\n",
    "spark.conf.set(\n",
    "    f\"fs.azure.account.key.{output_storage_account}.blob.core.windows.net\",\n",
    "    dbutils.secrets.get(scope=\"hw2secret\", key=\"AZURE_STORAGE_ACCOUNT_KEY_DESTINATION\"))\n",
    "\n",
    "# Create database if it doesn't exist\n",
    "spark.sql(\"CREATE DATABASE IF NOT EXISTS mydatabase\")\n",
    "\n",
    "# Read Expedia data from the source container and save it in Delta format to the data output container \n",
    "expedia_df = spark.read.format(\"avro\").load(f\"wasbs://{input_container}@{input_storage_account}.blob.core.windows.net/expedia/\")\n",
    "\n",
    "expedia_df.write.format(\"delta\").mode(\"overwrite\") \\\n",
    "    .option(\"overwriteSchema\", \"true\") \\\n",
    "    .save(f\"wasbs://{output_container}@{output_storage_account}.blob.core.windows.net/delta/expedia/\")\n",
    "\n",
    "# Register the Expedia Delta table in the Metastore\n",
    "spark.sql(\"DROP TABLE IF EXISTS mydatabase.expedia\")\n",
    "spark.sql(f\"\"\"\n",
    "    CREATE TABLE mydatabase.expedia\n",
    "    USING DELTA\n",
    "    LOCATION 'wasbs://{output_container}@{output_storage_account}.blob.core.windows.net/delta/expedia/'\n",
    "\"\"\")\n",
    "\n",
    "# Read Hotel-Weather data from the source container and save it in Delta format to the data output container, also partitioning is applied\n",
    "hotel_weather_df = spark.read.format(\"parquet\").load(f\"wasbs://{input_container}@{input_storage_account}.blob.core.windows.net/hotel-weather/hotel-weather/\")\n",
    "\n",
    "hotel_weather_df.write.format(\"delta\").mode(\"overwrite\") \\\n",
    "    .partitionBy(\"year\", \"month\", \"day\") \\\n",
    "    .option(\"overwriteSchema\", \"true\") \\\n",
    "    .save(f\"wasbs://{output_container}@{output_storage_account}.blob.core.windows.net/delta/hotel-weather/\")\n",
    "\n",
    "# Register the Hotel-Weather Delta table in the Metastore\n",
    "spark.sql(\"DROP TABLE IF EXISTS mydatabase.hotel_weather\")\n",
    "spark.sql(f\"\"\"\n",
    "    CREATE TABLE mydatabase.hotel_weather\n",
    "    USING DELTA\n",
    "    LOCATION 'wasbs://{output_container}@{output_storage_account}.blob.core.windows.net/delta/hotel-weather/'\n",
    "\"\"\")\n",
    "\n",
    "# Refresh cache to see the most up-to-date data\n",
    "spark.sql(\"REFRESH TABLE mydatabase.expedia\")\n",
    "spark.sql(\"REFRESH TABLE mydatabase.hotel_weather\")\n",
    "\n",
    "#Due to the same column name in the two dataframes, we need to rename the column\n",
    "hotel_weather_df = hotel_weather_df.withColumnRenamed(\"id\", \"accomodation_id\")\n",
    "# Join the Expedia and Hotel Weather data\n",
    "joined_df = expedia_df.join(hotel_weather_df, expedia_df.hotel_id == hotel_weather_df.accomodation_id, \"left\")\n",
    "\n",
    "# Save the intermediate DataFrame partitioned\n",
    "joined_df.write.format(\"parquet\") \\\n",
    "    .mode(\"overwrite\") \\\n",
    "    .partitionBy(\"year\", \"month\", \"day\") \\\n",
    "    .save(f\"wasbs://{output_container}@{output_storage_account}.blob.core.windows.net/joined_data/\")\n"
   ]
  },
  {
   "cell_type": "code",
   "execution_count": 0,
   "metadata": {
    "application/vnd.databricks.v1+cell": {
     "cellMetadata": {
      "byteLimit": 2048000,
      "implicitDf": true,
      "rowLimit": 10000
     },
     "collapsed": true,
     "inputWidgets": {},
     "nuid": "63927e74-5e2d-4cc2-be6d-9d343831928f",
     "showTitle": true,
     "tableResultSettingsMap": {},
     "title": "1st_query_with_comments"
    }
   },
   "outputs": [
    {
     "data": {
      "text/html": [
       "<style scoped>\n",
       "  .table-result-container {\n",
       "    max-height: 300px;\n",
       "    overflow: auto;\n",
       "  }\n",
       "  table, th, td {\n",
       "    border: 1px solid black;\n",
       "    border-collapse: collapse;\n",
       "  }\n",
       "  th, td {\n",
       "    padding: 5px;\n",
       "  }\n",
       "  th {\n",
       "    text-align: left;\n",
       "  }\n",
       "</style><div class='table-result-container'><table class='table-result'><thead style='background-color: white'><tr><th>address</th><th>year</th><th>month</th><th>temp_diff</th></tr></thead><tbody><tr><td>Comfort Inn</td><td>2016</td><td>10</td><td>23.5</td></tr><tr><td>Studio 6</td><td>2016</td><td>10</td><td>23.0</td></tr><tr><td>Quality Inn and Suites</td><td>2017</td><td>9</td><td>21.7</td></tr><tr><td>Motel 6</td><td>2016</td><td>10</td><td>21.7</td></tr><tr><td>Quality Inn and Suites</td><td>2016</td><td>10</td><td>21.1</td></tr><tr><td>Americas Best Value Inn</td><td>2016</td><td>10</td><td>20.3</td></tr><tr><td>Quality Inn & Suites</td><td>2017</td><td>9</td><td>20.2</td></tr><tr><td>Rodeway Inn</td><td>2016</td><td>10</td><td>20.2</td></tr><tr><td>Comfort Inn</td><td>2017</td><td>9</td><td>19.9</td></tr><tr><td>Americas Best Value Inn</td><td>2017</td><td>9</td><td>19.6</td></tr></tbody></table></div>"
      ]
     },
     "metadata": {
      "application/vnd.databricks.v1+output": {
       "addedWidgets": {},
       "aggData": [],
       "aggError": "",
       "aggOverflow": false,
       "aggSchema": [],
       "aggSeriesLimitReached": false,
       "aggType": "",
       "arguments": {},
       "columnCustomDisplayInfos": {},
       "data": [
        [
         "Comfort Inn",
         2016,
         10,
         23.5
        ],
        [
         "Studio 6",
         2016,
         10,
         23
        ],
        [
         "Quality Inn and Suites",
         2017,
         9,
         21.7
        ],
        [
         "Motel 6",
         2016,
         10,
         21.7
        ],
        [
         "Quality Inn and Suites",
         2016,
         10,
         21.1
        ],
        [
         "Americas Best Value Inn",
         2016,
         10,
         20.3
        ],
        [
         "Quality Inn & Suites",
         2017,
         9,
         20.2
        ],
        [
         "Rodeway Inn",
         2016,
         10,
         20.2
        ],
        [
         "Comfort Inn",
         2017,
         9,
         19.9
        ],
        [
         "Americas Best Value Inn",
         2017,
         9,
         19.6
        ]
       ],
       "datasetInfos": [],
       "dbfsResultPath": null,
       "isJsonSchema": true,
       "metadata": {
        "createTempViewForImplicitDf": true,
        "dataframeName": "_sqldf",
        "executionCount": 4
       },
       "overflow": false,
       "plotOptions": {
        "customPlotOptions": {},
        "displayType": "table",
        "pivotAggregation": null,
        "pivotColumns": null,
        "xColumns": null,
        "yColumns": null
       },
       "removedWidgets": [],
       "schema": [
        {
         "metadata": "{}",
         "name": "address",
         "type": "\"string\""
        },
        {
         "metadata": "{}",
         "name": "year",
         "type": "\"integer\""
        },
        {
         "metadata": "{}",
         "name": "month",
         "type": "\"integer\""
        },
        {
         "metadata": "{}",
         "name": "temp_diff",
         "type": "\"double\""
        }
       ],
       "type": "table"
      }
     },
     "output_type": "display_data"
    }
   ],
   "source": [
    "%sql\n",
    "SELECT \n",
    "    address,    -- Select the hotel address.\n",
    "    year,       -- Select the year from the data.\n",
    "    month,      -- Select the month from the data.\n",
    "    -- Calculate the temperature difference within each group:\n",
    "    --   1. Find the maximum average temperature (avg_tmpr_c) in the group.\n",
    "    --   2. Find the minimum average temperature (avg_tmpr_c) in the group.\n",
    "    --   3. Compute the absolute difference between these values.\n",
    "    --   4. Round the result to 2 decimal places and alias it as 'temp_diff'.\n",
    "    ROUND(ABS(MAX(avg_tmpr_c) - MIN(avg_tmpr_c)), 2) AS temp_diff\n",
    "FROM mydatabase.hotel_weather   -- Data is sourced from the hotel_weather table.\n",
    "GROUP BY address, year, month    -- Group the records by hotel address, year, and month.\n",
    "ORDER BY temp_diff DESC          -- Order the groups by temperature difference in descending order.\n",
    "LIMIT 10;                       -- Limit the result to the top 10 groups with the largest temperature differences.\n"
   ]
  },
  {
   "cell_type": "code",
   "execution_count": 0,
   "metadata": {
    "application/vnd.databricks.v1+cell": {
     "cellMetadata": {
      "byteLimit": 2048000,
      "implicitDf": true,
      "rowLimit": 10000
     },
     "collapsed": true,
     "inputWidgets": {},
     "nuid": "9bf92a05-8414-403a-a290-f7a3298edd59",
     "showTitle": true,
     "tableResultSettingsMap": {},
     "title": "1st_query_explain"
    }
   },
   "outputs": [
    {
     "data": {
      "text/html": [
       "<style scoped>\n",
       "  .table-result-container {\n",
       "    max-height: 300px;\n",
       "    overflow: auto;\n",
       "  }\n",
       "  table, th, td {\n",
       "    border: 1px solid black;\n",
       "    border-collapse: collapse;\n",
       "  }\n",
       "  th, td {\n",
       "    padding: 5px;\n",
       "  }\n",
       "  th {\n",
       "    text-align: left;\n",
       "  }\n",
       "</style><div class='table-result-container'><table class='table-result'><thead style='background-color: white'><tr><th>plan</th></tr></thead><tbody><tr><td>== Physical Plan ==\n",
       "AdaptiveSparkPlan isFinalPlan=false\n",
       "+- == Initial Plan ==\n",
       "   ColumnarToRow\n",
       "   +- PhotonResultStage\n",
       "      +- PhotonTopK(sortOrder=[temp_diff#361 DESC NULLS LAST], partitionOrderCount=0)\n",
       "         +- PhotonShuffleExchangeSource\n",
       "            +- PhotonShuffleMapStage\n",
       "               +- PhotonShuffleExchangeSink SinglePartition\n",
       "                  +- PhotonTopK(sortOrder=[temp_diff#361 DESC NULLS LAST], partitionOrderCount=0)\n",
       "                     +- PhotonGroupingAgg(keys=[address#391, year#402, month#403], functions=[finalmerge_max(merge max#409) AS max(avg_tmpr_c#392)#405, finalmerge_min(merge min#411) AS min(avg_tmpr_c#392)#406])\n",
       "                        +- PhotonShuffleExchangeSource\n",
       "                           +- PhotonShuffleMapStage\n",
       "                              +- PhotonShuffleExchangeSink hashpartitioning(address#391, year#402, month#403, 200)\n",
       "                                 +- PhotonGroupingAgg(keys=[address#391, year#402, month#403], functions=[partial_max(avg_tmpr_c#392) AS max#409, partial_min(avg_tmpr_c#392) AS min#411])\n",
       "                                    +- PhotonProject [address#391, avg_tmpr_c#392, year#402, month#403]\n",
       "                                       +- PhotonScan parquet spark_catalog.mydatabase.hotel_weather[address#391,avg_tmpr_c#392,year#402,month#403,day#404] DataFilters: [], DictionaryFilters: [], Format: parquet, Location: PreparedDeltaFileIndex(1 paths)[wasbs://data@developmentwesteurope6o.blob.core.windows.net/delta/..., OptionalDataFilters: [], PartitionFilters: [], ReadSchema: struct<address:string,avg_tmpr_c:double>, RequiredDataFilters: []\n",
       "\n",
       "\n",
       "== Photon Explanation ==\n",
       "The query is fully supported by Photon.</td></tr></tbody></table></div>"
      ]
     },
     "metadata": {
      "application/vnd.databricks.v1+output": {
       "addedWidgets": {},
       "aggData": [],
       "aggError": "",
       "aggOverflow": false,
       "aggSchema": [],
       "aggSeriesLimitReached": false,
       "aggType": "",
       "arguments": {},
       "columnCustomDisplayInfos": {},
       "data": [
        [
         "== Physical Plan ==\nAdaptiveSparkPlan isFinalPlan=false\n+- == Initial Plan ==\n   ColumnarToRow\n   +- PhotonResultStage\n      +- PhotonTopK(sortOrder=[temp_diff#361 DESC NULLS LAST], partitionOrderCount=0)\n         +- PhotonShuffleExchangeSource\n            +- PhotonShuffleMapStage\n               +- PhotonShuffleExchangeSink SinglePartition\n                  +- PhotonTopK(sortOrder=[temp_diff#361 DESC NULLS LAST], partitionOrderCount=0)\n                     +- PhotonGroupingAgg(keys=[address#391, year#402, month#403], functions=[finalmerge_max(merge max#409) AS max(avg_tmpr_c#392)#405, finalmerge_min(merge min#411) AS min(avg_tmpr_c#392)#406])\n                        +- PhotonShuffleExchangeSource\n                           +- PhotonShuffleMapStage\n                              +- PhotonShuffleExchangeSink hashpartitioning(address#391, year#402, month#403, 200)\n                                 +- PhotonGroupingAgg(keys=[address#391, year#402, month#403], functions=[partial_max(avg_tmpr_c#392) AS max#409, partial_min(avg_tmpr_c#392) AS min#411])\n                                    +- PhotonProject [address#391, avg_tmpr_c#392, year#402, month#403]\n                                       +- PhotonScan parquet spark_catalog.mydatabase.hotel_weather[address#391,avg_tmpr_c#392,year#402,month#403,day#404] DataFilters: [], DictionaryFilters: [], Format: parquet, Location: PreparedDeltaFileIndex(1 paths)[wasbs://data@developmentwesteurope6o.blob.core.windows.net/delta/..., OptionalDataFilters: [], PartitionFilters: [], ReadSchema: struct<address:string,avg_tmpr_c:double>, RequiredDataFilters: []\n\n\n== Photon Explanation ==\nThe query is fully supported by Photon."
        ]
       ],
       "datasetInfos": [],
       "dbfsResultPath": null,
       "isJsonSchema": true,
       "metadata": {
        "createTempViewForImplicitDf": true,
        "dataframeName": "_sqldf",
        "executionCount": 1
       },
       "overflow": false,
       "plotOptions": {
        "customPlotOptions": {},
        "displayType": "table",
        "pivotAggregation": null,
        "pivotColumns": null,
        "xColumns": null,
        "yColumns": null
       },
       "removedWidgets": [],
       "schema": [
        {
         "metadata": "{}",
         "name": "plan",
         "type": "\"string\""
        }
       ],
       "type": "table"
      }
     },
     "output_type": "display_data"
    }
   ],
   "source": [
    "%sql\n",
    "EXPLAIN\n",
    "SELECT \n",
    "    address,\n",
    "    year, \n",
    "    month, \n",
    "    ROUND(ABS(MAX(avg_tmpr_c) - MIN(avg_tmpr_c)), 2) AS temp_diff\n",
    "FROM mydatabase.hotel_weather\n",
    "GROUP BY address, year, month\n",
    "ORDER BY temp_diff DESC\n",
    "LIMIT 10;\n"
   ]
  },
  {
   "cell_type": "code",
   "execution_count": 0,
   "metadata": {
    "application/vnd.databricks.v1+cell": {
     "cellMetadata": {
      "byteLimit": 2048000,
      "implicitDf": true,
      "rowLimit": 10000
     },
     "collapsed": true,
     "inputWidgets": {},
     "nuid": "a426a9b3-7347-4359-808d-160ad2efc260",
     "showTitle": true,
     "tableResultSettingsMap": {},
     "title": "2nd_query_commented"
    }
   },
   "outputs": [
    {
     "data": {
      "text/html": [
       "<style scoped>\n",
       "  .table-result-container {\n",
       "    max-height: 300px;\n",
       "    overflow: auto;\n",
       "  }\n",
       "  table, th, td {\n",
       "    border: 1px solid black;\n",
       "    border-collapse: collapse;\n",
       "  }\n",
       "  th, td {\n",
       "    padding: 5px;\n",
       "  }\n",
       "  th {\n",
       "    text-align: left;\n",
       "  }\n",
       "</style><div class='table-result-container'><table class='table-result'><thead style='background-color: white'><tr><th>address</th><th>year</th><th>month</th><th>visits_count</th><th>rank</th></tr></thead><tbody><tr><td>Americas Best Value Inn</td><td>2016</td><td>10</td><td>58490</td><td>1</td></tr><tr><td>Econo Lodge</td><td>2016</td><td>10</td><td>39688</td><td>2</td></tr><tr><td>Quality Inn</td><td>2016</td><td>10</td><td>39560</td><td>3</td></tr><tr><td>Motel 6</td><td>2016</td><td>10</td><td>38296</td><td>4</td></tr><tr><td>Comfort Inn</td><td>2016</td><td>10</td><td>37805</td><td>5</td></tr><tr><td>Comfort Suites</td><td>2016</td><td>10</td><td>28450</td><td>6</td></tr><tr><td>Holiday Inn Express</td><td>2016</td><td>10</td><td>25479</td><td>7</td></tr><tr><td>Best Western</td><td>2016</td><td>10</td><td>25202</td><td>8</td></tr><tr><td>Days Inn</td><td>2016</td><td>10</td><td>23373</td><td>9</td></tr><tr><td>Budget Inn</td><td>2016</td><td>10</td><td>20359</td><td>10</td></tr><tr><td>Americas Best Value Inn</td><td>2016</td><td>11</td><td>2818</td><td>1</td></tr><tr><td>Quality Inn</td><td>2016</td><td>11</td><td>1668</td><td>2</td></tr><tr><td>Motel 6</td><td>2016</td><td>11</td><td>1650</td><td>3</td></tr><tr><td>Comfort Inn</td><td>2016</td><td>11</td><td>1550</td><td>4</td></tr><tr><td>La Quinta</td><td>2016</td><td>11</td><td>1210</td><td>5</td></tr><tr><td>Econo Lodge</td><td>2016</td><td>11</td><td>1184</td><td>6</td></tr><tr><td>Days Inn</td><td>2016</td><td>11</td><td>1178</td><td>7</td></tr><tr><td>Rodeway Inn</td><td>2016</td><td>11</td><td>1002</td><td>8</td></tr><tr><td>Comfort Suites</td><td>2016</td><td>11</td><td>995</td><td>9</td></tr><tr><td>Best Western</td><td>2016</td><td>11</td><td>977</td><td>10</td></tr><tr><td>Meadow Farm Bed and Breakfast</td><td>2016</td><td>12</td><td>372</td><td>1</td></tr><tr><td>Holiday Inn Express & Suites Phoenix Downtown - Ballpark</td><td>2016</td><td>12</td><td>341</td><td>2</td></tr><tr><td>Sonoma Coast Villa Spa</td><td>2016</td><td>12</td><td>310</td><td>3</td></tr><tr><td>Starhotels Business Palace</td><td>2016</td><td>12</td><td>279</td><td>4</td></tr><tr><td>Hotel Romana Residence</td><td>2016</td><td>12</td><td>279</td><td>4</td></tr><tr><td>NH Milano Palazzo Moscova</td><td>2016</td><td>12</td><td>279</td><td>4</td></tr><tr><td>Hotel La Lanterne</td><td>2016</td><td>12</td><td>248</td><td>5</td></tr><tr><td>H tel Pont Royal</td><td>2016</td><td>12</td><td>248</td><td>5</td></tr><tr><td>Le Tourville Eiffel</td><td>2016</td><td>12</td><td>248</td><td>5</td></tr><tr><td>Monterey Beach Dunes Inn</td><td>2016</td><td>12</td><td>248</td><td>5</td></tr><tr><td>L H tel</td><td>2016</td><td>12</td><td>248</td><td>5</td></tr><tr><td>Hotel Ares Eiffel</td><td>2016</td><td>12</td><td>248</td><td>5</td></tr><tr><td>Villa Lut ce Port Royal</td><td>2016</td><td>12</td><td>248</td><td>5</td></tr><tr><td>Best Western S vres Montparnasse</td><td>2016</td><td>12</td><td>248</td><td>5</td></tr><tr><td>Grand Pigalle Hotel</td><td>2016</td><td>12</td><td>217</td><td>6</td></tr><tr><td>H tel Bedford</td><td>2016</td><td>12</td><td>217</td><td>6</td></tr><tr><td>Mercure Paris Terminus Nord</td><td>2016</td><td>12</td><td>217</td><td>6</td></tr><tr><td>Hotel Saint Petersbourg Opera</td><td>2016</td><td>12</td><td>217</td><td>6</td></tr><tr><td>The Soho Hotel</td><td>2016</td><td>12</td><td>217</td><td>6</td></tr><tr><td>40 Berkeley Hostel</td><td>2016</td><td>12</td><td>217</td><td>6</td></tr><tr><td>Mercure Paris Montmartre Sacr Coeur</td><td>2016</td><td>12</td><td>217</td><td>6</td></tr><tr><td>Mercure Paris Pigalle Sacre Coeur</td><td>2016</td><td>12</td><td>217</td><td>6</td></tr><tr><td>Staunton Hotel B B</td><td>2016</td><td>12</td><td>217</td><td>6</td></tr><tr><td>Regency Inn Motel</td><td>2016</td><td>12</td><td>217</td><td>6</td></tr><tr><td>La Quinta Inn and Suites Miami Cutler Bay</td><td>2016</td><td>12</td><td>217</td><td>6</td></tr><tr><td>Hilton London Paddington</td><td>2016</td><td>12</td><td>217</td><td>6</td></tr><tr><td>Goodenough Club</td><td>2016</td><td>12</td><td>217</td><td>6</td></tr><tr><td>Radisson Blu Champs Elys es Paris</td><td>2016</td><td>12</td><td>217</td><td>6</td></tr><tr><td>Westernaire Motel</td><td>2016</td><td>12</td><td>205</td><td>7</td></tr><tr><td>Best Western Hotel De Neuville</td><td>2016</td><td>12</td><td>189</td><td>8</td></tr><tr><td>NH City Centre Amsterdam</td><td>2016</td><td>12</td><td>186</td><td>9</td></tr><tr><td>Ambiance</td><td>2016</td><td>12</td><td>186</td><td>9</td></tr><tr><td>Sunset Inn</td><td>2016</td><td>12</td><td>186</td><td>9</td></tr><tr><td>Doubletree By Hilton Hotel Bay City - Riverfront</td><td>2016</td><td>12</td><td>186</td><td>9</td></tr><tr><td>Seiling Motel</td><td>2016</td><td>12</td><td>186</td><td>9</td></tr><tr><td>Colombia</td><td>2016</td><td>12</td><td>180</td><td>10</td></tr><tr><td>Meadow Farm Bed and Breakfast</td><td>2017</td><td>1</td><td>372</td><td>1</td></tr><tr><td>Holiday Inn Express & Suites Phoenix Downtown - Ballpark</td><td>2017</td><td>1</td><td>341</td><td>2</td></tr><tr><td>Sonoma Coast Villa Spa</td><td>2017</td><td>1</td><td>310</td><td>3</td></tr><tr><td>Hotel Romana Residence</td><td>2017</td><td>1</td><td>279</td><td>4</td></tr><tr><td>Starhotels Business Palace</td><td>2017</td><td>1</td><td>279</td><td>4</td></tr><tr><td>NH Milano Palazzo Moscova</td><td>2017</td><td>1</td><td>279</td><td>4</td></tr><tr><td>H tel Pont Royal</td><td>2017</td><td>1</td><td>248</td><td>5</td></tr><tr><td>L H tel</td><td>2017</td><td>1</td><td>248</td><td>5</td></tr><tr><td>Best Western S vres Montparnasse</td><td>2017</td><td>1</td><td>248</td><td>5</td></tr><tr><td>40 Berkeley Hostel</td><td>2017</td><td>1</td><td>217</td><td>6</td></tr><tr><td>Mercure Paris Montmartre Sacr Coeur</td><td>2017</td><td>1</td><td>217</td><td>6</td></tr><tr><td>Staunton Hotel B B</td><td>2017</td><td>1</td><td>217</td><td>6</td></tr><tr><td>Mercure Paris Terminus Nord</td><td>2017</td><td>1</td><td>217</td><td>6</td></tr><tr><td>Hilton London Paddington</td><td>2017</td><td>1</td><td>217</td><td>6</td></tr><tr><td>Regency Inn Motel</td><td>2017</td><td>1</td><td>217</td><td>6</td></tr><tr><td>Goodenough Club</td><td>2017</td><td>1</td><td>217</td><td>6</td></tr><tr><td>The Soho Hotel</td><td>2017</td><td>1</td><td>217</td><td>6</td></tr><tr><td>Mercure Paris Pigalle Sacre Coeur</td><td>2017</td><td>1</td><td>210</td><td>7</td></tr><tr><td>Hotel Ares Eiffel</td><td>2017</td><td>1</td><td>208</td><td>8</td></tr><tr><td>Seiling Motel</td><td>2017</td><td>1</td><td>186</td><td>9</td></tr><tr><td>Doubletree By Hilton Hotel Bay City - Riverfront</td><td>2017</td><td>1</td><td>186</td><td>9</td></tr><tr><td>Ambiance</td><td>2017</td><td>1</td><td>186</td><td>9</td></tr><tr><td>Hotel Saint Petersbourg Opera</td><td>2017</td><td>1</td><td>168</td><td>10</td></tr><tr><td>Meadow Farm Bed and Breakfast</td><td>2017</td><td>2</td><td>336</td><td>1</td></tr><tr><td>Holiday Inn Express & Suites Phoenix Downtown - Ballpark</td><td>2017</td><td>2</td><td>308</td><td>2</td></tr><tr><td>Sonoma Coast Villa Spa</td><td>2017</td><td>2</td><td>280</td><td>3</td></tr><tr><td>Starhotels Business Palace</td><td>2017</td><td>2</td><td>252</td><td>4</td></tr><tr><td>L H tel</td><td>2017</td><td>2</td><td>224</td><td>5</td></tr><tr><td>Best Western S vres Montparnasse</td><td>2017</td><td>2</td><td>224</td><td>5</td></tr><tr><td>Mercure Paris Terminus Nord</td><td>2017</td><td>2</td><td>196</td><td>6</td></tr><tr><td>Hilton London Paddington</td><td>2017</td><td>2</td><td>196</td><td>6</td></tr><tr><td>40 Berkeley Hostel</td><td>2017</td><td>2</td><td>196</td><td>6</td></tr><tr><td>Mercure Paris Montmartre Sacr Coeur</td><td>2017</td><td>2</td><td>196</td><td>6</td></tr><tr><td>Staunton Hotel B B</td><td>2017</td><td>2</td><td>196</td><td>6</td></tr><tr><td>The Soho Hotel</td><td>2017</td><td>2</td><td>196</td><td>6</td></tr><tr><td>Doubletree By Hilton Hotel Bay City - Riverfront</td><td>2017</td><td>2</td><td>168</td><td>7</td></tr><tr><td>Seiling Motel</td><td>2017</td><td>2</td><td>168</td><td>7</td></tr><tr><td>Hotel Romana Residence</td><td>2017</td><td>2</td><td>162</td><td>8</td></tr><tr><td>Eldorado Inn</td><td>2017</td><td>2</td><td>140</td><td>9</td></tr><tr><td>Fort Conde Inn</td><td>2017</td><td>2</td><td>140</td><td>9</td></tr><tr><td>San Domenico House</td><td>2017</td><td>2</td><td>140</td><td>9</td></tr><tr><td>Bay Haven Inn Bed Breakfast</td><td>2017</td><td>2</td><td>140</td><td>9</td></tr><tr><td>Westernaire Motel</td><td>2017</td><td>2</td><td>140</td><td>9</td></tr><tr><td>Comfort Inn Montgomery</td><td>2017</td><td>2</td><td>140</td><td>9</td></tr><tr><td>The Wellesley Knightsbridge a Luxury Collection Hotel London</td><td>2017</td><td>2</td><td>140</td><td>9</td></tr><tr><td>Ambiance</td><td>2017</td><td>2</td><td>138</td><td>10</td></tr><tr><td>Meadow Farm Bed and Breakfast</td><td>2017</td><td>3</td><td>372</td><td>1</td></tr><tr><td>Sonoma Coast Villa Spa</td><td>2017</td><td>3</td><td>310</td><td>2</td></tr><tr><td>L H tel</td><td>2017</td><td>3</td><td>248</td><td>3</td></tr><tr><td>Best Western S vres Montparnasse</td><td>2017</td><td>3</td><td>248</td><td>3</td></tr><tr><td>Mercure Paris Montmartre Sacr Coeur</td><td>2017</td><td>3</td><td>217</td><td>4</td></tr><tr><td>Hilton London Paddington</td><td>2017</td><td>3</td><td>217</td><td>4</td></tr><tr><td>Mercure Paris Terminus Nord</td><td>2017</td><td>3</td><td>217</td><td>4</td></tr><tr><td>The Soho Hotel</td><td>2017</td><td>3</td><td>217</td><td>4</td></tr><tr><td>40 Berkeley Hostel</td><td>2017</td><td>3</td><td>217</td><td>4</td></tr><tr><td>Doubletree By Hilton Hotel Bay City - Riverfront</td><td>2017</td><td>3</td><td>186</td><td>5</td></tr><tr><td>Seiling Motel</td><td>2017</td><td>3</td><td>186</td><td>5</td></tr><tr><td>Comfort Inn Montgomery</td><td>2017</td><td>3</td><td>155</td><td>6</td></tr><tr><td>Eldorado Inn</td><td>2017</td><td>3</td><td>155</td><td>6</td></tr><tr><td>San Domenico House</td><td>2017</td><td>3</td><td>155</td><td>6</td></tr><tr><td>Westernaire Motel</td><td>2017</td><td>3</td><td>155</td><td>6</td></tr><tr><td>Hotel Lavonia</td><td>2017</td><td>3</td><td>124</td><td>7</td></tr><tr><td>Fort Conde Inn</td><td>2017</td><td>3</td><td>105</td><td>8</td></tr><tr><td>1785 Inn</td><td>2017</td><td>3</td><td>104</td><td>9</td></tr><tr><td>Crowne Plaza London Docklands</td><td>2017</td><td>3</td><td>93</td><td>10</td></tr><tr><td>Hallmark Hotel London Chigwell Prince Regent</td><td>2017</td><td>3</td><td>93</td><td>10</td></tr><tr><td>Country Inn and Suites By Carlson Charlotte University Place</td><td>2017</td><td>3</td><td>93</td><td>10</td></tr><tr><td>Red Roof Inn</td><td>2017</td><td>3</td><td>93</td><td>10</td></tr><tr><td>Good Hotel London</td><td>2017</td><td>3</td><td>93</td><td>10</td></tr><tr><td>Meadow Farm Bed and Breakfast</td><td>2017</td><td>4</td><td>360</td><td>1</td></tr><tr><td>Sonoma Coast Villa Spa</td><td>2017</td><td>4</td><td>300</td><td>2</td></tr><tr><td>Best Western S vres Montparnasse</td><td>2017</td><td>4</td><td>240</td><td>3</td></tr><tr><td>40 Berkeley Hostel</td><td>2017</td><td>4</td><td>210</td><td>4</td></tr><tr><td>Mercure Paris Montmartre Sacr Coeur</td><td>2017</td><td>4</td><td>210</td><td>4</td></tr><tr><td>Hilton London Paddington</td><td>2017</td><td>4</td><td>210</td><td>4</td></tr><tr><td>Mercure Paris Terminus Nord</td><td>2017</td><td>4</td><td>210</td><td>4</td></tr><tr><td>The Soho Hotel</td><td>2017</td><td>4</td><td>210</td><td>4</td></tr><tr><td>L H tel</td><td>2017</td><td>4</td><td>192</td><td>5</td></tr><tr><td>Doubletree By Hilton Hotel Bay City - Riverfront</td><td>2017</td><td>4</td><td>180</td><td>6</td></tr><tr><td>Comfort Inn Montgomery</td><td>2017</td><td>4</td><td>150</td><td>7</td></tr><tr><td>San Domenico House</td><td>2017</td><td>4</td><td>150</td><td>7</td></tr><tr><td>Eldorado Inn</td><td>2017</td><td>4</td><td>150</td><td>7</td></tr><tr><td>Westernaire Motel</td><td>2017</td><td>4</td><td>150</td><td>7</td></tr><tr><td>Seiling Motel</td><td>2017</td><td>4</td><td>108</td><td>8</td></tr><tr><td>Hallmark Hotel London Chigwell Prince Regent</td><td>2017</td><td>4</td><td>90</td><td>9</td></tr><tr><td>Country Inn and Suites By Carlson Charlotte University Place</td><td>2017</td><td>4</td><td>90</td><td>9</td></tr><tr><td>Crowne Plaza London Docklands</td><td>2017</td><td>4</td><td>90</td><td>9</td></tr><tr><td>Red Roof Inn</td><td>2017</td><td>4</td><td>84</td><td>10</td></tr><tr><td>Sonoma Coast Villa Spa</td><td>2017</td><td>5</td><td>310</td><td>1</td></tr><tr><td>40 Berkeley Hostel</td><td>2017</td><td>5</td><td>217</td><td>2</td></tr><tr><td>Hilton London Paddington</td><td>2017</td><td>5</td><td>217</td><td>2</td></tr><tr><td>Mercure Paris Montmartre Sacr Coeur</td><td>2017</td><td>5</td><td>217</td><td>2</td></tr><tr><td>Mercure Paris Terminus Nord</td><td>2017</td><td>5</td><td>217</td><td>2</td></tr><tr><td>The Soho Hotel</td><td>2017</td><td>5</td><td>217</td><td>2</td></tr><tr><td>Meadow Farm Bed and Breakfast</td><td>2017</td><td>5</td><td>204</td><td>3</td></tr><tr><td>Comfort Inn Montgomery</td><td>2017</td><td>5</td><td>155</td><td>4</td></tr><tr><td>San Domenico House</td><td>2017</td><td>5</td><td>155</td><td>4</td></tr><tr><td>Eldorado Inn</td><td>2017</td><td>5</td><td>155</td><td>4</td></tr><tr><td>Country Inn and Suites By Carlson Charlotte University Place</td><td>2017</td><td>5</td><td>93</td><td>5</td></tr><tr><td>Hallmark Hotel London Chigwell Prince Regent</td><td>2017</td><td>5</td><td>93</td><td>5</td></tr><tr><td>Crowne Plaza London Docklands</td><td>2017</td><td>5</td><td>63</td><td>6</td></tr><tr><td>Best Western S vres Montparnasse</td><td>2017</td><td>5</td><td>48</td><td>7</td></tr><tr><td>Doubletree By Hilton Hotel Bay City - Riverfront</td><td>2017</td><td>5</td><td>18</td><td>8</td></tr><tr><td>Westernaire Motel</td><td>2017</td><td>5</td><td>5</td><td>9</td></tr><tr><td>Sonoma Coast Villa Spa</td><td>2017</td><td>6</td><td>300</td><td>1</td></tr><tr><td>40 Berkeley Hostel</td><td>2017</td><td>6</td><td>210</td><td>2</td></tr><tr><td>Hilton London Paddington</td><td>2017</td><td>6</td><td>210</td><td>2</td></tr><tr><td>The Soho Hotel</td><td>2017</td><td>6</td><td>210</td><td>2</td></tr><tr><td>Comfort Inn Montgomery</td><td>2017</td><td>6</td><td>150</td><td>3</td></tr><tr><td>San Domenico House</td><td>2017</td><td>6</td><td>150</td><td>3</td></tr><tr><td>Eldorado Inn</td><td>2017</td><td>6</td><td>135</td><td>4</td></tr><tr><td>Mercure Paris Terminus Nord</td><td>2017</td><td>6</td><td>91</td><td>5</td></tr><tr><td>Hallmark Hotel London Chigwell Prince Regent</td><td>2017</td><td>6</td><td>90</td><td>6</td></tr><tr><td>Country Inn and Suites By Carlson Charlotte University Place</td><td>2017</td><td>6</td><td>60</td><td>7</td></tr><tr><td>Mercure Paris Montmartre Sacr Coeur</td><td>2017</td><td>6</td><td>42</td><td>8</td></tr><tr><td>Sonoma Coast Villa Spa</td><td>2017</td><td>7</td><td>310</td><td>1</td></tr><tr><td>Hilton London Paddington</td><td>2017</td><td>7</td><td>217</td><td>2</td></tr><tr><td>40 Berkeley Hostel</td><td>2017</td><td>7</td><td>217</td><td>2</td></tr><tr><td>The Soho Hotel</td><td>2017</td><td>7</td><td>217</td><td>2</td></tr><tr><td>Comfort Inn Montgomery</td><td>2017</td><td>7</td><td>155</td><td>3</td></tr><tr><td>San Domenico House</td><td>2017</td><td>7</td><td>155</td><td>3</td></tr><tr><td>Hallmark Hotel London Chigwell Prince Regent</td><td>2017</td><td>7</td><td>93</td><td>4</td></tr><tr><td>Americas Best Value Inn</td><td>2017</td><td>8</td><td>57292</td><td>1</td></tr><tr><td>Econo Lodge</td><td>2017</td><td>8</td><td>40085</td><td>2</td></tr><tr><td>Quality Inn</td><td>2017</td><td>8</td><td>38305</td><td>3</td></tr><tr><td>Motel 6</td><td>2017</td><td>8</td><td>36824</td><td>4</td></tr><tr><td>Comfort Inn</td><td>2017</td><td>8</td><td>35812</td><td>5</td></tr><tr><td>Comfort Suites</td><td>2017</td><td>8</td><td>27915</td><td>6</td></tr><tr><td>Holiday Inn Express</td><td>2017</td><td>8</td><td>26004</td><td>7</td></tr><tr><td>Days Inn</td><td>2017</td><td>8</td><td>24499</td><td>8</td></tr><tr><td>Best Western</td><td>2017</td><td>8</td><td>23549</td><td>9</td></tr><tr><td>Budget Inn</td><td>2017</td><td>8</td><td>18729</td><td>10</td></tr><tr><td>Americas Best Value Inn</td><td>2017</td><td>9</td><td>58230</td><td>1</td></tr><tr><td>Econo Lodge</td><td>2017</td><td>9</td><td>39752</td><td>2</td></tr><tr><td>Quality Inn</td><td>2017</td><td>9</td><td>39242</td><td>3</td></tr><tr><td>Motel 6</td><td>2017</td><td>9</td><td>37280</td><td>4</td></tr><tr><td>Comfort Inn</td><td>2017</td><td>9</td><td>36250</td><td>5</td></tr><tr><td>Comfort Suites</td><td>2017</td><td>9</td><td>28847</td><td>6</td></tr><tr><td>Holiday Inn Express</td><td>2017</td><td>9</td><td>25573</td><td>7</td></tr><tr><td>Days Inn</td><td>2017</td><td>9</td><td>24452</td><td>8</td></tr><tr><td>Best Western</td><td>2017</td><td>9</td><td>24321</td><td>9</td></tr><tr><td>Budget Inn</td><td>2017</td><td>9</td><td>20326</td><td>10</td></tr><tr><td>Americas Best Value Inn</td><td>2017</td><td>10</td><td>3036</td><td>1</td></tr><tr><td>Econo Lodge</td><td>2017</td><td>10</td><td>2670</td><td>2</td></tr><tr><td>Comfort Inn</td><td>2017</td><td>10</td><td>2593</td><td>3</td></tr><tr><td>Quality Inn</td><td>2017</td><td>10</td><td>2481</td><td>4</td></tr><tr><td>Motel 6</td><td>2017</td><td>10</td><td>2237</td><td>5</td></tr><tr><td>Comfort Suites</td><td>2017</td><td>10</td><td>1917</td><td>6</td></tr><tr><td>Holiday Inn Express</td><td>2017</td><td>10</td><td>1499</td><td>7</td></tr><tr><td>Best Western</td><td>2017</td><td>10</td><td>1344</td><td>8</td></tr><tr><td>Days Inn</td><td>2017</td><td>10</td><td>1281</td><td>9</td></tr><tr><td>La Quinta</td><td>2017</td><td>10</td><td>1269</td><td>10</td></tr><tr><td>Sofitel Paris Le Faubourg</td><td>2017</td><td>11</td><td>420</td><td>1</td></tr><tr><td>The Pelham Starhotels Collezione</td><td>2017</td><td>11</td><td>300</td><td>2</td></tr><tr><td>Hotel Millersburg</td><td>2017</td><td>11</td><td>300</td><td>2</td></tr><tr><td>Best Western Hotel St George</td><td>2017</td><td>11</td><td>270</td><td>3</td></tr><tr><td>TH Street Duomo</td><td>2017</td><td>11</td><td>270</td><td>3</td></tr><tr><td>IH Hotels Milano Puccini</td><td>2017</td><td>11</td><td>270</td><td>3</td></tr><tr><td>Shoshone Lodge</td><td>2017</td><td>11</td><td>270</td><td>3</td></tr><tr><td>Nu Hotel</td><td>2017</td><td>11</td><td>270</td><td>3</td></tr><tr><td>Conservatorium Hotel</td><td>2017</td><td>11</td><td>246</td><td>4</td></tr><tr><td>Mercure Vaugirard Paris Porte De Versailles</td><td>2017</td><td>11</td><td>240</td><td>5</td></tr><tr><td>Le Senat</td><td>2017</td><td>11</td><td>240</td><td>5</td></tr><tr><td>Mercure Paris Porte De Versailles Expo</td><td>2017</td><td>11</td><td>240</td><td>5</td></tr><tr><td>H tel Le Walt</td><td>2017</td><td>11</td><td>240</td><td>5</td></tr><tr><td>Hotel Mercure La Sorbonne Saint Germain des Pr s</td><td>2017</td><td>11</td><td>240</td><td>5</td></tr><tr><td>Garden Elys e</td><td>2017</td><td>11</td><td>240</td><td>5</td></tr><tr><td>Mercure Paris Alesia</td><td>2017</td><td>11</td><td>240</td><td>5</td></tr><tr><td>H tel des Ducs D Anjou</td><td>2017</td><td>11</td><td>240</td><td>5</td></tr><tr><td>H tel Fabric</td><td>2017</td><td>11</td><td>240</td><td>5</td></tr><tr><td>DoubleTree by Hilton London Islington</td><td>2017</td><td>11</td><td>210</td><td>6</td></tr><tr><td>The Arch London</td><td>2017</td><td>11</td><td>210</td><td>6</td></tr><tr><td>MARQUIS Faubourg St Honor Relais Ch teaux</td><td>2017</td><td>11</td><td>210</td><td>6</td></tr><tr><td>Equestrian Estates Horse Farm Bed and Breakfast</td><td>2017</td><td>11</td><td>210</td><td>6</td></tr><tr><td>Buddha Bar Hotel Paris</td><td>2017</td><td>11</td><td>210</td><td>6</td></tr><tr><td>Royal Inn Motel</td><td>2017</td><td>11</td><td>210</td><td>6</td></tr><tr><td>Clayton Crown Hotel London</td><td>2017</td><td>11</td><td>210</td><td>6</td></tr><tr><td>Best Western Plus Elys e Secret</td><td>2017</td><td>11</td><td>210</td><td>6</td></tr><tr><td>InterContinental Paris Avenue Marceau</td><td>2017</td><td>11</td><td>210</td><td>6</td></tr><tr><td>Crowne Plaza London Kings Cross</td><td>2017</td><td>11</td><td>210</td><td>6</td></tr><tr><td>Duret</td><td>2017</td><td>11</td><td>210</td><td>6</td></tr><tr><td>Best Western Premier Op ra Opal</td><td>2017</td><td>11</td><td>210</td><td>6</td></tr><tr><td>Kingsway Hall Hotel</td><td>2017</td><td>11</td><td>210</td><td>6</td></tr><tr><td>Hotel Indigo London Tower Hill</td><td>2017</td><td>11</td><td>210</td><td>6</td></tr><tr><td>London Marriott Maida Vale</td><td>2017</td><td>11</td><td>210</td><td>6</td></tr><tr><td>40 Berkeley Hostel</td><td>2017</td><td>11</td><td>210</td><td>6</td></tr><tr><td>The Waldorf Hilton</td><td>2017</td><td>11</td><td>210</td><td>6</td></tr><tr><td>Radisson Blu Edwardian Mercer Street</td><td>2017</td><td>11</td><td>210</td><td>6</td></tr><tr><td>Renaissance Paris Arc de Triomphe Hotel</td><td>2017</td><td>11</td><td>210</td><td>6</td></tr><tr><td>Maison Albar H tel Paris Champs Elys es ex Mac Mahon</td><td>2017</td><td>11</td><td>210</td><td>6</td></tr><tr><td>The Rookery</td><td>2017</td><td>11</td><td>210</td><td>6</td></tr><tr><td>Radisson Blu Portman Hotel London</td><td>2017</td><td>11</td><td>210</td><td>6</td></tr><tr><td>Le Pigalle Hotel</td><td>2017</td><td>11</td><td>210</td><td>6</td></tr><tr><td>Club Quarters Hotel St Paul s</td><td>2017</td><td>11</td><td>210</td><td>6</td></tr><tr><td>Hotel Daniel Paris</td><td>2017</td><td>11</td><td>210</td><td>6</td></tr><tr><td>H tel Da Vinci Spa</td><td>2017</td><td>11</td><td>192</td><td>7</td></tr><tr><td>Una Hotel Forte Dei Marmi</td><td>2017</td><td>11</td><td>185</td><td>8</td></tr><tr><td>NH Amsterdam Caransa</td><td>2017</td><td>11</td><td>180</td><td>9</td></tr><tr><td>Marylander Hotel Condo</td><td>2017</td><td>11</td><td>180</td><td>9</td></tr><tr><td>Jacksonville Plaza Hotel and Suites</td><td>2017</td><td>11</td><td>180</td><td>9</td></tr><tr><td>Quality Inn</td><td>2017</td><td>11</td><td>180</td><td>9</td></tr><tr><td>NH Amsterdam Centre</td><td>2017</td><td>11</td><td>180</td><td>9</td></tr><tr><td>Comfort Inn</td><td>2017</td><td>11</td><td>180</td><td>9</td></tr><tr><td>Ramada Apollo Amsterdam Centre</td><td>2017</td><td>11</td><td>180</td><td>9</td></tr><tr><td>Holiday Inn Express Hotel and Suites Meadowlands Area</td><td>2017</td><td>11</td><td>180</td><td>9</td></tr><tr><td>Savoy Hotel Amsterdam</td><td>2017</td><td>11</td><td>180</td><td>9</td></tr><tr><td>Quality Inn Near Six Flags</td><td>2017</td><td>11</td><td>180</td><td>9</td></tr><tr><td>IH Hotels Milano Lorenteggio</td><td>2017</td><td>11</td><td>174</td><td>10</td></tr><tr><td>Sofitel Paris Le Faubourg</td><td>2017</td><td>12</td><td>434</td><td>1</td></tr><tr><td>The Pelham Starhotels Collezione</td><td>2017</td><td>12</td><td>310</td><td>2</td></tr><tr><td>Hotel Millersburg</td><td>2017</td><td>12</td><td>310</td><td>2</td></tr><tr><td>Shoshone Lodge</td><td>2017</td><td>12</td><td>279</td><td>3</td></tr><tr><td>Best Western Hotel St George</td><td>2017</td><td>12</td><td>279</td><td>3</td></tr><tr><td>TH Street Duomo</td><td>2017</td><td>12</td><td>279</td><td>3</td></tr><tr><td>IH Hotels Milano Puccini</td><td>2017</td><td>12</td><td>279</td><td>3</td></tr><tr><td>H tel Le Walt</td><td>2017</td><td>12</td><td>248</td><td>4</td></tr><tr><td>Mercure Paris Alesia</td><td>2017</td><td>12</td><td>248</td><td>4</td></tr><tr><td>H tel des Ducs D Anjou</td><td>2017</td><td>12</td><td>248</td><td>4</td></tr><tr><td>Hotel Mercure La Sorbonne Saint Germain des Pr s</td><td>2017</td><td>12</td><td>248</td><td>4</td></tr><tr><td>H tel Fabric</td><td>2017</td><td>12</td><td>248</td><td>4</td></tr><tr><td>MARQUIS Faubourg St Honor Relais Ch teaux</td><td>2017</td><td>12</td><td>217</td><td>5</td></tr><tr><td>London Marriott Maida Vale</td><td>2017</td><td>12</td><td>217</td><td>5</td></tr><tr><td>40 Berkeley Hostel</td><td>2017</td><td>12</td><td>217</td><td>5</td></tr><tr><td>Radisson Blu Edwardian Mercer Street</td><td>2017</td><td>12</td><td>217</td><td>5</td></tr><tr><td>The Rookery</td><td>2017</td><td>12</td><td>217</td><td>5</td></tr><tr><td>InterContinental Paris Avenue Marceau</td><td>2017</td><td>12</td><td>217</td><td>5</td></tr><tr><td>Radisson Blu Portman Hotel London</td><td>2017</td><td>12</td><td>217</td><td>5</td></tr><tr><td>Le Pigalle Hotel</td><td>2017</td><td>12</td><td>217</td><td>5</td></tr><tr><td>Club Quarters Hotel St Paul s</td><td>2017</td><td>12</td><td>217</td><td>5</td></tr><tr><td>Best Western Premier Op ra Opal</td><td>2017</td><td>12</td><td>217</td><td>5</td></tr><tr><td>Hotel Indigo London Tower Hill</td><td>2017</td><td>12</td><td>217</td><td>5</td></tr><tr><td>Hotel Daniel Paris</td><td>2017</td><td>12</td><td>217</td><td>5</td></tr><tr><td>Equestrian Estates Horse Farm Bed and Breakfast</td><td>2017</td><td>12</td><td>217</td><td>5</td></tr><tr><td>DoubleTree by Hilton London Islington</td><td>2017</td><td>12</td><td>217</td><td>5</td></tr><tr><td>The Waldorf Hilton</td><td>2017</td><td>12</td><td>217</td><td>5</td></tr><tr><td>Maison Albar H tel Paris Champs Elys es ex Mac Mahon</td><td>2017</td><td>12</td><td>217</td><td>5</td></tr><tr><td>Kingsway Hall Hotel</td><td>2017</td><td>12</td><td>217</td><td>5</td></tr><tr><td>Nu Hotel</td><td>2017</td><td>12</td><td>189</td><td>6</td></tr><tr><td>Jacksonville Plaza Hotel and Suites</td><td>2017</td><td>12</td><td>186</td><td>7</td></tr><tr><td>Comfort Inn</td><td>2017</td><td>12</td><td>186</td><td>7</td></tr><tr><td>Ramada Apollo Amsterdam Centre</td><td>2017</td><td>12</td><td>186</td><td>7</td></tr><tr><td>NH Amsterdam Caransa</td><td>2017</td><td>12</td><td>186</td><td>7</td></tr><tr><td>Savoy Hotel Amsterdam</td><td>2017</td><td>12</td><td>186</td><td>7</td></tr><tr><td>Holiday Inn Express Hotel and Suites Meadowlands Area</td><td>2017</td><td>12</td><td>186</td><td>7</td></tr><tr><td>The Arch London</td><td>2017</td><td>12</td><td>161</td><td>8</td></tr><tr><td>Vista Hotel On Lake Tarpon</td><td>2017</td><td>12</td><td>155</td><td>9</td></tr><tr><td>Crowne Plaza London Kensington</td><td>2017</td><td>12</td><td>155</td><td>9</td></tr><tr><td>Courtyard Burlington Harbor</td><td>2017</td><td>12</td><td>155</td><td>9</td></tr><tr><td>Holiday Inn Express Gatesville</td><td>2017</td><td>12</td><td>155</td><td>9</td></tr><tr><td>Ihg</td><td>2017</td><td>12</td><td>155</td><td>9</td></tr><tr><td>Wingate By Wyndham Chantilly / Dulles Airport</td><td>2017</td><td>12</td><td>155</td><td>9</td></tr><tr><td>Park Grand London Kensington</td><td>2017</td><td>12</td><td>155</td><td>9</td></tr><tr><td>NH Amsterdam Centre</td><td>2017</td><td>12</td><td>138</td><td>10</td></tr><tr><td>Sofitel Paris Le Faubourg</td><td>2018</td><td>1</td><td>434</td><td>1</td></tr><tr><td>Hotel Millersburg</td><td>2018</td><td>1</td><td>310</td><td>2</td></tr><tr><td>The Pelham Starhotels Collezione</td><td>2018</td><td>1</td><td>310</td><td>2</td></tr><tr><td>TH Street Duomo</td><td>2018</td><td>1</td><td>279</td><td>3</td></tr><tr><td>IH Hotels Milano Puccini</td><td>2018</td><td>1</td><td>279</td><td>3</td></tr><tr><td>Shoshone Lodge</td><td>2018</td><td>1</td><td>279</td><td>3</td></tr><tr><td>Mercure Paris Alesia</td><td>2018</td><td>1</td><td>248</td><td>4</td></tr><tr><td>H tel Fabric</td><td>2018</td><td>1</td><td>248</td><td>4</td></tr><tr><td>H tel des Ducs D Anjou</td><td>2018</td><td>1</td><td>248</td><td>4</td></tr><tr><td>H tel Le Walt</td><td>2018</td><td>1</td><td>248</td><td>4</td></tr><tr><td>Hotel Mercure La Sorbonne Saint Germain des Pr s</td><td>2018</td><td>1</td><td>248</td><td>4</td></tr><tr><td>Equestrian Estates Horse Farm Bed and Breakfast</td><td>2018</td><td>1</td><td>217</td><td>5</td></tr><tr><td>40 Berkeley Hostel</td><td>2018</td><td>1</td><td>217</td><td>5</td></tr><tr><td>MARQUIS Faubourg St Honor Relais Ch teaux</td><td>2018</td><td>1</td><td>217</td><td>5</td></tr><tr><td>DoubleTree by Hilton London Islington</td><td>2018</td><td>1</td><td>217</td><td>5</td></tr><tr><td>Radisson Blu Edwardian Mercer Street</td><td>2018</td><td>1</td><td>217</td><td>5</td></tr><tr><td>Radisson Blu Portman Hotel London</td><td>2018</td><td>1</td><td>217</td><td>5</td></tr><tr><td>The Rookery</td><td>2018</td><td>1</td><td>217</td><td>5</td></tr><tr><td>Maison Albar H tel Paris Champs Elys es ex Mac Mahon</td><td>2018</td><td>1</td><td>217</td><td>5</td></tr><tr><td>Le Pigalle Hotel</td><td>2018</td><td>1</td><td>217</td><td>5</td></tr><tr><td>Best Western Premier Op ra Opal</td><td>2018</td><td>1</td><td>217</td><td>5</td></tr><tr><td>Kingsway Hall Hotel</td><td>2018</td><td>1</td><td>217</td><td>5</td></tr><tr><td>Savoy Hotel Amsterdam</td><td>2018</td><td>1</td><td>186</td><td>6</td></tr><tr><td>NH Amsterdam Caransa</td><td>2018</td><td>1</td><td>186</td><td>6</td></tr><tr><td>Ramada Apollo Amsterdam Centre</td><td>2018</td><td>1</td><td>186</td><td>6</td></tr><tr><td>Comfort Inn</td><td>2018</td><td>1</td><td>186</td><td>6</td></tr><tr><td>Holiday Inn Express Hotel and Suites Meadowlands Area</td><td>2018</td><td>1</td><td>186</td><td>6</td></tr><tr><td>London Marriott Maida Vale</td><td>2018</td><td>1</td><td>182</td><td>7</td></tr><tr><td>Best Western Hotel St George</td><td>2018</td><td>1</td><td>162</td><td>8</td></tr><tr><td>Vista Hotel On Lake Tarpon</td><td>2018</td><td>1</td><td>155</td><td>9</td></tr><tr><td>Wingate By Wyndham Chantilly / Dulles Airport</td><td>2018</td><td>1</td><td>155</td><td>9</td></tr><tr><td>Park Grand London Kensington</td><td>2018</td><td>1</td><td>155</td><td>9</td></tr><tr><td>Holiday Inn Express Gatesville</td><td>2018</td><td>1</td><td>155</td><td>9</td></tr><tr><td>Crowne Plaza London Kensington</td><td>2018</td><td>1</td><td>155</td><td>9</td></tr><tr><td>InterContinental Paris Avenue Marceau</td><td>2018</td><td>1</td><td>154</td><td>10</td></tr><tr><td>Sofitel Paris Le Faubourg</td><td>2018</td><td>2</td><td>378</td><td>1</td></tr><tr><td>TH Street Duomo</td><td>2018</td><td>2</td><td>252</td><td>2</td></tr><tr><td>Shoshone Lodge</td><td>2018</td><td>2</td><td>252</td><td>2</td></tr><tr><td>Hotel Millersburg</td><td>2018</td><td>2</td><td>240</td><td>3</td></tr><tr><td>H tel Le Walt</td><td>2018</td><td>2</td><td>224</td><td>4</td></tr><tr><td>H tel Fabric</td><td>2018</td><td>2</td><td>224</td><td>4</td></tr><tr><td>Mercure Paris Alesia</td><td>2018</td><td>2</td><td>224</td><td>4</td></tr><tr><td>Hotel Mercure La Sorbonne Saint Germain des Pr s</td><td>2018</td><td>2</td><td>224</td><td>4</td></tr><tr><td>H tel des Ducs D Anjou</td><td>2018</td><td>2</td><td>224</td><td>4</td></tr><tr><td>Equestrian Estates Horse Farm Bed and Breakfast</td><td>2018</td><td>2</td><td>196</td><td>5</td></tr><tr><td>DoubleTree by Hilton London Islington</td><td>2018</td><td>2</td><td>196</td><td>5</td></tr><tr><td>MARQUIS Faubourg St Honor Relais Ch teaux</td><td>2018</td><td>2</td><td>196</td><td>5</td></tr><tr><td>Radisson Blu Edwardian Mercer Street</td><td>2018</td><td>2</td><td>196</td><td>5</td></tr><tr><td>The Rookery</td><td>2018</td><td>2</td><td>196</td><td>5</td></tr><tr><td>Le Pigalle Hotel</td><td>2018</td><td>2</td><td>196</td><td>5</td></tr><tr><td>Radisson Blu Portman Hotel London</td><td>2018</td><td>2</td><td>196</td><td>5</td></tr><tr><td>Kingsway Hall Hotel</td><td>2018</td><td>2</td><td>196</td><td>5</td></tr><tr><td>IH Hotels Milano Puccini</td><td>2018</td><td>2</td><td>180</td><td>6</td></tr><tr><td>NH Amsterdam Caransa</td><td>2018</td><td>2</td><td>168</td><td>7</td></tr><tr><td>Comfort Inn</td><td>2018</td><td>2</td><td>168</td><td>7</td></tr><tr><td>The Pelham Starhotels Collezione</td><td>2018</td><td>2</td><td>165</td><td>8</td></tr><tr><td>Maison Albar H tel Paris Champs Elys es ex Mac Mahon</td><td>2018</td><td>2</td><td>147</td><td>9</td></tr><tr><td>Vista Hotel On Lake Tarpon</td><td>2018</td><td>2</td><td>140</td><td>10</td></tr><tr><td>Holiday Inn Express Gatesville</td><td>2018</td><td>2</td><td>140</td><td>10</td></tr><tr><td>Wingate By Wyndham Chantilly / Dulles Airport</td><td>2018</td><td>2</td><td>140</td><td>10</td></tr><tr><td>Park Grand London Kensington</td><td>2018</td><td>2</td><td>140</td><td>10</td></tr><tr><td>TH Street Duomo</td><td>2018</td><td>3</td><td>279</td><td>1</td></tr><tr><td>H tel Fabric</td><td>2018</td><td>3</td><td>248</td><td>2</td></tr><tr><td>Hotel Mercure La Sorbonne Saint Germain des Pr s</td><td>2018</td><td>3</td><td>248</td><td>2</td></tr><tr><td>H tel des Ducs D Anjou</td><td>2018</td><td>3</td><td>248</td><td>2</td></tr><tr><td>MARQUIS Faubourg St Honor Relais Ch teaux</td><td>2018</td><td>3</td><td>217</td><td>3</td></tr><tr><td>DoubleTree by Hilton London Islington</td><td>2018</td><td>3</td><td>217</td><td>3</td></tr><tr><td>Kingsway Hall Hotel</td><td>2018</td><td>3</td><td>217</td><td>3</td></tr><tr><td>Radisson Blu Portman Hotel London</td><td>2018</td><td>3</td><td>217</td><td>3</td></tr><tr><td>Sofitel Paris Le Faubourg</td><td>2018</td><td>3</td><td>217</td><td>3</td></tr><tr><td>Le Pigalle Hotel</td><td>2018</td><td>3</td><td>217</td><td>3</td></tr><tr><td>Comfort Inn</td><td>2018</td><td>3</td><td>186</td><td>4</td></tr><tr><td>NH Amsterdam Caransa</td><td>2018</td><td>3</td><td>186</td><td>4</td></tr><tr><td>Vista Hotel On Lake Tarpon</td><td>2018</td><td>3</td><td>155</td><td>5</td></tr><tr><td>Holiday Inn Express Gatesville</td><td>2018</td><td>3</td><td>155</td><td>5</td></tr><tr><td>The Pelham Starhotels Collezione</td><td>2018</td><td>3</td><td>155</td><td>5</td></tr><tr><td>Park Grand London Kensington</td><td>2018</td><td>3</td><td>155</td><td>5</td></tr><tr><td>Mercure Paris Alesia</td><td>2018</td><td>3</td><td>136</td><td>6</td></tr><tr><td>Super 8 Indianapolis</td><td>2018</td><td>3</td><td>124</td><td>7</td></tr><tr><td>Fiesta Inn and Suites</td><td>2018</td><td>3</td><td>124</td><td>7</td></tr><tr><td>Big Mountain Lodge</td><td>2018</td><td>3</td><td>124</td><td>7</td></tr><tr><td>Chelsea Inn</td><td>2018</td><td>3</td><td>93</td><td>8</td></tr><tr><td>Days Inn Branson Mo</td><td>2018</td><td>3</td><td>93</td><td>8</td></tr><tr><td>Equestrian Estates Horse Farm Bed and Breakfast</td><td>2018</td><td>3</td><td>91</td><td>9</td></tr><tr><td>H tel Le Walt</td><td>2018</td><td>3</td><td>72</td><td>10</td></tr><tr><td>TH Street Duomo</td><td>2018</td><td>4</td><td>270</td><td>1</td></tr><tr><td>H tel Fabric</td><td>2018</td><td>4</td><td>240</td><td>2</td></tr><tr><td>Hotel Mercure La Sorbonne Saint Germain des Pr s</td><td>2018</td><td>4</td><td>224</td><td>3</td></tr><tr><td>DoubleTree by Hilton London Islington</td><td>2018</td><td>4</td><td>210</td><td>4</td></tr><tr><td>Sofitel Paris Le Faubourg</td><td>2018</td><td>4</td><td>210</td><td>4</td></tr><tr><td>Le Pigalle Hotel</td><td>2018</td><td>4</td><td>210</td><td>4</td></tr><tr><td>Radisson Blu Portman Hotel London</td><td>2018</td><td>4</td><td>210</td><td>4</td></tr><tr><td>NH Amsterdam Caransa</td><td>2018</td><td>4</td><td>180</td><td>5</td></tr><tr><td>The Pelham Starhotels Collezione</td><td>2018</td><td>4</td><td>150</td><td>6</td></tr><tr><td>Vista Hotel On Lake Tarpon</td><td>2018</td><td>4</td><td>150</td><td>6</td></tr><tr><td>Holiday Inn Express Gatesville</td><td>2018</td><td>4</td><td>150</td><td>6</td></tr><tr><td>Super 8 Indianapolis</td><td>2018</td><td>4</td><td>120</td><td>7</td></tr><tr><td>Comfort Inn</td><td>2018</td><td>4</td><td>114</td><td>8</td></tr><tr><td>H tel des Ducs D Anjou</td><td>2018</td><td>4</td><td>112</td><td>9</td></tr><tr><td>Kingsway Hall Hotel</td><td>2018</td><td>4</td><td>105</td><td>10</td></tr><tr><td>TH Street Duomo</td><td>2018</td><td>5</td><td>279</td><td>1</td></tr><tr><td>H tel Fabric</td><td>2018</td><td>5</td><td>248</td><td>2</td></tr><tr><td>Radisson Blu Portman Hotel London</td><td>2018</td><td>5</td><td>217</td><td>3</td></tr><tr><td>Sofitel Paris Le Faubourg</td><td>2018</td><td>5</td><td>217</td><td>3</td></tr><tr><td>Le Pigalle Hotel</td><td>2018</td><td>5</td><td>217</td><td>3</td></tr><tr><td>The Pelham Starhotels Collezione</td><td>2018</td><td>5</td><td>155</td><td>4</td></tr><tr><td>Holiday Inn Express Gatesville</td><td>2018</td><td>5</td><td>155</td><td>4</td></tr><tr><td>NH Amsterdam Caransa</td><td>2018</td><td>5</td><td>144</td><td>5</td></tr><tr><td>DoubleTree by Hilton London Islington</td><td>2018</td><td>5</td><td>140</td><td>6</td></tr><tr><td>Super 8 Indianapolis</td><td>2018</td><td>5</td><td>124</td><td>7</td></tr><tr><td>Days Inn Branson Mo</td><td>2018</td><td>5</td><td>93</td><td>8</td></tr><tr><td>Mercer House B ria BCN</td><td>2018</td><td>5</td><td>32</td><td>9</td></tr><tr><td>La Quinta</td><td>2018</td><td>5</td><td>31</td><td>10</td></tr><tr><td>TH Street Duomo</td><td>2018</td><td>6</td><td>270</td><td>1</td></tr><tr><td>H tel Fabric</td><td>2018</td><td>6</td><td>240</td><td>2</td></tr><tr><td>Le Pigalle Hotel</td><td>2018</td><td>6</td><td>210</td><td>3</td></tr><tr><td>Sofitel Paris Le Faubourg</td><td>2018</td><td>6</td><td>210</td><td>3</td></tr><tr><td>Radisson Blu Portman Hotel London</td><td>2018</td><td>6</td><td>210</td><td>3</td></tr><tr><td>Holiday Inn Express Gatesville</td><td>2018</td><td>6</td><td>150</td><td>4</td></tr><tr><td>The Pelham Starhotels Collezione</td><td>2018</td><td>6</td><td>150</td><td>4</td></tr><tr><td>Super 8 Indianapolis</td><td>2018</td><td>6</td><td>120</td><td>5</td></tr><tr><td>Days Inn Branson Mo</td><td>2018</td><td>6</td><td>90</td><td>6</td></tr><tr><td>La Quinta</td><td>2018</td><td>6</td><td>12</td><td>7</td></tr><tr><td>TH Street Duomo</td><td>2018</td><td>7</td><td>279</td><td>1</td></tr><tr><td>H tel Fabric</td><td>2018</td><td>7</td><td>248</td><td>2</td></tr><tr><td>Radisson Blu Portman Hotel London</td><td>2018</td><td>7</td><td>217</td><td>3</td></tr><tr><td>Holiday Inn Express Gatesville</td><td>2018</td><td>7</td><td>155</td><td>4</td></tr><tr><td>The Pelham Starhotels Collezione</td><td>2018</td><td>7</td><td>155</td><td>4</td></tr><tr><td>Super 8 Indianapolis</td><td>2018</td><td>7</td><td>124</td><td>5</td></tr><tr><td>Le Pigalle Hotel</td><td>2018</td><td>7</td><td>119</td><td>6</td></tr><tr><td>Days Inn Branson Mo</td><td>2018</td><td>7</td><td>90</td><td>7</td></tr><tr><td>Sofitel Paris Le Faubourg</td><td>2018</td><td>7</td><td>28</td><td>8</td></tr><tr><td>TH Street Duomo</td><td>2018</td><td>8</td><td>279</td><td>1</td></tr><tr><td>Radisson Blu Portman Hotel London</td><td>2018</td><td>8</td><td>217</td><td>2</td></tr><tr><td>H tel Fabric</td><td>2018</td><td>8</td><td>192</td><td>3</td></tr><tr><td>Holiday Inn Express Gatesville</td><td>2018</td><td>8</td><td>150</td><td>4</td></tr><tr><td>Super 8 Indianapolis</td><td>2018</td><td>8</td><td>124</td><td>5</td></tr><tr><td>The Pelham Starhotels Collezione</td><td>2018</td><td>8</td><td>60</td><td>6</td></tr><tr><td>TH Street Duomo</td><td>2018</td><td>9</td><td>126</td><td>1</td></tr><tr><td>Super 8 Indianapolis</td><td>2018</td><td>9</td><td>120</td><td>2</td></tr><tr><td>Radisson Blu Portman Hotel London</td><td>2018</td><td>9</td><td>14</td><td>3</td></tr><tr><td>Super 8 Indianapolis</td><td>2018</td><td>10</td><td>20</td><td>1</td></tr></tbody></table></div>"
      ]
     },
     "metadata": {
      "application/vnd.databricks.v1+output": {
       "addedWidgets": {},
       "aggData": [],
       "aggError": "",
       "aggOverflow": false,
       "aggSchema": [],
       "aggSeriesLimitReached": false,
       "aggType": "",
       "arguments": {},
       "columnCustomDisplayInfos": {},
       "data": [
        [
         "Americas Best Value Inn",
         2016,
         10,
         58490,
         1
        ],
        [
         "Econo Lodge",
         2016,
         10,
         39688,
         2
        ],
        [
         "Quality Inn",
         2016,
         10,
         39560,
         3
        ],
        [
         "Motel 6",
         2016,
         10,
         38296,
         4
        ],
        [
         "Comfort Inn",
         2016,
         10,
         37805,
         5
        ],
        [
         "Comfort Suites",
         2016,
         10,
         28450,
         6
        ],
        [
         "Holiday Inn Express",
         2016,
         10,
         25479,
         7
        ],
        [
         "Best Western",
         2016,
         10,
         25202,
         8
        ],
        [
         "Days Inn",
         2016,
         10,
         23373,
         9
        ],
        [
         "Budget Inn",
         2016,
         10,
         20359,
         10
        ],
        [
         "Americas Best Value Inn",
         2016,
         11,
         2818,
         1
        ],
        [
         "Quality Inn",
         2016,
         11,
         1668,
         2
        ],
        [
         "Motel 6",
         2016,
         11,
         1650,
         3
        ],
        [
         "Comfort Inn",
         2016,
         11,
         1550,
         4
        ],
        [
         "La Quinta",
         2016,
         11,
         1210,
         5
        ],
        [
         "Econo Lodge",
         2016,
         11,
         1184,
         6
        ],
        [
         "Days Inn",
         2016,
         11,
         1178,
         7
        ],
        [
         "Rodeway Inn",
         2016,
         11,
         1002,
         8
        ],
        [
         "Comfort Suites",
         2016,
         11,
         995,
         9
        ],
        [
         "Best Western",
         2016,
         11,
         977,
         10
        ],
        [
         "Meadow Farm Bed and Breakfast",
         2016,
         12,
         372,
         1
        ],
        [
         "Holiday Inn Express & Suites Phoenix Downtown - Ballpark",
         2016,
         12,
         341,
         2
        ],
        [
         "Sonoma Coast Villa Spa",
         2016,
         12,
         310,
         3
        ],
        [
         "Starhotels Business Palace",
         2016,
         12,
         279,
         4
        ],
        [
         "Hotel Romana Residence",
         2016,
         12,
         279,
         4
        ],
        [
         "NH Milano Palazzo Moscova",
         2016,
         12,
         279,
         4
        ],
        [
         "Hotel La Lanterne",
         2016,
         12,
         248,
         5
        ],
        [
         "H tel Pont Royal",
         2016,
         12,
         248,
         5
        ],
        [
         "Le Tourville Eiffel",
         2016,
         12,
         248,
         5
        ],
        [
         "Monterey Beach Dunes Inn",
         2016,
         12,
         248,
         5
        ],
        [
         "L H tel",
         2016,
         12,
         248,
         5
        ],
        [
         "Hotel Ares Eiffel",
         2016,
         12,
         248,
         5
        ],
        [
         "Villa Lut ce Port Royal",
         2016,
         12,
         248,
         5
        ],
        [
         "Best Western S vres Montparnasse",
         2016,
         12,
         248,
         5
        ],
        [
         "Grand Pigalle Hotel",
         2016,
         12,
         217,
         6
        ],
        [
         "H tel Bedford",
         2016,
         12,
         217,
         6
        ],
        [
         "Mercure Paris Terminus Nord",
         2016,
         12,
         217,
         6
        ],
        [
         "Hotel Saint Petersbourg Opera",
         2016,
         12,
         217,
         6
        ],
        [
         "The Soho Hotel",
         2016,
         12,
         217,
         6
        ],
        [
         "40 Berkeley Hostel",
         2016,
         12,
         217,
         6
        ],
        [
         "Mercure Paris Montmartre Sacr Coeur",
         2016,
         12,
         217,
         6
        ],
        [
         "Mercure Paris Pigalle Sacre Coeur",
         2016,
         12,
         217,
         6
        ],
        [
         "Staunton Hotel B B",
         2016,
         12,
         217,
         6
        ],
        [
         "Regency Inn Motel",
         2016,
         12,
         217,
         6
        ],
        [
         "La Quinta Inn and Suites Miami Cutler Bay",
         2016,
         12,
         217,
         6
        ],
        [
         "Hilton London Paddington",
         2016,
         12,
         217,
         6
        ],
        [
         "Goodenough Club",
         2016,
         12,
         217,
         6
        ],
        [
         "Radisson Blu Champs Elys es Paris",
         2016,
         12,
         217,
         6
        ],
        [
         "Westernaire Motel",
         2016,
         12,
         205,
         7
        ],
        [
         "Best Western Hotel De Neuville",
         2016,
         12,
         189,
         8
        ],
        [
         "NH City Centre Amsterdam",
         2016,
         12,
         186,
         9
        ],
        [
         "Ambiance",
         2016,
         12,
         186,
         9
        ],
        [
         "Sunset Inn",
         2016,
         12,
         186,
         9
        ],
        [
         "Doubletree By Hilton Hotel Bay City - Riverfront",
         2016,
         12,
         186,
         9
        ],
        [
         "Seiling Motel",
         2016,
         12,
         186,
         9
        ],
        [
         "Colombia",
         2016,
         12,
         180,
         10
        ],
        [
         "Meadow Farm Bed and Breakfast",
         2017,
         1,
         372,
         1
        ],
        [
         "Holiday Inn Express & Suites Phoenix Downtown - Ballpark",
         2017,
         1,
         341,
         2
        ],
        [
         "Sonoma Coast Villa Spa",
         2017,
         1,
         310,
         3
        ],
        [
         "Hotel Romana Residence",
         2017,
         1,
         279,
         4
        ],
        [
         "Starhotels Business Palace",
         2017,
         1,
         279,
         4
        ],
        [
         "NH Milano Palazzo Moscova",
         2017,
         1,
         279,
         4
        ],
        [
         "H tel Pont Royal",
         2017,
         1,
         248,
         5
        ],
        [
         "L H tel",
         2017,
         1,
         248,
         5
        ],
        [
         "Best Western S vres Montparnasse",
         2017,
         1,
         248,
         5
        ],
        [
         "40 Berkeley Hostel",
         2017,
         1,
         217,
         6
        ],
        [
         "Mercure Paris Montmartre Sacr Coeur",
         2017,
         1,
         217,
         6
        ],
        [
         "Staunton Hotel B B",
         2017,
         1,
         217,
         6
        ],
        [
         "Mercure Paris Terminus Nord",
         2017,
         1,
         217,
         6
        ],
        [
         "Hilton London Paddington",
         2017,
         1,
         217,
         6
        ],
        [
         "Regency Inn Motel",
         2017,
         1,
         217,
         6
        ],
        [
         "Goodenough Club",
         2017,
         1,
         217,
         6
        ],
        [
         "The Soho Hotel",
         2017,
         1,
         217,
         6
        ],
        [
         "Mercure Paris Pigalle Sacre Coeur",
         2017,
         1,
         210,
         7
        ],
        [
         "Hotel Ares Eiffel",
         2017,
         1,
         208,
         8
        ],
        [
         "Seiling Motel",
         2017,
         1,
         186,
         9
        ],
        [
         "Doubletree By Hilton Hotel Bay City - Riverfront",
         2017,
         1,
         186,
         9
        ],
        [
         "Ambiance",
         2017,
         1,
         186,
         9
        ],
        [
         "Hotel Saint Petersbourg Opera",
         2017,
         1,
         168,
         10
        ],
        [
         "Meadow Farm Bed and Breakfast",
         2017,
         2,
         336,
         1
        ],
        [
         "Holiday Inn Express & Suites Phoenix Downtown - Ballpark",
         2017,
         2,
         308,
         2
        ],
        [
         "Sonoma Coast Villa Spa",
         2017,
         2,
         280,
         3
        ],
        [
         "Starhotels Business Palace",
         2017,
         2,
         252,
         4
        ],
        [
         "L H tel",
         2017,
         2,
         224,
         5
        ],
        [
         "Best Western S vres Montparnasse",
         2017,
         2,
         224,
         5
        ],
        [
         "Mercure Paris Terminus Nord",
         2017,
         2,
         196,
         6
        ],
        [
         "Hilton London Paddington",
         2017,
         2,
         196,
         6
        ],
        [
         "40 Berkeley Hostel",
         2017,
         2,
         196,
         6
        ],
        [
         "Mercure Paris Montmartre Sacr Coeur",
         2017,
         2,
         196,
         6
        ],
        [
         "Staunton Hotel B B",
         2017,
         2,
         196,
         6
        ],
        [
         "The Soho Hotel",
         2017,
         2,
         196,
         6
        ],
        [
         "Doubletree By Hilton Hotel Bay City - Riverfront",
         2017,
         2,
         168,
         7
        ],
        [
         "Seiling Motel",
         2017,
         2,
         168,
         7
        ],
        [
         "Hotel Romana Residence",
         2017,
         2,
         162,
         8
        ],
        [
         "Eldorado Inn",
         2017,
         2,
         140,
         9
        ],
        [
         "Fort Conde Inn",
         2017,
         2,
         140,
         9
        ],
        [
         "San Domenico House",
         2017,
         2,
         140,
         9
        ],
        [
         "Bay Haven Inn Bed Breakfast",
         2017,
         2,
         140,
         9
        ],
        [
         "Westernaire Motel",
         2017,
         2,
         140,
         9
        ],
        [
         "Comfort Inn Montgomery",
         2017,
         2,
         140,
         9
        ],
        [
         "The Wellesley Knightsbridge a Luxury Collection Hotel London",
         2017,
         2,
         140,
         9
        ],
        [
         "Ambiance",
         2017,
         2,
         138,
         10
        ],
        [
         "Meadow Farm Bed and Breakfast",
         2017,
         3,
         372,
         1
        ],
        [
         "Sonoma Coast Villa Spa",
         2017,
         3,
         310,
         2
        ],
        [
         "L H tel",
         2017,
         3,
         248,
         3
        ],
        [
         "Best Western S vres Montparnasse",
         2017,
         3,
         248,
         3
        ],
        [
         "Mercure Paris Montmartre Sacr Coeur",
         2017,
         3,
         217,
         4
        ],
        [
         "Hilton London Paddington",
         2017,
         3,
         217,
         4
        ],
        [
         "Mercure Paris Terminus Nord",
         2017,
         3,
         217,
         4
        ],
        [
         "The Soho Hotel",
         2017,
         3,
         217,
         4
        ],
        [
         "40 Berkeley Hostel",
         2017,
         3,
         217,
         4
        ],
        [
         "Doubletree By Hilton Hotel Bay City - Riverfront",
         2017,
         3,
         186,
         5
        ],
        [
         "Seiling Motel",
         2017,
         3,
         186,
         5
        ],
        [
         "Comfort Inn Montgomery",
         2017,
         3,
         155,
         6
        ],
        [
         "Eldorado Inn",
         2017,
         3,
         155,
         6
        ],
        [
         "San Domenico House",
         2017,
         3,
         155,
         6
        ],
        [
         "Westernaire Motel",
         2017,
         3,
         155,
         6
        ],
        [
         "Hotel Lavonia",
         2017,
         3,
         124,
         7
        ],
        [
         "Fort Conde Inn",
         2017,
         3,
         105,
         8
        ],
        [
         "1785 Inn",
         2017,
         3,
         104,
         9
        ],
        [
         "Crowne Plaza London Docklands",
         2017,
         3,
         93,
         10
        ],
        [
         "Hallmark Hotel London Chigwell Prince Regent",
         2017,
         3,
         93,
         10
        ],
        [
         "Country Inn and Suites By Carlson Charlotte University Place",
         2017,
         3,
         93,
         10
        ],
        [
         "Red Roof Inn",
         2017,
         3,
         93,
         10
        ],
        [
         "Good Hotel London",
         2017,
         3,
         93,
         10
        ],
        [
         "Meadow Farm Bed and Breakfast",
         2017,
         4,
         360,
         1
        ],
        [
         "Sonoma Coast Villa Spa",
         2017,
         4,
         300,
         2
        ],
        [
         "Best Western S vres Montparnasse",
         2017,
         4,
         240,
         3
        ],
        [
         "40 Berkeley Hostel",
         2017,
         4,
         210,
         4
        ],
        [
         "Mercure Paris Montmartre Sacr Coeur",
         2017,
         4,
         210,
         4
        ],
        [
         "Hilton London Paddington",
         2017,
         4,
         210,
         4
        ],
        [
         "Mercure Paris Terminus Nord",
         2017,
         4,
         210,
         4
        ],
        [
         "The Soho Hotel",
         2017,
         4,
         210,
         4
        ],
        [
         "L H tel",
         2017,
         4,
         192,
         5
        ],
        [
         "Doubletree By Hilton Hotel Bay City - Riverfront",
         2017,
         4,
         180,
         6
        ],
        [
         "Comfort Inn Montgomery",
         2017,
         4,
         150,
         7
        ],
        [
         "San Domenico House",
         2017,
         4,
         150,
         7
        ],
        [
         "Eldorado Inn",
         2017,
         4,
         150,
         7
        ],
        [
         "Westernaire Motel",
         2017,
         4,
         150,
         7
        ],
        [
         "Seiling Motel",
         2017,
         4,
         108,
         8
        ],
        [
         "Hallmark Hotel London Chigwell Prince Regent",
         2017,
         4,
         90,
         9
        ],
        [
         "Country Inn and Suites By Carlson Charlotte University Place",
         2017,
         4,
         90,
         9
        ],
        [
         "Crowne Plaza London Docklands",
         2017,
         4,
         90,
         9
        ],
        [
         "Red Roof Inn",
         2017,
         4,
         84,
         10
        ],
        [
         "Sonoma Coast Villa Spa",
         2017,
         5,
         310,
         1
        ],
        [
         "40 Berkeley Hostel",
         2017,
         5,
         217,
         2
        ],
        [
         "Hilton London Paddington",
         2017,
         5,
         217,
         2
        ],
        [
         "Mercure Paris Montmartre Sacr Coeur",
         2017,
         5,
         217,
         2
        ],
        [
         "Mercure Paris Terminus Nord",
         2017,
         5,
         217,
         2
        ],
        [
         "The Soho Hotel",
         2017,
         5,
         217,
         2
        ],
        [
         "Meadow Farm Bed and Breakfast",
         2017,
         5,
         204,
         3
        ],
        [
         "Comfort Inn Montgomery",
         2017,
         5,
         155,
         4
        ],
        [
         "San Domenico House",
         2017,
         5,
         155,
         4
        ],
        [
         "Eldorado Inn",
         2017,
         5,
         155,
         4
        ],
        [
         "Country Inn and Suites By Carlson Charlotte University Place",
         2017,
         5,
         93,
         5
        ],
        [
         "Hallmark Hotel London Chigwell Prince Regent",
         2017,
         5,
         93,
         5
        ],
        [
         "Crowne Plaza London Docklands",
         2017,
         5,
         63,
         6
        ],
        [
         "Best Western S vres Montparnasse",
         2017,
         5,
         48,
         7
        ],
        [
         "Doubletree By Hilton Hotel Bay City - Riverfront",
         2017,
         5,
         18,
         8
        ],
        [
         "Westernaire Motel",
         2017,
         5,
         5,
         9
        ],
        [
         "Sonoma Coast Villa Spa",
         2017,
         6,
         300,
         1
        ],
        [
         "40 Berkeley Hostel",
         2017,
         6,
         210,
         2
        ],
        [
         "Hilton London Paddington",
         2017,
         6,
         210,
         2
        ],
        [
         "The Soho Hotel",
         2017,
         6,
         210,
         2
        ],
        [
         "Comfort Inn Montgomery",
         2017,
         6,
         150,
         3
        ],
        [
         "San Domenico House",
         2017,
         6,
         150,
         3
        ],
        [
         "Eldorado Inn",
         2017,
         6,
         135,
         4
        ],
        [
         "Mercure Paris Terminus Nord",
         2017,
         6,
         91,
         5
        ],
        [
         "Hallmark Hotel London Chigwell Prince Regent",
         2017,
         6,
         90,
         6
        ],
        [
         "Country Inn and Suites By Carlson Charlotte University Place",
         2017,
         6,
         60,
         7
        ],
        [
         "Mercure Paris Montmartre Sacr Coeur",
         2017,
         6,
         42,
         8
        ],
        [
         "Sonoma Coast Villa Spa",
         2017,
         7,
         310,
         1
        ],
        [
         "Hilton London Paddington",
         2017,
         7,
         217,
         2
        ],
        [
         "40 Berkeley Hostel",
         2017,
         7,
         217,
         2
        ],
        [
         "The Soho Hotel",
         2017,
         7,
         217,
         2
        ],
        [
         "Comfort Inn Montgomery",
         2017,
         7,
         155,
         3
        ],
        [
         "San Domenico House",
         2017,
         7,
         155,
         3
        ],
        [
         "Hallmark Hotel London Chigwell Prince Regent",
         2017,
         7,
         93,
         4
        ],
        [
         "Americas Best Value Inn",
         2017,
         8,
         57292,
         1
        ],
        [
         "Econo Lodge",
         2017,
         8,
         40085,
         2
        ],
        [
         "Quality Inn",
         2017,
         8,
         38305,
         3
        ],
        [
         "Motel 6",
         2017,
         8,
         36824,
         4
        ],
        [
         "Comfort Inn",
         2017,
         8,
         35812,
         5
        ],
        [
         "Comfort Suites",
         2017,
         8,
         27915,
         6
        ],
        [
         "Holiday Inn Express",
         2017,
         8,
         26004,
         7
        ],
        [
         "Days Inn",
         2017,
         8,
         24499,
         8
        ],
        [
         "Best Western",
         2017,
         8,
         23549,
         9
        ],
        [
         "Budget Inn",
         2017,
         8,
         18729,
         10
        ],
        [
         "Americas Best Value Inn",
         2017,
         9,
         58230,
         1
        ],
        [
         "Econo Lodge",
         2017,
         9,
         39752,
         2
        ],
        [
         "Quality Inn",
         2017,
         9,
         39242,
         3
        ],
        [
         "Motel 6",
         2017,
         9,
         37280,
         4
        ],
        [
         "Comfort Inn",
         2017,
         9,
         36250,
         5
        ],
        [
         "Comfort Suites",
         2017,
         9,
         28847,
         6
        ],
        [
         "Holiday Inn Express",
         2017,
         9,
         25573,
         7
        ],
        [
         "Days Inn",
         2017,
         9,
         24452,
         8
        ],
        [
         "Best Western",
         2017,
         9,
         24321,
         9
        ],
        [
         "Budget Inn",
         2017,
         9,
         20326,
         10
        ],
        [
         "Americas Best Value Inn",
         2017,
         10,
         3036,
         1
        ],
        [
         "Econo Lodge",
         2017,
         10,
         2670,
         2
        ],
        [
         "Comfort Inn",
         2017,
         10,
         2593,
         3
        ],
        [
         "Quality Inn",
         2017,
         10,
         2481,
         4
        ],
        [
         "Motel 6",
         2017,
         10,
         2237,
         5
        ],
        [
         "Comfort Suites",
         2017,
         10,
         1917,
         6
        ],
        [
         "Holiday Inn Express",
         2017,
         10,
         1499,
         7
        ],
        [
         "Best Western",
         2017,
         10,
         1344,
         8
        ],
        [
         "Days Inn",
         2017,
         10,
         1281,
         9
        ],
        [
         "La Quinta",
         2017,
         10,
         1269,
         10
        ],
        [
         "Sofitel Paris Le Faubourg",
         2017,
         11,
         420,
         1
        ],
        [
         "The Pelham Starhotels Collezione",
         2017,
         11,
         300,
         2
        ],
        [
         "Hotel Millersburg",
         2017,
         11,
         300,
         2
        ],
        [
         "Best Western Hotel St George",
         2017,
         11,
         270,
         3
        ],
        [
         "TH Street Duomo",
         2017,
         11,
         270,
         3
        ],
        [
         "IH Hotels Milano Puccini",
         2017,
         11,
         270,
         3
        ],
        [
         "Shoshone Lodge",
         2017,
         11,
         270,
         3
        ],
        [
         "Nu Hotel",
         2017,
         11,
         270,
         3
        ],
        [
         "Conservatorium Hotel",
         2017,
         11,
         246,
         4
        ],
        [
         "Mercure Vaugirard Paris Porte De Versailles",
         2017,
         11,
         240,
         5
        ],
        [
         "Le Senat",
         2017,
         11,
         240,
         5
        ],
        [
         "Mercure Paris Porte De Versailles Expo",
         2017,
         11,
         240,
         5
        ],
        [
         "H tel Le Walt",
         2017,
         11,
         240,
         5
        ],
        [
         "Hotel Mercure La Sorbonne Saint Germain des Pr s",
         2017,
         11,
         240,
         5
        ],
        [
         "Garden Elys e",
         2017,
         11,
         240,
         5
        ],
        [
         "Mercure Paris Alesia",
         2017,
         11,
         240,
         5
        ],
        [
         "H tel des Ducs D Anjou",
         2017,
         11,
         240,
         5
        ],
        [
         "H tel Fabric",
         2017,
         11,
         240,
         5
        ],
        [
         "DoubleTree by Hilton London Islington",
         2017,
         11,
         210,
         6
        ],
        [
         "The Arch London",
         2017,
         11,
         210,
         6
        ],
        [
         "MARQUIS Faubourg St Honor Relais Ch teaux",
         2017,
         11,
         210,
         6
        ],
        [
         "Equestrian Estates Horse Farm Bed and Breakfast",
         2017,
         11,
         210,
         6
        ],
        [
         "Buddha Bar Hotel Paris",
         2017,
         11,
         210,
         6
        ],
        [
         "Royal Inn Motel",
         2017,
         11,
         210,
         6
        ],
        [
         "Clayton Crown Hotel London",
         2017,
         11,
         210,
         6
        ],
        [
         "Best Western Plus Elys e Secret",
         2017,
         11,
         210,
         6
        ],
        [
         "InterContinental Paris Avenue Marceau",
         2017,
         11,
         210,
         6
        ],
        [
         "Crowne Plaza London Kings Cross",
         2017,
         11,
         210,
         6
        ],
        [
         "Duret",
         2017,
         11,
         210,
         6
        ],
        [
         "Best Western Premier Op ra Opal",
         2017,
         11,
         210,
         6
        ],
        [
         "Kingsway Hall Hotel",
         2017,
         11,
         210,
         6
        ],
        [
         "Hotel Indigo London Tower Hill",
         2017,
         11,
         210,
         6
        ],
        [
         "London Marriott Maida Vale",
         2017,
         11,
         210,
         6
        ],
        [
         "40 Berkeley Hostel",
         2017,
         11,
         210,
         6
        ],
        [
         "The Waldorf Hilton",
         2017,
         11,
         210,
         6
        ],
        [
         "Radisson Blu Edwardian Mercer Street",
         2017,
         11,
         210,
         6
        ],
        [
         "Renaissance Paris Arc de Triomphe Hotel",
         2017,
         11,
         210,
         6
        ],
        [
         "Maison Albar H tel Paris Champs Elys es ex Mac Mahon",
         2017,
         11,
         210,
         6
        ],
        [
         "The Rookery",
         2017,
         11,
         210,
         6
        ],
        [
         "Radisson Blu Portman Hotel London",
         2017,
         11,
         210,
         6
        ],
        [
         "Le Pigalle Hotel",
         2017,
         11,
         210,
         6
        ],
        [
         "Club Quarters Hotel St Paul s",
         2017,
         11,
         210,
         6
        ],
        [
         "Hotel Daniel Paris",
         2017,
         11,
         210,
         6
        ],
        [
         "H tel Da Vinci Spa",
         2017,
         11,
         192,
         7
        ],
        [
         "Una Hotel Forte Dei Marmi",
         2017,
         11,
         185,
         8
        ],
        [
         "NH Amsterdam Caransa",
         2017,
         11,
         180,
         9
        ],
        [
         "Marylander Hotel Condo",
         2017,
         11,
         180,
         9
        ],
        [
         "Jacksonville Plaza Hotel and Suites",
         2017,
         11,
         180,
         9
        ],
        [
         "Quality Inn",
         2017,
         11,
         180,
         9
        ],
        [
         "NH Amsterdam Centre",
         2017,
         11,
         180,
         9
        ],
        [
         "Comfort Inn",
         2017,
         11,
         180,
         9
        ],
        [
         "Ramada Apollo Amsterdam Centre",
         2017,
         11,
         180,
         9
        ],
        [
         "Holiday Inn Express Hotel and Suites Meadowlands Area",
         2017,
         11,
         180,
         9
        ],
        [
         "Savoy Hotel Amsterdam",
         2017,
         11,
         180,
         9
        ],
        [
         "Quality Inn Near Six Flags",
         2017,
         11,
         180,
         9
        ],
        [
         "IH Hotels Milano Lorenteggio",
         2017,
         11,
         174,
         10
        ],
        [
         "Sofitel Paris Le Faubourg",
         2017,
         12,
         434,
         1
        ],
        [
         "The Pelham Starhotels Collezione",
         2017,
         12,
         310,
         2
        ],
        [
         "Hotel Millersburg",
         2017,
         12,
         310,
         2
        ],
        [
         "Shoshone Lodge",
         2017,
         12,
         279,
         3
        ],
        [
         "Best Western Hotel St George",
         2017,
         12,
         279,
         3
        ],
        [
         "TH Street Duomo",
         2017,
         12,
         279,
         3
        ],
        [
         "IH Hotels Milano Puccini",
         2017,
         12,
         279,
         3
        ],
        [
         "H tel Le Walt",
         2017,
         12,
         248,
         4
        ],
        [
         "Mercure Paris Alesia",
         2017,
         12,
         248,
         4
        ],
        [
         "H tel des Ducs D Anjou",
         2017,
         12,
         248,
         4
        ],
        [
         "Hotel Mercure La Sorbonne Saint Germain des Pr s",
         2017,
         12,
         248,
         4
        ],
        [
         "H tel Fabric",
         2017,
         12,
         248,
         4
        ],
        [
         "MARQUIS Faubourg St Honor Relais Ch teaux",
         2017,
         12,
         217,
         5
        ],
        [
         "London Marriott Maida Vale",
         2017,
         12,
         217,
         5
        ],
        [
         "40 Berkeley Hostel",
         2017,
         12,
         217,
         5
        ],
        [
         "Radisson Blu Edwardian Mercer Street",
         2017,
         12,
         217,
         5
        ],
        [
         "The Rookery",
         2017,
         12,
         217,
         5
        ],
        [
         "InterContinental Paris Avenue Marceau",
         2017,
         12,
         217,
         5
        ],
        [
         "Radisson Blu Portman Hotel London",
         2017,
         12,
         217,
         5
        ],
        [
         "Le Pigalle Hotel",
         2017,
         12,
         217,
         5
        ],
        [
         "Club Quarters Hotel St Paul s",
         2017,
         12,
         217,
         5
        ],
        [
         "Best Western Premier Op ra Opal",
         2017,
         12,
         217,
         5
        ],
        [
         "Hotel Indigo London Tower Hill",
         2017,
         12,
         217,
         5
        ],
        [
         "Hotel Daniel Paris",
         2017,
         12,
         217,
         5
        ],
        [
         "Equestrian Estates Horse Farm Bed and Breakfast",
         2017,
         12,
         217,
         5
        ],
        [
         "DoubleTree by Hilton London Islington",
         2017,
         12,
         217,
         5
        ],
        [
         "The Waldorf Hilton",
         2017,
         12,
         217,
         5
        ],
        [
         "Maison Albar H tel Paris Champs Elys es ex Mac Mahon",
         2017,
         12,
         217,
         5
        ],
        [
         "Kingsway Hall Hotel",
         2017,
         12,
         217,
         5
        ],
        [
         "Nu Hotel",
         2017,
         12,
         189,
         6
        ],
        [
         "Jacksonville Plaza Hotel and Suites",
         2017,
         12,
         186,
         7
        ],
        [
         "Comfort Inn",
         2017,
         12,
         186,
         7
        ],
        [
         "Ramada Apollo Amsterdam Centre",
         2017,
         12,
         186,
         7
        ],
        [
         "NH Amsterdam Caransa",
         2017,
         12,
         186,
         7
        ],
        [
         "Savoy Hotel Amsterdam",
         2017,
         12,
         186,
         7
        ],
        [
         "Holiday Inn Express Hotel and Suites Meadowlands Area",
         2017,
         12,
         186,
         7
        ],
        [
         "The Arch London",
         2017,
         12,
         161,
         8
        ],
        [
         "Vista Hotel On Lake Tarpon",
         2017,
         12,
         155,
         9
        ],
        [
         "Crowne Plaza London Kensington",
         2017,
         12,
         155,
         9
        ],
        [
         "Courtyard Burlington Harbor",
         2017,
         12,
         155,
         9
        ],
        [
         "Holiday Inn Express Gatesville",
         2017,
         12,
         155,
         9
        ],
        [
         "Ihg",
         2017,
         12,
         155,
         9
        ],
        [
         "Wingate By Wyndham Chantilly / Dulles Airport",
         2017,
         12,
         155,
         9
        ],
        [
         "Park Grand London Kensington",
         2017,
         12,
         155,
         9
        ],
        [
         "NH Amsterdam Centre",
         2017,
         12,
         138,
         10
        ],
        [
         "Sofitel Paris Le Faubourg",
         2018,
         1,
         434,
         1
        ],
        [
         "Hotel Millersburg",
         2018,
         1,
         310,
         2
        ],
        [
         "The Pelham Starhotels Collezione",
         2018,
         1,
         310,
         2
        ],
        [
         "TH Street Duomo",
         2018,
         1,
         279,
         3
        ],
        [
         "IH Hotels Milano Puccini",
         2018,
         1,
         279,
         3
        ],
        [
         "Shoshone Lodge",
         2018,
         1,
         279,
         3
        ],
        [
         "Mercure Paris Alesia",
         2018,
         1,
         248,
         4
        ],
        [
         "H tel Fabric",
         2018,
         1,
         248,
         4
        ],
        [
         "H tel des Ducs D Anjou",
         2018,
         1,
         248,
         4
        ],
        [
         "H tel Le Walt",
         2018,
         1,
         248,
         4
        ],
        [
         "Hotel Mercure La Sorbonne Saint Germain des Pr s",
         2018,
         1,
         248,
         4
        ],
        [
         "Equestrian Estates Horse Farm Bed and Breakfast",
         2018,
         1,
         217,
         5
        ],
        [
         "40 Berkeley Hostel",
         2018,
         1,
         217,
         5
        ],
        [
         "MARQUIS Faubourg St Honor Relais Ch teaux",
         2018,
         1,
         217,
         5
        ],
        [
         "DoubleTree by Hilton London Islington",
         2018,
         1,
         217,
         5
        ],
        [
         "Radisson Blu Edwardian Mercer Street",
         2018,
         1,
         217,
         5
        ],
        [
         "Radisson Blu Portman Hotel London",
         2018,
         1,
         217,
         5
        ],
        [
         "The Rookery",
         2018,
         1,
         217,
         5
        ],
        [
         "Maison Albar H tel Paris Champs Elys es ex Mac Mahon",
         2018,
         1,
         217,
         5
        ],
        [
         "Le Pigalle Hotel",
         2018,
         1,
         217,
         5
        ],
        [
         "Best Western Premier Op ra Opal",
         2018,
         1,
         217,
         5
        ],
        [
         "Kingsway Hall Hotel",
         2018,
         1,
         217,
         5
        ],
        [
         "Savoy Hotel Amsterdam",
         2018,
         1,
         186,
         6
        ],
        [
         "NH Amsterdam Caransa",
         2018,
         1,
         186,
         6
        ],
        [
         "Ramada Apollo Amsterdam Centre",
         2018,
         1,
         186,
         6
        ],
        [
         "Comfort Inn",
         2018,
         1,
         186,
         6
        ],
        [
         "Holiday Inn Express Hotel and Suites Meadowlands Area",
         2018,
         1,
         186,
         6
        ],
        [
         "London Marriott Maida Vale",
         2018,
         1,
         182,
         7
        ],
        [
         "Best Western Hotel St George",
         2018,
         1,
         162,
         8
        ],
        [
         "Vista Hotel On Lake Tarpon",
         2018,
         1,
         155,
         9
        ],
        [
         "Wingate By Wyndham Chantilly / Dulles Airport",
         2018,
         1,
         155,
         9
        ],
        [
         "Park Grand London Kensington",
         2018,
         1,
         155,
         9
        ],
        [
         "Holiday Inn Express Gatesville",
         2018,
         1,
         155,
         9
        ],
        [
         "Crowne Plaza London Kensington",
         2018,
         1,
         155,
         9
        ],
        [
         "InterContinental Paris Avenue Marceau",
         2018,
         1,
         154,
         10
        ],
        [
         "Sofitel Paris Le Faubourg",
         2018,
         2,
         378,
         1
        ],
        [
         "TH Street Duomo",
         2018,
         2,
         252,
         2
        ],
        [
         "Shoshone Lodge",
         2018,
         2,
         252,
         2
        ],
        [
         "Hotel Millersburg",
         2018,
         2,
         240,
         3
        ],
        [
         "H tel Le Walt",
         2018,
         2,
         224,
         4
        ],
        [
         "H tel Fabric",
         2018,
         2,
         224,
         4
        ],
        [
         "Mercure Paris Alesia",
         2018,
         2,
         224,
         4
        ],
        [
         "Hotel Mercure La Sorbonne Saint Germain des Pr s",
         2018,
         2,
         224,
         4
        ],
        [
         "H tel des Ducs D Anjou",
         2018,
         2,
         224,
         4
        ],
        [
         "Equestrian Estates Horse Farm Bed and Breakfast",
         2018,
         2,
         196,
         5
        ],
        [
         "DoubleTree by Hilton London Islington",
         2018,
         2,
         196,
         5
        ],
        [
         "MARQUIS Faubourg St Honor Relais Ch teaux",
         2018,
         2,
         196,
         5
        ],
        [
         "Radisson Blu Edwardian Mercer Street",
         2018,
         2,
         196,
         5
        ],
        [
         "The Rookery",
         2018,
         2,
         196,
         5
        ],
        [
         "Le Pigalle Hotel",
         2018,
         2,
         196,
         5
        ],
        [
         "Radisson Blu Portman Hotel London",
         2018,
         2,
         196,
         5
        ],
        [
         "Kingsway Hall Hotel",
         2018,
         2,
         196,
         5
        ],
        [
         "IH Hotels Milano Puccini",
         2018,
         2,
         180,
         6
        ],
        [
         "NH Amsterdam Caransa",
         2018,
         2,
         168,
         7
        ],
        [
         "Comfort Inn",
         2018,
         2,
         168,
         7
        ],
        [
         "The Pelham Starhotels Collezione",
         2018,
         2,
         165,
         8
        ],
        [
         "Maison Albar H tel Paris Champs Elys es ex Mac Mahon",
         2018,
         2,
         147,
         9
        ],
        [
         "Vista Hotel On Lake Tarpon",
         2018,
         2,
         140,
         10
        ],
        [
         "Holiday Inn Express Gatesville",
         2018,
         2,
         140,
         10
        ],
        [
         "Wingate By Wyndham Chantilly / Dulles Airport",
         2018,
         2,
         140,
         10
        ],
        [
         "Park Grand London Kensington",
         2018,
         2,
         140,
         10
        ],
        [
         "TH Street Duomo",
         2018,
         3,
         279,
         1
        ],
        [
         "H tel Fabric",
         2018,
         3,
         248,
         2
        ],
        [
         "Hotel Mercure La Sorbonne Saint Germain des Pr s",
         2018,
         3,
         248,
         2
        ],
        [
         "H tel des Ducs D Anjou",
         2018,
         3,
         248,
         2
        ],
        [
         "MARQUIS Faubourg St Honor Relais Ch teaux",
         2018,
         3,
         217,
         3
        ],
        [
         "DoubleTree by Hilton London Islington",
         2018,
         3,
         217,
         3
        ],
        [
         "Kingsway Hall Hotel",
         2018,
         3,
         217,
         3
        ],
        [
         "Radisson Blu Portman Hotel London",
         2018,
         3,
         217,
         3
        ],
        [
         "Sofitel Paris Le Faubourg",
         2018,
         3,
         217,
         3
        ],
        [
         "Le Pigalle Hotel",
         2018,
         3,
         217,
         3
        ],
        [
         "Comfort Inn",
         2018,
         3,
         186,
         4
        ],
        [
         "NH Amsterdam Caransa",
         2018,
         3,
         186,
         4
        ],
        [
         "Vista Hotel On Lake Tarpon",
         2018,
         3,
         155,
         5
        ],
        [
         "Holiday Inn Express Gatesville",
         2018,
         3,
         155,
         5
        ],
        [
         "The Pelham Starhotels Collezione",
         2018,
         3,
         155,
         5
        ],
        [
         "Park Grand London Kensington",
         2018,
         3,
         155,
         5
        ],
        [
         "Mercure Paris Alesia",
         2018,
         3,
         136,
         6
        ],
        [
         "Super 8 Indianapolis",
         2018,
         3,
         124,
         7
        ],
        [
         "Fiesta Inn and Suites",
         2018,
         3,
         124,
         7
        ],
        [
         "Big Mountain Lodge",
         2018,
         3,
         124,
         7
        ],
        [
         "Chelsea Inn",
         2018,
         3,
         93,
         8
        ],
        [
         "Days Inn Branson Mo",
         2018,
         3,
         93,
         8
        ],
        [
         "Equestrian Estates Horse Farm Bed and Breakfast",
         2018,
         3,
         91,
         9
        ],
        [
         "H tel Le Walt",
         2018,
         3,
         72,
         10
        ],
        [
         "TH Street Duomo",
         2018,
         4,
         270,
         1
        ],
        [
         "H tel Fabric",
         2018,
         4,
         240,
         2
        ],
        [
         "Hotel Mercure La Sorbonne Saint Germain des Pr s",
         2018,
         4,
         224,
         3
        ],
        [
         "DoubleTree by Hilton London Islington",
         2018,
         4,
         210,
         4
        ],
        [
         "Sofitel Paris Le Faubourg",
         2018,
         4,
         210,
         4
        ],
        [
         "Le Pigalle Hotel",
         2018,
         4,
         210,
         4
        ],
        [
         "Radisson Blu Portman Hotel London",
         2018,
         4,
         210,
         4
        ],
        [
         "NH Amsterdam Caransa",
         2018,
         4,
         180,
         5
        ],
        [
         "The Pelham Starhotels Collezione",
         2018,
         4,
         150,
         6
        ],
        [
         "Vista Hotel On Lake Tarpon",
         2018,
         4,
         150,
         6
        ],
        [
         "Holiday Inn Express Gatesville",
         2018,
         4,
         150,
         6
        ],
        [
         "Super 8 Indianapolis",
         2018,
         4,
         120,
         7
        ],
        [
         "Comfort Inn",
         2018,
         4,
         114,
         8
        ],
        [
         "H tel des Ducs D Anjou",
         2018,
         4,
         112,
         9
        ],
        [
         "Kingsway Hall Hotel",
         2018,
         4,
         105,
         10
        ],
        [
         "TH Street Duomo",
         2018,
         5,
         279,
         1
        ],
        [
         "H tel Fabric",
         2018,
         5,
         248,
         2
        ],
        [
         "Radisson Blu Portman Hotel London",
         2018,
         5,
         217,
         3
        ],
        [
         "Sofitel Paris Le Faubourg",
         2018,
         5,
         217,
         3
        ],
        [
         "Le Pigalle Hotel",
         2018,
         5,
         217,
         3
        ],
        [
         "The Pelham Starhotels Collezione",
         2018,
         5,
         155,
         4
        ],
        [
         "Holiday Inn Express Gatesville",
         2018,
         5,
         155,
         4
        ],
        [
         "NH Amsterdam Caransa",
         2018,
         5,
         144,
         5
        ],
        [
         "DoubleTree by Hilton London Islington",
         2018,
         5,
         140,
         6
        ],
        [
         "Super 8 Indianapolis",
         2018,
         5,
         124,
         7
        ],
        [
         "Days Inn Branson Mo",
         2018,
         5,
         93,
         8
        ],
        [
         "Mercer House B ria BCN",
         2018,
         5,
         32,
         9
        ],
        [
         "La Quinta",
         2018,
         5,
         31,
         10
        ],
        [
         "TH Street Duomo",
         2018,
         6,
         270,
         1
        ],
        [
         "H tel Fabric",
         2018,
         6,
         240,
         2
        ],
        [
         "Le Pigalle Hotel",
         2018,
         6,
         210,
         3
        ],
        [
         "Sofitel Paris Le Faubourg",
         2018,
         6,
         210,
         3
        ],
        [
         "Radisson Blu Portman Hotel London",
         2018,
         6,
         210,
         3
        ],
        [
         "Holiday Inn Express Gatesville",
         2018,
         6,
         150,
         4
        ],
        [
         "The Pelham Starhotels Collezione",
         2018,
         6,
         150,
         4
        ],
        [
         "Super 8 Indianapolis",
         2018,
         6,
         120,
         5
        ],
        [
         "Days Inn Branson Mo",
         2018,
         6,
         90,
         6
        ],
        [
         "La Quinta",
         2018,
         6,
         12,
         7
        ],
        [
         "TH Street Duomo",
         2018,
         7,
         279,
         1
        ],
        [
         "H tel Fabric",
         2018,
         7,
         248,
         2
        ],
        [
         "Radisson Blu Portman Hotel London",
         2018,
         7,
         217,
         3
        ],
        [
         "Holiday Inn Express Gatesville",
         2018,
         7,
         155,
         4
        ],
        [
         "The Pelham Starhotels Collezione",
         2018,
         7,
         155,
         4
        ],
        [
         "Super 8 Indianapolis",
         2018,
         7,
         124,
         5
        ],
        [
         "Le Pigalle Hotel",
         2018,
         7,
         119,
         6
        ],
        [
         "Days Inn Branson Mo",
         2018,
         7,
         90,
         7
        ],
        [
         "Sofitel Paris Le Faubourg",
         2018,
         7,
         28,
         8
        ],
        [
         "TH Street Duomo",
         2018,
         8,
         279,
         1
        ],
        [
         "Radisson Blu Portman Hotel London",
         2018,
         8,
         217,
         2
        ],
        [
         "H tel Fabric",
         2018,
         8,
         192,
         3
        ],
        [
         "Holiday Inn Express Gatesville",
         2018,
         8,
         150,
         4
        ],
        [
         "Super 8 Indianapolis",
         2018,
         8,
         124,
         5
        ],
        [
         "The Pelham Starhotels Collezione",
         2018,
         8,
         60,
         6
        ],
        [
         "TH Street Duomo",
         2018,
         9,
         126,
         1
        ],
        [
         "Super 8 Indianapolis",
         2018,
         9,
         120,
         2
        ],
        [
         "Radisson Blu Portman Hotel London",
         2018,
         9,
         14,
         3
        ],
        [
         "Super 8 Indianapolis",
         2018,
         10,
         20,
         1
        ]
       ],
       "datasetInfos": [],
       "dbfsResultPath": null,
       "isJsonSchema": true,
       "metadata": {
        "createTempViewForImplicitDf": true,
        "dataframeName": "_sqldf",
        "executionCount": 27
       },
       "overflow": false,
       "plotOptions": {
        "customPlotOptions": {},
        "displayType": "table",
        "pivotAggregation": null,
        "pivotColumns": null,
        "xColumns": null,
        "yColumns": null
       },
       "removedWidgets": [],
       "schema": [
        {
         "metadata": "{}",
         "name": "address",
         "type": "\"string\""
        },
        {
         "metadata": "{}",
         "name": "year",
         "type": "\"integer\""
        },
        {
         "metadata": "{}",
         "name": "month",
         "type": "\"integer\""
        },
        {
         "metadata": "{}",
         "name": "visits_count",
         "type": "\"long\""
        },
        {
         "metadata": "{}",
         "name": "rank",
         "type": "\"integer\""
        }
       ],
       "type": "table"
      }
     },
     "output_type": "display_data"
    }
   ],
   "source": [
    "%sql\n",
    "-- First CTE: Generate one row per day for each hotel booking.\n",
    "WITH exploded_dates AS (\n",
    "    SELECT\n",
    "        ex.hotel_id,          -- The hotel ID from the Expedia bookings table.\n",
    "        hw.address,           -- The hotel address from the hotel weather table.\n",
    "        -- Generate a sequence of dates from the check-in date (inclusive) to the day before check-out (inclusive)\n",
    "        -- and then create a separate row for each date.\n",
    "        explode(\n",
    "            sequence(\n",
    "                CAST(ex.srch_ci AS DATE), \n",
    "                CAST(ex.srch_co AS DATE) - INTERVAL 1 DAY, \n",
    "                interval 1 day\n",
    "            )\n",
    "        ) AS visit_date\n",
    "    FROM mydatabase.expedia ex\n",
    "    LEFT JOIN mydatabase.hotel_weather hw\n",
    "        ON ex.hotel_id = hw.id  -- Join the hotel weather data on matching hotel IDs.\n",
    "    WHERE \n",
    "        CAST(ex.srch_ci AS DATE) < CAST(ex.srch_co AS DATE)  -- Only consider bookings with a valid date range.\n",
    "        AND hw.address IS NOT NULL                           -- Only include records where the hotel address is available.\n",
    "),\n",
    "-- Second CTE: Aggregate visit counts by hotel address for each month.\n",
    "monthly_visits AS (\n",
    "    SELECT\n",
    "        address,\n",
    "        YEAR(visit_date) AS year,   -- Extract the year from the visit date.\n",
    "        MONTH(visit_date) AS month, -- Extract the month from the visit date.\n",
    "        COUNT(*) AS visits_count    -- Count the number of visit days per address in the given month.\n",
    "    FROM exploded_dates\n",
    "    GROUP BY address, YEAR(visit_date), MONTH(visit_date)\n",
    "),\n",
    "-- Third CTE: Rank hotels within each month based on the number of visits.\n",
    "ranked_hotels AS (\n",
    "    SELECT *,\n",
    "        -- Use DENSE_RANK to assign a rank to each hotel within each year and month partition,\n",
    "        -- ordering by visits_count in descending order so that hotels with the most visits rank highest.\n",
    "        DENSE_RANK() OVER (PARTITION BY year, month ORDER BY visits_count DESC) AS rank\n",
    "    FROM monthly_visits\n",
    ")\n",
    "-- Final selection: Return hotels that are among the top 10 for each month.\n",
    "SELECT * \n",
    "FROM ranked_hotels \n",
    "WHERE rank <= 10;"
   ]
  },
  {
   "cell_type": "code",
   "execution_count": 0,
   "metadata": {
    "application/vnd.databricks.v1+cell": {
     "cellMetadata": {
      "byteLimit": 2048000,
      "implicitDf": true,
      "rowLimit": 10000
     },
     "collapsed": true,
     "inputWidgets": {},
     "nuid": "1151edeb-fdaf-41c0-8ed5-6728ffdb6227",
     "showTitle": true,
     "tableResultSettingsMap": {},
     "title": "2nd_query_explain"
    }
   },
   "outputs": [
    {
     "data": {
      "text/html": [
       "<style scoped>\n",
       "  .table-result-container {\n",
       "    max-height: 300px;\n",
       "    overflow: auto;\n",
       "  }\n",
       "  table, th, td {\n",
       "    border: 1px solid black;\n",
       "    border-collapse: collapse;\n",
       "  }\n",
       "  th, td {\n",
       "    padding: 5px;\n",
       "  }\n",
       "  th {\n",
       "    text-align: left;\n",
       "  }\n",
       "</style><div class='table-result-container'><table class='table-result'><thead style='background-color: white'><tr><th>plan</th></tr></thead><tbody><tr><td>== Physical Plan ==\n",
       "AdaptiveSparkPlan isFinalPlan=false\n",
       "+- == Initial Plan ==\n",
       "   Filter (rank#670 <= 10)\n",
       "   +- RunningWindowFunction [address#740, year#667, month#668, visits_count#669L, dense_rank(visits_count#669L) windowspecdefinition(year#667, month#668, visits_count#669L DESC NULLS LAST, specifiedwindowframe(RowFrame, unboundedpreceding$(), currentrow$())) AS rank#670], [year#667, month#668], [visits_count#669L DESC NULLS LAST], false\n",
       "      +- Sort [year#667 ASC NULLS FIRST, month#668 ASC NULLS FIRST, visits_count#669L DESC NULLS LAST], false, 0\n",
       "         +- Exchange hashpartitioning(year#667, month#668, 200), ENSURE_REQUIREMENTS, [plan_id=917]\n",
       "            +- Project [address#740, year#667, month#668, visits_count#669L]\n",
       "               +- Filter (_local_dense_rank#808 <= 10)\n",
       "                  +- RunningWindowFunction [address#740, year#667, month#668, visits_count#669L, dense_rank(visits_count#669L) windowspecdefinition(year#667, month#668, visits_count#669L DESC NULLS LAST, specifiedwindowframe(RowFrame, unboundedpreceding$(), currentrow$())) AS _local_dense_rank#808], [year#667, month#668], [visits_count#669L DESC NULLS LAST], true\n",
       "                     +- Sort [year#667 ASC NULLS FIRST, month#668 ASC NULLS FIRST, visits_count#669L DESC NULLS LAST], false, 0\n",
       "                        +- HashAggregate(keys=[address#740, _groupingexpression#769, _groupingexpression#770], functions=[finalmerge_count(merge count#772L) AS count(1)#754L])\n",
       "                           +- Exchange hashpartitioning(address#740, _groupingexpression#769, _groupingexpression#770, 200), ENSURE_REQUIREMENTS, [plan_id=911]\n",
       "                              +- HashAggregate(keys=[address#740, _groupingexpression#769, _groupingexpression#770], functions=[partial_count(1) AS count#772L])\n",
       "                                 +- Project [address#740, year(visit_date#759) AS _groupingexpression#769, month(visit_date#759) AS _groupingexpression#770]\n",
       "                                    +- Generate explode(sequence(cast(srch_ci#732 as date), date_add(cast(srch_co#733 as date), -1), Some(INTERVAL '1' DAY), Some(Etc/UTC))), [address#740], false, [visit_date#759]\n",
       "                                       +- ColumnarToRow\n",
       "                                          +- PhotonResultStage\n",
       "                                             +- PhotonProject [srch_ci#732, srch_co#733, address#740]\n",
       "                                                +- PhotonBroadcastHashJoin [hotel_id#739L], [cast(id#746 as bigint)], Inner, BuildRight, false, true\n",
       "                                                   :- PhotonScan parquet spark_catalog.mydatabase.expedia[srch_ci#732,srch_co#733,hotel_id#739L] DataFilters: [isnotnull(hotel_id#739L), isnotnull(srch_ci#732), isnotnull(srch_co#733), (cast(srch_ci#732 as d..., DictionaryFilters: [], Format: parquet, Location: PreparedDeltaFileIndex(1 paths)[wasbs://data@developmentwesteurope6o.blob.core.windows.net/delta/..., OptionalDataFilters: [hashedrelationcontains(hotel_id#739L)], PartitionFilters: [], ReadSchema: struct<srch_ci:string,srch_co:string,hotel_id:bigint>, RequiredDataFilters: [isnotnull(hotel_id#739L), isnotnull(srch_ci#732), isnotnull(srch_co#733), (cast(srch_ci#732 as d...\n",
       "                                                   +- PhotonShuffleExchangeSource\n",
       "                                                      +- PhotonShuffleMapStage\n",
       "                                                         +- PhotonShuffleExchangeSink SinglePartition\n",
       "                                                            +- PhotonProject [address#740, id#746]\n",
       "                                                               +- PhotonScan parquet spark_catalog.mydatabase.hotel_weather[address#740,id#746,year#751,month#752,day#753] DataFilters: [isnotnull(address#740), isnotnull(id#746)], DictionaryFilters: [], Format: parquet, Location: PreparedDeltaFileIndex(1 paths)[wasbs://data@developmentwesteurope6o.blob.core.windows.net/delta/..., OptionalDataFilters: [], PartitionFilters: [], ReadSchema: struct<address:string,id:string>, RequiredDataFilters: [isnotnull(address#740), isnotnull(id#746)]\n",
       "\n",
       "\n",
       "== Photon Explanation ==\n",
       "Photon does not fully support the query because:\n",
       "\n",
       "\tsequence(cast(srch_ci#732 as date), date_add(cast(srch_co#733 as date), -1), Some(INTERVAL '1' DAY), Some(Etc/UTC)) is not supported:\n",
       "\t\tExpression sequence does not support DateType.\n",
       "\n",
       "Reference node:\n",
       "\tGenerate explode(sequence(cast(srch_ci#732 as date), date_add(cast(srch_co#733 as date), -1), Some(INTERVAL '1' DAY), Some(Etc/UTC))), [address#740], false, [visit_date#759]\n",
       "</td></tr></tbody></table></div>"
      ]
     },
     "metadata": {
      "application/vnd.databricks.v1+output": {
       "addedWidgets": {},
       "aggData": [],
       "aggError": "",
       "aggOverflow": false,
       "aggSchema": [],
       "aggSeriesLimitReached": false,
       "aggType": "",
       "arguments": {},
       "columnCustomDisplayInfos": {},
       "data": [
        [
         "== Physical Plan ==\nAdaptiveSparkPlan isFinalPlan=false\n+- == Initial Plan ==\n   Filter (rank#670 <= 10)\n   +- RunningWindowFunction [address#740, year#667, month#668, visits_count#669L, dense_rank(visits_count#669L) windowspecdefinition(year#667, month#668, visits_count#669L DESC NULLS LAST, specifiedwindowframe(RowFrame, unboundedpreceding$(), currentrow$())) AS rank#670], [year#667, month#668], [visits_count#669L DESC NULLS LAST], false\n      +- Sort [year#667 ASC NULLS FIRST, month#668 ASC NULLS FIRST, visits_count#669L DESC NULLS LAST], false, 0\n         +- Exchange hashpartitioning(year#667, month#668, 200), ENSURE_REQUIREMENTS, [plan_id=917]\n            +- Project [address#740, year#667, month#668, visits_count#669L]\n               +- Filter (_local_dense_rank#808 <= 10)\n                  +- RunningWindowFunction [address#740, year#667, month#668, visits_count#669L, dense_rank(visits_count#669L) windowspecdefinition(year#667, month#668, visits_count#669L DESC NULLS LAST, specifiedwindowframe(RowFrame, unboundedpreceding$(), currentrow$())) AS _local_dense_rank#808], [year#667, month#668], [visits_count#669L DESC NULLS LAST], true\n                     +- Sort [year#667 ASC NULLS FIRST, month#668 ASC NULLS FIRST, visits_count#669L DESC NULLS LAST], false, 0\n                        +- HashAggregate(keys=[address#740, _groupingexpression#769, _groupingexpression#770], functions=[finalmerge_count(merge count#772L) AS count(1)#754L])\n                           +- Exchange hashpartitioning(address#740, _groupingexpression#769, _groupingexpression#770, 200), ENSURE_REQUIREMENTS, [plan_id=911]\n                              +- HashAggregate(keys=[address#740, _groupingexpression#769, _groupingexpression#770], functions=[partial_count(1) AS count#772L])\n                                 +- Project [address#740, year(visit_date#759) AS _groupingexpression#769, month(visit_date#759) AS _groupingexpression#770]\n                                    +- Generate explode(sequence(cast(srch_ci#732 as date), date_add(cast(srch_co#733 as date), -1), Some(INTERVAL '1' DAY), Some(Etc/UTC))), [address#740], false, [visit_date#759]\n                                       +- ColumnarToRow\n                                          +- PhotonResultStage\n                                             +- PhotonProject [srch_ci#732, srch_co#733, address#740]\n                                                +- PhotonBroadcastHashJoin [hotel_id#739L], [cast(id#746 as bigint)], Inner, BuildRight, false, true\n                                                   :- PhotonScan parquet spark_catalog.mydatabase.expedia[srch_ci#732,srch_co#733,hotel_id#739L] DataFilters: [isnotnull(hotel_id#739L), isnotnull(srch_ci#732), isnotnull(srch_co#733), (cast(srch_ci#732 as d..., DictionaryFilters: [], Format: parquet, Location: PreparedDeltaFileIndex(1 paths)[wasbs://data@developmentwesteurope6o.blob.core.windows.net/delta/..., OptionalDataFilters: [hashedrelationcontains(hotel_id#739L)], PartitionFilters: [], ReadSchema: struct<srch_ci:string,srch_co:string,hotel_id:bigint>, RequiredDataFilters: [isnotnull(hotel_id#739L), isnotnull(srch_ci#732), isnotnull(srch_co#733), (cast(srch_ci#732 as d...\n                                                   +- PhotonShuffleExchangeSource\n                                                      +- PhotonShuffleMapStage\n                                                         +- PhotonShuffleExchangeSink SinglePartition\n                                                            +- PhotonProject [address#740, id#746]\n                                                               +- PhotonScan parquet spark_catalog.mydatabase.hotel_weather[address#740,id#746,year#751,month#752,day#753] DataFilters: [isnotnull(address#740), isnotnull(id#746)], DictionaryFilters: [], Format: parquet, Location: PreparedDeltaFileIndex(1 paths)[wasbs://data@developmentwesteurope6o.blob.core.windows.net/delta/..., OptionalDataFilters: [], PartitionFilters: [], ReadSchema: struct<address:string,id:string>, RequiredDataFilters: [isnotnull(address#740), isnotnull(id#746)]\n\n\n== Photon Explanation ==\nPhoton does not fully support the query because:\n\n\tsequence(cast(srch_ci#732 as date), date_add(cast(srch_co#733 as date), -1), Some(INTERVAL '1' DAY), Some(Etc/UTC)) is not supported:\n\t\tExpression sequence does not support DateType.\n\nReference node:\n\tGenerate explode(sequence(cast(srch_ci#732 as date), date_add(cast(srch_co#733 as date), -1), Some(INTERVAL '1' DAY), Some(Etc/UTC))), [address#740], false, [visit_date#759]\n"
        ]
       ],
       "datasetInfos": [],
       "dbfsResultPath": null,
       "isJsonSchema": true,
       "metadata": {
        "createTempViewForImplicitDf": true,
        "dataframeName": "_sqldf",
        "executionCount": 2
       },
       "overflow": false,
       "plotOptions": {
        "customPlotOptions": {},
        "displayType": "table",
        "pivotAggregation": null,
        "pivotColumns": null,
        "xColumns": null,
        "yColumns": null
       },
       "removedWidgets": [],
       "schema": [
        {
         "metadata": "{}",
         "name": "plan",
         "type": "\"string\""
        }
       ],
       "type": "table"
      }
     },
     "output_type": "display_data"
    }
   ],
   "source": [
    "%sql\n",
    "EXPLAIN\n",
    "WITH exploded_dates AS (\n",
    "    SELECT\n",
    "        ex.hotel_id,\n",
    "        hw.address,\n",
    "        explode(sequence(\n",
    "            CAST(ex.srch_ci AS DATE), \n",
    "            CAST(ex.srch_co AS DATE) - INTERVAL 1 DAY, \n",
    "            interval 1 day)) AS visit_date\n",
    "    FROM mydatabase.expedia ex\n",
    "    LEFT JOIN mydatabase.hotel_weather hw\n",
    "    ON ex.hotel_id = hw.id\n",
    "    WHERE CAST(ex.srch_ci AS DATE) < CAST(ex.srch_co AS DATE)\n",
    "    AND hw.address IS NOT NULL\n",
    "),\n",
    "monthly_visits AS (\n",
    "    SELECT\n",
    "        address,\n",
    "        YEAR(visit_date) AS year,\n",
    "        MONTH(visit_date) AS month,\n",
    "        COUNT(*) AS visits_count\n",
    "    FROM exploded_dates\n",
    "    GROUP BY address, YEAR(visit_date), MONTH(visit_date)\n",
    "),\n",
    "ranked_hotels AS (\n",
    "    SELECT *,\n",
    "        DENSE_RANK() OVER (PARTITION BY year, month ORDER BY visits_count DESC) AS rank\n",
    "    FROM monthly_visits\n",
    ")\n",
    "SELECT * FROM ranked_hotels WHERE rank <= 10;\n"
   ]
  },
  {
   "cell_type": "code",
   "execution_count": 0,
   "metadata": {
    "application/vnd.databricks.v1+cell": {
     "cellMetadata": {
      "byteLimit": 2048000,
      "implicitDf": true,
      "rowLimit": 10000
     },
     "collapsed": true,
     "inputWidgets": {},
     "nuid": "99edd66f-10df-441e-80c5-42a5a573531c",
     "showTitle": true,
     "tableResultSettingsMap": {},
     "title": "3rd_query_raw"
    }
   },
   "outputs": [
    {
     "data": {
      "text/html": [
       "<style scoped>\n",
       "  .table-result-container {\n",
       "    max-height: 300px;\n",
       "    overflow: auto;\n",
       "  }\n",
       "  table, th, td {\n",
       "    border: 1px solid black;\n",
       "    border-collapse: collapse;\n",
       "  }\n",
       "  th, td {\n",
       "    padding: 5px;\n",
       "  }\n",
       "  th {\n",
       "    text-align: left;\n",
       "  }\n",
       "</style><div class='table-result-container'><table class='table-result'><thead style='background-color: white'><tr><th>booking_id</th><th>hotel_id</th><th>address</th><th>first_day</th><th>last_day</th><th>temp_trend</th><th>avg_temperature</th></tr></thead><tbody><tr><td>560359</td><td>369367187456</td><td>Greektown Casino</td><td>2016-10-06</td><td>2016-10-26</td><td>-16.2</td><td>11.23</td></tr><tr><td>432180</td><td>137438953473</td><td>Country Inn and Suites By Carlson</td><td>2016-10-17</td><td>2016-10-27</td><td>-14.4</td><td>12.57</td></tr><tr><td>1345044</td><td>137438953473</td><td>Country Inn and Suites By Carlson</td><td>2016-10-17</td><td>2016-10-27</td><td>-14.4</td><td>12.57</td></tr><tr><td>1378048</td><td>335007449088</td><td>Americinn Lodge & Suites Appleton</td><td>2016-10-06</td><td>2016-10-13</td><td>-13.5</td><td>10.55</td></tr><tr><td>2321750</td><td>472446402561</td><td>Meadow Farm Bed and Breakfast</td><td>2016-10-19</td><td>2016-10-26</td><td>-13.4</td><td>9.1</td></tr><tr><td>49062</td><td>833223655425</td><td>Fairbridge Inn</td><td>2017-09-11</td><td>2017-09-19</td><td>-13.1</td><td>13.13</td></tr><tr><td>1735184</td><td>1151051235329</td><td>Red Banks Motel</td><td>2017-09-22</td><td>2017-09-30</td><td>-12.7</td><td>18.75</td></tr><tr><td>1956439</td><td>1151051235329</td><td>Red Banks Motel</td><td>2017-09-22</td><td>2017-09-30</td><td>-12.7</td><td>18.75</td></tr><tr><td>601476</td><td>395136991232</td><td>Parkway Inn Jellico</td><td>2017-08-20</td><td>2017-09-11</td><td>-11.7</td><td>18.65</td></tr><tr><td>1138791</td><td>240518168576</td><td>Hotel Deca - A Noble House Hotel</td><td>2017-09-06</td><td>2017-09-20</td><td>-11.7</td><td>16.37</td></tr><tr><td>1094881</td><td>566935683073</td><td>Springhill Suites Columbia</td><td>2016-10-11</td><td>2016-10-19</td><td>11.6</td><td>17.2</td></tr><tr><td>1284653</td><td>1451698946051</td><td>Riverside Motel and Cabins</td><td>2017-09-09</td><td>2017-09-17</td><td>-11.6</td><td>15.73</td></tr><tr><td>295137</td><td>120259084289</td><td>Days Inn</td><td>2016-10-16</td><td>2016-10-24</td><td>-11.4</td><td>13.9</td></tr><tr><td>382735</td><td>1030792151042</td><td>Progress Management Co</td><td>2016-10-15</td><td>2016-10-26</td><td>-11.4</td><td>11.8</td></tr><tr><td>1574080</td><td>987842478081</td><td>Country Inn & Suites By Carlson</td><td>2016-10-16</td><td>2016-10-24</td><td>-11.4</td><td>13.9</td></tr><tr><td>1717840</td><td>1030792151042</td><td>Progress Management Co</td><td>2016-10-15</td><td>2016-10-26</td><td>-11.4</td><td>11.8</td></tr><tr><td>1931131</td><td>987842478081</td><td>Country Inn & Suites By Carlson</td><td>2016-10-16</td><td>2016-10-24</td><td>-11.4</td><td>13.9</td></tr><tr><td>2032303</td><td>120259084289</td><td>Days Inn</td><td>2016-10-16</td><td>2016-10-24</td><td>-11.4</td><td>13.9</td></tr><tr><td>2507920</td><td>120259084289</td><td>Days Inn</td><td>2016-10-16</td><td>2016-10-24</td><td>-11.4</td><td>13.9</td></tr><tr><td>328567</td><td>747324309508</td><td>Twin Gables of Woodstock</td><td>2016-10-18</td><td>2016-10-29</td><td>-11.3</td><td>14.45</td></tr><tr><td>1161625</td><td>386547056644</td><td>Hampton Inn Grand Junction Downtown/historic Main Street</td><td>2017-09-10</td><td>2017-09-27</td><td>-10.8</td><td>19.0</td></tr><tr><td>661917</td><td>970662608905</td><td>Koehne Dexter Terrie</td><td>2017-09-10</td><td>2017-09-20</td><td>-10.7</td><td>18.0</td></tr><tr><td>39700</td><td>103079215107</td><td>Monterey Beach Dunes Inn</td><td>2017-09-03</td><td>2017-09-13</td><td>-10.2</td><td>22.3</td></tr><tr><td>1808137</td><td>575525617665</td><td>Alpine Motel</td><td>2016-10-18</td><td>2016-10-29</td><td>-10.1</td><td>14.15</td></tr><tr><td>683964</td><td>1219770712065</td><td>Inroads Ireland Tours</td><td>2016-10-11</td><td>2016-10-20</td><td>-9.9</td><td>12.65</td></tr><tr><td>1736300</td><td>824633720839</td><td>Budget Inn</td><td>2016-10-09</td><td>2016-10-19</td><td>9.8</td><td>19.2</td></tr><tr><td>1266432</td><td>137438953477</td><td>Holiday Inn Express and Suites Gahanna/columbus Airport E</td><td>2017-09-01</td><td>2017-09-21</td><td>9.6</td><td>18.27</td></tr><tr><td>462703</td><td>283467841539</td><td>Fairfield Inn Suites Chattanooga South/east Ridge</td><td>2017-09-11</td><td>2017-09-25</td><td>9.5</td><td>19.73</td></tr><tr><td>1237232</td><td>120259084291</td><td>Econo Lodge Bellmawr</td><td>2016-10-03</td><td>2016-10-28</td><td>-9.5</td><td>13.77</td></tr><tr><td>1378934</td><td>1400159338499</td><td>Garden of The Gods Club & Resort</td><td>2016-10-19</td><td>2016-10-28</td><td>9.4</td><td>1.4</td></tr><tr><td>1508673</td><td>1314259992576</td><td>Fh Hotel Villa Fiesole</td><td>2017-08-19</td><td>2017-09-03</td><td>-9.4</td><td>21.55</td></tr><tr><td>2361885</td><td>2405181685764</td><td>Hotel Manin</td><td>2017-08-31</td><td>2017-09-20</td><td>-9.4</td><td>18.67</td></tr><tr><td>2399053</td><td>3375844294666</td><td>MiHotel</td><td>2017-08-31</td><td>2017-09-20</td><td>-9.4</td><td>18.67</td></tr><tr><td>2466066</td><td>1400159338499</td><td>Garden of The Gods Club & Resort</td><td>2016-10-19</td><td>2016-10-28</td><td>9.4</td><td>1.4</td></tr><tr><td>1273919</td><td>68719476737</td><td>Four Points By Sheraton Memphis Southwind</td><td>2016-10-12</td><td>2016-10-21</td><td>-9.3</td><td>17.25</td></tr><tr><td>1650097</td><td>472446402561</td><td>Meadow Farm Bed and Breakfast</td><td>2016-10-19</td><td>2016-10-28</td><td>-9.3</td><td>6.85</td></tr><tr><td>2477458</td><td>395136991234</td><td>Hitching Horse Inn</td><td>2016-10-19</td><td>2016-10-28</td><td>9.3</td><td>14.05</td></tr><tr><td>29296</td><td>1537598291970</td><td>Comfort Inn</td><td>2017-09-10</td><td>2017-09-25</td><td>9.2</td><td>20.5</td></tr><tr><td>1418129</td><td>8589934596</td><td>Homewood Suites By Hilton Albuquerque - Journal Center</td><td>2017-09-11</td><td>2017-09-28</td><td>-8.9</td><td>18.45</td></tr><tr><td>1137564</td><td>1494648619009</td><td>Sheraton Baltimore North Hotels</td><td>2016-10-18</td><td>2016-10-27</td><td>-8.8</td><td>16.5</td></tr><tr><td>1167208</td><td>1365799600131</td><td>Americas Best Value Inn</td><td>2016-10-21</td><td>2016-10-31</td><td>8.7</td><td>17.25</td></tr><tr><td>1655711</td><td>1511828488192</td><td>Homewood Suites</td><td>2016-10-04</td><td>2016-10-16</td><td>8.7</td><td>14.75</td></tr><tr><td>1935205</td><td>1365799600131</td><td>Americas Best Value Inn</td><td>2016-10-21</td><td>2016-10-31</td><td>8.7</td><td>17.25</td></tr><tr><td>1042970</td><td>34359738373</td><td>Fitzgerald's Restaurant</td><td>2016-10-11</td><td>2016-10-21</td><td>-8.5</td><td>10.45</td></tr><tr><td>706310</td><td>1082331758595</td><td>Hampton Inn Virginia Beach Oceanfront North</td><td>2016-10-19</td><td>2016-10-29</td><td>-8.4</td><td>17.53</td></tr><tr><td>1028385</td><td>901943132160</td><td>Ambassadors Inn and Suites</td><td>2016-10-19</td><td>2016-10-29</td><td>-8.4</td><td>17.53</td></tr><tr><td>1051732</td><td>1597727834114</td><td>Pine Motel</td><td>2016-10-17</td><td>2016-10-29</td><td>-8.4</td><td>14.77</td></tr><tr><td>2058003</td><td>1597727834114</td><td>Pine Motel</td><td>2016-10-17</td><td>2016-10-29</td><td>-8.4</td><td>14.77</td></tr><tr><td>117869</td><td>137438953472</td><td>The Citizen Hotel, Autograph Collection</td><td>2017-08-19</td><td>2017-09-02</td><td>8.3</td><td>26.65</td></tr><tr><td>731139</td><td>137438953472</td><td>The Citizen Hotel, Autograph Collection</td><td>2017-08-19</td><td>2017-09-02</td><td>8.3</td><td>26.65</td></tr><tr><td>107522</td><td>781684047872</td><td>Knights Inn</td><td>2017-09-10</td><td>2017-09-20</td><td>7.8</td><td>18.5</td></tr><tr><td>1436218</td><td>953482739712</td><td>Columbia Gorge Riverside Lodge</td><td>2017-08-09</td><td>2017-08-17</td><td>-7.6</td><td>22.7</td></tr><tr><td>364112</td><td>970662608901</td><td>Extended Stay America Princeton - West Windsor</td><td>2017-09-07</td><td>2017-09-24</td><td>7.5</td><td>18.4</td></tr><tr><td>2361863</td><td>1752346656777</td><td>Hotel Portello Gruppo Minihotel</td><td>2017-08-17</td><td>2017-09-12</td><td>-7.5</td><td>22.4</td></tr><tr><td>1875137</td><td>876173328384</td><td>Econo Lodge St Robert</td><td>2017-09-10</td><td>2017-09-20</td><td>7.4</td><td>23.5</td></tr><tr><td>1935300</td><td>876173328389</td><td>Greenstay Hotel and Suites</td><td>2017-09-13</td><td>2017-09-20</td><td>7.4</td><td>21.93</td></tr><tr><td>2411004</td><td>876173328389</td><td>Greenstay Hotel and Suites</td><td>2017-09-13</td><td>2017-09-20</td><td>7.4</td><td>21.93</td></tr><tr><td>1258918</td><td>1133871366145</td><td>Wyndham Resort At Fairfield Mountains</td><td>2016-10-15</td><td>2016-10-22</td><td>-7.3</td><td>14.6</td></tr><tr><td>1402376</td><td>1133871366145</td><td>Wyndham Resort At Fairfield Mountains</td><td>2016-10-15</td><td>2016-10-22</td><td>-7.3</td><td>14.6</td></tr><tr><td>1781621</td><td>60129542148</td><td>Americas Best Value Inn</td><td>2017-08-26</td><td>2017-09-10</td><td>-7.2</td><td>22.63</td></tr><tr><td>2010829</td><td>1331439861764</td><td>Terry Peak Ski Area</td><td>2016-10-19</td><td>2016-10-26</td><td>7.2</td><td>7.23</td></tr><tr><td>86475</td><td>747324309509</td><td>Americas Best Value Inn</td><td>2016-10-20</td><td>2016-10-27</td><td>7.1</td><td>11.65</td></tr><tr><td>1158845</td><td>747324309509</td><td>Americas Best Value Inn</td><td>2016-10-20</td><td>2016-10-27</td><td>7.1</td><td>11.65</td></tr><tr><td>1181749</td><td>1597727834112</td><td>Clarion</td><td>2017-09-13</td><td>2017-09-21</td><td>7.1</td><td>20.25</td></tr><tr><td>2212720</td><td>1082331758594</td><td>Hampton Inn and Suites Annapolis</td><td>2017-09-23</td><td>2017-09-30</td><td>-7.0</td><td>20.52</td></tr><tr><td>24328</td><td>506806140931</td><td>Courtyard Columbus Worthington</td><td>2017-08-18</td><td>2017-08-25</td><td>-6.9</td><td>20.25</td></tr><tr><td>1772482</td><td>798863917060</td><td>Bear Cove Inn</td><td>2017-09-18</td><td>2017-09-25</td><td>6.9</td><td>18.85</td></tr><tr><td>599465</td><td>1700807049218</td><td>Holiday Inn Express & Suites West Monroe</td><td>2016-10-14</td><td>2016-10-21</td><td>-6.8</td><td>20.33</td></tr><tr><td>2417350</td><td>858993459207</td><td>Rodeway Inn Near Venice Beach</td><td>2017-09-01</td><td>2017-09-12</td><td>-6.8</td><td>24.5</td></tr><tr><td>1451396</td><td>1391569403904</td><td>Hotel De La Ville</td><td>2016-10-04</td><td>2016-10-12</td><td>-6.7</td><td>10.95</td></tr><tr><td>1851441</td><td>1047972020226</td><td>Country Inn & Suites By Carlson</td><td>2016-10-18</td><td>2016-10-25</td><td>-6.7</td><td>18.45</td></tr><tr><td>2258383</td><td>1047972020226</td><td>Country Inn & Suites By Carlson</td><td>2016-10-18</td><td>2016-10-25</td><td>-6.7</td><td>18.45</td></tr><tr><td>26479</td><td>919123001345</td><td>Hampton Inn</td><td>2016-10-16</td><td>2016-10-25</td><td>-6.6</td><td>17.6</td></tr><tr><td>124284</td><td>1202590842888</td><td>Sportsmen's Lodge</td><td>2016-10-09</td><td>2016-10-17</td><td>-6.6</td><td>20.7</td></tr><tr><td>428343</td><td>1065151889409</td><td>Budget Inn</td><td>2017-09-22</td><td>2017-09-29</td><td>-6.6</td><td>13.6</td></tr><tr><td>471843</td><td>1065151889409</td><td>Budget Inn</td><td>2017-09-22</td><td>2017-09-29</td><td>-6.6</td><td>13.6</td></tr><tr><td>749472</td><td>1460288880646</td><td>Spring Bay Inn</td><td>2017-08-03</td><td>2017-08-17</td><td>-6.6</td><td>16.33</td></tr><tr><td>868339</td><td>1202590842888</td><td>Sportsmen's Lodge</td><td>2016-10-09</td><td>2016-10-17</td><td>-6.6</td><td>20.7</td></tr><tr><td>1490352</td><td>1305670057990</td><td>Hampton Inn Abilene</td><td>2017-09-07</td><td>2017-09-16</td><td>6.6</td><td>25.1</td></tr><tr><td>52491</td><td>1597727834114</td><td>Pine Motel</td><td>2016-10-17</td><td>2016-10-24</td><td>-6.4</td><td>16.5</td></tr><tr><td>425364</td><td>936302870528</td><td>Tulip Inn Turin West</td><td>2017-08-02</td><td>2017-08-10</td><td>-6.4</td><td>24.4</td></tr><tr><td>141006</td><td>661424963589</td><td>Econo Lodge</td><td>2016-10-03</td><td>2016-10-11</td><td>-6.2</td><td>12.7</td></tr><tr><td>513695</td><td>1632087572481</td><td>Skidway Lake Motel</td><td>2017-08-18</td><td>2017-08-25</td><td>-6.2</td><td>16.2</td></tr><tr><td>568090</td><td>1640677507073</td><td>Holiday Inn Express Grove City (outlet Center)</td><td>2016-10-03</td><td>2016-10-10</td><td>-6.2</td><td>11.3</td></tr><tr><td>859834</td><td>1632087572481</td><td>Skidway Lake Motel</td><td>2017-08-18</td><td>2017-08-25</td><td>-6.2</td><td>16.2</td></tr><tr><td>1819082</td><td>1632087572481</td><td>Skidway Lake Motel</td><td>2017-08-18</td><td>2017-08-25</td><td>-6.2</td><td>16.2</td></tr><tr><td>125046</td><td>146028888072</td><td>Rodeway Inn Airport</td><td>2017-08-01</td><td>2017-08-17</td><td>-6.1</td><td>25.35</td></tr><tr><td>1359587</td><td>3418793967627</td><td>The Hub Hotel</td><td>2017-08-15</td><td>2017-09-03</td><td>-6.1</td><td>20.75</td></tr><tr><td>664363</td><td>1159641169921</td><td>Days Inn Berea Ky</td><td>2017-08-21</td><td>2017-09-01</td><td>-6.0</td><td>21.0</td></tr><tr><td>1409813</td><td>635655159808</td><td>Motel 6</td><td>2017-08-28</td><td>2017-09-08</td><td>-6.0</td><td>25.2</td></tr><tr><td>1436804</td><td>1047972020226</td><td>Country Inn & Suites By Carlson</td><td>2016-10-10</td><td>2016-10-18</td><td>6.0</td><td>18.8</td></tr><tr><td>1903757</td><td>635655159808</td><td>Motel 6</td><td>2017-08-28</td><td>2017-09-08</td><td>-6.0</td><td>25.2</td></tr><tr><td>2165445</td><td>1709396983811</td><td>La Quinta Inn and Suites Nashville Franklin</td><td>2017-08-05</td><td>2017-08-17</td><td>6.0</td><td>24.07</td></tr><tr><td>2192945</td><td>858993459204</td><td>Comfort Suites Mount Vernon</td><td>2017-08-26</td><td>2017-09-07</td><td>-6.0</td><td>18.8</td></tr><tr><td>484366</td><td>188978561025</td><td>Hyatt Centric Arlington</td><td>2017-08-17</td><td>2017-08-25</td><td>-5.9</td><td>23.45</td></tr><tr><td>2256920</td><td>687194767364</td><td>Holiday Inn</td><td>2016-10-08</td><td>2016-10-19</td><td>5.9</td><td>19.15</td></tr><tr><td>116713</td><td>1168231104512</td><td>Days Inn & Suites Vicksburg</td><td>2017-09-07</td><td>2017-09-15</td><td>5.8</td><td>22.3</td></tr><tr><td>411229</td><td>1030792151042</td><td>Progress Management Co</td><td>2017-09-08</td><td>2017-09-21</td><td>5.8</td><td>19.03</td></tr><tr><td>600494</td><td>1597727834112</td><td>Clarion</td><td>2017-09-06</td><td>2017-09-21</td><td>5.8</td><td>19.3</td></tr><tr><td>853908</td><td>1168231104512</td><td>Days Inn & Suites Vicksburg</td><td>2017-09-07</td><td>2017-09-15</td><td>5.8</td><td>22.3</td></tr><tr><td>1128708</td><td>858993459204</td><td>Comfort Suites Mount Vernon</td><td>2016-10-03</td><td>2016-10-25</td><td>-5.8</td><td>15.0</td></tr><tr><td>1494556</td><td>1331439861764</td><td>Terry Peak Ski Area</td><td>2016-10-18</td><td>2016-10-26</td><td>5.8</td><td>6.13</td></tr><tr><td>1717092</td><td>1331439861764</td><td>Terry Peak Ski Area</td><td>2016-10-18</td><td>2016-10-26</td><td>5.8</td><td>6.13</td></tr><tr><td>1875151</td><td>1331439861764</td><td>Terry Peak Ski Area</td><td>2016-10-18</td><td>2016-10-26</td><td>5.8</td><td>6.13</td></tr><tr><td>35577</td><td>2001454759944</td><td>Hotel Dei Cavalieri</td><td>2017-08-31</td><td>2017-09-12</td><td>-5.7</td><td>20.85</td></tr><tr><td>111829</td><td>2310692405259</td><td>UNA Hotel Mediterraneo</td><td>2017-08-31</td><td>2017-09-12</td><td>-5.7</td><td>20.85</td></tr><tr><td>163334</td><td>3393024163849</td><td>TownHouse 12</td><td>2017-08-31</td><td>2017-09-12</td><td>-5.7</td><td>20.85</td></tr><tr><td>240827</td><td>566935683073</td><td>Springhill Suites Columbia</td><td>2017-08-25</td><td>2017-09-02</td><td>-5.7</td><td>17.75</td></tr><tr><td>270538</td><td>3358664425480</td><td>Hotel Mediolanum</td><td>2017-08-31</td><td>2017-09-12</td><td>-5.7</td><td>20.85</td></tr><tr><td>273498</td><td>1717986918405</td><td>Hotel Crivi s</td><td>2017-08-31</td><td>2017-09-12</td><td>-5.7</td><td>20.85</td></tr><tr><td>365045</td><td>2551210573833</td><td>STRAF a Member of Design Hotels</td><td>2017-08-31</td><td>2017-09-12</td><td>-5.7</td><td>20.85</td></tr><tr><td>505625</td><td>2448131358726</td><td>Hotel Michelangelo</td><td>2017-08-31</td><td>2017-09-12</td><td>-5.7</td><td>20.85</td></tr><tr><td>520252</td><td>1769526525962</td><td>TownHouse Duomo</td><td>2017-08-31</td><td>2017-09-12</td><td>-5.7</td><td>20.85</td></tr><tr><td>568545</td><td>3393024163851</td><td>Hotel Magna Pars Small Luxury Hotels of the World</td><td>2017-08-31</td><td>2017-09-12</td><td>-5.7</td><td>20.85</td></tr><tr><td>587758</td><td>3272765079554</td><td>Uptown Palace</td><td>2017-08-31</td><td>2017-09-12</td><td>-5.7</td><td>20.85</td></tr><tr><td>801741</td><td>2817498546184</td><td>Admiral Hotel</td><td>2017-08-31</td><td>2017-09-12</td><td>-5.7</td><td>20.85</td></tr><tr><td>959505</td><td>1795296329735</td><td>Windsor Hotel Milano</td><td>2017-08-31</td><td>2017-09-12</td><td>-5.7</td><td>20.85</td></tr><tr><td>960882</td><td>970662608906</td><td>Americas Best Value Inn</td><td>2016-10-13</td><td>2016-10-20</td><td>-5.7</td><td>12.5</td></tr><tr><td>1001301</td><td>2542620639237</td><td>Ibis Styles Milano Palmanova</td><td>2017-08-31</td><td>2017-09-12</td><td>-5.7</td><td>20.85</td></tr><tr><td>1017833</td><td>3255585210375</td><td>Hotel Raffaello</td><td>2017-08-31</td><td>2017-09-12</td><td>-5.7</td><td>20.85</td></tr><tr><td>1029558</td><td>3195455668228</td><td>TownHouse Galleria</td><td>2017-08-31</td><td>2017-09-12</td><td>-5.7</td><td>20.85</td></tr><tr><td>1183624</td><td>2568390443017</td><td>IH Hotels Milano Gioia</td><td>2017-08-31</td><td>2017-09-12</td><td>-5.7</td><td>20.85</td></tr><tr><td>1256405</td><td>1365799600129</td><td>Towneplace Suites Albany University Area</td><td>2017-08-16</td><td>2017-08-27</td><td>-5.7</td><td>18.45</td></tr><tr><td>1262007</td><td>2181843386378</td><td>Hotel Carrobbio</td><td>2017-08-31</td><td>2017-09-12</td><td>-5.7</td><td>20.85</td></tr><tr><td>1285697</td><td>137438953475</td><td>Ambiance</td><td>2017-08-16</td><td>2017-08-31</td><td>-5.7</td><td>21.75</td></tr><tr><td>1303590</td><td>996432412676</td><td>Red Carpet Inn</td><td>2016-10-03</td><td>2016-10-30</td><td>-5.7</td><td>14.34</td></tr><tr><td>1309115</td><td>2817498546185</td><td>Nhow Milan</td><td>2017-08-31</td><td>2017-09-12</td><td>-5.7</td><td>20.85</td></tr><tr><td>1366343</td><td>2473901162501</td><td>Sina De La Ville</td><td>2017-08-31</td><td>2017-09-12</td><td>-5.7</td><td>20.85</td></tr><tr><td>1370383</td><td>2826088480776</td><td>TownHouse 33</td><td>2017-08-31</td><td>2017-09-12</td><td>-5.7</td><td>20.85</td></tr><tr><td>1373559</td><td>1975684956170</td><td>Hotel Sunflower</td><td>2017-08-31</td><td>2017-09-12</td><td>-5.7</td><td>20.85</td></tr><tr><td>1457540</td><td>446676598787</td><td>Hampton Inn Suites Columbus</td><td>2016-10-19</td><td>2016-10-26</td><td>-5.7</td><td>22.47</td></tr><tr><td>1466417</td><td>2473901162501</td><td>Sina De La Ville</td><td>2017-08-31</td><td>2017-09-12</td><td>-5.7</td><td>20.85</td></tr><tr><td>1670217</td><td>2199023255557</td><td>Best Western Hotel Mirage</td><td>2017-08-31</td><td>2017-09-12</td><td>-5.7</td><td>20.85</td></tr><tr><td>1781326</td><td>3315714752517</td><td>Best Western Hotel St George</td><td>2017-08-31</td><td>2017-09-12</td><td>-5.7</td><td>20.85</td></tr><tr><td>1816317</td><td>2680059592705</td><td>Hotel VIU Milan</td><td>2017-08-31</td><td>2017-09-12</td><td>-5.7</td><td>20.85</td></tr><tr><td>1938322</td><td>1425929142275</td><td>H��tel Marinca and Spa</td><td>2017-08-28</td><td>2017-09-06</td><td>-5.7</td><td>22.85</td></tr><tr><td>1957218</td><td>2138893713412</td><td>Hotel Principe Di Savoia</td><td>2017-08-31</td><td>2017-09-12</td><td>-5.7</td><td>20.85</td></tr><tr><td>1959694</td><td>446676598787</td><td>Hampton Inn Suites Columbus</td><td>2016-10-19</td><td>2016-10-26</td><td>-5.7</td><td>22.47</td></tr><tr><td>2040190</td><td>1425929142275</td><td>H��tel Marinca and Spa</td><td>2017-08-28</td><td>2017-09-06</td><td>-5.7</td><td>22.85</td></tr><tr><td>2181698</td><td>2723009265672</td><td>NH Milano Grand Hotel Verdi</td><td>2017-08-31</td><td>2017-09-12</td><td>-5.7</td><td>20.85</td></tr><tr><td>2182804</td><td>2534030704645</td><td>Best Western Plus Hotel Galles</td><td>2017-08-31</td><td>2017-09-12</td><td>-5.7</td><td>20.85</td></tr><tr><td>2197501</td><td>2147483648005</td><td>Starhotels Business Palace</td><td>2017-08-31</td><td>2017-09-12</td><td>-5.7</td><td>20.85</td></tr><tr><td>2522192</td><td>2156073582601</td><td>Hotel Dieci</td><td>2017-08-31</td><td>2017-09-12</td><td>-5.7</td><td>20.85</td></tr><tr><td>347123</td><td>592705486848</td><td>Country Lodge Motel</td><td>2016-10-19</td><td>2016-10-26</td><td>-5.6</td><td>8.5</td></tr><tr><td>481871</td><td>1013612281859</td><td>Super 8 Pittsburgh/monroeville</td><td>2016-10-08</td><td>2016-10-19</td><td>5.6</td><td>14.7</td></tr><tr><td>1322880</td><td>214748364801</td><td>Super 8 Indianapolis</td><td>2016-10-19</td><td>2016-10-31</td><td>-5.6</td><td>15.9</td></tr><tr><td>1851165</td><td>592705486848</td><td>Country Lodge Motel</td><td>2016-10-19</td><td>2016-10-26</td><td>-5.6</td><td>8.5</td></tr><tr><td>1925765</td><td>1013612281859</td><td>Super 8 Pittsburgh/monroeville</td><td>2016-10-08</td><td>2016-10-19</td><td>5.6</td><td>14.7</td></tr><tr><td>249787</td><td>283467841539</td><td>Fairfield Inn Suites Chattanooga South/east Ridge</td><td>2016-10-10</td><td>2016-10-20</td><td>5.5</td><td>19.85</td></tr><tr><td>484421</td><td>1219770712066</td><td>Hotel Millersburg</td><td>2017-09-04</td><td>2017-09-11</td><td>-5.5</td><td>15.6</td></tr><tr><td>495372</td><td>1219770712066</td><td>Hotel Millersburg</td><td>2017-09-04</td><td>2017-09-11</td><td>-5.5</td><td>15.6</td></tr><tr><td>955344</td><td>1219770712066</td><td>Hotel Millersburg</td><td>2017-09-11</td><td>2017-09-18</td><td>5.5</td><td>18.35</td></tr><tr><td>1048016</td><td>283467841539</td><td>Fairfield Inn Suites Chattanooga South/east Ridge</td><td>2016-10-10</td><td>2016-10-20</td><td>5.5</td><td>19.85</td></tr><tr><td>1581973</td><td>1219770712066</td><td>Hotel Millersburg</td><td>2017-09-04</td><td>2017-09-11</td><td>-5.5</td><td>15.6</td></tr><tr><td>1248698</td><td>1151051235329</td><td>Red Banks Motel</td><td>2017-08-07</td><td>2017-09-02</td><td>-5.4</td><td>18.94</td></tr><tr><td>2389924</td><td>876173328389</td><td>Greenstay Hotel and Suites</td><td>2016-10-08</td><td>2016-10-27</td><td>5.4</td><td>15.76</td></tr><tr><td>532023</td><td>8589934595</td><td>Spinners Tailspin Inn</td><td>2017-09-19</td><td>2017-09-29</td><td>-5.3</td><td>17.95</td></tr><tr><td>555915</td><td>42949672964</td><td>Intercontinental Hotels Resorts</td><td>2017-08-02</td><td>2017-08-17</td><td>-5.3</td><td>20.75</td></tr><tr><td>905289</td><td>1133871366144</td><td>Best Western Plus Waterville Grand Hotel</td><td>2017-09-01</td><td>2017-09-18</td><td>5.3</td><td>14.97</td></tr><tr><td>1011846</td><td>1417339207680</td><td>Holiday Inn Express & Suites Portland</td><td>2017-09-07</td><td>2017-09-15</td><td>5.3</td><td>15.87</td></tr><tr><td>1219305</td><td>386547056644</td><td>Hampton Inn Grand Junction Downtown/historic Main Street</td><td>2016-10-20</td><td>2016-10-27</td><td>5.3</td><td>10.75</td></tr><tr><td>1624774</td><td>386547056644</td><td>Hampton Inn Grand Junction Downtown/historic Main Street</td><td>2016-10-20</td><td>2016-10-27</td><td>5.3</td><td>10.75</td></tr><tr><td>1860109</td><td>8589934595</td><td>Spinners Tailspin Inn</td><td>2017-09-19</td><td>2017-09-29</td><td>-5.3</td><td>17.95</td></tr><tr><td>346929</td><td>1494648619008</td><td>Econo Lodge Big Spring</td><td>2017-09-06</td><td>2017-09-17</td><td>5.2</td><td>25.63</td></tr><tr><td>350826</td><td>1709396983811</td><td>La Quinta Inn and Suites Nashville Franklin</td><td>2016-10-11</td><td>2016-10-21</td><td>-5.2</td><td>17.93</td></tr><tr><td>592292</td><td>1142461300736</td><td>Extended Stay America - Rockford - I-90</td><td>2017-08-12</td><td>2017-08-21</td><td>5.2</td><td>20.3</td></tr><tr><td>2009240</td><td>1709396983811</td><td>La Quinta Inn and Suites Nashville Franklin</td><td>2016-10-11</td><td>2016-10-21</td><td>-5.2</td><td>17.93</td></tr><tr><td>38946</td><td>790273982464</td><td>Close For You</td><td>2017-08-06</td><td>2017-08-15</td><td>5.1</td><td>20.65</td></tr><tr><td>46099</td><td>858993459204</td><td>Comfort Suites Mount Vernon</td><td>2017-08-24</td><td>2017-09-07</td><td>-5.1</td><td>19.5</td></tr><tr><td>888474</td><td>1374389534724</td><td>America's Best Value Inn</td><td>2017-08-16</td><td>2017-08-28</td><td>-5.1</td><td>27.83</td></tr><tr><td>1911424</td><td>858993459205</td><td>La Quinta</td><td>2017-08-04</td><td>2017-08-12</td><td>-5.1</td><td>21.65</td></tr><tr><td>2030266</td><td>790273982464</td><td>Close For You</td><td>2017-08-06</td><td>2017-08-15</td><td>5.1</td><td>20.65</td></tr><tr><td>2043123</td><td>1614907703296</td><td>Sportsmen Motel</td><td>2017-08-11</td><td>2017-08-20</td><td>-5.1</td><td>17.7</td></tr><tr><td>2437342</td><td>111669149696</td><td>Comfort Suites</td><td>2017-09-12</td><td>2017-09-20</td><td>5.1</td><td>25.45</td></tr><tr><td>1270151</td><td>936302870530</td><td>Arion</td><td>2017-08-11</td><td>2017-08-25</td><td>-5.0</td><td>28.3</td></tr><tr><td>1454599</td><td>962072674310</td><td>Holiday Inn Express</td><td>2017-08-16</td><td>2017-08-27</td><td>-5.0</td><td>23.1</td></tr><tr><td>1569635</td><td>292057776130</td><td>Best Western</td><td>2017-09-13</td><td>2017-09-20</td><td>-5.0</td><td>22.37</td></tr><tr><td>1998940</td><td>292057776130</td><td>Best Western</td><td>2017-09-13</td><td>2017-09-20</td><td>-5.0</td><td>22.37</td></tr><tr><td>2026315</td><td>962072674310</td><td>Holiday Inn Express</td><td>2017-08-16</td><td>2017-08-27</td><td>-5.0</td><td>23.1</td></tr><tr><td>580788</td><td>1185410973700</td><td>Sky-lit Motel</td><td>2017-09-17</td><td>2017-09-25</td><td>4.9</td><td>21.15</td></tr><tr><td>610708</td><td>1288490188802</td><td>Comfort Hotel Bernau</td><td>2017-08-14</td><td>2017-08-22</td><td>-4.9</td><td>15.35</td></tr><tr><td>778364</td><td>1288490188802</td><td>Comfort Hotel Bernau</td><td>2017-08-14</td><td>2017-08-22</td><td>-4.9</td><td>15.35</td></tr><tr><td>790014</td><td>515396075526</td><td>Holiday Inn & Suites Green Bay Stadium</td><td>2017-09-17</td><td>2017-09-25</td><td>4.9</td><td>21.15</td></tr><tr><td>1155103</td><td>1151051235333</td><td>Clarion Suites Philadelphia</td><td>2016-10-05</td><td>2016-10-21</td><td>4.9</td><td>17.85</td></tr><tr><td>1175542</td><td>609885356032</td><td>Springhill Suites</td><td>2016-10-19</td><td>2016-10-29</td><td>-4.9</td><td>20.65</td></tr><tr><td>2280749</td><td>85899345920</td><td>Holiday Inn Lumberton North - I-95</td><td>2016-10-12</td><td>2016-10-20</td><td>4.9</td><td>19.95</td></tr><tr><td>258372</td><td>1322849927170</td><td>Super 8 Manhattan Ks</td><td>2017-09-03</td><td>2017-09-30</td><td>-4.8</td><td>23.83</td></tr><tr><td>1046923</td><td>17179869184</td><td>Days Inn Brookings</td><td>2016-10-12</td><td>2016-10-21</td><td>4.8</td><td>5.5</td></tr><tr><td>1118182</td><td>128849018889</td><td>Comfort Inn</td><td>2016-10-19</td><td>2016-10-29</td><td>-4.8</td><td>21.0</td></tr><tr><td>1609135</td><td>1005022347265</td><td>Comfort Inn</td><td>2017-09-20</td><td>2017-09-29</td><td>-4.8</td><td>17.8</td></tr><tr><td>1619537</td><td>541165879298</td><td>Savaii Roberts Motels</td><td>2016-10-16</td><td>2016-10-26</td><td>-4.8</td><td>21.53</td></tr><tr><td>1681735</td><td>1357209665538</td><td>Marylander Hotel Condo</td><td>2017-08-16</td><td>2017-08-27</td><td>-4.8</td><td>22.8</td></tr><tr><td>1192982</td><td>1554778161154</td><td>Days Inn Fort Wayne</td><td>2017-08-29</td><td>2017-09-09</td><td>-4.7</td><td>16.45</td></tr><tr><td>1537055</td><td>549755813890</td><td>Uptown Motel</td><td>2017-09-17</td><td>2017-09-24</td><td>-4.7</td><td>9.1</td></tr><tr><td>2095222</td><td>996432412673</td><td>Americinn Lodge and Suites</td><td>2017-09-17</td><td>2017-09-24</td><td>-4.7</td><td>9.1</td></tr><tr><td>271820</td><td>8589934592</td><td>Cadillac Motel</td><td>2016-10-16</td><td>2016-10-31</td><td>-4.6</td><td>13.4</td></tr><tr><td>447748</td><td>17179869186</td><td>Americinn Lodge Suites Austin</td><td>2017-09-16</td><td>2017-09-23</td><td>4.6</td><td>23.1</td></tr><tr><td>957444</td><td>1571958030338</td><td>Sterling Motel</td><td>2017-09-16</td><td>2017-09-23</td><td>4.6</td><td>23.1</td></tr><tr><td>1609620</td><td>566935683074</td><td>Deluxe Inn Merrillville</td><td>2017-09-15</td><td>2017-09-22</td><td>4.6</td><td>23.9</td></tr><tr><td>1955582</td><td>893353197570</td><td>Microtel Inn By Wyndham Knoxville</td><td>2017-09-16</td><td>2017-09-30</td><td>-4.6</td><td>19.7</td></tr><tr><td>2301375</td><td>893353197570</td><td>Microtel Inn By Wyndham Knoxville</td><td>2017-09-16</td><td>2017-09-30</td><td>-4.6</td><td>19.7</td></tr><tr><td>204546</td><td>1056561954820</td><td>Clubhouse At River Country Est</td><td>2017-08-20</td><td>2017-08-29</td><td>-4.5</td><td>19.0</td></tr><tr><td>315303</td><td>962072674306</td><td>Americas Best Value Inn</td><td>2017-08-20</td><td>2017-08-27</td><td>-4.5</td><td>20.55</td></tr><tr><td>323993</td><td>120259084292</td><td>Fairfield Inn and Suites By Marriott Idaho Falls</td><td>2017-08-14</td><td>2017-08-22</td><td>4.5</td><td>18.97</td></tr><tr><td>542598</td><td>120259084292</td><td>Fairfield Inn and Suites By Marriott Idaho Falls</td><td>2017-08-14</td><td>2017-08-22</td><td>4.5</td><td>18.97</td></tr><tr><td>936845</td><td>747324309509</td><td>Americas Best Value Inn</td><td>2016-10-01</td><td>2016-10-08</td><td>-4.5</td><td>14.45</td></tr><tr><td>947185</td><td>824633720839</td><td>Budget Inn</td><td>2016-10-19</td><td>2016-10-29</td><td>-4.5</td><td>21.85</td></tr><tr><td>1037706</td><td>266287972356</td><td>Comfort Inn and Suites Bend</td><td>2017-08-10</td><td>2017-08-18</td><td>-4.5</td><td>21.05</td></tr><tr><td>1553682</td><td>1425929142275</td><td>H��tel Marinca and Spa</td><td>2017-08-20</td><td>2017-08-28</td><td>4.5</td><td>23.45</td></tr><tr><td>1570597</td><td>266287972356</td><td>Comfort Inn and Suites Bend</td><td>2017-08-10</td><td>2017-08-18</td><td>-4.5</td><td>21.05</td></tr><tr><td>2081751</td><td>309237645314</td><td>Quality Inn</td><td>2017-08-25</td><td>2017-09-06</td><td>-4.5</td><td>20.25</td></tr><tr><td>2235316</td><td>1425929142275</td><td>H��tel Marinca and Spa</td><td>2017-08-20</td><td>2017-08-28</td><td>4.5</td><td>23.45</td></tr><tr><td>2473878</td><td>1357209665536</td><td>Comfort Inn</td><td>2017-08-12</td><td>2017-08-20</td><td>4.5</td><td>22.35</td></tr><tr><td>341490</td><td>1468878815239</td><td>Super 8 Schenect/albany Area</td><td>2017-09-13</td><td>2017-09-24</td><td>4.4</td><td>19.9</td></tr><tr><td>348409</td><td>1400159338499</td><td>Garden of The Gods Club & Resort</td><td>2017-09-17</td><td>2017-09-25</td><td>-4.4</td><td>0.9</td></tr><tr><td>388163</td><td>1400159338499</td><td>Garden of The Gods Club & Resort</td><td>2017-09-17</td><td>2017-09-25</td><td>-4.4</td><td>0.9</td></tr><tr><td>722965</td><td>1400159338499</td><td>Garden of The Gods Club & Resort</td><td>2017-09-17</td><td>2017-09-25</td><td>-4.4</td><td>0.9</td></tr><tr><td>890125</td><td>1425929142276</td><td>Avalon Hotel Group</td><td>2017-08-26</td><td>2017-09-06</td><td>-4.4</td><td>25.25</td></tr><tr><td>1401809</td><td>103079215106</td><td>Bethesda Gardens</td><td>2017-08-13</td><td>2017-08-20</td><td>4.4</td><td>24.5</td></tr><tr><td>1642949</td><td>103079215106</td><td>Bethesda Gardens</td><td>2017-08-13</td><td>2017-08-20</td><td>4.4</td><td>24.5</td></tr><tr><td>2032741</td><td>876173328389</td><td>Greenstay Hotel and Suites</td><td>2017-08-20</td><td>2017-08-27</td><td>-4.4</td><td>24.1</td></tr><tr><td>2288376</td><td>128849018883</td><td>Sci�� On Martin</td><td>2017-08-20</td><td>2017-08-30</td><td>4.4</td><td>23.3</td></tr><tr><td>2374652</td><td>876173328389</td><td>Greenstay Hotel and Suites</td><td>2017-08-20</td><td>2017-08-27</td><td>-4.4</td><td>24.1</td></tr><tr><td>2397553</td><td>103079215106</td><td>Bethesda Gardens</td><td>2017-08-13</td><td>2017-08-20</td><td>4.4</td><td>24.5</td></tr><tr><td>128369</td><td>1202590842880</td><td>Janmere Motel</td><td>2017-08-28</td><td>2017-09-16</td><td>4.3</td><td>17.97</td></tr><tr><td>978708</td><td>1219770712066</td><td>Hotel Millersburg</td><td>2016-10-09</td><td>2016-10-25</td><td>-4.3</td><td>8.45</td></tr><tr><td>1714452</td><td>515396075526</td><td>Holiday Inn & Suites Green Bay Stadium</td><td>2017-08-12</td><td>2017-08-25</td><td>-4.3</td><td>18.55</td></tr><tr><td>610269</td><td>1056561954820</td><td>Clubhouse At River Country Est</td><td>2017-08-23</td><td>2017-09-03</td><td>-4.2</td><td>17.5</td></tr><tr><td>656589</td><td>1168231104517</td><td>Quality Inn Gulfport</td><td>2017-09-09</td><td>2017-09-20</td><td>4.2</td><td>24.73</td></tr><tr><td>985249</td><td>824633720841</td><td>Residence Inn By Marriott Tucson Williams Centre</td><td>2017-08-13</td><td>2017-08-31</td><td>4.2</td><td>29.8</td></tr><tr><td>1434156</td><td>111669149696</td><td>Comfort Suites</td><td>2017-09-03</td><td>2017-09-12</td><td>-4.2</td><td>25.0</td></tr><tr><td>373066</td><td>1425929142276</td><td>Avalon Hotel Group</td><td>2016-10-17</td><td>2016-10-26</td><td>-4.1</td><td>22.65</td></tr><tr><td>2108230</td><td>1151051235329</td><td>Red Banks Motel</td><td>2017-09-02</td><td>2017-09-17</td><td>4.1</td><td>15.6</td></tr><tr><td>97289</td><td>1417339207689</td><td>Lazy T Motel</td><td>2016-10-07</td><td>2016-10-14</td><td>4.0</td><td>19.9</td></tr><tr><td>267570</td><td>1417339207689</td><td>Lazy T Motel</td><td>2016-10-07</td><td>2016-10-14</td><td>4.0</td><td>19.9</td></tr><tr><td>1954800</td><td>463856467971</td><td>Courtyard San Marcos</td><td>2017-08-20</td><td>2017-08-30</td><td>-4.0</td><td>28.1</td></tr><tr><td>2014864</td><td>197568495617</td><td>Fairfield Inn & Suites Peoria East</td><td>2017-09-18</td><td>2017-09-25</td><td>4.0</td><td>23.27</td></tr><tr><td>2065399</td><td>498216206340</td><td>Liberty Lodge</td><td>2017-09-04</td><td>2017-09-11</td><td>4.0</td><td>16.1</td></tr><tr><td>2185576</td><td>498216206340</td><td>Liberty Lodge</td><td>2017-09-04</td><td>2017-09-11</td><td>4.0</td><td>16.1</td></tr><tr><td>2465134</td><td>841813590022</td><td>Brookside Motel</td><td>2017-08-01</td><td>2017-08-08</td><td>-4.0</td><td>18.2</td></tr><tr><td>2511526</td><td>197568495617</td><td>Fairfield Inn & Suites Peoria East</td><td>2017-09-18</td><td>2017-09-25</td><td>4.0</td><td>23.27</td></tr><tr><td>703773</td><td>103079215106</td><td>Bethesda Gardens</td><td>2017-08-07</td><td>2017-08-15</td><td>3.9</td><td>23.13</td></tr><tr><td>1843160</td><td>1529008357379</td><td>Shamrock Hill Inn</td><td>2016-10-12</td><td>2016-10-24</td><td>-3.9</td><td>8.65</td></tr><tr><td>123314</td><td>1297080123397</td><td>Wingate By Wyndham Chantilly / Dulles Airport</td><td>2016-10-05</td><td>2016-10-14</td><td>-3.8</td><td>13.1</td></tr><tr><td>1783994</td><td>1013612281862</td><td>Homewood Suites</td><td>2017-08-09</td><td>2017-08-18</td><td>3.8</td><td>21.67</td></tr><tr><td>1803080</td><td>292057776131</td><td>Homewood Suites By Hilton Indpls Airport / Plainfield In</td><td>2017-08-30</td><td>2017-09-08</td><td>-3.8</td><td>19.5</td></tr><tr><td>2028732</td><td>1013612281862</td><td>Homewood Suites</td><td>2017-08-09</td><td>2017-08-18</td><td>3.8</td><td>21.67</td></tr><tr><td>29886</td><td>1752346656776</td><td>Andreola Central Hotel</td><td>2017-09-12</td><td>2017-09-20</td><td>-3.7</td><td>16.15</td></tr><tr><td>56366</td><td>2774548873220</td><td>Sina The Gray</td><td>2017-09-12</td><td>2017-09-20</td><td>-3.7</td><td>16.15</td></tr><tr><td>106195</td><td>3169685864453</td><td>Novotel Milano Nord Ca Granda</td><td>2017-09-12</td><td>2017-09-20</td><td>-3.7</td><td>16.15</td></tr><tr><td>126392</td><td>2405181685764</td><td>Hotel Manin</td><td>2017-09-12</td><td>2017-09-20</td><td>-3.7</td><td>16.15</td></tr><tr><td>153104</td><td>3015067041794</td><td>Antares Hotel Rubens</td><td>2017-09-12</td><td>2017-09-20</td><td>-3.7</td><td>16.15</td></tr><tr><td>167704</td><td>2817498546185</td><td>Nhow Milan</td><td>2017-09-12</td><td>2017-09-20</td><td>-3.7</td><td>16.15</td></tr><tr><td>202541</td><td>3066606649354</td><td>Hotel La Spezia Gruppo MiniHotel</td><td>2017-09-12</td><td>2017-09-20</td><td>-3.7</td><td>16.15</td></tr><tr><td>211722</td><td>2181843386378</td><td>Hotel Carrobbio</td><td>2017-09-12</td><td>2017-09-20</td><td>-3.7</td><td>16.15</td></tr><tr><td>284387</td><td>2267742732299</td><td>IH Hotels Milano Puccini</td><td>2017-09-12</td><td>2017-09-20</td><td>-3.7</td><td>16.15</td></tr><tr><td>286480</td><td>2181843386378</td><td>Hotel Carrobbio</td><td>2017-09-12</td><td>2017-09-20</td><td>-3.7</td><td>16.15</td></tr><tr><td>292612</td><td>3049426780170</td><td>Hotel Mozart</td><td>2017-09-12</td><td>2017-09-20</td><td>-3.7</td><td>16.15</td></tr><tr><td>294813</td><td>1726576852997</td><td>Hotel Galileo</td><td>2017-09-12</td><td>2017-09-20</td><td>-3.7</td><td>16.15</td></tr><tr><td>325879</td><td>3169685864453</td><td>Novotel Milano Nord Ca Granda</td><td>2017-09-12</td><td>2017-09-20</td><td>-3.7</td><td>16.15</td></tr><tr><td>385846</td><td>2723009265672</td><td>NH Milano Grand Hotel Verdi</td><td>2017-09-12</td><td>2017-09-20</td><td>-3.7</td><td>16.15</td></tr><tr><td>399146</td><td>3204045602824</td><td>Ramada Plaza Milano</td><td>2017-09-12</td><td>2017-09-20</td><td>-3.7</td><td>16.15</td></tr><tr><td>415779</td><td>2740189134853</td><td>Palazzo Parigi Hotel Grand Spa Milano</td><td>2017-09-12</td><td>2017-09-20</td><td>-3.7</td><td>16.15</td></tr><tr><td>464698</td><td>2499670966279</td><td>Hotel D Este</td><td>2017-09-12</td><td>2017-09-20</td><td>-3.7</td><td>16.15</td></tr><tr><td>505053</td><td>3401614098439</td><td>Hotel Spadari Al Duomo</td><td>2017-09-12</td><td>2017-09-20</td><td>-3.7</td><td>16.15</td></tr><tr><td>506776</td><td>2259152797704</td><td>Sheraton Diana Majestic</td><td>2017-09-12</td><td>2017-09-20</td><td>-3.7</td><td>16.15</td></tr><tr><td>560592</td><td>2534030704645</td><td>Best Western Plus Hotel Galles</td><td>2017-09-12</td><td>2017-09-20</td><td>-3.7</td><td>16.15</td></tr><tr><td>579383</td><td>1778116460554</td><td>Atahotel Contessa Jolanda</td><td>2017-09-12</td><td>2017-09-20</td><td>-3.7</td><td>16.15</td></tr><tr><td>581526</td><td>2138893713413</td><td>TH Street Duomo</td><td>2017-09-12</td><td>2017-09-20</td><td>-3.7</td><td>16.15</td></tr><tr><td>587462</td><td>2542620639236</td><td>Meli Milano</td><td>2017-09-12</td><td>2017-09-20</td><td>-3.7</td><td>16.15</td></tr><tr><td>601332</td><td>2250562863106</td><td>Maison Borella</td><td>2017-09-12</td><td>2017-09-20</td><td>-3.7</td><td>16.15</td></tr><tr><td>637385</td><td>2765958938631</td><td>Hotel Santa Marta Suites</td><td>2017-09-12</td><td>2017-09-20</td><td>-3.7</td><td>16.15</td></tr><tr><td>668549</td><td>1932735283203</td><td>Petit Palais Hotel De Charme</td><td>2017-09-12</td><td>2017-09-20</td><td>-3.7</td><td>16.15</td></tr><tr><td>764530</td><td>3195455668228</td><td>TownHouse Galleria</td><td>2017-09-12</td><td>2017-09-20</td><td>-3.7</td><td>16.15</td></tr><tr><td>780128</td><td>2723009265672</td><td>NH Milano Grand Hotel Verdi</td><td>2017-09-12</td><td>2017-09-20</td><td>-3.7</td><td>16.15</td></tr><tr><td>786763</td><td>3324304687113</td><td>Milan Suite Hotel</td><td>2017-09-12</td><td>2017-09-20</td><td>-3.7</td><td>16.15</td></tr><tr><td>791618</td><td>3324304687114</td><td>Milan Marriott Hotel</td><td>2017-09-12</td><td>2017-09-20</td><td>-3.7</td><td>16.15</td></tr><tr><td>817161</td><td>3178275799050</td><td>Hotel Mentana</td><td>2017-09-12</td><td>2017-09-20</td><td>-3.7</td><td>16.15</td></tr><tr><td>875489</td><td>996432412679</td><td>Simoni's Fremont Inn</td><td>2017-09-19</td><td>2017-09-27</td><td>3.7</td><td>21.25</td></tr><tr><td>880603</td><td>2138893713412</td><td>Hotel Principe Di Savoia</td><td>2017-09-12</td><td>2017-09-20</td><td>-3.7</td><td>16.15</td></tr><tr><td>897093</td><td>2070174236676</td><td>Hotel Manzoni</td><td>2017-09-12</td><td>2017-09-20</td><td>-3.7</td><td>16.15</td></tr><tr><td>981907</td><td>2310692405259</td><td>UNA Hotel Mediterraneo</td><td>2017-09-12</td><td>2017-09-20</td><td>-3.7</td><td>16.15</td></tr><tr><td>1005032</td><td>2259152797704</td><td>Sheraton Diana Majestic</td><td>2017-09-12</td><td>2017-09-20</td><td>-3.7</td><td>16.15</td></tr><tr><td>1011327</td><td>1795296329734</td><td>Enterprise Hotel Design Boutique</td><td>2017-09-12</td><td>2017-09-20</td><td>-3.7</td><td>16.15</td></tr><tr><td>1094345</td><td>807453851650</td><td>Bailey Hotel</td><td>2016-10-17</td><td>2016-10-31</td><td>-3.7</td><td>22.15</td></tr><tr><td>1097772</td><td>3384434229250</td><td>Hotel Lloyd</td><td>2017-09-12</td><td>2017-09-20</td><td>-3.7</td><td>16.15</td></tr><tr><td>1121555</td><td>1898375544837</td><td>Hotel Lombardia</td><td>2017-09-12</td><td>2017-09-20</td><td>-3.7</td><td>16.15</td></tr><tr><td>1177055</td><td>2911987826694</td><td>Hotel Milano Scala</td><td>2017-09-12</td><td>2017-09-20</td><td>-3.7</td><td>16.15</td></tr><tr><td>1226286</td><td>2138893713412</td><td>Hotel Principe Di Savoia</td><td>2017-09-12</td><td>2017-09-20</td><td>-3.7</td><td>16.15</td></tr><tr><td>1229530</td><td>2508260900870</td><td>UNA Maison Milano</td><td>2017-09-12</td><td>2017-09-20</td><td>-3.7</td><td>16.15</td></tr><tr><td>1233925</td><td>1821066133506</td><td>Hotel Cavour</td><td>2017-09-12</td><td>2017-09-20</td><td>-3.7</td><td>16.15</td></tr><tr><td>1268889</td><td>1992864825350</td><td>Excelsior Hotel Gallia Luxury Collection Hotel</td><td>2017-09-12</td><td>2017-09-20</td><td>-3.7</td><td>16.15</td></tr><tr><td>1287514</td><td>3092376453126</td><td>LHP Hotel Napoleon</td><td>2017-09-12</td><td>2017-09-20</td><td>-3.7</td><td>16.15</td></tr><tr><td>1292567</td><td>996432412679</td><td>Simoni's Fremont Inn</td><td>2017-09-19</td><td>2017-09-27</td><td>3.7</td><td>21.25</td></tr><tr><td>1307813</td><td>3272765079554</td><td>Uptown Palace</td><td>2017-09-12</td><td>2017-09-20</td><td>-3.7</td><td>16.15</td></tr><tr><td>1325415</td><td>2405181685764</td><td>Hotel Manin</td><td>2017-09-12</td><td>2017-09-20</td><td>-3.7</td><td>16.15</td></tr><tr><td>1416870</td><td>2250562863106</td><td>Maison Borella</td><td>2017-09-12</td><td>2017-09-20</td><td>-3.7</td><td>16.15</td></tr><tr><td>1446674</td><td>2259152797703</td><td>Hotel Auriga</td><td>2017-09-12</td><td>2017-09-20</td><td>-3.7</td><td>16.15</td></tr><tr><td>1456313</td><td>3092376453126</td><td>LHP Hotel Napoleon</td><td>2017-09-12</td><td>2017-09-20</td><td>-3.7</td><td>16.15</td></tr><tr><td>1479823</td><td>841813590020</td><td>Candlewood Suites Eugene Springfield</td><td>2016-10-07</td><td>2016-10-15</td><td>-3.7</td><td>13.05</td></tr><tr><td>1620295</td><td>1795296329735</td><td>Windsor Hotel Milano</td><td>2017-09-12</td><td>2017-09-20</td><td>-3.7</td><td>16.15</td></tr><tr><td>1638077</td><td>1915555414022</td><td>Hotel Wagner</td><td>2017-09-12</td><td>2017-09-20</td><td>-3.7</td><td>16.15</td></tr><tr><td>1639197</td><td>2826088480776</td><td>TownHouse 33</td><td>2017-09-12</td><td>2017-09-20</td><td>-3.7</td><td>16.15</td></tr><tr><td>1643016</td><td>2413771620358</td><td>Bianca Maria Palace Hotel</td><td>2017-09-12</td><td>2017-09-20</td><td>-3.7</td><td>16.15</td></tr><tr><td>1696657</td><td>2370821947402</td><td>ADI Doria Grand Hotel</td><td>2017-09-12</td><td>2017-09-20</td><td>-3.7</td><td>16.15</td></tr><tr><td>1730456</td><td>2302102470667</td><td>Baglioni Hotel Carlton The Leading Hotels of the World</td><td>2017-09-12</td><td>2017-09-20</td><td>-3.7</td><td>16.15</td></tr><tr><td>1734792</td><td>2413771620358</td><td>Bianca Maria Palace Hotel</td><td>2017-09-12</td><td>2017-09-20</td><td>-3.7</td><td>16.15</td></tr><tr><td>1755350</td><td>1881195675656</td><td>Mandarin Oriental Milan</td><td>2017-09-12</td><td>2017-09-20</td><td>-3.7</td><td>16.15</td></tr><tr><td>1767760</td><td>2817498546185</td><td>Nhow Milan</td><td>2017-09-12</td><td>2017-09-20</td><td>-3.7</td><td>16.15</td></tr><tr><td>1791422</td><td>2954937499660</td><td>Radisson Blu Hotel Milan</td><td>2017-09-12</td><td>2017-09-20</td><td>-3.7</td><td>16.15</td></tr><tr><td>1805028</td><td>3135326126084</td><td>Senato Hotel Milano</td><td>2017-09-12</td><td>2017-09-20</td><td>-3.7</td><td>16.15</td></tr><tr><td>1805976</td><td>3040836845576</td><td>Best Western Antares Hotel Concorde</td><td>2017-09-12</td><td>2017-09-20</td><td>-3.7</td><td>16.15</td></tr><tr><td>1829119</td><td>3384434229250</td><td>Hotel Lloyd</td><td>2017-09-12</td><td>2017-09-20</td><td>-3.7</td><td>16.15</td></tr><tr><td>1891465</td><td>3324304687112</td><td>Hotel Capitol Milano</td><td>2017-09-12</td><td>2017-09-20</td><td>-3.7</td><td>16.15</td></tr><tr><td>1905434</td><td>2542620639237</td><td>Ibis Styles Milano Palmanova</td><td>2017-09-12</td><td>2017-09-20</td><td>-3.7</td><td>16.15</td></tr><tr><td>1909386</td><td>2224793059331</td><td>Hotel Sanpi Milano</td><td>2017-09-12</td><td>2017-09-20</td><td>-3.7</td><td>16.15</td></tr><tr><td>1912688</td><td>3204045602824</td><td>Ramada Plaza Milano</td><td>2017-09-12</td><td>2017-09-20</td><td>-3.7</td><td>16.15</td></tr><tr><td>1915023</td><td>3178275799046</td><td>Hotel Romana Residence</td><td>2017-09-12</td><td>2017-09-20</td><td>-3.7</td><td>16.15</td></tr><tr><td>1924368</td><td>2121713844230</td><td>UNA Hotel Scandinavia</td><td>2017-09-12</td><td>2017-09-20</td><td>-3.7</td><td>16.15</td></tr><tr><td>1999534</td><td>3049426780170</td><td>Hotel Mozart</td><td>2017-09-12</td><td>2017-09-20</td><td>-3.7</td><td>16.15</td></tr><tr><td>2009439</td><td>2147483648005</td><td>Starhotels Business Palace</td><td>2017-09-12</td><td>2017-09-20</td><td>-3.7</td><td>16.15</td></tr><tr><td>2012899</td><td>2284922601481</td><td>Mokinba Hotels Montebianco</td><td>2017-09-12</td><td>2017-09-20</td><td>-3.7</td><td>16.15</td></tr><tr><td>2070459</td><td>2534030704648</td><td>Four Seasons Hotel Milano</td><td>2017-09-12</td><td>2017-09-20</td><td>-3.7</td><td>16.15</td></tr><tr><td>2101207</td><td>3135326126082</td><td>Room Mate Giulia</td><td>2017-09-12</td><td>2017-09-20</td><td>-3.7</td><td>16.15</td></tr><tr><td>2107354</td><td>541165879297</td><td>Best Western Burlington Inn</td><td>2017-08-20</td><td>2017-08-31</td><td>-3.7</td><td>24.75</td></tr><tr><td>2111663</td><td>2147483648005</td><td>Starhotels Business Palace</td><td>2017-09-12</td><td>2017-09-20</td><td>-3.7</td><td>16.15</td></tr><tr><td>2118644</td><td>2405181685765</td><td>Grand Hotel et de Milan</td><td>2017-09-12</td><td>2017-09-20</td><td>-3.7</td><td>16.15</td></tr><tr><td>2176024</td><td>3393024163852</td><td>LaGare Hotel Milano Centrale MGallery by Sofitel</td><td>2017-09-12</td><td>2017-09-20</td><td>-3.7</td><td>16.15</td></tr><tr><td>2205700</td><td>1743756722181</td><td>Ch teau Monfort Relais Ch teaux</td><td>2017-09-12</td><td>2017-09-20</td><td>-3.7</td><td>16.15</td></tr><tr><td>2226111</td><td>2877628088323</td><td>Novotel Milano Linate Aeroporto</td><td>2017-09-12</td><td>2017-09-20</td><td>-3.7</td><td>16.15</td></tr><tr><td>2237833</td><td>2405181685766</td><td>Hotel Mercure Milano Solari</td><td>2017-09-12</td><td>2017-09-20</td><td>-3.7</td><td>16.15</td></tr><tr><td>2240324</td><td>2147483648005</td><td>Starhotels Business Palace</td><td>2017-09-12</td><td>2017-09-20</td><td>-3.7</td><td>16.15</td></tr><tr><td>2244617</td><td>2877628088322</td><td>The Square Milano Duomo</td><td>2017-09-12</td><td>2017-09-20</td><td>-3.7</td><td>16.15</td></tr><tr><td>2250251</td><td>2413771620355</td><td>Qualys Hotel Nasco</td><td>2017-09-12</td><td>2017-09-20</td><td>-3.7</td><td>16.15</td></tr><tr><td>2260737</td><td>3393024163849</td><td>TownHouse 12</td><td>2017-09-12</td><td>2017-09-20</td><td>-3.7</td><td>16.15</td></tr><tr><td>2283922</td><td>3375844294666</td><td>MiHotel</td><td>2017-09-12</td><td>2017-09-20</td><td>-3.7</td><td>16.15</td></tr><tr><td>2326746</td><td>2680059592705</td><td>Hotel VIU Milan</td><td>2017-09-12</td><td>2017-09-20</td><td>-3.7</td><td>16.15</td></tr><tr><td>2398838</td><td>841813590020</td><td>Candlewood Suites Eugene Springfield</td><td>2016-10-07</td><td>2016-10-15</td><td>-3.7</td><td>13.05</td></tr><tr><td>2439886</td><td>3324304687114</td><td>Milan Marriott Hotel</td><td>2017-09-12</td><td>2017-09-20</td><td>-3.7</td><td>16.15</td></tr><tr><td>2456587</td><td>2319282339847</td><td>Style Hotel</td><td>2017-09-12</td><td>2017-09-20</td><td>-3.7</td><td>16.15</td></tr><tr><td>2467041</td><td>2568390443017</td><td>IH Hotels Milano Gioia</td><td>2017-09-12</td><td>2017-09-20</td><td>-3.7</td><td>16.15</td></tr><tr><td>169512</td><td>867583393793</td><td>Watermark Bed Breakfast</td><td>2017-08-06</td><td>2017-08-16</td><td>3.6</td><td>23.9</td></tr><tr><td>183922</td><td>867583393793</td><td>Watermark Bed Breakfast</td><td>2017-08-06</td><td>2017-08-16</td><td>3.6</td><td>23.9</td></tr><tr><td>955162</td><td>3358664425477</td><td>Artus Hotel by MH</td><td>2016-10-03</td><td>2016-10-23</td><td>-3.6</td><td>8.83</td></tr><tr><td>1127139</td><td>2499670966273</td><td>Hotel Atmospheres</td><td>2016-10-03</td><td>2016-10-23</td><td>-3.6</td><td>8.83</td></tr><tr><td>1202953</td><td>206158430208</td><td>White Cliff Manor Bed and Breakfast</td><td>2017-09-06</td><td>2017-09-13</td><td>3.6</td><td>16.9</td></tr><tr><td>1393056</td><td>1228360646657</td><td>Super 8 Chicago O'hare Airport</td><td>2017-08-15</td><td>2017-08-26</td><td>-3.6</td><td>21.1</td></tr><tr><td>1439067</td><td>274877906944</td><td>Microtel of Ste Genevieve</td><td>2017-08-15</td><td>2017-08-28</td><td>-3.6</td><td>23.57</td></tr><tr><td>2122635</td><td>274877906944</td><td>Microtel of Ste Genevieve</td><td>2017-08-04</td><td>2017-08-15</td><td>3.6</td><td>23.2</td></tr><tr><td>2135281</td><td>2559800508419</td><td>Mercure Vaugirard Paris Porte De Versailles</td><td>2016-10-03</td><td>2016-10-23</td><td>-3.6</td><td>8.83</td></tr><tr><td>2328732</td><td>3092376453121</td><td>Novotel Paris 14 Porte d Orl ans</td><td>2016-10-03</td><td>2016-10-23</td><td>-3.6</td><td>8.83</td></tr><tr><td>2346384</td><td>1425929142273</td><td>Hotel Borgo Verde</td><td>2016-10-20</td><td>2016-10-29</td><td>-3.6</td><td>18.37</td></tr><tr><td>61059</td><td>2113123909632</td><td>Le 123 Elysees Astotel</td><td>2016-10-22</td><td>2016-10-31</td><td>3.5</td><td>8.95</td></tr><tr><td>127208</td><td>2190433320963</td><td>Le Belmont Champs Elys es</td><td>2016-10-22</td><td>2016-10-31</td><td>3.5</td><td>8.95</td></tr><tr><td>163179</td><td>2740189134850</td><td>H tel Raphael</td><td>2016-10-22</td><td>2016-10-31</td><td>3.5</td><td>8.95</td></tr><tr><td>217900</td><td>2963527434242</td><td>Le A</td><td>2016-10-22</td><td>2016-10-31</td><td>3.5</td><td>8.95</td></tr><tr><td>326659</td><td>2860448219136</td><td>Best Western Mercedes Arc de Triomphe</td><td>2016-10-22</td><td>2016-10-31</td><td>3.5</td><td>8.95</td></tr><tr><td>367264</td><td>1941325217795</td><td>Best Western Premier Op ra Li ge</td><td>2016-10-22</td><td>2016-10-31</td><td>3.5</td><td>8.95</td></tr><tr><td>380302</td><td>2078764171265</td><td>Best Western Hotel Montmartre Sacr Coeur</td><td>2016-10-22</td><td>2016-10-31</td><td>3.5</td><td>8.95</td></tr><tr><td>406874</td><td>2267742732294</td><td>Balmoral Champs Elys es</td><td>2016-10-22</td><td>2016-10-31</td><td>3.5</td><td>8.95</td></tr><tr><td>414856</td><td>2216203124738</td><td>Radisson Blu Champs Elys es Paris</td><td>2016-10-22</td><td>2016-10-31</td><td>3.5</td><td>8.95</td></tr><tr><td>426844</td><td>3032246910978</td><td>R Kipling by Happyculture</td><td>2016-10-22</td><td>2016-10-31</td><td>3.5</td><td>8.95</td></tr><tr><td>465125</td><td>2740189134850</td><td>H tel Raphael</td><td>2016-10-22</td><td>2016-10-31</td><td>3.5</td><td>8.95</td></tr><tr><td>552765</td><td>2963527434242</td><td>Le A</td><td>2016-10-22</td><td>2016-10-31</td><td>3.5</td><td>8.95</td></tr><tr><td>628389</td><td>1374389534724</td><td>America's Best Value Inn</td><td>2017-08-28</td><td>2017-09-04</td><td>3.5</td><td>26.35</td></tr><tr><td>678358</td><td>2302102470657</td><td>Le Grey Hotel</td><td>2016-10-22</td><td>2016-10-31</td><td>3.5</td><td>8.95</td></tr><tr><td>679924</td><td>2293512536067</td><td>Hotel Oscar</td><td>2016-10-22</td><td>2016-10-31</td><td>3.5</td><td>8.95</td></tr><tr><td>718472</td><td>3341484556289</td><td>Best Western Le 18 Paris</td><td>2016-10-22</td><td>2016-10-31</td><td>3.5</td><td>8.95</td></tr><tr><td>739775</td><td>2078764171264</td><td>H tel Le Royal Monceau Raffles Paris</td><td>2016-10-22</td><td>2016-10-31</td><td>3.5</td><td>8.95</td></tr><tr><td>768490</td><td>3427383902209</td><td>H tel Barri re Le Fouquet s</td><td>2016-10-22</td><td>2016-10-31</td><td>3.5</td><td>8.95</td></tr><tr><td>831060</td><td>1975684956164</td><td>Timhotel Op ra Grands Magasins</td><td>2016-10-22</td><td>2016-10-31</td><td>3.5</td><td>8.95</td></tr><tr><td>865226</td><td>3161095929857</td><td>H tel California Champs Elys es</td><td>2016-10-22</td><td>2016-10-31</td><td>3.5</td><td>8.95</td></tr><tr><td>865666</td><td>2705829396485</td><td>Arioso</td><td>2016-10-22</td><td>2016-10-31</td><td>3.5</td><td>8.95</td></tr><tr><td>951080</td><td>1803886264320</td><td>Idol Hotel</td><td>2016-10-22</td><td>2016-10-31</td><td>3.5</td><td>8.95</td></tr><tr><td>960400</td><td>3298534883329</td><td>H tel Etoile Saint Honor by Happyculture</td><td>2016-10-22</td><td>2016-10-31</td><td>3.5</td><td>8.95</td></tr><tr><td>971221</td><td>3221225472003</td><td>Francois 1er</td><td>2016-10-22</td><td>2016-10-31</td><td>3.5</td><td>8.95</td></tr><tr><td>977130</td><td>3126736191488</td><td>Crowne Plaza Paris R publique</td><td>2016-10-22</td><td>2016-10-31</td><td>3.5</td><td>8.95</td></tr><tr><td>1058159</td><td>3221225472003</td><td>Francois 1er</td><td>2016-10-22</td><td>2016-10-31</td><td>3.5</td><td>8.95</td></tr><tr><td>1081707</td><td>2662879723522</td><td>H tel Vernet</td><td>2016-10-22</td><td>2016-10-31</td><td>3.5</td><td>8.95</td></tr><tr><td>1104146</td><td>2156073582595</td><td>H tel L Echiquier Op ra Paris MGallery by Sofitel</td><td>2016-10-22</td><td>2016-10-31</td><td>3.5</td><td>8.95</td></tr><tr><td>1108833</td><td>1975684956164</td><td>Timhotel Op ra Grands Magasins</td><td>2016-10-22</td><td>2016-10-31</td><td>3.5</td><td>8.95</td></tr><tr><td>1165684</td><td>3066606649350</td><td>Hotel Carlton s Montmartre</td><td>2016-10-22</td><td>2016-10-31</td><td>3.5</td><td>8.95</td></tr><tr><td>1186903</td><td>2920577761280</td><td>Mercure Paris Arc de Triomphe Etoile</td><td>2016-10-22</td><td>2016-10-31</td><td>3.5</td><td>8.95</td></tr><tr><td>1242472</td><td>1297080123394</td><td>Cal Neva Resort</td><td>2017-08-31</td><td>2017-09-12</td><td>-3.5</td><td>15.03</td></tr><tr><td>1405571</td><td>3032246910978</td><td>R Kipling by Happyculture</td><td>2016-10-22</td><td>2016-10-31</td><td>3.5</td><td>8.95</td></tr><tr><td>1422859</td><td>2302102470657</td><td>Le Grey Hotel</td><td>2016-10-22</td><td>2016-10-31</td><td>3.5</td><td>8.95</td></tr><tr><td>1460954</td><td>1666447310849</td><td>Arcola Inn</td><td>2016-10-22</td><td>2016-10-31</td><td>3.5</td><td>11.13</td></tr><tr><td>1510229</td><td>2688649527297</td><td>H tel Horset Op ra Best Western Premier Collection</td><td>2016-10-22</td><td>2016-10-31</td><td>3.5</td><td>8.95</td></tr><tr><td>1545271</td><td>3289944948736</td><td>H tel Victor Hugo Paris Kl ber</td><td>2016-10-22</td><td>2016-10-31</td><td>3.5</td><td>8.95</td></tr><tr><td>1549037</td><td>2637109919744</td><td>La Villa Haussmann</td><td>2016-10-22</td><td>2016-10-31</td><td>3.5</td><td>8.95</td></tr><tr><td>1615145</td><td>2044404432898</td><td>H tel Diva Opera</td><td>2016-10-22</td><td>2016-10-31</td><td>3.5</td><td>8.95</td></tr><tr><td>1630217</td><td>2370821947397</td><td>Park Hyatt Paris Vendome</td><td>2016-10-22</td><td>2016-10-31</td><td>3.5</td><td>8.95</td></tr><tr><td>1663604</td><td>2585570312195</td><td>Warwick Paris Former Warwick Champs Elysees</td><td>2016-10-22</td><td>2016-10-31</td><td>3.5</td><td>8.95</td></tr><tr><td>1687079</td><td>2757369004033</td><td>9Hotel Republique</td><td>2016-10-22</td><td>2016-10-31</td><td>3.5</td><td>8.95</td></tr><tr><td>1698796</td><td>3075196583938</td><td>Trinit Haussmann</td><td>2016-10-22</td><td>2016-10-31</td><td>3.5</td><td>8.95</td></tr><tr><td>1962314</td><td>2611340115970</td><td>Hotel Monsieur</td><td>2016-10-22</td><td>2016-10-31</td><td>3.5</td><td>8.95</td></tr><tr><td>1975480</td><td>2010044694532</td><td>H tel De Castiglione</td><td>2016-10-22</td><td>2016-10-31</td><td>3.5</td><td>8.95</td></tr><tr><td>2018437</td><td>3298534883329</td><td>H tel Etoile Saint Honor by Happyculture</td><td>2016-10-22</td><td>2016-10-31</td><td>3.5</td><td>8.95</td></tr><tr><td>2096367</td><td>3032246910977</td><td>Franklin Roosevelt</td><td>2016-10-22</td><td>2016-10-31</td><td>3.5</td><td>8.95</td></tr><tr><td>2099337</td><td>3032246910977</td><td>Franklin Roosevelt</td><td>2016-10-22</td><td>2016-10-31</td><td>3.5</td><td>8.95</td></tr><tr><td>2161763</td><td>1881195675653</td><td>H tel Montmartre Mon Amour</td><td>2016-10-22</td><td>2016-10-31</td><td>3.5</td><td>8.95</td></tr><tr><td>2195673</td><td>2860448219136</td><td>Best Western Mercedes Arc de Triomphe</td><td>2016-10-22</td><td>2016-10-31</td><td>3.5</td><td>8.95</td></tr><tr><td>2282845</td><td>2937757630464</td><td>Hotel Opera Cadet</td><td>2016-10-22</td><td>2016-10-31</td><td>3.5</td><td>8.95</td></tr><tr><td>2336761</td><td>2757369004033</td><td>9Hotel Republique</td><td>2016-10-22</td><td>2016-10-31</td><td>3.5</td><td>8.95</td></tr><tr><td>2369533</td><td>1872605741058</td><td>Rochester Champs Elysees</td><td>2016-10-22</td><td>2016-10-31</td><td>3.5</td><td>8.95</td></tr><tr><td>2396700</td><td>2156073582595</td><td>H tel L Echiquier Op ra Paris MGallery by Sofitel</td><td>2016-10-22</td><td>2016-10-31</td><td>3.5</td><td>8.95</td></tr><tr><td>2429966</td><td>1726576852994</td><td>Banke H tel</td><td>2016-10-22</td><td>2016-10-31</td><td>3.5</td><td>8.95</td></tr><tr><td>2489479</td><td>3264175144964</td><td>Mercure Paris Op ra Faubourg Montmartre</td><td>2016-10-22</td><td>2016-10-31</td><td>3.5</td><td>8.95</td></tr><tr><td>143848</td><td>2697239461890</td><td>The Beaumont Hotel</td><td>2017-09-03</td><td>2017-09-19</td><td>-3.4</td><td>12.2</td></tr><tr><td>432204</td><td>85899345923</td><td>Concord Apartments By Boq Lodging</td><td>2017-09-18</td><td>2017-09-25</td><td>3.4</td><td>23.0</td></tr><tr><td>450118</td><td>2662879723528</td><td>Corinthia Hotel London</td><td>2017-09-03</td><td>2017-09-19</td><td>-3.4</td><td>12.2</td></tr><tr><td>728567</td><td>1554778161152</td><td>The Inn @ St. Botolph</td><td>2017-09-18</td><td>2017-09-26</td><td>3.4</td><td>20.8</td></tr><tr><td>929320</td><td>1864015806465</td><td>Park Avenue Baker Street</td><td>2017-09-03</td><td>2017-09-19</td><td>-3.4</td><td>12.2</td></tr><tr><td>1082880</td><td>816043786245</td><td>40 Berkeley Hostel</td><td>2017-09-18</td><td>2017-09-26</td><td>3.4</td><td>20.8</td></tr><tr><td>1122653</td><td>1778116460548</td><td>The Marble Arch London</td><td>2017-09-03</td><td>2017-09-19</td><td>-3.4</td><td>12.2</td></tr><tr><td>1143069</td><td>34359738370</td><td>Sherwood Hills Resort</td><td>2016-10-16</td><td>2016-10-30</td><td>3.4</td><td>10.33</td></tr><tr><td>1317412</td><td>3264175144960</td><td>Grange Beauchamp Hotel</td><td>2017-09-03</td><td>2017-09-19</td><td>-3.4</td><td>12.2</td></tr><tr><td>1472867</td><td>343597383684</td><td>Casa Del Mar Inn Bandb</td><td>2016-10-19</td><td>2016-10-26</td><td>-3.4</td><td>18.8</td></tr><tr><td>1503070</td><td>34359738368</td><td>Eden Park Guest House</td><td>2017-09-18</td><td>2017-09-25</td><td>3.4</td><td>23.0</td></tr><tr><td>1625270</td><td>1443109011457</td><td>Boiling Springs Resort Canoe Rental</td><td>2017-09-17</td><td>2017-09-25</td><td>3.4</td><td>22.5</td></tr><tr><td>1650484</td><td>34359738368</td><td>Eden Park Guest House</td><td>2017-09-18</td><td>2017-09-25</td><td>3.4</td><td>23.0</td></tr><tr><td>1776536</td><td>3143916060674</td><td>The Montcalm Marble Arch</td><td>2017-09-03</td><td>2017-09-19</td><td>-3.4</td><td>12.2</td></tr><tr><td>1800971</td><td>111669149700</td><td>Comfort Inn</td><td>2016-10-21</td><td>2016-10-28</td><td>3.4</td><td>13.7</td></tr><tr><td>1807625</td><td>816043786245</td><td>40 Berkeley Hostel</td><td>2017-09-18</td><td>2017-09-26</td><td>3.4</td><td>20.8</td></tr><tr><td>2055592</td><td>34359738368</td><td>Eden Park Guest House</td><td>2017-09-18</td><td>2017-09-25</td><td>3.4</td><td>23.0</td></tr><tr><td>2135225</td><td>369367187459</td><td>Quality Inn & Suites - Riverfront</td><td>2017-08-13</td><td>2017-08-31</td><td>-3.4</td><td>19.1</td></tr><tr><td>2312810</td><td>111669149700</td><td>Comfort Inn</td><td>2016-10-21</td><td>2016-10-28</td><td>3.4</td><td>13.7</td></tr><tr><td>2416121</td><td>910533066756</td><td>Four Seasons Country Inn</td><td>2016-10-21</td><td>2016-10-28</td><td>3.4</td><td>13.7</td></tr><tr><td>2455660</td><td>343597383684</td><td>Casa Del Mar Inn Bandb</td><td>2016-10-19</td><td>2016-10-26</td><td>-3.4</td><td>18.8</td></tr><tr><td>419799</td><td>257698037761</td><td>Cherry Orchard Inn</td><td>2016-10-15</td><td>2016-10-22</td><td>3.3</td><td>13.23</td></tr><tr><td>637426</td><td>128849018884</td><td>Comfort Suites</td><td>2017-08-08</td><td>2017-08-20</td><td>3.3</td><td>25.75</td></tr><tr><td>663361</td><td>1176821039104</td><td>Days Inn Bloomington</td><td>2017-08-04</td><td>2017-08-11</td><td>3.3</td><td>21.07</td></tr><tr><td>688101</td><td>901943132161</td><td>Frontier Cabins Motel</td><td>2017-08-18</td><td>2017-08-25</td><td>-3.3</td><td>20.45</td></tr><tr><td>731850</td><td>1142461300741</td><td>Sand's Motel</td><td>2017-09-07</td><td>2017-09-14</td><td>3.3</td><td>23.05</td></tr><tr><td>886136</td><td>1477468749825</td><td>The Bluffs Inn Suites</td><td>2017-08-10</td><td>2017-08-23</td><td>-3.3</td><td>18.45</td></tr><tr><td>1171876</td><td>257698037761</td><td>Cherry Orchard Inn</td><td>2016-10-15</td><td>2016-10-22</td><td>3.3</td><td>13.23</td></tr><tr><td>1324716</td><td>1211180777475</td><td>Torian Plum By Wyndham Vacation Rentals</td><td>2017-08-28</td><td>2017-09-05</td><td>-3.3</td><td>16.45</td></tr><tr><td>2090958</td><td>996432412676</td><td>Red Carpet Inn</td><td>2016-10-23</td><td>2016-10-30</td><td>-3.3</td><td>12.75</td></tr><tr><td>2229581</td><td>1700807049218</td><td>Holiday Inn Express & Suites West Monroe</td><td>2016-10-17</td><td>2016-10-30</td><td>-3.3</td><td>20.03</td></tr><tr><td>2276873</td><td>1417339207683</td><td>Fairfield Inn and Suites By Marriott Plainville</td><td>2017-09-05</td><td>2017-09-12</td><td>-3.3</td><td>18.85</td></tr><tr><td>2312357</td><td>1700807049217</td><td>Rodeway Inn-tacoma</td><td>2017-09-21</td><td>2017-09-29</td><td>3.3</td><td>12.45</td></tr><tr><td>4251</td><td>2345052143618</td><td>London Marriott Hotel Regents Park</td><td>2017-08-25</td><td>2017-09-03</td><td>-3.2</td><td>15.5</td></tr><tr><td>70196</td><td>2980707303424</td><td>Hilton London Hyde Park</td><td>2017-08-25</td><td>2017-09-03</td><td>-3.2</td><td>15.5</td></tr><tr><td>89285</td><td>2534030704641</td><td>The Royal Horseguards</td><td>2017-08-25</td><td>2017-09-03</td><td>-3.2</td><td>15.5</td></tr><tr><td>89328</td><td>1151051235334</td><td>Atlanta Marriott Northwest At Galleria</td><td>2017-08-16</td><td>2017-08-24</td><td>-3.2</td><td>26.0</td></tr><tr><td>146818</td><td>2826088480775</td><td>The Savoy</td><td>2017-08-25</td><td>2017-09-03</td><td>-3.2</td><td>15.5</td></tr><tr><td>148004</td><td>661424963586</td><td>Twelve Hotels & Residences</td><td>2017-08-16</td><td>2017-08-24</td><td>-3.2</td><td>26.0</td></tr><tr><td>148815</td><td>3212635537409</td><td>Park Grand London Lancaster Gate</td><td>2017-08-25</td><td>2017-09-03</td><td>-3.2</td><td>15.5</td></tr><tr><td>182991</td><td>2302102470658</td><td>The Henrietta Hotel</td><td>2017-08-25</td><td>2017-09-03</td><td>-3.2</td><td>15.5</td></tr><tr><td>200492</td><td>1846835937282</td><td>Holiday Inn London Wembley</td><td>2017-08-25</td><td>2017-09-03</td><td>-3.2</td><td>15.5</td></tr><tr><td>278607</td><td>2585570312194</td><td>London City Suites</td><td>2017-08-25</td><td>2017-09-03</td><td>-3.2</td><td>15.5</td></tr><tr><td>288850</td><td>1967095021568</td><td>Courthouse Hotel London</td><td>2017-08-25</td><td>2017-09-03</td><td>-3.2</td><td>15.5</td></tr><tr><td>296136</td><td>3358664425474</td><td>Hotel La Place</td><td>2017-08-25</td><td>2017-09-03</td><td>-3.2</td><td>15.5</td></tr><tr><td>321006</td><td>1889785610242</td><td>Park Grand Paddington Court</td><td>2017-08-25</td><td>2017-09-03</td><td>-3.2</td><td>15.5</td></tr><tr><td>322526</td><td>2783138807814</td><td>Ham Yard Hotel</td><td>2017-08-25</td><td>2017-09-03</td><td>-3.2</td><td>15.5</td></tr><tr><td>349379</td><td>3341484556291</td><td>Thistle Euston</td><td>2017-08-25</td><td>2017-09-03</td><td>-3.2</td><td>15.5</td></tr><tr><td>376355</td><td>2396591751175</td><td>Amba Hotel Charing Cross</td><td>2017-08-25</td><td>2017-09-03</td><td>-3.2</td><td>15.5</td></tr><tr><td>400561</td><td>2783138807814</td><td>Ham Yard Hotel</td><td>2017-08-25</td><td>2017-09-03</td><td>-3.2</td><td>15.5</td></tr><tr><td>408411</td><td>2035814498304</td><td>Arbor City</td><td>2017-08-25</td><td>2017-09-03</td><td>-3.2</td><td>15.5</td></tr><tr><td>424587</td><td>2671469658115</td><td>Hotel 55</td><td>2017-08-25</td><td>2017-09-03</td><td>-3.2</td><td>15.5</td></tr><tr><td>424700</td><td>3307124817923</td><td>The Hoxton Shoreditch</td><td>2017-08-25</td><td>2017-09-03</td><td>-3.2</td><td>15.5</td></tr><tr><td>441549</td><td>2491081031681</td><td>London Marriott Hotel Marble Arch</td><td>2017-08-25</td><td>2017-09-03</td><td>-3.2</td><td>15.5</td></tr><tr><td>446444</td><td>2070174236673</td><td>Goodenough Club</td><td>2017-08-25</td><td>2017-09-03</td><td>-3.2</td><td>15.5</td></tr><tr><td>448847</td><td>2422361554946</td><td>London Marriott Hotel West India Quay</td><td>2017-08-25</td><td>2017-09-03</td><td>-3.2</td><td>15.5</td></tr><tr><td>452339</td><td>1743756722177</td><td>Grange White Hall Hotel</td><td>2017-08-25</td><td>2017-09-03</td><td>-3.2</td><td>15.5</td></tr><tr><td>482090</td><td>2284922601477</td><td>St Pancras Renaissance Hotel London</td><td>2017-08-25</td><td>2017-09-03</td><td>-3.2</td><td>15.5</td></tr><tr><td>495179</td><td>2637109919746</td><td>St James Hotel Club Mayfair</td><td>2017-08-25</td><td>2017-09-03</td><td>-3.2</td><td>15.5</td></tr><tr><td>543756</td><td>2748779069440</td><td>Holiday Inn London Stratford City</td><td>2017-08-25</td><td>2017-09-03</td><td>-3.2</td><td>15.5</td></tr><tr><td>551401</td><td>2052994367489</td><td>Canary Riverside Plaza Hotel</td><td>2017-08-25</td><td>2017-09-03</td><td>-3.2</td><td>15.5</td></tr><tr><td>551639</td><td>2147483648000</td><td>Le Meridien Piccadilly</td><td>2017-08-25</td><td>2017-09-03</td><td>-3.2</td><td>15.5</td></tr><tr><td>558995</td><td>3358664425474</td><td>Hotel La Place</td><td>2017-08-25</td><td>2017-09-03</td><td>-3.2</td><td>15.5</td></tr><tr><td>663516</td><td>3410204033028</td><td>Amba Hotel Marble Arch</td><td>2017-08-25</td><td>2017-09-03</td><td>-3.2</td><td>15.5</td></tr><tr><td>686581</td><td>1881195675652</td><td>Hotel Cafe Royal</td><td>2017-08-25</td><td>2017-09-03</td><td>-3.2</td><td>15.5</td></tr><tr><td>690164</td><td>3023656976384</td><td>The Leonard Hotel</td><td>2017-08-25</td><td>2017-09-03</td><td>-3.2</td><td>15.5</td></tr><tr><td>708416</td><td>3401614098434</td><td>Rocco Forte Brown s Hotel</td><td>2017-08-25</td><td>2017-09-03</td><td>-3.2</td><td>15.5</td></tr><tr><td>727155</td><td>2336462209028</td><td>The Laslett</td><td>2017-08-25</td><td>2017-09-03</td><td>-3.2</td><td>15.5</td></tr><tr><td>741944</td><td>3066606649349</td><td>Threadneedles Autograph Collection</td><td>2017-08-25</td><td>2017-09-03</td><td>-3.2</td><td>15.5</td></tr><tr><td>757285</td><td>2370821947399</td><td>Hotel Cavendish</td><td>2017-08-25</td><td>2017-09-03</td><td>-3.2</td><td>15.5</td></tr><tr><td>779515</td><td>3126736191491</td><td>Hilton London Tower Bridge</td><td>2017-08-25</td><td>2017-09-03</td><td>-3.2</td><td>15.5</td></tr><tr><td>803046</td><td>3049426780161</td><td>Pullman London St Pancras</td><td>2017-08-25</td><td>2017-09-03</td><td>-3.2</td><td>15.5</td></tr><tr><td>818013</td><td>3015067041792</td><td>The Arch London</td><td>2017-08-25</td><td>2017-09-03</td><td>-3.2</td><td>15.5</td></tr><tr><td>819415</td><td>2671469658114</td><td>Radisson Blu Edwardian New Providence Wharf</td><td>2017-08-25</td><td>2017-09-03</td><td>-3.2</td><td>15.5</td></tr><tr><td>872265</td><td>3152505995268</td><td>Hilton London Metropole</td><td>2017-08-25</td><td>2017-09-03</td><td>-3.2</td><td>15.5</td></tr><tr><td>933215</td><td>3212635537410</td><td>Landmark London</td><td>2017-08-25</td><td>2017-09-03</td><td>-3.2</td><td>15.5</td></tr><tr><td>957996</td><td>1717986918401</td><td>Mimi s Hotel Soho</td><td>2017-08-25</td><td>2017-09-03</td><td>-3.2</td><td>15.5</td></tr><tr><td>974451</td><td>2826088480768</td><td>Grange Langham Court Hotel</td><td>2017-08-25</td><td>2017-09-03</td><td>-3.2</td><td>15.5</td></tr><tr><td>1003674</td><td>1889785610242</td><td>Park Grand Paddington Court</td><td>2017-08-25</td><td>2017-09-03</td><td>-3.2</td><td>15.5</td></tr><tr><td>1007495</td><td>2516850835459</td><td>citizenM London Shoreditch</td><td>2017-08-25</td><td>2017-09-03</td><td>-3.2</td><td>15.5</td></tr><tr><td>1035003</td><td>1967095021568</td><td>Courthouse Hotel London</td><td>2017-08-25</td><td>2017-09-03</td><td>-3.2</td><td>15.5</td></tr><tr><td>1064681</td><td>3126736191489</td><td>Radisson Blu Edwardian Mercer Street</td><td>2017-08-25</td><td>2017-09-03</td><td>-3.2</td><td>15.5</td></tr><tr><td>1102000</td><td>2869038153731</td><td>The Zetter Hotel</td><td>2017-08-25</td><td>2017-09-03</td><td>-3.2</td><td>15.5</td></tr><tr><td>1103254</td><td>3264175144962</td><td>Holiday Inn London Mayfair</td><td>2017-08-25</td><td>2017-09-03</td><td>-3.2</td><td>15.5</td></tr><tr><td>1141421</td><td>2388001816584</td><td>The Tower A Guoman Hotel</td><td>2017-08-25</td><td>2017-09-03</td><td>-3.2</td><td>15.5</td></tr><tr><td>1155079</td><td>2241972928513</td><td>Hotel Indigo London Tower Hill</td><td>2017-08-25</td><td>2017-09-03</td><td>-3.2</td><td>15.5</td></tr><tr><td>1183140</td><td>2413771620354</td><td>Hilton London Angel Islington</td><td>2017-08-25</td><td>2017-09-03</td><td>-3.2</td><td>15.5</td></tr><tr><td>1231503</td><td>2534030704641</td><td>The Royal Horseguards</td><td>2017-08-25</td><td>2017-09-03</td><td>-3.2</td><td>15.5</td></tr><tr><td>1237649</td><td>171798691841</td><td>Lewis River Inn</td><td>2017-08-05</td><td>2017-08-12</td><td>-3.2</td><td>20.3</td></tr><tr><td>1245552</td><td>171798691841</td><td>Lewis River Inn</td><td>2017-08-05</td><td>2017-08-12</td><td>-3.2</td><td>20.3</td></tr><tr><td>1254793</td><td>2190433320960</td><td>My Bloomsbury</td><td>2017-08-25</td><td>2017-09-03</td><td>-3.2</td><td>15.5</td></tr><tr><td>1261793</td><td>3289944948738</td><td>The Royal Park Hotel</td><td>2017-08-25</td><td>2017-09-03</td><td>-3.2</td><td>15.5</td></tr><tr><td>1273047</td><td>2448131358722</td><td>Melia White House Hotel</td><td>2017-08-25</td><td>2017-09-03</td><td>-3.2</td><td>15.5</td></tr><tr><td>1276500</td><td>2456721293312</td><td>Clayton Crown Hotel London</td><td>2017-08-25</td><td>2017-09-03</td><td>-3.2</td><td>15.5</td></tr><tr><td>1305688</td><td>2164663517188</td><td>Holiday Inn London Oxford Circus</td><td>2017-08-25</td><td>2017-09-03</td><td>-3.2</td><td>15.5</td></tr><tr><td>1315200</td><td>2284922601477</td><td>St Pancras Renaissance Hotel London</td><td>2017-08-25</td><td>2017-09-03</td><td>-3.2</td><td>15.5</td></tr><tr><td>1342432</td><td>2954937499654</td><td>Shaftesbury Suites London Marble Arch</td><td>2017-08-25</td><td>2017-09-03</td><td>-3.2</td><td>15.5</td></tr><tr><td>1353488</td><td>3401614098434</td><td>Rocco Forte Brown s Hotel</td><td>2017-08-25</td><td>2017-09-03</td><td>-3.2</td><td>15.5</td></tr><tr><td>1354753</td><td>1975684956162</td><td>Montagu Place Hotel</td><td>2017-08-25</td><td>2017-09-03</td><td>-3.2</td><td>15.5</td></tr><tr><td>1397754</td><td>2697239461894</td><td>London Elizabeth Hotel</td><td>2017-08-25</td><td>2017-09-03</td><td>-3.2</td><td>15.5</td></tr><tr><td>1491956</td><td>2654289788928</td><td>Crowne Plaza London The City</td><td>2017-08-25</td><td>2017-09-03</td><td>-3.2</td><td>15.5</td></tr><tr><td>1492478</td><td>3212635537409</td><td>Park Grand London Lancaster Gate</td><td>2017-08-25</td><td>2017-09-03</td><td>-3.2</td><td>15.5</td></tr><tr><td>1500004</td><td>2396591751170</td><td>DoubleTree by Hilton Hotel London Marble Arch</td><td>2017-08-25</td><td>2017-09-03</td><td>-3.2</td><td>15.5</td></tr><tr><td>1511171</td><td>171798691841</td><td>Lewis River Inn</td><td>2017-08-05</td><td>2017-08-12</td><td>-3.2</td><td>20.3</td></tr><tr><td>1531668</td><td>2783138807814</td><td>Ham Yard Hotel</td><td>2017-08-25</td><td>2017-09-03</td><td>-3.2</td><td>15.5</td></tr><tr><td>1535489</td><td>2954937499654</td><td>Shaftesbury Suites London Marble Arch</td><td>2017-08-25</td><td>2017-09-03</td><td>-3.2</td><td>15.5</td></tr><tr><td>1541186</td><td>2164663517188</td><td>Holiday Inn London Oxford Circus</td><td>2017-08-25</td><td>2017-09-03</td><td>-3.2</td><td>15.5</td></tr><tr><td>1581346</td><td>1967095021568</td><td>Courthouse Hotel London</td><td>2017-08-25</td><td>2017-09-03</td><td>-3.2</td><td>15.5</td></tr><tr><td>1586886</td><td>472446402561</td><td>Meadow Farm Bed and Breakfast</td><td>2017-08-06</td><td>2017-08-13</td><td>3.2</td><td>18.8</td></tr><tr><td>1618097</td><td>3058016714753</td><td>Hazlitt s</td><td>2017-08-25</td><td>2017-09-03</td><td>-3.2</td><td>15.5</td></tr><tr><td>1650563</td><td>2353642078211</td><td>Shangri La Hotel at The Shard London</td><td>2017-08-25</td><td>2017-09-03</td><td>-3.2</td><td>15.5</td></tr><tr><td>1663553</td><td>2259152797700</td><td>Apex London Wall Hotel</td><td>2017-08-25</td><td>2017-09-03</td><td>-3.2</td><td>15.5</td></tr><tr><td>1674411</td><td>146028888065</td><td>Landmark Inn Lakes-mountain Region</td><td>2017-09-17</td><td>2017-09-25</td><td>3.2</td><td>20.75</td></tr><tr><td>1719244</td><td>2963527434241</td><td>Bloomsbury Palace Hotel</td><td>2017-08-25</td><td>2017-09-03</td><td>-3.2</td><td>15.5</td></tr><tr><td>1723057</td><td>1726576852996</td><td>Nottingham Place Hotel</td><td>2017-08-25</td><td>2017-09-03</td><td>-3.2</td><td>15.5</td></tr><tr><td>1728936</td><td>3307124817923</td><td>The Hoxton Shoreditch</td><td>2017-08-25</td><td>2017-09-03</td><td>-3.2</td><td>15.5</td></tr><tr><td>1734614</td><td>3393024163841</td><td>Hilton London Paddington</td><td>2017-08-25</td><td>2017-09-03</td><td>-3.2</td><td>15.5</td></tr><tr><td>1740631</td><td>2422361554946</td><td>London Marriott Hotel West India Quay</td><td>2017-08-25</td><td>2017-09-03</td><td>-3.2</td><td>15.5</td></tr><tr><td>1753988</td><td>2362232012804</td><td>The Grand at Trafalgar Square</td><td>2017-08-25</td><td>2017-09-03</td><td>-3.2</td><td>15.5</td></tr><tr><td>1756307</td><td>2147483648002</td><td>La Suite West Hyde Park</td><td>2017-08-25</td><td>2017-09-03</td><td>-3.2</td><td>15.5</td></tr><tr><td>1812084</td><td>2602750181383</td><td>United Lodge Hotel and Apartments</td><td>2017-08-25</td><td>2017-09-03</td><td>-3.2</td><td>15.5</td></tr><tr><td>1834180</td><td>2413771620354</td><td>Hilton London Angel Islington</td><td>2017-08-25</td><td>2017-09-03</td><td>-3.2</td><td>15.5</td></tr><tr><td>1851111</td><td>2783138807814</td><td>Ham Yard Hotel</td><td>2017-08-25</td><td>2017-09-03</td><td>-3.2</td><td>15.5</td></tr><tr><td>1858550</td><td>2138893713408</td><td>The Park Grand London Paddington</td><td>2017-08-25</td><td>2017-09-03</td><td>-3.2</td><td>15.5</td></tr><tr><td>1922052</td><td>3298534883333</td><td>Thistle Trafalgar Square The Royal Trafalgar</td><td>2017-08-25</td><td>2017-09-03</td><td>-3.2</td><td>15.5</td></tr><tr><td>1940169</td><td>2697239461894</td><td>London Elizabeth Hotel</td><td>2017-08-25</td><td>2017-09-03</td><td>-3.2</td><td>15.5</td></tr><tr><td>1961953</td><td>2783138807814</td><td>Ham Yard Hotel</td><td>2017-08-25</td><td>2017-09-03</td><td>-3.2</td><td>15.5</td></tr><tr><td>1978503</td><td>2456721293312</td><td>Clayton Crown Hotel London</td><td>2017-08-25</td><td>2017-09-03</td><td>-3.2</td><td>15.5</td></tr><tr><td>1992348</td><td>2138893713408</td><td>The Park Grand London Paddington</td><td>2017-08-25</td><td>2017-09-03</td><td>-3.2</td><td>15.5</td></tr><tr><td>1994198</td><td>1906965479426</td><td>South Place Hotel</td><td>2017-08-25</td><td>2017-09-03</td><td>-3.2</td><td>15.5</td></tr><tr><td>2019069</td><td>1726576852996</td><td>Nottingham Place Hotel</td><td>2017-08-25</td><td>2017-09-03</td><td>-3.2</td><td>15.5</td></tr><tr><td>2039410</td><td>2233382993924</td><td>ME London by Melia</td><td>2017-08-25</td><td>2017-09-03</td><td>-3.2</td><td>15.5</td></tr><tr><td>2045583</td><td>2705829396481</td><td>Dukes Hotel</td><td>2017-08-25</td><td>2017-09-03</td><td>-3.2</td><td>15.5</td></tr><tr><td>2054254</td><td>2130303778819</td><td>Commodore Hotel</td><td>2017-08-25</td><td>2017-09-03</td><td>-3.2</td><td>15.5</td></tr><tr><td>2175846</td><td>1778116460548</td><td>The Marble Arch London</td><td>2017-08-25</td><td>2017-09-03</td><td>-3.2</td><td>15.5</td></tr><tr><td>2182945</td><td>2396591751172</td><td>Holiday Inn London Whitechapel</td><td>2017-08-25</td><td>2017-09-03</td><td>-3.2</td><td>15.5</td></tr><tr><td>2236698</td><td>2456721293312</td><td>Clayton Crown Hotel London</td><td>2017-08-25</td><td>2017-09-03</td><td>-3.2</td><td>15.5</td></tr><tr><td>2237801</td><td>2070174236673</td><td>Goodenough Club</td><td>2017-08-25</td><td>2017-09-03</td><td>-3.2</td><td>15.5</td></tr><tr><td>2243490</td><td>2052994367489</td><td>Canary Riverside Plaza Hotel</td><td>2017-08-25</td><td>2017-09-03</td><td>-3.2</td><td>15.5</td></tr><tr><td>2244949</td><td>3143916060674</td><td>The Montcalm Marble Arch</td><td>2017-08-25</td><td>2017-09-03</td><td>-3.2</td><td>15.5</td></tr><tr><td>2263363</td><td>2654289788928</td><td>Crowne Plaza London The City</td><td>2017-08-25</td><td>2017-09-03</td><td>-3.2</td><td>15.5</td></tr><tr><td>2265683</td><td>2456721293312</td><td>Clayton Crown Hotel London</td><td>2017-08-25</td><td>2017-09-03</td><td>-3.2</td><td>15.5</td></tr><tr><td>2266402</td><td>2327872274432</td><td>Mondrian London</td><td>2017-08-25</td><td>2017-09-03</td><td>-3.2</td><td>15.5</td></tr><tr><td>2271827</td><td>2413771620353</td><td>Comfort Inn Suites Kings Cross St Pancras</td><td>2017-08-25</td><td>2017-09-03</td><td>-3.2</td><td>15.5</td></tr><tr><td>2302704</td><td>1812476198912</td><td>Staunton Hotel B B</td><td>2017-08-25</td><td>2017-09-03</td><td>-3.2</td><td>15.5</td></tr><tr><td>2318405</td><td>2276332666883</td><td>Holiday Inn London Regent s Park</td><td>2017-08-25</td><td>2017-09-03</td><td>-3.2</td><td>15.5</td></tr><tr><td>2338050</td><td>2834678415363</td><td>Club Quarters Hotel Lincoln s Inn Fields</td><td>2017-08-25</td><td>2017-09-03</td><td>-3.2</td><td>15.5</td></tr><tr><td>2389551</td><td>2602750181378</td><td>Old Ship Inn Hackney</td><td>2017-08-25</td><td>2017-09-03</td><td>-3.2</td><td>15.5</td></tr><tr><td>2397468</td><td>661424963586</td><td>Twelve Hotels & Residences</td><td>2017-08-16</td><td>2017-08-24</td><td>-3.2</td><td>26.0</td></tr><tr><td>2418879</td><td>2310692405248</td><td>DoubleTree by Hilton London Hyde Park</td><td>2017-08-25</td><td>2017-09-03</td><td>-3.2</td><td>15.5</td></tr><tr><td>2456610</td><td>1855425871872</td><td>Avo Hotel</td><td>2017-08-25</td><td>2017-09-03</td><td>-3.2</td><td>15.5</td></tr><tr><td>2478173</td><td>472446402561</td><td>Meadow Farm Bed and Breakfast</td><td>2017-08-06</td><td>2017-08-13</td><td>3.2</td><td>18.8</td></tr><tr><td>2484059</td><td>1812476198912</td><td>Staunton Hotel B B</td><td>2017-08-25</td><td>2017-09-03</td><td>-3.2</td><td>15.5</td></tr><tr><td>137097</td><td>1142461300740</td><td>Economy Inn</td><td>2017-08-14</td><td>2017-08-24</td><td>-3.1</td><td>23.55</td></tr><tr><td>416028</td><td>1262720385024</td><td>Holiday Inn Express & Suites Phoenix Downtown - Ballpark</td><td>2017-09-20</td><td>2017-09-28</td><td>-3.1</td><td>26.3</td></tr><tr><td>545701</td><td>781684047872</td><td>Knights Inn</td><td>2017-08-02</td><td>2017-08-09</td><td>-3.1</td><td>22.35</td></tr><tr><td>703555</td><td>1537598291968</td><td>Intermezzo</td><td>2016-10-24</td><td>2016-10-31</td><td>-3.1</td><td>15.6</td></tr><tr><td>760915</td><td>1279900254209</td><td>La Quinta Inn Calhoun</td><td>2017-09-01</td><td>2017-09-10</td><td>-3.1</td><td>20.05</td></tr><tr><td>1943772</td><td>42949672961</td><td>Holiday Inn Express and Suites Canyonville</td><td>2017-08-10</td><td>2017-08-18</td><td>-3.1</td><td>21.2</td></tr><tr><td>2301710</td><td>1537598291968</td><td>Intermezzo</td><td>2016-10-24</td><td>2016-10-31</td><td>-3.1</td><td>15.6</td></tr><tr><td>506559</td><td>1709396983812</td><td>Una Hotel Forte Dei Marmi</td><td>2017-09-17</td><td>2017-09-28</td><td>3.0</td><td>15.0</td></tr><tr><td>594019</td><td>403726925825</td><td>Super 8 - Effingham</td><td>2017-08-09</td><td>2017-08-18</td><td>3.0</td><td>22.6</td></tr><tr><td>609121</td><td>1417339207685</td><td>Sand Dunes Motel</td><td>2016-10-21</td><td>2016-10-28</td><td>3.0</td><td>6.4</td></tr><tr><td>732029</td><td>1494648619008</td><td>Econo Lodge Big Spring</td><td>2017-08-15</td><td>2017-08-22</td><td>3.0</td><td>25.9</td></tr><tr><td>775684</td><td>455266533381</td><td>Hilton Princess San Pedro Sula</td><td>2016-10-07</td><td>2016-10-18</td><td>-3.0</td><td>24.83</td></tr><tr><td>928335</td><td>1709396983812</td><td>Una Hotel Forte Dei Marmi</td><td>2017-09-17</td><td>2017-09-28</td><td>3.0</td><td>15.0</td></tr><tr><td>1602925</td><td>824633720837</td><td>Western Inn-glacier Park</td><td>2016-10-10</td><td>2016-10-18</td><td>3.0</td><td>1.8</td></tr><tr><td>1743380</td><td>1168231104512</td><td>Days Inn & Suites Vicksburg</td><td>2016-10-11</td><td>2016-10-19</td><td>3.0</td><td>22.4</td></tr><tr><td>2153878</td><td>747324309509</td><td>Americas Best Value Inn</td><td>2016-10-08</td><td>2016-10-27</td><td>3.0</td><td>11.83</td></tr><tr><td>2167007</td><td>1468878815239</td><td>Super 8 Schenect/albany Area</td><td>2017-08-08</td><td>2017-08-19</td><td>3.0</td><td>19.43</td></tr><tr><td>2385077</td><td>1709396983812</td><td>Una Hotel Forte Dei Marmi</td><td>2017-09-17</td><td>2017-09-28</td><td>3.0</td><td>15.0</td></tr><tr><td>503910</td><td>1675037245444</td><td>Sleep Inn At Harbour View</td><td>2017-08-23</td><td>2017-08-31</td><td>-2.8</td><td>26.5</td></tr><tr><td>630397</td><td>1460288880644</td><td>Mineola Motel</td><td>2017-08-23</td><td>2017-08-31</td><td>-2.8</td><td>26.5</td></tr><tr><td>712479</td><td>42949672968</td><td>Residence Inn By Marriott Hartford Downtown</td><td>2017-09-04</td><td>2017-09-15</td><td>2.8</td><td>20.28</td></tr><tr><td>1056827</td><td>1675037245444</td><td>Sleep Inn At Harbour View</td><td>2017-08-23</td><td>2017-09-03</td><td>-2.8</td><td>26.03</td></tr><tr><td>1150907</td><td>1133871366147</td><td>Wyndham Vacation Resorts Towers On The Grove</td><td>2017-08-23</td><td>2017-08-31</td><td>-2.8</td><td>26.5</td></tr><tr><td>1850448</td><td>1675037245445</td><td>Innpoints Worldwide</td><td>2016-10-17</td><td>2016-10-29</td><td>-2.8</td><td>18.5</td></tr><tr><td>2005300</td><td>1460288880644</td><td>Mineola Motel</td><td>2017-08-23</td><td>2017-09-03</td><td>-2.8</td><td>26.03</td></tr><tr><td>2242590</td><td>764504178692</td><td>Best Western Hartford Hotel & Suites</td><td>2017-09-04</td><td>2017-09-15</td><td>2.8</td><td>20.28</td></tr><tr><td>2325781</td><td>1460288880644</td><td>Mineola Motel</td><td>2017-08-23</td><td>2017-08-31</td><td>-2.8</td><td>26.5</td></tr><tr><td>2457570</td><td>1151051235329</td><td>Red Banks Motel</td><td>2017-09-10</td><td>2017-09-17</td><td>2.8</td><td>16.5</td></tr><tr><td>113840</td><td>3229815406593</td><td>Royal Saint Michel</td><td>2016-10-09</td><td>2016-10-27</td><td>2.7</td><td>9.07</td></tr><tr><td>119892</td><td>2173253451779</td><td>H tel Bel Ami</td><td>2016-10-09</td><td>2016-10-27</td><td>2.7</td><td>9.07</td></tr><tr><td>174800</td><td>1176821039106</td><td>Comfort Inn Birmingham - Irondale</td><td>2017-08-23</td><td>2017-09-01</td><td>-2.7</td><td>23.95</td></tr><tr><td>503993</td><td>2963527434243</td><td>Hotel Sezz Paris</td><td>2016-10-09</td><td>2016-10-27</td><td>2.7</td><td>9.07</td></tr><tr><td>651885</td><td>3221225472002</td><td>Mercure Paris Porte De Versailles Expo</td><td>2016-10-09</td><td>2016-10-27</td><td>2.7</td><td>9.07</td></tr><tr><td>747264</td><td>377957122049</td><td>Candlewood</td><td>2016-10-13</td><td>2016-10-20</td><td>2.7</td><td>11.53</td></tr><tr><td>878981</td><td>3023656976385</td><td>Au Manoir Saint Germain</td><td>2016-10-09</td><td>2016-10-27</td><td>2.7</td><td>9.07</td></tr><tr><td>921366</td><td>498216206340</td><td>Liberty Lodge</td><td>2017-08-19</td><td>2017-08-27</td><td>-2.7</td><td>16.63</td></tr><tr><td>957786</td><td>1374389534724</td><td>America's Best Value Inn</td><td>2016-10-16</td><td>2016-10-29</td><td>-2.7</td><td>26.75</td></tr><tr><td>994920</td><td>3100966387713</td><td>L H tel</td><td>2016-10-09</td><td>2016-10-27</td><td>2.7</td><td>9.07</td></tr><tr><td>1084862</td><td>1803886264324</td><td>La Maison Champs Elys es</td><td>2016-10-09</td><td>2016-10-27</td><td>2.7</td><td>9.07</td></tr><tr><td>1160089</td><td>2388001816581</td><td>Best Western Plus 61 Paris Nation Hotel</td><td>2016-10-09</td><td>2016-10-27</td><td>2.7</td><td>9.07</td></tr><tr><td>1472740</td><td>3178275799045</td><td>Hotel Ares Eiffel</td><td>2016-10-09</td><td>2016-10-27</td><td>2.7</td><td>9.07</td></tr><tr><td>1552288</td><td>1666447310851</td><td>Baymont Inn & Suites Griffin</td><td>2017-08-16</td><td>2017-09-01</td><td>-2.7</td><td>26.77</td></tr><tr><td>1552291</td><td>3264175144961</td><td>Novotel Paris Vaugirard Montparnasse</td><td>2016-10-09</td><td>2016-10-27</td><td>2.7</td><td>9.07</td></tr><tr><td>1598411</td><td>3066606649346</td><td>Hotel Plaza Athenee Paris</td><td>2016-10-09</td><td>2016-10-27</td><td>2.7</td><td>9.07</td></tr><tr><td>1951959</td><td>3066606649346</td><td>Hotel Plaza Athenee Paris</td><td>2016-10-09</td><td>2016-10-27</td><td>2.7</td><td>9.07</td></tr><tr><td>2167349</td><td>1176821039106</td><td>Comfort Inn Birmingham - Irondale</td><td>2017-08-23</td><td>2017-09-01</td><td>-2.7</td><td>23.95</td></tr><tr><td>2288153</td><td>1975684956161</td><td>Le Tourville Eiffel</td><td>2016-10-09</td><td>2016-10-27</td><td>2.7</td><td>9.07</td></tr><tr><td>268340</td><td>996432412674</td><td>Bent Elbow</td><td>2017-08-29</td><td>2017-09-08</td><td>-2.6</td><td>9.5</td></tr><tr><td>303828</td><td>1571958030339</td><td>Hotel Columbia</td><td>2017-08-29</td><td>2017-09-08</td><td>-2.6</td><td>9.5</td></tr><tr><td>1261979</td><td>2448131358724</td><td>Am Spiegeln</td><td>2016-10-23</td><td>2016-10-30</td><td>2.6</td><td>7.5</td></tr><tr><td>1514052</td><td>369367187460</td><td>Blue Boar Inn</td><td>2017-08-07</td><td>2017-08-21</td><td>2.6</td><td>22.73</td></tr><tr><td>1755065</td><td>1967095021573</td><td>Austria Trend Hotel Bosei Wien</td><td>2016-10-23</td><td>2016-10-30</td><td>2.6</td><td>7.5</td></tr><tr><td>2010955</td><td>412316860419</td><td>Port-o-call Motel</td><td>2017-08-03</td><td>2017-08-25</td><td>-2.6</td><td>24.6</td></tr><tr><td>2246161</td><td>3204045602821</td><td>Hotel Eitlj rg</td><td>2016-10-23</td><td>2016-10-30</td><td>2.6</td><td>7.5</td></tr><tr><td>138620</td><td>146028888064</td><td>Extended Stay America</td><td>2017-08-21</td><td>2017-08-30</td><td>-2.5</td><td>21.05</td></tr><tr><td>477934</td><td>146028888064</td><td>Extended Stay America</td><td>2017-08-21</td><td>2017-08-30</td><td>-2.5</td><td>21.05</td></tr><tr><td>1213483</td><td>489626271746</td><td>Alyssa's Motel</td><td>2016-10-13</td><td>2016-10-22</td><td>2.5</td><td>4.65</td></tr><tr><td>1315402</td><td>412316860418</td><td>Lindy Motel</td><td>2017-08-29</td><td>2017-09-05</td><td>2.5</td><td>14.87</td></tr><tr><td>1868019</td><td>3238405341191</td><td>Ambassade Hotel</td><td>2017-08-11</td><td>2017-08-31</td><td>-2.5</td><td>15.65</td></tr><tr><td>289790</td><td>25769803778</td><td>The Governor Hotel</td><td>2017-09-14</td><td>2017-09-24</td><td>-2.4</td><td>15.23</td></tr><tr><td>770926</td><td>575525617664</td><td>Thunderbird Executive Inn and Conference Center</td><td>2016-10-12</td><td>2016-10-20</td><td>2.4</td><td>24.93</td></tr><tr><td>837536</td><td>695784701958</td><td>Days Inn Statesville</td><td>2017-09-14</td><td>2017-09-22</td><td>2.4</td><td>21.5</td></tr><tr><td>1433883</td><td>1632087572480</td><td>Howard Johnson Inn Columbia</td><td>2017-08-23</td><td>2017-08-31</td><td>2.4</td><td>21.0</td></tr><tr><td>1566093</td><td>790273982468</td><td>La Posada Lodge & Casitas, An Ascend Hotel Collection Member</td><td>2017-08-04</td><td>2017-08-13</td><td>-2.4</td><td>28.9</td></tr><tr><td>1693421</td><td>824633720837</td><td>Western Inn-glacier Park</td><td>2017-08-14</td><td>2017-08-25</td><td>2.4</td><td>14.5</td></tr><tr><td>1703926</td><td>652835028995</td><td>Midvalley Motel</td><td>2017-08-30</td><td>2017-09-07</td><td>-2.4</td><td>15.18</td></tr><tr><td>1897874</td><td>300647710723</td><td>Kit Carson Lodge Restaurant</td><td>2017-08-22</td><td>2017-09-05</td><td>2.4</td><td>15.9</td></tr><tr><td>317824</td><td>2585570312195</td><td>Warwick Paris Former Warwick Champs Elysees</td><td>2016-10-13</td><td>2016-10-31</td><td>2.3</td><td>8.93</td></tr><tr><td>349950</td><td>2946347565059</td><td>Hotel Villa Lafayette Paris IX</td><td>2016-10-13</td><td>2016-10-31</td><td>2.3</td><td>8.93</td></tr><tr><td>476859</td><td>128849018883</td><td>Sci�� On Martin</td><td>2017-09-17</td><td>2017-09-27</td><td>2.3</td><td>14.95</td></tr><tr><td>632068</td><td>944892805125</td><td>La Quinta Inn and Suites Hopkinsville</td><td>2017-08-31</td><td>2017-09-21</td><td>2.3</td><td>23.97</td></tr><tr><td>850165</td><td>506806140931</td><td>Courtyard Columbus Worthington</td><td>2017-08-11</td><td>2017-08-18</td><td>2.3</td><td>22.55</td></tr><tr><td>908199</td><td>128849018883</td><td>Sci�� On Martin</td><td>2017-09-17</td><td>2017-09-27</td><td>2.3</td><td>14.95</td></tr><tr><td>1159912</td><td>1211180777472</td><td>Jellico Days Inn North Tennessee</td><td>2017-08-13</td><td>2017-08-20</td><td>2.3</td><td>24.03</td></tr><tr><td>1188606</td><td>2284922601476</td><td>Best Western Premier Op ra Faubourg Ex Hotel Jules</td><td>2016-10-13</td><td>2016-10-31</td><td>2.3</td><td>8.93</td></tr><tr><td>1218212</td><td>1013612281862</td><td>Homewood Suites</td><td>2017-08-11</td><td>2017-08-18</td><td>2.3</td><td>22.55</td></tr><tr><td>1232770</td><td>3341484556289</td><td>Best Western Le 18 Paris</td><td>2016-10-13</td><td>2016-10-31</td><td>2.3</td><td>8.93</td></tr><tr><td>1329801</td><td>128849018883</td><td>Sci�� On Martin</td><td>2017-09-17</td><td>2017-09-27</td><td>2.3</td><td>14.95</td></tr><tr><td>1591068</td><td>2808908611585</td><td>H tel Le Marianne</td><td>2016-10-13</td><td>2016-10-31</td><td>2.3</td><td>8.93</td></tr><tr><td>1615931</td><td>2628519985155</td><td>Le Relais Montmartre</td><td>2016-10-13</td><td>2016-10-31</td><td>2.3</td><td>8.93</td></tr><tr><td>1742333</td><td>2199023255555</td><td>Hotel De Vigny</td><td>2016-10-13</td><td>2016-10-31</td><td>2.3</td><td>8.93</td></tr><tr><td>1944076</td><td>1881195675653</td><td>H tel Montmartre Mon Amour</td><td>2016-10-13</td><td>2016-10-31</td><td>2.3</td><td>8.93</td></tr><tr><td>1963878</td><td>2267742732294</td><td>Balmoral Champs Elys es</td><td>2016-10-13</td><td>2016-10-31</td><td>2.3</td><td>8.93</td></tr><tr><td>2019290</td><td>395136991232</td><td>Parkway Inn Jellico</td><td>2017-08-13</td><td>2017-08-20</td><td>2.3</td><td>24.03</td></tr><tr><td>2410366</td><td>3049426780167</td><td>Best Western Aulivia Op ra</td><td>2016-10-13</td><td>2016-10-31</td><td>2.3</td><td>8.93</td></tr><tr><td>2423950</td><td>2276332666881</td><td>H tel Balzac</td><td>2016-10-13</td><td>2016-10-31</td><td>2.3</td><td>8.93</td></tr><tr><td>48340</td><td>1151051235333</td><td>Clarion Suites Philadelphia</td><td>2017-08-28</td><td>2017-09-08</td><td>-2.2</td><td>18.1</td></tr><tr><td>1276304</td><td>231928233986</td><td>Narcis</td><td>2017-08-19</td><td>2017-08-31</td><td>-2.2</td><td>24.2</td></tr><tr><td>1528790</td><td>996432412678</td><td>Rodeway Inn</td><td>2016-10-09</td><td>2016-10-27</td><td>2.2</td><td>12.4</td></tr><tr><td>2349426</td><td>146028888068</td><td>Super 8 Belle Fourche</td><td>2017-08-01</td><td>2017-08-08</td><td>-2.2</td><td>21.3</td></tr><tr><td>250527</td><td>841813590022</td><td>Brookside Motel</td><td>2017-08-08</td><td>2017-08-15</td><td>-2.1</td><td>15.15</td></tr><tr><td>422184</td><td>1185410973700</td><td>Sky-lit Motel</td><td>2017-08-12</td><td>2017-08-19</td><td>2.1</td><td>19.87</td></tr><tr><td>593244</td><td>841813590022</td><td>Brookside Motel</td><td>2017-08-08</td><td>2017-08-15</td><td>-2.1</td><td>15.15</td></tr><tr><td>668544</td><td>1769526525958</td><td>Sir Adam Hotel</td><td>2017-09-17</td><td>2017-09-25</td><td>2.1</td><td>13.25</td></tr><tr><td>724750</td><td>1185410973700</td><td>Sky-lit Motel</td><td>2017-08-12</td><td>2017-08-19</td><td>2.1</td><td>19.87</td></tr><tr><td>759626</td><td>841813590022</td><td>Brookside Motel</td><td>2017-08-08</td><td>2017-08-15</td><td>-2.1</td><td>15.15</td></tr><tr><td>833788</td><td>2362232012808</td><td>WestCord Art Hotel Amsterdam 4 stars</td><td>2017-09-17</td><td>2017-09-25</td><td>2.1</td><td>13.25</td></tr><tr><td>850672</td><td>3006477107202</td><td>Urban Lodge Hotel</td><td>2017-09-17</td><td>2017-09-25</td><td>2.1</td><td>13.25</td></tr><tr><td>963841</td><td>1271310319617</td><td>Relax Inn</td><td>2016-10-11</td><td>2016-10-20</td><td>-2.1</td><td>24.77</td></tr><tr><td>1067460</td><td>2362232012808</td><td>WestCord Art Hotel Amsterdam 4 stars</td><td>2017-09-17</td><td>2017-09-25</td><td>2.1</td><td>13.25</td></tr><tr><td>1731405</td><td>515396075526</td><td>Holiday Inn & Suites Green Bay Stadium</td><td>2017-08-12</td><td>2017-08-19</td><td>2.1</td><td>19.87</td></tr><tr><td>1744615</td><td>3006477107202</td><td>Urban Lodge Hotel</td><td>2017-09-17</td><td>2017-09-25</td><td>2.1</td><td>13.25</td></tr><tr><td>2306429</td><td>2748779069444</td><td>Mercure Amsterdam Sloterdijk Station</td><td>2017-09-17</td><td>2017-09-25</td><td>2.1</td><td>13.25</td></tr><tr><td>13980</td><td>274877906944</td><td>Microtel of Ste Genevieve</td><td>2017-08-22</td><td>2017-08-30</td><td>-2.0</td><td>22.67</td></tr><tr><td>65844</td><td>128849018889</td><td>Comfort Inn</td><td>2017-08-18</td><td>2017-08-27</td><td>-2.0</td><td>25.6</td></tr><tr><td>185668</td><td>77309411329</td><td>Courtyard Hattiesburg</td><td>2017-09-21</td><td>2017-09-30</td><td>-2.0</td><td>25.6</td></tr><tr><td>749793</td><td>1331439861762</td><td>Suburban Extended Stay of Memphis Bartlett</td><td>2017-08-15</td><td>2017-08-22</td><td>2.0</td><td>27.6</td></tr><tr><td>1324647</td><td>1460288880640</td><td>La Quinta Inn-houston</td><td>2017-08-06</td><td>2017-08-13</td><td>2.0</td><td>29.63</td></tr><tr><td>1355454</td><td>1460288880640</td><td>La Quinta Inn-houston</td><td>2017-08-06</td><td>2017-08-13</td><td>2.0</td><td>29.63</td></tr><tr><td>1714796</td><td>2980707303435</td><td>Fletcher Hotel Amsterdam</td><td>2017-08-17</td><td>2017-09-07</td><td>-2.0</td><td>16.1</td></tr><tr><td>1907543</td><td>274877906944</td><td>Microtel of Ste Genevieve</td><td>2017-08-22</td><td>2017-08-30</td><td>-2.0</td><td>22.67</td></tr><tr><td>2448737</td><td>1460288880640</td><td>La Quinta Inn-houston</td><td>2017-08-06</td><td>2017-08-13</td><td>2.0</td><td>29.63</td></tr><tr><td>116716</td><td>2551210573830</td><td>Novotel Amsterdam City</td><td>2017-08-03</td><td>2017-08-11</td><td>-1.9</td><td>17.55</td></tr><tr><td>177419</td><td>2422361554950</td><td>The Student Hotel Amsterdam City</td><td>2017-08-03</td><td>2017-08-11</td><td>-1.9</td><td>17.55</td></tr><tr><td>185516</td><td>2585570312200</td><td>citizenM Amsterdam</td><td>2017-08-03</td><td>2017-08-11</td><td>-1.9</td><td>17.55</td></tr><tr><td>204213</td><td>3040836845574</td><td>Inntel Hotels Amsterdam Centre</td><td>2017-08-03</td><td>2017-08-11</td><td>-1.9</td><td>17.55</td></tr><tr><td>235886</td><td>2113123909637</td><td>Savoy Hotel Amsterdam</td><td>2017-08-03</td><td>2017-08-11</td><td>-1.9</td><td>17.55</td></tr><tr><td>344293</td><td>2628519985159</td><td>Holiday Inn Amsterdam</td><td>2017-08-03</td><td>2017-08-11</td><td>-1.9</td><td>17.55</td></tr><tr><td>439818</td><td>2422361554950</td><td>The Student Hotel Amsterdam City</td><td>2017-08-03</td><td>2017-08-11</td><td>-1.9</td><td>17.55</td></tr><tr><td>522865</td><td>2894807957506</td><td>Apollofirst Boutique Hotel</td><td>2017-08-03</td><td>2017-08-11</td><td>-1.9</td><td>17.55</td></tr><tr><td>525357</td><td>2121713844227</td><td>Grand Hotel Downtown</td><td>2017-08-03</td><td>2017-08-11</td><td>-1.9</td><td>17.55</td></tr><tr><td>532875</td><td>3023656976390</td><td>Hotel Amsterdam De Roode Leeuw</td><td>2017-08-03</td><td>2017-08-11</td><td>-1.9</td><td>17.55</td></tr><tr><td>547988</td><td>962072674308</td><td>La Brea Hotel</td><td>2017-09-12</td><td>2017-09-21</td><td>-1.9</td><td>19.9</td></tr><tr><td>586475</td><td>1941325217798</td><td>Hyatt Regency Amsterdam</td><td>2017-08-03</td><td>2017-08-11</td><td>-1.9</td><td>17.55</td></tr><tr><td>718764</td><td>2113123909637</td><td>Savoy Hotel Amsterdam</td><td>2017-08-03</td><td>2017-08-11</td><td>-1.9</td><td>17.55</td></tr><tr><td>791544</td><td>3238405341191</td><td>Ambassade Hotel</td><td>2017-08-03</td><td>2017-08-11</td><td>-1.9</td><td>17.55</td></tr><tr><td>877135</td><td>1305670057986</td><td>Marquesa Hotel & Cafe Marquesa</td><td>2017-08-15</td><td>2017-08-26</td><td>-1.9</td><td>29.25</td></tr><tr><td>905191</td><td>3212635537412</td><td>Luxury Suites Amsterdam</td><td>2017-08-03</td><td>2017-08-11</td><td>-1.9</td><td>17.55</td></tr><tr><td>981869</td><td>2413771620356</td><td>NH Amsterdam Centre</td><td>2017-08-03</td><td>2017-08-11</td><td>-1.9</td><td>17.55</td></tr><tr><td>1082860</td><td>2894807957506</td><td>Apollofirst Boutique Hotel</td><td>2017-08-03</td><td>2017-08-11</td><td>-1.9</td><td>17.55</td></tr><tr><td>1110460</td><td>3350074490880</td><td>Hotel Arena</td><td>2017-08-03</td><td>2017-08-11</td><td>-1.9</td><td>17.55</td></tr><tr><td>1139192</td><td>2980707303428</td><td>Element Amsterdam</td><td>2017-08-03</td><td>2017-08-11</td><td>-1.9</td><td>17.55</td></tr><tr><td>1182044</td><td>2302102470662</td><td>Sir Albert Hotel</td><td>2017-08-03</td><td>2017-08-11</td><td>-1.9</td><td>17.55</td></tr><tr><td>1207943</td><td>2997887172610</td><td>WestCord Fashion Hotel Amsterdam</td><td>2017-08-03</td><td>2017-08-11</td><td>-1.9</td><td>17.55</td></tr><tr><td>1256122</td><td>42949672962</td><td>Relax Inn</td><td>2017-08-15</td><td>2017-08-27</td><td>1.9</td><td>24.05</td></tr><tr><td>1311471</td><td>2525440770055</td><td>W Amsterdam</td><td>2017-08-03</td><td>2017-08-11</td><td>-1.9</td><td>17.55</td></tr><tr><td>1351733</td><td>3238405341191</td><td>Ambassade Hotel</td><td>2017-08-03</td><td>2017-08-11</td><td>-1.9</td><td>17.55</td></tr><tr><td>1487896</td><td>858993459207</td><td>Rodeway Inn Near Venice Beach</td><td>2017-09-12</td><td>2017-09-21</td><td>-1.9</td><td>19.9</td></tr><tr><td>1503999</td><td>2783138807815</td><td>Dikker en Thijs Fenice Hotel</td><td>2017-08-03</td><td>2017-08-11</td><td>-1.9</td><td>17.55</td></tr><tr><td>1519979</td><td>137438953477</td><td>Holiday Inn Express and Suites Gahanna/columbus Airport E</td><td>2016-10-04</td><td>2016-10-16</td><td>1.9</td><td>19.55</td></tr><tr><td>1620356</td><td>2989297238018</td><td>Swiss tel Amsterdam</td><td>2017-08-03</td><td>2017-08-11</td><td>-1.9</td><td>17.55</td></tr><tr><td>1625812</td><td>1752346656775</td><td>NH Amsterdam Zuid</td><td>2017-08-03</td><td>2017-08-11</td><td>-1.9</td><td>17.55</td></tr><tr><td>1634050</td><td>2783138807815</td><td>Dikker en Thijs Fenice Hotel</td><td>2017-08-03</td><td>2017-08-11</td><td>-1.9</td><td>17.55</td></tr><tr><td>1644312</td><td>2877628088324</td><td>Hotel Vondel Amsterdam</td><td>2017-08-03</td><td>2017-08-11</td><td>-1.9</td><td>17.55</td></tr><tr><td>1727888</td><td>3393024163847</td><td>Banks Mansion All Inclusive Hotel</td><td>2017-08-03</td><td>2017-08-11</td><td>-1.9</td><td>17.55</td></tr><tr><td>1766902</td><td>2997887172610</td><td>WestCord Fashion Hotel Amsterdam</td><td>2017-08-03</td><td>2017-08-11</td><td>-1.9</td><td>17.55</td></tr><tr><td>1773362</td><td>2834678415366</td><td>Amadi Park Hotel</td><td>2017-08-03</td><td>2017-08-11</td><td>-1.9</td><td>17.55</td></tr><tr><td>1864363</td><td>2877628088324</td><td>Hotel Vondel Amsterdam</td><td>2017-08-03</td><td>2017-08-11</td><td>-1.9</td><td>17.55</td></tr><tr><td>1888661</td><td>369367187459</td><td>Quality Inn & Suites - Riverfront</td><td>2017-08-31</td><td>2017-09-10</td><td>-1.9</td><td>16.45</td></tr><tr><td>1893610</td><td>1838246002690</td><td>Chasse Hotel</td><td>2017-08-03</td><td>2017-08-11</td><td>-1.9</td><td>17.55</td></tr><tr><td>2020768</td><td>2662879723525</td><td>Hotel V Nesplein</td><td>2017-08-03</td><td>2017-08-11</td><td>-1.9</td><td>17.55</td></tr><tr><td>2056146</td><td>2731599200258</td><td>Hotel Roemer Amsterdam</td><td>2017-08-03</td><td>2017-08-11</td><td>-1.9</td><td>17.55</td></tr><tr><td>2129608</td><td>3393024163845</td><td>Hotel De Hallen</td><td>2017-08-03</td><td>2017-08-11</td><td>-1.9</td><td>17.55</td></tr><tr><td>2149763</td><td>1838246002690</td><td>Chasse Hotel</td><td>2017-08-03</td><td>2017-08-11</td><td>-1.9</td><td>17.55</td></tr><tr><td>2332934</td><td>2156073582599</td><td>Bilderberg Garden Hotel</td><td>2017-08-03</td><td>2017-08-11</td><td>-1.9</td><td>17.55</td></tr><tr><td>2443165</td><td>2199023255556</td><td>NH Amsterdam Caransa</td><td>2017-08-03</td><td>2017-08-11</td><td>-1.9</td><td>17.55</td></tr><tr><td>2453273</td><td>3238405341191</td><td>Ambassade Hotel</td><td>2017-08-03</td><td>2017-08-11</td><td>-1.9</td><td>17.55</td></tr><tr><td>31742</td><td>2138893713412</td><td>Hotel Principe Di Savoia</td><td>2017-08-17</td><td>2017-08-31</td><td>-1.8</td><td>24.6</td></tr><tr><td>383901</td><td>377957122048</td><td>Econo Lodge</td><td>2017-08-17</td><td>2017-08-25</td><td>-1.8</td><td>26.8</td></tr><tr><td>513233</td><td>1769526525962</td><td>TownHouse Duomo</td><td>2017-08-17</td><td>2017-08-31</td><td>-1.8</td><td>24.6</td></tr><tr><td>652554</td><td>395136991234</td><td>Hitching Horse Inn</td><td>2017-08-12</td><td>2017-08-22</td><td>-1.8</td><td>21.3</td></tr><tr><td>722448</td><td>970662608904</td><td>Hotel Roc Flamingo</td><td>2017-08-15</td><td>2017-08-27</td><td>1.8</td><td>24.35</td></tr><tr><td>804623</td><td>2035814498308</td><td>Carlyle Brera Hotel</td><td>2017-08-17</td><td>2017-08-31</td><td>-1.8</td><td>24.6</td></tr><tr><td>871740</td><td>2413771620355</td><td>Qualys Hotel Nasco</td><td>2017-08-17</td><td>2017-08-31</td><td>-1.8</td><td>24.6</td></tr><tr><td>934711</td><td>506806140929</td><td>Profile Deluxe Motel</td><td>2016-10-12</td><td>2016-10-19</td><td>1.8</td><td>11.3</td></tr><tr><td>1020835</td><td>3066606649355</td><td>Hotel degli Arcimboldi</td><td>2017-08-17</td><td>2017-08-31</td><td>-1.8</td><td>24.6</td></tr><tr><td>1066950</td><td>1477468749829</td><td>Super 8 Batesville Ar</td><td>2017-08-18</td><td>2017-08-27</td><td>-1.8</td><td>25.7</td></tr><tr><td>1098724</td><td>206158430211</td><td>Days Inn Ruther Glen Kings Dominion Area</td><td>2017-09-04</td><td>2017-09-28</td><td>1.8</td><td>20.17</td></tr><tr><td>1195623</td><td>377957122048</td><td>Econo Lodge</td><td>2017-08-17</td><td>2017-08-25</td><td>-1.8</td><td>26.8</td></tr><tr><td>1402260</td><td>2826088480776</td><td>TownHouse 33</td><td>2017-08-17</td><td>2017-08-31</td><td>-1.8</td><td>24.6</td></tr><tr><td>1430798</td><td>927712935938</td><td>Americinn Lodge Suites Princeton</td><td>2017-08-02</td><td>2017-08-14</td><td>-1.8</td><td>22.5</td></tr><tr><td>1570690</td><td>163208757249</td><td>Hotel Roc Lago Rojo</td><td>2017-08-19</td><td>2017-08-26</td><td>1.8</td><td>24.5</td></tr><tr><td>1616539</td><td>1151051235328</td><td>Eldorado Suites Hotel</td><td>2017-08-22</td><td>2017-08-31</td><td>-1.8</td><td>24.2</td></tr><tr><td>1715016</td><td>2542620639237</td><td>Ibis Styles Milano Palmanova</td><td>2017-08-17</td><td>2017-08-31</td><td>-1.8</td><td>24.6</td></tr><tr><td>1845729</td><td>377957122048</td><td>Econo Lodge</td><td>2017-08-17</td><td>2017-08-25</td><td>-1.8</td><td>26.8</td></tr><tr><td>1889495</td><td>2413771620358</td><td>Bianca Maria Palace Hotel</td><td>2017-08-17</td><td>2017-08-31</td><td>-1.8</td><td>24.6</td></tr><tr><td>2139543</td><td>163208757249</td><td>Hotel Roc Lago Rojo</td><td>2017-08-15</td><td>2017-08-27</td><td>1.8</td><td>24.35</td></tr><tr><td>2299970</td><td>395136991234</td><td>Hitching Horse Inn</td><td>2017-08-12</td><td>2017-08-22</td><td>-1.8</td><td>21.3</td></tr><tr><td>2360867</td><td>1030792151041</td><td>Super 8 Alamosa</td><td>2017-08-08</td><td>2017-08-25</td><td>1.8</td><td>15.77</td></tr><tr><td>2390743</td><td>2027224563717</td><td>IH Hotels Milano Ambasciatori</td><td>2017-08-17</td><td>2017-08-31</td><td>-1.8</td><td>24.6</td></tr><tr><td>2446561</td><td>506806140929</td><td>Profile Deluxe Motel</td><td>2016-10-12</td><td>2016-10-19</td><td>1.8</td><td>11.3</td></tr><tr><td>2466825</td><td>1571958030339</td><td>Hotel Columbia</td><td>2017-09-08</td><td>2017-09-19</td><td>-1.8</td><td>7.3</td></tr><tr><td>2484188</td><td>2130303778823</td><td>Best Western Atlantic Hotel</td><td>2017-08-17</td><td>2017-08-31</td><td>-1.8</td><td>24.6</td></tr><tr><td>951664</td><td>1168231104517</td><td>Quality Inn Gulfport</td><td>2017-08-26</td><td>2017-09-02</td><td>-1.7</td><td>26.47</td></tr><tr><td>1337362</td><td>1013612281864</td><td>Pavilion Lodge</td><td>2017-08-05</td><td>2017-08-12</td><td>-1.7</td><td>19.63</td></tr><tr><td>1962312</td><td>25769803779</td><td>Advance Motel</td><td>2017-08-11</td><td>2017-08-29</td><td>1.7</td><td>15.55</td></tr><tr><td>15049</td><td>3238405341185</td><td>BoB Hotel by Elegancia</td><td>2016-10-09</td><td>2016-10-23</td><td>-1.6</td><td>7.9</td></tr><tr><td>22002</td><td>1262720385024</td><td>Holiday Inn Express & Suites Phoenix Downtown - Ballpark</td><td>2017-08-25</td><td>2017-09-03</td><td>-1.6</td><td>34.1</td></tr><tr><td>78667</td><td>2138893713410</td><td>Best Western Premier Trocadero La Tour</td><td>2016-10-09</td><td>2016-10-23</td><td>-1.6</td><td>7.9</td></tr><tr><td>94735</td><td>2473901162501</td><td>Sina De La Ville</td><td>2016-10-16</td><td>2016-10-24</td><td>-1.6</td><td>11.5</td></tr><tr><td>124847</td><td>2138893713413</td><td>TH Street Duomo</td><td>2016-10-16</td><td>2016-10-24</td><td>-1.6</td><td>11.5</td></tr><tr><td>136891</td><td>1821066133506</td><td>Hotel Cavour</td><td>2016-10-16</td><td>2016-10-24</td><td>-1.6</td><td>11.5</td></tr><tr><td>143701</td><td>2817498546184</td><td>Admiral Hotel</td><td>2016-10-16</td><td>2016-10-24</td><td>-1.6</td><td>11.5</td></tr><tr><td>174393</td><td>1915555414022</td><td>Hotel Wagner</td><td>2017-08-06</td><td>2017-08-17</td><td>1.6</td><td>23.93</td></tr><tr><td>181939</td><td>1975684956170</td><td>Hotel Sunflower</td><td>2017-08-06</td><td>2017-08-17</td><td>1.6</td><td>23.93</td></tr><tr><td>194507</td><td>3023656976392</td><td>Hotel Mercure Milano Centro</td><td>2016-10-16</td><td>2016-10-24</td><td>-1.6</td><td>11.5</td></tr><tr><td>213697</td><td>2568390443017</td><td>IH Hotels Milano Gioia</td><td>2016-10-16</td><td>2016-10-24</td><td>-1.6</td><td>11.5</td></tr><tr><td>226089</td><td>2929167695877</td><td>UNA Hotel Cusani</td><td>2016-10-16</td><td>2016-10-24</td><td>-1.6</td><td>11.5</td></tr><tr><td>243796</td><td>1717986918405</td><td>Hotel Crivi s</td><td>2016-10-16</td><td>2016-10-24</td><td>-1.6</td><td>11.5</td></tr><tr><td>243912</td><td>2680059592705</td><td>Hotel VIU Milan</td><td>2017-08-06</td><td>2017-08-17</td><td>1.6</td><td>23.93</td></tr><tr><td>275508</td><td>2087354105860</td><td>Park Hyatt Milano</td><td>2016-10-16</td><td>2016-10-24</td><td>-1.6</td><td>11.5</td></tr><tr><td>292772</td><td>2534030704648</td><td>Four Seasons Hotel Milano</td><td>2016-10-16</td><td>2016-10-24</td><td>-1.6</td><td>11.5</td></tr><tr><td>293774</td><td>3023656976392</td><td>Hotel Mercure Milano Centro</td><td>2017-08-06</td><td>2017-08-17</td><td>1.6</td><td>23.93</td></tr><tr><td>315884</td><td>3169685864453</td><td>Novotel Milano Nord Ca Granda</td><td>2016-10-16</td><td>2016-10-24</td><td>-1.6</td><td>11.5</td></tr><tr><td>334220</td><td>3049426780170</td><td>Hotel Mozart</td><td>2017-08-06</td><td>2017-08-17</td><td>1.6</td><td>23.93</td></tr><tr><td>377034</td><td>2542620639237</td><td>Ibis Styles Milano Palmanova</td><td>2017-08-06</td><td>2017-08-17</td><td>1.6</td><td>23.93</td></tr><tr><td>399845</td><td>2216203124736</td><td>Mercure Paris Centre Tour Eiffel</td><td>2016-10-09</td><td>2016-10-23</td><td>-1.6</td><td>7.9</td></tr><tr><td>412745</td><td>2310692405258</td><td>Hotel Marconi</td><td>2016-10-16</td><td>2016-10-24</td><td>-1.6</td><td>11.5</td></tr><tr><td>412783</td><td>3032246910982</td><td>Best Western Hotel Ascot</td><td>2016-10-16</td><td>2016-10-24</td><td>-1.6</td><td>11.5</td></tr><tr><td>426914</td><td>2997887172614</td><td>NH Milano Palazzo Moscova</td><td>2016-10-16</td><td>2016-10-24</td><td>-1.6</td><td>11.5</td></tr><tr><td>441151</td><td>2954937499659</td><td>Hotel Tiziano Park Vita Parcour Gruppo MiniHotels</td><td>2016-10-16</td><td>2016-10-24</td><td>-1.6</td><td>11.5</td></tr><tr><td>462011</td><td>2551210573833</td><td>STRAF a Member of Design Hotels</td><td>2016-10-16</td><td>2016-10-24</td><td>-1.6</td><td>11.5</td></tr><tr><td>470365</td><td>2362232012809</td><td>Camperio House Suites Apartments</td><td>2016-10-16</td><td>2016-10-24</td><td>-1.6</td><td>11.5</td></tr><tr><td>482683</td><td>1795296329735</td><td>Windsor Hotel Milano</td><td>2016-10-16</td><td>2016-10-24</td><td>-1.6</td><td>11.5</td></tr><tr><td>495145</td><td>1760936591371</td><td>Palazzo Segreti</td><td>2016-10-16</td><td>2016-10-24</td><td>-1.6</td><td>11.5</td></tr><tr><td>498874</td><td>2680059592710</td><td>Starhotels Echo</td><td>2016-10-16</td><td>2016-10-24</td><td>-1.6</td><td>11.5</td></tr><tr><td>550278</td><td>2250562863106</td><td>Maison Borella</td><td>2017-08-06</td><td>2017-08-17</td><td>1.6</td><td>23.93</td></tr><tr><td>579521</td><td>2078764171269</td><td>Armani Hotel Milano</td><td>2016-10-16</td><td>2016-10-24</td><td>-1.6</td><td>11.5</td></tr><tr><td>580368</td><td>3032246910982</td><td>Best Western Hotel Ascot</td><td>2016-10-16</td><td>2016-10-24</td><td>-1.6</td><td>11.5</td></tr><tr><td>637259</td><td>1151051235333</td><td>Clarion Suites Philadelphia</td><td>2017-08-28</td><td>2017-09-04</td><td>1.6</td><td>18.43</td></tr><tr><td>647557</td><td>3178275799046</td><td>Hotel Romana Residence</td><td>2016-10-16</td><td>2016-10-24</td><td>-1.6</td><td>11.5</td></tr><tr><td>660388</td><td>1262720385024</td><td>Holiday Inn Express & Suites Phoenix Downtown - Ballpark</td><td>2017-08-25</td><td>2017-09-03</td><td>-1.6</td><td>34.1</td></tr><tr><td>660515</td><td>1769526525961</td><td>Brunelleschi Hotel</td><td>2016-10-16</td><td>2016-10-24</td><td>-1.6</td><td>11.5</td></tr><tr><td>688341</td><td>2138893713412</td><td>Hotel Principe Di Savoia</td><td>2016-10-16</td><td>2016-10-24</td><td>-1.6</td><td>11.5</td></tr><tr><td>706378</td><td>3393024163852</td><td>LaGare Hotel Milano Centrale MGallery by Sofitel</td><td>2016-10-16</td><td>2016-10-24</td><td>-1.6</td><td>11.5</td></tr><tr><td>725776</td><td>2379411881992</td><td>Rosa Grand Milano Starhotels Collezione</td><td>2016-10-16</td><td>2016-10-24</td><td>-1.6</td><td>11.5</td></tr><tr><td>726372</td><td>575525617665</td><td>Alpine Motel</td><td>2017-09-13</td><td>2017-09-20</td><td>-1.6</td><td>19.8</td></tr><tr><td>727343</td><td>2250562863106</td><td>Maison Borella</td><td>2017-08-06</td><td>2017-08-17</td><td>1.6</td><td>23.93</td></tr><tr><td>736776</td><td>2654289788931</td><td>Best Western Hotel Astoria</td><td>2016-10-16</td><td>2016-10-24</td><td>-1.6</td><td>11.5</td></tr><tr><td>746126</td><td>2138893713412</td><td>Hotel Principe Di Savoia</td><td>2016-10-16</td><td>2016-10-24</td><td>-1.6</td><td>11.5</td></tr><tr><td>758252</td><td>1821066133506</td><td>Hotel Cavour</td><td>2016-10-16</td><td>2016-10-24</td><td>-1.6</td><td>11.5</td></tr><tr><td>762064</td><td>2765958938627</td><td>Best Western Bretagne Montparnasse</td><td>2016-10-09</td><td>2016-10-23</td><td>-1.6</td><td>7.9</td></tr><tr><td>763898</td><td>1778116460553</td><td>NH Milano Machiavelli</td><td>2016-10-16</td><td>2016-10-24</td><td>-1.6</td><td>11.5</td></tr><tr><td>779366</td><td>3161095929864</td><td>Hotel Vittoria</td><td>2016-10-16</td><td>2016-10-24</td><td>-1.6</td><td>11.5</td></tr><tr><td>800676</td><td>3221225472009</td><td>Holiday Inn Milan Garibaldi Station</td><td>2017-08-06</td><td>2017-08-17</td><td>1.6</td><td>23.93</td></tr><tr><td>806787</td><td>3092376453126</td><td>LHP Hotel Napoleon</td><td>2017-08-06</td><td>2017-08-17</td><td>1.6</td><td>23.93</td></tr><tr><td>820077</td><td>498216206338</td><td>Extended Stay America - Fort Lauderdale - Davie</td><td>2016-10-07</td><td>2016-10-14</td><td>-1.6</td><td>26.9</td></tr><tr><td>837120</td><td>1821066133506</td><td>Hotel Cavour</td><td>2016-10-16</td><td>2016-10-24</td><td>-1.6</td><td>11.5</td></tr><tr><td>853261</td><td>1168231104517</td><td>Quality Inn Gulfport</td><td>2017-08-23</td><td>2017-09-02</td><td>-1.6</td><td>26.68</td></tr><tr><td>868010</td><td>2413771620358</td><td>Bianca Maria Palace Hotel</td><td>2016-10-16</td><td>2016-10-24</td><td>-1.6</td><td>11.5</td></tr><tr><td>897132</td><td>3066606649354</td><td>Hotel La Spezia Gruppo MiniHotel</td><td>2017-08-06</td><td>2017-08-17</td><td>1.6</td><td>23.93</td></tr><tr><td>906871</td><td>2954937499660</td><td>Radisson Blu Hotel Milan</td><td>2017-08-06</td><td>2017-08-17</td><td>1.6</td><td>23.93</td></tr><tr><td>920779</td><td>2997887172614</td><td>NH Milano Palazzo Moscova</td><td>2016-10-16</td><td>2016-10-24</td><td>-1.6</td><td>11.5</td></tr><tr><td>929007</td><td>3169685864452</td><td>Colombia</td><td>2017-08-06</td><td>2017-08-17</td><td>1.6</td><td>23.93</td></tr><tr><td>942848</td><td>3135326126082</td><td>Room Mate Giulia</td><td>2016-10-16</td><td>2016-10-24</td><td>-1.6</td><td>11.5</td></tr><tr><td>958585</td><td>1717986918405</td><td>Hotel Crivi s</td><td>2016-10-16</td><td>2016-10-24</td><td>-1.6</td><td>11.5</td></tr><tr><td>985089</td><td>3015067041794</td><td>Antares Hotel Rubens</td><td>2017-08-06</td><td>2017-08-17</td><td>1.6</td><td>23.93</td></tr><tr><td>1001319</td><td>1778116460554</td><td>Atahotel Contessa Jolanda</td><td>2017-08-06</td><td>2017-08-17</td><td>1.6</td><td>23.93</td></tr><tr><td>1016192</td><td>2061584302084</td><td>Hotel Tocq</td><td>2016-10-16</td><td>2016-10-24</td><td>-1.6</td><td>11.5</td></tr><tr><td>1025986</td><td>3178275799050</td><td>Hotel Mentana</td><td>2016-10-16</td><td>2016-10-24</td><td>-1.6</td><td>11.5</td></tr><tr><td>1054399</td><td>1795296329734</td><td>Enterprise Hotel Design Boutique</td><td>2016-10-16</td><td>2016-10-24</td><td>-1.6</td><td>11.5</td></tr><tr><td>1069459</td><td>1821066133506</td><td>Hotel Cavour</td><td>2016-10-16</td><td>2016-10-24</td><td>-1.6</td><td>11.5</td></tr><tr><td>1077963</td><td>2997887172612</td><td>Starhotels Anderson</td><td>2016-10-16</td><td>2016-10-24</td><td>-1.6</td><td>11.5</td></tr><tr><td>1086630</td><td>3401614098439</td><td>Hotel Spadari Al Duomo</td><td>2016-10-16</td><td>2016-10-24</td><td>-1.6</td><td>11.5</td></tr><tr><td>1134438</td><td>1743756722181</td><td>Ch teau Monfort Relais Ch teaux</td><td>2017-08-06</td><td>2017-08-17</td><td>1.6</td><td>23.93</td></tr><tr><td>1168494</td><td>1821066133506</td><td>Hotel Cavour</td><td>2017-08-06</td><td>2017-08-17</td><td>1.6</td><td>23.93</td></tr><tr><td>1205261</td><td>2817498546185</td><td>Nhow Milan</td><td>2016-10-16</td><td>2016-10-24</td><td>-1.6</td><td>11.5</td></tr><tr><td>1211187</td><td>1795296329734</td><td>Enterprise Hotel Design Boutique</td><td>2017-08-06</td><td>2017-08-17</td><td>1.6</td><td>23.93</td></tr><tr><td>1261280</td><td>3100966387712</td><td>H tel Chaplain Paris Rive Gauche</td><td>2016-10-09</td><td>2016-10-23</td><td>-1.6</td><td>7.9</td></tr><tr><td>1264060</td><td>2250562863108</td><td>Glam Milano</td><td>2016-10-16</td><td>2016-10-24</td><td>-1.6</td><td>11.5</td></tr><tr><td>1283526</td><td>3358664425480</td><td>Hotel Mediolanum</td><td>2016-10-16</td><td>2016-10-24</td><td>-1.6</td><td>11.5</td></tr><tr><td>1288486</td><td>2250562863106</td><td>Maison Borella</td><td>2016-10-16</td><td>2016-10-24</td><td>-1.6</td><td>11.5</td></tr><tr><td>1325086</td><td>1924145348611</td><td>Villa Lut ce Port Royal</td><td>2016-10-09</td><td>2016-10-23</td><td>-1.6</td><td>7.9</td></tr><tr><td>1354332</td><td>3032246910982</td><td>Best Western Hotel Ascot</td><td>2016-10-16</td><td>2016-10-24</td><td>-1.6</td><td>11.5</td></tr><tr><td>1387793</td><td>2731599200260</td><td>Hotel Berna</td><td>2016-10-16</td><td>2016-10-24</td><td>-1.6</td><td>11.5</td></tr><tr><td>1423270</td><td>3135326126084</td><td>Senato Hotel Milano</td><td>2016-10-16</td><td>2016-10-24</td><td>-1.6</td><td>11.5</td></tr><tr><td>1447922</td><td>2181843386378</td><td>Hotel Carrobbio</td><td>2016-10-16</td><td>2016-10-24</td><td>-1.6</td><td>11.5</td></tr><tr><td>1451051</td><td>609885356033</td><td>Holiday Inn</td><td>2017-08-28</td><td>2017-09-04</td><td>1.6</td><td>18.43</td></tr><tr><td>1458575</td><td>2001454759944</td><td>Hotel Dei Cavalieri</td><td>2016-10-16</td><td>2016-10-24</td><td>-1.6</td><td>11.5</td></tr><tr><td>1477547</td><td>2826088480776</td><td>TownHouse 33</td><td>2016-10-16</td><td>2016-10-24</td><td>-1.6</td><td>11.5</td></tr><tr><td>1478864</td><td>1726576852997</td><td>Hotel Galileo</td><td>2016-10-16</td><td>2016-10-24</td><td>-1.6</td><td>11.5</td></tr><tr><td>1482344</td><td>2259152797704</td><td>Sheraton Diana Majestic</td><td>2016-10-16</td><td>2016-10-24</td><td>-1.6</td><td>11.5</td></tr><tr><td>1553498</td><td>3066606649353</td><td>IH Hotels Milano Watt 13</td><td>2016-10-16</td><td>2016-10-24</td><td>-1.6</td><td>11.5</td></tr><tr><td>1565353</td><td>2954937499660</td><td>Radisson Blu Hotel Milan</td><td>2016-10-16</td><td>2016-10-24</td><td>-1.6</td><td>11.5</td></tr><tr><td>1570185</td><td>3075196583944</td><td>Best Western Plus Hotel Felice Casati</td><td>2016-10-16</td><td>2016-10-24</td><td>-1.6</td><td>11.5</td></tr><tr><td>1579588</td><td>2473901162501</td><td>Sina De La Ville</td><td>2017-08-06</td><td>2017-08-17</td><td>1.6</td><td>23.93</td></tr><tr><td>1583057</td><td>2774548873220</td><td>Sina The Gray</td><td>2016-10-16</td><td>2016-10-24</td><td>-1.6</td><td>11.5</td></tr><tr><td>1598465</td><td>2765958938631</td><td>Hotel Santa Marta Suites</td><td>2016-10-16</td><td>2016-10-24</td><td>-1.6</td><td>11.5</td></tr><tr><td>1614486</td><td>2362232012809</td><td>Camperio House Suites Apartments</td><td>2017-08-06</td><td>2017-08-17</td><td>1.6</td><td>23.93</td></tr><tr><td>1669608</td><td>3315714752517</td><td>Best Western Hotel St George</td><td>2017-08-06</td><td>2017-08-17</td><td>1.6</td><td>23.93</td></tr><tr><td>1717053</td><td>1151051235333</td><td>Clarion Suites Philadelphia</td><td>2017-08-28</td><td>2017-09-04</td><td>1.6</td><td>18.43</td></tr><tr><td>1728027</td><td>2817498546185</td><td>Nhow Milan</td><td>2016-10-16</td><td>2016-10-24</td><td>-1.6</td><td>11.5</td></tr><tr><td>1729926</td><td>3393024163850</td><td>Art Hotel Navigli</td><td>2016-10-16</td><td>2016-10-24</td><td>-1.6</td><td>11.5</td></tr><tr><td>1741069</td><td>2276332666880</td><td>Le Pradey</td><td>2016-10-09</td><td>2016-10-23</td><td>-1.6</td><td>7.9</td></tr><tr><td>1802249</td><td>3375844294666</td><td>MiHotel</td><td>2016-10-16</td><td>2016-10-24</td><td>-1.6</td><td>11.5</td></tr><tr><td>1805415</td><td>2413771620355</td><td>Qualys Hotel Nasco</td><td>2016-10-16</td><td>2016-10-24</td><td>-1.6</td><td>11.5</td></tr><tr><td>1824952</td><td>1829656068102</td><td>NYX Milan</td><td>2017-08-06</td><td>2017-08-17</td><td>1.6</td><td>23.93</td></tr><tr><td>1844598</td><td>1013612281865</td><td>Ritz Hotel</td><td>2016-10-03</td><td>2016-10-16</td><td>1.6</td><td>14.17</td></tr><tr><td>1850213</td><td>2284922601481</td><td>Mokinba Hotels Montebianco</td><td>2017-08-06</td><td>2017-08-17</td><td>1.6</td><td>23.93</td></tr><tr><td>1871331</td><td>3066606649354</td><td>Hotel La Spezia Gruppo MiniHotel</td><td>2016-10-16</td><td>2016-10-24</td><td>-1.6</td><td>11.5</td></tr><tr><td>1877391</td><td>1778116460554</td><td>Atahotel Contessa Jolanda</td><td>2017-08-06</td><td>2017-08-17</td><td>1.6</td><td>23.93</td></tr><tr><td>1881127</td><td>2405181685764</td><td>Hotel Manin</td><td>2016-10-16</td><td>2016-10-24</td><td>-1.6</td><td>11.5</td></tr><tr><td>1897559</td><td>2731599200260</td><td>Hotel Berna</td><td>2017-08-06</td><td>2017-08-17</td><td>1.6</td><td>23.93</td></tr><tr><td>1918362</td><td>1898375544837</td><td>Hotel Lombardia</td><td>2016-10-16</td><td>2016-10-24</td><td>-1.6</td><td>11.5</td></tr><tr><td>1927014</td><td>3393024163853</td><td>Leonardo Hotel Milan City Center</td><td>2017-08-06</td><td>2017-08-17</td><td>1.6</td><td>23.93</td></tr><tr><td>1934078</td><td>2010044694530</td><td>Novotel Paris Gare De Lyon</td><td>2016-10-09</td><td>2016-10-23</td><td>-1.6</td><td>7.9</td></tr><tr><td>2009440</td><td>2413771620357</td><td>Hilton Garden Inn Milan North</td><td>2016-10-16</td><td>2016-10-24</td><td>-1.6</td><td>11.5</td></tr><tr><td>2021230</td><td>2748779069445</td><td>Crowne Plaza Milan City</td><td>2016-10-16</td><td>2016-10-24</td><td>-1.6</td><td>11.5</td></tr><tr><td>2034379</td><td>3118146256901</td><td>Atahotel Linea Uno</td><td>2016-10-16</td><td>2016-10-24</td><td>-1.6</td><td>11.5</td></tr><tr><td>2048562</td><td>3358664425480</td><td>Hotel Mediolanum</td><td>2016-10-16</td><td>2016-10-24</td><td>-1.6</td><td>11.5</td></tr><tr><td>2067476</td><td>1760936591371</td><td>Palazzo Segreti</td><td>2017-08-06</td><td>2017-08-17</td><td>1.6</td><td>23.93</td></tr><tr><td>2081772</td><td>1795296329734</td><td>Enterprise Hotel Design Boutique</td><td>2017-08-06</td><td>2017-08-17</td><td>1.6</td><td>23.93</td></tr><tr><td>2108722</td><td>1941325217793</td><td>Mercure Paris Alesia</td><td>2016-10-09</td><td>2016-10-23</td><td>-1.6</td><td>7.9</td></tr><tr><td>2112310</td><td>3023656976392</td><td>Hotel Mercure Milano Centro</td><td>2016-10-16</td><td>2016-10-24</td><td>-1.6</td><td>11.5</td></tr><tr><td>2119788</td><td>3032246910982</td><td>Best Western Hotel Ascot</td><td>2016-10-16</td><td>2016-10-24</td><td>-1.6</td><td>11.5</td></tr><tr><td>2137626</td><td>1752346656776</td><td>Andreola Central Hotel</td><td>2017-08-06</td><td>2017-08-17</td><td>1.6</td><td>23.93</td></tr><tr><td>2154577</td><td>231928233985</td><td>Fairfield Inn Saginaw</td><td>2017-08-12</td><td>2017-08-28</td><td>-1.6</td><td>19.95</td></tr><tr><td>2164912</td><td>3118146256901</td><td>Atahotel Linea Uno</td><td>2016-10-16</td><td>2016-10-24</td><td>-1.6</td><td>11.5</td></tr><tr><td>2168219</td><td>2319282339843</td><td>Mokinba Hotels King</td><td>2016-10-16</td><td>2016-10-24</td><td>-1.6</td><td>11.5</td></tr><tr><td>2180731</td><td>1915555414022</td><td>Hotel Wagner</td><td>2016-10-16</td><td>2016-10-24</td><td>-1.6</td><td>11.5</td></tr><tr><td>2197512</td><td>1717986918405</td><td>Hotel Crivi s</td><td>2016-10-16</td><td>2016-10-24</td><td>-1.6</td><td>11.5</td></tr><tr><td>2216188</td><td>1726576852997</td><td>Hotel Galileo</td><td>2016-10-16</td><td>2016-10-24</td><td>-1.6</td><td>11.5</td></tr><tr><td>2243870</td><td>1331439861766</td><td>Sonoma Coast Villa Spa</td><td>2016-10-21</td><td>2016-10-28</td><td>1.6</td><td>14.3</td></tr><tr><td>2249623</td><td>1666447310850</td><td>La Quinta Inn and Suites Sunrise</td><td>2016-10-07</td><td>2016-10-14</td><td>-1.6</td><td>26.9</td></tr><tr><td>2249947</td><td>2723009265672</td><td>NH Milano Grand Hotel Verdi</td><td>2016-10-16</td><td>2016-10-24</td><td>-1.6</td><td>11.5</td></tr><tr><td>2280779</td><td>3401614098439</td><td>Hotel Spadari Al Duomo</td><td>2017-08-06</td><td>2017-08-17</td><td>1.6</td><td>23.93</td></tr><tr><td>2297627</td><td>3015067041794</td><td>Antares Hotel Rubens</td><td>2016-10-16</td><td>2016-10-24</td><td>-1.6</td><td>11.5</td></tr><tr><td>2351940</td><td>2267742732300</td><td>Hotel Pierre Milano</td><td>2016-10-16</td><td>2016-10-24</td><td>-1.6</td><td>11.5</td></tr><tr><td>2365896</td><td>1846835937285</td><td>Hotel Clerici</td><td>2017-08-06</td><td>2017-08-17</td><td>1.6</td><td>23.93</td></tr><tr><td>2368764</td><td>3393024163852</td><td>LaGare Hotel Milano Centrale MGallery by Sofitel</td><td>2016-10-16</td><td>2016-10-24</td><td>-1.6</td><td>11.5</td></tr><tr><td>2381619</td><td>2284922601481</td><td>Mokinba Hotels Montebianco</td><td>2016-10-16</td><td>2016-10-24</td><td>-1.6</td><td>11.5</td></tr><tr><td>2382037</td><td>2078764171269</td><td>Armani Hotel Milano</td><td>2017-08-06</td><td>2017-08-17</td><td>1.6</td><td>23.93</td></tr><tr><td>2389813</td><td>2448131358726</td><td>Hotel Michelangelo</td><td>2016-10-16</td><td>2016-10-24</td><td>-1.6</td><td>11.5</td></tr><tr><td>2405936</td><td>1778116460554</td><td>Atahotel Contessa Jolanda</td><td>2017-08-06</td><td>2017-08-17</td><td>1.6</td><td>23.93</td></tr><tr><td>2431645</td><td>3324304687113</td><td>Milan Suite Hotel</td><td>2017-08-06</td><td>2017-08-17</td><td>1.6</td><td>23.93</td></tr><tr><td>2456593</td><td>2413771620357</td><td>Hilton Garden Inn Milan North</td><td>2016-10-16</td><td>2016-10-24</td><td>-1.6</td><td>11.5</td></tr><tr><td>2460801</td><td>1717986918407</td><td>UNA Hotel Century</td><td>2016-10-16</td><td>2016-10-24</td><td>-1.6</td><td>11.5</td></tr><tr><td>2466732</td><td>1717986918407</td><td>UNA Hotel Century</td><td>2016-10-16</td><td>2016-10-24</td><td>-1.6</td><td>11.5</td></tr><tr><td>2476854</td><td>1769526525962</td><td>TownHouse Duomo</td><td>2016-10-16</td><td>2016-10-24</td><td>-1.6</td><td>11.5</td></tr><tr><td>2486047</td><td>2070174236676</td><td>Hotel Manzoni</td><td>2017-08-06</td><td>2017-08-17</td><td>1.6</td><td>23.93</td></tr><tr><td>2493403</td><td>2259152797703</td><td>Hotel Auriga</td><td>2016-10-16</td><td>2016-10-24</td><td>-1.6</td><td>11.5</td></tr><tr><td>2496732</td><td>3401614098439</td><td>Hotel Spadari Al Duomo</td><td>2016-10-16</td><td>2016-10-24</td><td>-1.6</td><td>11.5</td></tr><tr><td>2503982</td><td>2147483648005</td><td>Starhotels Business Palace</td><td>2017-08-06</td><td>2017-08-17</td><td>1.6</td><td>23.93</td></tr><tr><td>2508732</td><td>2774548873220</td><td>Sina The Gray</td><td>2017-08-06</td><td>2017-08-17</td><td>1.6</td><td>23.93</td></tr><tr><td>2527798</td><td>2027224563715</td><td>Best Western Hotel City</td><td>2016-10-16</td><td>2016-10-24</td><td>-1.6</td><td>11.5</td></tr><tr><td>6072</td><td>2370821947402</td><td>ADI Doria Grand Hotel</td><td>2017-08-06</td><td>2017-08-14</td><td>-1.5</td><td>23.15</td></tr><tr><td>78034</td><td>429496729604</td><td>Hotel Garibaldi</td><td>2016-10-15</td><td>2016-10-27</td><td>-1.5</td><td>15.55</td></tr><tr><td>125018</td><td>2817498546185</td><td>Nhow Milan</td><td>2017-08-06</td><td>2017-08-14</td><td>-1.5</td><td>23.15</td></tr><tr><td>154523</td><td>2396591751176</td><td>Bulgari Hotel Milano</td><td>2017-08-06</td><td>2017-08-14</td><td>-1.5</td><td>23.15</td></tr><tr><td>181676</td><td>3049426780170</td><td>Hotel Mozart</td><td>2017-08-06</td><td>2017-08-14</td><td>-1.5</td><td>23.15</td></tr><tr><td>212124</td><td>2516850835462</td><td>Hotel Liberty</td><td>2017-08-06</td><td>2017-08-14</td><td>-1.5</td><td>23.15</td></tr><tr><td>224495</td><td>3049426780170</td><td>Hotel Mozart</td><td>2017-08-06</td><td>2017-08-14</td><td>-1.5</td><td>23.15</td></tr><tr><td>226173</td><td>2817498546185</td><td>Nhow Milan</td><td>2017-08-06</td><td>2017-08-14</td><td>-1.5</td><td>23.15</td></tr><tr><td>242313</td><td>2765958938631</td><td>Hotel Santa Marta Suites</td><td>2017-08-06</td><td>2017-08-14</td><td>-1.5</td><td>23.15</td></tr><tr><td>331447</td><td>2241972928518</td><td>AC Hotel Milano a Marriott Lifestyle Hotel</td><td>2017-08-06</td><td>2017-08-14</td><td>-1.5</td><td>23.15</td></tr><tr><td>392874</td><td>2138893713412</td><td>Hotel Principe Di Savoia</td><td>2017-08-06</td><td>2017-08-14</td><td>-1.5</td><td>23.15</td></tr><tr><td>428173</td><td>3315714752517</td><td>Best Western Hotel St George</td><td>2017-08-06</td><td>2017-08-14</td><td>-1.5</td><td>23.15</td></tr><tr><td>450211</td><td>3272765079554</td><td>Uptown Palace</td><td>2017-08-06</td><td>2017-08-14</td><td>-1.5</td><td>23.15</td></tr><tr><td>453432</td><td>2405181685766</td><td>Hotel Mercure Milano Solari</td><td>2017-08-06</td><td>2017-08-14</td><td>-1.5</td><td>23.15</td></tr><tr><td>473407</td><td>2241972928515</td><td>NH Collection Milano President</td><td>2017-08-06</td><td>2017-08-14</td><td>-1.5</td><td>23.15</td></tr><tr><td>482861</td><td>3393024163849</td><td>TownHouse 12</td><td>2017-08-06</td><td>2017-08-14</td><td>-1.5</td><td>23.15</td></tr><tr><td>574175</td><td>2284922601481</td><td>Mokinba Hotels Montebianco</td><td>2017-08-06</td><td>2017-08-14</td><td>-1.5</td><td>23.15</td></tr><tr><td>577032</td><td>2688649527302</td><td>Andaz London Liverpool Street</td><td>2017-08-07</td><td>2017-08-25</td><td>1.5</td><td>16.35</td></tr><tr><td>671103</td><td>1717986918401</td><td>Mimi s Hotel Soho</td><td>2017-08-07</td><td>2017-08-25</td><td>1.5</td><td>16.35</td></tr><tr><td>671346</td><td>3384434229250</td><td>Hotel Lloyd</td><td>2017-08-06</td><td>2017-08-14</td><td>-1.5</td><td>23.15</td></tr><tr><td>692684</td><td>3255585210375</td><td>Hotel Raffaello</td><td>2017-08-06</td><td>2017-08-14</td><td>-1.5</td><td>23.15</td></tr><tr><td>707372</td><td>2405181685766</td><td>Hotel Mercure Milano Solari</td><td>2017-08-06</td><td>2017-08-14</td><td>-1.5</td><td>23.15</td></tr><tr><td>709015</td><td>3401614098439</td><td>Hotel Spadari Al Duomo</td><td>2017-08-06</td><td>2017-08-14</td><td>-1.5</td><td>23.15</td></tr><tr><td>722919</td><td>1846835937282</td><td>Holiday Inn London Wembley</td><td>2017-08-07</td><td>2017-08-25</td><td>1.5</td><td>16.35</td></tr><tr><td>731983</td><td>3023656976392</td><td>Hotel Mercure Milano Centro</td><td>2017-08-06</td><td>2017-08-14</td><td>-1.5</td><td>23.15</td></tr><tr><td>745340</td><td>2551210573833</td><td>STRAF a Member of Design Hotels</td><td>2017-08-06</td><td>2017-08-14</td><td>-1.5</td><td>23.15</td></tr><tr><td>748084</td><td>1795296329734</td><td>Enterprise Hotel Design Boutique</td><td>2017-08-06</td><td>2017-08-14</td><td>-1.5</td><td>23.15</td></tr><tr><td>763030</td><td>2052994367489</td><td>Canary Riverside Plaza Hotel</td><td>2017-08-07</td><td>2017-08-25</td><td>1.5</td><td>16.35</td></tr><tr><td>959952</td><td>3212635537409</td><td>Park Grand London Lancaster Gate</td><td>2017-08-07</td><td>2017-08-25</td><td>1.5</td><td>16.35</td></tr><tr><td>1007448</td><td>3393024163852</td><td>LaGare Hotel Milano Centrale MGallery by Sofitel</td><td>2017-08-06</td><td>2017-08-14</td><td>-1.5</td><td>23.15</td></tr><tr><td>1035036</td><td>2534030704645</td><td>Best Western Plus Hotel Galles</td><td>2017-08-06</td><td>2017-08-14</td><td>-1.5</td><td>23.15</td></tr><tr><td>1106589</td><td>2362232012806</td><td>ME Milan Il Duca</td><td>2017-08-06</td><td>2017-08-14</td><td>-1.5</td><td>23.15</td></tr><tr><td>1146430</td><td>2362232012809</td><td>Camperio House Suites Apartments</td><td>2017-08-06</td><td>2017-08-14</td><td>-1.5</td><td>23.15</td></tr><tr><td>1183065</td><td>3298534883328</td><td>The Principal London</td><td>2017-08-07</td><td>2017-08-25</td><td>1.5</td><td>16.35</td></tr><tr><td>1245805</td><td>2817498546185</td><td>Nhow Milan</td><td>2017-08-06</td><td>2017-08-14</td><td>-1.5</td><td>23.15</td></tr><tr><td>1263018</td><td>1331439861766</td><td>Sonoma Coast Villa Spa</td><td>2017-08-04</td><td>2017-08-16</td><td>-1.5</td><td>13.55</td></tr><tr><td>1280731</td><td>2491081031684</td><td>Flemings Mayfair</td><td>2017-08-07</td><td>2017-08-25</td><td>1.5</td><td>16.35</td></tr><tr><td>1312651</td><td>3324304687113</td><td>Milan Suite Hotel</td><td>2017-08-06</td><td>2017-08-14</td><td>-1.5</td><td>23.15</td></tr><tr><td>1312896</td><td>2568390443017</td><td>IH Hotels Milano Gioia</td><td>2017-08-06</td><td>2017-08-14</td><td>-1.5</td><td>23.15</td></tr><tr><td>1376531</td><td>2680059592710</td><td>Starhotels Echo</td><td>2017-08-06</td><td>2017-08-14</td><td>-1.5</td><td>23.15</td></tr><tr><td>1425968</td><td>1417339207684</td><td>Patalya Thermal Resort</td><td>2016-10-03</td><td>2016-10-11</td><td>-1.5</td><td>13.15</td></tr><tr><td>1446344</td><td>3289944948738</td><td>The Royal Park Hotel</td><td>2017-08-07</td><td>2017-08-25</td><td>1.5</td><td>16.35</td></tr><tr><td>1470211</td><td>2877628088323</td><td>Novotel Milano Linate Aeroporto</td><td>2017-08-06</td><td>2017-08-14</td><td>-1.5</td><td>23.15</td></tr><tr><td>1471056</td><td>1898375544836</td><td>Mercure Milano Regency</td><td>2017-08-06</td><td>2017-08-14</td><td>-1.5</td><td>23.15</td></tr><tr><td>1486939</td><td>1795296329734</td><td>Enterprise Hotel Design Boutique</td><td>2017-08-06</td><td>2017-08-14</td><td>-1.5</td><td>23.15</td></tr><tr><td>1488219</td><td>3393024163852</td><td>LaGare Hotel Milano Centrale MGallery by Sofitel</td><td>2017-08-06</td><td>2017-08-14</td><td>-1.5</td><td>23.15</td></tr><tr><td>1518793</td><td>3152505995272</td><td>Best Western Hotel Major</td><td>2017-08-06</td><td>2017-08-14</td><td>-1.5</td><td>23.15</td></tr><tr><td>1521523</td><td>2997887172612</td><td>Starhotels Anderson</td><td>2017-08-06</td><td>2017-08-14</td><td>-1.5</td><td>23.15</td></tr><tr><td>1585546</td><td>3401614098439</td><td>Hotel Spadari Al Duomo</td><td>2017-08-06</td><td>2017-08-14</td><td>-1.5</td><td>23.15</td></tr><tr><td>1825685</td><td>85899345925</td><td>Central House</td><td>2017-09-06</td><td>2017-09-13</td><td>1.5</td><td>17.85</td></tr><tr><td>1894244</td><td>2070174236673</td><td>Goodenough Club</td><td>2017-08-07</td><td>2017-08-25</td><td>1.5</td><td>16.35</td></tr><tr><td>1901018</td><td>2723009265672</td><td>NH Milano Grand Hotel Verdi</td><td>2017-08-06</td><td>2017-08-14</td><td>-1.5</td><td>23.15</td></tr><tr><td>1920358</td><td>2164663517189</td><td>Mercure London Hyde Park</td><td>2017-08-07</td><td>2017-08-25</td><td>1.5</td><td>16.35</td></tr><tr><td>1927023</td><td>2319282339843</td><td>Mokinba Hotels King</td><td>2017-08-06</td><td>2017-08-14</td><td>-1.5</td><td>23.15</td></tr><tr><td>1966101</td><td>2241972928513</td><td>Hotel Indigo London Tower Hill</td><td>2017-08-07</td><td>2017-08-25</td><td>1.5</td><td>16.35</td></tr><tr><td>1975425</td><td>2422361554945</td><td>Charlotte Street Hotel</td><td>2017-08-07</td><td>2017-08-25</td><td>1.5</td><td>16.35</td></tr><tr><td>1987324</td><td>3255585210375</td><td>Hotel Raffaello</td><td>2017-08-06</td><td>2017-08-14</td><td>-1.5</td><td>23.15</td></tr><tr><td>2000278</td><td>2568390443011</td><td>Hilton London Euston</td><td>2017-08-07</td><td>2017-08-25</td><td>1.5</td><td>16.35</td></tr><tr><td>2004021</td><td>2310692405258</td><td>Hotel Marconi</td><td>2017-08-06</td><td>2017-08-14</td><td>-1.5</td><td>23.15</td></tr><tr><td>2116210</td><td>3152505995272</td><td>Best Western Hotel Major</td><td>2017-08-06</td><td>2017-08-14</td><td>-1.5</td><td>23.15</td></tr><tr><td>2153926</td><td>2448131358726</td><td>Hotel Michelangelo</td><td>2017-08-06</td><td>2017-08-14</td><td>-1.5</td><td>23.15</td></tr><tr><td>2154542</td><td>3212635537413</td><td>Starhotels Tourist</td><td>2017-08-06</td><td>2017-08-14</td><td>-1.5</td><td>23.15</td></tr><tr><td>2177687</td><td>2877628088322</td><td>The Square Milano Duomo</td><td>2017-08-06</td><td>2017-08-14</td><td>-1.5</td><td>23.15</td></tr><tr><td>2180795</td><td>1846835937285</td><td>Hotel Clerici</td><td>2017-08-06</td><td>2017-08-14</td><td>-1.5</td><td>23.15</td></tr><tr><td>2207639</td><td>2473901162502</td><td>Antica Locanda Dei Mercanti</td><td>2017-08-06</td><td>2017-08-14</td><td>-1.5</td><td>23.15</td></tr><tr><td>2312047</td><td>1769526525961</td><td>Brunelleschi Hotel</td><td>2017-08-06</td><td>2017-08-14</td><td>-1.5</td><td>23.15</td></tr><tr><td>2312438</td><td>2791728742403</td><td>Hotel Bristol</td><td>2017-08-06</td><td>2017-08-14</td><td>-1.5</td><td>23.15</td></tr><tr><td>2352443</td><td>51539607552</td><td>Hotel Guadalmedina</td><td>2017-08-19</td><td>2017-08-27</td><td>1.5</td><td>24.7</td></tr><tr><td>2389099</td><td>2748779069445</td><td>Crowne Plaza Milan City</td><td>2017-08-06</td><td>2017-08-14</td><td>-1.5</td><td>23.15</td></tr><tr><td>2436574</td><td>2877628088322</td><td>The Square Milano Duomo</td><td>2017-08-06</td><td>2017-08-14</td><td>-1.5</td><td>23.15</td></tr><tr><td>78282</td><td>1786706395140</td><td>Starhotels Ritz</td><td>2016-10-06</td><td>2016-10-24</td><td>-1.4</td><td>11.7</td></tr><tr><td>322285</td><td>2216203124740</td><td>Mercure Hotel Amsterdam City South</td><td>2017-08-04</td><td>2017-08-11</td><td>-1.4</td><td>17.13</td></tr><tr><td>402953</td><td>1769526525962</td><td>TownHouse Duomo</td><td>2016-10-06</td><td>2016-10-24</td><td>-1.4</td><td>11.7</td></tr><tr><td>430990</td><td>3195455668228</td><td>TownHouse Galleria</td><td>2016-10-06</td><td>2016-10-24</td><td>-1.4</td><td>11.7</td></tr><tr><td>510748</td><td>2559800508420</td><td>ADI Hotel Poliziano Fiera</td><td>2016-10-06</td><td>2016-10-24</td><td>-1.4</td><td>11.7</td></tr><tr><td>649980</td><td>2087354105860</td><td>Park Hyatt Milano</td><td>2016-10-06</td><td>2016-10-24</td><td>-1.4</td><td>11.7</td></tr><tr><td>796656</td><td>2551210573830</td><td>Novotel Amsterdam City</td><td>2017-08-04</td><td>2017-08-11</td><td>-1.4</td><td>17.13</td></tr><tr><td>853793</td><td>2181843386376</td><td>Best Western Delphi Hotel</td><td>2017-08-04</td><td>2017-08-11</td><td>-1.4</td><td>17.13</td></tr><tr><td>1103352</td><td>2482491097096</td><td>Hotel Esther a</td><td>2017-08-04</td><td>2017-08-11</td><td>-1.4</td><td>17.13</td></tr><tr><td>1131479</td><td>3195455668228</td><td>TownHouse Galleria</td><td>2016-10-06</td><td>2016-10-24</td><td>-1.4</td><td>11.7</td></tr><tr><td>1141784</td><td>2302102470662</td><td>Sir Albert Hotel</td><td>2017-08-04</td><td>2017-08-11</td><td>-1.4</td><td>17.13</td></tr><tr><td>1219006</td><td>2611340115974</td><td>NH Milano Touring</td><td>2016-10-06</td><td>2016-10-24</td><td>-1.4</td><td>11.7</td></tr><tr><td>1230866</td><td>3023656976390</td><td>Hotel Amsterdam De Roode Leeuw</td><td>2017-08-04</td><td>2017-08-11</td><td>-1.4</td><td>17.13</td></tr><tr><td>1280741</td><td>2224793059330</td><td>Radisson Blu Hotel Amsterdam</td><td>2017-08-04</td><td>2017-08-11</td><td>-1.4</td><td>17.13</td></tr><tr><td>1307732</td><td>893353197572</td><td>Comfort Inn Humboldt Bay</td><td>2016-10-24</td><td>2016-10-31</td><td>-1.4</td><td>12.6</td></tr><tr><td>1316058</td><td>2894807957506</td><td>Apollofirst Boutique Hotel</td><td>2017-08-04</td><td>2017-08-11</td><td>-1.4</td><td>17.13</td></tr><tr><td>1336623</td><td>1314259992576</td><td>Fh Hotel Villa Fiesole</td><td>2017-08-19</td><td>2017-08-28</td><td>-1.4</td><td>23.63</td></tr><tr><td>1393394</td><td>2113123909637</td><td>Savoy Hotel Amsterdam</td><td>2017-08-04</td><td>2017-08-11</td><td>-1.4</td><td>17.13</td></tr><tr><td>1400579</td><td>2310692405255</td><td>NH Collection Amsterdam Barbizon Palace</td><td>2017-08-04</td><td>2017-08-11</td><td>-1.4</td><td>17.13</td></tr><tr><td>1410100</td><td>858993459201</td><td>Comfort Suites South</td><td>2016-10-01</td><td>2016-10-19</td><td>-1.4</td><td>14.5</td></tr><tr><td>1462846</td><td>2551210573833</td><td>STRAF a Member of Design Hotels</td><td>2016-10-06</td><td>2016-10-24</td><td>-1.4</td><td>11.7</td></tr><tr><td>1478259</td><td>2705829396486</td><td>Best Western Premier Hotel Couture</td><td>2017-08-04</td><td>2017-08-11</td><td>-1.4</td><td>17.13</td></tr><tr><td>1542858</td><td>2241972928514</td><td>Waldorf Astoria Amsterdam</td><td>2017-08-04</td><td>2017-08-11</td><td>-1.4</td><td>17.13</td></tr><tr><td>1567850</td><td>2482491097096</td><td>Hotel Esther a</td><td>2017-08-04</td><td>2017-08-11</td><td>-1.4</td><td>17.13</td></tr><tr><td>1721968</td><td>2508260900870</td><td>UNA Maison Milano</td><td>2016-10-06</td><td>2016-10-24</td><td>-1.4</td><td>11.7</td></tr><tr><td>1772459</td><td>2705829396486</td><td>Best Western Premier Hotel Couture</td><td>2017-08-04</td><td>2017-08-11</td><td>-1.4</td><td>17.13</td></tr><tr><td>1801735</td><td>2259152797703</td><td>Hotel Auriga</td><td>2016-10-06</td><td>2016-10-24</td><td>-1.4</td><td>11.7</td></tr><tr><td>1912473</td><td>3427383902211</td><td>Hampshire Hotel Amsterdam American</td><td>2017-08-04</td><td>2017-08-11</td><td>-1.4</td><td>17.13</td></tr><tr><td>2100132</td><td>1941325217799</td><td>NH City Centre Amsterdam</td><td>2017-08-04</td><td>2017-08-11</td><td>-1.4</td><td>17.13</td></tr><tr><td>2135034</td><td>3315714752517</td><td>Best Western Hotel St George</td><td>2016-10-06</td><td>2016-10-24</td><td>-1.4</td><td>11.7</td></tr><tr><td>2153883</td><td>3238405341188</td><td>Corendon Vitality Hotel Amsterdam</td><td>2017-08-04</td><td>2017-08-11</td><td>-1.4</td><td>17.13</td></tr><tr><td>2237204</td><td>2473901162501</td><td>Sina De La Ville</td><td>2016-10-06</td><td>2016-10-24</td><td>-1.4</td><td>11.7</td></tr><tr><td>2279572</td><td>2413771620356</td><td>NH Amsterdam Centre</td><td>2017-08-04</td><td>2017-08-11</td><td>-1.4</td><td>17.13</td></tr><tr><td>2503570</td><td>584115552256</td><td>Hunting Lodge</td><td>2017-08-27</td><td>2017-09-16</td><td>1.4</td><td>19.0</td></tr><tr><td>6035</td><td>2035814498306</td><td>H tel Champs lys es Plaza</td><td>2016-10-19</td><td>2016-10-31</td><td>1.3</td><td>9.1</td></tr><tr><td>126348</td><td>1726576852994</td><td>Banke H tel</td><td>2016-10-19</td><td>2016-10-31</td><td>1.3</td><td>9.1</td></tr><tr><td>173896</td><td>2748779069441</td><td>H tel Westminster</td><td>2016-10-19</td><td>2016-10-31</td><td>1.3</td><td>9.1</td></tr><tr><td>203886</td><td>3393024163851</td><td>Hotel Magna Pars Small Luxury Hotels of the World</td><td>2017-08-14</td><td>2017-08-31</td><td>1.3</td><td>23.87</td></tr><tr><td>204249</td><td>3178275799041</td><td>Mercure Paris Pigalle Sacre Coeur</td><td>2016-10-19</td><td>2016-10-31</td><td>1.3</td><td>9.1</td></tr><tr><td>257167</td><td>515396075525</td><td>Magton Inc</td><td>2017-09-19</td><td>2017-09-26</td><td>1.3</td><td>21.55</td></tr><tr><td>295323</td><td>2508260900865</td><td>Splendide Royal Paris</td><td>2016-10-19</td><td>2016-10-31</td><td>1.3</td><td>9.1</td></tr><tr><td>297859</td><td>1889785610240</td><td>Hotel Panache</td><td>2016-10-19</td><td>2016-10-31</td><td>1.3</td><td>9.1</td></tr><tr><td>336495</td><td>2954937499652</td><td>Four Seasons Hotel George V Paris</td><td>2016-10-19</td><td>2016-10-31</td><td>1.3</td><td>9.1</td></tr><tr><td>430441</td><td>1881195675653</td><td>H tel Montmartre Mon Amour</td><td>2016-10-19</td><td>2016-10-31</td><td>1.3</td><td>9.1</td></tr><tr><td>430571</td><td>3221225472003</td><td>Francois 1er</td><td>2016-10-19</td><td>2016-10-31</td><td>1.3</td><td>9.1</td></tr><tr><td>485275</td><td>962072674307</td><td>Country Inn & Suites By Carlson, Rocky Mount, Nc</td><td>2017-09-02</td><td>2017-09-17</td><td>1.3</td><td>22.27</td></tr><tr><td>519107</td><td>2723009265664</td><td>Melia Paris Champs Elys es</td><td>2016-10-19</td><td>2016-10-31</td><td>1.3</td><td>9.1</td></tr><tr><td>540072</td><td>3401614098439</td><td>Hotel Spadari Al Duomo</td><td>2017-08-14</td><td>2017-08-31</td><td>1.3</td><td>23.87</td></tr><tr><td>545179</td><td>2345052143616</td><td>Splendid Etoile</td><td>2016-10-19</td><td>2016-10-31</td><td>1.3</td><td>9.1</td></tr><tr><td>566905</td><td>2774548873216</td><td>Les Plumes Hotel</td><td>2016-10-19</td><td>2016-10-31</td><td>1.3</td><td>9.1</td></tr><tr><td>600431</td><td>2370821947397</td><td>Park Hyatt Paris Vendome</td><td>2016-10-19</td><td>2016-10-31</td><td>1.3</td><td>9.1</td></tr><tr><td>719962</td><td>1537598291968</td><td>Intermezzo</td><td>2017-08-25</td><td>2017-09-08</td><td>-1.3</td><td>19.95</td></tr><tr><td>742864</td><td>1597727834112</td><td>Clarion</td><td>2017-09-06</td><td>2017-09-13</td><td>-1.3</td><td>17.8</td></tr><tr><td>750266</td><td>2946347565059</td><td>Hotel Villa Lafayette Paris IX</td><td>2016-10-19</td><td>2016-10-31</td><td>1.3</td><td>9.1</td></tr><tr><td>777901</td><td>1872605741058</td><td>Rochester Champs Elysees</td><td>2016-10-19</td><td>2016-10-31</td><td>1.3</td><td>9.1</td></tr><tr><td>830678</td><td>2405181685761</td><td>H tel R de Paris Boutique Hotel</td><td>2016-10-19</td><td>2016-10-31</td><td>1.3</td><td>9.1</td></tr><tr><td>831707</td><td>1511828488193</td><td>Lake Raystown Resort Lodge & Conference Center</td><td>2017-09-13</td><td>2017-09-28</td><td>-1.3</td><td>17.6</td></tr><tr><td>839037</td><td>120259084292</td><td>Fairfield Inn and Suites By Marriott Idaho Falls</td><td>2016-10-11</td><td>2016-10-23</td><td>-1.3</td><td>8.15</td></tr><tr><td>896356</td><td>2954937499659</td><td>Hotel Tiziano Park Vita Parcour Gruppo MiniHotels</td><td>2017-08-14</td><td>2017-08-31</td><td>1.3</td><td>23.87</td></tr><tr><td>926838</td><td>2731599200260</td><td>Hotel Berna</td><td>2017-08-14</td><td>2017-08-31</td><td>1.3</td><td>23.87</td></tr><tr><td>939641</td><td>2413771620358</td><td>Bianca Maria Palace Hotel</td><td>2017-08-14</td><td>2017-08-31</td><td>1.3</td><td>23.87</td></tr><tr><td>978062</td><td>120259084292</td><td>Fairfield Inn and Suites By Marriott Idaho Falls</td><td>2016-10-11</td><td>2016-10-23</td><td>-1.3</td><td>8.15</td></tr><tr><td>978547</td><td>2585570312193</td><td>Royal Hotel Champs Elys es</td><td>2016-10-19</td><td>2016-10-31</td><td>1.3</td><td>9.1</td></tr><tr><td>1024570</td><td>1760936591365</td><td>H tel Beauchamps</td><td>2016-10-19</td><td>2016-10-31</td><td>1.3</td><td>9.1</td></tr><tr><td>1127188</td><td>2147483648005</td><td>Starhotels Business Palace</td><td>2017-08-14</td><td>2017-08-31</td><td>1.3</td><td>23.87</td></tr><tr><td>1151350</td><td>2302102470667</td><td>Baglioni Hotel Carlton The Leading Hotels of the World</td><td>2017-08-14</td><td>2017-08-31</td><td>1.3</td><td>23.87</td></tr><tr><td>1253031</td><td>3109556322306</td><td>Hotel The Peninsula Paris</td><td>2016-10-19</td><td>2016-10-31</td><td>1.3</td><td>9.1</td></tr><tr><td>1263021</td><td>1889785610240</td><td>Hotel Panache</td><td>2016-10-19</td><td>2016-10-31</td><td>1.3</td><td>9.1</td></tr><tr><td>1287633</td><td>2851858284552</td><td>Newhotel Roblin</td><td>2016-10-19</td><td>2016-10-31</td><td>1.3</td><td>9.1</td></tr><tr><td>1328071</td><td>60129542146</td><td>Dallas/fort Worth Marriott Solana</td><td>2017-08-01</td><td>2017-08-12</td><td>1.3</td><td>28.17</td></tr><tr><td>1342163</td><td>1417339207685</td><td>Sand Dunes Motel</td><td>2017-08-28</td><td>2017-09-08</td><td>-1.3</td><td>15.78</td></tr><tr><td>1347462</td><td>3255585210368</td><td>H tel Regent s Garden</td><td>2016-10-19</td><td>2016-10-31</td><td>1.3</td><td>9.1</td></tr><tr><td>1357731</td><td>3401614098436</td><td>Mercure Paris Opera Garnier</td><td>2016-10-19</td><td>2016-10-31</td><td>1.3</td><td>9.1</td></tr><tr><td>1363513</td><td>3075196583940</td><td>La Villa des Ternes</td><td>2016-10-19</td><td>2016-10-31</td><td>1.3</td><td>9.1</td></tr><tr><td>1438954</td><td>3410204033026</td><td>Best Western Premier Faubourg 88</td><td>2016-10-19</td><td>2016-10-31</td><td>1.3</td><td>9.1</td></tr><tr><td>1571823</td><td>3393024163843</td><td>Forest Hill Paris la Villette</td><td>2016-10-19</td><td>2016-10-31</td><td>1.3</td><td>9.1</td></tr><tr><td>1645871</td><td>2044404432902</td><td>Hotel Les Th tres</td><td>2016-10-19</td><td>2016-10-31</td><td>1.3</td><td>9.1</td></tr><tr><td>1648089</td><td>2731599200256</td><td>H tel Jos phine by Happyculture</td><td>2016-10-19</td><td>2016-10-31</td><td>1.3</td><td>9.1</td></tr><tr><td>1702473</td><td>2911987826689</td><td>H tel Square Louvois</td><td>2016-10-19</td><td>2016-10-31</td><td>1.3</td><td>9.1</td></tr><tr><td>1806847</td><td>3375844294662</td><td>Amarante Champs Elys es</td><td>2016-10-19</td><td>2016-10-31</td><td>1.3</td><td>9.1</td></tr><tr><td>1814808</td><td>3350074490883</td><td>H tel Arvor Saint Georges</td><td>2016-10-19</td><td>2016-10-31</td><td>1.3</td><td>9.1</td></tr><tr><td>1815703</td><td>962072674309</td><td>Candlewood Suites Indianapolis Northwest</td><td>2017-08-06</td><td>2017-08-13</td><td>1.3</td><td>20.05</td></tr><tr><td>1822816</td><td>60129542146</td><td>Dallas/fort Worth Marriott Solana</td><td>2017-09-06</td><td>2017-09-13</td><td>1.3</td><td>22.65</td></tr><tr><td>1862161</td><td>3066606649345</td><td>Hotel Elys es Bassano</td><td>2016-10-19</td><td>2016-10-31</td><td>1.3</td><td>9.1</td></tr><tr><td>1934594</td><td>2078764171269</td><td>Armani Hotel Milano</td><td>2017-08-14</td><td>2017-08-31</td><td>1.3</td><td>23.87</td></tr><tr><td>1938891</td><td>1743756722176</td><td>Millennium Hotel Paris Opera</td><td>2016-10-19</td><td>2016-10-31</td><td>1.3</td><td>9.1</td></tr><tr><td>1956381</td><td>2551210573828</td><td>Hotel Whistler</td><td>2016-10-19</td><td>2016-10-31</td><td>1.3</td><td>9.1</td></tr><tr><td>2014701</td><td>2233382993920</td><td>Terrass H tel Montmartre by MH</td><td>2016-10-19</td><td>2016-10-31</td><td>1.3</td><td>9.1</td></tr><tr><td>2061929</td><td>1958505086977</td><td>Madeleine Plaza</td><td>2016-10-19</td><td>2016-10-31</td><td>1.3</td><td>9.1</td></tr><tr><td>2061944</td><td>867583393792</td><td>Knights Inn Amarillo Airport</td><td>2017-08-06</td><td>2017-08-15</td><td>1.3</td><td>23.05</td></tr><tr><td>2084470</td><td>309237645314</td><td>Quality Inn</td><td>2017-09-06</td><td>2017-09-13</td><td>-1.3</td><td>17.8</td></tr><tr><td>2095414</td><td>2113123909633</td><td>Ritz Paris</td><td>2016-10-19</td><td>2016-10-31</td><td>1.3</td><td>9.1</td></tr><tr><td>2177433</td><td>309237645314</td><td>Quality Inn</td><td>2017-09-06</td><td>2017-09-13</td><td>-1.3</td><td>17.8</td></tr><tr><td>2184385</td><td>1975684956163</td><td>Hotel Indigo Paris Opera</td><td>2016-10-19</td><td>2016-10-31</td><td>1.3</td><td>9.1</td></tr><tr><td>2208050</td><td>2800318676995</td><td>Le Grand H tel de Normandie</td><td>2016-10-19</td><td>2016-10-31</td><td>1.3</td><td>9.1</td></tr><tr><td>2224850</td><td>2173253451778</td><td>Westside Arc de Triomphe Hotel</td><td>2016-10-19</td><td>2016-10-31</td><td>1.3</td><td>9.1</td></tr><tr><td>2237839</td><td>2413771620355</td><td>Qualys Hotel Nasco</td><td>2017-08-14</td><td>2017-08-31</td><td>1.3</td><td>23.87</td></tr><tr><td>2297628</td><td>2027224563715</td><td>Best Western Hotel City</td><td>2017-08-14</td><td>2017-08-31</td><td>1.3</td><td>23.87</td></tr><tr><td>2312388</td><td>2534030704648</td><td>Four Seasons Hotel Milano</td><td>2017-08-14</td><td>2017-08-31</td><td>1.3</td><td>23.87</td></tr><tr><td>2376314</td><td>1795296329734</td><td>Enterprise Hotel Design Boutique</td><td>2017-08-14</td><td>2017-08-31</td><td>1.3</td><td>23.87</td></tr><tr><td>2422096</td><td>944892805124</td><td>Melia Paris Champs-elys��es</td><td>2016-10-19</td><td>2016-10-31</td><td>1.3</td><td>9.1</td></tr><tr><td>2494959</td><td>60129542146</td><td>Dallas/fort Worth Marriott Solana</td><td>2017-09-06</td><td>2017-09-13</td><td>1.3</td><td>22.65</td></tr><tr><td>50990</td><td>3023656976388</td><td>Buddha Bar Hotel Paris</td><td>2016-10-13</td><td>2016-10-22</td><td>-1.2</td><td>8.33</td></tr><tr><td>70541</td><td>2293512536068</td><td>Elys es R gencia</td><td>2016-10-13</td><td>2016-10-22</td><td>-1.2</td><td>8.33</td></tr><tr><td>74980</td><td>3032246910977</td><td>Franklin Roosevelt</td><td>2016-10-13</td><td>2016-10-22</td><td>-1.2</td><td>8.33</td></tr><tr><td>104485</td><td>2946347565058</td><td>Les Matins de Paris Spa</td><td>2016-10-13</td><td>2016-10-22</td><td>-1.2</td><td>8.33</td></tr><tr><td>131266</td><td>2860448219136</td><td>Best Western Mercedes Arc de Triomphe</td><td>2016-10-13</td><td>2016-10-22</td><td>-1.2</td><td>8.33</td></tr><tr><td>140593</td><td>2173253451778</td><td>Westside Arc de Triomphe Hotel</td><td>2016-10-13</td><td>2016-10-22</td><td>-1.2</td><td>8.33</td></tr><tr><td>145674</td><td>2551210573828</td><td>Hotel Whistler</td><td>2016-10-13</td><td>2016-10-22</td><td>-1.2</td><td>8.33</td></tr><tr><td>160379</td><td>1889785610240</td><td>Hotel Panache</td><td>2016-10-13</td><td>2016-10-22</td><td>-1.2</td><td>8.33</td></tr><tr><td>212038</td><td>2894807957505</td><td>Mercure Paris Montmartre Sacr Coeur</td><td>2016-10-13</td><td>2016-10-22</td><td>-1.2</td><td>8.33</td></tr><tr><td>243664</td><td>2516850835456</td><td>Hotel Astor Saint Honor</td><td>2016-10-13</td><td>2016-10-22</td><td>-1.2</td><td>8.33</td></tr><tr><td>260729</td><td>1992864825344</td><td>Monhotel Lounge SPA</td><td>2016-10-13</td><td>2016-10-22</td><td>-1.2</td><td>8.33</td></tr><tr><td>284822</td><td>2568390443008</td><td>Novotel Suites Paris Nord 18 me</td><td>2016-10-13</td><td>2016-10-22</td><td>-1.2</td><td>8.33</td></tr><tr><td>290436</td><td>893353197572</td><td>Comfort Inn Humboldt Bay</td><td>2017-08-08</td><td>2017-08-22</td><td>-1.2</td><td>12.9</td></tr><tr><td>328823</td><td>1803886264320</td><td>Idol Hotel</td><td>2016-10-13</td><td>2016-10-22</td><td>-1.2</td><td>8.33</td></tr><tr><td>354595</td><td>3109556322306</td><td>Hotel The Peninsula Paris</td><td>2016-10-13</td><td>2016-10-22</td><td>-1.2</td><td>8.33</td></tr><tr><td>356233</td><td>2525440770048</td><td>Sofitel Paris Arc De Triomphe</td><td>2016-10-13</td><td>2016-10-22</td><td>-1.2</td><td>8.33</td></tr><tr><td>361699</td><td>2353642078208</td><td>H tel des Champs Elys es</td><td>2016-10-13</td><td>2016-10-22</td><td>-1.2</td><td>8.33</td></tr><tr><td>364111</td><td>1881195675653</td><td>H tel Montmartre Mon Amour</td><td>2016-10-13</td><td>2016-10-22</td><td>-1.2</td><td>8.33</td></tr><tr><td>414532</td><td>2061584302080</td><td>Amp re</td><td>2016-10-13</td><td>2016-10-22</td><td>-1.2</td><td>8.33</td></tr><tr><td>416703</td><td>2370821947392</td><td>Belfast</td><td>2016-10-13</td><td>2016-10-22</td><td>-1.2</td><td>8.33</td></tr><tr><td>424551</td><td>3032246910977</td><td>Franklin Roosevelt</td><td>2016-10-13</td><td>2016-10-22</td><td>-1.2</td><td>8.33</td></tr><tr><td>426303</td><td>2405181685761</td><td>H tel R de Paris Boutique Hotel</td><td>2016-10-13</td><td>2016-10-22</td><td>-1.2</td><td>8.33</td></tr><tr><td>451212</td><td>2911987826689</td><td>H tel Square Louvois</td><td>2016-10-13</td><td>2016-10-22</td><td>-1.2</td><td>8.33</td></tr><tr><td>472911</td><td>2860448219136</td><td>Best Western Mercedes Arc de Triomphe</td><td>2016-10-13</td><td>2016-10-22</td><td>-1.2</td><td>8.33</td></tr><tr><td>501272</td><td>2757369004033</td><td>9Hotel Republique</td><td>2016-10-13</td><td>2016-10-22</td><td>-1.2</td><td>8.33</td></tr><tr><td>553912</td><td>2757369004033</td><td>9Hotel Republique</td><td>2016-10-13</td><td>2016-10-22</td><td>-1.2</td><td>8.33</td></tr><tr><td>566925</td><td>3393024163843</td><td>Forest Hill Paris la Villette</td><td>2016-10-13</td><td>2016-10-22</td><td>-1.2</td><td>8.33</td></tr><tr><td>569801</td><td>2181843386373</td><td>Hotel Eug ne en Ville</td><td>2016-10-13</td><td>2016-10-22</td><td>-1.2</td><td>8.33</td></tr><tr><td>602094</td><td>3143916060676</td><td>H tel Monna Lisa Champs Elys es</td><td>2016-10-13</td><td>2016-10-22</td><td>-1.2</td><td>8.33</td></tr><tr><td>635198</td><td>1</td><td>Marriott Hotels Resorts Suites</td><td>2017-08-26</td><td>2017-09-04</td><td>1.2</td><td>19.9</td></tr><tr><td>645452</td><td>2293512536067</td><td>Hotel Oscar</td><td>2016-10-13</td><td>2016-10-22</td><td>-1.2</td><td>8.33</td></tr><tr><td>701533</td><td>2542620639234</td><td>Paris Marriott Opera Ambassador Hotel</td><td>2016-10-13</td><td>2016-10-22</td><td>-1.2</td><td>8.33</td></tr><tr><td>731477</td><td>2508260900865</td><td>Splendide Royal Paris</td><td>2016-10-13</td><td>2016-10-22</td><td>-1.2</td><td>8.33</td></tr><tr><td>734198</td><td>3186865733636</td><td>Suites H tel Helzear Champs Elys es</td><td>2016-10-13</td><td>2016-10-22</td><td>-1.2</td><td>8.33</td></tr><tr><td>758918</td><td>2087354105857</td><td>Chateau Frontenac</td><td>2016-10-13</td><td>2016-10-22</td><td>-1.2</td><td>8.33</td></tr><tr><td>793097</td><td>2714419331072</td><td>Napoleon Paris</td><td>2016-10-13</td><td>2016-10-22</td><td>-1.2</td><td>8.33</td></tr><tr><td>798167</td><td>2199023255555</td><td>Hotel De Vigny</td><td>2016-10-13</td><td>2016-10-22</td><td>-1.2</td><td>8.33</td></tr><tr><td>896975</td><td>2559800508418</td><td>Mercure Paris Champs Elys es</td><td>2016-10-13</td><td>2016-10-22</td><td>-1.2</td><td>8.33</td></tr><tr><td>914409</td><td>3015067041793</td><td>B Montmartre</td><td>2016-10-13</td><td>2016-10-22</td><td>-1.2</td><td>8.33</td></tr><tr><td>947512</td><td>2439541424129</td><td>H tel Cristal Champs Elys es</td><td>2016-10-13</td><td>2016-10-22</td><td>-1.2</td><td>8.33</td></tr><tr><td>948018</td><td>1769526525954</td><td>La Villa Maillot</td><td>2016-10-13</td><td>2016-10-22</td><td>-1.2</td><td>8.33</td></tr><tr><td>953806</td><td>2594160246786</td><td>Hotel de Nell</td><td>2016-10-13</td><td>2016-10-22</td><td>-1.2</td><td>8.33</td></tr><tr><td>955540</td><td>3066606649350</td><td>Hotel Carlton s Montmartre</td><td>2016-10-13</td><td>2016-10-22</td><td>-1.2</td><td>8.33</td></tr><tr><td>974945</td><td>1726576852993</td><td>Hotel Marignan Champs Elys es</td><td>2016-10-13</td><td>2016-10-22</td><td>-1.2</td><td>8.33</td></tr><tr><td>982530</td><td>2757369004033</td><td>9Hotel Republique</td><td>2016-10-13</td><td>2016-10-22</td><td>-1.2</td><td>8.33</td></tr><tr><td>1046996</td><td>1357209665538</td><td>Marylander Hotel Condo</td><td>2017-09-13</td><td>2017-09-20</td><td>1.2</td><td>23.0</td></tr><tr><td>1053682</td><td>2954937499649</td><td>Hotel Plaza Elys es</td><td>2016-10-13</td><td>2016-10-22</td><td>-1.2</td><td>8.33</td></tr><tr><td>1127097</td><td>2370821947395</td><td>H tel du Minist re</td><td>2016-10-13</td><td>2016-10-22</td><td>-1.2</td><td>8.33</td></tr><tr><td>1147032</td><td>2181843386375</td><td>Le Pigalle Hotel</td><td>2016-10-13</td><td>2016-10-22</td><td>-1.2</td><td>8.33</td></tr><tr><td>1156379</td><td>2491081031683</td><td>MARQUIS Faubourg St Honor Relais Ch teaux</td><td>2016-10-13</td><td>2016-10-22</td><td>-1.2</td><td>8.33</td></tr><tr><td>1159487</td><td>1743756722176</td><td>Millennium Hotel Paris Opera</td><td>2016-10-13</td><td>2016-10-22</td><td>-1.2</td><td>8.33</td></tr><tr><td>1166190</td><td>2216203124738</td><td>Radisson Blu Champs Elys es Paris</td><td>2016-10-13</td><td>2016-10-22</td><td>-1.2</td><td>8.33</td></tr><tr><td>1172584</td><td>1769526525954</td><td>La Villa Maillot</td><td>2016-10-13</td><td>2016-10-22</td><td>-1.2</td><td>8.33</td></tr><tr><td>1217766</td><td>2259152797696</td><td>Hotel Le 10 BIS</td><td>2016-10-13</td><td>2016-10-22</td><td>-1.2</td><td>8.33</td></tr><tr><td>1229817</td><td>2199023255555</td><td>Hotel De Vigny</td><td>2016-10-13</td><td>2016-10-22</td><td>-1.2</td><td>8.33</td></tr><tr><td>1251944</td><td>1881195675653</td><td>H tel Montmartre Mon Amour</td><td>2016-10-13</td><td>2016-10-22</td><td>-1.2</td><td>8.33</td></tr><tr><td>1263017</td><td>2920577761282</td><td>Hotel Malte Astotel</td><td>2016-10-13</td><td>2016-10-22</td><td>-1.2</td><td>8.33</td></tr><tr><td>1286047</td><td>3126736191492</td><td>Le Burgundy Paris</td><td>2016-10-13</td><td>2016-10-22</td><td>-1.2</td><td>8.33</td></tr><tr><td>1299075</td><td>1099511627780</td><td>Best Western Hotel De Neuville</td><td>2016-10-13</td><td>2016-10-22</td><td>-1.2</td><td>8.33</td></tr><tr><td>1309260</td><td>3375844294657</td><td>Hotel Tour d Auvergne Opera</td><td>2016-10-13</td><td>2016-10-22</td><td>-1.2</td><td>8.33</td></tr><tr><td>1315790</td><td>3186865733636</td><td>Suites H tel Helzear Champs Elys es</td><td>2016-10-13</td><td>2016-10-22</td><td>-1.2</td><td>8.33</td></tr><tr><td>1386459</td><td>2740189134850</td><td>H tel Raphael</td><td>2016-10-13</td><td>2016-10-22</td><td>-1.2</td><td>8.33</td></tr><tr><td>1388831</td><td>2405181685761</td><td>H tel R de Paris Boutique Hotel</td><td>2016-10-13</td><td>2016-10-22</td><td>-1.2</td><td>8.33</td></tr><tr><td>1394212</td><td>2482491097090</td><td>Best Western Plus de Neuville Arc de Triomphe</td><td>2016-10-13</td><td>2016-10-22</td><td>-1.2</td><td>8.33</td></tr><tr><td>1422064</td><td>2937757630464</td><td>Hotel Opera Cadet</td><td>2016-10-13</td><td>2016-10-22</td><td>-1.2</td><td>8.33</td></tr><tr><td>1451175</td><td>2379411881984</td><td>H tel Keppler</td><td>2016-10-13</td><td>2016-10-22</td><td>-1.2</td><td>8.33</td></tr><tr><td>1514428</td><td>2508260900865</td><td>Splendide Royal Paris</td><td>2016-10-13</td><td>2016-10-22</td><td>-1.2</td><td>8.33</td></tr><tr><td>1525741</td><td>3204045602817</td><td>XO Hotel</td><td>2016-10-13</td><td>2016-10-22</td><td>-1.2</td><td>8.33</td></tr><tr><td>1548236</td><td>1</td><td>Marriott Hotels Resorts Suites</td><td>2017-08-26</td><td>2017-09-04</td><td>1.2</td><td>19.9</td></tr><tr><td>1551402</td><td>2559800508418</td><td>Mercure Paris Champs Elys es</td><td>2016-10-13</td><td>2016-10-22</td><td>-1.2</td><td>8.33</td></tr><tr><td>1560088</td><td>3401614098436</td><td>Mercure Paris Opera Garnier</td><td>2016-10-13</td><td>2016-10-22</td><td>-1.2</td><td>8.33</td></tr><tr><td>1629098</td><td>1941325217792</td><td>Hotel de Seze</td><td>2016-10-13</td><td>2016-10-22</td><td>-1.2</td><td>8.33</td></tr><tr><td>1648449</td><td>2748779069441</td><td>H tel Westminster</td><td>2016-10-13</td><td>2016-10-22</td><td>-1.2</td><td>8.33</td></tr><tr><td>1677133</td><td>3126736191488</td><td>Crowne Plaza Paris R publique</td><td>2016-10-13</td><td>2016-10-22</td><td>-1.2</td><td>8.33</td></tr><tr><td>1708415</td><td>2293512536067</td><td>Hotel Oscar</td><td>2016-10-13</td><td>2016-10-22</td><td>-1.2</td><td>8.33</td></tr><tr><td>1716194</td><td>2482491097091</td><td>Majestic Hotel Spa</td><td>2016-10-13</td><td>2016-10-22</td><td>-1.2</td><td>8.33</td></tr><tr><td>1726410</td><td>463856467968</td><td>Hyatt Place Utica</td><td>2017-09-20</td><td>2017-09-27</td><td>-1.2</td><td>21.3</td></tr><tr><td>1743957</td><td>2920577761282</td><td>Hotel Malte Astotel</td><td>2016-10-13</td><td>2016-10-22</td><td>-1.2</td><td>8.33</td></tr><tr><td>1758945</td><td>2860448219136</td><td>Best Western Mercedes Arc de Triomphe</td><td>2016-10-13</td><td>2016-10-22</td><td>-1.2</td><td>8.33</td></tr><tr><td>1794399</td><td>2113123909633</td><td>Ritz Paris</td><td>2016-10-13</td><td>2016-10-22</td><td>-1.2</td><td>8.33</td></tr><tr><td>1831303</td><td>1743756722176</td><td>Millennium Hotel Paris Opera</td><td>2016-10-13</td><td>2016-10-22</td><td>-1.2</td><td>8.33</td></tr><tr><td>1847747</td><td>2645699854338</td><td>Holiday Inn Paris Elys es</td><td>2016-10-13</td><td>2016-10-22</td><td>-1.2</td><td>8.33</td></tr><tr><td>1859228</td><td>2293512536067</td><td>Hotel Oscar</td><td>2016-10-13</td><td>2016-10-22</td><td>-1.2</td><td>8.33</td></tr><tr><td>1924670</td><td>2173253451778</td><td>Westside Arc de Triomphe Hotel</td><td>2016-10-13</td><td>2016-10-22</td><td>-1.2</td><td>8.33</td></tr><tr><td>1935591</td><td>2808908611585</td><td>H tel Le Marianne</td><td>2016-10-13</td><td>2016-10-22</td><td>-1.2</td><td>8.33</td></tr><tr><td>1993446</td><td>2662879723521</td><td>Mercure Paris 19 Philharmonie La Villette</td><td>2016-10-13</td><td>2016-10-22</td><td>-1.2</td><td>8.33</td></tr><tr><td>2028000</td><td>463856467968</td><td>Hyatt Place Utica</td><td>2017-09-20</td><td>2017-09-27</td><td>-1.2</td><td>21.3</td></tr><tr><td>2038648</td><td>3075196583940</td><td>La Villa des Ternes</td><td>2016-10-13</td><td>2016-10-22</td><td>-1.2</td><td>8.33</td></tr><tr><td>2127766</td><td>3066606649344</td><td>Best Western Premier Marais Grands Boulevards</td><td>2016-10-13</td><td>2016-10-22</td><td>-1.2</td><td>8.33</td></tr><tr><td>2158045</td><td>2044404432898</td><td>H tel Diva Opera</td><td>2016-10-13</td><td>2016-10-22</td><td>-1.2</td><td>8.33</td></tr><tr><td>2179034</td><td>2748779069441</td><td>H tel Westminster</td><td>2016-10-13</td><td>2016-10-22</td><td>-1.2</td><td>8.33</td></tr><tr><td>2206856</td><td>3161095929859</td><td>Mercure Paris 17 me Saint Lazare Monceau</td><td>2016-10-13</td><td>2016-10-22</td><td>-1.2</td><td>8.33</td></tr><tr><td>2269302</td><td>841813590021</td><td>Hotel Eug��ne En Ville</td><td>2016-10-13</td><td>2016-10-22</td><td>-1.2</td><td>8.33</td></tr><tr><td>2305389</td><td>2405181685760</td><td>Prince de Galles a Luxury Collection hotel Paris</td><td>2016-10-13</td><td>2016-10-22</td><td>-1.2</td><td>8.33</td></tr><tr><td>2315074</td><td>1194000908288</td><td>Holiday Inn Express Hotel Suites Cookeville</td><td>2017-09-16</td><td>2017-09-25</td><td>1.2</td><td>23.1</td></tr><tr><td>2367848</td><td>2860448219138</td><td>Mercure Paris Terminus Nord</td><td>2016-10-13</td><td>2016-10-22</td><td>-1.2</td><td>8.33</td></tr><tr><td>2407221</td><td>2405181685760</td><td>Prince de Galles a Luxury Collection hotel Paris</td><td>2016-10-13</td><td>2016-10-22</td><td>-1.2</td><td>8.33</td></tr><tr><td>2415522</td><td>3083786518529</td><td>Hotel Vignon</td><td>2016-10-13</td><td>2016-10-22</td><td>-1.2</td><td>8.33</td></tr><tr><td>2420085</td><td>1941325217795</td><td>Best Western Premier Op ra Li ge</td><td>2016-10-13</td><td>2016-10-22</td><td>-1.2</td><td>8.33</td></tr><tr><td>2429799</td><td>2207613190146</td><td>Golden Tulip Opera de Noailles</td><td>2016-10-13</td><td>2016-10-22</td><td>-1.2</td><td>8.33</td></tr><tr><td>2453684</td><td>3255585210368</td><td>H tel Regent s Garden</td><td>2016-10-13</td><td>2016-10-22</td><td>-1.2</td><td>8.33</td></tr><tr><td>2466527</td><td>2611340115970</td><td>Hotel Monsieur</td><td>2016-10-13</td><td>2016-10-22</td><td>-1.2</td><td>8.33</td></tr><tr><td>2483780</td><td>1357209665538</td><td>Marylander Hotel Condo</td><td>2017-09-13</td><td>2017-09-20</td><td>1.2</td><td>23.0</td></tr><tr><td>43543</td><td>2611340115973</td><td>K West Hotel Spa</td><td>2017-08-06</td><td>2017-08-18</td><td>1.1</td><td>15.45</td></tr><tr><td>78744</td><td>592705486849</td><td>Economy Inn</td><td>2017-09-13</td><td>2017-09-29</td><td>1.1</td><td>24.38</td></tr><tr><td>125045</td><td>1056561954817</td><td>Sombrero Resort and Marina</td><td>2017-09-02</td><td>2017-09-12</td><td>-1.1</td><td>28.2</td></tr><tr><td>157992</td><td>558345748483</td><td>Four Points-kansas</td><td>2017-08-25</td><td>2017-09-02</td><td>1.1</td><td>22.55</td></tr><tr><td>183885</td><td>2448131358720</td><td>Bulgari Hotel London</td><td>2017-08-06</td><td>2017-08-18</td><td>1.1</td><td>15.45</td></tr><tr><td>202873</td><td>3092376453124</td><td>Best Western Plus Seraphine Hammersmith Hotel</td><td>2017-08-06</td><td>2017-08-18</td><td>1.1</td><td>15.45</td></tr><tr><td>212102</td><td>2980707303425</td><td>The Franklin Hotel Starhotels Collezione</td><td>2017-08-06</td><td>2017-08-18</td><td>1.1</td><td>15.45</td></tr><tr><td>262602</td><td>1821066133507</td><td>Crowne Plaza London Ealing</td><td>2017-09-20</td><td>2017-09-29</td><td>1.1</td><td>14.05</td></tr><tr><td>275513</td><td>1984274890753</td><td>Hilton London Olympia</td><td>2017-08-06</td><td>2017-08-18</td><td>1.1</td><td>15.45</td></tr><tr><td>278664</td><td>2611340115971</td><td>The Capital</td><td>2017-08-06</td><td>2017-08-18</td><td>1.1</td><td>15.45</td></tr><tr><td>429755</td><td>1116691496960</td><td>Quality Inn</td><td>2016-10-04</td><td>2016-10-16</td><td>-1.1</td><td>22.35</td></tr><tr><td>565566</td><td>2181843386377</td><td>Jumeirah Carlton Tower</td><td>2017-08-06</td><td>2017-08-18</td><td>1.1</td><td>15.45</td></tr><tr><td>587168</td><td>1743756722180</td><td>Sydney House Chelsea</td><td>2017-08-06</td><td>2017-08-18</td><td>1.1</td><td>15.45</td></tr><tr><td>663873</td><td>3229815406596</td><td>Millennium Copthorne Hotels at Chelsea Football Club</td><td>2017-08-06</td><td>2017-08-18</td><td>1.1</td><td>15.45</td></tr><tr><td>674847</td><td>3049426780165</td><td>The Beaufort</td><td>2017-08-06</td><td>2017-08-18</td><td>1.1</td><td>15.45</td></tr><tr><td>841336</td><td>1468878815239</td><td>Super 8 Schenect/albany Area</td><td>2017-09-13</td><td>2017-09-23</td><td>1.1</td><td>18.93</td></tr><tr><td>947073</td><td>1056561954817</td><td>Sombrero Resort and Marina</td><td>2017-09-02</td><td>2017-09-12</td><td>-1.1</td><td>28.2</td></tr><tr><td>1009943</td><td>3066606649347</td><td>The Tophams Hotel</td><td>2017-08-06</td><td>2017-08-18</td><td>1.1</td><td>15.45</td></tr><tr><td>1019512</td><td>3410204033024</td><td>Britannia International Hotel Canary Wharf</td><td>2017-08-06</td><td>2017-08-18</td><td>1.1</td><td>15.45</td></tr><tr><td>1149771</td><td>3358664425475</td><td>Conrad London St James</td><td>2017-08-06</td><td>2017-08-18</td><td>1.1</td><td>15.45</td></tr><tr><td>1409908</td><td>2525440770053</td><td>The Lanesborough</td><td>2017-08-06</td><td>2017-08-18</td><td>1.1</td><td>15.45</td></tr><tr><td>1686165</td><td>3143916060673</td><td>St Ermin s Hotel Autograph Collection</td><td>2017-08-06</td><td>2017-08-18</td><td>1.1</td><td>15.45</td></tr><tr><td>1763702</td><td>1340029796353</td><td>Castle Kona Reef</td><td>2017-09-02</td><td>2017-09-16</td><td>1.1</td><td>25.25</td></tr><tr><td>1768064</td><td>1821066133507</td><td>Crowne Plaza London Ealing</td><td>2017-09-20</td><td>2017-09-29</td><td>1.1</td><td>14.05</td></tr><tr><td>1799451</td><td>858993459208</td><td>River Oaks Golf Villas</td><td>2016-10-16</td><td>2016-10-27</td><td>-1.1</td><td>19.35</td></tr><tr><td>1810466</td><td>2001454759936</td><td>The Cranley Hotel</td><td>2017-08-06</td><td>2017-08-18</td><td>1.1</td><td>15.45</td></tr><tr><td>1972188</td><td>979252543488</td><td>Royal Inn</td><td>2017-08-05</td><td>2017-08-12</td><td>-1.1</td><td>24.75</td></tr><tr><td>1999276</td><td>1906965479430</td><td>Park Plaza Westminster Bridge London</td><td>2017-08-06</td><td>2017-08-18</td><td>1.1</td><td>15.45</td></tr><tr><td>2042366</td><td>3152505995264</td><td>Intercontinental London The O2</td><td>2017-08-06</td><td>2017-08-18</td><td>1.1</td><td>15.45</td></tr><tr><td>2112672</td><td>137438953477</td><td>Holiday Inn Express and Suites Gahanna/columbus Airport E</td><td>2017-09-01</td><td>2017-09-09</td><td>1.1</td><td>15.25</td></tr><tr><td>2142821</td><td>661424963585</td><td>Village Lodge</td><td>2016-10-11</td><td>2016-10-25</td><td>-1.1</td><td>16.87</td></tr><tr><td>2183039</td><td>1374389534724</td><td>America's Best Value Inn</td><td>2017-08-24</td><td>2017-09-04</td><td>-1.1</td><td>27.3</td></tr><tr><td>2220425</td><td>1829656068099</td><td>The Belgrave Hotel</td><td>2017-08-06</td><td>2017-08-18</td><td>1.1</td><td>15.45</td></tr><tr><td>2266967</td><td>1821066133504</td><td>DoubleTree by Hilton London Victoria</td><td>2017-08-06</td><td>2017-08-18</td><td>1.1</td><td>15.45</td></tr><tr><td>2351576</td><td>137438953477</td><td>Holiday Inn Express and Suites Gahanna/columbus Airport E</td><td>2017-09-01</td><td>2017-09-09</td><td>1.1</td><td>15.25</td></tr><tr><td>2365912</td><td>2491081031682</td><td>Innkeeper s Lodge London Greenwich</td><td>2017-08-06</td><td>2017-08-18</td><td>1.1</td><td>15.45</td></tr><tr><td>2375860</td><td>3118146256896</td><td>Milestone Hotel Kensington</td><td>2017-08-06</td><td>2017-08-18</td><td>1.1</td><td>15.45</td></tr><tr><td>2467802</td><td>1812476198917</td><td>COMO The Halkin</td><td>2017-08-06</td><td>2017-08-18</td><td>1.1</td><td>15.45</td></tr><tr><td>32556</td><td>111669149701</td><td>Super 8 Gretna</td><td>2017-09-04</td><td>2017-09-13</td><td>1.0</td><td>21.9</td></tr><tr><td>224907</td><td>128849018883</td><td>Sci�� On Martin</td><td>2017-09-20</td><td>2017-09-27</td><td>1.0</td><td>15.17</td></tr><tr><td>648604</td><td>1331439861766</td><td>Sonoma Coast Villa Spa</td><td>2016-10-11</td><td>2016-10-21</td><td>1.0</td><td>13.4</td></tr><tr><td>1390257</td><td>919123001347</td><td>Best Western University Inn & Suites</td><td>2016-10-06</td><td>2016-10-20</td><td>1.0</td><td>12.3</td></tr><tr><td>1819793</td><td>1511828488192</td><td>Homewood Suites</td><td>2016-10-03</td><td>2016-10-16</td><td>1.0</td><td>15.87</td></tr><tr><td>1967407</td><td>1305670057992</td><td>Campus Inn & Suites Eugene Downtown</td><td>2016-10-04</td><td>2016-10-15</td><td>-1.0</td><td>12.63</td></tr><tr><td>2316161</td><td>128849018883</td><td>Sci�� On Martin</td><td>2017-09-20</td><td>2017-09-27</td><td>1.0</td><td>15.17</td></tr><tr><td>156162</td><td>2628519985155</td><td>Le Relais Montmartre</td><td>2017-08-18</td><td>2017-09-04</td><td>-0.9</td><td>17.45</td></tr><tr><td>566582</td><td>3255585210368</td><td>H tel Regent s Garden</td><td>2017-08-18</td><td>2017-09-04</td><td>-0.9</td><td>17.45</td></tr><tr><td>591841</td><td>2688649527297</td><td>H tel Horset Op ra Best Western Premier Collection</td><td>2017-08-18</td><td>2017-09-04</td><td>-0.9</td><td>17.45</td></tr><tr><td>696680</td><td>403726925826</td><td>Comfort Suites</td><td>2017-08-01</td><td>2017-08-13</td><td>0.9</td><td>27.55</td></tr><tr><td>766590</td><td>2783138807810</td><td>H tel Lancaster Paris Champs Elys es</td><td>2017-08-18</td><td>2017-09-04</td><td>-0.9</td><td>17.45</td></tr><tr><td>782103</td><td>1425929142275</td><td>H��tel Marinca and Spa</td><td>2017-09-06</td><td>2017-09-14</td><td>-0.9</td><td>19.55</td></tr><tr><td>851966</td><td>2851858284552</td><td>Newhotel Roblin</td><td>2017-08-18</td><td>2017-09-04</td><td>-0.9</td><td>17.45</td></tr><tr><td>863147</td><td>188978561026</td><td>Knights Inn Carmel Hill</td><td>2016-10-02</td><td>2016-10-10</td><td>0.9</td><td>13.15</td></tr><tr><td>961645</td><td>343597383685</td><td>Acorn Motor Inn</td><td>2016-10-09</td><td>2016-10-18</td><td>0.9</td><td>10.2</td></tr><tr><td>1071380</td><td>2989297238017</td><td>H tel Regina Op ra Grands Boulevards</td><td>2017-08-18</td><td>2017-09-04</td><td>-0.9</td><td>17.45</td></tr><tr><td>1071862</td><td>3126736191488</td><td>Crowne Plaza Paris R publique</td><td>2017-08-18</td><td>2017-09-04</td><td>-0.9</td><td>17.45</td></tr><tr><td>1411996</td><td>103079215107</td><td>Monterey Beach Dunes Inn</td><td>2016-10-02</td><td>2016-10-10</td><td>0.9</td><td>13.15</td></tr><tr><td>1505104</td><td>2516850835456</td><td>Hotel Astor Saint Honor</td><td>2017-08-18</td><td>2017-09-04</td><td>-0.9</td><td>17.45</td></tr><tr><td>1572210</td><td>2293512536067</td><td>Hotel Oscar</td><td>2017-08-18</td><td>2017-09-04</td><td>-0.9</td><td>17.45</td></tr><tr><td>1701303</td><td>403726925825</td><td>Super 8 - Effingham</td><td>2017-08-09</td><td>2017-08-30</td><td>0.9</td><td>22.4</td></tr><tr><td>1705889</td><td>601295421440</td><td>Miramar Boutique Hotel</td><td>2017-09-06</td><td>2017-09-14</td><td>-0.9</td><td>19.55</td></tr><tr><td>1708864</td><td>257698037763</td><td>Merritt House Inn</td><td>2016-10-02</td><td>2016-10-10</td><td>0.9</td><td>13.15</td></tr><tr><td>1815122</td><td>876173328384</td><td>Econo Lodge St Robert</td><td>2017-09-01</td><td>2017-09-10</td><td>0.9</td><td>19.35</td></tr><tr><td>2227049</td><td>747324309504</td><td>Azul Beach Hotel By Karisma Gourmet Inclusive</td><td>2017-09-12</td><td>2017-09-29</td><td>-0.9</td><td>27.5</td></tr><tr><td>2239723</td><td>1924145348609</td><td>Little Palace Hotel</td><td>2017-08-18</td><td>2017-09-04</td><td>-0.9</td><td>17.45</td></tr><tr><td>2308925</td><td>2516850835456</td><td>Hotel Astor Saint Honor</td><td>2017-08-18</td><td>2017-09-04</td><td>-0.9</td><td>17.45</td></tr><tr><td>2390611</td><td>1425929142275</td><td>H��tel Marinca and Spa</td><td>2017-09-06</td><td>2017-09-14</td><td>-0.9</td><td>19.55</td></tr><tr><td>209934</td><td>1417339207685</td><td>Sand Dunes Motel</td><td>2017-08-31</td><td>2017-09-08</td><td>-0.8</td><td>15.6</td></tr><tr><td>218710</td><td>1082331758595</td><td>Hampton Inn Virginia Beach Oceanfront North</td><td>2016-10-22</td><td>2016-10-29</td><td>0.8</td><td>14.6</td></tr><tr><td>243908</td><td>1168231104517</td><td>Quality Inn Gulfport</td><td>2017-09-02</td><td>2017-09-20</td><td>0.8</td><td>24.98</td></tr><tr><td>382472</td><td>901943132160</td><td>Ambassadors Inn and Suites</td><td>2016-10-22</td><td>2016-10-29</td><td>0.8</td><td>14.6</td></tr><tr><td>954020</td><td>2181843386373</td><td>Hotel Eug ne en Ville</td><td>2017-09-04</td><td>2017-09-29</td><td>0.8</td><td>17.4</td></tr><tr><td>1117918</td><td>2843268349953</td><td>H tel Ad le Jules</td><td>2017-09-04</td><td>2017-09-29</td><td>0.8</td><td>17.4</td></tr><tr><td>1458716</td><td>51539607553</td><td>Hampton Inn & Suites Fort Worth-west-i-30</td><td>2017-08-01</td><td>2017-08-12</td><td>0.8</td><td>27.2</td></tr><tr><td>1902595</td><td>1168231104515</td><td>Villager Inn Motel</td><td>2017-08-06</td><td>2017-08-13</td><td>-0.8</td><td>28.4</td></tr><tr><td>1914451</td><td>807453851650</td><td>Bailey Hotel</td><td>2017-08-25</td><td>2017-09-01</td><td>-0.8</td><td>26.0</td></tr><tr><td>2034484</td><td>2954937499651</td><td>Holiday Inn Paris Op ra Grands Boulevards</td><td>2017-09-04</td><td>2017-09-29</td><td>0.8</td><td>17.4</td></tr><tr><td>2339738</td><td>970662608906</td><td>Americas Best Value Inn</td><td>2016-10-14</td><td>2016-10-22</td><td>-0.8</td><td>11.53</td></tr><tr><td>30101</td><td>2336462209026</td><td>Hotel le Lapin Blanc</td><td>2016-10-03</td><td>2016-10-27</td><td>0.7</td><td>9.48</td></tr><tr><td>148727</td><td>2001454759942</td><td>Courtyard by Marriott Amsterdam Arena Atlas</td><td>2017-08-10</td><td>2017-08-17</td><td>0.7</td><td>16.75</td></tr><tr><td>193948</td><td>2430951489536</td><td>Le 7 Eiffel Hotel</td><td>2016-10-03</td><td>2016-10-27</td><td>0.7</td><td>9.48</td></tr><tr><td>234715</td><td>77309411335</td><td>Clarion Inn Strasburg - Lancaster</td><td>2016-10-20</td><td>2016-10-30</td><td>-0.7</td><td>15.5</td></tr><tr><td>517084</td><td>472446402561</td><td>Meadow Farm Bed and Breakfast</td><td>2017-09-16</td><td>2017-09-24</td><td>0.7</td><td>20.03</td></tr><tr><td>651565</td><td>2379411881990</td><td>Amadi Panorama Hotel</td><td>2017-08-10</td><td>2017-08-17</td><td>0.7</td><td>16.75</td></tr><tr><td>795975</td><td>3384434229251</td><td>Holiday Inn Amsterdam Arena Towers</td><td>2017-08-10</td><td>2017-08-17</td><td>0.7</td><td>16.75</td></tr><tr><td>1075124</td><td>2980707303435</td><td>Fletcher Hotel Amsterdam</td><td>2017-08-10</td><td>2017-08-17</td><td>0.7</td><td>16.75</td></tr><tr><td>1121598</td><td>2259152797698</td><td>H tel Le M</td><td>2016-10-03</td><td>2016-10-27</td><td>0.7</td><td>9.48</td></tr><tr><td>1235778</td><td>2980707303435</td><td>Fletcher Hotel Amsterdam</td><td>2017-08-10</td><td>2017-08-17</td><td>0.7</td><td>16.75</td></tr><tr><td>1237874</td><td>77309411334</td><td>Antlers Inn</td><td>2017-09-02</td><td>2017-09-12</td><td>-0.7</td><td>12.95</td></tr><tr><td>1585608</td><td>1254130450434</td><td>Holiday Inn Express Hotel and Suites Va Beach Oceanfront</td><td>2017-08-05</td><td>2017-08-20</td><td>0.7</td><td>26.15</td></tr><tr><td>1606428</td><td>60129542148</td><td>Americas Best Value Inn</td><td>2017-08-03</td><td>2017-08-27</td><td>-0.7</td><td>24.8</td></tr><tr><td>1631191</td><td>1451698946051</td><td>Riverside Motel and Cabins</td><td>2017-08-02</td><td>2017-08-20</td><td>-0.7</td><td>18.23</td></tr><tr><td>1951454</td><td>1400159338498</td><td>Jacksonville Plaza Hotel and Suites</td><td>2016-10-09</td><td>2016-10-18</td><td>0.7</td><td>22.45</td></tr><tr><td>2231250</td><td>1889785610245</td><td>La Clef Tour Eiffel</td><td>2016-10-03</td><td>2016-10-27</td><td>0.7</td><td>9.48</td></tr><tr><td>2267911</td><td>2946347565060</td><td>Ozo Hotel</td><td>2017-08-10</td><td>2017-08-17</td><td>0.7</td><td>16.75</td></tr><tr><td>2301404</td><td>910533066752</td><td>Super 8</td><td>2017-08-04</td><td>2017-08-11</td><td>0.7</td><td>24.5</td></tr><tr><td>2302847</td><td>3384434229251</td><td>Holiday Inn Amsterdam Arena Towers</td><td>2017-08-10</td><td>2017-08-17</td><td>0.7</td><td>16.75</td></tr><tr><td>2438295</td><td>3384434229251</td><td>Holiday Inn Amsterdam Arena Towers</td><td>2017-08-10</td><td>2017-08-17</td><td>0.7</td><td>16.75</td></tr><tr><td>2523474</td><td>274877906944</td><td>Microtel of Ste Genevieve</td><td>2017-08-15</td><td>2017-08-22</td><td>-0.7</td><td>24.65</td></tr><tr><td>482072</td><td>1322849927175</td><td>Newark Budget Inn</td><td>2017-09-02</td><td>2017-09-09</td><td>0.6</td><td>13.8</td></tr><tr><td>534869</td><td>60129542144</td><td>The Golden Hotel, An Ascend Hotel Collection Member</td><td>2017-09-01</td><td>2017-09-11</td><td>-0.6</td><td>16.9</td></tr><tr><td>675567</td><td>1151051235328</td><td>Eldorado Suites Hotel</td><td>2017-08-18</td><td>2017-08-31</td><td>-0.6</td><td>24.1</td></tr><tr><td>978061</td><td>1537598291968</td><td>Intermezzo</td><td>2017-08-07</td><td>2017-08-25</td><td>0.6</td><td>20.23</td></tr><tr><td>997297</td><td>1013612281857</td><td>Truckee Tahoe Htl Larkspur</td><td>2017-09-08</td><td>2017-09-25</td><td>0.6</td><td>15.6</td></tr><tr><td>1157905</td><td>1382979469315</td><td>La Quinta</td><td>2017-08-18</td><td>2017-08-31</td><td>0.6</td><td>23.0</td></tr><tr><td>1871519</td><td>197568495621</td><td>Rodeway Inn</td><td>2017-08-05</td><td>2017-08-18</td><td>0.6</td><td>21.2</td></tr><tr><td>1898174</td><td>996432412676</td><td>Red Carpet Inn</td><td>2016-10-22</td><td>2016-10-30</td><td>-0.6</td><td>12.4</td></tr><tr><td>1963569</td><td>163208757252</td><td>Super 8 Crete Ne</td><td>2016-10-11</td><td>2016-10-22</td><td>-0.6</td><td>12.4</td></tr><tr><td>2030664</td><td>996432412674</td><td>Bent Elbow</td><td>2017-08-25</td><td>2017-09-08</td><td>-0.6</td><td>9.27</td></tr><tr><td>2105218</td><td>386547056643</td><td>Rodeway Inn Bushnell</td><td>2016-10-06</td><td>2016-10-14</td><td>-0.6</td><td>24.22</td></tr><tr><td>2231451</td><td>1013612281865</td><td>Ritz Hotel</td><td>2016-10-11</td><td>2016-10-22</td><td>-0.6</td><td>14.0</td></tr><tr><td>2379367</td><td>163208757252</td><td>Super 8 Crete Ne</td><td>2016-10-11</td><td>2016-10-22</td><td>-0.6</td><td>12.4</td></tr><tr><td>486509</td><td>1305670057990</td><td>Hampton Inn Abilene</td><td>2017-08-13</td><td>2017-08-21</td><td>0.5</td><td>28.15</td></tr><tr><td>662070</td><td>575525617665</td><td>Alpine Motel</td><td>2017-08-25</td><td>2017-09-07</td><td>-0.5</td><td>18.07</td></tr><tr><td>718576</td><td>17179869184</td><td>Days Inn Brookings</td><td>2016-10-21</td><td>2016-10-29</td><td>-0.5</td><td>7.65</td></tr><tr><td>939220</td><td>2405181685763</td><td>DoubleTree By Hilton Milan</td><td>2017-08-11</td><td>2017-09-03</td><td>0.5</td><td>19.55</td></tr><tr><td>1139316</td><td>1142461300738</td><td>Terrace Inns Suites</td><td>2016-10-20</td><td>2016-10-29</td><td>-0.5</td><td>17.35</td></tr><tr><td>1197499</td><td>4</td><td>Best Western Holiday Hills</td><td>2017-08-17</td><td>2017-08-24</td><td>-0.5</td><td>16.65</td></tr><tr><td>1433076</td><td>1417339207684</td><td>Patalya Thermal Resort</td><td>2016-10-14</td><td>2016-10-25</td><td>-0.5</td><td>5.55</td></tr><tr><td>1512707</td><td>1305670057990</td><td>Hampton Inn Abilene</td><td>2017-08-13</td><td>2017-08-21</td><td>0.5</td><td>28.15</td></tr><tr><td>1628268</td><td>1821066133507</td><td>Crowne Plaza London Ealing</td><td>2017-08-02</td><td>2017-08-18</td><td>-0.5</td><td>15.83</td></tr><tr><td>1813327</td><td>1151051235332</td><td>Hampton Inn & Suites Millington</td><td>2017-09-16</td><td>2017-09-24</td><td>-0.5</td><td>25.05</td></tr><tr><td>1815396</td><td>1606317768705</td><td>Great Basin Inn</td><td>2017-08-09</td><td>2017-08-18</td><td>0.5</td><td>19.8</td></tr><tr><td>1936696</td><td>1443109011459</td><td>Best Western Knoxville Suites</td><td>2017-09-20</td><td>2017-09-28</td><td>0.5</td><td>23.6</td></tr><tr><td>2119695</td><td>455266533382</td><td>Innisbrook</td><td>2017-08-27</td><td>2017-09-03</td><td>0.5</td><td>27.85</td></tr><tr><td>2383696</td><td>17179869184</td><td>Days Inn Brookings</td><td>2016-10-21</td><td>2016-10-29</td><td>-0.5</td><td>7.65</td></tr><tr><td>218759</td><td>1700807049216</td><td>Arrowhead Motel and Rv Park</td><td>2017-08-18</td><td>2017-09-02</td><td>-0.4</td><td>17.7</td></tr><tr><td>237130</td><td>455266533381</td><td>Hilton Princess San Pedro Sula</td><td>2016-10-11</td><td>2016-10-18</td><td>-0.4</td><td>23.9</td></tr><tr><td>1025704</td><td>455266533381</td><td>Hilton Princess San Pedro Sula</td><td>2016-10-11</td><td>2016-10-18</td><td>-0.4</td><td>23.9</td></tr><tr><td>1276003</td><td>34359738370</td><td>Sherwood Hills Resort</td><td>2017-08-03</td><td>2017-08-12</td><td>-0.4</td><td>24.5</td></tr><tr><td>1377605</td><td>1322849927168</td><td>Country Inn Walker</td><td>2017-08-24</td><td>2017-08-31</td><td>-0.4</td><td>15.1</td></tr><tr><td>1404127</td><td>1537598291968</td><td>Intermezzo</td><td>2016-10-06</td><td>2016-10-15</td><td>-0.4</td><td>18.1</td></tr><tr><td>1464738</td><td>1331439861760</td><td>Davison St Guest House</td><td>2016-10-12</td><td>2016-10-24</td><td>-0.4</td><td>9.1</td></tr><tr><td>1700096</td><td>1322849927168</td><td>Country Inn Walker</td><td>2017-08-24</td><td>2017-08-31</td><td>-0.4</td><td>15.1</td></tr><tr><td>2257767</td><td>841813590020</td><td>Candlewood Suites Eugene Springfield</td><td>2016-10-04</td><td>2016-10-21</td><td>0.4</td><td>12.62</td></tr><tr><td>2287640</td><td>1675037245444</td><td>Sleep Inn At Harbour View</td><td>2017-08-16</td><td>2017-08-23</td><td>-0.4</td><td>28.1</td></tr><tr><td>2312716</td><td>678604832770</td><td>Best Western</td><td>2017-08-12</td><td>2017-08-19</td><td>0.4</td><td>24.4</td></tr><tr><td>12810</td><td>1649267441664</td><td>Key West Inn - Clanton</td><td>2016-10-03</td><td>2016-10-14</td><td>-0.3</td><td>22.25</td></tr><tr><td>15787</td><td>592705486850</td><td>Seaside Oceanfront Inn & Restaurant</td><td>2016-10-07</td><td>2016-10-20</td><td>-0.3</td><td>11.67</td></tr><tr><td>64553</td><td>592705486850</td><td>Seaside Oceanfront Inn & Restaurant</td><td>2016-10-19</td><td>2016-10-30</td><td>-0.3</td><td>10.7</td></tr><tr><td>130237</td><td>2293512536065</td><td>Mercure London Bloomsbury Hotel</td><td>2017-09-03</td><td>2017-09-23</td><td>0.3</td><td>12.87</td></tr><tr><td>208174</td><td>2491081031681</td><td>London Marriott Hotel Marble Arch</td><td>2017-09-03</td><td>2017-09-23</td><td>0.3</td><td>12.87</td></tr><tr><td>523220</td><td>1760936591360</td><td>Mercure London Paddington Hotel</td><td>2017-09-03</td><td>2017-09-23</td><td>0.3</td><td>12.87</td></tr><tr><td>796690</td><td>1769526525953</td><td>Best Western Mornington Hotel Hyde Park</td><td>2017-09-03</td><td>2017-09-23</td><td>0.3</td><td>12.87</td></tr><tr><td>1016144</td><td>1271310319617</td><td>Relax Inn</td><td>2017-09-05</td><td>2017-09-19</td><td>-0.3</td><td>27.9</td></tr><tr><td>1045303</td><td>2035814498304</td><td>Arbor City</td><td>2017-09-03</td><td>2017-09-23</td><td>0.3</td><td>12.87</td></tr><tr><td>1072248</td><td>506806140928</td><td>Hotel Monaco Chicago, A Kimpton Hotel</td><td>2017-08-12</td><td>2017-08-31</td><td>-0.3</td><td>21.43</td></tr><tr><td>1261902</td><td>2688649527303</td><td>Washington Mayfair Hotel</td><td>2017-09-03</td><td>2017-09-23</td><td>0.3</td><td>12.87</td></tr><tr><td>1412615</td><td>2121713844226</td><td>The Sumner Hotel</td><td>2017-09-03</td><td>2017-09-23</td><td>0.3</td><td>12.87</td></tr><tr><td>1534711</td><td>25769803776</td><td>Best Western Plus Arlington North Hotel and Suites</td><td>2017-09-15</td><td>2017-09-24</td><td>-0.3</td><td>28.77</td></tr><tr><td>1643080</td><td>2010044694529</td><td>The Pillar Hotel</td><td>2017-09-03</td><td>2017-09-23</td><td>0.3</td><td>12.87</td></tr><tr><td>1687677</td><td>309237645313</td><td>Super 8 Dallas South</td><td>2017-08-11</td><td>2017-08-21</td><td>-0.3</td><td>29.03</td></tr><tr><td>1860071</td><td>1331439861760</td><td>Davison St Guest House</td><td>2017-08-08</td><td>2017-08-16</td><td>-0.3</td><td>17.25</td></tr><tr><td>1953596</td><td>2293512536075</td><td>The Ned</td><td>2017-09-03</td><td>2017-09-23</td><td>0.3</td><td>12.87</td></tr><tr><td>2106534</td><td>592705486850</td><td>Seaside Oceanfront Inn & Restaurant</td><td>2016-10-19</td><td>2016-10-30</td><td>-0.3</td><td>10.7</td></tr><tr><td>2144162</td><td>2808908611584</td><td>Crowne Plaza London Kings Cross</td><td>2017-09-03</td><td>2017-09-23</td><td>0.3</td><td>12.87</td></tr><tr><td>2196709</td><td>1056561954816</td><td>Hotel Relais De Margaux Golf and Spa</td><td>2016-10-20</td><td>2016-10-30</td><td>0.3</td><td>11.55</td></tr><tr><td>2260442</td><td>1271310319617</td><td>Relax Inn</td><td>2017-09-05</td><td>2017-09-19</td><td>-0.3</td><td>27.9</td></tr><tr><td>2287732</td><td>2413771620353</td><td>Comfort Inn Suites Kings Cross St Pancras</td><td>2017-09-03</td><td>2017-09-23</td><td>0.3</td><td>12.87</td></tr><tr><td>2487706</td><td>747324309505</td><td>Holiday Inn Express Howe (sturgis, Mi)</td><td>2017-08-06</td><td>2017-08-15</td><td>0.3</td><td>27.57</td></tr><tr><td>2521792</td><td>1872605741056</td><td>One Aldwych</td><td>2017-09-03</td><td>2017-09-23</td><td>0.3</td><td>12.87</td></tr><tr><td>22753</td><td>1898375544837</td><td>Hotel Lombardia</td><td>2016-10-06</td><td>2016-10-16</td><td>0.2</td><td>12.2</td></tr><tr><td>29228</td><td>1915555414022</td><td>Hotel Wagner</td><td>2016-10-06</td><td>2016-10-16</td><td>0.2</td><td>12.2</td></tr><tr><td>31345</td><td>2216203124741</td><td>The Westin Palace</td><td>2016-10-06</td><td>2016-10-16</td><td>0.2</td><td>12.2</td></tr><tr><td>61874</td><td>3152505995272</td><td>Best Western Hotel Major</td><td>2016-10-06</td><td>2016-10-16</td><td>0.2</td><td>12.2</td></tr><tr><td>75037</td><td>2551210573833</td><td>STRAF a Member of Design Hotels</td><td>2016-10-06</td><td>2016-10-16</td><td>0.2</td><td>12.2</td></tr><tr><td>100624</td><td>652835028993</td><td>Saddleback Motor Inn</td><td>2016-10-04</td><td>2016-10-12</td><td>0.2</td><td>9.5</td></tr><tr><td>163627</td><td>1726576852997</td><td>Hotel Galileo</td><td>2016-10-06</td><td>2016-10-16</td><td>0.2</td><td>12.2</td></tr><tr><td>243512</td><td>2070174236676</td><td>Hotel Manzoni</td><td>2016-10-06</td><td>2016-10-16</td><td>0.2</td><td>12.2</td></tr><tr><td>289597</td><td>1984274890757</td><td>Grand Visconti Palace</td><td>2016-10-06</td><td>2016-10-16</td><td>0.2</td><td>12.2</td></tr><tr><td>352837</td><td>2508260900870</td><td>UNA Maison Milano</td><td>2016-10-06</td><td>2016-10-16</td><td>0.2</td><td>12.2</td></tr><tr><td>373367</td><td>3032246910983</td><td>Best Western Madison Hotel</td><td>2016-10-06</td><td>2016-10-16</td><td>0.2</td><td>12.2</td></tr><tr><td>447652</td><td>2508260900870</td><td>UNA Maison Milano</td><td>2016-10-06</td><td>2016-10-16</td><td>0.2</td><td>12.2</td></tr><tr><td>455179</td><td>2791728742403</td><td>Hotel Bristol</td><td>2016-10-06</td><td>2016-10-16</td><td>0.2</td><td>12.2</td></tr><tr><td>500448</td><td>893353197572</td><td>Comfort Inn Humboldt Bay</td><td>2017-09-17</td><td>2017-09-25</td><td>-0.2</td><td>13.87</td></tr><tr><td>506715</td><td>2817498546185</td><td>Nhow Milan</td><td>2016-10-06</td><td>2016-10-16</td><td>0.2</td><td>12.2</td></tr><tr><td>546408</td><td>77309411334</td><td>Antlers Inn</td><td>2017-08-14</td><td>2017-08-23</td><td>0.2</td><td>12.8</td></tr><tr><td>566641</td><td>2731599200260</td><td>Hotel Berna</td><td>2016-10-06</td><td>2016-10-16</td><td>0.2</td><td>12.2</td></tr><tr><td>679779</td><td>1752346656776</td><td>Andreola Central Hotel</td><td>2016-10-06</td><td>2016-10-16</td><td>0.2</td><td>12.2</td></tr><tr><td>813567</td><td>111669149698</td><td>Body Tuneup</td><td>2017-09-18</td><td>2017-09-25</td><td>0.2</td><td>28.8</td></tr><tr><td>827637</td><td>1829656068102</td><td>NYX Milan</td><td>2016-10-06</td><td>2016-10-16</td><td>0.2</td><td>12.2</td></tr><tr><td>888567</td><td>2997887172614</td><td>NH Milano Palazzo Moscova</td><td>2016-10-06</td><td>2016-10-16</td><td>0.2</td><td>12.2</td></tr><tr><td>894222</td><td>1717986918408</td><td>Acca Palace</td><td>2016-10-06</td><td>2016-10-16</td><td>0.2</td><td>12.2</td></tr><tr><td>902322</td><td>2310692405258</td><td>Hotel Marconi</td><td>2016-10-06</td><td>2016-10-16</td><td>0.2</td><td>12.2</td></tr><tr><td>903927</td><td>2954937499659</td><td>Hotel Tiziano Park Vita Parcour Gruppo MiniHotels</td><td>2016-10-06</td><td>2016-10-16</td><td>0.2</td><td>12.2</td></tr><tr><td>930020</td><td>1297080123398</td><td>Starwood Resorts Hotel</td><td>2017-09-18</td><td>2017-09-25</td><td>0.2</td><td>20.7</td></tr><tr><td>1033236</td><td>1932735283202</td><td>Four Points Sheraton Milan Center</td><td>2016-10-06</td><td>2016-10-16</td><td>0.2</td><td>12.2</td></tr><tr><td>1082596</td><td>3393024163850</td><td>Art Hotel Navigli</td><td>2016-10-06</td><td>2016-10-16</td><td>0.2</td><td>12.2</td></tr><tr><td>1133171</td><td>2027224563717</td><td>IH Hotels Milano Ambasciatori</td><td>2016-10-06</td><td>2016-10-16</td><td>0.2</td><td>12.2</td></tr><tr><td>1140174</td><td>3204045602824</td><td>Ramada Plaza Milano</td><td>2016-10-06</td><td>2016-10-16</td><td>0.2</td><td>12.2</td></tr><tr><td>1141261</td><td>1331439861764</td><td>Terry Peak Ski Area</td><td>2017-08-17</td><td>2017-09-01</td><td>-0.2</td><td>15.8</td></tr><tr><td>1145672</td><td>2224793059331</td><td>Hotel Sanpi Milano</td><td>2016-10-06</td><td>2016-10-16</td><td>0.2</td><td>12.2</td></tr><tr><td>1147883</td><td>3195455668228</td><td>TownHouse Galleria</td><td>2016-10-06</td><td>2016-10-16</td><td>0.2</td><td>12.2</td></tr><tr><td>1228757</td><td>2121713844230</td><td>UNA Hotel Scandinavia</td><td>2016-10-06</td><td>2016-10-16</td><td>0.2</td><td>12.2</td></tr><tr><td>1355294</td><td>0</td><td>The Amble Inn</td><td>2017-08-02</td><td>2017-08-09</td><td>-0.2</td><td>22.25</td></tr><tr><td>1377904</td><td>2542620639236</td><td>Meli Milano</td><td>2016-10-06</td><td>2016-10-16</td><td>0.2</td><td>12.2</td></tr><tr><td>1477171</td><td>2516850835462</td><td>Hotel Liberty</td><td>2016-10-06</td><td>2016-10-16</td><td>0.2</td><td>12.2</td></tr><tr><td>1516531</td><td>2405181685766</td><td>Hotel Mercure Milano Solari</td><td>2016-10-06</td><td>2016-10-16</td><td>0.2</td><td>12.2</td></tr><tr><td>1558059</td><td>111669149698</td><td>Body Tuneup</td><td>2017-09-18</td><td>2017-09-25</td><td>0.2</td><td>28.8</td></tr><tr><td>1580135</td><td>3221225472009</td><td>Holiday Inn Milan Garibaldi Station</td><td>2016-10-06</td><td>2016-10-16</td><td>0.2</td><td>12.2</td></tr><tr><td>1590053</td><td>3401614098439</td><td>Hotel Spadari Al Duomo</td><td>2016-10-06</td><td>2016-10-16</td><td>0.2</td><td>12.2</td></tr><tr><td>1590813</td><td>3032246910983</td><td>Best Western Madison Hotel</td><td>2016-10-06</td><td>2016-10-16</td><td>0.2</td><td>12.2</td></tr><tr><td>1654091</td><td>1133871366148</td><td>Calloway Inn</td><td>2017-09-22</td><td>2017-09-29</td><td>-0.2</td><td>27.1</td></tr><tr><td>1769023</td><td>2740189134853</td><td>Palazzo Parigi Hotel Grand Spa Milano</td><td>2016-10-06</td><td>2016-10-16</td><td>0.2</td><td>12.2</td></tr><tr><td>1773612</td><td>2027224563717</td><td>IH Hotels Milano Ambasciatori</td><td>2016-10-06</td><td>2016-10-16</td><td>0.2</td><td>12.2</td></tr><tr><td>1775599</td><td>2405181685766</td><td>Hotel Mercure Milano Solari</td><td>2016-10-06</td><td>2016-10-16</td><td>0.2</td><td>12.2</td></tr><tr><td>1794345</td><td>111669149698</td><td>Body Tuneup</td><td>2017-09-18</td><td>2017-09-25</td><td>0.2</td><td>28.8</td></tr><tr><td>1840711</td><td>2405181685766</td><td>Hotel Mercure Milano Solari</td><td>2016-10-06</td><td>2016-10-16</td><td>0.2</td><td>12.2</td></tr><tr><td>2005282</td><td>2087354105860</td><td>Park Hyatt Milano</td><td>2016-10-06</td><td>2016-10-16</td><td>0.2</td><td>12.2</td></tr><tr><td>2128714</td><td>970662608902</td><td>Longville Inn</td><td>2017-08-11</td><td>2017-08-20</td><td>0.2</td><td>18.2</td></tr><tr><td>2204729</td><td>2302102470667</td><td>Baglioni Hotel Carlton The Leading Hotels of the World</td><td>2016-10-06</td><td>2016-10-16</td><td>0.2</td><td>12.2</td></tr><tr><td>2206996</td><td>3066606649355</td><td>Hotel degli Arcimboldi</td><td>2016-10-06</td><td>2016-10-16</td><td>0.2</td><td>12.2</td></tr><tr><td>2241174</td><td>1254130450432</td><td>Hotel Corpus Christi</td><td>2017-08-12</td><td>2017-08-19</td><td>-0.2</td><td>30.73</td></tr><tr><td>2286799</td><td>3023656976392</td><td>Hotel Mercure Milano Centro</td><td>2016-10-06</td><td>2016-10-16</td><td>0.2</td><td>12.2</td></tr><tr><td>2300799</td><td>2731599200260</td><td>Hotel Berna</td><td>2016-10-06</td><td>2016-10-16</td><td>0.2</td><td>12.2</td></tr><tr><td>2311070</td><td>1932735283203</td><td>Petit Palais Hotel De Charme</td><td>2016-10-06</td><td>2016-10-16</td><td>0.2</td><td>12.2</td></tr><tr><td>2321253</td><td>1786706395140</td><td>Starhotels Ritz</td><td>2016-10-06</td><td>2016-10-16</td><td>0.2</td><td>12.2</td></tr><tr><td>2359815</td><td>2362232012806</td><td>ME Milan Il Duca</td><td>2016-10-06</td><td>2016-10-16</td><td>0.2</td><td>12.2</td></tr><tr><td>2361759</td><td>2104533975045</td><td>Hilton Milan</td><td>2016-10-06</td><td>2016-10-16</td><td>0.2</td><td>12.2</td></tr><tr><td>2382249</td><td>2362232012806</td><td>ME Milan Il Duca</td><td>2016-10-06</td><td>2016-10-16</td><td>0.2</td><td>12.2</td></tr><tr><td>2473834</td><td>2310692405258</td><td>Hotel Marconi</td><td>2016-10-06</td><td>2016-10-16</td><td>0.2</td><td>12.2</td></tr><tr><td>2498209</td><td>2534030704648</td><td>Four Seasons Hotel Milano</td><td>2016-10-06</td><td>2016-10-16</td><td>0.2</td><td>12.2</td></tr><tr><td>59798</td><td>1236950581253</td><td>Howard Johnson</td><td>2016-10-14</td><td>2016-10-21</td><td>-0.1</td><td>3.9</td></tr><tr><td>336012</td><td>1236950581253</td><td>Howard Johnson</td><td>2016-10-14</td><td>2016-10-21</td><td>-0.1</td><td>3.9</td></tr><tr><td>360043</td><td>2705829396482</td><td>Grange Strathmore Hotel</td><td>2017-08-01</td><td>2017-08-18</td><td>-0.1</td><td>15.67</td></tr><tr><td>721843</td><td>1614907703296</td><td>Sportsmen Motel</td><td>2017-08-16</td><td>2017-08-23</td><td>0.1</td><td>16.13</td></tr><tr><td>828278</td><td>1322849927169</td><td>Barber Joyce</td><td>2017-09-19</td><td>2017-09-27</td><td>0.1</td><td>21.95</td></tr><tr><td>855079</td><td>1236950581253</td><td>Howard Johnson</td><td>2016-10-14</td><td>2016-10-21</td><td>-0.1</td><td>3.9</td></tr><tr><td>1018534</td><td>1760936591363</td><td>NH London Kensington</td><td>2017-08-01</td><td>2017-08-18</td><td>-0.1</td><td>15.67</td></tr><tr><td>1059718</td><td>1133871366144</td><td>Best Western Plus Waterville Grand Hotel</td><td>2017-09-06</td><td>2017-09-22</td><td>0.1</td><td>16.4</td></tr><tr><td>1287682</td><td>1589137899521</td><td>Holiday Inn Express Hotel and Suites Meadowlands Area</td><td>2017-08-02</td><td>2017-08-11</td><td>-0.1</td><td>23.35</td></tr><tr><td>1344209</td><td>2001454759936</td><td>The Cranley Hotel</td><td>2017-08-01</td><td>2017-08-18</td><td>-0.1</td><td>15.67</td></tr><tr><td>1385293</td><td>1623497637889</td><td>Holiday Inn Express Hotel Suites Sedalia</td><td>2017-08-26</td><td>2017-09-09</td><td>-0.1</td><td>20.6</td></tr><tr><td>1871639</td><td>498216206340</td><td>Liberty Lodge</td><td>2017-08-26</td><td>2017-09-04</td><td>0.1</td><td>14.9</td></tr><tr><td>2179164</td><td>1022202216448</td><td>Hotel Aura Sfo</td><td>2016-10-03</td><td>2016-10-11</td><td>0.1</td><td>13.65</td></tr><tr><td>2479000</td><td>1271310319617</td><td>Relax Inn</td><td>2016-10-11</td><td>2016-10-19</td><td>-0.1</td><td>25.45</td></tr><tr><td>1134854</td><td>833223655426</td><td>Miami Executive Hotel</td><td>2016-10-18</td><td>2016-10-29</td><td>0.0</td><td>24.9</td></tr><tr><td>1524141</td><td>420906795008</td><td>The Kinney - Venice Beach</td><td>2017-08-11</td><td>2017-08-20</td><td>0.0</td><td>20.97</td></tr><tr><td>1689729</td><td>1142461300738</td><td>Terrace Inns Suites</td><td>2016-10-09</td><td>2016-10-20</td><td>0.0</td><td>17.2</td></tr></tbody></table></div>"
      ]
     },
     "metadata": {
      "application/vnd.databricks.v1+output": {
       "addedWidgets": {},
       "aggData": [],
       "aggError": "",
       "aggOverflow": false,
       "aggSchema": [],
       "aggSeriesLimitReached": false,
       "aggType": "",
       "arguments": {},
       "columnCustomDisplayInfos": {},
       "data": [
        [
         560359,
         369367187456,
         "Greektown Casino",
         "2016-10-06",
         "2016-10-26",
         -16.2,
         11.23
        ],
        [
         432180,
         137438953473,
         "Country Inn and Suites By Carlson",
         "2016-10-17",
         "2016-10-27",
         -14.4,
         12.57
        ],
        [
         1345044,
         137438953473,
         "Country Inn and Suites By Carlson",
         "2016-10-17",
         "2016-10-27",
         -14.4,
         12.57
        ],
        [
         1378048,
         335007449088,
         "Americinn Lodge & Suites Appleton",
         "2016-10-06",
         "2016-10-13",
         -13.5,
         10.55
        ],
        [
         2321750,
         472446402561,
         "Meadow Farm Bed and Breakfast",
         "2016-10-19",
         "2016-10-26",
         -13.4,
         9.1
        ],
        [
         49062,
         833223655425,
         "Fairbridge Inn",
         "2017-09-11",
         "2017-09-19",
         -13.1,
         13.13
        ],
        [
         1735184,
         1151051235329,
         "Red Banks Motel",
         "2017-09-22",
         "2017-09-30",
         -12.7,
         18.75
        ],
        [
         1956439,
         1151051235329,
         "Red Banks Motel",
         "2017-09-22",
         "2017-09-30",
         -12.7,
         18.75
        ],
        [
         601476,
         395136991232,
         "Parkway Inn Jellico",
         "2017-08-20",
         "2017-09-11",
         -11.7,
         18.65
        ],
        [
         1138791,
         240518168576,
         "Hotel Deca - A Noble House Hotel",
         "2017-09-06",
         "2017-09-20",
         -11.7,
         16.37
        ],
        [
         1094881,
         566935683073,
         "Springhill Suites Columbia",
         "2016-10-11",
         "2016-10-19",
         11.6,
         17.2
        ],
        [
         1284653,
         1451698946051,
         "Riverside Motel and Cabins",
         "2017-09-09",
         "2017-09-17",
         -11.6,
         15.73
        ],
        [
         295137,
         120259084289,
         "Days Inn",
         "2016-10-16",
         "2016-10-24",
         -11.4,
         13.9
        ],
        [
         382735,
         1030792151042,
         "Progress Management Co",
         "2016-10-15",
         "2016-10-26",
         -11.4,
         11.8
        ],
        [
         1574080,
         987842478081,
         "Country Inn & Suites By Carlson",
         "2016-10-16",
         "2016-10-24",
         -11.4,
         13.9
        ],
        [
         1717840,
         1030792151042,
         "Progress Management Co",
         "2016-10-15",
         "2016-10-26",
         -11.4,
         11.8
        ],
        [
         1931131,
         987842478081,
         "Country Inn & Suites By Carlson",
         "2016-10-16",
         "2016-10-24",
         -11.4,
         13.9
        ],
        [
         2032303,
         120259084289,
         "Days Inn",
         "2016-10-16",
         "2016-10-24",
         -11.4,
         13.9
        ],
        [
         2507920,
         120259084289,
         "Days Inn",
         "2016-10-16",
         "2016-10-24",
         -11.4,
         13.9
        ],
        [
         328567,
         747324309508,
         "Twin Gables of Woodstock",
         "2016-10-18",
         "2016-10-29",
         -11.3,
         14.45
        ],
        [
         1161625,
         386547056644,
         "Hampton Inn Grand Junction Downtown/historic Main Street",
         "2017-09-10",
         "2017-09-27",
         -10.8,
         19
        ],
        [
         661917,
         970662608905,
         "Koehne Dexter Terrie",
         "2017-09-10",
         "2017-09-20",
         -10.7,
         18
        ],
        [
         39700,
         103079215107,
         "Monterey Beach Dunes Inn",
         "2017-09-03",
         "2017-09-13",
         -10.2,
         22.3
        ],
        [
         1808137,
         575525617665,
         "Alpine Motel",
         "2016-10-18",
         "2016-10-29",
         -10.1,
         14.15
        ],
        [
         683964,
         1219770712065,
         "Inroads Ireland Tours",
         "2016-10-11",
         "2016-10-20",
         -9.9,
         12.65
        ],
        [
         1736300,
         824633720839,
         "Budget Inn",
         "2016-10-09",
         "2016-10-19",
         9.8,
         19.2
        ],
        [
         1266432,
         137438953477,
         "Holiday Inn Express and Suites Gahanna/columbus Airport E",
         "2017-09-01",
         "2017-09-21",
         9.6,
         18.27
        ],
        [
         462703,
         283467841539,
         "Fairfield Inn Suites Chattanooga South/east Ridge",
         "2017-09-11",
         "2017-09-25",
         9.5,
         19.73
        ],
        [
         1237232,
         120259084291,
         "Econo Lodge Bellmawr",
         "2016-10-03",
         "2016-10-28",
         -9.5,
         13.77
        ],
        [
         1378934,
         1400159338499,
         "Garden of The Gods Club & Resort",
         "2016-10-19",
         "2016-10-28",
         9.4,
         1.4
        ],
        [
         1508673,
         1314259992576,
         "Fh Hotel Villa Fiesole",
         "2017-08-19",
         "2017-09-03",
         -9.4,
         21.55
        ],
        [
         2361885,
         2405181685764,
         "Hotel Manin",
         "2017-08-31",
         "2017-09-20",
         -9.4,
         18.67
        ],
        [
         2399053,
         3375844294666,
         "MiHotel",
         "2017-08-31",
         "2017-09-20",
         -9.4,
         18.67
        ],
        [
         2466066,
         1400159338499,
         "Garden of The Gods Club & Resort",
         "2016-10-19",
         "2016-10-28",
         9.4,
         1.4
        ],
        [
         1273919,
         68719476737,
         "Four Points By Sheraton Memphis Southwind",
         "2016-10-12",
         "2016-10-21",
         -9.3,
         17.25
        ],
        [
         1650097,
         472446402561,
         "Meadow Farm Bed and Breakfast",
         "2016-10-19",
         "2016-10-28",
         -9.3,
         6.85
        ],
        [
         2477458,
         395136991234,
         "Hitching Horse Inn",
         "2016-10-19",
         "2016-10-28",
         9.3,
         14.05
        ],
        [
         29296,
         1537598291970,
         "Comfort Inn",
         "2017-09-10",
         "2017-09-25",
         9.2,
         20.5
        ],
        [
         1418129,
         8589934596,
         "Homewood Suites By Hilton Albuquerque - Journal Center",
         "2017-09-11",
         "2017-09-28",
         -8.9,
         18.45
        ],
        [
         1137564,
         1494648619009,
         "Sheraton Baltimore North Hotels",
         "2016-10-18",
         "2016-10-27",
         -8.8,
         16.5
        ],
        [
         1167208,
         1365799600131,
         "Americas Best Value Inn",
         "2016-10-21",
         "2016-10-31",
         8.7,
         17.25
        ],
        [
         1655711,
         1511828488192,
         "Homewood Suites",
         "2016-10-04",
         "2016-10-16",
         8.7,
         14.75
        ],
        [
         1935205,
         1365799600131,
         "Americas Best Value Inn",
         "2016-10-21",
         "2016-10-31",
         8.7,
         17.25
        ],
        [
         1042970,
         34359738373,
         "Fitzgerald's Restaurant",
         "2016-10-11",
         "2016-10-21",
         -8.5,
         10.45
        ],
        [
         706310,
         1082331758595,
         "Hampton Inn Virginia Beach Oceanfront North",
         "2016-10-19",
         "2016-10-29",
         -8.4,
         17.53
        ],
        [
         1028385,
         901943132160,
         "Ambassadors Inn and Suites",
         "2016-10-19",
         "2016-10-29",
         -8.4,
         17.53
        ],
        [
         1051732,
         1597727834114,
         "Pine Motel",
         "2016-10-17",
         "2016-10-29",
         -8.4,
         14.77
        ],
        [
         2058003,
         1597727834114,
         "Pine Motel",
         "2016-10-17",
         "2016-10-29",
         -8.4,
         14.77
        ],
        [
         117869,
         137438953472,
         "The Citizen Hotel, Autograph Collection",
         "2017-08-19",
         "2017-09-02",
         8.3,
         26.65
        ],
        [
         731139,
         137438953472,
         "The Citizen Hotel, Autograph Collection",
         "2017-08-19",
         "2017-09-02",
         8.3,
         26.65
        ],
        [
         107522,
         781684047872,
         "Knights Inn",
         "2017-09-10",
         "2017-09-20",
         7.8,
         18.5
        ],
        [
         1436218,
         953482739712,
         "Columbia Gorge Riverside Lodge",
         "2017-08-09",
         "2017-08-17",
         -7.6,
         22.7
        ],
        [
         364112,
         970662608901,
         "Extended Stay America Princeton - West Windsor",
         "2017-09-07",
         "2017-09-24",
         7.5,
         18.4
        ],
        [
         2361863,
         1752346656777,
         "Hotel Portello Gruppo Minihotel",
         "2017-08-17",
         "2017-09-12",
         -7.5,
         22.4
        ],
        [
         1875137,
         876173328384,
         "Econo Lodge St Robert",
         "2017-09-10",
         "2017-09-20",
         7.4,
         23.5
        ],
        [
         1935300,
         876173328389,
         "Greenstay Hotel and Suites",
         "2017-09-13",
         "2017-09-20",
         7.4,
         21.93
        ],
        [
         2411004,
         876173328389,
         "Greenstay Hotel and Suites",
         "2017-09-13",
         "2017-09-20",
         7.4,
         21.93
        ],
        [
         1258918,
         1133871366145,
         "Wyndham Resort At Fairfield Mountains",
         "2016-10-15",
         "2016-10-22",
         -7.3,
         14.6
        ],
        [
         1402376,
         1133871366145,
         "Wyndham Resort At Fairfield Mountains",
         "2016-10-15",
         "2016-10-22",
         -7.3,
         14.6
        ],
        [
         1781621,
         60129542148,
         "Americas Best Value Inn",
         "2017-08-26",
         "2017-09-10",
         -7.2,
         22.63
        ],
        [
         2010829,
         1331439861764,
         "Terry Peak Ski Area",
         "2016-10-19",
         "2016-10-26",
         7.2,
         7.23
        ],
        [
         86475,
         747324309509,
         "Americas Best Value Inn",
         "2016-10-20",
         "2016-10-27",
         7.1,
         11.65
        ],
        [
         1158845,
         747324309509,
         "Americas Best Value Inn",
         "2016-10-20",
         "2016-10-27",
         7.1,
         11.65
        ],
        [
         1181749,
         1597727834112,
         "Clarion",
         "2017-09-13",
         "2017-09-21",
         7.1,
         20.25
        ],
        [
         2212720,
         1082331758594,
         "Hampton Inn and Suites Annapolis",
         "2017-09-23",
         "2017-09-30",
         -7,
         20.52
        ],
        [
         24328,
         506806140931,
         "Courtyard Columbus Worthington",
         "2017-08-18",
         "2017-08-25",
         -6.9,
         20.25
        ],
        [
         1772482,
         798863917060,
         "Bear Cove Inn",
         "2017-09-18",
         "2017-09-25",
         6.9,
         18.85
        ],
        [
         599465,
         1700807049218,
         "Holiday Inn Express & Suites West Monroe",
         "2016-10-14",
         "2016-10-21",
         -6.8,
         20.33
        ],
        [
         2417350,
         858993459207,
         "Rodeway Inn Near Venice Beach",
         "2017-09-01",
         "2017-09-12",
         -6.8,
         24.5
        ],
        [
         1451396,
         1391569403904,
         "Hotel De La Ville",
         "2016-10-04",
         "2016-10-12",
         -6.7,
         10.95
        ],
        [
         1851441,
         1047972020226,
         "Country Inn & Suites By Carlson",
         "2016-10-18",
         "2016-10-25",
         -6.7,
         18.45
        ],
        [
         2258383,
         1047972020226,
         "Country Inn & Suites By Carlson",
         "2016-10-18",
         "2016-10-25",
         -6.7,
         18.45
        ],
        [
         26479,
         919123001345,
         "Hampton Inn",
         "2016-10-16",
         "2016-10-25",
         -6.6,
         17.6
        ],
        [
         124284,
         1202590842888,
         "Sportsmen's Lodge",
         "2016-10-09",
         "2016-10-17",
         -6.6,
         20.7
        ],
        [
         428343,
         1065151889409,
         "Budget Inn",
         "2017-09-22",
         "2017-09-29",
         -6.6,
         13.6
        ],
        [
         471843,
         1065151889409,
         "Budget Inn",
         "2017-09-22",
         "2017-09-29",
         -6.6,
         13.6
        ],
        [
         749472,
         1460288880646,
         "Spring Bay Inn",
         "2017-08-03",
         "2017-08-17",
         -6.6,
         16.33
        ],
        [
         868339,
         1202590842888,
         "Sportsmen's Lodge",
         "2016-10-09",
         "2016-10-17",
         -6.6,
         20.7
        ],
        [
         1490352,
         1305670057990,
         "Hampton Inn Abilene",
         "2017-09-07",
         "2017-09-16",
         6.6,
         25.1
        ],
        [
         52491,
         1597727834114,
         "Pine Motel",
         "2016-10-17",
         "2016-10-24",
         -6.4,
         16.5
        ],
        [
         425364,
         936302870528,
         "Tulip Inn Turin West",
         "2017-08-02",
         "2017-08-10",
         -6.4,
         24.4
        ],
        [
         141006,
         661424963589,
         "Econo Lodge",
         "2016-10-03",
         "2016-10-11",
         -6.2,
         12.7
        ],
        [
         513695,
         1632087572481,
         "Skidway Lake Motel",
         "2017-08-18",
         "2017-08-25",
         -6.2,
         16.2
        ],
        [
         568090,
         1640677507073,
         "Holiday Inn Express Grove City (outlet Center)",
         "2016-10-03",
         "2016-10-10",
         -6.2,
         11.3
        ],
        [
         859834,
         1632087572481,
         "Skidway Lake Motel",
         "2017-08-18",
         "2017-08-25",
         -6.2,
         16.2
        ],
        [
         1819082,
         1632087572481,
         "Skidway Lake Motel",
         "2017-08-18",
         "2017-08-25",
         -6.2,
         16.2
        ],
        [
         125046,
         146028888072,
         "Rodeway Inn Airport",
         "2017-08-01",
         "2017-08-17",
         -6.1,
         25.35
        ],
        [
         1359587,
         3418793967627,
         "The Hub Hotel",
         "2017-08-15",
         "2017-09-03",
         -6.1,
         20.75
        ],
        [
         664363,
         1159641169921,
         "Days Inn Berea Ky",
         "2017-08-21",
         "2017-09-01",
         -6,
         21
        ],
        [
         1409813,
         635655159808,
         "Motel 6",
         "2017-08-28",
         "2017-09-08",
         -6,
         25.2
        ],
        [
         1436804,
         1047972020226,
         "Country Inn & Suites By Carlson",
         "2016-10-10",
         "2016-10-18",
         6,
         18.8
        ],
        [
         1903757,
         635655159808,
         "Motel 6",
         "2017-08-28",
         "2017-09-08",
         -6,
         25.2
        ],
        [
         2165445,
         1709396983811,
         "La Quinta Inn and Suites Nashville Franklin",
         "2017-08-05",
         "2017-08-17",
         6,
         24.07
        ],
        [
         2192945,
         858993459204,
         "Comfort Suites Mount Vernon",
         "2017-08-26",
         "2017-09-07",
         -6,
         18.8
        ],
        [
         484366,
         188978561025,
         "Hyatt Centric Arlington",
         "2017-08-17",
         "2017-08-25",
         -5.9,
         23.45
        ],
        [
         2256920,
         687194767364,
         "Holiday Inn",
         "2016-10-08",
         "2016-10-19",
         5.9,
         19.15
        ],
        [
         116713,
         1168231104512,
         "Days Inn & Suites Vicksburg",
         "2017-09-07",
         "2017-09-15",
         5.8,
         22.3
        ],
        [
         411229,
         1030792151042,
         "Progress Management Co",
         "2017-09-08",
         "2017-09-21",
         5.8,
         19.03
        ],
        [
         600494,
         1597727834112,
         "Clarion",
         "2017-09-06",
         "2017-09-21",
         5.8,
         19.3
        ],
        [
         853908,
         1168231104512,
         "Days Inn & Suites Vicksburg",
         "2017-09-07",
         "2017-09-15",
         5.8,
         22.3
        ],
        [
         1128708,
         858993459204,
         "Comfort Suites Mount Vernon",
         "2016-10-03",
         "2016-10-25",
         -5.8,
         15
        ],
        [
         1494556,
         1331439861764,
         "Terry Peak Ski Area",
         "2016-10-18",
         "2016-10-26",
         5.8,
         6.13
        ],
        [
         1717092,
         1331439861764,
         "Terry Peak Ski Area",
         "2016-10-18",
         "2016-10-26",
         5.8,
         6.13
        ],
        [
         1875151,
         1331439861764,
         "Terry Peak Ski Area",
         "2016-10-18",
         "2016-10-26",
         5.8,
         6.13
        ],
        [
         35577,
         2001454759944,
         "Hotel Dei Cavalieri",
         "2017-08-31",
         "2017-09-12",
         -5.7,
         20.85
        ],
        [
         111829,
         2310692405259,
         "UNA Hotel Mediterraneo",
         "2017-08-31",
         "2017-09-12",
         -5.7,
         20.85
        ],
        [
         163334,
         3393024163849,
         "TownHouse 12",
         "2017-08-31",
         "2017-09-12",
         -5.7,
         20.85
        ],
        [
         240827,
         566935683073,
         "Springhill Suites Columbia",
         "2017-08-25",
         "2017-09-02",
         -5.7,
         17.75
        ],
        [
         270538,
         3358664425480,
         "Hotel Mediolanum",
         "2017-08-31",
         "2017-09-12",
         -5.7,
         20.85
        ],
        [
         273498,
         1717986918405,
         "Hotel Crivi s",
         "2017-08-31",
         "2017-09-12",
         -5.7,
         20.85
        ],
        [
         365045,
         2551210573833,
         "STRAF a Member of Design Hotels",
         "2017-08-31",
         "2017-09-12",
         -5.7,
         20.85
        ],
        [
         505625,
         2448131358726,
         "Hotel Michelangelo",
         "2017-08-31",
         "2017-09-12",
         -5.7,
         20.85
        ],
        [
         520252,
         1769526525962,
         "TownHouse Duomo",
         "2017-08-31",
         "2017-09-12",
         -5.7,
         20.85
        ],
        [
         568545,
         3393024163851,
         "Hotel Magna Pars Small Luxury Hotels of the World",
         "2017-08-31",
         "2017-09-12",
         -5.7,
         20.85
        ],
        [
         587758,
         3272765079554,
         "Uptown Palace",
         "2017-08-31",
         "2017-09-12",
         -5.7,
         20.85
        ],
        [
         801741,
         2817498546184,
         "Admiral Hotel",
         "2017-08-31",
         "2017-09-12",
         -5.7,
         20.85
        ],
        [
         959505,
         1795296329735,
         "Windsor Hotel Milano",
         "2017-08-31",
         "2017-09-12",
         -5.7,
         20.85
        ],
        [
         960882,
         970662608906,
         "Americas Best Value Inn",
         "2016-10-13",
         "2016-10-20",
         -5.7,
         12.5
        ],
        [
         1001301,
         2542620639237,
         "Ibis Styles Milano Palmanova",
         "2017-08-31",
         "2017-09-12",
         -5.7,
         20.85
        ],
        [
         1017833,
         3255585210375,
         "Hotel Raffaello",
         "2017-08-31",
         "2017-09-12",
         -5.7,
         20.85
        ],
        [
         1029558,
         3195455668228,
         "TownHouse Galleria",
         "2017-08-31",
         "2017-09-12",
         -5.7,
         20.85
        ],
        [
         1183624,
         2568390443017,
         "IH Hotels Milano Gioia",
         "2017-08-31",
         "2017-09-12",
         -5.7,
         20.85
        ],
        [
         1256405,
         1365799600129,
         "Towneplace Suites Albany University Area",
         "2017-08-16",
         "2017-08-27",
         -5.7,
         18.45
        ],
        [
         1262007,
         2181843386378,
         "Hotel Carrobbio",
         "2017-08-31",
         "2017-09-12",
         -5.7,
         20.85
        ],
        [
         1285697,
         137438953475,
         "Ambiance",
         "2017-08-16",
         "2017-08-31",
         -5.7,
         21.75
        ],
        [
         1303590,
         996432412676,
         "Red Carpet Inn",
         "2016-10-03",
         "2016-10-30",
         -5.7,
         14.34
        ],
        [
         1309115,
         2817498546185,
         "Nhow Milan",
         "2017-08-31",
         "2017-09-12",
         -5.7,
         20.85
        ],
        [
         1366343,
         2473901162501,
         "Sina De La Ville",
         "2017-08-31",
         "2017-09-12",
         -5.7,
         20.85
        ],
        [
         1370383,
         2826088480776,
         "TownHouse 33",
         "2017-08-31",
         "2017-09-12",
         -5.7,
         20.85
        ],
        [
         1373559,
         1975684956170,
         "Hotel Sunflower",
         "2017-08-31",
         "2017-09-12",
         -5.7,
         20.85
        ],
        [
         1457540,
         446676598787,
         "Hampton Inn Suites Columbus",
         "2016-10-19",
         "2016-10-26",
         -5.7,
         22.47
        ],
        [
         1466417,
         2473901162501,
         "Sina De La Ville",
         "2017-08-31",
         "2017-09-12",
         -5.7,
         20.85
        ],
        [
         1670217,
         2199023255557,
         "Best Western Hotel Mirage",
         "2017-08-31",
         "2017-09-12",
         -5.7,
         20.85
        ],
        [
         1781326,
         3315714752517,
         "Best Western Hotel St George",
         "2017-08-31",
         "2017-09-12",
         -5.7,
         20.85
        ],
        [
         1816317,
         2680059592705,
         "Hotel VIU Milan",
         "2017-08-31",
         "2017-09-12",
         -5.7,
         20.85
        ],
        [
         1938322,
         1425929142275,
         "H��tel Marinca and Spa",
         "2017-08-28",
         "2017-09-06",
         -5.7,
         22.85
        ],
        [
         1957218,
         2138893713412,
         "Hotel Principe Di Savoia",
         "2017-08-31",
         "2017-09-12",
         -5.7,
         20.85
        ],
        [
         1959694,
         446676598787,
         "Hampton Inn Suites Columbus",
         "2016-10-19",
         "2016-10-26",
         -5.7,
         22.47
        ],
        [
         2040190,
         1425929142275,
         "H��tel Marinca and Spa",
         "2017-08-28",
         "2017-09-06",
         -5.7,
         22.85
        ],
        [
         2181698,
         2723009265672,
         "NH Milano Grand Hotel Verdi",
         "2017-08-31",
         "2017-09-12",
         -5.7,
         20.85
        ],
        [
         2182804,
         2534030704645,
         "Best Western Plus Hotel Galles",
         "2017-08-31",
         "2017-09-12",
         -5.7,
         20.85
        ],
        [
         2197501,
         2147483648005,
         "Starhotels Business Palace",
         "2017-08-31",
         "2017-09-12",
         -5.7,
         20.85
        ],
        [
         2522192,
         2156073582601,
         "Hotel Dieci",
         "2017-08-31",
         "2017-09-12",
         -5.7,
         20.85
        ],
        [
         347123,
         592705486848,
         "Country Lodge Motel",
         "2016-10-19",
         "2016-10-26",
         -5.6,
         8.5
        ],
        [
         481871,
         1013612281859,
         "Super 8 Pittsburgh/monroeville",
         "2016-10-08",
         "2016-10-19",
         5.6,
         14.7
        ],
        [
         1322880,
         214748364801,
         "Super 8 Indianapolis",
         "2016-10-19",
         "2016-10-31",
         -5.6,
         15.9
        ],
        [
         1851165,
         592705486848,
         "Country Lodge Motel",
         "2016-10-19",
         "2016-10-26",
         -5.6,
         8.5
        ],
        [
         1925765,
         1013612281859,
         "Super 8 Pittsburgh/monroeville",
         "2016-10-08",
         "2016-10-19",
         5.6,
         14.7
        ],
        [
         249787,
         283467841539,
         "Fairfield Inn Suites Chattanooga South/east Ridge",
         "2016-10-10",
         "2016-10-20",
         5.5,
         19.85
        ],
        [
         484421,
         1219770712066,
         "Hotel Millersburg",
         "2017-09-04",
         "2017-09-11",
         -5.5,
         15.6
        ],
        [
         495372,
         1219770712066,
         "Hotel Millersburg",
         "2017-09-04",
         "2017-09-11",
         -5.5,
         15.6
        ],
        [
         955344,
         1219770712066,
         "Hotel Millersburg",
         "2017-09-11",
         "2017-09-18",
         5.5,
         18.35
        ],
        [
         1048016,
         283467841539,
         "Fairfield Inn Suites Chattanooga South/east Ridge",
         "2016-10-10",
         "2016-10-20",
         5.5,
         19.85
        ],
        [
         1581973,
         1219770712066,
         "Hotel Millersburg",
         "2017-09-04",
         "2017-09-11",
         -5.5,
         15.6
        ],
        [
         1248698,
         1151051235329,
         "Red Banks Motel",
         "2017-08-07",
         "2017-09-02",
         -5.4,
         18.94
        ],
        [
         2389924,
         876173328389,
         "Greenstay Hotel and Suites",
         "2016-10-08",
         "2016-10-27",
         5.4,
         15.76
        ],
        [
         532023,
         8589934595,
         "Spinners Tailspin Inn",
         "2017-09-19",
         "2017-09-29",
         -5.3,
         17.95
        ],
        [
         555915,
         42949672964,
         "Intercontinental Hotels Resorts",
         "2017-08-02",
         "2017-08-17",
         -5.3,
         20.75
        ],
        [
         905289,
         1133871366144,
         "Best Western Plus Waterville Grand Hotel",
         "2017-09-01",
         "2017-09-18",
         5.3,
         14.97
        ],
        [
         1011846,
         1417339207680,
         "Holiday Inn Express & Suites Portland",
         "2017-09-07",
         "2017-09-15",
         5.3,
         15.87
        ],
        [
         1219305,
         386547056644,
         "Hampton Inn Grand Junction Downtown/historic Main Street",
         "2016-10-20",
         "2016-10-27",
         5.3,
         10.75
        ],
        [
         1624774,
         386547056644,
         "Hampton Inn Grand Junction Downtown/historic Main Street",
         "2016-10-20",
         "2016-10-27",
         5.3,
         10.75
        ],
        [
         1860109,
         8589934595,
         "Spinners Tailspin Inn",
         "2017-09-19",
         "2017-09-29",
         -5.3,
         17.95
        ],
        [
         346929,
         1494648619008,
         "Econo Lodge Big Spring",
         "2017-09-06",
         "2017-09-17",
         5.2,
         25.63
        ],
        [
         350826,
         1709396983811,
         "La Quinta Inn and Suites Nashville Franklin",
         "2016-10-11",
         "2016-10-21",
         -5.2,
         17.93
        ],
        [
         592292,
         1142461300736,
         "Extended Stay America - Rockford - I-90",
         "2017-08-12",
         "2017-08-21",
         5.2,
         20.3
        ],
        [
         2009240,
         1709396983811,
         "La Quinta Inn and Suites Nashville Franklin",
         "2016-10-11",
         "2016-10-21",
         -5.2,
         17.93
        ],
        [
         38946,
         790273982464,
         "Close For You",
         "2017-08-06",
         "2017-08-15",
         5.1,
         20.65
        ],
        [
         46099,
         858993459204,
         "Comfort Suites Mount Vernon",
         "2017-08-24",
         "2017-09-07",
         -5.1,
         19.5
        ],
        [
         888474,
         1374389534724,
         "America's Best Value Inn",
         "2017-08-16",
         "2017-08-28",
         -5.1,
         27.83
        ],
        [
         1911424,
         858993459205,
         "La Quinta",
         "2017-08-04",
         "2017-08-12",
         -5.1,
         21.65
        ],
        [
         2030266,
         790273982464,
         "Close For You",
         "2017-08-06",
         "2017-08-15",
         5.1,
         20.65
        ],
        [
         2043123,
         1614907703296,
         "Sportsmen Motel",
         "2017-08-11",
         "2017-08-20",
         -5.1,
         17.7
        ],
        [
         2437342,
         111669149696,
         "Comfort Suites",
         "2017-09-12",
         "2017-09-20",
         5.1,
         25.45
        ],
        [
         1270151,
         936302870530,
         "Arion",
         "2017-08-11",
         "2017-08-25",
         -5,
         28.3
        ],
        [
         1454599,
         962072674310,
         "Holiday Inn Express",
         "2017-08-16",
         "2017-08-27",
         -5,
         23.1
        ],
        [
         1569635,
         292057776130,
         "Best Western",
         "2017-09-13",
         "2017-09-20",
         -5,
         22.37
        ],
        [
         1998940,
         292057776130,
         "Best Western",
         "2017-09-13",
         "2017-09-20",
         -5,
         22.37
        ],
        [
         2026315,
         962072674310,
         "Holiday Inn Express",
         "2017-08-16",
         "2017-08-27",
         -5,
         23.1
        ],
        [
         580788,
         1185410973700,
         "Sky-lit Motel",
         "2017-09-17",
         "2017-09-25",
         4.9,
         21.15
        ],
        [
         610708,
         1288490188802,
         "Comfort Hotel Bernau",
         "2017-08-14",
         "2017-08-22",
         -4.9,
         15.35
        ],
        [
         778364,
         1288490188802,
         "Comfort Hotel Bernau",
         "2017-08-14",
         "2017-08-22",
         -4.9,
         15.35
        ],
        [
         790014,
         515396075526,
         "Holiday Inn & Suites Green Bay Stadium",
         "2017-09-17",
         "2017-09-25",
         4.9,
         21.15
        ],
        [
         1155103,
         1151051235333,
         "Clarion Suites Philadelphia",
         "2016-10-05",
         "2016-10-21",
         4.9,
         17.85
        ],
        [
         1175542,
         609885356032,
         "Springhill Suites",
         "2016-10-19",
         "2016-10-29",
         -4.9,
         20.65
        ],
        [
         2280749,
         85899345920,
         "Holiday Inn Lumberton North - I-95",
         "2016-10-12",
         "2016-10-20",
         4.9,
         19.95
        ],
        [
         258372,
         1322849927170,
         "Super 8 Manhattan Ks",
         "2017-09-03",
         "2017-09-30",
         -4.8,
         23.83
        ],
        [
         1046923,
         17179869184,
         "Days Inn Brookings",
         "2016-10-12",
         "2016-10-21",
         4.8,
         5.5
        ],
        [
         1118182,
         128849018889,
         "Comfort Inn",
         "2016-10-19",
         "2016-10-29",
         -4.8,
         21
        ],
        [
         1609135,
         1005022347265,
         "Comfort Inn",
         "2017-09-20",
         "2017-09-29",
         -4.8,
         17.8
        ],
        [
         1619537,
         541165879298,
         "Savaii Roberts Motels",
         "2016-10-16",
         "2016-10-26",
         -4.8,
         21.53
        ],
        [
         1681735,
         1357209665538,
         "Marylander Hotel Condo",
         "2017-08-16",
         "2017-08-27",
         -4.8,
         22.8
        ],
        [
         1192982,
         1554778161154,
         "Days Inn Fort Wayne",
         "2017-08-29",
         "2017-09-09",
         -4.7,
         16.45
        ],
        [
         1537055,
         549755813890,
         "Uptown Motel",
         "2017-09-17",
         "2017-09-24",
         -4.7,
         9.1
        ],
        [
         2095222,
         996432412673,
         "Americinn Lodge and Suites",
         "2017-09-17",
         "2017-09-24",
         -4.7,
         9.1
        ],
        [
         271820,
         8589934592,
         "Cadillac Motel",
         "2016-10-16",
         "2016-10-31",
         -4.6,
         13.4
        ],
        [
         447748,
         17179869186,
         "Americinn Lodge Suites Austin",
         "2017-09-16",
         "2017-09-23",
         4.6,
         23.1
        ],
        [
         957444,
         1571958030338,
         "Sterling Motel",
         "2017-09-16",
         "2017-09-23",
         4.6,
         23.1
        ],
        [
         1609620,
         566935683074,
         "Deluxe Inn Merrillville",
         "2017-09-15",
         "2017-09-22",
         4.6,
         23.9
        ],
        [
         1955582,
         893353197570,
         "Microtel Inn By Wyndham Knoxville",
         "2017-09-16",
         "2017-09-30",
         -4.6,
         19.7
        ],
        [
         2301375,
         893353197570,
         "Microtel Inn By Wyndham Knoxville",
         "2017-09-16",
         "2017-09-30",
         -4.6,
         19.7
        ],
        [
         204546,
         1056561954820,
         "Clubhouse At River Country Est",
         "2017-08-20",
         "2017-08-29",
         -4.5,
         19
        ],
        [
         315303,
         962072674306,
         "Americas Best Value Inn",
         "2017-08-20",
         "2017-08-27",
         -4.5,
         20.55
        ],
        [
         323993,
         120259084292,
         "Fairfield Inn and Suites By Marriott Idaho Falls",
         "2017-08-14",
         "2017-08-22",
         4.5,
         18.97
        ],
        [
         542598,
         120259084292,
         "Fairfield Inn and Suites By Marriott Idaho Falls",
         "2017-08-14",
         "2017-08-22",
         4.5,
         18.97
        ],
        [
         936845,
         747324309509,
         "Americas Best Value Inn",
         "2016-10-01",
         "2016-10-08",
         -4.5,
         14.45
        ],
        [
         947185,
         824633720839,
         "Budget Inn",
         "2016-10-19",
         "2016-10-29",
         -4.5,
         21.85
        ],
        [
         1037706,
         266287972356,
         "Comfort Inn and Suites Bend",
         "2017-08-10",
         "2017-08-18",
         -4.5,
         21.05
        ],
        [
         1553682,
         1425929142275,
         "H��tel Marinca and Spa",
         "2017-08-20",
         "2017-08-28",
         4.5,
         23.45
        ],
        [
         1570597,
         266287972356,
         "Comfort Inn and Suites Bend",
         "2017-08-10",
         "2017-08-18",
         -4.5,
         21.05
        ],
        [
         2081751,
         309237645314,
         "Quality Inn",
         "2017-08-25",
         "2017-09-06",
         -4.5,
         20.25
        ],
        [
         2235316,
         1425929142275,
         "H��tel Marinca and Spa",
         "2017-08-20",
         "2017-08-28",
         4.5,
         23.45
        ],
        [
         2473878,
         1357209665536,
         "Comfort Inn",
         "2017-08-12",
         "2017-08-20",
         4.5,
         22.35
        ],
        [
         341490,
         1468878815239,
         "Super 8 Schenect/albany Area",
         "2017-09-13",
         "2017-09-24",
         4.4,
         19.9
        ],
        [
         348409,
         1400159338499,
         "Garden of The Gods Club & Resort",
         "2017-09-17",
         "2017-09-25",
         -4.4,
         0.9
        ],
        [
         388163,
         1400159338499,
         "Garden of The Gods Club & Resort",
         "2017-09-17",
         "2017-09-25",
         -4.4,
         0.9
        ],
        [
         722965,
         1400159338499,
         "Garden of The Gods Club & Resort",
         "2017-09-17",
         "2017-09-25",
         -4.4,
         0.9
        ],
        [
         890125,
         1425929142276,
         "Avalon Hotel Group",
         "2017-08-26",
         "2017-09-06",
         -4.4,
         25.25
        ],
        [
         1401809,
         103079215106,
         "Bethesda Gardens",
         "2017-08-13",
         "2017-08-20",
         4.4,
         24.5
        ],
        [
         1642949,
         103079215106,
         "Bethesda Gardens",
         "2017-08-13",
         "2017-08-20",
         4.4,
         24.5
        ],
        [
         2032741,
         876173328389,
         "Greenstay Hotel and Suites",
         "2017-08-20",
         "2017-08-27",
         -4.4,
         24.1
        ],
        [
         2288376,
         128849018883,
         "Sci�� On Martin",
         "2017-08-20",
         "2017-08-30",
         4.4,
         23.3
        ],
        [
         2374652,
         876173328389,
         "Greenstay Hotel and Suites",
         "2017-08-20",
         "2017-08-27",
         -4.4,
         24.1
        ],
        [
         2397553,
         103079215106,
         "Bethesda Gardens",
         "2017-08-13",
         "2017-08-20",
         4.4,
         24.5
        ],
        [
         128369,
         1202590842880,
         "Janmere Motel",
         "2017-08-28",
         "2017-09-16",
         4.3,
         17.97
        ],
        [
         978708,
         1219770712066,
         "Hotel Millersburg",
         "2016-10-09",
         "2016-10-25",
         -4.3,
         8.45
        ],
        [
         1714452,
         515396075526,
         "Holiday Inn & Suites Green Bay Stadium",
         "2017-08-12",
         "2017-08-25",
         -4.3,
         18.55
        ],
        [
         610269,
         1056561954820,
         "Clubhouse At River Country Est",
         "2017-08-23",
         "2017-09-03",
         -4.2,
         17.5
        ],
        [
         656589,
         1168231104517,
         "Quality Inn Gulfport",
         "2017-09-09",
         "2017-09-20",
         4.2,
         24.73
        ],
        [
         985249,
         824633720841,
         "Residence Inn By Marriott Tucson Williams Centre",
         "2017-08-13",
         "2017-08-31",
         4.2,
         29.8
        ],
        [
         1434156,
         111669149696,
         "Comfort Suites",
         "2017-09-03",
         "2017-09-12",
         -4.2,
         25
        ],
        [
         373066,
         1425929142276,
         "Avalon Hotel Group",
         "2016-10-17",
         "2016-10-26",
         -4.1,
         22.65
        ],
        [
         2108230,
         1151051235329,
         "Red Banks Motel",
         "2017-09-02",
         "2017-09-17",
         4.1,
         15.6
        ],
        [
         97289,
         1417339207689,
         "Lazy T Motel",
         "2016-10-07",
         "2016-10-14",
         4,
         19.9
        ],
        [
         267570,
         1417339207689,
         "Lazy T Motel",
         "2016-10-07",
         "2016-10-14",
         4,
         19.9
        ],
        [
         1954800,
         463856467971,
         "Courtyard San Marcos",
         "2017-08-20",
         "2017-08-30",
         -4,
         28.1
        ],
        [
         2014864,
         197568495617,
         "Fairfield Inn & Suites Peoria East",
         "2017-09-18",
         "2017-09-25",
         4,
         23.27
        ],
        [
         2065399,
         498216206340,
         "Liberty Lodge",
         "2017-09-04",
         "2017-09-11",
         4,
         16.1
        ],
        [
         2185576,
         498216206340,
         "Liberty Lodge",
         "2017-09-04",
         "2017-09-11",
         4,
         16.1
        ],
        [
         2465134,
         841813590022,
         "Brookside Motel",
         "2017-08-01",
         "2017-08-08",
         -4,
         18.2
        ],
        [
         2511526,
         197568495617,
         "Fairfield Inn & Suites Peoria East",
         "2017-09-18",
         "2017-09-25",
         4,
         23.27
        ],
        [
         703773,
         103079215106,
         "Bethesda Gardens",
         "2017-08-07",
         "2017-08-15",
         3.9,
         23.13
        ],
        [
         1843160,
         1529008357379,
         "Shamrock Hill Inn",
         "2016-10-12",
         "2016-10-24",
         -3.9,
         8.65
        ],
        [
         123314,
         1297080123397,
         "Wingate By Wyndham Chantilly / Dulles Airport",
         "2016-10-05",
         "2016-10-14",
         -3.8,
         13.1
        ],
        [
         1783994,
         1013612281862,
         "Homewood Suites",
         "2017-08-09",
         "2017-08-18",
         3.8,
         21.67
        ],
        [
         1803080,
         292057776131,
         "Homewood Suites By Hilton Indpls Airport / Plainfield In",
         "2017-08-30",
         "2017-09-08",
         -3.8,
         19.5
        ],
        [
         2028732,
         1013612281862,
         "Homewood Suites",
         "2017-08-09",
         "2017-08-18",
         3.8,
         21.67
        ],
        [
         29886,
         1752346656776,
         "Andreola Central Hotel",
         "2017-09-12",
         "2017-09-20",
         -3.7,
         16.15
        ],
        [
         56366,
         2774548873220,
         "Sina The Gray",
         "2017-09-12",
         "2017-09-20",
         -3.7,
         16.15
        ],
        [
         106195,
         3169685864453,
         "Novotel Milano Nord Ca Granda",
         "2017-09-12",
         "2017-09-20",
         -3.7,
         16.15
        ],
        [
         126392,
         2405181685764,
         "Hotel Manin",
         "2017-09-12",
         "2017-09-20",
         -3.7,
         16.15
        ],
        [
         153104,
         3015067041794,
         "Antares Hotel Rubens",
         "2017-09-12",
         "2017-09-20",
         -3.7,
         16.15
        ],
        [
         167704,
         2817498546185,
         "Nhow Milan",
         "2017-09-12",
         "2017-09-20",
         -3.7,
         16.15
        ],
        [
         202541,
         3066606649354,
         "Hotel La Spezia Gruppo MiniHotel",
         "2017-09-12",
         "2017-09-20",
         -3.7,
         16.15
        ],
        [
         211722,
         2181843386378,
         "Hotel Carrobbio",
         "2017-09-12",
         "2017-09-20",
         -3.7,
         16.15
        ],
        [
         284387,
         2267742732299,
         "IH Hotels Milano Puccini",
         "2017-09-12",
         "2017-09-20",
         -3.7,
         16.15
        ],
        [
         286480,
         2181843386378,
         "Hotel Carrobbio",
         "2017-09-12",
         "2017-09-20",
         -3.7,
         16.15
        ],
        [
         292612,
         3049426780170,
         "Hotel Mozart",
         "2017-09-12",
         "2017-09-20",
         -3.7,
         16.15
        ],
        [
         294813,
         1726576852997,
         "Hotel Galileo",
         "2017-09-12",
         "2017-09-20",
         -3.7,
         16.15
        ],
        [
         325879,
         3169685864453,
         "Novotel Milano Nord Ca Granda",
         "2017-09-12",
         "2017-09-20",
         -3.7,
         16.15
        ],
        [
         385846,
         2723009265672,
         "NH Milano Grand Hotel Verdi",
         "2017-09-12",
         "2017-09-20",
         -3.7,
         16.15
        ],
        [
         399146,
         3204045602824,
         "Ramada Plaza Milano",
         "2017-09-12",
         "2017-09-20",
         -3.7,
         16.15
        ],
        [
         415779,
         2740189134853,
         "Palazzo Parigi Hotel Grand Spa Milano",
         "2017-09-12",
         "2017-09-20",
         -3.7,
         16.15
        ],
        [
         464698,
         2499670966279,
         "Hotel D Este",
         "2017-09-12",
         "2017-09-20",
         -3.7,
         16.15
        ],
        [
         505053,
         3401614098439,
         "Hotel Spadari Al Duomo",
         "2017-09-12",
         "2017-09-20",
         -3.7,
         16.15
        ],
        [
         506776,
         2259152797704,
         "Sheraton Diana Majestic",
         "2017-09-12",
         "2017-09-20",
         -3.7,
         16.15
        ],
        [
         560592,
         2534030704645,
         "Best Western Plus Hotel Galles",
         "2017-09-12",
         "2017-09-20",
         -3.7,
         16.15
        ],
        [
         579383,
         1778116460554,
         "Atahotel Contessa Jolanda",
         "2017-09-12",
         "2017-09-20",
         -3.7,
         16.15
        ],
        [
         581526,
         2138893713413,
         "TH Street Duomo",
         "2017-09-12",
         "2017-09-20",
         -3.7,
         16.15
        ],
        [
         587462,
         2542620639236,
         "Meli Milano",
         "2017-09-12",
         "2017-09-20",
         -3.7,
         16.15
        ],
        [
         601332,
         2250562863106,
         "Maison Borella",
         "2017-09-12",
         "2017-09-20",
         -3.7,
         16.15
        ],
        [
         637385,
         2765958938631,
         "Hotel Santa Marta Suites",
         "2017-09-12",
         "2017-09-20",
         -3.7,
         16.15
        ],
        [
         668549,
         1932735283203,
         "Petit Palais Hotel De Charme",
         "2017-09-12",
         "2017-09-20",
         -3.7,
         16.15
        ],
        [
         764530,
         3195455668228,
         "TownHouse Galleria",
         "2017-09-12",
         "2017-09-20",
         -3.7,
         16.15
        ],
        [
         780128,
         2723009265672,
         "NH Milano Grand Hotel Verdi",
         "2017-09-12",
         "2017-09-20",
         -3.7,
         16.15
        ],
        [
         786763,
         3324304687113,
         "Milan Suite Hotel",
         "2017-09-12",
         "2017-09-20",
         -3.7,
         16.15
        ],
        [
         791618,
         3324304687114,
         "Milan Marriott Hotel",
         "2017-09-12",
         "2017-09-20",
         -3.7,
         16.15
        ],
        [
         817161,
         3178275799050,
         "Hotel Mentana",
         "2017-09-12",
         "2017-09-20",
         -3.7,
         16.15
        ],
        [
         875489,
         996432412679,
         "Simoni's Fremont Inn",
         "2017-09-19",
         "2017-09-27",
         3.7,
         21.25
        ],
        [
         880603,
         2138893713412,
         "Hotel Principe Di Savoia",
         "2017-09-12",
         "2017-09-20",
         -3.7,
         16.15
        ],
        [
         897093,
         2070174236676,
         "Hotel Manzoni",
         "2017-09-12",
         "2017-09-20",
         -3.7,
         16.15
        ],
        [
         981907,
         2310692405259,
         "UNA Hotel Mediterraneo",
         "2017-09-12",
         "2017-09-20",
         -3.7,
         16.15
        ],
        [
         1005032,
         2259152797704,
         "Sheraton Diana Majestic",
         "2017-09-12",
         "2017-09-20",
         -3.7,
         16.15
        ],
        [
         1011327,
         1795296329734,
         "Enterprise Hotel Design Boutique",
         "2017-09-12",
         "2017-09-20",
         -3.7,
         16.15
        ],
        [
         1094345,
         807453851650,
         "Bailey Hotel",
         "2016-10-17",
         "2016-10-31",
         -3.7,
         22.15
        ],
        [
         1097772,
         3384434229250,
         "Hotel Lloyd",
         "2017-09-12",
         "2017-09-20",
         -3.7,
         16.15
        ],
        [
         1121555,
         1898375544837,
         "Hotel Lombardia",
         "2017-09-12",
         "2017-09-20",
         -3.7,
         16.15
        ],
        [
         1177055,
         2911987826694,
         "Hotel Milano Scala",
         "2017-09-12",
         "2017-09-20",
         -3.7,
         16.15
        ],
        [
         1226286,
         2138893713412,
         "Hotel Principe Di Savoia",
         "2017-09-12",
         "2017-09-20",
         -3.7,
         16.15
        ],
        [
         1229530,
         2508260900870,
         "UNA Maison Milano",
         "2017-09-12",
         "2017-09-20",
         -3.7,
         16.15
        ],
        [
         1233925,
         1821066133506,
         "Hotel Cavour",
         "2017-09-12",
         "2017-09-20",
         -3.7,
         16.15
        ],
        [
         1268889,
         1992864825350,
         "Excelsior Hotel Gallia Luxury Collection Hotel",
         "2017-09-12",
         "2017-09-20",
         -3.7,
         16.15
        ],
        [
         1287514,
         3092376453126,
         "LHP Hotel Napoleon",
         "2017-09-12",
         "2017-09-20",
         -3.7,
         16.15
        ],
        [
         1292567,
         996432412679,
         "Simoni's Fremont Inn",
         "2017-09-19",
         "2017-09-27",
         3.7,
         21.25
        ],
        [
         1307813,
         3272765079554,
         "Uptown Palace",
         "2017-09-12",
         "2017-09-20",
         -3.7,
         16.15
        ],
        [
         1325415,
         2405181685764,
         "Hotel Manin",
         "2017-09-12",
         "2017-09-20",
         -3.7,
         16.15
        ],
        [
         1416870,
         2250562863106,
         "Maison Borella",
         "2017-09-12",
         "2017-09-20",
         -3.7,
         16.15
        ],
        [
         1446674,
         2259152797703,
         "Hotel Auriga",
         "2017-09-12",
         "2017-09-20",
         -3.7,
         16.15
        ],
        [
         1456313,
         3092376453126,
         "LHP Hotel Napoleon",
         "2017-09-12",
         "2017-09-20",
         -3.7,
         16.15
        ],
        [
         1479823,
         841813590020,
         "Candlewood Suites Eugene Springfield",
         "2016-10-07",
         "2016-10-15",
         -3.7,
         13.05
        ],
        [
         1620295,
         1795296329735,
         "Windsor Hotel Milano",
         "2017-09-12",
         "2017-09-20",
         -3.7,
         16.15
        ],
        [
         1638077,
         1915555414022,
         "Hotel Wagner",
         "2017-09-12",
         "2017-09-20",
         -3.7,
         16.15
        ],
        [
         1639197,
         2826088480776,
         "TownHouse 33",
         "2017-09-12",
         "2017-09-20",
         -3.7,
         16.15
        ],
        [
         1643016,
         2413771620358,
         "Bianca Maria Palace Hotel",
         "2017-09-12",
         "2017-09-20",
         -3.7,
         16.15
        ],
        [
         1696657,
         2370821947402,
         "ADI Doria Grand Hotel",
         "2017-09-12",
         "2017-09-20",
         -3.7,
         16.15
        ],
        [
         1730456,
         2302102470667,
         "Baglioni Hotel Carlton The Leading Hotels of the World",
         "2017-09-12",
         "2017-09-20",
         -3.7,
         16.15
        ],
        [
         1734792,
         2413771620358,
         "Bianca Maria Palace Hotel",
         "2017-09-12",
         "2017-09-20",
         -3.7,
         16.15
        ],
        [
         1755350,
         1881195675656,
         "Mandarin Oriental Milan",
         "2017-09-12",
         "2017-09-20",
         -3.7,
         16.15
        ],
        [
         1767760,
         2817498546185,
         "Nhow Milan",
         "2017-09-12",
         "2017-09-20",
         -3.7,
         16.15
        ],
        [
         1791422,
         2954937499660,
         "Radisson Blu Hotel Milan",
         "2017-09-12",
         "2017-09-20",
         -3.7,
         16.15
        ],
        [
         1805028,
         3135326126084,
         "Senato Hotel Milano",
         "2017-09-12",
         "2017-09-20",
         -3.7,
         16.15
        ],
        [
         1805976,
         3040836845576,
         "Best Western Antares Hotel Concorde",
         "2017-09-12",
         "2017-09-20",
         -3.7,
         16.15
        ],
        [
         1829119,
         3384434229250,
         "Hotel Lloyd",
         "2017-09-12",
         "2017-09-20",
         -3.7,
         16.15
        ],
        [
         1891465,
         3324304687112,
         "Hotel Capitol Milano",
         "2017-09-12",
         "2017-09-20",
         -3.7,
         16.15
        ],
        [
         1905434,
         2542620639237,
         "Ibis Styles Milano Palmanova",
         "2017-09-12",
         "2017-09-20",
         -3.7,
         16.15
        ],
        [
         1909386,
         2224793059331,
         "Hotel Sanpi Milano",
         "2017-09-12",
         "2017-09-20",
         -3.7,
         16.15
        ],
        [
         1912688,
         3204045602824,
         "Ramada Plaza Milano",
         "2017-09-12",
         "2017-09-20",
         -3.7,
         16.15
        ],
        [
         1915023,
         3178275799046,
         "Hotel Romana Residence",
         "2017-09-12",
         "2017-09-20",
         -3.7,
         16.15
        ],
        [
         1924368,
         2121713844230,
         "UNA Hotel Scandinavia",
         "2017-09-12",
         "2017-09-20",
         -3.7,
         16.15
        ],
        [
         1999534,
         3049426780170,
         "Hotel Mozart",
         "2017-09-12",
         "2017-09-20",
         -3.7,
         16.15
        ],
        [
         2009439,
         2147483648005,
         "Starhotels Business Palace",
         "2017-09-12",
         "2017-09-20",
         -3.7,
         16.15
        ],
        [
         2012899,
         2284922601481,
         "Mokinba Hotels Montebianco",
         "2017-09-12",
         "2017-09-20",
         -3.7,
         16.15
        ],
        [
         2070459,
         2534030704648,
         "Four Seasons Hotel Milano",
         "2017-09-12",
         "2017-09-20",
         -3.7,
         16.15
        ],
        [
         2101207,
         3135326126082,
         "Room Mate Giulia",
         "2017-09-12",
         "2017-09-20",
         -3.7,
         16.15
        ],
        [
         2107354,
         541165879297,
         "Best Western Burlington Inn",
         "2017-08-20",
         "2017-08-31",
         -3.7,
         24.75
        ],
        [
         2111663,
         2147483648005,
         "Starhotels Business Palace",
         "2017-09-12",
         "2017-09-20",
         -3.7,
         16.15
        ],
        [
         2118644,
         2405181685765,
         "Grand Hotel et de Milan",
         "2017-09-12",
         "2017-09-20",
         -3.7,
         16.15
        ],
        [
         2176024,
         3393024163852,
         "LaGare Hotel Milano Centrale MGallery by Sofitel",
         "2017-09-12",
         "2017-09-20",
         -3.7,
         16.15
        ],
        [
         2205700,
         1743756722181,
         "Ch teau Monfort Relais Ch teaux",
         "2017-09-12",
         "2017-09-20",
         -3.7,
         16.15
        ],
        [
         2226111,
         2877628088323,
         "Novotel Milano Linate Aeroporto",
         "2017-09-12",
         "2017-09-20",
         -3.7,
         16.15
        ],
        [
         2237833,
         2405181685766,
         "Hotel Mercure Milano Solari",
         "2017-09-12",
         "2017-09-20",
         -3.7,
         16.15
        ],
        [
         2240324,
         2147483648005,
         "Starhotels Business Palace",
         "2017-09-12",
         "2017-09-20",
         -3.7,
         16.15
        ],
        [
         2244617,
         2877628088322,
         "The Square Milano Duomo",
         "2017-09-12",
         "2017-09-20",
         -3.7,
         16.15
        ],
        [
         2250251,
         2413771620355,
         "Qualys Hotel Nasco",
         "2017-09-12",
         "2017-09-20",
         -3.7,
         16.15
        ],
        [
         2260737,
         3393024163849,
         "TownHouse 12",
         "2017-09-12",
         "2017-09-20",
         -3.7,
         16.15
        ],
        [
         2283922,
         3375844294666,
         "MiHotel",
         "2017-09-12",
         "2017-09-20",
         -3.7,
         16.15
        ],
        [
         2326746,
         2680059592705,
         "Hotel VIU Milan",
         "2017-09-12",
         "2017-09-20",
         -3.7,
         16.15
        ],
        [
         2398838,
         841813590020,
         "Candlewood Suites Eugene Springfield",
         "2016-10-07",
         "2016-10-15",
         -3.7,
         13.05
        ],
        [
         2439886,
         3324304687114,
         "Milan Marriott Hotel",
         "2017-09-12",
         "2017-09-20",
         -3.7,
         16.15
        ],
        [
         2456587,
         2319282339847,
         "Style Hotel",
         "2017-09-12",
         "2017-09-20",
         -3.7,
         16.15
        ],
        [
         2467041,
         2568390443017,
         "IH Hotels Milano Gioia",
         "2017-09-12",
         "2017-09-20",
         -3.7,
         16.15
        ],
        [
         169512,
         867583393793,
         "Watermark Bed Breakfast",
         "2017-08-06",
         "2017-08-16",
         3.6,
         23.9
        ],
        [
         183922,
         867583393793,
         "Watermark Bed Breakfast",
         "2017-08-06",
         "2017-08-16",
         3.6,
         23.9
        ],
        [
         955162,
         3358664425477,
         "Artus Hotel by MH",
         "2016-10-03",
         "2016-10-23",
         -3.6,
         8.83
        ],
        [
         1127139,
         2499670966273,
         "Hotel Atmospheres",
         "2016-10-03",
         "2016-10-23",
         -3.6,
         8.83
        ],
        [
         1202953,
         206158430208,
         "White Cliff Manor Bed and Breakfast",
         "2017-09-06",
         "2017-09-13",
         3.6,
         16.9
        ],
        [
         1393056,
         1228360646657,
         "Super 8 Chicago O'hare Airport",
         "2017-08-15",
         "2017-08-26",
         -3.6,
         21.1
        ],
        [
         1439067,
         274877906944,
         "Microtel of Ste Genevieve",
         "2017-08-15",
         "2017-08-28",
         -3.6,
         23.57
        ],
        [
         2122635,
         274877906944,
         "Microtel of Ste Genevieve",
         "2017-08-04",
         "2017-08-15",
         3.6,
         23.2
        ],
        [
         2135281,
         2559800508419,
         "Mercure Vaugirard Paris Porte De Versailles",
         "2016-10-03",
         "2016-10-23",
         -3.6,
         8.83
        ],
        [
         2328732,
         3092376453121,
         "Novotel Paris 14 Porte d Orl ans",
         "2016-10-03",
         "2016-10-23",
         -3.6,
         8.83
        ],
        [
         2346384,
         1425929142273,
         "Hotel Borgo Verde",
         "2016-10-20",
         "2016-10-29",
         -3.6,
         18.37
        ],
        [
         61059,
         2113123909632,
         "Le 123 Elysees Astotel",
         "2016-10-22",
         "2016-10-31",
         3.5,
         8.95
        ],
        [
         127208,
         2190433320963,
         "Le Belmont Champs Elys es",
         "2016-10-22",
         "2016-10-31",
         3.5,
         8.95
        ],
        [
         163179,
         2740189134850,
         "H tel Raphael",
         "2016-10-22",
         "2016-10-31",
         3.5,
         8.95
        ],
        [
         217900,
         2963527434242,
         "Le A",
         "2016-10-22",
         "2016-10-31",
         3.5,
         8.95
        ],
        [
         326659,
         2860448219136,
         "Best Western Mercedes Arc de Triomphe",
         "2016-10-22",
         "2016-10-31",
         3.5,
         8.95
        ],
        [
         367264,
         1941325217795,
         "Best Western Premier Op ra Li ge",
         "2016-10-22",
         "2016-10-31",
         3.5,
         8.95
        ],
        [
         380302,
         2078764171265,
         "Best Western Hotel Montmartre Sacr Coeur",
         "2016-10-22",
         "2016-10-31",
         3.5,
         8.95
        ],
        [
         406874,
         2267742732294,
         "Balmoral Champs Elys es",
         "2016-10-22",
         "2016-10-31",
         3.5,
         8.95
        ],
        [
         414856,
         2216203124738,
         "Radisson Blu Champs Elys es Paris",
         "2016-10-22",
         "2016-10-31",
         3.5,
         8.95
        ],
        [
         426844,
         3032246910978,
         "R Kipling by Happyculture",
         "2016-10-22",
         "2016-10-31",
         3.5,
         8.95
        ],
        [
         465125,
         2740189134850,
         "H tel Raphael",
         "2016-10-22",
         "2016-10-31",
         3.5,
         8.95
        ],
        [
         552765,
         2963527434242,
         "Le A",
         "2016-10-22",
         "2016-10-31",
         3.5,
         8.95
        ],
        [
         628389,
         1374389534724,
         "America's Best Value Inn",
         "2017-08-28",
         "2017-09-04",
         3.5,
         26.35
        ],
        [
         678358,
         2302102470657,
         "Le Grey Hotel",
         "2016-10-22",
         "2016-10-31",
         3.5,
         8.95
        ],
        [
         679924,
         2293512536067,
         "Hotel Oscar",
         "2016-10-22",
         "2016-10-31",
         3.5,
         8.95
        ],
        [
         718472,
         3341484556289,
         "Best Western Le 18 Paris",
         "2016-10-22",
         "2016-10-31",
         3.5,
         8.95
        ],
        [
         739775,
         2078764171264,
         "H tel Le Royal Monceau Raffles Paris",
         "2016-10-22",
         "2016-10-31",
         3.5,
         8.95
        ],
        [
         768490,
         3427383902209,
         "H tel Barri re Le Fouquet s",
         "2016-10-22",
         "2016-10-31",
         3.5,
         8.95
        ],
        [
         831060,
         1975684956164,
         "Timhotel Op ra Grands Magasins",
         "2016-10-22",
         "2016-10-31",
         3.5,
         8.95
        ],
        [
         865226,
         3161095929857,
         "H tel California Champs Elys es",
         "2016-10-22",
         "2016-10-31",
         3.5,
         8.95
        ],
        [
         865666,
         2705829396485,
         "Arioso",
         "2016-10-22",
         "2016-10-31",
         3.5,
         8.95
        ],
        [
         951080,
         1803886264320,
         "Idol Hotel",
         "2016-10-22",
         "2016-10-31",
         3.5,
         8.95
        ],
        [
         960400,
         3298534883329,
         "H tel Etoile Saint Honor by Happyculture",
         "2016-10-22",
         "2016-10-31",
         3.5,
         8.95
        ],
        [
         971221,
         3221225472003,
         "Francois 1er",
         "2016-10-22",
         "2016-10-31",
         3.5,
         8.95
        ],
        [
         977130,
         3126736191488,
         "Crowne Plaza Paris R publique",
         "2016-10-22",
         "2016-10-31",
         3.5,
         8.95
        ],
        [
         1058159,
         3221225472003,
         "Francois 1er",
         "2016-10-22",
         "2016-10-31",
         3.5,
         8.95
        ],
        [
         1081707,
         2662879723522,
         "H tel Vernet",
         "2016-10-22",
         "2016-10-31",
         3.5,
         8.95
        ],
        [
         1104146,
         2156073582595,
         "H tel L Echiquier Op ra Paris MGallery by Sofitel",
         "2016-10-22",
         "2016-10-31",
         3.5,
         8.95
        ],
        [
         1108833,
         1975684956164,
         "Timhotel Op ra Grands Magasins",
         "2016-10-22",
         "2016-10-31",
         3.5,
         8.95
        ],
        [
         1165684,
         3066606649350,
         "Hotel Carlton s Montmartre",
         "2016-10-22",
         "2016-10-31",
         3.5,
         8.95
        ],
        [
         1186903,
         2920577761280,
         "Mercure Paris Arc de Triomphe Etoile",
         "2016-10-22",
         "2016-10-31",
         3.5,
         8.95
        ],
        [
         1242472,
         1297080123394,
         "Cal Neva Resort",
         "2017-08-31",
         "2017-09-12",
         -3.5,
         15.03
        ],
        [
         1405571,
         3032246910978,
         "R Kipling by Happyculture",
         "2016-10-22",
         "2016-10-31",
         3.5,
         8.95
        ],
        [
         1422859,
         2302102470657,
         "Le Grey Hotel",
         "2016-10-22",
         "2016-10-31",
         3.5,
         8.95
        ],
        [
         1460954,
         1666447310849,
         "Arcola Inn",
         "2016-10-22",
         "2016-10-31",
         3.5,
         11.13
        ],
        [
         1510229,
         2688649527297,
         "H tel Horset Op ra Best Western Premier Collection",
         "2016-10-22",
         "2016-10-31",
         3.5,
         8.95
        ],
        [
         1545271,
         3289944948736,
         "H tel Victor Hugo Paris Kl ber",
         "2016-10-22",
         "2016-10-31",
         3.5,
         8.95
        ],
        [
         1549037,
         2637109919744,
         "La Villa Haussmann",
         "2016-10-22",
         "2016-10-31",
         3.5,
         8.95
        ],
        [
         1615145,
         2044404432898,
         "H tel Diva Opera",
         "2016-10-22",
         "2016-10-31",
         3.5,
         8.95
        ],
        [
         1630217,
         2370821947397,
         "Park Hyatt Paris Vendome",
         "2016-10-22",
         "2016-10-31",
         3.5,
         8.95
        ],
        [
         1663604,
         2585570312195,
         "Warwick Paris Former Warwick Champs Elysees",
         "2016-10-22",
         "2016-10-31",
         3.5,
         8.95
        ],
        [
         1687079,
         2757369004033,
         "9Hotel Republique",
         "2016-10-22",
         "2016-10-31",
         3.5,
         8.95
        ],
        [
         1698796,
         3075196583938,
         "Trinit Haussmann",
         "2016-10-22",
         "2016-10-31",
         3.5,
         8.95
        ],
        [
         1962314,
         2611340115970,
         "Hotel Monsieur",
         "2016-10-22",
         "2016-10-31",
         3.5,
         8.95
        ],
        [
         1975480,
         2010044694532,
         "H tel De Castiglione",
         "2016-10-22",
         "2016-10-31",
         3.5,
         8.95
        ],
        [
         2018437,
         3298534883329,
         "H tel Etoile Saint Honor by Happyculture",
         "2016-10-22",
         "2016-10-31",
         3.5,
         8.95
        ],
        [
         2096367,
         3032246910977,
         "Franklin Roosevelt",
         "2016-10-22",
         "2016-10-31",
         3.5,
         8.95
        ],
        [
         2099337,
         3032246910977,
         "Franklin Roosevelt",
         "2016-10-22",
         "2016-10-31",
         3.5,
         8.95
        ],
        [
         2161763,
         1881195675653,
         "H tel Montmartre Mon Amour",
         "2016-10-22",
         "2016-10-31",
         3.5,
         8.95
        ],
        [
         2195673,
         2860448219136,
         "Best Western Mercedes Arc de Triomphe",
         "2016-10-22",
         "2016-10-31",
         3.5,
         8.95
        ],
        [
         2282845,
         2937757630464,
         "Hotel Opera Cadet",
         "2016-10-22",
         "2016-10-31",
         3.5,
         8.95
        ],
        [
         2336761,
         2757369004033,
         "9Hotel Republique",
         "2016-10-22",
         "2016-10-31",
         3.5,
         8.95
        ],
        [
         2369533,
         1872605741058,
         "Rochester Champs Elysees",
         "2016-10-22",
         "2016-10-31",
         3.5,
         8.95
        ],
        [
         2396700,
         2156073582595,
         "H tel L Echiquier Op ra Paris MGallery by Sofitel",
         "2016-10-22",
         "2016-10-31",
         3.5,
         8.95
        ],
        [
         2429966,
         1726576852994,
         "Banke H tel",
         "2016-10-22",
         "2016-10-31",
         3.5,
         8.95
        ],
        [
         2489479,
         3264175144964,
         "Mercure Paris Op ra Faubourg Montmartre",
         "2016-10-22",
         "2016-10-31",
         3.5,
         8.95
        ],
        [
         143848,
         2697239461890,
         "The Beaumont Hotel",
         "2017-09-03",
         "2017-09-19",
         -3.4,
         12.2
        ],
        [
         432204,
         85899345923,
         "Concord Apartments By Boq Lodging",
         "2017-09-18",
         "2017-09-25",
         3.4,
         23
        ],
        [
         450118,
         2662879723528,
         "Corinthia Hotel London",
         "2017-09-03",
         "2017-09-19",
         -3.4,
         12.2
        ],
        [
         728567,
         1554778161152,
         "The Inn @ St. Botolph",
         "2017-09-18",
         "2017-09-26",
         3.4,
         20.8
        ],
        [
         929320,
         1864015806465,
         "Park Avenue Baker Street",
         "2017-09-03",
         "2017-09-19",
         -3.4,
         12.2
        ],
        [
         1082880,
         816043786245,
         "40 Berkeley Hostel",
         "2017-09-18",
         "2017-09-26",
         3.4,
         20.8
        ],
        [
         1122653,
         1778116460548,
         "The Marble Arch London",
         "2017-09-03",
         "2017-09-19",
         -3.4,
         12.2
        ],
        [
         1143069,
         34359738370,
         "Sherwood Hills Resort",
         "2016-10-16",
         "2016-10-30",
         3.4,
         10.33
        ],
        [
         1317412,
         3264175144960,
         "Grange Beauchamp Hotel",
         "2017-09-03",
         "2017-09-19",
         -3.4,
         12.2
        ],
        [
         1472867,
         343597383684,
         "Casa Del Mar Inn Bandb",
         "2016-10-19",
         "2016-10-26",
         -3.4,
         18.8
        ],
        [
         1503070,
         34359738368,
         "Eden Park Guest House",
         "2017-09-18",
         "2017-09-25",
         3.4,
         23
        ],
        [
         1625270,
         1443109011457,
         "Boiling Springs Resort Canoe Rental",
         "2017-09-17",
         "2017-09-25",
         3.4,
         22.5
        ],
        [
         1650484,
         34359738368,
         "Eden Park Guest House",
         "2017-09-18",
         "2017-09-25",
         3.4,
         23
        ],
        [
         1776536,
         3143916060674,
         "The Montcalm Marble Arch",
         "2017-09-03",
         "2017-09-19",
         -3.4,
         12.2
        ],
        [
         1800971,
         111669149700,
         "Comfort Inn",
         "2016-10-21",
         "2016-10-28",
         3.4,
         13.7
        ],
        [
         1807625,
         816043786245,
         "40 Berkeley Hostel",
         "2017-09-18",
         "2017-09-26",
         3.4,
         20.8
        ],
        [
         2055592,
         34359738368,
         "Eden Park Guest House",
         "2017-09-18",
         "2017-09-25",
         3.4,
         23
        ],
        [
         2135225,
         369367187459,
         "Quality Inn & Suites - Riverfront",
         "2017-08-13",
         "2017-08-31",
         -3.4,
         19.1
        ],
        [
         2312810,
         111669149700,
         "Comfort Inn",
         "2016-10-21",
         "2016-10-28",
         3.4,
         13.7
        ],
        [
         2416121,
         910533066756,
         "Four Seasons Country Inn",
         "2016-10-21",
         "2016-10-28",
         3.4,
         13.7
        ],
        [
         2455660,
         343597383684,
         "Casa Del Mar Inn Bandb",
         "2016-10-19",
         "2016-10-26",
         -3.4,
         18.8
        ],
        [
         419799,
         257698037761,
         "Cherry Orchard Inn",
         "2016-10-15",
         "2016-10-22",
         3.3,
         13.23
        ],
        [
         637426,
         128849018884,
         "Comfort Suites",
         "2017-08-08",
         "2017-08-20",
         3.3,
         25.75
        ],
        [
         663361,
         1176821039104,
         "Days Inn Bloomington",
         "2017-08-04",
         "2017-08-11",
         3.3,
         21.07
        ],
        [
         688101,
         901943132161,
         "Frontier Cabins Motel",
         "2017-08-18",
         "2017-08-25",
         -3.3,
         20.45
        ],
        [
         731850,
         1142461300741,
         "Sand's Motel",
         "2017-09-07",
         "2017-09-14",
         3.3,
         23.05
        ],
        [
         886136,
         1477468749825,
         "The Bluffs Inn Suites",
         "2017-08-10",
         "2017-08-23",
         -3.3,
         18.45
        ],
        [
         1171876,
         257698037761,
         "Cherry Orchard Inn",
         "2016-10-15",
         "2016-10-22",
         3.3,
         13.23
        ],
        [
         1324716,
         1211180777475,
         "Torian Plum By Wyndham Vacation Rentals",
         "2017-08-28",
         "2017-09-05",
         -3.3,
         16.45
        ],
        [
         2090958,
         996432412676,
         "Red Carpet Inn",
         "2016-10-23",
         "2016-10-30",
         -3.3,
         12.75
        ],
        [
         2229581,
         1700807049218,
         "Holiday Inn Express & Suites West Monroe",
         "2016-10-17",
         "2016-10-30",
         -3.3,
         20.03
        ],
        [
         2276873,
         1417339207683,
         "Fairfield Inn and Suites By Marriott Plainville",
         "2017-09-05",
         "2017-09-12",
         -3.3,
         18.85
        ],
        [
         2312357,
         1700807049217,
         "Rodeway Inn-tacoma",
         "2017-09-21",
         "2017-09-29",
         3.3,
         12.45
        ],
        [
         4251,
         2345052143618,
         "London Marriott Hotel Regents Park",
         "2017-08-25",
         "2017-09-03",
         -3.2,
         15.5
        ],
        [
         70196,
         2980707303424,
         "Hilton London Hyde Park",
         "2017-08-25",
         "2017-09-03",
         -3.2,
         15.5
        ],
        [
         89285,
         2534030704641,
         "The Royal Horseguards",
         "2017-08-25",
         "2017-09-03",
         -3.2,
         15.5
        ],
        [
         89328,
         1151051235334,
         "Atlanta Marriott Northwest At Galleria",
         "2017-08-16",
         "2017-08-24",
         -3.2,
         26
        ],
        [
         146818,
         2826088480775,
         "The Savoy",
         "2017-08-25",
         "2017-09-03",
         -3.2,
         15.5
        ],
        [
         148004,
         661424963586,
         "Twelve Hotels & Residences",
         "2017-08-16",
         "2017-08-24",
         -3.2,
         26
        ],
        [
         148815,
         3212635537409,
         "Park Grand London Lancaster Gate",
         "2017-08-25",
         "2017-09-03",
         -3.2,
         15.5
        ],
        [
         182991,
         2302102470658,
         "The Henrietta Hotel",
         "2017-08-25",
         "2017-09-03",
         -3.2,
         15.5
        ],
        [
         200492,
         1846835937282,
         "Holiday Inn London Wembley",
         "2017-08-25",
         "2017-09-03",
         -3.2,
         15.5
        ],
        [
         278607,
         2585570312194,
         "London City Suites",
         "2017-08-25",
         "2017-09-03",
         -3.2,
         15.5
        ],
        [
         288850,
         1967095021568,
         "Courthouse Hotel London",
         "2017-08-25",
         "2017-09-03",
         -3.2,
         15.5
        ],
        [
         296136,
         3358664425474,
         "Hotel La Place",
         "2017-08-25",
         "2017-09-03",
         -3.2,
         15.5
        ],
        [
         321006,
         1889785610242,
         "Park Grand Paddington Court",
         "2017-08-25",
         "2017-09-03",
         -3.2,
         15.5
        ],
        [
         322526,
         2783138807814,
         "Ham Yard Hotel",
         "2017-08-25",
         "2017-09-03",
         -3.2,
         15.5
        ],
        [
         349379,
         3341484556291,
         "Thistle Euston",
         "2017-08-25",
         "2017-09-03",
         -3.2,
         15.5
        ],
        [
         376355,
         2396591751175,
         "Amba Hotel Charing Cross",
         "2017-08-25",
         "2017-09-03",
         -3.2,
         15.5
        ],
        [
         400561,
         2783138807814,
         "Ham Yard Hotel",
         "2017-08-25",
         "2017-09-03",
         -3.2,
         15.5
        ],
        [
         408411,
         2035814498304,
         "Arbor City",
         "2017-08-25",
         "2017-09-03",
         -3.2,
         15.5
        ],
        [
         424587,
         2671469658115,
         "Hotel 55",
         "2017-08-25",
         "2017-09-03",
         -3.2,
         15.5
        ],
        [
         424700,
         3307124817923,
         "The Hoxton Shoreditch",
         "2017-08-25",
         "2017-09-03",
         -3.2,
         15.5
        ],
        [
         441549,
         2491081031681,
         "London Marriott Hotel Marble Arch",
         "2017-08-25",
         "2017-09-03",
         -3.2,
         15.5
        ],
        [
         446444,
         2070174236673,
         "Goodenough Club",
         "2017-08-25",
         "2017-09-03",
         -3.2,
         15.5
        ],
        [
         448847,
         2422361554946,
         "London Marriott Hotel West India Quay",
         "2017-08-25",
         "2017-09-03",
         -3.2,
         15.5
        ],
        [
         452339,
         1743756722177,
         "Grange White Hall Hotel",
         "2017-08-25",
         "2017-09-03",
         -3.2,
         15.5
        ],
        [
         482090,
         2284922601477,
         "St Pancras Renaissance Hotel London",
         "2017-08-25",
         "2017-09-03",
         -3.2,
         15.5
        ],
        [
         495179,
         2637109919746,
         "St James Hotel Club Mayfair",
         "2017-08-25",
         "2017-09-03",
         -3.2,
         15.5
        ],
        [
         543756,
         2748779069440,
         "Holiday Inn London Stratford City",
         "2017-08-25",
         "2017-09-03",
         -3.2,
         15.5
        ],
        [
         551401,
         2052994367489,
         "Canary Riverside Plaza Hotel",
         "2017-08-25",
         "2017-09-03",
         -3.2,
         15.5
        ],
        [
         551639,
         2147483648000,
         "Le Meridien Piccadilly",
         "2017-08-25",
         "2017-09-03",
         -3.2,
         15.5
        ],
        [
         558995,
         3358664425474,
         "Hotel La Place",
         "2017-08-25",
         "2017-09-03",
         -3.2,
         15.5
        ],
        [
         663516,
         3410204033028,
         "Amba Hotel Marble Arch",
         "2017-08-25",
         "2017-09-03",
         -3.2,
         15.5
        ],
        [
         686581,
         1881195675652,
         "Hotel Cafe Royal",
         "2017-08-25",
         "2017-09-03",
         -3.2,
         15.5
        ],
        [
         690164,
         3023656976384,
         "The Leonard Hotel",
         "2017-08-25",
         "2017-09-03",
         -3.2,
         15.5
        ],
        [
         708416,
         3401614098434,
         "Rocco Forte Brown s Hotel",
         "2017-08-25",
         "2017-09-03",
         -3.2,
         15.5
        ],
        [
         727155,
         2336462209028,
         "The Laslett",
         "2017-08-25",
         "2017-09-03",
         -3.2,
         15.5
        ],
        [
         741944,
         3066606649349,
         "Threadneedles Autograph Collection",
         "2017-08-25",
         "2017-09-03",
         -3.2,
         15.5
        ],
        [
         757285,
         2370821947399,
         "Hotel Cavendish",
         "2017-08-25",
         "2017-09-03",
         -3.2,
         15.5
        ],
        [
         779515,
         3126736191491,
         "Hilton London Tower Bridge",
         "2017-08-25",
         "2017-09-03",
         -3.2,
         15.5
        ],
        [
         803046,
         3049426780161,
         "Pullman London St Pancras",
         "2017-08-25",
         "2017-09-03",
         -3.2,
         15.5
        ],
        [
         818013,
         3015067041792,
         "The Arch London",
         "2017-08-25",
         "2017-09-03",
         -3.2,
         15.5
        ],
        [
         819415,
         2671469658114,
         "Radisson Blu Edwardian New Providence Wharf",
         "2017-08-25",
         "2017-09-03",
         -3.2,
         15.5
        ],
        [
         872265,
         3152505995268,
         "Hilton London Metropole",
         "2017-08-25",
         "2017-09-03",
         -3.2,
         15.5
        ],
        [
         933215,
         3212635537410,
         "Landmark London",
         "2017-08-25",
         "2017-09-03",
         -3.2,
         15.5
        ],
        [
         957996,
         1717986918401,
         "Mimi s Hotel Soho",
         "2017-08-25",
         "2017-09-03",
         -3.2,
         15.5
        ],
        [
         974451,
         2826088480768,
         "Grange Langham Court Hotel",
         "2017-08-25",
         "2017-09-03",
         -3.2,
         15.5
        ],
        [
         1003674,
         1889785610242,
         "Park Grand Paddington Court",
         "2017-08-25",
         "2017-09-03",
         -3.2,
         15.5
        ],
        [
         1007495,
         2516850835459,
         "citizenM London Shoreditch",
         "2017-08-25",
         "2017-09-03",
         -3.2,
         15.5
        ],
        [
         1035003,
         1967095021568,
         "Courthouse Hotel London",
         "2017-08-25",
         "2017-09-03",
         -3.2,
         15.5
        ],
        [
         1064681,
         3126736191489,
         "Radisson Blu Edwardian Mercer Street",
         "2017-08-25",
         "2017-09-03",
         -3.2,
         15.5
        ],
        [
         1102000,
         2869038153731,
         "The Zetter Hotel",
         "2017-08-25",
         "2017-09-03",
         -3.2,
         15.5
        ],
        [
         1103254,
         3264175144962,
         "Holiday Inn London Mayfair",
         "2017-08-25",
         "2017-09-03",
         -3.2,
         15.5
        ],
        [
         1141421,
         2388001816584,
         "The Tower A Guoman Hotel",
         "2017-08-25",
         "2017-09-03",
         -3.2,
         15.5
        ],
        [
         1155079,
         2241972928513,
         "Hotel Indigo London Tower Hill",
         "2017-08-25",
         "2017-09-03",
         -3.2,
         15.5
        ],
        [
         1183140,
         2413771620354,
         "Hilton London Angel Islington",
         "2017-08-25",
         "2017-09-03",
         -3.2,
         15.5
        ],
        [
         1231503,
         2534030704641,
         "The Royal Horseguards",
         "2017-08-25",
         "2017-09-03",
         -3.2,
         15.5
        ],
        [
         1237649,
         171798691841,
         "Lewis River Inn",
         "2017-08-05",
         "2017-08-12",
         -3.2,
         20.3
        ],
        [
         1245552,
         171798691841,
         "Lewis River Inn",
         "2017-08-05",
         "2017-08-12",
         -3.2,
         20.3
        ],
        [
         1254793,
         2190433320960,
         "My Bloomsbury",
         "2017-08-25",
         "2017-09-03",
         -3.2,
         15.5
        ],
        [
         1261793,
         3289944948738,
         "The Royal Park Hotel",
         "2017-08-25",
         "2017-09-03",
         -3.2,
         15.5
        ],
        [
         1273047,
         2448131358722,
         "Melia White House Hotel",
         "2017-08-25",
         "2017-09-03",
         -3.2,
         15.5
        ],
        [
         1276500,
         2456721293312,
         "Clayton Crown Hotel London",
         "2017-08-25",
         "2017-09-03",
         -3.2,
         15.5
        ],
        [
         1305688,
         2164663517188,
         "Holiday Inn London Oxford Circus",
         "2017-08-25",
         "2017-09-03",
         -3.2,
         15.5
        ],
        [
         1315200,
         2284922601477,
         "St Pancras Renaissance Hotel London",
         "2017-08-25",
         "2017-09-03",
         -3.2,
         15.5
        ],
        [
         1342432,
         2954937499654,
         "Shaftesbury Suites London Marble Arch",
         "2017-08-25",
         "2017-09-03",
         -3.2,
         15.5
        ],
        [
         1353488,
         3401614098434,
         "Rocco Forte Brown s Hotel",
         "2017-08-25",
         "2017-09-03",
         -3.2,
         15.5
        ],
        [
         1354753,
         1975684956162,
         "Montagu Place Hotel",
         "2017-08-25",
         "2017-09-03",
         -3.2,
         15.5
        ],
        [
         1397754,
         2697239461894,
         "London Elizabeth Hotel",
         "2017-08-25",
         "2017-09-03",
         -3.2,
         15.5
        ],
        [
         1491956,
         2654289788928,
         "Crowne Plaza London The City",
         "2017-08-25",
         "2017-09-03",
         -3.2,
         15.5
        ],
        [
         1492478,
         3212635537409,
         "Park Grand London Lancaster Gate",
         "2017-08-25",
         "2017-09-03",
         -3.2,
         15.5
        ],
        [
         1500004,
         2396591751170,
         "DoubleTree by Hilton Hotel London Marble Arch",
         "2017-08-25",
         "2017-09-03",
         -3.2,
         15.5
        ],
        [
         1511171,
         171798691841,
         "Lewis River Inn",
         "2017-08-05",
         "2017-08-12",
         -3.2,
         20.3
        ],
        [
         1531668,
         2783138807814,
         "Ham Yard Hotel",
         "2017-08-25",
         "2017-09-03",
         -3.2,
         15.5
        ],
        [
         1535489,
         2954937499654,
         "Shaftesbury Suites London Marble Arch",
         "2017-08-25",
         "2017-09-03",
         -3.2,
         15.5
        ],
        [
         1541186,
         2164663517188,
         "Holiday Inn London Oxford Circus",
         "2017-08-25",
         "2017-09-03",
         -3.2,
         15.5
        ],
        [
         1581346,
         1967095021568,
         "Courthouse Hotel London",
         "2017-08-25",
         "2017-09-03",
         -3.2,
         15.5
        ],
        [
         1586886,
         472446402561,
         "Meadow Farm Bed and Breakfast",
         "2017-08-06",
         "2017-08-13",
         3.2,
         18.8
        ],
        [
         1618097,
         3058016714753,
         "Hazlitt s",
         "2017-08-25",
         "2017-09-03",
         -3.2,
         15.5
        ],
        [
         1650563,
         2353642078211,
         "Shangri La Hotel at The Shard London",
         "2017-08-25",
         "2017-09-03",
         -3.2,
         15.5
        ],
        [
         1663553,
         2259152797700,
         "Apex London Wall Hotel",
         "2017-08-25",
         "2017-09-03",
         -3.2,
         15.5
        ],
        [
         1674411,
         146028888065,
         "Landmark Inn Lakes-mountain Region",
         "2017-09-17",
         "2017-09-25",
         3.2,
         20.75
        ],
        [
         1719244,
         2963527434241,
         "Bloomsbury Palace Hotel",
         "2017-08-25",
         "2017-09-03",
         -3.2,
         15.5
        ],
        [
         1723057,
         1726576852996,
         "Nottingham Place Hotel",
         "2017-08-25",
         "2017-09-03",
         -3.2,
         15.5
        ],
        [
         1728936,
         3307124817923,
         "The Hoxton Shoreditch",
         "2017-08-25",
         "2017-09-03",
         -3.2,
         15.5
        ],
        [
         1734614,
         3393024163841,
         "Hilton London Paddington",
         "2017-08-25",
         "2017-09-03",
         -3.2,
         15.5
        ],
        [
         1740631,
         2422361554946,
         "London Marriott Hotel West India Quay",
         "2017-08-25",
         "2017-09-03",
         -3.2,
         15.5
        ],
        [
         1753988,
         2362232012804,
         "The Grand at Trafalgar Square",
         "2017-08-25",
         "2017-09-03",
         -3.2,
         15.5
        ],
        [
         1756307,
         2147483648002,
         "La Suite West Hyde Park",
         "2017-08-25",
         "2017-09-03",
         -3.2,
         15.5
        ],
        [
         1812084,
         2602750181383,
         "United Lodge Hotel and Apartments",
         "2017-08-25",
         "2017-09-03",
         -3.2,
         15.5
        ],
        [
         1834180,
         2413771620354,
         "Hilton London Angel Islington",
         "2017-08-25",
         "2017-09-03",
         -3.2,
         15.5
        ],
        [
         1851111,
         2783138807814,
         "Ham Yard Hotel",
         "2017-08-25",
         "2017-09-03",
         -3.2,
         15.5
        ],
        [
         1858550,
         2138893713408,
         "The Park Grand London Paddington",
         "2017-08-25",
         "2017-09-03",
         -3.2,
         15.5
        ],
        [
         1922052,
         3298534883333,
         "Thistle Trafalgar Square The Royal Trafalgar",
         "2017-08-25",
         "2017-09-03",
         -3.2,
         15.5
        ],
        [
         1940169,
         2697239461894,
         "London Elizabeth Hotel",
         "2017-08-25",
         "2017-09-03",
         -3.2,
         15.5
        ],
        [
         1961953,
         2783138807814,
         "Ham Yard Hotel",
         "2017-08-25",
         "2017-09-03",
         -3.2,
         15.5
        ],
        [
         1978503,
         2456721293312,
         "Clayton Crown Hotel London",
         "2017-08-25",
         "2017-09-03",
         -3.2,
         15.5
        ],
        [
         1992348,
         2138893713408,
         "The Park Grand London Paddington",
         "2017-08-25",
         "2017-09-03",
         -3.2,
         15.5
        ],
        [
         1994198,
         1906965479426,
         "South Place Hotel",
         "2017-08-25",
         "2017-09-03",
         -3.2,
         15.5
        ],
        [
         2019069,
         1726576852996,
         "Nottingham Place Hotel",
         "2017-08-25",
         "2017-09-03",
         -3.2,
         15.5
        ],
        [
         2039410,
         2233382993924,
         "ME London by Melia",
         "2017-08-25",
         "2017-09-03",
         -3.2,
         15.5
        ],
        [
         2045583,
         2705829396481,
         "Dukes Hotel",
         "2017-08-25",
         "2017-09-03",
         -3.2,
         15.5
        ],
        [
         2054254,
         2130303778819,
         "Commodore Hotel",
         "2017-08-25",
         "2017-09-03",
         -3.2,
         15.5
        ],
        [
         2175846,
         1778116460548,
         "The Marble Arch London",
         "2017-08-25",
         "2017-09-03",
         -3.2,
         15.5
        ],
        [
         2182945,
         2396591751172,
         "Holiday Inn London Whitechapel",
         "2017-08-25",
         "2017-09-03",
         -3.2,
         15.5
        ],
        [
         2236698,
         2456721293312,
         "Clayton Crown Hotel London",
         "2017-08-25",
         "2017-09-03",
         -3.2,
         15.5
        ],
        [
         2237801,
         2070174236673,
         "Goodenough Club",
         "2017-08-25",
         "2017-09-03",
         -3.2,
         15.5
        ],
        [
         2243490,
         2052994367489,
         "Canary Riverside Plaza Hotel",
         "2017-08-25",
         "2017-09-03",
         -3.2,
         15.5
        ],
        [
         2244949,
         3143916060674,
         "The Montcalm Marble Arch",
         "2017-08-25",
         "2017-09-03",
         -3.2,
         15.5
        ],
        [
         2263363,
         2654289788928,
         "Crowne Plaza London The City",
         "2017-08-25",
         "2017-09-03",
         -3.2,
         15.5
        ],
        [
         2265683,
         2456721293312,
         "Clayton Crown Hotel London",
         "2017-08-25",
         "2017-09-03",
         -3.2,
         15.5
        ],
        [
         2266402,
         2327872274432,
         "Mondrian London",
         "2017-08-25",
         "2017-09-03",
         -3.2,
         15.5
        ],
        [
         2271827,
         2413771620353,
         "Comfort Inn Suites Kings Cross St Pancras",
         "2017-08-25",
         "2017-09-03",
         -3.2,
         15.5
        ],
        [
         2302704,
         1812476198912,
         "Staunton Hotel B B",
         "2017-08-25",
         "2017-09-03",
         -3.2,
         15.5
        ],
        [
         2318405,
         2276332666883,
         "Holiday Inn London Regent s Park",
         "2017-08-25",
         "2017-09-03",
         -3.2,
         15.5
        ],
        [
         2338050,
         2834678415363,
         "Club Quarters Hotel Lincoln s Inn Fields",
         "2017-08-25",
         "2017-09-03",
         -3.2,
         15.5
        ],
        [
         2389551,
         2602750181378,
         "Old Ship Inn Hackney",
         "2017-08-25",
         "2017-09-03",
         -3.2,
         15.5
        ],
        [
         2397468,
         661424963586,
         "Twelve Hotels & Residences",
         "2017-08-16",
         "2017-08-24",
         -3.2,
         26
        ],
        [
         2418879,
         2310692405248,
         "DoubleTree by Hilton London Hyde Park",
         "2017-08-25",
         "2017-09-03",
         -3.2,
         15.5
        ],
        [
         2456610,
         1855425871872,
         "Avo Hotel",
         "2017-08-25",
         "2017-09-03",
         -3.2,
         15.5
        ],
        [
         2478173,
         472446402561,
         "Meadow Farm Bed and Breakfast",
         "2017-08-06",
         "2017-08-13",
         3.2,
         18.8
        ],
        [
         2484059,
         1812476198912,
         "Staunton Hotel B B",
         "2017-08-25",
         "2017-09-03",
         -3.2,
         15.5
        ],
        [
         137097,
         1142461300740,
         "Economy Inn",
         "2017-08-14",
         "2017-08-24",
         -3.1,
         23.55
        ],
        [
         416028,
         1262720385024,
         "Holiday Inn Express & Suites Phoenix Downtown - Ballpark",
         "2017-09-20",
         "2017-09-28",
         -3.1,
         26.3
        ],
        [
         545701,
         781684047872,
         "Knights Inn",
         "2017-08-02",
         "2017-08-09",
         -3.1,
         22.35
        ],
        [
         703555,
         1537598291968,
         "Intermezzo",
         "2016-10-24",
         "2016-10-31",
         -3.1,
         15.6
        ],
        [
         760915,
         1279900254209,
         "La Quinta Inn Calhoun",
         "2017-09-01",
         "2017-09-10",
         -3.1,
         20.05
        ],
        [
         1943772,
         42949672961,
         "Holiday Inn Express and Suites Canyonville",
         "2017-08-10",
         "2017-08-18",
         -3.1,
         21.2
        ],
        [
         2301710,
         1537598291968,
         "Intermezzo",
         "2016-10-24",
         "2016-10-31",
         -3.1,
         15.6
        ],
        [
         506559,
         1709396983812,
         "Una Hotel Forte Dei Marmi",
         "2017-09-17",
         "2017-09-28",
         3,
         15
        ],
        [
         594019,
         403726925825,
         "Super 8 - Effingham",
         "2017-08-09",
         "2017-08-18",
         3,
         22.6
        ],
        [
         609121,
         1417339207685,
         "Sand Dunes Motel",
         "2016-10-21",
         "2016-10-28",
         3,
         6.4
        ],
        [
         732029,
         1494648619008,
         "Econo Lodge Big Spring",
         "2017-08-15",
         "2017-08-22",
         3,
         25.9
        ],
        [
         775684,
         455266533381,
         "Hilton Princess San Pedro Sula",
         "2016-10-07",
         "2016-10-18",
         -3,
         24.83
        ],
        [
         928335,
         1709396983812,
         "Una Hotel Forte Dei Marmi",
         "2017-09-17",
         "2017-09-28",
         3,
         15
        ],
        [
         1602925,
         824633720837,
         "Western Inn-glacier Park",
         "2016-10-10",
         "2016-10-18",
         3,
         1.8
        ],
        [
         1743380,
         1168231104512,
         "Days Inn & Suites Vicksburg",
         "2016-10-11",
         "2016-10-19",
         3,
         22.4
        ],
        [
         2153878,
         747324309509,
         "Americas Best Value Inn",
         "2016-10-08",
         "2016-10-27",
         3,
         11.83
        ],
        [
         2167007,
         1468878815239,
         "Super 8 Schenect/albany Area",
         "2017-08-08",
         "2017-08-19",
         3,
         19.43
        ],
        [
         2385077,
         1709396983812,
         "Una Hotel Forte Dei Marmi",
         "2017-09-17",
         "2017-09-28",
         3,
         15
        ],
        [
         503910,
         1675037245444,
         "Sleep Inn At Harbour View",
         "2017-08-23",
         "2017-08-31",
         -2.8,
         26.5
        ],
        [
         630397,
         1460288880644,
         "Mineola Motel",
         "2017-08-23",
         "2017-08-31",
         -2.8,
         26.5
        ],
        [
         712479,
         42949672968,
         "Residence Inn By Marriott Hartford Downtown",
         "2017-09-04",
         "2017-09-15",
         2.8,
         20.28
        ],
        [
         1056827,
         1675037245444,
         "Sleep Inn At Harbour View",
         "2017-08-23",
         "2017-09-03",
         -2.8,
         26.03
        ],
        [
         1150907,
         1133871366147,
         "Wyndham Vacation Resorts Towers On The Grove",
         "2017-08-23",
         "2017-08-31",
         -2.8,
         26.5
        ],
        [
         1850448,
         1675037245445,
         "Innpoints Worldwide",
         "2016-10-17",
         "2016-10-29",
         -2.8,
         18.5
        ],
        [
         2005300,
         1460288880644,
         "Mineola Motel",
         "2017-08-23",
         "2017-09-03",
         -2.8,
         26.03
        ],
        [
         2242590,
         764504178692,
         "Best Western Hartford Hotel & Suites",
         "2017-09-04",
         "2017-09-15",
         2.8,
         20.28
        ],
        [
         2325781,
         1460288880644,
         "Mineola Motel",
         "2017-08-23",
         "2017-08-31",
         -2.8,
         26.5
        ],
        [
         2457570,
         1151051235329,
         "Red Banks Motel",
         "2017-09-10",
         "2017-09-17",
         2.8,
         16.5
        ],
        [
         113840,
         3229815406593,
         "Royal Saint Michel",
         "2016-10-09",
         "2016-10-27",
         2.7,
         9.07
        ],
        [
         119892,
         2173253451779,
         "H tel Bel Ami",
         "2016-10-09",
         "2016-10-27",
         2.7,
         9.07
        ],
        [
         174800,
         1176821039106,
         "Comfort Inn Birmingham - Irondale",
         "2017-08-23",
         "2017-09-01",
         -2.7,
         23.95
        ],
        [
         503993,
         2963527434243,
         "Hotel Sezz Paris",
         "2016-10-09",
         "2016-10-27",
         2.7,
         9.07
        ],
        [
         651885,
         3221225472002,
         "Mercure Paris Porte De Versailles Expo",
         "2016-10-09",
         "2016-10-27",
         2.7,
         9.07
        ],
        [
         747264,
         377957122049,
         "Candlewood",
         "2016-10-13",
         "2016-10-20",
         2.7,
         11.53
        ],
        [
         878981,
         3023656976385,
         "Au Manoir Saint Germain",
         "2016-10-09",
         "2016-10-27",
         2.7,
         9.07
        ],
        [
         921366,
         498216206340,
         "Liberty Lodge",
         "2017-08-19",
         "2017-08-27",
         -2.7,
         16.63
        ],
        [
         957786,
         1374389534724,
         "America's Best Value Inn",
         "2016-10-16",
         "2016-10-29",
         -2.7,
         26.75
        ],
        [
         994920,
         3100966387713,
         "L H tel",
         "2016-10-09",
         "2016-10-27",
         2.7,
         9.07
        ],
        [
         1084862,
         1803886264324,
         "La Maison Champs Elys es",
         "2016-10-09",
         "2016-10-27",
         2.7,
         9.07
        ],
        [
         1160089,
         2388001816581,
         "Best Western Plus 61 Paris Nation Hotel",
         "2016-10-09",
         "2016-10-27",
         2.7,
         9.07
        ],
        [
         1472740,
         3178275799045,
         "Hotel Ares Eiffel",
         "2016-10-09",
         "2016-10-27",
         2.7,
         9.07
        ],
        [
         1552288,
         1666447310851,
         "Baymont Inn & Suites Griffin",
         "2017-08-16",
         "2017-09-01",
         -2.7,
         26.77
        ],
        [
         1552291,
         3264175144961,
         "Novotel Paris Vaugirard Montparnasse",
         "2016-10-09",
         "2016-10-27",
         2.7,
         9.07
        ],
        [
         1598411,
         3066606649346,
         "Hotel Plaza Athenee Paris",
         "2016-10-09",
         "2016-10-27",
         2.7,
         9.07
        ],
        [
         1951959,
         3066606649346,
         "Hotel Plaza Athenee Paris",
         "2016-10-09",
         "2016-10-27",
         2.7,
         9.07
        ],
        [
         2167349,
         1176821039106,
         "Comfort Inn Birmingham - Irondale",
         "2017-08-23",
         "2017-09-01",
         -2.7,
         23.95
        ],
        [
         2288153,
         1975684956161,
         "Le Tourville Eiffel",
         "2016-10-09",
         "2016-10-27",
         2.7,
         9.07
        ],
        [
         268340,
         996432412674,
         "Bent Elbow",
         "2017-08-29",
         "2017-09-08",
         -2.6,
         9.5
        ],
        [
         303828,
         1571958030339,
         "Hotel Columbia",
         "2017-08-29",
         "2017-09-08",
         -2.6,
         9.5
        ],
        [
         1261979,
         2448131358724,
         "Am Spiegeln",
         "2016-10-23",
         "2016-10-30",
         2.6,
         7.5
        ],
        [
         1514052,
         369367187460,
         "Blue Boar Inn",
         "2017-08-07",
         "2017-08-21",
         2.6,
         22.73
        ],
        [
         1755065,
         1967095021573,
         "Austria Trend Hotel Bosei Wien",
         "2016-10-23",
         "2016-10-30",
         2.6,
         7.5
        ],
        [
         2010955,
         412316860419,
         "Port-o-call Motel",
         "2017-08-03",
         "2017-08-25",
         -2.6,
         24.6
        ],
        [
         2246161,
         3204045602821,
         "Hotel Eitlj rg",
         "2016-10-23",
         "2016-10-30",
         2.6,
         7.5
        ],
        [
         138620,
         146028888064,
         "Extended Stay America",
         "2017-08-21",
         "2017-08-30",
         -2.5,
         21.05
        ],
        [
         477934,
         146028888064,
         "Extended Stay America",
         "2017-08-21",
         "2017-08-30",
         -2.5,
         21.05
        ],
        [
         1213483,
         489626271746,
         "Alyssa's Motel",
         "2016-10-13",
         "2016-10-22",
         2.5,
         4.65
        ],
        [
         1315402,
         412316860418,
         "Lindy Motel",
         "2017-08-29",
         "2017-09-05",
         2.5,
         14.87
        ],
        [
         1868019,
         3238405341191,
         "Ambassade Hotel",
         "2017-08-11",
         "2017-08-31",
         -2.5,
         15.65
        ],
        [
         289790,
         25769803778,
         "The Governor Hotel",
         "2017-09-14",
         "2017-09-24",
         -2.4,
         15.23
        ],
        [
         770926,
         575525617664,
         "Thunderbird Executive Inn and Conference Center",
         "2016-10-12",
         "2016-10-20",
         2.4,
         24.93
        ],
        [
         837536,
         695784701958,
         "Days Inn Statesville",
         "2017-09-14",
         "2017-09-22",
         2.4,
         21.5
        ],
        [
         1433883,
         1632087572480,
         "Howard Johnson Inn Columbia",
         "2017-08-23",
         "2017-08-31",
         2.4,
         21
        ],
        [
         1566093,
         790273982468,
         "La Posada Lodge & Casitas, An Ascend Hotel Collection Member",
         "2017-08-04",
         "2017-08-13",
         -2.4,
         28.9
        ],
        [
         1693421,
         824633720837,
         "Western Inn-glacier Park",
         "2017-08-14",
         "2017-08-25",
         2.4,
         14.5
        ],
        [
         1703926,
         652835028995,
         "Midvalley Motel",
         "2017-08-30",
         "2017-09-07",
         -2.4,
         15.18
        ],
        [
         1897874,
         300647710723,
         "Kit Carson Lodge Restaurant",
         "2017-08-22",
         "2017-09-05",
         2.4,
         15.9
        ],
        [
         317824,
         2585570312195,
         "Warwick Paris Former Warwick Champs Elysees",
         "2016-10-13",
         "2016-10-31",
         2.3,
         8.93
        ],
        [
         349950,
         2946347565059,
         "Hotel Villa Lafayette Paris IX",
         "2016-10-13",
         "2016-10-31",
         2.3,
         8.93
        ],
        [
         476859,
         128849018883,
         "Sci�� On Martin",
         "2017-09-17",
         "2017-09-27",
         2.3,
         14.95
        ],
        [
         632068,
         944892805125,
         "La Quinta Inn and Suites Hopkinsville",
         "2017-08-31",
         "2017-09-21",
         2.3,
         23.97
        ],
        [
         850165,
         506806140931,
         "Courtyard Columbus Worthington",
         "2017-08-11",
         "2017-08-18",
         2.3,
         22.55
        ],
        [
         908199,
         128849018883,
         "Sci�� On Martin",
         "2017-09-17",
         "2017-09-27",
         2.3,
         14.95
        ],
        [
         1159912,
         1211180777472,
         "Jellico Days Inn North Tennessee",
         "2017-08-13",
         "2017-08-20",
         2.3,
         24.03
        ],
        [
         1188606,
         2284922601476,
         "Best Western Premier Op ra Faubourg Ex Hotel Jules",
         "2016-10-13",
         "2016-10-31",
         2.3,
         8.93
        ],
        [
         1218212,
         1013612281862,
         "Homewood Suites",
         "2017-08-11",
         "2017-08-18",
         2.3,
         22.55
        ],
        [
         1232770,
         3341484556289,
         "Best Western Le 18 Paris",
         "2016-10-13",
         "2016-10-31",
         2.3,
         8.93
        ],
        [
         1329801,
         128849018883,
         "Sci�� On Martin",
         "2017-09-17",
         "2017-09-27",
         2.3,
         14.95
        ],
        [
         1591068,
         2808908611585,
         "H tel Le Marianne",
         "2016-10-13",
         "2016-10-31",
         2.3,
         8.93
        ],
        [
         1615931,
         2628519985155,
         "Le Relais Montmartre",
         "2016-10-13",
         "2016-10-31",
         2.3,
         8.93
        ],
        [
         1742333,
         2199023255555,
         "Hotel De Vigny",
         "2016-10-13",
         "2016-10-31",
         2.3,
         8.93
        ],
        [
         1944076,
         1881195675653,
         "H tel Montmartre Mon Amour",
         "2016-10-13",
         "2016-10-31",
         2.3,
         8.93
        ],
        [
         1963878,
         2267742732294,
         "Balmoral Champs Elys es",
         "2016-10-13",
         "2016-10-31",
         2.3,
         8.93
        ],
        [
         2019290,
         395136991232,
         "Parkway Inn Jellico",
         "2017-08-13",
         "2017-08-20",
         2.3,
         24.03
        ],
        [
         2410366,
         3049426780167,
         "Best Western Aulivia Op ra",
         "2016-10-13",
         "2016-10-31",
         2.3,
         8.93
        ],
        [
         2423950,
         2276332666881,
         "H tel Balzac",
         "2016-10-13",
         "2016-10-31",
         2.3,
         8.93
        ],
        [
         48340,
         1151051235333,
         "Clarion Suites Philadelphia",
         "2017-08-28",
         "2017-09-08",
         -2.2,
         18.1
        ],
        [
         1276304,
         231928233986,
         "Narcis",
         "2017-08-19",
         "2017-08-31",
         -2.2,
         24.2
        ],
        [
         1528790,
         996432412678,
         "Rodeway Inn",
         "2016-10-09",
         "2016-10-27",
         2.2,
         12.4
        ],
        [
         2349426,
         146028888068,
         "Super 8 Belle Fourche",
         "2017-08-01",
         "2017-08-08",
         -2.2,
         21.3
        ],
        [
         250527,
         841813590022,
         "Brookside Motel",
         "2017-08-08",
         "2017-08-15",
         -2.1,
         15.15
        ],
        [
         422184,
         1185410973700,
         "Sky-lit Motel",
         "2017-08-12",
         "2017-08-19",
         2.1,
         19.87
        ],
        [
         593244,
         841813590022,
         "Brookside Motel",
         "2017-08-08",
         "2017-08-15",
         -2.1,
         15.15
        ],
        [
         668544,
         1769526525958,
         "Sir Adam Hotel",
         "2017-09-17",
         "2017-09-25",
         2.1,
         13.25
        ],
        [
         724750,
         1185410973700,
         "Sky-lit Motel",
         "2017-08-12",
         "2017-08-19",
         2.1,
         19.87
        ],
        [
         759626,
         841813590022,
         "Brookside Motel",
         "2017-08-08",
         "2017-08-15",
         -2.1,
         15.15
        ],
        [
         833788,
         2362232012808,
         "WestCord Art Hotel Amsterdam 4 stars",
         "2017-09-17",
         "2017-09-25",
         2.1,
         13.25
        ],
        [
         850672,
         3006477107202,
         "Urban Lodge Hotel",
         "2017-09-17",
         "2017-09-25",
         2.1,
         13.25
        ],
        [
         963841,
         1271310319617,
         "Relax Inn",
         "2016-10-11",
         "2016-10-20",
         -2.1,
         24.77
        ],
        [
         1067460,
         2362232012808,
         "WestCord Art Hotel Amsterdam 4 stars",
         "2017-09-17",
         "2017-09-25",
         2.1,
         13.25
        ],
        [
         1731405,
         515396075526,
         "Holiday Inn & Suites Green Bay Stadium",
         "2017-08-12",
         "2017-08-19",
         2.1,
         19.87
        ],
        [
         1744615,
         3006477107202,
         "Urban Lodge Hotel",
         "2017-09-17",
         "2017-09-25",
         2.1,
         13.25
        ],
        [
         2306429,
         2748779069444,
         "Mercure Amsterdam Sloterdijk Station",
         "2017-09-17",
         "2017-09-25",
         2.1,
         13.25
        ],
        [
         13980,
         274877906944,
         "Microtel of Ste Genevieve",
         "2017-08-22",
         "2017-08-30",
         -2,
         22.67
        ],
        [
         65844,
         128849018889,
         "Comfort Inn",
         "2017-08-18",
         "2017-08-27",
         -2,
         25.6
        ],
        [
         185668,
         77309411329,
         "Courtyard Hattiesburg",
         "2017-09-21",
         "2017-09-30",
         -2,
         25.6
        ],
        [
         749793,
         1331439861762,
         "Suburban Extended Stay of Memphis Bartlett",
         "2017-08-15",
         "2017-08-22",
         2,
         27.6
        ],
        [
         1324647,
         1460288880640,
         "La Quinta Inn-houston",
         "2017-08-06",
         "2017-08-13",
         2,
         29.63
        ],
        [
         1355454,
         1460288880640,
         "La Quinta Inn-houston",
         "2017-08-06",
         "2017-08-13",
         2,
         29.63
        ],
        [
         1714796,
         2980707303435,
         "Fletcher Hotel Amsterdam",
         "2017-08-17",
         "2017-09-07",
         -2,
         16.1
        ],
        [
         1907543,
         274877906944,
         "Microtel of Ste Genevieve",
         "2017-08-22",
         "2017-08-30",
         -2,
         22.67
        ],
        [
         2448737,
         1460288880640,
         "La Quinta Inn-houston",
         "2017-08-06",
         "2017-08-13",
         2,
         29.63
        ],
        [
         116716,
         2551210573830,
         "Novotel Amsterdam City",
         "2017-08-03",
         "2017-08-11",
         -1.9,
         17.55
        ],
        [
         177419,
         2422361554950,
         "The Student Hotel Amsterdam City",
         "2017-08-03",
         "2017-08-11",
         -1.9,
         17.55
        ],
        [
         185516,
         2585570312200,
         "citizenM Amsterdam",
         "2017-08-03",
         "2017-08-11",
         -1.9,
         17.55
        ],
        [
         204213,
         3040836845574,
         "Inntel Hotels Amsterdam Centre",
         "2017-08-03",
         "2017-08-11",
         -1.9,
         17.55
        ],
        [
         235886,
         2113123909637,
         "Savoy Hotel Amsterdam",
         "2017-08-03",
         "2017-08-11",
         -1.9,
         17.55
        ],
        [
         344293,
         2628519985159,
         "Holiday Inn Amsterdam",
         "2017-08-03",
         "2017-08-11",
         -1.9,
         17.55
        ],
        [
         439818,
         2422361554950,
         "The Student Hotel Amsterdam City",
         "2017-08-03",
         "2017-08-11",
         -1.9,
         17.55
        ],
        [
         522865,
         2894807957506,
         "Apollofirst Boutique Hotel",
         "2017-08-03",
         "2017-08-11",
         -1.9,
         17.55
        ],
        [
         525357,
         2121713844227,
         "Grand Hotel Downtown",
         "2017-08-03",
         "2017-08-11",
         -1.9,
         17.55
        ],
        [
         532875,
         3023656976390,
         "Hotel Amsterdam De Roode Leeuw",
         "2017-08-03",
         "2017-08-11",
         -1.9,
         17.55
        ],
        [
         547988,
         962072674308,
         "La Brea Hotel",
         "2017-09-12",
         "2017-09-21",
         -1.9,
         19.9
        ],
        [
         586475,
         1941325217798,
         "Hyatt Regency Amsterdam",
         "2017-08-03",
         "2017-08-11",
         -1.9,
         17.55
        ],
        [
         718764,
         2113123909637,
         "Savoy Hotel Amsterdam",
         "2017-08-03",
         "2017-08-11",
         -1.9,
         17.55
        ],
        [
         791544,
         3238405341191,
         "Ambassade Hotel",
         "2017-08-03",
         "2017-08-11",
         -1.9,
         17.55
        ],
        [
         877135,
         1305670057986,
         "Marquesa Hotel & Cafe Marquesa",
         "2017-08-15",
         "2017-08-26",
         -1.9,
         29.25
        ],
        [
         905191,
         3212635537412,
         "Luxury Suites Amsterdam",
         "2017-08-03",
         "2017-08-11",
         -1.9,
         17.55
        ],
        [
         981869,
         2413771620356,
         "NH Amsterdam Centre",
         "2017-08-03",
         "2017-08-11",
         -1.9,
         17.55
        ],
        [
         1082860,
         2894807957506,
         "Apollofirst Boutique Hotel",
         "2017-08-03",
         "2017-08-11",
         -1.9,
         17.55
        ],
        [
         1110460,
         3350074490880,
         "Hotel Arena",
         "2017-08-03",
         "2017-08-11",
         -1.9,
         17.55
        ],
        [
         1139192,
         2980707303428,
         "Element Amsterdam",
         "2017-08-03",
         "2017-08-11",
         -1.9,
         17.55
        ],
        [
         1182044,
         2302102470662,
         "Sir Albert Hotel",
         "2017-08-03",
         "2017-08-11",
         -1.9,
         17.55
        ],
        [
         1207943,
         2997887172610,
         "WestCord Fashion Hotel Amsterdam",
         "2017-08-03",
         "2017-08-11",
         -1.9,
         17.55
        ],
        [
         1256122,
         42949672962,
         "Relax Inn",
         "2017-08-15",
         "2017-08-27",
         1.9,
         24.05
        ],
        [
         1311471,
         2525440770055,
         "W Amsterdam",
         "2017-08-03",
         "2017-08-11",
         -1.9,
         17.55
        ],
        [
         1351733,
         3238405341191,
         "Ambassade Hotel",
         "2017-08-03",
         "2017-08-11",
         -1.9,
         17.55
        ],
        [
         1487896,
         858993459207,
         "Rodeway Inn Near Venice Beach",
         "2017-09-12",
         "2017-09-21",
         -1.9,
         19.9
        ],
        [
         1503999,
         2783138807815,
         "Dikker en Thijs Fenice Hotel",
         "2017-08-03",
         "2017-08-11",
         -1.9,
         17.55
        ],
        [
         1519979,
         137438953477,
         "Holiday Inn Express and Suites Gahanna/columbus Airport E",
         "2016-10-04",
         "2016-10-16",
         1.9,
         19.55
        ],
        [
         1620356,
         2989297238018,
         "Swiss tel Amsterdam",
         "2017-08-03",
         "2017-08-11",
         -1.9,
         17.55
        ],
        [
         1625812,
         1752346656775,
         "NH Amsterdam Zuid",
         "2017-08-03",
         "2017-08-11",
         -1.9,
         17.55
        ],
        [
         1634050,
         2783138807815,
         "Dikker en Thijs Fenice Hotel",
         "2017-08-03",
         "2017-08-11",
         -1.9,
         17.55
        ],
        [
         1644312,
         2877628088324,
         "Hotel Vondel Amsterdam",
         "2017-08-03",
         "2017-08-11",
         -1.9,
         17.55
        ],
        [
         1727888,
         3393024163847,
         "Banks Mansion All Inclusive Hotel",
         "2017-08-03",
         "2017-08-11",
         -1.9,
         17.55
        ],
        [
         1766902,
         2997887172610,
         "WestCord Fashion Hotel Amsterdam",
         "2017-08-03",
         "2017-08-11",
         -1.9,
         17.55
        ],
        [
         1773362,
         2834678415366,
         "Amadi Park Hotel",
         "2017-08-03",
         "2017-08-11",
         -1.9,
         17.55
        ],
        [
         1864363,
         2877628088324,
         "Hotel Vondel Amsterdam",
         "2017-08-03",
         "2017-08-11",
         -1.9,
         17.55
        ],
        [
         1888661,
         369367187459,
         "Quality Inn & Suites - Riverfront",
         "2017-08-31",
         "2017-09-10",
         -1.9,
         16.45
        ],
        [
         1893610,
         1838246002690,
         "Chasse Hotel",
         "2017-08-03",
         "2017-08-11",
         -1.9,
         17.55
        ],
        [
         2020768,
         2662879723525,
         "Hotel V Nesplein",
         "2017-08-03",
         "2017-08-11",
         -1.9,
         17.55
        ],
        [
         2056146,
         2731599200258,
         "Hotel Roemer Amsterdam",
         "2017-08-03",
         "2017-08-11",
         -1.9,
         17.55
        ],
        [
         2129608,
         3393024163845,
         "Hotel De Hallen",
         "2017-08-03",
         "2017-08-11",
         -1.9,
         17.55
        ],
        [
         2149763,
         1838246002690,
         "Chasse Hotel",
         "2017-08-03",
         "2017-08-11",
         -1.9,
         17.55
        ],
        [
         2332934,
         2156073582599,
         "Bilderberg Garden Hotel",
         "2017-08-03",
         "2017-08-11",
         -1.9,
         17.55
        ],
        [
         2443165,
         2199023255556,
         "NH Amsterdam Caransa",
         "2017-08-03",
         "2017-08-11",
         -1.9,
         17.55
        ],
        [
         2453273,
         3238405341191,
         "Ambassade Hotel",
         "2017-08-03",
         "2017-08-11",
         -1.9,
         17.55
        ],
        [
         31742,
         2138893713412,
         "Hotel Principe Di Savoia",
         "2017-08-17",
         "2017-08-31",
         -1.8,
         24.6
        ],
        [
         383901,
         377957122048,
         "Econo Lodge",
         "2017-08-17",
         "2017-08-25",
         -1.8,
         26.8
        ],
        [
         513233,
         1769526525962,
         "TownHouse Duomo",
         "2017-08-17",
         "2017-08-31",
         -1.8,
         24.6
        ],
        [
         652554,
         395136991234,
         "Hitching Horse Inn",
         "2017-08-12",
         "2017-08-22",
         -1.8,
         21.3
        ],
        [
         722448,
         970662608904,
         "Hotel Roc Flamingo",
         "2017-08-15",
         "2017-08-27",
         1.8,
         24.35
        ],
        [
         804623,
         2035814498308,
         "Carlyle Brera Hotel",
         "2017-08-17",
         "2017-08-31",
         -1.8,
         24.6
        ],
        [
         871740,
         2413771620355,
         "Qualys Hotel Nasco",
         "2017-08-17",
         "2017-08-31",
         -1.8,
         24.6
        ],
        [
         934711,
         506806140929,
         "Profile Deluxe Motel",
         "2016-10-12",
         "2016-10-19",
         1.8,
         11.3
        ],
        [
         1020835,
         3066606649355,
         "Hotel degli Arcimboldi",
         "2017-08-17",
         "2017-08-31",
         -1.8,
         24.6
        ],
        [
         1066950,
         1477468749829,
         "Super 8 Batesville Ar",
         "2017-08-18",
         "2017-08-27",
         -1.8,
         25.7
        ],
        [
         1098724,
         206158430211,
         "Days Inn Ruther Glen Kings Dominion Area",
         "2017-09-04",
         "2017-09-28",
         1.8,
         20.17
        ],
        [
         1195623,
         377957122048,
         "Econo Lodge",
         "2017-08-17",
         "2017-08-25",
         -1.8,
         26.8
        ],
        [
         1402260,
         2826088480776,
         "TownHouse 33",
         "2017-08-17",
         "2017-08-31",
         -1.8,
         24.6
        ],
        [
         1430798,
         927712935938,
         "Americinn Lodge Suites Princeton",
         "2017-08-02",
         "2017-08-14",
         -1.8,
         22.5
        ],
        [
         1570690,
         163208757249,
         "Hotel Roc Lago Rojo",
         "2017-08-19",
         "2017-08-26",
         1.8,
         24.5
        ],
        [
         1616539,
         1151051235328,
         "Eldorado Suites Hotel",
         "2017-08-22",
         "2017-08-31",
         -1.8,
         24.2
        ],
        [
         1715016,
         2542620639237,
         "Ibis Styles Milano Palmanova",
         "2017-08-17",
         "2017-08-31",
         -1.8,
         24.6
        ],
        [
         1845729,
         377957122048,
         "Econo Lodge",
         "2017-08-17",
         "2017-08-25",
         -1.8,
         26.8
        ],
        [
         1889495,
         2413771620358,
         "Bianca Maria Palace Hotel",
         "2017-08-17",
         "2017-08-31",
         -1.8,
         24.6
        ],
        [
         2139543,
         163208757249,
         "Hotel Roc Lago Rojo",
         "2017-08-15",
         "2017-08-27",
         1.8,
         24.35
        ],
        [
         2299970,
         395136991234,
         "Hitching Horse Inn",
         "2017-08-12",
         "2017-08-22",
         -1.8,
         21.3
        ],
        [
         2360867,
         1030792151041,
         "Super 8 Alamosa",
         "2017-08-08",
         "2017-08-25",
         1.8,
         15.77
        ],
        [
         2390743,
         2027224563717,
         "IH Hotels Milano Ambasciatori",
         "2017-08-17",
         "2017-08-31",
         -1.8,
         24.6
        ],
        [
         2446561,
         506806140929,
         "Profile Deluxe Motel",
         "2016-10-12",
         "2016-10-19",
         1.8,
         11.3
        ],
        [
         2466825,
         1571958030339,
         "Hotel Columbia",
         "2017-09-08",
         "2017-09-19",
         -1.8,
         7.3
        ],
        [
         2484188,
         2130303778823,
         "Best Western Atlantic Hotel",
         "2017-08-17",
         "2017-08-31",
         -1.8,
         24.6
        ],
        [
         951664,
         1168231104517,
         "Quality Inn Gulfport",
         "2017-08-26",
         "2017-09-02",
         -1.7,
         26.47
        ],
        [
         1337362,
         1013612281864,
         "Pavilion Lodge",
         "2017-08-05",
         "2017-08-12",
         -1.7,
         19.63
        ],
        [
         1962312,
         25769803779,
         "Advance Motel",
         "2017-08-11",
         "2017-08-29",
         1.7,
         15.55
        ],
        [
         15049,
         3238405341185,
         "BoB Hotel by Elegancia",
         "2016-10-09",
         "2016-10-23",
         -1.6,
         7.9
        ],
        [
         22002,
         1262720385024,
         "Holiday Inn Express & Suites Phoenix Downtown - Ballpark",
         "2017-08-25",
         "2017-09-03",
         -1.6,
         34.1
        ],
        [
         78667,
         2138893713410,
         "Best Western Premier Trocadero La Tour",
         "2016-10-09",
         "2016-10-23",
         -1.6,
         7.9
        ],
        [
         94735,
         2473901162501,
         "Sina De La Ville",
         "2016-10-16",
         "2016-10-24",
         -1.6,
         11.5
        ],
        [
         124847,
         2138893713413,
         "TH Street Duomo",
         "2016-10-16",
         "2016-10-24",
         -1.6,
         11.5
        ],
        [
         136891,
         1821066133506,
         "Hotel Cavour",
         "2016-10-16",
         "2016-10-24",
         -1.6,
         11.5
        ],
        [
         143701,
         2817498546184,
         "Admiral Hotel",
         "2016-10-16",
         "2016-10-24",
         -1.6,
         11.5
        ],
        [
         174393,
         1915555414022,
         "Hotel Wagner",
         "2017-08-06",
         "2017-08-17",
         1.6,
         23.93
        ],
        [
         181939,
         1975684956170,
         "Hotel Sunflower",
         "2017-08-06",
         "2017-08-17",
         1.6,
         23.93
        ],
        [
         194507,
         3023656976392,
         "Hotel Mercure Milano Centro",
         "2016-10-16",
         "2016-10-24",
         -1.6,
         11.5
        ],
        [
         213697,
         2568390443017,
         "IH Hotels Milano Gioia",
         "2016-10-16",
         "2016-10-24",
         -1.6,
         11.5
        ],
        [
         226089,
         2929167695877,
         "UNA Hotel Cusani",
         "2016-10-16",
         "2016-10-24",
         -1.6,
         11.5
        ],
        [
         243796,
         1717986918405,
         "Hotel Crivi s",
         "2016-10-16",
         "2016-10-24",
         -1.6,
         11.5
        ],
        [
         243912,
         2680059592705,
         "Hotel VIU Milan",
         "2017-08-06",
         "2017-08-17",
         1.6,
         23.93
        ],
        [
         275508,
         2087354105860,
         "Park Hyatt Milano",
         "2016-10-16",
         "2016-10-24",
         -1.6,
         11.5
        ],
        [
         292772,
         2534030704648,
         "Four Seasons Hotel Milano",
         "2016-10-16",
         "2016-10-24",
         -1.6,
         11.5
        ],
        [
         293774,
         3023656976392,
         "Hotel Mercure Milano Centro",
         "2017-08-06",
         "2017-08-17",
         1.6,
         23.93
        ],
        [
         315884,
         3169685864453,
         "Novotel Milano Nord Ca Granda",
         "2016-10-16",
         "2016-10-24",
         -1.6,
         11.5
        ],
        [
         334220,
         3049426780170,
         "Hotel Mozart",
         "2017-08-06",
         "2017-08-17",
         1.6,
         23.93
        ],
        [
         377034,
         2542620639237,
         "Ibis Styles Milano Palmanova",
         "2017-08-06",
         "2017-08-17",
         1.6,
         23.93
        ],
        [
         399845,
         2216203124736,
         "Mercure Paris Centre Tour Eiffel",
         "2016-10-09",
         "2016-10-23",
         -1.6,
         7.9
        ],
        [
         412745,
         2310692405258,
         "Hotel Marconi",
         "2016-10-16",
         "2016-10-24",
         -1.6,
         11.5
        ],
        [
         412783,
         3032246910982,
         "Best Western Hotel Ascot",
         "2016-10-16",
         "2016-10-24",
         -1.6,
         11.5
        ],
        [
         426914,
         2997887172614,
         "NH Milano Palazzo Moscova",
         "2016-10-16",
         "2016-10-24",
         -1.6,
         11.5
        ],
        [
         441151,
         2954937499659,
         "Hotel Tiziano Park Vita Parcour Gruppo MiniHotels",
         "2016-10-16",
         "2016-10-24",
         -1.6,
         11.5
        ],
        [
         462011,
         2551210573833,
         "STRAF a Member of Design Hotels",
         "2016-10-16",
         "2016-10-24",
         -1.6,
         11.5
        ],
        [
         470365,
         2362232012809,
         "Camperio House Suites Apartments",
         "2016-10-16",
         "2016-10-24",
         -1.6,
         11.5
        ],
        [
         482683,
         1795296329735,
         "Windsor Hotel Milano",
         "2016-10-16",
         "2016-10-24",
         -1.6,
         11.5
        ],
        [
         495145,
         1760936591371,
         "Palazzo Segreti",
         "2016-10-16",
         "2016-10-24",
         -1.6,
         11.5
        ],
        [
         498874,
         2680059592710,
         "Starhotels Echo",
         "2016-10-16",
         "2016-10-24",
         -1.6,
         11.5
        ],
        [
         550278,
         2250562863106,
         "Maison Borella",
         "2017-08-06",
         "2017-08-17",
         1.6,
         23.93
        ],
        [
         579521,
         2078764171269,
         "Armani Hotel Milano",
         "2016-10-16",
         "2016-10-24",
         -1.6,
         11.5
        ],
        [
         580368,
         3032246910982,
         "Best Western Hotel Ascot",
         "2016-10-16",
         "2016-10-24",
         -1.6,
         11.5
        ],
        [
         637259,
         1151051235333,
         "Clarion Suites Philadelphia",
         "2017-08-28",
         "2017-09-04",
         1.6,
         18.43
        ],
        [
         647557,
         3178275799046,
         "Hotel Romana Residence",
         "2016-10-16",
         "2016-10-24",
         -1.6,
         11.5
        ],
        [
         660388,
         1262720385024,
         "Holiday Inn Express & Suites Phoenix Downtown - Ballpark",
         "2017-08-25",
         "2017-09-03",
         -1.6,
         34.1
        ],
        [
         660515,
         1769526525961,
         "Brunelleschi Hotel",
         "2016-10-16",
         "2016-10-24",
         -1.6,
         11.5
        ],
        [
         688341,
         2138893713412,
         "Hotel Principe Di Savoia",
         "2016-10-16",
         "2016-10-24",
         -1.6,
         11.5
        ],
        [
         706378,
         3393024163852,
         "LaGare Hotel Milano Centrale MGallery by Sofitel",
         "2016-10-16",
         "2016-10-24",
         -1.6,
         11.5
        ],
        [
         725776,
         2379411881992,
         "Rosa Grand Milano Starhotels Collezione",
         "2016-10-16",
         "2016-10-24",
         -1.6,
         11.5
        ],
        [
         726372,
         575525617665,
         "Alpine Motel",
         "2017-09-13",
         "2017-09-20",
         -1.6,
         19.8
        ],
        [
         727343,
         2250562863106,
         "Maison Borella",
         "2017-08-06",
         "2017-08-17",
         1.6,
         23.93
        ],
        [
         736776,
         2654289788931,
         "Best Western Hotel Astoria",
         "2016-10-16",
         "2016-10-24",
         -1.6,
         11.5
        ],
        [
         746126,
         2138893713412,
         "Hotel Principe Di Savoia",
         "2016-10-16",
         "2016-10-24",
         -1.6,
         11.5
        ],
        [
         758252,
         1821066133506,
         "Hotel Cavour",
         "2016-10-16",
         "2016-10-24",
         -1.6,
         11.5
        ],
        [
         762064,
         2765958938627,
         "Best Western Bretagne Montparnasse",
         "2016-10-09",
         "2016-10-23",
         -1.6,
         7.9
        ],
        [
         763898,
         1778116460553,
         "NH Milano Machiavelli",
         "2016-10-16",
         "2016-10-24",
         -1.6,
         11.5
        ],
        [
         779366,
         3161095929864,
         "Hotel Vittoria",
         "2016-10-16",
         "2016-10-24",
         -1.6,
         11.5
        ],
        [
         800676,
         3221225472009,
         "Holiday Inn Milan Garibaldi Station",
         "2017-08-06",
         "2017-08-17",
         1.6,
         23.93
        ],
        [
         806787,
         3092376453126,
         "LHP Hotel Napoleon",
         "2017-08-06",
         "2017-08-17",
         1.6,
         23.93
        ],
        [
         820077,
         498216206338,
         "Extended Stay America - Fort Lauderdale - Davie",
         "2016-10-07",
         "2016-10-14",
         -1.6,
         26.9
        ],
        [
         837120,
         1821066133506,
         "Hotel Cavour",
         "2016-10-16",
         "2016-10-24",
         -1.6,
         11.5
        ],
        [
         853261,
         1168231104517,
         "Quality Inn Gulfport",
         "2017-08-23",
         "2017-09-02",
         -1.6,
         26.68
        ],
        [
         868010,
         2413771620358,
         "Bianca Maria Palace Hotel",
         "2016-10-16",
         "2016-10-24",
         -1.6,
         11.5
        ],
        [
         897132,
         3066606649354,
         "Hotel La Spezia Gruppo MiniHotel",
         "2017-08-06",
         "2017-08-17",
         1.6,
         23.93
        ],
        [
         906871,
         2954937499660,
         "Radisson Blu Hotel Milan",
         "2017-08-06",
         "2017-08-17",
         1.6,
         23.93
        ],
        [
         920779,
         2997887172614,
         "NH Milano Palazzo Moscova",
         "2016-10-16",
         "2016-10-24",
         -1.6,
         11.5
        ],
        [
         929007,
         3169685864452,
         "Colombia",
         "2017-08-06",
         "2017-08-17",
         1.6,
         23.93
        ],
        [
         942848,
         3135326126082,
         "Room Mate Giulia",
         "2016-10-16",
         "2016-10-24",
         -1.6,
         11.5
        ],
        [
         958585,
         1717986918405,
         "Hotel Crivi s",
         "2016-10-16",
         "2016-10-24",
         -1.6,
         11.5
        ],
        [
         985089,
         3015067041794,
         "Antares Hotel Rubens",
         "2017-08-06",
         "2017-08-17",
         1.6,
         23.93
        ],
        [
         1001319,
         1778116460554,
         "Atahotel Contessa Jolanda",
         "2017-08-06",
         "2017-08-17",
         1.6,
         23.93
        ],
        [
         1016192,
         2061584302084,
         "Hotel Tocq",
         "2016-10-16",
         "2016-10-24",
         -1.6,
         11.5
        ],
        [
         1025986,
         3178275799050,
         "Hotel Mentana",
         "2016-10-16",
         "2016-10-24",
         -1.6,
         11.5
        ],
        [
         1054399,
         1795296329734,
         "Enterprise Hotel Design Boutique",
         "2016-10-16",
         "2016-10-24",
         -1.6,
         11.5
        ],
        [
         1069459,
         1821066133506,
         "Hotel Cavour",
         "2016-10-16",
         "2016-10-24",
         -1.6,
         11.5
        ],
        [
         1077963,
         2997887172612,
         "Starhotels Anderson",
         "2016-10-16",
         "2016-10-24",
         -1.6,
         11.5
        ],
        [
         1086630,
         3401614098439,
         "Hotel Spadari Al Duomo",
         "2016-10-16",
         "2016-10-24",
         -1.6,
         11.5
        ],
        [
         1134438,
         1743756722181,
         "Ch teau Monfort Relais Ch teaux",
         "2017-08-06",
         "2017-08-17",
         1.6,
         23.93
        ],
        [
         1168494,
         1821066133506,
         "Hotel Cavour",
         "2017-08-06",
         "2017-08-17",
         1.6,
         23.93
        ],
        [
         1205261,
         2817498546185,
         "Nhow Milan",
         "2016-10-16",
         "2016-10-24",
         -1.6,
         11.5
        ],
        [
         1211187,
         1795296329734,
         "Enterprise Hotel Design Boutique",
         "2017-08-06",
         "2017-08-17",
         1.6,
         23.93
        ],
        [
         1261280,
         3100966387712,
         "H tel Chaplain Paris Rive Gauche",
         "2016-10-09",
         "2016-10-23",
         -1.6,
         7.9
        ],
        [
         1264060,
         2250562863108,
         "Glam Milano",
         "2016-10-16",
         "2016-10-24",
         -1.6,
         11.5
        ],
        [
         1283526,
         3358664425480,
         "Hotel Mediolanum",
         "2016-10-16",
         "2016-10-24",
         -1.6,
         11.5
        ],
        [
         1288486,
         2250562863106,
         "Maison Borella",
         "2016-10-16",
         "2016-10-24",
         -1.6,
         11.5
        ],
        [
         1325086,
         1924145348611,
         "Villa Lut ce Port Royal",
         "2016-10-09",
         "2016-10-23",
         -1.6,
         7.9
        ],
        [
         1354332,
         3032246910982,
         "Best Western Hotel Ascot",
         "2016-10-16",
         "2016-10-24",
         -1.6,
         11.5
        ],
        [
         1387793,
         2731599200260,
         "Hotel Berna",
         "2016-10-16",
         "2016-10-24",
         -1.6,
         11.5
        ],
        [
         1423270,
         3135326126084,
         "Senato Hotel Milano",
         "2016-10-16",
         "2016-10-24",
         -1.6,
         11.5
        ],
        [
         1447922,
         2181843386378,
         "Hotel Carrobbio",
         "2016-10-16",
         "2016-10-24",
         -1.6,
         11.5
        ],
        [
         1451051,
         609885356033,
         "Holiday Inn",
         "2017-08-28",
         "2017-09-04",
         1.6,
         18.43
        ],
        [
         1458575,
         2001454759944,
         "Hotel Dei Cavalieri",
         "2016-10-16",
         "2016-10-24",
         -1.6,
         11.5
        ],
        [
         1477547,
         2826088480776,
         "TownHouse 33",
         "2016-10-16",
         "2016-10-24",
         -1.6,
         11.5
        ],
        [
         1478864,
         1726576852997,
         "Hotel Galileo",
         "2016-10-16",
         "2016-10-24",
         -1.6,
         11.5
        ],
        [
         1482344,
         2259152797704,
         "Sheraton Diana Majestic",
         "2016-10-16",
         "2016-10-24",
         -1.6,
         11.5
        ],
        [
         1553498,
         3066606649353,
         "IH Hotels Milano Watt 13",
         "2016-10-16",
         "2016-10-24",
         -1.6,
         11.5
        ],
        [
         1565353,
         2954937499660,
         "Radisson Blu Hotel Milan",
         "2016-10-16",
         "2016-10-24",
         -1.6,
         11.5
        ],
        [
         1570185,
         3075196583944,
         "Best Western Plus Hotel Felice Casati",
         "2016-10-16",
         "2016-10-24",
         -1.6,
         11.5
        ],
        [
         1579588,
         2473901162501,
         "Sina De La Ville",
         "2017-08-06",
         "2017-08-17",
         1.6,
         23.93
        ],
        [
         1583057,
         2774548873220,
         "Sina The Gray",
         "2016-10-16",
         "2016-10-24",
         -1.6,
         11.5
        ],
        [
         1598465,
         2765958938631,
         "Hotel Santa Marta Suites",
         "2016-10-16",
         "2016-10-24",
         -1.6,
         11.5
        ],
        [
         1614486,
         2362232012809,
         "Camperio House Suites Apartments",
         "2017-08-06",
         "2017-08-17",
         1.6,
         23.93
        ],
        [
         1669608,
         3315714752517,
         "Best Western Hotel St George",
         "2017-08-06",
         "2017-08-17",
         1.6,
         23.93
        ],
        [
         1717053,
         1151051235333,
         "Clarion Suites Philadelphia",
         "2017-08-28",
         "2017-09-04",
         1.6,
         18.43
        ],
        [
         1728027,
         2817498546185,
         "Nhow Milan",
         "2016-10-16",
         "2016-10-24",
         -1.6,
         11.5
        ],
        [
         1729926,
         3393024163850,
         "Art Hotel Navigli",
         "2016-10-16",
         "2016-10-24",
         -1.6,
         11.5
        ],
        [
         1741069,
         2276332666880,
         "Le Pradey",
         "2016-10-09",
         "2016-10-23",
         -1.6,
         7.9
        ],
        [
         1802249,
         3375844294666,
         "MiHotel",
         "2016-10-16",
         "2016-10-24",
         -1.6,
         11.5
        ],
        [
         1805415,
         2413771620355,
         "Qualys Hotel Nasco",
         "2016-10-16",
         "2016-10-24",
         -1.6,
         11.5
        ],
        [
         1824952,
         1829656068102,
         "NYX Milan",
         "2017-08-06",
         "2017-08-17",
         1.6,
         23.93
        ],
        [
         1844598,
         1013612281865,
         "Ritz Hotel",
         "2016-10-03",
         "2016-10-16",
         1.6,
         14.17
        ],
        [
         1850213,
         2284922601481,
         "Mokinba Hotels Montebianco",
         "2017-08-06",
         "2017-08-17",
         1.6,
         23.93
        ],
        [
         1871331,
         3066606649354,
         "Hotel La Spezia Gruppo MiniHotel",
         "2016-10-16",
         "2016-10-24",
         -1.6,
         11.5
        ],
        [
         1877391,
         1778116460554,
         "Atahotel Contessa Jolanda",
         "2017-08-06",
         "2017-08-17",
         1.6,
         23.93
        ],
        [
         1881127,
         2405181685764,
         "Hotel Manin",
         "2016-10-16",
         "2016-10-24",
         -1.6,
         11.5
        ],
        [
         1897559,
         2731599200260,
         "Hotel Berna",
         "2017-08-06",
         "2017-08-17",
         1.6,
         23.93
        ],
        [
         1918362,
         1898375544837,
         "Hotel Lombardia",
         "2016-10-16",
         "2016-10-24",
         -1.6,
         11.5
        ],
        [
         1927014,
         3393024163853,
         "Leonardo Hotel Milan City Center",
         "2017-08-06",
         "2017-08-17",
         1.6,
         23.93
        ],
        [
         1934078,
         2010044694530,
         "Novotel Paris Gare De Lyon",
         "2016-10-09",
         "2016-10-23",
         -1.6,
         7.9
        ],
        [
         2009440,
         2413771620357,
         "Hilton Garden Inn Milan North",
         "2016-10-16",
         "2016-10-24",
         -1.6,
         11.5
        ],
        [
         2021230,
         2748779069445,
         "Crowne Plaza Milan City",
         "2016-10-16",
         "2016-10-24",
         -1.6,
         11.5
        ],
        [
         2034379,
         3118146256901,
         "Atahotel Linea Uno",
         "2016-10-16",
         "2016-10-24",
         -1.6,
         11.5
        ],
        [
         2048562,
         3358664425480,
         "Hotel Mediolanum",
         "2016-10-16",
         "2016-10-24",
         -1.6,
         11.5
        ],
        [
         2067476,
         1760936591371,
         "Palazzo Segreti",
         "2017-08-06",
         "2017-08-17",
         1.6,
         23.93
        ],
        [
         2081772,
         1795296329734,
         "Enterprise Hotel Design Boutique",
         "2017-08-06",
         "2017-08-17",
         1.6,
         23.93
        ],
        [
         2108722,
         1941325217793,
         "Mercure Paris Alesia",
         "2016-10-09",
         "2016-10-23",
         -1.6,
         7.9
        ],
        [
         2112310,
         3023656976392,
         "Hotel Mercure Milano Centro",
         "2016-10-16",
         "2016-10-24",
         -1.6,
         11.5
        ],
        [
         2119788,
         3032246910982,
         "Best Western Hotel Ascot",
         "2016-10-16",
         "2016-10-24",
         -1.6,
         11.5
        ],
        [
         2137626,
         1752346656776,
         "Andreola Central Hotel",
         "2017-08-06",
         "2017-08-17",
         1.6,
         23.93
        ],
        [
         2154577,
         231928233985,
         "Fairfield Inn Saginaw",
         "2017-08-12",
         "2017-08-28",
         -1.6,
         19.95
        ],
        [
         2164912,
         3118146256901,
         "Atahotel Linea Uno",
         "2016-10-16",
         "2016-10-24",
         -1.6,
         11.5
        ],
        [
         2168219,
         2319282339843,
         "Mokinba Hotels King",
         "2016-10-16",
         "2016-10-24",
         -1.6,
         11.5
        ],
        [
         2180731,
         1915555414022,
         "Hotel Wagner",
         "2016-10-16",
         "2016-10-24",
         -1.6,
         11.5
        ],
        [
         2197512,
         1717986918405,
         "Hotel Crivi s",
         "2016-10-16",
         "2016-10-24",
         -1.6,
         11.5
        ],
        [
         2216188,
         1726576852997,
         "Hotel Galileo",
         "2016-10-16",
         "2016-10-24",
         -1.6,
         11.5
        ],
        [
         2243870,
         1331439861766,
         "Sonoma Coast Villa Spa",
         "2016-10-21",
         "2016-10-28",
         1.6,
         14.3
        ],
        [
         2249623,
         1666447310850,
         "La Quinta Inn and Suites Sunrise",
         "2016-10-07",
         "2016-10-14",
         -1.6,
         26.9
        ],
        [
         2249947,
         2723009265672,
         "NH Milano Grand Hotel Verdi",
         "2016-10-16",
         "2016-10-24",
         -1.6,
         11.5
        ],
        [
         2280779,
         3401614098439,
         "Hotel Spadari Al Duomo",
         "2017-08-06",
         "2017-08-17",
         1.6,
         23.93
        ],
        [
         2297627,
         3015067041794,
         "Antares Hotel Rubens",
         "2016-10-16",
         "2016-10-24",
         -1.6,
         11.5
        ],
        [
         2351940,
         2267742732300,
         "Hotel Pierre Milano",
         "2016-10-16",
         "2016-10-24",
         -1.6,
         11.5
        ],
        [
         2365896,
         1846835937285,
         "Hotel Clerici",
         "2017-08-06",
         "2017-08-17",
         1.6,
         23.93
        ],
        [
         2368764,
         3393024163852,
         "LaGare Hotel Milano Centrale MGallery by Sofitel",
         "2016-10-16",
         "2016-10-24",
         -1.6,
         11.5
        ],
        [
         2381619,
         2284922601481,
         "Mokinba Hotels Montebianco",
         "2016-10-16",
         "2016-10-24",
         -1.6,
         11.5
        ],
        [
         2382037,
         2078764171269,
         "Armani Hotel Milano",
         "2017-08-06",
         "2017-08-17",
         1.6,
         23.93
        ],
        [
         2389813,
         2448131358726,
         "Hotel Michelangelo",
         "2016-10-16",
         "2016-10-24",
         -1.6,
         11.5
        ],
        [
         2405936,
         1778116460554,
         "Atahotel Contessa Jolanda",
         "2017-08-06",
         "2017-08-17",
         1.6,
         23.93
        ],
        [
         2431645,
         3324304687113,
         "Milan Suite Hotel",
         "2017-08-06",
         "2017-08-17",
         1.6,
         23.93
        ],
        [
         2456593,
         2413771620357,
         "Hilton Garden Inn Milan North",
         "2016-10-16",
         "2016-10-24",
         -1.6,
         11.5
        ],
        [
         2460801,
         1717986918407,
         "UNA Hotel Century",
         "2016-10-16",
         "2016-10-24",
         -1.6,
         11.5
        ],
        [
         2466732,
         1717986918407,
         "UNA Hotel Century",
         "2016-10-16",
         "2016-10-24",
         -1.6,
         11.5
        ],
        [
         2476854,
         1769526525962,
         "TownHouse Duomo",
         "2016-10-16",
         "2016-10-24",
         -1.6,
         11.5
        ],
        [
         2486047,
         2070174236676,
         "Hotel Manzoni",
         "2017-08-06",
         "2017-08-17",
         1.6,
         23.93
        ],
        [
         2493403,
         2259152797703,
         "Hotel Auriga",
         "2016-10-16",
         "2016-10-24",
         -1.6,
         11.5
        ],
        [
         2496732,
         3401614098439,
         "Hotel Spadari Al Duomo",
         "2016-10-16",
         "2016-10-24",
         -1.6,
         11.5
        ],
        [
         2503982,
         2147483648005,
         "Starhotels Business Palace",
         "2017-08-06",
         "2017-08-17",
         1.6,
         23.93
        ],
        [
         2508732,
         2774548873220,
         "Sina The Gray",
         "2017-08-06",
         "2017-08-17",
         1.6,
         23.93
        ],
        [
         2527798,
         2027224563715,
         "Best Western Hotel City",
         "2016-10-16",
         "2016-10-24",
         -1.6,
         11.5
        ],
        [
         6072,
         2370821947402,
         "ADI Doria Grand Hotel",
         "2017-08-06",
         "2017-08-14",
         -1.5,
         23.15
        ],
        [
         78034,
         429496729604,
         "Hotel Garibaldi",
         "2016-10-15",
         "2016-10-27",
         -1.5,
         15.55
        ],
        [
         125018,
         2817498546185,
         "Nhow Milan",
         "2017-08-06",
         "2017-08-14",
         -1.5,
         23.15
        ],
        [
         154523,
         2396591751176,
         "Bulgari Hotel Milano",
         "2017-08-06",
         "2017-08-14",
         -1.5,
         23.15
        ],
        [
         181676,
         3049426780170,
         "Hotel Mozart",
         "2017-08-06",
         "2017-08-14",
         -1.5,
         23.15
        ],
        [
         212124,
         2516850835462,
         "Hotel Liberty",
         "2017-08-06",
         "2017-08-14",
         -1.5,
         23.15
        ],
        [
         224495,
         3049426780170,
         "Hotel Mozart",
         "2017-08-06",
         "2017-08-14",
         -1.5,
         23.15
        ],
        [
         226173,
         2817498546185,
         "Nhow Milan",
         "2017-08-06",
         "2017-08-14",
         -1.5,
         23.15
        ],
        [
         242313,
         2765958938631,
         "Hotel Santa Marta Suites",
         "2017-08-06",
         "2017-08-14",
         -1.5,
         23.15
        ],
        [
         331447,
         2241972928518,
         "AC Hotel Milano a Marriott Lifestyle Hotel",
         "2017-08-06",
         "2017-08-14",
         -1.5,
         23.15
        ],
        [
         392874,
         2138893713412,
         "Hotel Principe Di Savoia",
         "2017-08-06",
         "2017-08-14",
         -1.5,
         23.15
        ],
        [
         428173,
         3315714752517,
         "Best Western Hotel St George",
         "2017-08-06",
         "2017-08-14",
         -1.5,
         23.15
        ],
        [
         450211,
         3272765079554,
         "Uptown Palace",
         "2017-08-06",
         "2017-08-14",
         -1.5,
         23.15
        ],
        [
         453432,
         2405181685766,
         "Hotel Mercure Milano Solari",
         "2017-08-06",
         "2017-08-14",
         -1.5,
         23.15
        ],
        [
         473407,
         2241972928515,
         "NH Collection Milano President",
         "2017-08-06",
         "2017-08-14",
         -1.5,
         23.15
        ],
        [
         482861,
         3393024163849,
         "TownHouse 12",
         "2017-08-06",
         "2017-08-14",
         -1.5,
         23.15
        ],
        [
         574175,
         2284922601481,
         "Mokinba Hotels Montebianco",
         "2017-08-06",
         "2017-08-14",
         -1.5,
         23.15
        ],
        [
         577032,
         2688649527302,
         "Andaz London Liverpool Street",
         "2017-08-07",
         "2017-08-25",
         1.5,
         16.35
        ],
        [
         671103,
         1717986918401,
         "Mimi s Hotel Soho",
         "2017-08-07",
         "2017-08-25",
         1.5,
         16.35
        ],
        [
         671346,
         3384434229250,
         "Hotel Lloyd",
         "2017-08-06",
         "2017-08-14",
         -1.5,
         23.15
        ],
        [
         692684,
         3255585210375,
         "Hotel Raffaello",
         "2017-08-06",
         "2017-08-14",
         -1.5,
         23.15
        ],
        [
         707372,
         2405181685766,
         "Hotel Mercure Milano Solari",
         "2017-08-06",
         "2017-08-14",
         -1.5,
         23.15
        ],
        [
         709015,
         3401614098439,
         "Hotel Spadari Al Duomo",
         "2017-08-06",
         "2017-08-14",
         -1.5,
         23.15
        ],
        [
         722919,
         1846835937282,
         "Holiday Inn London Wembley",
         "2017-08-07",
         "2017-08-25",
         1.5,
         16.35
        ],
        [
         731983,
         3023656976392,
         "Hotel Mercure Milano Centro",
         "2017-08-06",
         "2017-08-14",
         -1.5,
         23.15
        ],
        [
         745340,
         2551210573833,
         "STRAF a Member of Design Hotels",
         "2017-08-06",
         "2017-08-14",
         -1.5,
         23.15
        ],
        [
         748084,
         1795296329734,
         "Enterprise Hotel Design Boutique",
         "2017-08-06",
         "2017-08-14",
         -1.5,
         23.15
        ],
        [
         763030,
         2052994367489,
         "Canary Riverside Plaza Hotel",
         "2017-08-07",
         "2017-08-25",
         1.5,
         16.35
        ],
        [
         959952,
         3212635537409,
         "Park Grand London Lancaster Gate",
         "2017-08-07",
         "2017-08-25",
         1.5,
         16.35
        ],
        [
         1007448,
         3393024163852,
         "LaGare Hotel Milano Centrale MGallery by Sofitel",
         "2017-08-06",
         "2017-08-14",
         -1.5,
         23.15
        ],
        [
         1035036,
         2534030704645,
         "Best Western Plus Hotel Galles",
         "2017-08-06",
         "2017-08-14",
         -1.5,
         23.15
        ],
        [
         1106589,
         2362232012806,
         "ME Milan Il Duca",
         "2017-08-06",
         "2017-08-14",
         -1.5,
         23.15
        ],
        [
         1146430,
         2362232012809,
         "Camperio House Suites Apartments",
         "2017-08-06",
         "2017-08-14",
         -1.5,
         23.15
        ],
        [
         1183065,
         3298534883328,
         "The Principal London",
         "2017-08-07",
         "2017-08-25",
         1.5,
         16.35
        ],
        [
         1245805,
         2817498546185,
         "Nhow Milan",
         "2017-08-06",
         "2017-08-14",
         -1.5,
         23.15
        ],
        [
         1263018,
         1331439861766,
         "Sonoma Coast Villa Spa",
         "2017-08-04",
         "2017-08-16",
         -1.5,
         13.55
        ],
        [
         1280731,
         2491081031684,
         "Flemings Mayfair",
         "2017-08-07",
         "2017-08-25",
         1.5,
         16.35
        ],
        [
         1312651,
         3324304687113,
         "Milan Suite Hotel",
         "2017-08-06",
         "2017-08-14",
         -1.5,
         23.15
        ],
        [
         1312896,
         2568390443017,
         "IH Hotels Milano Gioia",
         "2017-08-06",
         "2017-08-14",
         -1.5,
         23.15
        ],
        [
         1376531,
         2680059592710,
         "Starhotels Echo",
         "2017-08-06",
         "2017-08-14",
         -1.5,
         23.15
        ],
        [
         1425968,
         1417339207684,
         "Patalya Thermal Resort",
         "2016-10-03",
         "2016-10-11",
         -1.5,
         13.15
        ],
        [
         1446344,
         3289944948738,
         "The Royal Park Hotel",
         "2017-08-07",
         "2017-08-25",
         1.5,
         16.35
        ],
        [
         1470211,
         2877628088323,
         "Novotel Milano Linate Aeroporto",
         "2017-08-06",
         "2017-08-14",
         -1.5,
         23.15
        ],
        [
         1471056,
         1898375544836,
         "Mercure Milano Regency",
         "2017-08-06",
         "2017-08-14",
         -1.5,
         23.15
        ],
        [
         1486939,
         1795296329734,
         "Enterprise Hotel Design Boutique",
         "2017-08-06",
         "2017-08-14",
         -1.5,
         23.15
        ],
        [
         1488219,
         3393024163852,
         "LaGare Hotel Milano Centrale MGallery by Sofitel",
         "2017-08-06",
         "2017-08-14",
         -1.5,
         23.15
        ],
        [
         1518793,
         3152505995272,
         "Best Western Hotel Major",
         "2017-08-06",
         "2017-08-14",
         -1.5,
         23.15
        ],
        [
         1521523,
         2997887172612,
         "Starhotels Anderson",
         "2017-08-06",
         "2017-08-14",
         -1.5,
         23.15
        ],
        [
         1585546,
         3401614098439,
         "Hotel Spadari Al Duomo",
         "2017-08-06",
         "2017-08-14",
         -1.5,
         23.15
        ],
        [
         1825685,
         85899345925,
         "Central House",
         "2017-09-06",
         "2017-09-13",
         1.5,
         17.85
        ],
        [
         1894244,
         2070174236673,
         "Goodenough Club",
         "2017-08-07",
         "2017-08-25",
         1.5,
         16.35
        ],
        [
         1901018,
         2723009265672,
         "NH Milano Grand Hotel Verdi",
         "2017-08-06",
         "2017-08-14",
         -1.5,
         23.15
        ],
        [
         1920358,
         2164663517189,
         "Mercure London Hyde Park",
         "2017-08-07",
         "2017-08-25",
         1.5,
         16.35
        ],
        [
         1927023,
         2319282339843,
         "Mokinba Hotels King",
         "2017-08-06",
         "2017-08-14",
         -1.5,
         23.15
        ],
        [
         1966101,
         2241972928513,
         "Hotel Indigo London Tower Hill",
         "2017-08-07",
         "2017-08-25",
         1.5,
         16.35
        ],
        [
         1975425,
         2422361554945,
         "Charlotte Street Hotel",
         "2017-08-07",
         "2017-08-25",
         1.5,
         16.35
        ],
        [
         1987324,
         3255585210375,
         "Hotel Raffaello",
         "2017-08-06",
         "2017-08-14",
         -1.5,
         23.15
        ],
        [
         2000278,
         2568390443011,
         "Hilton London Euston",
         "2017-08-07",
         "2017-08-25",
         1.5,
         16.35
        ],
        [
         2004021,
         2310692405258,
         "Hotel Marconi",
         "2017-08-06",
         "2017-08-14",
         -1.5,
         23.15
        ],
        [
         2116210,
         3152505995272,
         "Best Western Hotel Major",
         "2017-08-06",
         "2017-08-14",
         -1.5,
         23.15
        ],
        [
         2153926,
         2448131358726,
         "Hotel Michelangelo",
         "2017-08-06",
         "2017-08-14",
         -1.5,
         23.15
        ],
        [
         2154542,
         3212635537413,
         "Starhotels Tourist",
         "2017-08-06",
         "2017-08-14",
         -1.5,
         23.15
        ],
        [
         2177687,
         2877628088322,
         "The Square Milano Duomo",
         "2017-08-06",
         "2017-08-14",
         -1.5,
         23.15
        ],
        [
         2180795,
         1846835937285,
         "Hotel Clerici",
         "2017-08-06",
         "2017-08-14",
         -1.5,
         23.15
        ],
        [
         2207639,
         2473901162502,
         "Antica Locanda Dei Mercanti",
         "2017-08-06",
         "2017-08-14",
         -1.5,
         23.15
        ],
        [
         2312047,
         1769526525961,
         "Brunelleschi Hotel",
         "2017-08-06",
         "2017-08-14",
         -1.5,
         23.15
        ],
        [
         2312438,
         2791728742403,
         "Hotel Bristol",
         "2017-08-06",
         "2017-08-14",
         -1.5,
         23.15
        ],
        [
         2352443,
         51539607552,
         "Hotel Guadalmedina",
         "2017-08-19",
         "2017-08-27",
         1.5,
         24.7
        ],
        [
         2389099,
         2748779069445,
         "Crowne Plaza Milan City",
         "2017-08-06",
         "2017-08-14",
         -1.5,
         23.15
        ],
        [
         2436574,
         2877628088322,
         "The Square Milano Duomo",
         "2017-08-06",
         "2017-08-14",
         -1.5,
         23.15
        ],
        [
         78282,
         1786706395140,
         "Starhotels Ritz",
         "2016-10-06",
         "2016-10-24",
         -1.4,
         11.7
        ],
        [
         322285,
         2216203124740,
         "Mercure Hotel Amsterdam City South",
         "2017-08-04",
         "2017-08-11",
         -1.4,
         17.13
        ],
        [
         402953,
         1769526525962,
         "TownHouse Duomo",
         "2016-10-06",
         "2016-10-24",
         -1.4,
         11.7
        ],
        [
         430990,
         3195455668228,
         "TownHouse Galleria",
         "2016-10-06",
         "2016-10-24",
         -1.4,
         11.7
        ],
        [
         510748,
         2559800508420,
         "ADI Hotel Poliziano Fiera",
         "2016-10-06",
         "2016-10-24",
         -1.4,
         11.7
        ],
        [
         649980,
         2087354105860,
         "Park Hyatt Milano",
         "2016-10-06",
         "2016-10-24",
         -1.4,
         11.7
        ],
        [
         796656,
         2551210573830,
         "Novotel Amsterdam City",
         "2017-08-04",
         "2017-08-11",
         -1.4,
         17.13
        ],
        [
         853793,
         2181843386376,
         "Best Western Delphi Hotel",
         "2017-08-04",
         "2017-08-11",
         -1.4,
         17.13
        ],
        [
         1103352,
         2482491097096,
         "Hotel Esther a",
         "2017-08-04",
         "2017-08-11",
         -1.4,
         17.13
        ],
        [
         1131479,
         3195455668228,
         "TownHouse Galleria",
         "2016-10-06",
         "2016-10-24",
         -1.4,
         11.7
        ],
        [
         1141784,
         2302102470662,
         "Sir Albert Hotel",
         "2017-08-04",
         "2017-08-11",
         -1.4,
         17.13
        ],
        [
         1219006,
         2611340115974,
         "NH Milano Touring",
         "2016-10-06",
         "2016-10-24",
         -1.4,
         11.7
        ],
        [
         1230866,
         3023656976390,
         "Hotel Amsterdam De Roode Leeuw",
         "2017-08-04",
         "2017-08-11",
         -1.4,
         17.13
        ],
        [
         1280741,
         2224793059330,
         "Radisson Blu Hotel Amsterdam",
         "2017-08-04",
         "2017-08-11",
         -1.4,
         17.13
        ],
        [
         1307732,
         893353197572,
         "Comfort Inn Humboldt Bay",
         "2016-10-24",
         "2016-10-31",
         -1.4,
         12.6
        ],
        [
         1316058,
         2894807957506,
         "Apollofirst Boutique Hotel",
         "2017-08-04",
         "2017-08-11",
         -1.4,
         17.13
        ],
        [
         1336623,
         1314259992576,
         "Fh Hotel Villa Fiesole",
         "2017-08-19",
         "2017-08-28",
         -1.4,
         23.63
        ],
        [
         1393394,
         2113123909637,
         "Savoy Hotel Amsterdam",
         "2017-08-04",
         "2017-08-11",
         -1.4,
         17.13
        ],
        [
         1400579,
         2310692405255,
         "NH Collection Amsterdam Barbizon Palace",
         "2017-08-04",
         "2017-08-11",
         -1.4,
         17.13
        ],
        [
         1410100,
         858993459201,
         "Comfort Suites South",
         "2016-10-01",
         "2016-10-19",
         -1.4,
         14.5
        ],
        [
         1462846,
         2551210573833,
         "STRAF a Member of Design Hotels",
         "2016-10-06",
         "2016-10-24",
         -1.4,
         11.7
        ],
        [
         1478259,
         2705829396486,
         "Best Western Premier Hotel Couture",
         "2017-08-04",
         "2017-08-11",
         -1.4,
         17.13
        ],
        [
         1542858,
         2241972928514,
         "Waldorf Astoria Amsterdam",
         "2017-08-04",
         "2017-08-11",
         -1.4,
         17.13
        ],
        [
         1567850,
         2482491097096,
         "Hotel Esther a",
         "2017-08-04",
         "2017-08-11",
         -1.4,
         17.13
        ],
        [
         1721968,
         2508260900870,
         "UNA Maison Milano",
         "2016-10-06",
         "2016-10-24",
         -1.4,
         11.7
        ],
        [
         1772459,
         2705829396486,
         "Best Western Premier Hotel Couture",
         "2017-08-04",
         "2017-08-11",
         -1.4,
         17.13
        ],
        [
         1801735,
         2259152797703,
         "Hotel Auriga",
         "2016-10-06",
         "2016-10-24",
         -1.4,
         11.7
        ],
        [
         1912473,
         3427383902211,
         "Hampshire Hotel Amsterdam American",
         "2017-08-04",
         "2017-08-11",
         -1.4,
         17.13
        ],
        [
         2100132,
         1941325217799,
         "NH City Centre Amsterdam",
         "2017-08-04",
         "2017-08-11",
         -1.4,
         17.13
        ],
        [
         2135034,
         3315714752517,
         "Best Western Hotel St George",
         "2016-10-06",
         "2016-10-24",
         -1.4,
         11.7
        ],
        [
         2153883,
         3238405341188,
         "Corendon Vitality Hotel Amsterdam",
         "2017-08-04",
         "2017-08-11",
         -1.4,
         17.13
        ],
        [
         2237204,
         2473901162501,
         "Sina De La Ville",
         "2016-10-06",
         "2016-10-24",
         -1.4,
         11.7
        ],
        [
         2279572,
         2413771620356,
         "NH Amsterdam Centre",
         "2017-08-04",
         "2017-08-11",
         -1.4,
         17.13
        ],
        [
         2503570,
         584115552256,
         "Hunting Lodge",
         "2017-08-27",
         "2017-09-16",
         1.4,
         19
        ],
        [
         6035,
         2035814498306,
         "H tel Champs lys es Plaza",
         "2016-10-19",
         "2016-10-31",
         1.3,
         9.1
        ],
        [
         126348,
         1726576852994,
         "Banke H tel",
         "2016-10-19",
         "2016-10-31",
         1.3,
         9.1
        ],
        [
         173896,
         2748779069441,
         "H tel Westminster",
         "2016-10-19",
         "2016-10-31",
         1.3,
         9.1
        ],
        [
         203886,
         3393024163851,
         "Hotel Magna Pars Small Luxury Hotels of the World",
         "2017-08-14",
         "2017-08-31",
         1.3,
         23.87
        ],
        [
         204249,
         3178275799041,
         "Mercure Paris Pigalle Sacre Coeur",
         "2016-10-19",
         "2016-10-31",
         1.3,
         9.1
        ],
        [
         257167,
         515396075525,
         "Magton Inc",
         "2017-09-19",
         "2017-09-26",
         1.3,
         21.55
        ],
        [
         295323,
         2508260900865,
         "Splendide Royal Paris",
         "2016-10-19",
         "2016-10-31",
         1.3,
         9.1
        ],
        [
         297859,
         1889785610240,
         "Hotel Panache",
         "2016-10-19",
         "2016-10-31",
         1.3,
         9.1
        ],
        [
         336495,
         2954937499652,
         "Four Seasons Hotel George V Paris",
         "2016-10-19",
         "2016-10-31",
         1.3,
         9.1
        ],
        [
         430441,
         1881195675653,
         "H tel Montmartre Mon Amour",
         "2016-10-19",
         "2016-10-31",
         1.3,
         9.1
        ],
        [
         430571,
         3221225472003,
         "Francois 1er",
         "2016-10-19",
         "2016-10-31",
         1.3,
         9.1
        ],
        [
         485275,
         962072674307,
         "Country Inn & Suites By Carlson, Rocky Mount, Nc",
         "2017-09-02",
         "2017-09-17",
         1.3,
         22.27
        ],
        [
         519107,
         2723009265664,
         "Melia Paris Champs Elys es",
         "2016-10-19",
         "2016-10-31",
         1.3,
         9.1
        ],
        [
         540072,
         3401614098439,
         "Hotel Spadari Al Duomo",
         "2017-08-14",
         "2017-08-31",
         1.3,
         23.87
        ],
        [
         545179,
         2345052143616,
         "Splendid Etoile",
         "2016-10-19",
         "2016-10-31",
         1.3,
         9.1
        ],
        [
         566905,
         2774548873216,
         "Les Plumes Hotel",
         "2016-10-19",
         "2016-10-31",
         1.3,
         9.1
        ],
        [
         600431,
         2370821947397,
         "Park Hyatt Paris Vendome",
         "2016-10-19",
         "2016-10-31",
         1.3,
         9.1
        ],
        [
         719962,
         1537598291968,
         "Intermezzo",
         "2017-08-25",
         "2017-09-08",
         -1.3,
         19.95
        ],
        [
         742864,
         1597727834112,
         "Clarion",
         "2017-09-06",
         "2017-09-13",
         -1.3,
         17.8
        ],
        [
         750266,
         2946347565059,
         "Hotel Villa Lafayette Paris IX",
         "2016-10-19",
         "2016-10-31",
         1.3,
         9.1
        ],
        [
         777901,
         1872605741058,
         "Rochester Champs Elysees",
         "2016-10-19",
         "2016-10-31",
         1.3,
         9.1
        ],
        [
         830678,
         2405181685761,
         "H tel R de Paris Boutique Hotel",
         "2016-10-19",
         "2016-10-31",
         1.3,
         9.1
        ],
        [
         831707,
         1511828488193,
         "Lake Raystown Resort Lodge & Conference Center",
         "2017-09-13",
         "2017-09-28",
         -1.3,
         17.6
        ],
        [
         839037,
         120259084292,
         "Fairfield Inn and Suites By Marriott Idaho Falls",
         "2016-10-11",
         "2016-10-23",
         -1.3,
         8.15
        ],
        [
         896356,
         2954937499659,
         "Hotel Tiziano Park Vita Parcour Gruppo MiniHotels",
         "2017-08-14",
         "2017-08-31",
         1.3,
         23.87
        ],
        [
         926838,
         2731599200260,
         "Hotel Berna",
         "2017-08-14",
         "2017-08-31",
         1.3,
         23.87
        ],
        [
         939641,
         2413771620358,
         "Bianca Maria Palace Hotel",
         "2017-08-14",
         "2017-08-31",
         1.3,
         23.87
        ],
        [
         978062,
         120259084292,
         "Fairfield Inn and Suites By Marriott Idaho Falls",
         "2016-10-11",
         "2016-10-23",
         -1.3,
         8.15
        ],
        [
         978547,
         2585570312193,
         "Royal Hotel Champs Elys es",
         "2016-10-19",
         "2016-10-31",
         1.3,
         9.1
        ],
        [
         1024570,
         1760936591365,
         "H tel Beauchamps",
         "2016-10-19",
         "2016-10-31",
         1.3,
         9.1
        ],
        [
         1127188,
         2147483648005,
         "Starhotels Business Palace",
         "2017-08-14",
         "2017-08-31",
         1.3,
         23.87
        ],
        [
         1151350,
         2302102470667,
         "Baglioni Hotel Carlton The Leading Hotels of the World",
         "2017-08-14",
         "2017-08-31",
         1.3,
         23.87
        ],
        [
         1253031,
         3109556322306,
         "Hotel The Peninsula Paris",
         "2016-10-19",
         "2016-10-31",
         1.3,
         9.1
        ],
        [
         1263021,
         1889785610240,
         "Hotel Panache",
         "2016-10-19",
         "2016-10-31",
         1.3,
         9.1
        ],
        [
         1287633,
         2851858284552,
         "Newhotel Roblin",
         "2016-10-19",
         "2016-10-31",
         1.3,
         9.1
        ],
        [
         1328071,
         60129542146,
         "Dallas/fort Worth Marriott Solana",
         "2017-08-01",
         "2017-08-12",
         1.3,
         28.17
        ],
        [
         1342163,
         1417339207685,
         "Sand Dunes Motel",
         "2017-08-28",
         "2017-09-08",
         -1.3,
         15.78
        ],
        [
         1347462,
         3255585210368,
         "H tel Regent s Garden",
         "2016-10-19",
         "2016-10-31",
         1.3,
         9.1
        ],
        [
         1357731,
         3401614098436,
         "Mercure Paris Opera Garnier",
         "2016-10-19",
         "2016-10-31",
         1.3,
         9.1
        ],
        [
         1363513,
         3075196583940,
         "La Villa des Ternes",
         "2016-10-19",
         "2016-10-31",
         1.3,
         9.1
        ],
        [
         1438954,
         3410204033026,
         "Best Western Premier Faubourg 88",
         "2016-10-19",
         "2016-10-31",
         1.3,
         9.1
        ],
        [
         1571823,
         3393024163843,
         "Forest Hill Paris la Villette",
         "2016-10-19",
         "2016-10-31",
         1.3,
         9.1
        ],
        [
         1645871,
         2044404432902,
         "Hotel Les Th tres",
         "2016-10-19",
         "2016-10-31",
         1.3,
         9.1
        ],
        [
         1648089,
         2731599200256,
         "H tel Jos phine by Happyculture",
         "2016-10-19",
         "2016-10-31",
         1.3,
         9.1
        ],
        [
         1702473,
         2911987826689,
         "H tel Square Louvois",
         "2016-10-19",
         "2016-10-31",
         1.3,
         9.1
        ],
        [
         1806847,
         3375844294662,
         "Amarante Champs Elys es",
         "2016-10-19",
         "2016-10-31",
         1.3,
         9.1
        ],
        [
         1814808,
         3350074490883,
         "H tel Arvor Saint Georges",
         "2016-10-19",
         "2016-10-31",
         1.3,
         9.1
        ],
        [
         1815703,
         962072674309,
         "Candlewood Suites Indianapolis Northwest",
         "2017-08-06",
         "2017-08-13",
         1.3,
         20.05
        ],
        [
         1822816,
         60129542146,
         "Dallas/fort Worth Marriott Solana",
         "2017-09-06",
         "2017-09-13",
         1.3,
         22.65
        ],
        [
         1862161,
         3066606649345,
         "Hotel Elys es Bassano",
         "2016-10-19",
         "2016-10-31",
         1.3,
         9.1
        ],
        [
         1934594,
         2078764171269,
         "Armani Hotel Milano",
         "2017-08-14",
         "2017-08-31",
         1.3,
         23.87
        ],
        [
         1938891,
         1743756722176,
         "Millennium Hotel Paris Opera",
         "2016-10-19",
         "2016-10-31",
         1.3,
         9.1
        ],
        [
         1956381,
         2551210573828,
         "Hotel Whistler",
         "2016-10-19",
         "2016-10-31",
         1.3,
         9.1
        ],
        [
         2014701,
         2233382993920,
         "Terrass H tel Montmartre by MH",
         "2016-10-19",
         "2016-10-31",
         1.3,
         9.1
        ],
        [
         2061929,
         1958505086977,
         "Madeleine Plaza",
         "2016-10-19",
         "2016-10-31",
         1.3,
         9.1
        ],
        [
         2061944,
         867583393792,
         "Knights Inn Amarillo Airport",
         "2017-08-06",
         "2017-08-15",
         1.3,
         23.05
        ],
        [
         2084470,
         309237645314,
         "Quality Inn",
         "2017-09-06",
         "2017-09-13",
         -1.3,
         17.8
        ],
        [
         2095414,
         2113123909633,
         "Ritz Paris",
         "2016-10-19",
         "2016-10-31",
         1.3,
         9.1
        ],
        [
         2177433,
         309237645314,
         "Quality Inn",
         "2017-09-06",
         "2017-09-13",
         -1.3,
         17.8
        ],
        [
         2184385,
         1975684956163,
         "Hotel Indigo Paris Opera",
         "2016-10-19",
         "2016-10-31",
         1.3,
         9.1
        ],
        [
         2208050,
         2800318676995,
         "Le Grand H tel de Normandie",
         "2016-10-19",
         "2016-10-31",
         1.3,
         9.1
        ],
        [
         2224850,
         2173253451778,
         "Westside Arc de Triomphe Hotel",
         "2016-10-19",
         "2016-10-31",
         1.3,
         9.1
        ],
        [
         2237839,
         2413771620355,
         "Qualys Hotel Nasco",
         "2017-08-14",
         "2017-08-31",
         1.3,
         23.87
        ],
        [
         2297628,
         2027224563715,
         "Best Western Hotel City",
         "2017-08-14",
         "2017-08-31",
         1.3,
         23.87
        ],
        [
         2312388,
         2534030704648,
         "Four Seasons Hotel Milano",
         "2017-08-14",
         "2017-08-31",
         1.3,
         23.87
        ],
        [
         2376314,
         1795296329734,
         "Enterprise Hotel Design Boutique",
         "2017-08-14",
         "2017-08-31",
         1.3,
         23.87
        ],
        [
         2422096,
         944892805124,
         "Melia Paris Champs-elys��es",
         "2016-10-19",
         "2016-10-31",
         1.3,
         9.1
        ],
        [
         2494959,
         60129542146,
         "Dallas/fort Worth Marriott Solana",
         "2017-09-06",
         "2017-09-13",
         1.3,
         22.65
        ],
        [
         50990,
         3023656976388,
         "Buddha Bar Hotel Paris",
         "2016-10-13",
         "2016-10-22",
         -1.2,
         8.33
        ],
        [
         70541,
         2293512536068,
         "Elys es R gencia",
         "2016-10-13",
         "2016-10-22",
         -1.2,
         8.33
        ],
        [
         74980,
         3032246910977,
         "Franklin Roosevelt",
         "2016-10-13",
         "2016-10-22",
         -1.2,
         8.33
        ],
        [
         104485,
         2946347565058,
         "Les Matins de Paris Spa",
         "2016-10-13",
         "2016-10-22",
         -1.2,
         8.33
        ],
        [
         131266,
         2860448219136,
         "Best Western Mercedes Arc de Triomphe",
         "2016-10-13",
         "2016-10-22",
         -1.2,
         8.33
        ],
        [
         140593,
         2173253451778,
         "Westside Arc de Triomphe Hotel",
         "2016-10-13",
         "2016-10-22",
         -1.2,
         8.33
        ],
        [
         145674,
         2551210573828,
         "Hotel Whistler",
         "2016-10-13",
         "2016-10-22",
         -1.2,
         8.33
        ],
        [
         160379,
         1889785610240,
         "Hotel Panache",
         "2016-10-13",
         "2016-10-22",
         -1.2,
         8.33
        ],
        [
         212038,
         2894807957505,
         "Mercure Paris Montmartre Sacr Coeur",
         "2016-10-13",
         "2016-10-22",
         -1.2,
         8.33
        ],
        [
         243664,
         2516850835456,
         "Hotel Astor Saint Honor",
         "2016-10-13",
         "2016-10-22",
         -1.2,
         8.33
        ],
        [
         260729,
         1992864825344,
         "Monhotel Lounge SPA",
         "2016-10-13",
         "2016-10-22",
         -1.2,
         8.33
        ],
        [
         284822,
         2568390443008,
         "Novotel Suites Paris Nord 18 me",
         "2016-10-13",
         "2016-10-22",
         -1.2,
         8.33
        ],
        [
         290436,
         893353197572,
         "Comfort Inn Humboldt Bay",
         "2017-08-08",
         "2017-08-22",
         -1.2,
         12.9
        ],
        [
         328823,
         1803886264320,
         "Idol Hotel",
         "2016-10-13",
         "2016-10-22",
         -1.2,
         8.33
        ],
        [
         354595,
         3109556322306,
         "Hotel The Peninsula Paris",
         "2016-10-13",
         "2016-10-22",
         -1.2,
         8.33
        ],
        [
         356233,
         2525440770048,
         "Sofitel Paris Arc De Triomphe",
         "2016-10-13",
         "2016-10-22",
         -1.2,
         8.33
        ],
        [
         361699,
         2353642078208,
         "H tel des Champs Elys es",
         "2016-10-13",
         "2016-10-22",
         -1.2,
         8.33
        ],
        [
         364111,
         1881195675653,
         "H tel Montmartre Mon Amour",
         "2016-10-13",
         "2016-10-22",
         -1.2,
         8.33
        ],
        [
         414532,
         2061584302080,
         "Amp re",
         "2016-10-13",
         "2016-10-22",
         -1.2,
         8.33
        ],
        [
         416703,
         2370821947392,
         "Belfast",
         "2016-10-13",
         "2016-10-22",
         -1.2,
         8.33
        ],
        [
         424551,
         3032246910977,
         "Franklin Roosevelt",
         "2016-10-13",
         "2016-10-22",
         -1.2,
         8.33
        ],
        [
         426303,
         2405181685761,
         "H tel R de Paris Boutique Hotel",
         "2016-10-13",
         "2016-10-22",
         -1.2,
         8.33
        ],
        [
         451212,
         2911987826689,
         "H tel Square Louvois",
         "2016-10-13",
         "2016-10-22",
         -1.2,
         8.33
        ],
        [
         472911,
         2860448219136,
         "Best Western Mercedes Arc de Triomphe",
         "2016-10-13",
         "2016-10-22",
         -1.2,
         8.33
        ],
        [
         501272,
         2757369004033,
         "9Hotel Republique",
         "2016-10-13",
         "2016-10-22",
         -1.2,
         8.33
        ],
        [
         553912,
         2757369004033,
         "9Hotel Republique",
         "2016-10-13",
         "2016-10-22",
         -1.2,
         8.33
        ],
        [
         566925,
         3393024163843,
         "Forest Hill Paris la Villette",
         "2016-10-13",
         "2016-10-22",
         -1.2,
         8.33
        ],
        [
         569801,
         2181843386373,
         "Hotel Eug ne en Ville",
         "2016-10-13",
         "2016-10-22",
         -1.2,
         8.33
        ],
        [
         602094,
         3143916060676,
         "H tel Monna Lisa Champs Elys es",
         "2016-10-13",
         "2016-10-22",
         -1.2,
         8.33
        ],
        [
         635198,
         1,
         "Marriott Hotels Resorts Suites",
         "2017-08-26",
         "2017-09-04",
         1.2,
         19.9
        ],
        [
         645452,
         2293512536067,
         "Hotel Oscar",
         "2016-10-13",
         "2016-10-22",
         -1.2,
         8.33
        ],
        [
         701533,
         2542620639234,
         "Paris Marriott Opera Ambassador Hotel",
         "2016-10-13",
         "2016-10-22",
         -1.2,
         8.33
        ],
        [
         731477,
         2508260900865,
         "Splendide Royal Paris",
         "2016-10-13",
         "2016-10-22",
         -1.2,
         8.33
        ],
        [
         734198,
         3186865733636,
         "Suites H tel Helzear Champs Elys es",
         "2016-10-13",
         "2016-10-22",
         -1.2,
         8.33
        ],
        [
         758918,
         2087354105857,
         "Chateau Frontenac",
         "2016-10-13",
         "2016-10-22",
         -1.2,
         8.33
        ],
        [
         793097,
         2714419331072,
         "Napoleon Paris",
         "2016-10-13",
         "2016-10-22",
         -1.2,
         8.33
        ],
        [
         798167,
         2199023255555,
         "Hotel De Vigny",
         "2016-10-13",
         "2016-10-22",
         -1.2,
         8.33
        ],
        [
         896975,
         2559800508418,
         "Mercure Paris Champs Elys es",
         "2016-10-13",
         "2016-10-22",
         -1.2,
         8.33
        ],
        [
         914409,
         3015067041793,
         "B Montmartre",
         "2016-10-13",
         "2016-10-22",
         -1.2,
         8.33
        ],
        [
         947512,
         2439541424129,
         "H tel Cristal Champs Elys es",
         "2016-10-13",
         "2016-10-22",
         -1.2,
         8.33
        ],
        [
         948018,
         1769526525954,
         "La Villa Maillot",
         "2016-10-13",
         "2016-10-22",
         -1.2,
         8.33
        ],
        [
         953806,
         2594160246786,
         "Hotel de Nell",
         "2016-10-13",
         "2016-10-22",
         -1.2,
         8.33
        ],
        [
         955540,
         3066606649350,
         "Hotel Carlton s Montmartre",
         "2016-10-13",
         "2016-10-22",
         -1.2,
         8.33
        ],
        [
         974945,
         1726576852993,
         "Hotel Marignan Champs Elys es",
         "2016-10-13",
         "2016-10-22",
         -1.2,
         8.33
        ],
        [
         982530,
         2757369004033,
         "9Hotel Republique",
         "2016-10-13",
         "2016-10-22",
         -1.2,
         8.33
        ],
        [
         1046996,
         1357209665538,
         "Marylander Hotel Condo",
         "2017-09-13",
         "2017-09-20",
         1.2,
         23
        ],
        [
         1053682,
         2954937499649,
         "Hotel Plaza Elys es",
         "2016-10-13",
         "2016-10-22",
         -1.2,
         8.33
        ],
        [
         1127097,
         2370821947395,
         "H tel du Minist re",
         "2016-10-13",
         "2016-10-22",
         -1.2,
         8.33
        ],
        [
         1147032,
         2181843386375,
         "Le Pigalle Hotel",
         "2016-10-13",
         "2016-10-22",
         -1.2,
         8.33
        ],
        [
         1156379,
         2491081031683,
         "MARQUIS Faubourg St Honor Relais Ch teaux",
         "2016-10-13",
         "2016-10-22",
         -1.2,
         8.33
        ],
        [
         1159487,
         1743756722176,
         "Millennium Hotel Paris Opera",
         "2016-10-13",
         "2016-10-22",
         -1.2,
         8.33
        ],
        [
         1166190,
         2216203124738,
         "Radisson Blu Champs Elys es Paris",
         "2016-10-13",
         "2016-10-22",
         -1.2,
         8.33
        ],
        [
         1172584,
         1769526525954,
         "La Villa Maillot",
         "2016-10-13",
         "2016-10-22",
         -1.2,
         8.33
        ],
        [
         1217766,
         2259152797696,
         "Hotel Le 10 BIS",
         "2016-10-13",
         "2016-10-22",
         -1.2,
         8.33
        ],
        [
         1229817,
         2199023255555,
         "Hotel De Vigny",
         "2016-10-13",
         "2016-10-22",
         -1.2,
         8.33
        ],
        [
         1251944,
         1881195675653,
         "H tel Montmartre Mon Amour",
         "2016-10-13",
         "2016-10-22",
         -1.2,
         8.33
        ],
        [
         1263017,
         2920577761282,
         "Hotel Malte Astotel",
         "2016-10-13",
         "2016-10-22",
         -1.2,
         8.33
        ],
        [
         1286047,
         3126736191492,
         "Le Burgundy Paris",
         "2016-10-13",
         "2016-10-22",
         -1.2,
         8.33
        ],
        [
         1299075,
         1099511627780,
         "Best Western Hotel De Neuville",
         "2016-10-13",
         "2016-10-22",
         -1.2,
         8.33
        ],
        [
         1309260,
         3375844294657,
         "Hotel Tour d Auvergne Opera",
         "2016-10-13",
         "2016-10-22",
         -1.2,
         8.33
        ],
        [
         1315790,
         3186865733636,
         "Suites H tel Helzear Champs Elys es",
         "2016-10-13",
         "2016-10-22",
         -1.2,
         8.33
        ],
        [
         1386459,
         2740189134850,
         "H tel Raphael",
         "2016-10-13",
         "2016-10-22",
         -1.2,
         8.33
        ],
        [
         1388831,
         2405181685761,
         "H tel R de Paris Boutique Hotel",
         "2016-10-13",
         "2016-10-22",
         -1.2,
         8.33
        ],
        [
         1394212,
         2482491097090,
         "Best Western Plus de Neuville Arc de Triomphe",
         "2016-10-13",
         "2016-10-22",
         -1.2,
         8.33
        ],
        [
         1422064,
         2937757630464,
         "Hotel Opera Cadet",
         "2016-10-13",
         "2016-10-22",
         -1.2,
         8.33
        ],
        [
         1451175,
         2379411881984,
         "H tel Keppler",
         "2016-10-13",
         "2016-10-22",
         -1.2,
         8.33
        ],
        [
         1514428,
         2508260900865,
         "Splendide Royal Paris",
         "2016-10-13",
         "2016-10-22",
         -1.2,
         8.33
        ],
        [
         1525741,
         3204045602817,
         "XO Hotel",
         "2016-10-13",
         "2016-10-22",
         -1.2,
         8.33
        ],
        [
         1548236,
         1,
         "Marriott Hotels Resorts Suites",
         "2017-08-26",
         "2017-09-04",
         1.2,
         19.9
        ],
        [
         1551402,
         2559800508418,
         "Mercure Paris Champs Elys es",
         "2016-10-13",
         "2016-10-22",
         -1.2,
         8.33
        ],
        [
         1560088,
         3401614098436,
         "Mercure Paris Opera Garnier",
         "2016-10-13",
         "2016-10-22",
         -1.2,
         8.33
        ],
        [
         1629098,
         1941325217792,
         "Hotel de Seze",
         "2016-10-13",
         "2016-10-22",
         -1.2,
         8.33
        ],
        [
         1648449,
         2748779069441,
         "H tel Westminster",
         "2016-10-13",
         "2016-10-22",
         -1.2,
         8.33
        ],
        [
         1677133,
         3126736191488,
         "Crowne Plaza Paris R publique",
         "2016-10-13",
         "2016-10-22",
         -1.2,
         8.33
        ],
        [
         1708415,
         2293512536067,
         "Hotel Oscar",
         "2016-10-13",
         "2016-10-22",
         -1.2,
         8.33
        ],
        [
         1716194,
         2482491097091,
         "Majestic Hotel Spa",
         "2016-10-13",
         "2016-10-22",
         -1.2,
         8.33
        ],
        [
         1726410,
         463856467968,
         "Hyatt Place Utica",
         "2017-09-20",
         "2017-09-27",
         -1.2,
         21.3
        ],
        [
         1743957,
         2920577761282,
         "Hotel Malte Astotel",
         "2016-10-13",
         "2016-10-22",
         -1.2,
         8.33
        ],
        [
         1758945,
         2860448219136,
         "Best Western Mercedes Arc de Triomphe",
         "2016-10-13",
         "2016-10-22",
         -1.2,
         8.33
        ],
        [
         1794399,
         2113123909633,
         "Ritz Paris",
         "2016-10-13",
         "2016-10-22",
         -1.2,
         8.33
        ],
        [
         1831303,
         1743756722176,
         "Millennium Hotel Paris Opera",
         "2016-10-13",
         "2016-10-22",
         -1.2,
         8.33
        ],
        [
         1847747,
         2645699854338,
         "Holiday Inn Paris Elys es",
         "2016-10-13",
         "2016-10-22",
         -1.2,
         8.33
        ],
        [
         1859228,
         2293512536067,
         "Hotel Oscar",
         "2016-10-13",
         "2016-10-22",
         -1.2,
         8.33
        ],
        [
         1924670,
         2173253451778,
         "Westside Arc de Triomphe Hotel",
         "2016-10-13",
         "2016-10-22",
         -1.2,
         8.33
        ],
        [
         1935591,
         2808908611585,
         "H tel Le Marianne",
         "2016-10-13",
         "2016-10-22",
         -1.2,
         8.33
        ],
        [
         1993446,
         2662879723521,
         "Mercure Paris 19 Philharmonie La Villette",
         "2016-10-13",
         "2016-10-22",
         -1.2,
         8.33
        ],
        [
         2028000,
         463856467968,
         "Hyatt Place Utica",
         "2017-09-20",
         "2017-09-27",
         -1.2,
         21.3
        ],
        [
         2038648,
         3075196583940,
         "La Villa des Ternes",
         "2016-10-13",
         "2016-10-22",
         -1.2,
         8.33
        ],
        [
         2127766,
         3066606649344,
         "Best Western Premier Marais Grands Boulevards",
         "2016-10-13",
         "2016-10-22",
         -1.2,
         8.33
        ],
        [
         2158045,
         2044404432898,
         "H tel Diva Opera",
         "2016-10-13",
         "2016-10-22",
         -1.2,
         8.33
        ],
        [
         2179034,
         2748779069441,
         "H tel Westminster",
         "2016-10-13",
         "2016-10-22",
         -1.2,
         8.33
        ],
        [
         2206856,
         3161095929859,
         "Mercure Paris 17 me Saint Lazare Monceau",
         "2016-10-13",
         "2016-10-22",
         -1.2,
         8.33
        ],
        [
         2269302,
         841813590021,
         "Hotel Eug��ne En Ville",
         "2016-10-13",
         "2016-10-22",
         -1.2,
         8.33
        ],
        [
         2305389,
         2405181685760,
         "Prince de Galles a Luxury Collection hotel Paris",
         "2016-10-13",
         "2016-10-22",
         -1.2,
         8.33
        ],
        [
         2315074,
         1194000908288,
         "Holiday Inn Express Hotel Suites Cookeville",
         "2017-09-16",
         "2017-09-25",
         1.2,
         23.1
        ],
        [
         2367848,
         2860448219138,
         "Mercure Paris Terminus Nord",
         "2016-10-13",
         "2016-10-22",
         -1.2,
         8.33
        ],
        [
         2407221,
         2405181685760,
         "Prince de Galles a Luxury Collection hotel Paris",
         "2016-10-13",
         "2016-10-22",
         -1.2,
         8.33
        ],
        [
         2415522,
         3083786518529,
         "Hotel Vignon",
         "2016-10-13",
         "2016-10-22",
         -1.2,
         8.33
        ],
        [
         2420085,
         1941325217795,
         "Best Western Premier Op ra Li ge",
         "2016-10-13",
         "2016-10-22",
         -1.2,
         8.33
        ],
        [
         2429799,
         2207613190146,
         "Golden Tulip Opera de Noailles",
         "2016-10-13",
         "2016-10-22",
         -1.2,
         8.33
        ],
        [
         2453684,
         3255585210368,
         "H tel Regent s Garden",
         "2016-10-13",
         "2016-10-22",
         -1.2,
         8.33
        ],
        [
         2466527,
         2611340115970,
         "Hotel Monsieur",
         "2016-10-13",
         "2016-10-22",
         -1.2,
         8.33
        ],
        [
         2483780,
         1357209665538,
         "Marylander Hotel Condo",
         "2017-09-13",
         "2017-09-20",
         1.2,
         23
        ],
        [
         43543,
         2611340115973,
         "K West Hotel Spa",
         "2017-08-06",
         "2017-08-18",
         1.1,
         15.45
        ],
        [
         78744,
         592705486849,
         "Economy Inn",
         "2017-09-13",
         "2017-09-29",
         1.1,
         24.38
        ],
        [
         125045,
         1056561954817,
         "Sombrero Resort and Marina",
         "2017-09-02",
         "2017-09-12",
         -1.1,
         28.2
        ],
        [
         157992,
         558345748483,
         "Four Points-kansas",
         "2017-08-25",
         "2017-09-02",
         1.1,
         22.55
        ],
        [
         183885,
         2448131358720,
         "Bulgari Hotel London",
         "2017-08-06",
         "2017-08-18",
         1.1,
         15.45
        ],
        [
         202873,
         3092376453124,
         "Best Western Plus Seraphine Hammersmith Hotel",
         "2017-08-06",
         "2017-08-18",
         1.1,
         15.45
        ],
        [
         212102,
         2980707303425,
         "The Franklin Hotel Starhotels Collezione",
         "2017-08-06",
         "2017-08-18",
         1.1,
         15.45
        ],
        [
         262602,
         1821066133507,
         "Crowne Plaza London Ealing",
         "2017-09-20",
         "2017-09-29",
         1.1,
         14.05
        ],
        [
         275513,
         1984274890753,
         "Hilton London Olympia",
         "2017-08-06",
         "2017-08-18",
         1.1,
         15.45
        ],
        [
         278664,
         2611340115971,
         "The Capital",
         "2017-08-06",
         "2017-08-18",
         1.1,
         15.45
        ],
        [
         429755,
         1116691496960,
         "Quality Inn",
         "2016-10-04",
         "2016-10-16",
         -1.1,
         22.35
        ],
        [
         565566,
         2181843386377,
         "Jumeirah Carlton Tower",
         "2017-08-06",
         "2017-08-18",
         1.1,
         15.45
        ],
        [
         587168,
         1743756722180,
         "Sydney House Chelsea",
         "2017-08-06",
         "2017-08-18",
         1.1,
         15.45
        ],
        [
         663873,
         3229815406596,
         "Millennium Copthorne Hotels at Chelsea Football Club",
         "2017-08-06",
         "2017-08-18",
         1.1,
         15.45
        ],
        [
         674847,
         3049426780165,
         "The Beaufort",
         "2017-08-06",
         "2017-08-18",
         1.1,
         15.45
        ],
        [
         841336,
         1468878815239,
         "Super 8 Schenect/albany Area",
         "2017-09-13",
         "2017-09-23",
         1.1,
         18.93
        ],
        [
         947073,
         1056561954817,
         "Sombrero Resort and Marina",
         "2017-09-02",
         "2017-09-12",
         -1.1,
         28.2
        ],
        [
         1009943,
         3066606649347,
         "The Tophams Hotel",
         "2017-08-06",
         "2017-08-18",
         1.1,
         15.45
        ],
        [
         1019512,
         3410204033024,
         "Britannia International Hotel Canary Wharf",
         "2017-08-06",
         "2017-08-18",
         1.1,
         15.45
        ],
        [
         1149771,
         3358664425475,
         "Conrad London St James",
         "2017-08-06",
         "2017-08-18",
         1.1,
         15.45
        ],
        [
         1409908,
         2525440770053,
         "The Lanesborough",
         "2017-08-06",
         "2017-08-18",
         1.1,
         15.45
        ],
        [
         1686165,
         3143916060673,
         "St Ermin s Hotel Autograph Collection",
         "2017-08-06",
         "2017-08-18",
         1.1,
         15.45
        ],
        [
         1763702,
         1340029796353,
         "Castle Kona Reef",
         "2017-09-02",
         "2017-09-16",
         1.1,
         25.25
        ],
        [
         1768064,
         1821066133507,
         "Crowne Plaza London Ealing",
         "2017-09-20",
         "2017-09-29",
         1.1,
         14.05
        ],
        [
         1799451,
         858993459208,
         "River Oaks Golf Villas",
         "2016-10-16",
         "2016-10-27",
         -1.1,
         19.35
        ],
        [
         1810466,
         2001454759936,
         "The Cranley Hotel",
         "2017-08-06",
         "2017-08-18",
         1.1,
         15.45
        ],
        [
         1972188,
         979252543488,
         "Royal Inn",
         "2017-08-05",
         "2017-08-12",
         -1.1,
         24.75
        ],
        [
         1999276,
         1906965479430,
         "Park Plaza Westminster Bridge London",
         "2017-08-06",
         "2017-08-18",
         1.1,
         15.45
        ],
        [
         2042366,
         3152505995264,
         "Intercontinental London The O2",
         "2017-08-06",
         "2017-08-18",
         1.1,
         15.45
        ],
        [
         2112672,
         137438953477,
         "Holiday Inn Express and Suites Gahanna/columbus Airport E",
         "2017-09-01",
         "2017-09-09",
         1.1,
         15.25
        ],
        [
         2142821,
         661424963585,
         "Village Lodge",
         "2016-10-11",
         "2016-10-25",
         -1.1,
         16.87
        ],
        [
         2183039,
         1374389534724,
         "America's Best Value Inn",
         "2017-08-24",
         "2017-09-04",
         -1.1,
         27.3
        ],
        [
         2220425,
         1829656068099,
         "The Belgrave Hotel",
         "2017-08-06",
         "2017-08-18",
         1.1,
         15.45
        ],
        [
         2266967,
         1821066133504,
         "DoubleTree by Hilton London Victoria",
         "2017-08-06",
         "2017-08-18",
         1.1,
         15.45
        ],
        [
         2351576,
         137438953477,
         "Holiday Inn Express and Suites Gahanna/columbus Airport E",
         "2017-09-01",
         "2017-09-09",
         1.1,
         15.25
        ],
        [
         2365912,
         2491081031682,
         "Innkeeper s Lodge London Greenwich",
         "2017-08-06",
         "2017-08-18",
         1.1,
         15.45
        ],
        [
         2375860,
         3118146256896,
         "Milestone Hotel Kensington",
         "2017-08-06",
         "2017-08-18",
         1.1,
         15.45
        ],
        [
         2467802,
         1812476198917,
         "COMO The Halkin",
         "2017-08-06",
         "2017-08-18",
         1.1,
         15.45
        ],
        [
         32556,
         111669149701,
         "Super 8 Gretna",
         "2017-09-04",
         "2017-09-13",
         1,
         21.9
        ],
        [
         224907,
         128849018883,
         "Sci�� On Martin",
         "2017-09-20",
         "2017-09-27",
         1,
         15.17
        ],
        [
         648604,
         1331439861766,
         "Sonoma Coast Villa Spa",
         "2016-10-11",
         "2016-10-21",
         1,
         13.4
        ],
        [
         1390257,
         919123001347,
         "Best Western University Inn & Suites",
         "2016-10-06",
         "2016-10-20",
         1,
         12.3
        ],
        [
         1819793,
         1511828488192,
         "Homewood Suites",
         "2016-10-03",
         "2016-10-16",
         1,
         15.87
        ],
        [
         1967407,
         1305670057992,
         "Campus Inn & Suites Eugene Downtown",
         "2016-10-04",
         "2016-10-15",
         -1,
         12.63
        ],
        [
         2316161,
         128849018883,
         "Sci�� On Martin",
         "2017-09-20",
         "2017-09-27",
         1,
         15.17
        ],
        [
         156162,
         2628519985155,
         "Le Relais Montmartre",
         "2017-08-18",
         "2017-09-04",
         -0.9,
         17.45
        ],
        [
         566582,
         3255585210368,
         "H tel Regent s Garden",
         "2017-08-18",
         "2017-09-04",
         -0.9,
         17.45
        ],
        [
         591841,
         2688649527297,
         "H tel Horset Op ra Best Western Premier Collection",
         "2017-08-18",
         "2017-09-04",
         -0.9,
         17.45
        ],
        [
         696680,
         403726925826,
         "Comfort Suites",
         "2017-08-01",
         "2017-08-13",
         0.9,
         27.55
        ],
        [
         766590,
         2783138807810,
         "H tel Lancaster Paris Champs Elys es",
         "2017-08-18",
         "2017-09-04",
         -0.9,
         17.45
        ],
        [
         782103,
         1425929142275,
         "H��tel Marinca and Spa",
         "2017-09-06",
         "2017-09-14",
         -0.9,
         19.55
        ],
        [
         851966,
         2851858284552,
         "Newhotel Roblin",
         "2017-08-18",
         "2017-09-04",
         -0.9,
         17.45
        ],
        [
         863147,
         188978561026,
         "Knights Inn Carmel Hill",
         "2016-10-02",
         "2016-10-10",
         0.9,
         13.15
        ],
        [
         961645,
         343597383685,
         "Acorn Motor Inn",
         "2016-10-09",
         "2016-10-18",
         0.9,
         10.2
        ],
        [
         1071380,
         2989297238017,
         "H tel Regina Op ra Grands Boulevards",
         "2017-08-18",
         "2017-09-04",
         -0.9,
         17.45
        ],
        [
         1071862,
         3126736191488,
         "Crowne Plaza Paris R publique",
         "2017-08-18",
         "2017-09-04",
         -0.9,
         17.45
        ],
        [
         1411996,
         103079215107,
         "Monterey Beach Dunes Inn",
         "2016-10-02",
         "2016-10-10",
         0.9,
         13.15
        ],
        [
         1505104,
         2516850835456,
         "Hotel Astor Saint Honor",
         "2017-08-18",
         "2017-09-04",
         -0.9,
         17.45
        ],
        [
         1572210,
         2293512536067,
         "Hotel Oscar",
         "2017-08-18",
         "2017-09-04",
         -0.9,
         17.45
        ],
        [
         1701303,
         403726925825,
         "Super 8 - Effingham",
         "2017-08-09",
         "2017-08-30",
         0.9,
         22.4
        ],
        [
         1705889,
         601295421440,
         "Miramar Boutique Hotel",
         "2017-09-06",
         "2017-09-14",
         -0.9,
         19.55
        ],
        [
         1708864,
         257698037763,
         "Merritt House Inn",
         "2016-10-02",
         "2016-10-10",
         0.9,
         13.15
        ],
        [
         1815122,
         876173328384,
         "Econo Lodge St Robert",
         "2017-09-01",
         "2017-09-10",
         0.9,
         19.35
        ],
        [
         2227049,
         747324309504,
         "Azul Beach Hotel By Karisma Gourmet Inclusive",
         "2017-09-12",
         "2017-09-29",
         -0.9,
         27.5
        ],
        [
         2239723,
         1924145348609,
         "Little Palace Hotel",
         "2017-08-18",
         "2017-09-04",
         -0.9,
         17.45
        ],
        [
         2308925,
         2516850835456,
         "Hotel Astor Saint Honor",
         "2017-08-18",
         "2017-09-04",
         -0.9,
         17.45
        ],
        [
         2390611,
         1425929142275,
         "H��tel Marinca and Spa",
         "2017-09-06",
         "2017-09-14",
         -0.9,
         19.55
        ],
        [
         209934,
         1417339207685,
         "Sand Dunes Motel",
         "2017-08-31",
         "2017-09-08",
         -0.8,
         15.6
        ],
        [
         218710,
         1082331758595,
         "Hampton Inn Virginia Beach Oceanfront North",
         "2016-10-22",
         "2016-10-29",
         0.8,
         14.6
        ],
        [
         243908,
         1168231104517,
         "Quality Inn Gulfport",
         "2017-09-02",
         "2017-09-20",
         0.8,
         24.98
        ],
        [
         382472,
         901943132160,
         "Ambassadors Inn and Suites",
         "2016-10-22",
         "2016-10-29",
         0.8,
         14.6
        ],
        [
         954020,
         2181843386373,
         "Hotel Eug ne en Ville",
         "2017-09-04",
         "2017-09-29",
         0.8,
         17.4
        ],
        [
         1117918,
         2843268349953,
         "H tel Ad le Jules",
         "2017-09-04",
         "2017-09-29",
         0.8,
         17.4
        ],
        [
         1458716,
         51539607553,
         "Hampton Inn & Suites Fort Worth-west-i-30",
         "2017-08-01",
         "2017-08-12",
         0.8,
         27.2
        ],
        [
         1902595,
         1168231104515,
         "Villager Inn Motel",
         "2017-08-06",
         "2017-08-13",
         -0.8,
         28.4
        ],
        [
         1914451,
         807453851650,
         "Bailey Hotel",
         "2017-08-25",
         "2017-09-01",
         -0.8,
         26
        ],
        [
         2034484,
         2954937499651,
         "Holiday Inn Paris Op ra Grands Boulevards",
         "2017-09-04",
         "2017-09-29",
         0.8,
         17.4
        ],
        [
         2339738,
         970662608906,
         "Americas Best Value Inn",
         "2016-10-14",
         "2016-10-22",
         -0.8,
         11.53
        ],
        [
         30101,
         2336462209026,
         "Hotel le Lapin Blanc",
         "2016-10-03",
         "2016-10-27",
         0.7,
         9.48
        ],
        [
         148727,
         2001454759942,
         "Courtyard by Marriott Amsterdam Arena Atlas",
         "2017-08-10",
         "2017-08-17",
         0.7,
         16.75
        ],
        [
         193948,
         2430951489536,
         "Le 7 Eiffel Hotel",
         "2016-10-03",
         "2016-10-27",
         0.7,
         9.48
        ],
        [
         234715,
         77309411335,
         "Clarion Inn Strasburg - Lancaster",
         "2016-10-20",
         "2016-10-30",
         -0.7,
         15.5
        ],
        [
         517084,
         472446402561,
         "Meadow Farm Bed and Breakfast",
         "2017-09-16",
         "2017-09-24",
         0.7,
         20.03
        ],
        [
         651565,
         2379411881990,
         "Amadi Panorama Hotel",
         "2017-08-10",
         "2017-08-17",
         0.7,
         16.75
        ],
        [
         795975,
         3384434229251,
         "Holiday Inn Amsterdam Arena Towers",
         "2017-08-10",
         "2017-08-17",
         0.7,
         16.75
        ],
        [
         1075124,
         2980707303435,
         "Fletcher Hotel Amsterdam",
         "2017-08-10",
         "2017-08-17",
         0.7,
         16.75
        ],
        [
         1121598,
         2259152797698,
         "H tel Le M",
         "2016-10-03",
         "2016-10-27",
         0.7,
         9.48
        ],
        [
         1235778,
         2980707303435,
         "Fletcher Hotel Amsterdam",
         "2017-08-10",
         "2017-08-17",
         0.7,
         16.75
        ],
        [
         1237874,
         77309411334,
         "Antlers Inn",
         "2017-09-02",
         "2017-09-12",
         -0.7,
         12.95
        ],
        [
         1585608,
         1254130450434,
         "Holiday Inn Express Hotel and Suites Va Beach Oceanfront",
         "2017-08-05",
         "2017-08-20",
         0.7,
         26.15
        ],
        [
         1606428,
         60129542148,
         "Americas Best Value Inn",
         "2017-08-03",
         "2017-08-27",
         -0.7,
         24.8
        ],
        [
         1631191,
         1451698946051,
         "Riverside Motel and Cabins",
         "2017-08-02",
         "2017-08-20",
         -0.7,
         18.23
        ],
        [
         1951454,
         1400159338498,
         "Jacksonville Plaza Hotel and Suites",
         "2016-10-09",
         "2016-10-18",
         0.7,
         22.45
        ],
        [
         2231250,
         1889785610245,
         "La Clef Tour Eiffel",
         "2016-10-03",
         "2016-10-27",
         0.7,
         9.48
        ],
        [
         2267911,
         2946347565060,
         "Ozo Hotel",
         "2017-08-10",
         "2017-08-17",
         0.7,
         16.75
        ],
        [
         2301404,
         910533066752,
         "Super 8",
         "2017-08-04",
         "2017-08-11",
         0.7,
         24.5
        ],
        [
         2302847,
         3384434229251,
         "Holiday Inn Amsterdam Arena Towers",
         "2017-08-10",
         "2017-08-17",
         0.7,
         16.75
        ],
        [
         2438295,
         3384434229251,
         "Holiday Inn Amsterdam Arena Towers",
         "2017-08-10",
         "2017-08-17",
         0.7,
         16.75
        ],
        [
         2523474,
         274877906944,
         "Microtel of Ste Genevieve",
         "2017-08-15",
         "2017-08-22",
         -0.7,
         24.65
        ],
        [
         482072,
         1322849927175,
         "Newark Budget Inn",
         "2017-09-02",
         "2017-09-09",
         0.6,
         13.8
        ],
        [
         534869,
         60129542144,
         "The Golden Hotel, An Ascend Hotel Collection Member",
         "2017-09-01",
         "2017-09-11",
         -0.6,
         16.9
        ],
        [
         675567,
         1151051235328,
         "Eldorado Suites Hotel",
         "2017-08-18",
         "2017-08-31",
         -0.6,
         24.1
        ],
        [
         978061,
         1537598291968,
         "Intermezzo",
         "2017-08-07",
         "2017-08-25",
         0.6,
         20.23
        ],
        [
         997297,
         1013612281857,
         "Truckee Tahoe Htl Larkspur",
         "2017-09-08",
         "2017-09-25",
         0.6,
         15.6
        ],
        [
         1157905,
         1382979469315,
         "La Quinta",
         "2017-08-18",
         "2017-08-31",
         0.6,
         23
        ],
        [
         1871519,
         197568495621,
         "Rodeway Inn",
         "2017-08-05",
         "2017-08-18",
         0.6,
         21.2
        ],
        [
         1898174,
         996432412676,
         "Red Carpet Inn",
         "2016-10-22",
         "2016-10-30",
         -0.6,
         12.4
        ],
        [
         1963569,
         163208757252,
         "Super 8 Crete Ne",
         "2016-10-11",
         "2016-10-22",
         -0.6,
         12.4
        ],
        [
         2030664,
         996432412674,
         "Bent Elbow",
         "2017-08-25",
         "2017-09-08",
         -0.6,
         9.27
        ],
        [
         2105218,
         386547056643,
         "Rodeway Inn Bushnell",
         "2016-10-06",
         "2016-10-14",
         -0.6,
         24.22
        ],
        [
         2231451,
         1013612281865,
         "Ritz Hotel",
         "2016-10-11",
         "2016-10-22",
         -0.6,
         14
        ],
        [
         2379367,
         163208757252,
         "Super 8 Crete Ne",
         "2016-10-11",
         "2016-10-22",
         -0.6,
         12.4
        ],
        [
         486509,
         1305670057990,
         "Hampton Inn Abilene",
         "2017-08-13",
         "2017-08-21",
         0.5,
         28.15
        ],
        [
         662070,
         575525617665,
         "Alpine Motel",
         "2017-08-25",
         "2017-09-07",
         -0.5,
         18.07
        ],
        [
         718576,
         17179869184,
         "Days Inn Brookings",
         "2016-10-21",
         "2016-10-29",
         -0.5,
         7.65
        ],
        [
         939220,
         2405181685763,
         "DoubleTree By Hilton Milan",
         "2017-08-11",
         "2017-09-03",
         0.5,
         19.55
        ],
        [
         1139316,
         1142461300738,
         "Terrace Inns Suites",
         "2016-10-20",
         "2016-10-29",
         -0.5,
         17.35
        ],
        [
         1197499,
         4,
         "Best Western Holiday Hills",
         "2017-08-17",
         "2017-08-24",
         -0.5,
         16.65
        ],
        [
         1433076,
         1417339207684,
         "Patalya Thermal Resort",
         "2016-10-14",
         "2016-10-25",
         -0.5,
         5.55
        ],
        [
         1512707,
         1305670057990,
         "Hampton Inn Abilene",
         "2017-08-13",
         "2017-08-21",
         0.5,
         28.15
        ],
        [
         1628268,
         1821066133507,
         "Crowne Plaza London Ealing",
         "2017-08-02",
         "2017-08-18",
         -0.5,
         15.83
        ],
        [
         1813327,
         1151051235332,
         "Hampton Inn & Suites Millington",
         "2017-09-16",
         "2017-09-24",
         -0.5,
         25.05
        ],
        [
         1815396,
         1606317768705,
         "Great Basin Inn",
         "2017-08-09",
         "2017-08-18",
         0.5,
         19.8
        ],
        [
         1936696,
         1443109011459,
         "Best Western Knoxville Suites",
         "2017-09-20",
         "2017-09-28",
         0.5,
         23.6
        ],
        [
         2119695,
         455266533382,
         "Innisbrook",
         "2017-08-27",
         "2017-09-03",
         0.5,
         27.85
        ],
        [
         2383696,
         17179869184,
         "Days Inn Brookings",
         "2016-10-21",
         "2016-10-29",
         -0.5,
         7.65
        ],
        [
         218759,
         1700807049216,
         "Arrowhead Motel and Rv Park",
         "2017-08-18",
         "2017-09-02",
         -0.4,
         17.7
        ],
        [
         237130,
         455266533381,
         "Hilton Princess San Pedro Sula",
         "2016-10-11",
         "2016-10-18",
         -0.4,
         23.9
        ],
        [
         1025704,
         455266533381,
         "Hilton Princess San Pedro Sula",
         "2016-10-11",
         "2016-10-18",
         -0.4,
         23.9
        ],
        [
         1276003,
         34359738370,
         "Sherwood Hills Resort",
         "2017-08-03",
         "2017-08-12",
         -0.4,
         24.5
        ],
        [
         1377605,
         1322849927168,
         "Country Inn Walker",
         "2017-08-24",
         "2017-08-31",
         -0.4,
         15.1
        ],
        [
         1404127,
         1537598291968,
         "Intermezzo",
         "2016-10-06",
         "2016-10-15",
         -0.4,
         18.1
        ],
        [
         1464738,
         1331439861760,
         "Davison St Guest House",
         "2016-10-12",
         "2016-10-24",
         -0.4,
         9.1
        ],
        [
         1700096,
         1322849927168,
         "Country Inn Walker",
         "2017-08-24",
         "2017-08-31",
         -0.4,
         15.1
        ],
        [
         2257767,
         841813590020,
         "Candlewood Suites Eugene Springfield",
         "2016-10-04",
         "2016-10-21",
         0.4,
         12.62
        ],
        [
         2287640,
         1675037245444,
         "Sleep Inn At Harbour View",
         "2017-08-16",
         "2017-08-23",
         -0.4,
         28.1
        ],
        [
         2312716,
         678604832770,
         "Best Western",
         "2017-08-12",
         "2017-08-19",
         0.4,
         24.4
        ],
        [
         12810,
         1649267441664,
         "Key West Inn - Clanton",
         "2016-10-03",
         "2016-10-14",
         -0.3,
         22.25
        ],
        [
         15787,
         592705486850,
         "Seaside Oceanfront Inn & Restaurant",
         "2016-10-07",
         "2016-10-20",
         -0.3,
         11.67
        ],
        [
         64553,
         592705486850,
         "Seaside Oceanfront Inn & Restaurant",
         "2016-10-19",
         "2016-10-30",
         -0.3,
         10.7
        ],
        [
         130237,
         2293512536065,
         "Mercure London Bloomsbury Hotel",
         "2017-09-03",
         "2017-09-23",
         0.3,
         12.87
        ],
        [
         208174,
         2491081031681,
         "London Marriott Hotel Marble Arch",
         "2017-09-03",
         "2017-09-23",
         0.3,
         12.87
        ],
        [
         523220,
         1760936591360,
         "Mercure London Paddington Hotel",
         "2017-09-03",
         "2017-09-23",
         0.3,
         12.87
        ],
        [
         796690,
         1769526525953,
         "Best Western Mornington Hotel Hyde Park",
         "2017-09-03",
         "2017-09-23",
         0.3,
         12.87
        ],
        [
         1016144,
         1271310319617,
         "Relax Inn",
         "2017-09-05",
         "2017-09-19",
         -0.3,
         27.9
        ],
        [
         1045303,
         2035814498304,
         "Arbor City",
         "2017-09-03",
         "2017-09-23",
         0.3,
         12.87
        ],
        [
         1072248,
         506806140928,
         "Hotel Monaco Chicago, A Kimpton Hotel",
         "2017-08-12",
         "2017-08-31",
         -0.3,
         21.43
        ],
        [
         1261902,
         2688649527303,
         "Washington Mayfair Hotel",
         "2017-09-03",
         "2017-09-23",
         0.3,
         12.87
        ],
        [
         1412615,
         2121713844226,
         "The Sumner Hotel",
         "2017-09-03",
         "2017-09-23",
         0.3,
         12.87
        ],
        [
         1534711,
         25769803776,
         "Best Western Plus Arlington North Hotel and Suites",
         "2017-09-15",
         "2017-09-24",
         -0.3,
         28.77
        ],
        [
         1643080,
         2010044694529,
         "The Pillar Hotel",
         "2017-09-03",
         "2017-09-23",
         0.3,
         12.87
        ],
        [
         1687677,
         309237645313,
         "Super 8 Dallas South",
         "2017-08-11",
         "2017-08-21",
         -0.3,
         29.03
        ],
        [
         1860071,
         1331439861760,
         "Davison St Guest House",
         "2017-08-08",
         "2017-08-16",
         -0.3,
         17.25
        ],
        [
         1953596,
         2293512536075,
         "The Ned",
         "2017-09-03",
         "2017-09-23",
         0.3,
         12.87
        ],
        [
         2106534,
         592705486850,
         "Seaside Oceanfront Inn & Restaurant",
         "2016-10-19",
         "2016-10-30",
         -0.3,
         10.7
        ],
        [
         2144162,
         2808908611584,
         "Crowne Plaza London Kings Cross",
         "2017-09-03",
         "2017-09-23",
         0.3,
         12.87
        ],
        [
         2196709,
         1056561954816,
         "Hotel Relais De Margaux Golf and Spa",
         "2016-10-20",
         "2016-10-30",
         0.3,
         11.55
        ],
        [
         2260442,
         1271310319617,
         "Relax Inn",
         "2017-09-05",
         "2017-09-19",
         -0.3,
         27.9
        ],
        [
         2287732,
         2413771620353,
         "Comfort Inn Suites Kings Cross St Pancras",
         "2017-09-03",
         "2017-09-23",
         0.3,
         12.87
        ],
        [
         2487706,
         747324309505,
         "Holiday Inn Express Howe (sturgis, Mi)",
         "2017-08-06",
         "2017-08-15",
         0.3,
         27.57
        ],
        [
         2521792,
         1872605741056,
         "One Aldwych",
         "2017-09-03",
         "2017-09-23",
         0.3,
         12.87
        ],
        [
         22753,
         1898375544837,
         "Hotel Lombardia",
         "2016-10-06",
         "2016-10-16",
         0.2,
         12.2
        ],
        [
         29228,
         1915555414022,
         "Hotel Wagner",
         "2016-10-06",
         "2016-10-16",
         0.2,
         12.2
        ],
        [
         31345,
         2216203124741,
         "The Westin Palace",
         "2016-10-06",
         "2016-10-16",
         0.2,
         12.2
        ],
        [
         61874,
         3152505995272,
         "Best Western Hotel Major",
         "2016-10-06",
         "2016-10-16",
         0.2,
         12.2
        ],
        [
         75037,
         2551210573833,
         "STRAF a Member of Design Hotels",
         "2016-10-06",
         "2016-10-16",
         0.2,
         12.2
        ],
        [
         100624,
         652835028993,
         "Saddleback Motor Inn",
         "2016-10-04",
         "2016-10-12",
         0.2,
         9.5
        ],
        [
         163627,
         1726576852997,
         "Hotel Galileo",
         "2016-10-06",
         "2016-10-16",
         0.2,
         12.2
        ],
        [
         243512,
         2070174236676,
         "Hotel Manzoni",
         "2016-10-06",
         "2016-10-16",
         0.2,
         12.2
        ],
        [
         289597,
         1984274890757,
         "Grand Visconti Palace",
         "2016-10-06",
         "2016-10-16",
         0.2,
         12.2
        ],
        [
         352837,
         2508260900870,
         "UNA Maison Milano",
         "2016-10-06",
         "2016-10-16",
         0.2,
         12.2
        ],
        [
         373367,
         3032246910983,
         "Best Western Madison Hotel",
         "2016-10-06",
         "2016-10-16",
         0.2,
         12.2
        ],
        [
         447652,
         2508260900870,
         "UNA Maison Milano",
         "2016-10-06",
         "2016-10-16",
         0.2,
         12.2
        ],
        [
         455179,
         2791728742403,
         "Hotel Bristol",
         "2016-10-06",
         "2016-10-16",
         0.2,
         12.2
        ],
        [
         500448,
         893353197572,
         "Comfort Inn Humboldt Bay",
         "2017-09-17",
         "2017-09-25",
         -0.2,
         13.87
        ],
        [
         506715,
         2817498546185,
         "Nhow Milan",
         "2016-10-06",
         "2016-10-16",
         0.2,
         12.2
        ],
        [
         546408,
         77309411334,
         "Antlers Inn",
         "2017-08-14",
         "2017-08-23",
         0.2,
         12.8
        ],
        [
         566641,
         2731599200260,
         "Hotel Berna",
         "2016-10-06",
         "2016-10-16",
         0.2,
         12.2
        ],
        [
         679779,
         1752346656776,
         "Andreola Central Hotel",
         "2016-10-06",
         "2016-10-16",
         0.2,
         12.2
        ],
        [
         813567,
         111669149698,
         "Body Tuneup",
         "2017-09-18",
         "2017-09-25",
         0.2,
         28.8
        ],
        [
         827637,
         1829656068102,
         "NYX Milan",
         "2016-10-06",
         "2016-10-16",
         0.2,
         12.2
        ],
        [
         888567,
         2997887172614,
         "NH Milano Palazzo Moscova",
         "2016-10-06",
         "2016-10-16",
         0.2,
         12.2
        ],
        [
         894222,
         1717986918408,
         "Acca Palace",
         "2016-10-06",
         "2016-10-16",
         0.2,
         12.2
        ],
        [
         902322,
         2310692405258,
         "Hotel Marconi",
         "2016-10-06",
         "2016-10-16",
         0.2,
         12.2
        ],
        [
         903927,
         2954937499659,
         "Hotel Tiziano Park Vita Parcour Gruppo MiniHotels",
         "2016-10-06",
         "2016-10-16",
         0.2,
         12.2
        ],
        [
         930020,
         1297080123398,
         "Starwood Resorts Hotel",
         "2017-09-18",
         "2017-09-25",
         0.2,
         20.7
        ],
        [
         1033236,
         1932735283202,
         "Four Points Sheraton Milan Center",
         "2016-10-06",
         "2016-10-16",
         0.2,
         12.2
        ],
        [
         1082596,
         3393024163850,
         "Art Hotel Navigli",
         "2016-10-06",
         "2016-10-16",
         0.2,
         12.2
        ],
        [
         1133171,
         2027224563717,
         "IH Hotels Milano Ambasciatori",
         "2016-10-06",
         "2016-10-16",
         0.2,
         12.2
        ],
        [
         1140174,
         3204045602824,
         "Ramada Plaza Milano",
         "2016-10-06",
         "2016-10-16",
         0.2,
         12.2
        ],
        [
         1141261,
         1331439861764,
         "Terry Peak Ski Area",
         "2017-08-17",
         "2017-09-01",
         -0.2,
         15.8
        ],
        [
         1145672,
         2224793059331,
         "Hotel Sanpi Milano",
         "2016-10-06",
         "2016-10-16",
         0.2,
         12.2
        ],
        [
         1147883,
         3195455668228,
         "TownHouse Galleria",
         "2016-10-06",
         "2016-10-16",
         0.2,
         12.2
        ],
        [
         1228757,
         2121713844230,
         "UNA Hotel Scandinavia",
         "2016-10-06",
         "2016-10-16",
         0.2,
         12.2
        ],
        [
         1355294,
         0,
         "The Amble Inn",
         "2017-08-02",
         "2017-08-09",
         -0.2,
         22.25
        ],
        [
         1377904,
         2542620639236,
         "Meli Milano",
         "2016-10-06",
         "2016-10-16",
         0.2,
         12.2
        ],
        [
         1477171,
         2516850835462,
         "Hotel Liberty",
         "2016-10-06",
         "2016-10-16",
         0.2,
         12.2
        ],
        [
         1516531,
         2405181685766,
         "Hotel Mercure Milano Solari",
         "2016-10-06",
         "2016-10-16",
         0.2,
         12.2
        ],
        [
         1558059,
         111669149698,
         "Body Tuneup",
         "2017-09-18",
         "2017-09-25",
         0.2,
         28.8
        ],
        [
         1580135,
         3221225472009,
         "Holiday Inn Milan Garibaldi Station",
         "2016-10-06",
         "2016-10-16",
         0.2,
         12.2
        ],
        [
         1590053,
         3401614098439,
         "Hotel Spadari Al Duomo",
         "2016-10-06",
         "2016-10-16",
         0.2,
         12.2
        ],
        [
         1590813,
         3032246910983,
         "Best Western Madison Hotel",
         "2016-10-06",
         "2016-10-16",
         0.2,
         12.2
        ],
        [
         1654091,
         1133871366148,
         "Calloway Inn",
         "2017-09-22",
         "2017-09-29",
         -0.2,
         27.1
        ],
        [
         1769023,
         2740189134853,
         "Palazzo Parigi Hotel Grand Spa Milano",
         "2016-10-06",
         "2016-10-16",
         0.2,
         12.2
        ],
        [
         1773612,
         2027224563717,
         "IH Hotels Milano Ambasciatori",
         "2016-10-06",
         "2016-10-16",
         0.2,
         12.2
        ],
        [
         1775599,
         2405181685766,
         "Hotel Mercure Milano Solari",
         "2016-10-06",
         "2016-10-16",
         0.2,
         12.2
        ],
        [
         1794345,
         111669149698,
         "Body Tuneup",
         "2017-09-18",
         "2017-09-25",
         0.2,
         28.8
        ],
        [
         1840711,
         2405181685766,
         "Hotel Mercure Milano Solari",
         "2016-10-06",
         "2016-10-16",
         0.2,
         12.2
        ],
        [
         2005282,
         2087354105860,
         "Park Hyatt Milano",
         "2016-10-06",
         "2016-10-16",
         0.2,
         12.2
        ],
        [
         2128714,
         970662608902,
         "Longville Inn",
         "2017-08-11",
         "2017-08-20",
         0.2,
         18.2
        ],
        [
         2204729,
         2302102470667,
         "Baglioni Hotel Carlton The Leading Hotels of the World",
         "2016-10-06",
         "2016-10-16",
         0.2,
         12.2
        ],
        [
         2206996,
         3066606649355,
         "Hotel degli Arcimboldi",
         "2016-10-06",
         "2016-10-16",
         0.2,
         12.2
        ],
        [
         2241174,
         1254130450432,
         "Hotel Corpus Christi",
         "2017-08-12",
         "2017-08-19",
         -0.2,
         30.73
        ],
        [
         2286799,
         3023656976392,
         "Hotel Mercure Milano Centro",
         "2016-10-06",
         "2016-10-16",
         0.2,
         12.2
        ],
        [
         2300799,
         2731599200260,
         "Hotel Berna",
         "2016-10-06",
         "2016-10-16",
         0.2,
         12.2
        ],
        [
         2311070,
         1932735283203,
         "Petit Palais Hotel De Charme",
         "2016-10-06",
         "2016-10-16",
         0.2,
         12.2
        ],
        [
         2321253,
         1786706395140,
         "Starhotels Ritz",
         "2016-10-06",
         "2016-10-16",
         0.2,
         12.2
        ],
        [
         2359815,
         2362232012806,
         "ME Milan Il Duca",
         "2016-10-06",
         "2016-10-16",
         0.2,
         12.2
        ],
        [
         2361759,
         2104533975045,
         "Hilton Milan",
         "2016-10-06",
         "2016-10-16",
         0.2,
         12.2
        ],
        [
         2382249,
         2362232012806,
         "ME Milan Il Duca",
         "2016-10-06",
         "2016-10-16",
         0.2,
         12.2
        ],
        [
         2473834,
         2310692405258,
         "Hotel Marconi",
         "2016-10-06",
         "2016-10-16",
         0.2,
         12.2
        ],
        [
         2498209,
         2534030704648,
         "Four Seasons Hotel Milano",
         "2016-10-06",
         "2016-10-16",
         0.2,
         12.2
        ],
        [
         59798,
         1236950581253,
         "Howard Johnson",
         "2016-10-14",
         "2016-10-21",
         -0.1,
         3.9
        ],
        [
         336012,
         1236950581253,
         "Howard Johnson",
         "2016-10-14",
         "2016-10-21",
         -0.1,
         3.9
        ],
        [
         360043,
         2705829396482,
         "Grange Strathmore Hotel",
         "2017-08-01",
         "2017-08-18",
         -0.1,
         15.67
        ],
        [
         721843,
         1614907703296,
         "Sportsmen Motel",
         "2017-08-16",
         "2017-08-23",
         0.1,
         16.13
        ],
        [
         828278,
         1322849927169,
         "Barber Joyce",
         "2017-09-19",
         "2017-09-27",
         0.1,
         21.95
        ],
        [
         855079,
         1236950581253,
         "Howard Johnson",
         "2016-10-14",
         "2016-10-21",
         -0.1,
         3.9
        ],
        [
         1018534,
         1760936591363,
         "NH London Kensington",
         "2017-08-01",
         "2017-08-18",
         -0.1,
         15.67
        ],
        [
         1059718,
         1133871366144,
         "Best Western Plus Waterville Grand Hotel",
         "2017-09-06",
         "2017-09-22",
         0.1,
         16.4
        ],
        [
         1287682,
         1589137899521,
         "Holiday Inn Express Hotel and Suites Meadowlands Area",
         "2017-08-02",
         "2017-08-11",
         -0.1,
         23.35
        ],
        [
         1344209,
         2001454759936,
         "The Cranley Hotel",
         "2017-08-01",
         "2017-08-18",
         -0.1,
         15.67
        ],
        [
         1385293,
         1623497637889,
         "Holiday Inn Express Hotel Suites Sedalia",
         "2017-08-26",
         "2017-09-09",
         -0.1,
         20.6
        ],
        [
         1871639,
         498216206340,
         "Liberty Lodge",
         "2017-08-26",
         "2017-09-04",
         0.1,
         14.9
        ],
        [
         2179164,
         1022202216448,
         "Hotel Aura Sfo",
         "2016-10-03",
         "2016-10-11",
         0.1,
         13.65
        ],
        [
         2479000,
         1271310319617,
         "Relax Inn",
         "2016-10-11",
         "2016-10-19",
         -0.1,
         25.45
        ],
        [
         1134854,
         833223655426,
         "Miami Executive Hotel",
         "2016-10-18",
         "2016-10-29",
         0,
         24.9
        ],
        [
         1524141,
         420906795008,
         "The Kinney - Venice Beach",
         "2017-08-11",
         "2017-08-20",
         0,
         20.97
        ],
        [
         1689729,
         1142461300738,
         "Terrace Inns Suites",
         "2016-10-09",
         "2016-10-20",
         0,
         17.2
        ]
       ],
       "datasetInfos": [],
       "dbfsResultPath": null,
       "isJsonSchema": true,
       "metadata": {
        "createTempViewForImplicitDf": true,
        "dataframeName": "_sqldf",
        "executionCount": 16
       },
       "overflow": false,
       "plotOptions": {
        "customPlotOptions": {},
        "displayType": "table",
        "pivotAggregation": null,
        "pivotColumns": null,
        "xColumns": null,
        "yColumns": null
       },
       "removedWidgets": [],
       "schema": [
        {
         "metadata": "{}",
         "name": "booking_id",
         "type": "\"long\""
        },
        {
         "metadata": "{}",
         "name": "hotel_id",
         "type": "\"long\""
        },
        {
         "metadata": "{}",
         "name": "address",
         "type": "\"string\""
        },
        {
         "metadata": "{}",
         "name": "first_day",
         "type": "\"date\""
        },
        {
         "metadata": "{}",
         "name": "last_day",
         "type": "\"date\""
        },
        {
         "metadata": "{}",
         "name": "temp_trend",
         "type": "\"double\""
        },
        {
         "metadata": "{}",
         "name": "avg_temperature",
         "type": "\"double\""
        }
       ],
       "type": "table"
      }
     },
     "output_type": "display_data"
    }
   ],
   "source": [
    "%sql\n",
    "WITH exploded_dates AS (\n",
    "    SELECT\n",
    "        ex.id AS booking_id,\n",
    "        ex.hotel_id,\n",
    "        ex.srch_ci,\n",
    "        ex.srch_co,\n",
    "        explode(sequence(\n",
    "            CAST(ex.srch_ci AS DATE), \n",
    "            CAST(ex.srch_co AS DATE) - INTERVAL 1 DAY,\n",
    "            INTERVAL 1 DAY\n",
    "        )) AS visit_date\n",
    "    FROM mydatabase.expedia ex\n",
    "    WHERE DATEDIFF(ex.srch_co, ex.srch_ci) BETWEEN 7 AND 30\n",
    "      AND ex.srch_co > ex.srch_ci\n",
    "),\n",
    "joined_weather AS (\n",
    "    SELECT \n",
    "        ed.booking_id,\n",
    "        ed.hotel_id,\n",
    "        ed.visit_date,\n",
    "        hw.avg_tmpr_c,\n",
    "        hw.address\n",
    "    FROM exploded_dates ed\n",
    "    LEFT JOIN mydatabase.hotel_weather hw\n",
    "      ON ed.hotel_id = hw.id \n",
    "         AND CAST(hw.wthr_date AS DATE) = ed.visit_date\n",
    "    WHERE hw.avg_tmpr_c IS NOT NULL\n",
    "),\n",
    "windowed_temps AS (\n",
    "    SELECT\n",
    "        booking_id,\n",
    "        hotel_id,\n",
    "        address,\n",
    "        visit_date,\n",
    "        avg_tmpr_c,\n",
    "        FIRST_VALUE(avg_tmpr_c) OVER (PARTITION BY booking_id ORDER BY visit_date) AS first_temp,\n",
    "        LAST_VALUE(avg_tmpr_c) OVER (PARTITION BY booking_id ORDER BY visit_date \n",
    "            ROWS BETWEEN UNBOUNDED PRECEDING AND UNBOUNDED FOLLOWING) AS last_temp\n",
    "    FROM joined_weather\n",
    "),\n",
    "temp_calculations AS (\n",
    "    SELECT\n",
    "        booking_id,\n",
    "        hotel_id,\n",
    "        address,\n",
    "        MIN(visit_date) AS first_day,\n",
    "        MAX(visit_date) AS last_day,\n",
    "        ROUND(last_temp - first_temp, 2) AS temp_trend,\n",
    "        ROUND(AVG(avg_tmpr_c), 2) AS avg_temperature\n",
    "    FROM windowed_temps\n",
    "    GROUP BY booking_id, hotel_id, address, first_temp, last_temp\n",
    ")\n",
    "SELECT *\n",
    "FROM temp_calculations\n",
    "WHERE temp_trend IS NOT NULL\n",
    "  AND avg_temperature IS NOT NULL\n",
    "  AND DATEDIFF(last_day, first_day) >= 7\n",
    "ORDER BY ABS(temp_trend) DESC;\n"
   ]
  },
  {
   "cell_type": "code",
   "execution_count": 0,
   "metadata": {
    "application/vnd.databricks.v1+cell": {
     "cellMetadata": {},
     "collapsed": true,
     "inputWidgets": {},
     "nuid": "70184ec5-ce38-4fb2-a035-ade900860cd1",
     "showTitle": true,
     "tableResultSettingsMap": {},
     "title": "3rd_query_commented"
    }
   },
   "outputs": [],
   "source": [
    "%sql\n",
    "-- First CTE: Create one row per day for each booking that lasts between 7 and 30 days.\n",
    "WITH exploded_dates AS (\n",
    "    SELECT\n",
    "        ex.id AS booking_id,     -- Unique booking identifier.\n",
    "        ex.hotel_id,             -- Hotel identifier.\n",
    "        ex.srch_ci,              -- Check-in date.\n",
    "        ex.srch_co,              -- Check-out date.\n",
    "        -- Generate a sequence of dates from the check-in date to the day before the check-out date.\n",
    "        -- The 'explode' function creates a separate row for each date in the sequence.\n",
    "        explode(sequence(\n",
    "            CAST(ex.srch_ci AS DATE), \n",
    "            CAST(ex.srch_co AS DATE) - INTERVAL 1 DAY,\n",
    "            INTERVAL 1 DAY\n",
    "        )) AS visit_date\n",
    "    FROM mydatabase.expedia ex\n",
    "    WHERE \n",
    "        -- Only include bookings with a duration between 7 and 30 days.\n",
    "        DATEDIFF(ex.srch_co, ex.srch_ci) BETWEEN 7 AND 30\n",
    "        AND ex.srch_co > ex.srch_ci  -- Ensure the check-out date is after the check-in date.\n",
    "),\n",
    "-- Second CTE: Join the exploded booking dates with hotel weather data.\n",
    "joined_weather AS (\n",
    "    SELECT \n",
    "        ed.booking_id,   -- Booking identifier from the exploded_dates CTE.\n",
    "        ed.hotel_id,     -- Hotel identifier.\n",
    "        ed.visit_date,   -- The individual visit date generated earlier.\n",
    "        hw.avg_tmpr_c,   -- The average temperature from the hotel_weather table.\n",
    "        hw.address       -- Hotel address.\n",
    "    FROM exploded_dates ed\n",
    "    LEFT JOIN mydatabase.hotel_weather hw\n",
    "      -- Join on matching hotel IDs and where the weather date corresponds to the visit_date.\n",
    "      ON ed.hotel_id = hw.id \n",
    "         AND CAST(hw.wthr_date AS DATE) = ed.visit_date\n",
    "    WHERE hw.avg_tmpr_c IS NOT NULL  -- Only include records with temperature data.\n",
    "),\n",
    "-- Third CTE: Apply window functions to capture the first and last temperature of each booking.\n",
    "windowed_temps AS (\n",
    "    SELECT\n",
    "        booking_id,\n",
    "        hotel_id,\n",
    "        address,\n",
    "        visit_date,\n",
    "        avg_tmpr_c,\n",
    "        -- Get the first average temperature for the booking (earliest visit_date).\n",
    "        FIRST_VALUE(avg_tmpr_c) OVER (PARTITION BY booking_id ORDER BY visit_date) AS first_temp,\n",
    "        -- Get the last average temperature for the booking (latest visit_date)\n",
    "        -- using an unbounded frame to cover the full partition.\n",
    "        LAST_VALUE(avg_tmpr_c) OVER (\n",
    "            PARTITION BY booking_id \n",
    "            ORDER BY visit_date \n",
    "            ROWS BETWEEN UNBOUNDED PRECEDING AND UNBOUNDED FOLLOWING\n",
    "        ) AS last_temp\n",
    "    FROM joined_weather\n",
    "),\n",
    "-- Fourth CTE: Calculate temperature trend and average temperature for each booking.\n",
    "temp_calculations AS (\n",
    "    SELECT\n",
    "        booking_id,\n",
    "        hotel_id,\n",
    "        address,\n",
    "        MIN(visit_date) AS first_day,      -- The first day of the booking.\n",
    "        MAX(visit_date) AS last_day,         -- The last day of the booking.\n",
    "        -- Calculate the temperature trend as the difference between last and first temperatures.\n",
    "        ROUND(last_temp - first_temp, 2) AS temp_trend,\n",
    "        -- Calculate the average temperature during the booking.\n",
    "        ROUND(AVG(avg_tmpr_c), 2) AS avg_temperature\n",
    "    FROM windowed_temps\n",
    "    GROUP BY booking_id, hotel_id, address, first_temp, last_temp\n",
    ")\n",
    "-- Final query: Retrieve bookings with valid temperature trends and a minimum duration of 7 days,\n",
    "-- and order the results by the absolute temperature trend in descending order.\n",
    "SELECT *\n",
    "FROM temp_calculations\n",
    "WHERE temp_trend IS NOT NULL\n",
    "  AND avg_temperature IS NOT NULL\n",
    "  AND DATEDIFF(last_day, first_day) >= 7\n",
    "ORDER BY ABS(temp_trend) DESC;"
   ]
  },
  {
   "cell_type": "code",
   "execution_count": 0,
   "metadata": {
    "application/vnd.databricks.v1+cell": {
     "cellMetadata": {
      "byteLimit": 2048000,
      "implicitDf": true,
      "rowLimit": 10000
     },
     "collapsed": true,
     "inputWidgets": {},
     "nuid": "0519f1cb-63e6-4f8b-a72c-d64e387b0414",
     "showTitle": true,
     "tableResultSettingsMap": {},
     "title": "3rd_query_explain"
    }
   },
   "outputs": [
    {
     "data": {
      "text/html": [
       "<style scoped>\n",
       "  .table-result-container {\n",
       "    max-height: 300px;\n",
       "    overflow: auto;\n",
       "  }\n",
       "  table, th, td {\n",
       "    border: 1px solid black;\n",
       "    border-collapse: collapse;\n",
       "  }\n",
       "  th, td {\n",
       "    padding: 5px;\n",
       "  }\n",
       "  th {\n",
       "    text-align: left;\n",
       "  }\n",
       "</style><div class='table-result-container'><table class='table-result'><thead style='background-color: white'><tr><th>plan</th></tr></thead><tbody><tr><td>== Physical Plan ==\n",
       "AdaptiveSparkPlan isFinalPlan=false\n",
       "+- == Initial Plan ==\n",
       "   Sort [abs(temp_trend#871) DESC NULLS LAST], true, 0\n",
       "   +- Exchange rangepartitioning(abs(temp_trend#871) DESC NULLS LAST, 200), ENSURE_REQUIREMENTS, [plan_id=1246]\n",
       "      +- Filter (((isnotnull(last_day#870) AND isnotnull(first_day#869)) AND isnotnull(avg_temperature#872)) AND (datediff(last_day#870, first_day#869) >= 7))\n",
       "         +- HashAggregate(keys=[booking_id#865L, hotel_id#927L, address#942, knownfloatingpointnormalized(normalizenanandzero(first_temp#867)) AS first_temp#867, knownfloatingpointnormalized(normalizenanandzero(last_temp#868)) AS last_temp#868], functions=[min(visit_date#957), max(visit_date#957), avg(avg_tmpr_c#943)])\n",
       "            +- Filter isnotnull(round((last_temp#868 - first_temp#867), 2))\n",
       "               +- Window [booking_id#865L, hotel_id#927L, address#942, visit_date#957, avg_tmpr_c#943, first_value(avg_tmpr_c#943, false) windowspecdefinition(booking_id#865L, visit_date#957 ASC NULLS FIRST, specifiedwindowframe(RangeFrame, unboundedpreceding$(), currentrow$())) AS first_temp#867, last_value(avg_tmpr_c#943, false) windowspecdefinition(booking_id#865L, visit_date#957 ASC NULLS FIRST, specifiedwindowframe(RowFrame, unboundedpreceding$(), unboundedfollowing$())) AS last_temp#868], [booking_id#865L], [visit_date#957 ASC NULLS FIRST]\n",
       "                  +- Sort [booking_id#865L ASC NULLS FIRST, visit_date#957 ASC NULLS FIRST], false, 0\n",
       "                     +- Exchange hashpartitioning(booking_id#865L, 200), ENSURE_REQUIREMENTS, [plan_id=1240]\n",
       "                        +- Project [booking_id#865L, hotel_id#927L, address#942, visit_date#957, avg_tmpr_c#943]\n",
       "                           +- BroadcastHashJoin [hotel_id#927L, visit_date#957], [cast(id#948 as bigint), cast(wthr_date#952 as date)], Inner, BuildRight, false, true\n",
       "                              :- Project [id#908L AS booking_id#865L, hotel_id#927L, visit_date#957]\n",
       "                              :  +- Generate explode(sequence(cast(srch_ci#920 as date), date_add(cast(srch_co#921 as date), -1), Some(INTERVAL '1' DAY), Some(Etc/UTC))), [id#908L, hotel_id#927L], false, [visit_date#957]\n",
       "                              :     +- ColumnarToRow\n",
       "                              :        +- PhotonResultStage\n",
       "                              :           +- PhotonScan parquet spark_catalog.mydatabase.expedia[id#908L,srch_ci#920,srch_co#921,hotel_id#927L] DataFilters: [isnotnull(hotel_id#927L), isnotnull(srch_co#921), isnotnull(srch_ci#920), (srch_co#921 > srch_ci..., DictionaryFilters: [], Format: parquet, Location: PreparedDeltaFileIndex(1 paths)[wasbs://data@developmentwesteurope6o.blob.core.windows.net/delta/..., OptionalDataFilters: [], PartitionFilters: [], ReadSchema: struct<id:bigint,srch_ci:string,srch_co:string,hotel_id:bigint>, RequiredDataFilters: [isnotnull(hotel_id#927L), isnotnull(srch_co#921), isnotnull(srch_ci#920), (srch_co#921 > srch_ci...\n",
       "                              +- Exchange SinglePartition, EXECUTOR_BROADCAST, [plan_id=1237]\n",
       "                                 +- ColumnarToRow\n",
       "                                    +- PhotonResultStage\n",
       "                                       +- PhotonProject [address#942, avg_tmpr_c#943, id#948, wthr_date#952]\n",
       "                                          +- PhotonScan parquet spark_catalog.mydatabase.hotel_weather[address#942,avg_tmpr_c#943,id#948,wthr_date#952,year#953,month#954,day#955] DataFilters: [isnotnull(avg_tmpr_c#943), isnotnull(id#948), isnotnull(wthr_date#952)], DictionaryFilters: [], Format: parquet, Location: PreparedDeltaFileIndex(1 paths)[wasbs://data@developmentwesteurope6o.blob.core.windows.net/delta/..., OptionalDataFilters: [], PartitionFilters: [], ReadSchema: struct<address:string,avg_tmpr_c:double,id:string,wthr_date:string>, RequiredDataFilters: [isnotnull(avg_tmpr_c#943), isnotnull(id#948), isnotnull(wthr_date#952)]\n",
       "\n",
       "\n",
       "== Photon Explanation ==\n",
       "Photon does not fully support the query because:\n",
       "\n",
       "\tsequence(cast(srch_ci#920 as date), date_add(cast(srch_co#921 as date), -1), Some(INTERVAL '1' DAY), Some(Etc/UTC)) is not supported:\n",
       "\t\tExpression sequence does not support DateType.\n",
       "\n",
       "Reference node:\n",
       "\tGenerate explode(sequence(cast(srch_ci#920 as date), date_add(cast(srch_co#921 as date), -1), Some(INTERVAL '1' DAY), Some(Etc/UTC))), [id#908L, hotel_id#927L], false, [visit_date#957]\n",
       "\n",
       "Photon does not fully support the query because:\n",
       "\t\tUnsupported node: Exchange SinglePartition, EXECUTOR_BROADCAST, [plan_id=1207].\n",
       "\n",
       "Reference node:\n",
       "\tExchange SinglePartition, EXECUTOR_BROADCAST, [plan_id=1237]\n",
       "</td></tr></tbody></table></div>"
      ]
     },
     "metadata": {
      "application/vnd.databricks.v1+output": {
       "addedWidgets": {},
       "aggData": [],
       "aggError": "",
       "aggOverflow": false,
       "aggSchema": [],
       "aggSeriesLimitReached": false,
       "aggType": "",
       "arguments": {},
       "columnCustomDisplayInfos": {},
       "data": [
        [
         "== Physical Plan ==\nAdaptiveSparkPlan isFinalPlan=false\n+- == Initial Plan ==\n   Sort [abs(temp_trend#871) DESC NULLS LAST], true, 0\n   +- Exchange rangepartitioning(abs(temp_trend#871) DESC NULLS LAST, 200), ENSURE_REQUIREMENTS, [plan_id=1246]\n      +- Filter (((isnotnull(last_day#870) AND isnotnull(first_day#869)) AND isnotnull(avg_temperature#872)) AND (datediff(last_day#870, first_day#869) >= 7))\n         +- HashAggregate(keys=[booking_id#865L, hotel_id#927L, address#942, knownfloatingpointnormalized(normalizenanandzero(first_temp#867)) AS first_temp#867, knownfloatingpointnormalized(normalizenanandzero(last_temp#868)) AS last_temp#868], functions=[min(visit_date#957), max(visit_date#957), avg(avg_tmpr_c#943)])\n            +- Filter isnotnull(round((last_temp#868 - first_temp#867), 2))\n               +- Window [booking_id#865L, hotel_id#927L, address#942, visit_date#957, avg_tmpr_c#943, first_value(avg_tmpr_c#943, false) windowspecdefinition(booking_id#865L, visit_date#957 ASC NULLS FIRST, specifiedwindowframe(RangeFrame, unboundedpreceding$(), currentrow$())) AS first_temp#867, last_value(avg_tmpr_c#943, false) windowspecdefinition(booking_id#865L, visit_date#957 ASC NULLS FIRST, specifiedwindowframe(RowFrame, unboundedpreceding$(), unboundedfollowing$())) AS last_temp#868], [booking_id#865L], [visit_date#957 ASC NULLS FIRST]\n                  +- Sort [booking_id#865L ASC NULLS FIRST, visit_date#957 ASC NULLS FIRST], false, 0\n                     +- Exchange hashpartitioning(booking_id#865L, 200), ENSURE_REQUIREMENTS, [plan_id=1240]\n                        +- Project [booking_id#865L, hotel_id#927L, address#942, visit_date#957, avg_tmpr_c#943]\n                           +- BroadcastHashJoin [hotel_id#927L, visit_date#957], [cast(id#948 as bigint), cast(wthr_date#952 as date)], Inner, BuildRight, false, true\n                              :- Project [id#908L AS booking_id#865L, hotel_id#927L, visit_date#957]\n                              :  +- Generate explode(sequence(cast(srch_ci#920 as date), date_add(cast(srch_co#921 as date), -1), Some(INTERVAL '1' DAY), Some(Etc/UTC))), [id#908L, hotel_id#927L], false, [visit_date#957]\n                              :     +- ColumnarToRow\n                              :        +- PhotonResultStage\n                              :           +- PhotonScan parquet spark_catalog.mydatabase.expedia[id#908L,srch_ci#920,srch_co#921,hotel_id#927L] DataFilters: [isnotnull(hotel_id#927L), isnotnull(srch_co#921), isnotnull(srch_ci#920), (srch_co#921 > srch_ci..., DictionaryFilters: [], Format: parquet, Location: PreparedDeltaFileIndex(1 paths)[wasbs://data@developmentwesteurope6o.blob.core.windows.net/delta/..., OptionalDataFilters: [], PartitionFilters: [], ReadSchema: struct<id:bigint,srch_ci:string,srch_co:string,hotel_id:bigint>, RequiredDataFilters: [isnotnull(hotel_id#927L), isnotnull(srch_co#921), isnotnull(srch_ci#920), (srch_co#921 > srch_ci...\n                              +- Exchange SinglePartition, EXECUTOR_BROADCAST, [plan_id=1237]\n                                 +- ColumnarToRow\n                                    +- PhotonResultStage\n                                       +- PhotonProject [address#942, avg_tmpr_c#943, id#948, wthr_date#952]\n                                          +- PhotonScan parquet spark_catalog.mydatabase.hotel_weather[address#942,avg_tmpr_c#943,id#948,wthr_date#952,year#953,month#954,day#955] DataFilters: [isnotnull(avg_tmpr_c#943), isnotnull(id#948), isnotnull(wthr_date#952)], DictionaryFilters: [], Format: parquet, Location: PreparedDeltaFileIndex(1 paths)[wasbs://data@developmentwesteurope6o.blob.core.windows.net/delta/..., OptionalDataFilters: [], PartitionFilters: [], ReadSchema: struct<address:string,avg_tmpr_c:double,id:string,wthr_date:string>, RequiredDataFilters: [isnotnull(avg_tmpr_c#943), isnotnull(id#948), isnotnull(wthr_date#952)]\n\n\n== Photon Explanation ==\nPhoton does not fully support the query because:\n\n\tsequence(cast(srch_ci#920 as date), date_add(cast(srch_co#921 as date), -1), Some(INTERVAL '1' DAY), Some(Etc/UTC)) is not supported:\n\t\tExpression sequence does not support DateType.\n\nReference node:\n\tGenerate explode(sequence(cast(srch_ci#920 as date), date_add(cast(srch_co#921 as date), -1), Some(INTERVAL '1' DAY), Some(Etc/UTC))), [id#908L, hotel_id#927L], false, [visit_date#957]\n\nPhoton does not fully support the query because:\n\t\tUnsupported node: Exchange SinglePartition, EXECUTOR_BROADCAST, [plan_id=1207].\n\nReference node:\n\tExchange SinglePartition, EXECUTOR_BROADCAST, [plan_id=1237]\n"
        ]
       ],
       "datasetInfos": [],
       "dbfsResultPath": null,
       "isJsonSchema": true,
       "metadata": {
        "createTempViewForImplicitDf": true,
        "dataframeName": "_sqldf",
        "executionCount": 3
       },
       "overflow": false,
       "plotOptions": {
        "customPlotOptions": {},
        "displayType": "table",
        "pivotAggregation": null,
        "pivotColumns": null,
        "xColumns": null,
        "yColumns": null
       },
       "removedWidgets": [],
       "schema": [
        {
         "metadata": "{}",
         "name": "plan",
         "type": "\"string\""
        }
       ],
       "type": "table"
      }
     },
     "output_type": "display_data"
    }
   ],
   "source": [
    "%sql\n",
    "EXPLAIN\n",
    "WITH exploded_dates AS (\n",
    "    SELECT\n",
    "        ex.id AS booking_id,\n",
    "        ex.hotel_id,\n",
    "        ex.srch_ci,\n",
    "        ex.srch_co,\n",
    "        explode(sequence(\n",
    "            CAST(ex.srch_ci AS DATE), \n",
    "            CAST(ex.srch_co AS DATE) - INTERVAL 1 DAY,\n",
    "            INTERVAL 1 DAY\n",
    "        )) AS visit_date\n",
    "    FROM mydatabase.expedia ex\n",
    "    WHERE DATEDIFF(ex.srch_co, ex.srch_ci) BETWEEN 7 AND 30\n",
    "      AND ex.srch_co > ex.srch_ci\n",
    "),\n",
    "joined_weather AS (\n",
    "    SELECT \n",
    "        ed.booking_id,\n",
    "        ed.hotel_id,\n",
    "        ed.visit_date,\n",
    "        hw.avg_tmpr_c,\n",
    "        hw.address\n",
    "    FROM exploded_dates ed\n",
    "    LEFT JOIN mydatabase.hotel_weather hw\n",
    "      ON ed.hotel_id = hw.id \n",
    "         AND CAST(hw.wthr_date AS DATE) = ed.visit_date\n",
    "    WHERE hw.avg_tmpr_c IS NOT NULL\n",
    "),\n",
    "windowed_temps AS (\n",
    "    SELECT\n",
    "        booking_id,\n",
    "        hotel_id,\n",
    "        address,\n",
    "        visit_date,\n",
    "        avg_tmpr_c,\n",
    "        FIRST_VALUE(avg_tmpr_c) OVER (PARTITION BY booking_id ORDER BY visit_date) AS first_temp,\n",
    "        LAST_VALUE(avg_tmpr_c) OVER (PARTITION BY booking_id ORDER BY visit_date \n",
    "            ROWS BETWEEN UNBOUNDED PRECEDING AND UNBOUNDED FOLLOWING) AS last_temp\n",
    "    FROM joined_weather\n",
    "),\n",
    "temp_calculations AS (\n",
    "    SELECT\n",
    "        booking_id,\n",
    "        hotel_id,\n",
    "        address,\n",
    "        MIN(visit_date) AS first_day,\n",
    "        MAX(visit_date) AS last_day,\n",
    "        ROUND(last_temp - first_temp, 2) AS temp_trend,\n",
    "        ROUND(AVG(avg_tmpr_c), 2) AS avg_temperature\n",
    "    FROM windowed_temps\n",
    "    GROUP BY booking_id, hotel_id, address, first_temp, last_temp\n",
    ")\n",
    "SELECT *\n",
    "FROM temp_calculations\n",
    "WHERE temp_trend IS NOT NULL\n",
    "  AND avg_temperature IS NOT NULL\n",
    "  AND DATEDIFF(last_day, first_day) >= 7\n",
    "ORDER BY ABS(temp_trend) DESC;\n"
   ]
  },
  {
   "cell_type": "code",
   "execution_count": 0,
   "metadata": {
    "application/vnd.databricks.v1+cell": {
     "cellMetadata": {
      "byteLimit": 2048000,
      "implicitDf": true,
      "rowLimit": 10000
     },
     "collapsed": true,
     "inputWidgets": {},
     "nuid": "3a823021-9471-43d4-9d4b-46a0403f5797",
     "showTitle": true,
     "tableResultSettingsMap": {},
     "title": "3rd_query_optimized"
    }
   },
   "outputs": [
    {
     "data": {
      "text/plain": [
       "com.databricks.backend.common.rpc.SparkDriverExceptions$SQLExecutionException: java.util.concurrent.ExecutionException: org.apache.spark.SparkException: Job aborted due to stage failure: Task 0 in stage 87.0 failed 4 times, most recent failure: Lost task 0.3 in stage 87.0 (TID 119) (10.139.64.4 executor driver): shaded.databricks.org.apache.hadoop.fs.azure.AzureException: hadoop_azure_shaded.com.microsoft.azure.storage.StorageException: The specified resource does not exist.\n",
       "\tat shaded.databricks.org.apache.hadoop.fs.azure.AzureNativeFileSystemStore.updateFolderLastModifiedTime(AzureNativeFileSystemStore.java:3626)\n",
       "\tat shaded.databricks.org.apache.hadoop.fs.azure.AzureNativeFileSystemStore.updateFolderLastModifiedTime(AzureNativeFileSystemStore.java:3637)\n",
       "\tat shaded.databricks.org.apache.hadoop.fs.azure.NativeAzureFileSystem.updateParentFolderLastModifiedTime(NativeAzureFileSystem.java:3378)\n",
       "\tat shaded.databricks.org.apache.hadoop.fs.azure.NativeAzureFileSystem.create(NativeAzureFileSystem.java:1926)\n",
       "\tat shaded.databricks.org.apache.hadoop.fs.azure.NativeAzureFileSystem.create(NativeAzureFileSystem.java:1741)\n",
       "\tat com.databricks.common.filesystem.LokiFileSystem.create(LokiFileSystem.scala:299)\n",
       "\tat org.apache.hadoop.fs.FileSystem.create(FileSystem.java:1233)\n",
       "\tat org.apache.hadoop.fs.FileSystem.create(FileSystem.java:1210)\n",
       "\tat org.apache.hadoop.fs.FileSystem.create(FileSystem.java:1091)\n",
       "\tat com.databricks.sql.io.HDFSStorage.create(HDFSStorage.java:209)\n",
       "\tat com.databricks.sql.io.NativeStorage.create(NativeStorage.java:468)\n",
       "\tat com.databricks.photon.NativeDataWriter.openNewFile(NativeDataWriter.scala:153)\n",
       "\tat 0xc7af812 <photon>.OpenNewFile(external/workspace_spark_3_5/photon/exec-nodes/data-writer.cc:77)\n",
       "\tat 0x7692569 <photon>.OpenNewFileInCurrentPartition(external/workspace_spark_3_5/photon/exec-nodes/file-writer-node.cc:433)\n",
       "\tat 0x7693130 <photon>.WriteBatch(external/workspace_spark_3_5/photon/exec-nodes/file-writer-node.cc:349)\n",
       "\tat 0x7690dcc <photon>.operator()(external/workspace_spark_3_5/photon/exec-nodes/file-writer-node.cc:209)\n",
       "\tat 0x75d96ec <photon>.ForEach(external/workspace_spark_3_5/photon/data-layout/column-batch-iterator.h:53)\n",
       "\tat 0x75d96ec <photon>.OpenImpl(external/workspace_spark_3_5/photon/exec-nodes/file-writer-node.cc:209)\n",
       "\tat com.databricks.photon.JniApiImpl.open(Native Method)\n",
       "\tat com.databricks.photon.JniApi.open(JniApi.scala)\n",
       "\tat com.databricks.photon.JniExecNode.open(JniExecNode.java:74)\n",
       "\tat com.databricks.photon.PhotonWriteResultHandler.$anonfun$getResult$3(PhotonWriteStageExec.scala:121)\n",
       "\tat scala.runtime.java8.JFunction0$mcV$sp.apply(JFunction0$mcV$sp.java:23)\n",
       "\tat com.databricks.photon.PhotonResultHandler.timeit(PhotonResultHandler.scala:30)\n",
       "\tat com.databricks.photon.PhotonResultHandler.timeit$(PhotonResultHandler.scala:28)\n",
       "\tat com.databricks.photon.PhotonWriteResultHandler.timeit(PhotonWriteStageExec.scala:67)\n",
       "\tat com.databricks.photon.PhotonWriteResultHandler.$anonfun$getResult$2(PhotonWriteStageExec.scala:121)\n",
       "\tat org.apache.spark.util.Utils$.tryWithSafeFinallyAndFailureCallbacks(Utils.scala:1621)\n",
       "\tat com.databricks.photon.PhotonWriteResultHandler.getResult(PhotonWriteStageExec.scala:118)\n",
       "\tat com.databricks.photon.PhotonBasicEvaluatorFactory$PhotonBasicEvaluator$$anon$1.hasNext(PhotonBasicEvaluatorFactory.scala:230)\n",
       "\tat com.databricks.photon.CloseableIterator$$anon$10.hasNext(CloseableIterator.scala:211)\n",
       "\tat org.apache.spark.sql.execution.datasources.FileFormatWriter$.$anonfun$writeUsingPhoton$2(FileFormatWriter.scala:645)\n",
       "\tat org.apache.spark.scheduler.ResultTask.$anonfun$runTask$3(ResultTask.scala:82)\n",
       "\tat com.databricks.spark.util.ExecutorFrameProfiler$.record(ExecutorFrameProfiler.scala:110)\n",
       "\tat org.apache.spark.scheduler.ResultTask.$anonfun$runTask$1(ResultTask.scala:82)\n",
       "\tat com.databricks.spark.util.ExecutorFrameProfiler$.record(ExecutorFrameProfiler.scala:110)\n",
       "\tat org.apache.spark.scheduler.ResultTask.runTask(ResultTask.scala:62)\n",
       "\tat org.apache.spark.TaskContext.runTaskWithListeners(TaskContext.scala:225)\n",
       "\tat org.apache.spark.scheduler.Task.doRunTask(Task.scala:199)\n",
       "\tat org.apache.spark.scheduler.Task.$anonfun$run$5(Task.scala:161)\n",
       "\tat com.databricks.unity.EmptyHandle$.runWithAndClose(UCSHandle.scala:134)\n",
       "\tat org.apache.spark.scheduler.Task.$anonfun$run$1(Task.scala:155)\n",
       "\tat com.databricks.spark.util.ExecutorFrameProfiler$.record(ExecutorFrameProfiler.scala:110)\n",
       "\tat org.apache.spark.scheduler.Task.run(Task.scala:102)\n",
       "\tat org.apache.spark.executor.Executor$TaskRunner.$anonfun$run$10(Executor.scala:1043)\n",
       "\tat org.apache.spark.util.SparkErrorUtils.tryWithSafeFinally(SparkErrorUtils.scala:64)\n",
       "\tat org.apache.spark.util.SparkErrorUtils.tryWithSafeFinally$(SparkErrorUtils.scala:61)\n",
       "\tat org.apache.spark.util.Utils$.tryWithSafeFinally(Utils.scala:111)\n",
       "\tat org.apache.spark.executor.Executor$TaskRunner.$anonfun$run$3(Executor.scala:1046)\n",
       "\tat scala.runtime.java8.JFunction0$mcV$sp.apply(JFunction0$mcV$sp.java:23)\n",
       "\tat com.databricks.spark.util.ExecutorFrameProfiler$.record(ExecutorFrameProfiler.scala:110)\n",
       "\tat org.apache.spark.executor.Executor$TaskRunner.run(Executor.scala:933)\n",
       "\tat java.util.concurrent.ThreadPoolExecutor.runWorker(ThreadPoolExecutor.java:1149)\n",
       "\tat java.util.concurrent.ThreadPoolExecutor$Worker.run(ThreadPoolExecutor.java:624)\n",
       "\tat java.lang.Thread.run(Thread.java:750)\n",
       "Caused by: hadoop_azure_shaded.com.microsoft.azure.storage.StorageException: The specified resource does not exist.\n",
       "\tat hadoop_azure_shaded.com.microsoft.azure.storage.StorageException.translateException(StorageException.java:87)\n",
       "\tat hadoop_azure_shaded.com.microsoft.azure.storage.core.StorageRequest.materializeException(StorageRequest.java:305)\n",
       "\tat hadoop_azure_shaded.com.microsoft.azure.storage.core.ExecutionEngine.executeWithRetry(ExecutionEngine.java:196)\n",
       "\tat hadoop_azure_shaded.com.microsoft.azure.storage.blob.CloudBlob.uploadProperties(CloudBlob.java:3249)\n",
       "\tat shaded.databricks.org.apache.hadoop.fs.azure.StorageInterfaceImpl$CloudBlobWrapperImpl.uploadProperties(StorageInterfaceImpl.java:443)\n",
       "\tat shaded.databricks.org.apache.hadoop.fs.azure.AzureNativeFileSystemStore.updateFolderLastModifiedTime(AzureNativeFileSystemStore.java:3620)\n",
       "\tat shaded.databricks.org.apache.hadoop.fs.azure.AzureNativeFileSystemStore.updateFolderLastModifiedTime(AzureNativeFileSystemStore.java:3637)\n",
       "\tat shaded.databricks.org.apache.hadoop.fs.azure.NativeAzureFileSystem.updateParentFolderLastModifiedTime(NativeAzureFileSystem.java:3378)\n",
       "\tat shaded.databricks.org.apache.hadoop.fs.azure.NativeAzureFileSystem.create(NativeAzureFileSystem.java:1926)\n",
       "\tat shaded.databricks.org.apache.hadoop.fs.azure.NativeAzureFileSystem.create(NativeAzureFileSystem.java:1741)\n",
       "\tat com.databricks.common.filesystem.LokiFileSystem.create(LokiFileSystem.scala:299)\n",
       "\tat org.apache.hadoop.fs.FileSystem.create(FileSystem.java:1233)\n",
       "\tat org.apache.hadoop.fs.FileSystem.create(FileSystem.java:1210)\n",
       "\tat org.apache.hadoop.fs.FileSystem.create(FileSystem.java:1091)\n",
       "\tat com.databricks.sql.io.HDFSStorage.create(HDFSStorage.java:209)\n",
       "\tat com.databricks.sql.io.NativeStorage.create(NativeStorage.java:468)\n",
       "\tat com.databricks.photon.NativeDataWriter.openNewFile(NativeDataWriter.scala:153)\n",
       "\t... 37 more\n",
       "Driver stacktrace:\n",
       "\tat java.util.concurrent.FutureTask.report(FutureTask.java:122)\n",
       "\tat java.util.concurrent.FutureTask.get(FutureTask.java:192)\n",
       "\tat com.databricks.sql.transaction.tahoe.commands.optimize.OptimizeExecutor.$anonfun$executeOptimizeBatch$5(OptimizeExecutor.scala:218)\n",
       "\tat scala.collection.mutable.ResizableArray.foreach(ResizableArray.scala:62)\n",
       "\tat scala.collection.mutable.ResizableArray.foreach$(ResizableArray.scala:55)\n",
       "\tat scala.collection.mutable.ArrayBuffer.foreach(ArrayBuffer.scala:49)\n",
       "\tat com.databricks.sql.transaction.tahoe.commands.optimize.OptimizeExecutor.executeOptimizeBatch(OptimizeExecutor.scala:217)\n",
       "\tat com.databricks.sql.transaction.tahoe.commands.optimize.OptimizeExecutor.execute(OptimizeExecutor.scala:253)\n",
       "\tat com.databricks.sql.transaction.tahoe.commands.optimize.OptimizeRunner.$anonfun$optimize$9(OptimizeRunner.scala:877)\n",
       "\tat com.databricks.sql.transaction.tahoe.commands.optimize.OptimizeRunner.$anonfun$optimize$9$adapted(OptimizeRunner.scala:877)\n",
       "\tat scala.util.Using$.resource(Using.scala:269)\n",
       "\tat com.databricks.sql.transaction.tahoe.commands.optimize.OptimizeRunner.$anonfun$optimize$8(OptimizeRunner.scala:877)\n",
       "\tat com.databricks.sql.transaction.tahoe.commands.optimize.OptimizeRunner.$anonfun$optimize$4(OptimizeRunner.scala:939)\n",
       "\tat com.databricks.sql.transaction.tahoe.commands.optimize.OptimizeRunner.$anonfun$optimize$4$adapted(OptimizeRunner.scala:828)\n",
       "\tat com.databricks.sql.transaction.tahoe.FileMetadataMaterializationTracker$.withTracker(FileMetadataMaterializationTracker.scala:241)\n",
       "\tat com.databricks.sql.transaction.tahoe.commands.optimize.OptimizeRunner.$anonfun$optimize$1(OptimizeRunner.scala:828)\n",
       "\tat com.databricks.sql.transaction.tahoe.metering.DeltaLogging.withOperationTypeTag(DeltaLogging.scala:247)\n",
       "\tat com.databricks.sql.transaction.tahoe.metering.DeltaLogging.withOperationTypeTag$(DeltaLogging.scala:234)\n",
       "\tat com.databricks.sql.transaction.tahoe.commands.optimize.OptimizeRunner.withOperationTypeTag(OptimizeRunner.scala:401)\n",
       "\tat com.databricks.sql.transaction.tahoe.metering.DeltaLogging.$anonfun$recordDeltaOperationInternal$2(DeltaLogging.scala:172)\n",
       "\tat com.databricks.spark.util.FrameProfiler$.record(FrameProfiler.scala:94)\n",
       "\tat com.databricks.sql.transaction.tahoe.metering.DeltaLogging.recordFrameProfile(DeltaLogging.scala:316)\n",
       "\tat com.databricks.sql.transaction.tahoe.metering.DeltaLogging.recordFrameProfile$(DeltaLogging.scala:314)\n",
       "\tat com.databricks.sql.transaction.tahoe.commands.optimize.OptimizeRunner.recordFrameProfile(OptimizeRunner.scala:401)\n",
       "\tat com.databricks.sql.transaction.tahoe.metering.DeltaLogging.$anonfun$recordDeltaOperationInternal$1(DeltaLogging.scala:171)\n",
       "\tat com.databricks.logging.UsageLogging.$anonfun$recordOperation$1(UsageLogging.scala:528)\n",
       "\tat com.databricks.logging.UsageLogging.executeThunkAndCaptureResultTags$1(UsageLogging.scala:633)\n",
       "\tat com.databricks.logging.UsageLogging.$anonfun$recordOperationWithResultTags$4(UsageLogging.scala:656)\n",
       "\tat com.databricks.logging.AttributionContextTracing.$anonfun$withAttributionContext$1(AttributionContextTracing.scala:48)\n",
       "\tat com.databricks.logging.AttributionContext$.$anonfun$withValue$1(AttributionContext.scala:276)\n",
       "\tat scala.util.DynamicVariable.withValue(DynamicVariable.scala:62)\n",
       "\tat com.databricks.logging.AttributionContext$.withValue(AttributionContext.scala:272)\n",
       "\tat com.databricks.logging.AttributionContextTracing.withAttributionContext(AttributionContextTracing.scala:46)\n",
       "\tat com.databricks.logging.AttributionContextTracing.withAttributionContext$(AttributionContextTracing.scala:43)\n",
       "\tat com.databricks.spark.util.PublicDBLogging.withAttributionContext(DatabricksSparkUsageLogger.scala:30)\n",
       "\tat com.databricks.logging.AttributionContextTracing.withAttributionTags(AttributionContextTracing.scala:95)\n",
       "\tat com.databricks.logging.AttributionContextTracing.withAttributionTags$(AttributionContextTracing.scala:76)\n",
       "\tat com.databricks.spark.util.PublicDBLogging.withAttributionTags(DatabricksSparkUsageLogger.scala:30)\n",
       "\tat com.databricks.logging.UsageLogging.recordOperationWithResultTags(UsageLogging.scala:628)\n",
       "\tat com.databricks.logging.UsageLogging.recordOperationWithResultTags$(UsageLogging.scala:537)\n",
       "\tat com.databricks.spark.util.PublicDBLogging.recordOperationWithResultTags(DatabricksSparkUsageLogger.scala:30)\n",
       "\tat com.databricks.logging.UsageLogging.recordOperation(UsageLogging.scala:529)\n",
       "\tat com.databricks.logging.UsageLogging.recordOperation$(UsageLogging.scala:495)\n",
       "\tat com.databricks.spark.util.PublicDBLogging.recordOperation(DatabricksSparkUsageLogger.scala:30)\n",
       "\tat com.databricks.spark.util.PublicDBLogging.recordOperation0(DatabricksSparkUsageLogger.scala:87)\n",
       "\tat com.databricks.spark.util.DatabricksSparkUsageLogger.recordOperation(DatabricksSparkUsageLogger.scala:173)\n",
       "\tat com.databricks.spark.util.UsageLogger.recordOperation(UsageLogger.scala:70)\n",
       "\tat com.databricks.spark.util.UsageLogger.recordOperation$(UsageLogger.scala:57)\n",
       "\tat com.databricks.spark.util.DatabricksSparkUsageLogger.recordOperation(DatabricksSparkUsageLogger.scala:132)\n",
       "\tat com.databricks.spark.util.UsageLogging.recordOperation(UsageLogger.scala:511)\n",
       "\tat com.databricks.spark.util.UsageLogging.recordOperation$(UsageLogger.scala:490)\n",
       "\tat com.databricks.sql.transaction.tahoe.commands.optimize.OptimizeRunner.recordOperation(OptimizeRunner.scala:401)\n",
       "\tat com.databricks.sql.transaction.tahoe.metering.DeltaLogging.recordDeltaOperationInternal(DeltaLogging.scala:170)\n",
       "\tat com.databricks.sql.transaction.tahoe.metering.DeltaLogging.recordDeltaOperation(DeltaLogging.scala:160)\n",
       "\tat com.databricks.sql.transaction.tahoe.metering.DeltaLogging.recordDeltaOperation$(DeltaLogging.scala:149)\n",
       "\tat com.databricks.sql.transaction.tahoe.commands.optimize.OptimizeRunner.recordDeltaOperation(OptimizeRunner.scala:401)\n",
       "\tat com.databricks.sql.transaction.tahoe.commands.optimize.OptimizeRunner.optimize(OptimizeRunner.scala:766)\n",
       "\tat com.databricks.sql.transaction.tahoe.commands.optimize.OptimizeRunner.runOptimizeIterations(OptimizeRunner.scala:616)\n",
       "\tat com.databricks.sql.transaction.tahoe.commands.optimize.OptimizeRunner.$anonfun$runAndReturnMetricsInternal$3(OptimizeRunner.scala:568)\n",
       "\tat scala.runtime.java8.JFunction0$mcV$sp.apply(JFunction0$mcV$sp.java:23)\n",
       "\tat com.databricks.spark.util.FrameProfiler$.record(FrameProfiler.scala:94)\n",
       "\tat com.databricks.sql.transaction.tahoe.commands.optimize.OptimizeRunner.$anonfun$runAndReturnMetricsInternal$1(OptimizeRunner.scala:557)\n",
       "\tat com.databricks.sql.acl.CheckPermissions$.$anonfun$trusted$2(CheckPermissions.scala:2311)\n",
       "\tat com.databricks.sql.util.ThreadLocalTagger.withTag(QueryTagger.scala:62)\n",
       "\tat com.databricks.sql.util.ThreadLocalTagger.withTag$(QueryTagger.scala:59)\n",
       "\tat com.databricks.sql.util.QueryTagger$.withTag(QueryTagger.scala:159)\n",
       "\tat com.databricks.sql.acl.CheckPermissions$.trusted(CheckPermissions.scala:2311)\n",
       "\tat com.databricks.sql.transaction.tahoe.commands.optimize.OptimizeRunner.runAndReturnMetricsInternal(OptimizeRunner.scala:514)\n",
       "\tat com.databricks.sql.transaction.tahoe.commands.optimize.OptimizeRunner.runAndReturnMetricsWithConflictChecking(OptimizeRunner.scala:493)\n",
       "\tat com.databricks.sql.transaction.tahoe.commands.optimize.OptimizeRunner.runAndReturnMetrics(OptimizeRunner.scala:470)\n",
       "\tat com.databricks.sql.transaction.tahoe.commands.OptimizeTableCommandEdge.$anonfun$run$1(OptimizeTableCommandEdge.scala:187)\n",
       "\tat com.databricks.sql.acl.CheckPermissions$.$anonfun$trusted$2(CheckPermissions.scala:2311)\n",
       "\tat com.databricks.sql.util.ThreadLocalTagger.withTag(QueryTagger.scala:62)\n",
       "\tat com.databricks.sql.util.ThreadLocalTagger.withTag$(QueryTagger.scala:59)\n",
       "\tat com.databricks.sql.util.QueryTagger$.withTag(QueryTagger.scala:159)\n",
       "\tat com.databricks.sql.acl.CheckPermissions$.trusted(CheckPermissions.scala:2311)\n",
       "\tat com.databricks.sql.transaction.tahoe.commands.OptimizeTableCommandEdge.run(OptimizeTableCommandEdge.scala:139)\n",
       "\tat org.apache.spark.sql.execution.command.ExecutedCommandExec.$anonfun$sideEffectResult$2(commands.scala:84)\n",
       "\tat org.apache.spark.sql.execution.SparkPlan.runCommandInAetherOrSpark(SparkPlan.scala:189)\n",
       "\tat org.apache.spark.sql.execution.command.ExecutedCommandExec.$anonfun$sideEffectResult$1(commands.scala:84)\n",
       "\tat com.databricks.spark.util.FrameProfiler$.record(FrameProfiler.scala:94)\n",
       "\tat org.apache.spark.sql.execution.command.ExecutedCommandExec.sideEffectResult$lzycompute(commands.scala:81)\n",
       "\tat org.apache.spark.sql.execution.command.ExecutedCommandExec.sideEffectResult(commands.scala:80)\n",
       "\tat org.apache.spark.sql.execution.command.ExecutedCommandExec.executeCollect(commands.scala:94)\n",
       "\tat org.apache.spark.sql.execution.QueryExecution$$anonfun$$nestedInanonfun$eagerlyExecuteCommands$1$1.$anonfun$applyOrElse$5(QueryExecution.scala:425)\n",
       "\tat com.databricks.util.LexicalThreadLocal$Handle.runWith(LexicalThreadLocal.scala:63)\n",
       "\tat org.apache.spark.sql.execution.QueryExecution$$anonfun$$nestedInanonfun$eagerlyExecuteCommands$1$1.$anonfun$applyOrElse$4(QueryExecution.scala:425)\n",
       "\tat org.apache.spark.sql.catalyst.QueryPlanningTracker$.withTracker(QueryPlanningTracker.scala:194)\n",
       "\tat org.apache.spark.sql.execution.QueryExecution$$anonfun$$nestedInanonfun$eagerlyExecuteCommands$1$1.$anonfun$applyOrElse$3(QueryExecution.scala:425)\n",
       "\tat org.apache.spark.sql.execution.SQLExecution$.$anonfun$withNewExecutionId0$10(SQLExecution.scala:475)\n",
       "\tat org.apache.spark.sql.execution.SQLExecution$.withSQLConfPropagated(SQLExecution.scala:813)\n",
       "\tat org.apache.spark.sql.execution.SQLExecution$.$anonfun$withNewExecutionId0$1(SQLExecution.scala:334)\n",
       "\tat org.apache.spark.sql.SparkSession.withActive(SparkSession.scala:1210)\n",
       "\tat org.apache.spark.sql.execution.SQLExecution$.withNewExecutionId0(SQLExecution.scala:205)\n",
       "\tat org.apache.spark.sql.execution.SQLExecution$.withNewExecutionId(SQLExecution.scala:750)\n",
       "\tat org.apache.spark.sql.execution.QueryExecution$$anonfun$$nestedInanonfun$eagerlyExecuteCommands$1$1.$anonfun$applyOrElse$2(QueryExecution.scala:421)\n",
       "\tat org.apache.spark.sql.execution.QueryExecution$.withInternalError(QueryExecution.scala:1219)\n",
       "\tat org.apache.spark.sql.execution.QueryExecution$$anonfun$$nestedInanonfun$eagerlyExecuteCommands$1$1.$anonfun$applyOrElse$1(QueryExecution.scala:417)\n",
       "\tat org.apache.spark.sql.execution.QueryExecution.org$apache$spark$sql$execution$QueryExecution$$withMVTagsIfNecessary(QueryExecution.scala:355)\n",
       "\tat org.apache.spark.sql.execution.QueryExecution$$anonfun$$nestedInanonfun$eagerlyExecuteCommands$1$1.applyOrElse(QueryExecution.scala:414)\n",
       "\tat org.apache.spark.sql.execution.QueryExecution$$anonfun$$nestedInanonfun$eagerlyExecuteCommands$1$1.applyOrElse(QueryExecution.scala:388)\n",
       "\tat org.apache.spark.sql.catalyst.trees.TreeNode.$anonfun$transformDownWithPruning$1(TreeNode.scala:505)\n",
       "\tat org.apache.spark.sql.catalyst.trees.CurrentOrigin$.withOrigin(origin.scala:85)\n",
       "\tat org.apache.spark.sql.catalyst.trees.TreeNode.transformDownWithPruning(TreeNode.scala:505)\n",
       "\tat org.apache.spark.sql.catalyst.plans.logical.LogicalPlan.org$apache$spark$sql$catalyst$plans$logical$AnalysisHelper$$super$transformDownWithPruning(LogicalPlan.scala:40)\n",
       "\tat org.apache.spark.sql.catalyst.plans.logical.AnalysisHelper.transformDownWithPruning(AnalysisHelper.scala:379)\n",
       "\tat org.apache.spark.sql.catalyst.plans.logical.AnalysisHelper.transformDownWithPruning$(AnalysisHelper.scala:375)\n",
       "\tat org.apache.spark.sql.catalyst.plans.logical.LogicalPlan.transformDownWithPruning(LogicalPlan.scala:40)\n",
       "\tat org.apache.spark.sql.catalyst.plans.logical.LogicalPlan.transformDownWithPruning(LogicalPlan.scala:40)\n",
       "\tat org.apache.spark.sql.catalyst.trees.TreeNode.transformDown(TreeNode.scala:481)\n",
       "\tat org.apache.spark.sql.execution.QueryExecution.$anonfun$eagerlyExecuteCommands$1(QueryExecution.scala:388)\n",
       "\tat org.apache.spark.sql.catalyst.plans.logical.AnalysisHelper$.allowInvokingTransformsInAnalyzer(AnalysisHelper.scala:436)\n",
       "\tat org.apache.spark.sql.execution.QueryExecution.eagerlyExecuteCommands(QueryExecution.scala:388)\n",
       "\tat org.apache.spark.sql.execution.QueryExecution.commandExecuted$lzycompute(QueryExecution.scala:314)\n",
       "\tat org.apache.spark.sql.execution.QueryExecution.commandExecuted(QueryExecution.scala:311)\n",
       "\tat org.apache.spark.sql.Dataset.<init>(Dataset.scala:343)\n",
       "\tat org.apache.spark.sql.Dataset$.$anonfun$ofRows$2(Dataset.scala:131)\n",
       "\tat org.apache.spark.sql.SparkSession.withActive(SparkSession.scala:1210)\n",
       "\tat org.apache.spark.sql.SparkSession.$anonfun$withActiveAndFrameProfiler$1(SparkSession.scala:1217)\n",
       "\tat com.databricks.spark.util.FrameProfiler$.record(FrameProfiler.scala:94)\n",
       "\tat org.apache.spark.sql.SparkSession.withActiveAndFrameProfiler(SparkSession.scala:1217)\n",
       "\tat org.apache.spark.sql.Dataset$.ofRows(Dataset.scala:122)\n",
       "\tat org.apache.spark.sql.SparkSession.$anonfun$sql$4(SparkSession.scala:989)\n",
       "\tat org.apache.spark.sql.SparkSession.withActive(SparkSession.scala:1210)\n",
       "\tat org.apache.spark.sql.SparkSession.sql(SparkSession.scala:973)\n",
       "\tat org.apache.spark.sql.SparkSession.sql(SparkSession.scala:1012)\n",
       "\tat com.databricks.backend.daemon.driver.DriverLocal$DbClassicStrategy.executeSQLQuery(DriverLocal.scala:301)\n",
       "\tat com.databricks.backend.daemon.driver.DriverLocal.executeSQLSubCommand(DriverLocal.scala:401)\n",
       "\tat com.databricks.backend.daemon.driver.DriverLocal.$anonfun$executeSql$1(DriverLocal.scala:423)\n",
       "\tat scala.collection.immutable.List.map(List.scala:293)\n",
       "\tat com.databricks.backend.daemon.driver.DriverLocal.executeSql(DriverLocal.scala:418)\n",
       "\tat com.databricks.backend.daemon.driver.JupyterDriverLocal.repl(JupyterDriverLocal.scala:1054)\n",
       "\tat com.databricks.backend.daemon.driver.DriverLocal.$anonfun$execute$33(DriverLocal.scala:1172)\n",
       "\tat com.databricks.unity.EmptyHandle$.runWith(UCSHandle.scala:133)\n",
       "\tat com.databricks.backend.daemon.driver.DriverLocal.$anonfun$execute$28(DriverLocal.scala:1163)\n",
       "\tat com.databricks.logging.AttributionContextTracing.$anonfun$withAttributionContext$1(AttributionContextTracing.scala:48)\n",
       "\tat com.databricks.logging.AttributionContext$.$anonfun$withValue$1(AttributionContext.scala:276)\n",
       "\tat scala.util.DynamicVariable.withValue(DynamicVariable.scala:62)\n",
       "\tat com.databricks.logging.AttributionContext$.withValue(AttributionContext.scala:272)\n",
       "\tat com.databricks.logging.AttributionContextTracing.withAttributionContext(AttributionContextTracing.scala:46)\n",
       "\tat com.databricks.logging.AttributionContextTracing.withAttributionContext$(AttributionContextTracing.scala:43)\n",
       "\tat com.databricks.backend.daemon.driver.DriverLocal.withAttributionContext(DriverLocal.scala:96)\n",
       "\tat com.databricks.logging.AttributionContextTracing.withAttributionTags(AttributionContextTracing.scala:95)\n",
       "\tat com.databricks.logging.AttributionContextTracing.withAttributionTags$(AttributionContextTracing.scala:76)\n",
       "\tat com.databricks.backend.daemon.driver.DriverLocal.withAttributionTags(DriverLocal.scala:96)\n",
       "\tat com.databricks.backend.daemon.driver.DriverLocal.$anonfun$execute$1(DriverLocal.scala:1099)\n",
       "\tat com.databricks.backend.daemon.driver.DriverLocal$.$anonfun$maybeSynchronizeExecution$4(DriverLocal.scala:1519)\n",
       "\tat com.databricks.backend.daemon.driver.DriverLocal.execute(DriverLocal.scala:776)\n",
       "\tat com.databricks.backend.daemon.driver.DriverWrapper.$anonfun$tryExecutingCommand$2(DriverWrapper.scala:932)\n",
       "\tat scala.util.Try$.apply(Try.scala:213)\n",
       "\tat com.databricks.backend.daemon.driver.DriverWrapper.$anonfun$tryExecutingCommand$1(DriverWrapper.scala:921)\n",
       "\tat com.databricks.backend.daemon.driver.DriverWrapper.$anonfun$tryExecutingCommand$3(DriverWrapper.scala:967)\n",
       "\tat com.databricks.logging.UsageLogging.executeThunkAndCaptureResultTags$1(UsageLogging.scala:633)\n",
       "\tat com.databricks.logging.UsageLogging.$anonfun$recordOperationWithResultTags$4(UsageLogging.scala:656)\n",
       "\tat com.databricks.logging.AttributionContextTracing.$anonfun$withAttributionContext$1(AttributionContextTracing.scala:48)\n",
       "\tat com.databricks.logging.AttributionContext$.$anonfun$withValue$1(AttributionContext.scala:276)\n",
       "\tat scala.util.DynamicVariable.withValue(DynamicVariable.scala:62)\n",
       "\tat com.databricks.logging.AttributionContext$.withValue(AttributionContext.scala:272)\n",
       "\tat com.databricks.logging.AttributionContextTracing.withAttributionContext(AttributionContextTracing.scala:46)\n",
       "\tat com.databricks.logging.AttributionContextTracing.withAttributionContext$(AttributionContextTracing.scala:43)\n",
       "\tat com.databricks.backend.daemon.driver.DriverWrapper.withAttributionContext(DriverWrapper.scala:73)\n",
       "\tat com.databricks.logging.AttributionContextTracing.withAttributionTags(AttributionContextTracing.scala:95)\n",
       "\tat com.databricks.logging.AttributionContextTracing.withAttributionTags$(AttributionContextTracing.scala:76)\n",
       "\tat com.databricks.backend.daemon.driver.DriverWrapper.withAttributionTags(DriverWrapper.scala:73)\n",
       "\tat com.databricks.logging.UsageLogging.recordOperationWithResultTags(UsageLogging.scala:628)\n",
       "\tat com.databricks.logging.UsageLogging.recordOperationWithResultTags$(UsageLogging.scala:537)\n",
       "\tat com.databricks.backend.daemon.driver.DriverWrapper.recordOperationWithResultTags(DriverWrapper.scala:73)\n",
       "\tat com.databricks.backend.daemon.driver.DriverWrapper.tryExecutingCommand(DriverWrapper.scala:967)\n",
       "\tat com.databricks.backend.daemon.driver.DriverWrapper.executeCommandAndGetError(DriverWrapper.scala:717)\n",
       "\tat com.databricks.backend.daemon.driver.DriverWrapper.executeCommand(DriverWrapper.scala:785)\n",
       "\tat com.databricks.backend.daemon.driver.DriverWrapper.$anonfun$runInnerLoop$1(DriverWrapper.scala:590)\n",
       "\tat scala.runtime.java8.JFunction0$mcV$sp.apply(JFunction0$mcV$sp.java:23)\n",
       "\tat com.databricks.logging.AttributionContextTracing.$anonfun$withAttributionContext$1(AttributionContextTracing.scala:48)\n",
       "\tat com.databricks.logging.AttributionContext$.$anonfun$withValue$1(AttributionContext.scala:276)\n",
       "\tat scala.util.DynamicVariable.withValue(DynamicVariable.scala:62)\n",
       "\tat com.databricks.logging.AttributionContext$.withValue(AttributionContext.scala:272)\n",
       "\tat com.databricks.logging.AttributionContextTracing.withAttributionContext(AttributionContextTracing.scala:46)\n",
       "\tat com.databricks.logging.AttributionContextTracing.withAttributionContext$(AttributionContextTracing.scala:43)\n",
       "\tat com.databricks.backend.daemon.driver.DriverWrapper.withAttributionContext(DriverWrapper.scala:73)\n",
       "\tat com.databricks.backend.daemon.driver.DriverWrapper.runInnerLoop(DriverWrapper.scala:590)\n",
       "\tat com.databricks.backend.daemon.driver.DriverWrapper.runInner(DriverWrapper.scala:512)\n",
       "\tat com.databricks.backend.daemon.driver.DriverWrapper.run(DriverWrapper.scala:306)\n",
       "\tat java.lang.Thread.run(Thread.java:750)\n",
       "Caused by: org.apache.spark.SparkException: Job aborted due to stage failure: Task 0 in stage 87.0 failed 4 times, most recent failure: Lost task 0.3 in stage 87.0 (TID 119) (10.139.64.4 executor driver): shaded.databricks.org.apache.hadoop.fs.azure.AzureException: hadoop_azure_shaded.com.microsoft.azure.storage.StorageException: The specified resource does not exist.\n",
       "\tat shaded.databricks.org.apache.hadoop.fs.azure.AzureNativeFileSystemStore.updateFolderLastModifiedTime(AzureNativeFileSystemStore.java:3626)\n",
       "\tat shaded.databricks.org.apache.hadoop.fs.azure.AzureNativeFileSystemStore.updateFolderLastModifiedTime(AzureNativeFileSystemStore.java:3637)\n",
       "\tat shaded.databricks.org.apache.hadoop.fs.azure.NativeAzureFileSystem.updateParentFolderLastModifiedTime(NativeAzureFileSystem.java:3378)\n",
       "\tat shaded.databricks.org.apache.hadoop.fs.azure.NativeAzureFileSystem.create(NativeAzureFileSystem.java:1926)\n",
       "\tat shaded.databricks.org.apache.hadoop.fs.azure.NativeAzureFileSystem.create(NativeAzureFileSystem.java:1741)\n",
       "\tat com.databricks.common.filesystem.LokiFileSystem.create(LokiFileSystem.scala:299)\n",
       "\tat org.apache.hadoop.fs.FileSystem.create(FileSystem.java:1233)\n",
       "\tat org.apache.hadoop.fs.FileSystem.create(FileSystem.java:1210)\n",
       "\tat org.apache.hadoop.fs.FileSystem.create(FileSystem.java:1091)\n",
       "\tat com.databricks.sql.io.HDFSStorage.create(HDFSStorage.java:209)\n",
       "\tat com.databricks.sql.io.NativeStorage.create(NativeStorage.java:468)\n",
       "\tat com.databricks.photon.NativeDataWriter.openNewFile(NativeDataWriter.scala:153)\n",
       "\tat 0xc7af812 <photon>.OpenNewFile(external/workspace_spark_3_5/photon/exec-nodes/data-writer.cc:77)\n",
       "\tat 0x7692569 <photon>.OpenNewFileInCurrentPartition(external/workspace_spark_3_5/photon/exec-nodes/file-writer-node.cc:433)\n",
       "\tat 0x7693130 <photon>.WriteBatch(external/workspace_spark_3_5/photon/exec-nodes/file-writer-node.cc:349)\n",
       "\tat 0x7690dcc <photon>.operator()(external/workspace_spark_3_5/photon/exec-nodes/file-writer-node.cc:209)\n",
       "\tat 0x75d96ec <photon>.ForEach(external/workspace_spark_3_5/photon/data-layout/column-batch-iterator.h:53)\n",
       "\tat 0x75d96ec <photon>.OpenImpl(external/workspace_spark_3_5/photon/exec-nodes/file-writer-node.cc:209)\n",
       "\tat com.databricks.photon.JniApiImpl.open(Native Method)\n",
       "\tat com.databricks.photon.JniApi.open(JniApi.scala)\n",
       "\tat com.databricks.photon.JniExecNode.open(JniExecNode.java:74)\n",
       "\tat com.databricks.photon.PhotonWriteResultHandler.$anonfun$getResult$3(PhotonWriteStageExec.scala:121)\n",
       "\tat scala.runtime.java8.JFunction0$mcV$sp.apply(JFunction0$mcV$sp.java:23)\n",
       "\tat com.databricks.photon.PhotonResultHandler.timeit(PhotonResultHandler.scala:30)\n",
       "\tat com.databricks.photon.PhotonResultHandler.timeit$(PhotonResultHandler.scala:28)\n",
       "\tat com.databricks.photon.PhotonWriteResultHandler.timeit(PhotonWriteStageExec.scala:67)\n",
       "\tat com.databricks.photon.PhotonWriteResultHandler.$anonfun$getResult$2(PhotonWriteStageExec.scala:121)\n",
       "\tat org.apache.spark.util.Utils$.tryWithSafeFinallyAndFailureCallbacks(Utils.scala:1621)\n",
       "\tat com.databricks.photon.PhotonWriteResultHandler.getResult(PhotonWriteStageExec.scala:118)\n",
       "\tat com.databricks.photon.PhotonBasicEvaluatorFactory$PhotonBasicEvaluator$$anon$1.hasNext(PhotonBasicEvaluatorFactory.scala:230)\n",
       "\tat com.databricks.photon.CloseableIterator$$anon$10.hasNext(CloseableIterator.scala:211)\n",
       "\tat org.apache.spark.sql.execution.datasources.FileFormatWriter$.$anonfun$writeUsingPhoton$2(FileFormatWriter.scala:645)\n",
       "\tat org.apache.spark.scheduler.ResultTask.$anonfun$runTask$3(ResultTask.scala:82)\n",
       "\tat com.databricks.spark.util.ExecutorFrameProfiler$.record(ExecutorFrameProfiler.scala:110)\n",
       "\tat org.apache.spark.scheduler.ResultTask.$anonfun$runTask$1(ResultTask.scala:82)\n",
       "\tat com.databricks.spark.util.ExecutorFrameProfiler$.record(ExecutorFrameProfiler.scala:110)\n",
       "\tat org.apache.spark.scheduler.ResultTask.runTask(ResultTask.scala:62)\n",
       "\tat org.apache.spark.TaskContext.runTaskWithListeners(TaskContext.scala:225)\n",
       "\tat org.apache.spark.scheduler.Task.doRunTask(Task.scala:199)\n",
       "\tat org.apache.spark.scheduler.Task.$anonfun$run$5(Task.scala:161)\n",
       "\tat com.databricks.unity.EmptyHandle$.runWithAndClose(UCSHandle.scala:134)\n",
       "\tat org.apache.spark.scheduler.Task.$anonfun$run$1(Task.scala:155)\n",
       "\tat com.databricks.spark.util.ExecutorFrameProfiler$.record(ExecutorFrameProfiler.scala:110)\n",
       "\tat org.apache.spark.scheduler.Task.run(Task.scala:102)\n",
       "\tat org.apache.spark.executor.Executor$TaskRunner.$anonfun$run$10(Executor.scala:1043)\n",
       "\tat org.apache.spark.util.SparkErrorUtils.tryWithSafeFinally(SparkErrorUtils.scala:64)\n",
       "\tat org.apache.spark.util.SparkErrorUtils.tryWithSafeFinally$(SparkErrorUtils.scala:61)\n",
       "\tat org.apache.spark.util.Utils$.tryWithSafeFinally(Utils.scala:111)\n",
       "\tat org.apache.spark.executor.Executor$TaskRunner.$anonfun$run$3(Executor.scala:1046)\n",
       "\tat scala.runtime.java8.JFunction0$mcV$sp.apply(JFunction0$mcV$sp.java:23)\n",
       "\tat com.databricks.spark.util.ExecutorFrameProfiler$.record(ExecutorFrameProfiler.scala:110)\n",
       "\tat org.apache.spark.executor.Executor$TaskRunner.run(Executor.scala:933)\n",
       "\tat java.util.concurrent.ThreadPoolExecutor.runWorker(ThreadPoolExecutor.java:1149)\n",
       "\tat java.util.concurrent.ThreadPoolExecutor$Worker.run(ThreadPoolExecutor.java:624)\n",
       "\tat java.lang.Thread.run(Thread.java:750)\n",
       "Caused by: hadoop_azure_shaded.com.microsoft.azure.storage.StorageException: The specified resource does not exist.\n",
       "\tat hadoop_azure_shaded.com.microsoft.azure.storage.StorageException.translateException(StorageException.java:87)\n",
       "\tat hadoop_azure_shaded.com.microsoft.azure.storage.core.StorageRequest.materializeException(StorageRequest.java:305)\n",
       "\tat hadoop_azure_shaded.com.microsoft.azure.storage.core.ExecutionEngine.executeWithRetry(ExecutionEngine.java:196)\n",
       "\tat hadoop_azure_shaded.com.microsoft.azure.storage.blob.CloudBlob.uploadProperties(CloudBlob.java:3249)\n",
       "\tat shaded.databricks.org.apache.hadoop.fs.azure.StorageInterfaceImpl$CloudBlobWrapperImpl.uploadProperties(StorageInterfaceImpl.java:443)\n",
       "\tat shaded.databricks.org.apache.hadoop.fs.azure.AzureNativeFileSystemStore.updateFolderLastModifiedTime(AzureNativeFileSystemStore.java:3620)\n",
       "\tat shaded.databricks.org.apache.hadoop.fs.azure.AzureNativeFileSystemStore.updateFolderLastModifiedTime(AzureNativeFileSystemStore.java:3637)\n",
       "\tat shaded.databricks.org.apache.hadoop.fs.azure.NativeAzureFileSystem.updateParentFolderLastModifiedTime(NativeAzureFileSystem.java:3378)\n",
       "\tat shaded.databricks.org.apache.hadoop.fs.azure.NativeAzureFileSystem.create(NativeAzureFileSystem.java:1926)\n",
       "\tat shaded.databricks.org.apache.hadoop.fs.azure.NativeAzureFileSystem.create(NativeAzureFileSystem.java:1741)\n",
       "\tat com.databricks.common.filesystem.LokiFileSystem.create(LokiFileSystem.scala:299)\n",
       "\tat org.apache.hadoop.fs.FileSystem.create(FileSystem.java:1233)\n",
       "\tat org.apache.hadoop.fs.FileSystem.create(FileSystem.java:1210)\n",
       "\tat org.apache.hadoop.fs.FileSystem.create(FileSystem.java:1091)\n",
       "\tat com.databricks.sql.io.HDFSStorage.create(HDFSStorage.java:209)\n",
       "\tat com.databricks.sql.io.NativeStorage.create(NativeStorage.java:468)\n",
       "\tat com.databricks.photon.NativeDataWriter.openNewFile(NativeDataWriter.scala:153)\n",
       "\t... 37 more\n",
       "Driver stacktrace:\n",
       "\tat org.apache.spark.scheduler.DAGScheduler.$anonfun$failJobAndIndependentStages$1(DAGScheduler.scala:4018)\n",
       "\tat scala.Option.getOrElse(Option.scala:189)\n",
       "\tat org.apache.spark.scheduler.DAGScheduler.failJobAndIndependentStages(DAGScheduler.scala:4016)\n",
       "\tat org.apache.spark.scheduler.DAGScheduler.$anonfun$abortStage$2(DAGScheduler.scala:3930)\n",
       "\tat org.apache.spark.scheduler.DAGScheduler.$anonfun$abortStage$2$adapted(DAGScheduler.scala:3917)\n",
       "\tat scala.collection.mutable.ResizableArray.foreach(ResizableArray.scala:62)\n",
       "\tat scala.collection.mutable.ResizableArray.foreach$(ResizableArray.scala:55)\n",
       "\tat scala.collection.mutable.ArrayBuffer.foreach(ArrayBuffer.scala:49)\n",
       "\tat org.apache.spark.scheduler.DAGScheduler.abortStage(DAGScheduler.scala:3917)\n",
       "\tat org.apache.spark.scheduler.DAGScheduler.$anonfun$handleTaskSetFailed$1(DAGScheduler.scala:1766)\n",
       "\tat org.apache.spark.scheduler.DAGScheduler.$anonfun$handleTaskSetFailed$1$adapted(DAGScheduler.scala:1749)\n",
       "\tat scala.Option.foreach(Option.scala:407)\n",
       "\tat org.apache.spark.scheduler.DAGScheduler.handleTaskSetFailed(DAGScheduler.scala:1749)\n",
       "\tat org.apache.spark.scheduler.DAGSchedulerEventProcessLoop.doOnReceive(DAGScheduler.scala:4277)\n",
       "\tat org.apache.spark.scheduler.DAGSchedulerEventProcessLoop.onReceive(DAGScheduler.scala:4179)\n",
       "\tat org.apache.spark.scheduler.DAGSchedulerEventProcessLoop.onReceive(DAGScheduler.scala:4165)\n",
       "\tat org.apache.spark.util.EventLoop$$anon$1.run(EventLoop.scala:55)\n",
       "\tat org.apache.spark.scheduler.DAGScheduler.$anonfun$runJob$1(DAGScheduler.scala:1412)\n",
       "\tat scala.runtime.java8.JFunction0$mcV$sp.apply(JFunction0$mcV$sp.java:23)\n",
       "\tat com.databricks.spark.util.FrameProfiler$.record(FrameProfiler.scala:94)\n",
       "\tat org.apache.spark.scheduler.DAGScheduler.runJob(DAGScheduler.scala:1400)\n",
       "\tat org.apache.spark.SparkContext.runJobInternal(SparkContext.scala:3168)\n",
       "\tat org.apache.spark.SparkContext.runJob(SparkContext.scala:3149)\n",
       "\tat org.apache.spark.sql.execution.datasources.FileFormatWriter$.$anonfun$writeUsingPhoton$1(FileFormatWriter.scala:642)\n",
       "\tat org.apache.spark.sql.catalyst.MetricKeyUtils$.measureMs(MetricKey.scala:1191)\n",
       "\tat org.apache.spark.sql.execution.datasources.FileFormatWriter$.writeUsingPhoton(FileFormatWriter.scala:640)\n",
       "\tat org.apache.spark.sql.execution.datasources.FileFormatWriter$.$anonfun$write$21(FileFormatWriter.scala:287)\n",
       "\tat org.apache.spark.sql.execution.datasources.FileFormatWriter$.writeAndCommit(FileFormatWriter.scala:395)\n",
       "\tat org.apache.spark.sql.execution.datasources.FileFormatWriter$.$anonfun$write$1(FileFormatWriter.scala:277)\n",
       "\tat com.databricks.spark.util.FrameProfiler$.record(FrameProfiler.scala:94)\n",
       "\tat org.apache.spark.sql.execution.datasources.FileFormatWriter$.write(FileFormatWriter.scala:121)\n",
       "\tat com.databricks.sql.transaction.tahoe.commands.WriteIntoDeltaCommand.run(WriteIntoDeltaCommand.scala:121)\n",
       "\tat org.apache.spark.sql.execution.command.DataWritingCommandExec.$anonfun$sideEffectResult$5(commands.scala:137)\n",
       "\tat org.apache.spark.sql.execution.SparkPlan.runCommandInAetherOrSpark(SparkPlan.scala:189)\n",
       "\tat org.apache.spark.sql.execution.command.DataWritingCommandExec.$anonfun$sideEffectResult$4(commands.scala:137)\n",
       "\tat com.databricks.spark.util.FrameProfiler$.record(FrameProfiler.scala:94)\n",
       "\tat org.apache.spark.sql.execution.command.DataWritingCommandExec.sideEffectResult$lzycompute(commands.scala:133)\n",
       "\tat org.apache.spark.sql.execution.command.DataWritingCommandExec.sideEffectResult(commands.scala:132)\n",
       "\tat org.apache.spark.sql.execution.command.DataWritingCommandExec.$anonfun$doExecute$4(commands.scala:161)\n",
       "\tat com.databricks.spark.util.FrameProfiler$.record(FrameProfiler.scala:94)\n",
       "\tat org.apache.spark.sql.execution.command.DataWritingCommandExec.doExecute(commands.scala:161)\n",
       "\tat org.apache.spark.sql.execution.SparkPlan.$anonfun$execute$2(SparkPlan.scala:341)\n",
       "\tat com.databricks.spark.util.FrameProfiler$.record(FrameProfiler.scala:94)\n",
       "\tat org.apache.spark.sql.execution.SparkPlan.$anonfun$execute$1(SparkPlan.scala:341)\n",
       "\tat org.apache.spark.sql.execution.SparkPlan$.org$apache$spark$sql$execution$SparkPlan$$withExecuteQueryLogging(SparkPlan.scala:132)\n",
       "\tat org.apache.spark.sql.execution.SparkPlan.$anonfun$executeQuery$1(SparkPlan.scala:399)\n",
       "\tat org.apache.spark.rdd.RDDOperationScope$.withScope(RDDOperationScope.scala:165)\n",
       "\tat org.apache.spark.sql.execution.SparkPlan.executeQuery(SparkPlan.scala:395)\n",
       "\tat org.apache.spark.sql.execution.SparkPlan.execute(SparkPlan.scala:336)\n",
       "\tat org.apache.spark.sql.execution.QueryExecution.toRdd$lzycompute(QueryExecution.scala:633)\n",
       "\tat org.apache.spark.sql.execution.QueryExecution.toRdd(QueryExecution.scala:632)\n",
       "\tat com.databricks.sql.transaction.tahoe.files.TransactionalWriteEdge.$anonfun$writeFilesAndGetQueryExecution$15(TransactionalWriteEdge.scala:746)\n",
       "\tat org.apache.spark.sql.execution.SQLExecution$.$anonfun$withNewExecutionId0$10(SQLExecution.scala:475)\n",
       "\tat org.apache.spark.sql.execution.SQLExecution$.withSQLConfPropagated(SQLExecution.scala:813)\n",
       "\tat org.apache.spark.sql.execution.SQLExecution$.$anonfun$withNewExecutionId0$1(SQLExecution.scala:334)\n",
       "\tat org.apache.spark.sql.SparkSession.withActive(SparkSession.scala:1210)\n",
       "\tat org.apache.spark.sql.execution.SQLExecution$.withNewExecutionId0(SQLExecution.scala:205)\n",
       "\tat org.apache.spark.sql.execution.SQLExecution$.withNewExecutionId(SQLExecution.scala:750)\n",
       "\tat com.databricks.sql.transaction.tahoe.files.TransactionalWriteEdge.$anonfun$writeFilesAndGetQueryExecution$1(TransactionalWriteEdge.scala:735)\n",
       "\tat com.databricks.sql.transaction.tahoe.metering.DeltaLogging.withOperationTypeTag(DeltaLogging.scala:247)\n",
       "\tat com.databricks.sql.transaction.tahoe.metering.DeltaLogging.withOperationTypeTag$(DeltaLogging.scala:234)\n",
       "\tat com.databricks.sql.transaction.tahoe.OptimisticTransaction.withOperationTypeTag(OptimisticTransaction.scala:181)\n",
       "\tat com.databricks.sql.transaction.tahoe.metering.DeltaLogging.$anonfun$recordDeltaOperationInternal$2(DeltaLogging.scala:172)\n",
       "\tat com.databricks.spark.util.FrameProfiler$.record(FrameProfiler.scala:94)\n",
       "\tat com.databricks.sql.transaction.tahoe.metering.DeltaLogging.recordFrameProfile(DeltaLogging.scala:316)\n",
       "\tat com.databricks.sql.transaction.tahoe.metering.DeltaLogging.recordFrameProfile$(DeltaLogging.scala:314)\n",
       "\tat com.databricks.sql.transaction.tahoe.OptimisticTransaction.recordFrameProfile(OptimisticTransaction.scala:181)\n",
       "\tat com.databricks.sql.transaction.tahoe.metering.DeltaLogging.$anonfun$recordDeltaOperationInternal$1(DeltaLogging.scala:171)\n",
       "\tat com.databricks.logging.UsageLogging.$anonfun$recordOperation$1(UsageLogging.scala:528)\n",
       "\tat com.databricks.logging.UsageLogging.executeThunkAndCaptureResultTags$1(UsageLogging.scala:633)\n",
       "\tat com.databricks.logging.UsageLogging.$anonfun$recordOperationWithResultTags$4(UsageLogging.scala:656)\n",
       "\tat com.databricks.logging.AttributionContextTracing.$anonfun$withAttributionContext$1(AttributionContextTracing.scala:48)\n",
       "\tat com.databricks.logging.AttributionContext$.$anonfun$withValue$1(AttributionContext.scala:276)\n",
       "\tat scala.util.DynamicVariable.withValue(DynamicVariable.scala:62)\n",
       "\tat com.databricks.logging.AttributionContext$.withValue(AttributionContext.scala:272)\n",
       "\tat com.databricks.logging.AttributionContextTracing.withAttributionContext(AttributionContextTracing.scala:46)\n",
       "\tat com.databricks.logging.AttributionContextTracing.withAttributionContext$(AttributionContextTracing.scala:43)\n",
       "\tat com.databricks.spark.util.PublicDBLogging.withAttributionContext(DatabricksSparkUsageLogger.scala:30)\n",
       "\tat com.databricks.logging.AttributionContextTracing.withAttributionTags(AttributionContextTracing.scala:95)\n",
       "\tat com.databricks.logging.AttributionContextTracing.withAttributionTags$(AttributionContextTracing.scala:76)\n",
       "\tat com.databricks.spark.util.PublicDBLogging.withAttributionTags(DatabricksSparkUsageLogger.scala:30)\n",
       "\tat com.databricks.logging.UsageLogging.recordOperationWithResultTags(UsageLogging.scala:628)\n",
       "\tat com.databricks.logging.UsageLogging.recordOperationWithResultTags$(UsageLogging.scala:537)\n",
       "\tat com.databricks.spark.util.PublicDBLogging.recordOperationWithResultTags(DatabricksSparkUsageLogger.scala:30)\n",
       "\tat com.databricks.logging.UsageLogging.recordOperation(UsageLogging.scala:529)\n",
       "\tat com.databricks.logging.UsageLogging.recordOperation$(UsageLogging.scala:495)\n",
       "\tat com.databricks.spark.util.PublicDBLogging.recordOperation(DatabricksSparkUsageLogger.scala:30)\n",
       "\tat com.databricks.spark.util.PublicDBLogging.recordOperation0(DatabricksSparkUsageLogger.scala:87)\n",
       "\tat com.databricks.spark.util.DatabricksSparkUsageLogger.recordOperation(DatabricksSparkUsageLogger.scala:173)\n",
       "\tat com.databricks.spark.util.UsageLogger.recordOperation(UsageLogger.scala:70)\n",
       "\tat com.databricks.spark.util.UsageLogger.recordOperation$(UsageLogger.scala:57)\n",
       "\tat com.databricks.spark.util.DatabricksSparkUsageLogger.recordOperation(DatabricksSparkUsageLogger.scala:132)\n",
       "\tat com.databricks.spark.util.UsageLogging.recordOperation(UsageLogger.scala:511)\n",
       "\tat com.databricks.spark.util.UsageLogging.recordOperation$(UsageLogger.scala:490)\n",
       "\tat com.databricks.sql.transaction.tahoe.OptimisticTransaction.recordOperation(OptimisticTransaction.scala:181)\n",
       "\tat com.databricks.sql.transaction.tahoe.metering.DeltaLogging.recordDeltaOperationInternal(DeltaLogging.scala:170)\n",
       "\tat com.databricks.sql.transaction.tahoe.metering.DeltaLogging.recordDeltaOperation(DeltaLogging.scala:160)\n",
       "\tat com.databricks.sql.transaction.tahoe.metering.DeltaLogging.recordDeltaOperation$(DeltaLogging.scala:149)\n",
       "\tat com.databricks.sql.transaction.tahoe.OptimisticTransaction.recordDeltaOperation(OptimisticTransaction.scala:181)\n",
       "\tat com.databricks.sql.transaction.tahoe.files.TransactionalWriteEdge.$anonfun$recordWriteFilesOperation$1(TransactionalWriteEdge.scala:365)\n",
       "\tat com.databricks.sql.acl.CheckPermissions$.$anonfun$trusted$2(CheckPermissions.scala:2311)\n",
       "\tat com.databricks.sql.util.ThreadLocalTagger.withTag(QueryTagger.scala:62)\n",
       "\tat com.databricks.sql.util.ThreadLocalTagger.withTag$(QueryTagger.scala:59)\n",
       "\tat com.databricks.sql.util.QueryTagger$.withTag(QueryTagger.scala:159)\n",
       "\tat com.databricks.sql.acl.CheckPermissions$.trusted(CheckPermissions.scala:2311)\n",
       "\tat com.databricks.sql.transaction.tahoe.files.TransactionalWriteEdge.recordWriteFilesOperation(TransactionalWriteEdge.scala:364)\n",
       "\tat com.databricks.sql.transaction.tahoe.files.TransactionalWriteEdge.writeFilesAndGetQueryExecution(TransactionalWriteEdge.scala:424)\n",
       "\tat com.databricks.sql.transaction.tahoe.files.TransactionalWriteEdge.writeFilesAndGetQueryExecution$(TransactionalWriteEdge.scala:414)\n",
       "\tat com.databricks.sql.transaction.tahoe.OptimisticTransaction.writeFilesAndGetQueryExecution(OptimisticTransaction.scala:181)\n",
       "\tat com.databricks.sql.transaction.tahoe.files.TransactionalWriteEdge.writeFiles(TransactionalWriteEdge.scala:864)\n",
       "\tat com.databricks.sql.transaction.tahoe.files.TransactionalWriteEdge.writeFiles$(TransactionalWriteEdge.scala:847)\n",
       "\tat com.databricks.sql.transaction.tahoe.OptimisticTransaction.writeFiles(OptimisticTransaction.scala:181)\n",
       "\tat com.databricks.sql.transaction.tahoe.commands.optimize.OptimizeBatch.$anonfun$writeFiles$1(OptimizeExecutor.scala:852)\n",
       "\tat org.apache.spark.SparkContext.withJobGroup(SparkContext.scala:1314)\n",
       "\tat com.databricks.sql.transaction.tahoe.commands.optimize.OptimizeBatch.writeFiles(OptimizeExecutor.scala:851)\n",
       "\tat com.databricks.sql.transaction.tahoe.commands.optimize.OptimizeBatch.$anonfun$execute$10(OptimizeExecutor.scala:662)\n",
       "\tat com.databricks.sql.acl.CheckPermissions$.$anonfun$trusted$2(CheckPermissions.scala:2311)\n",
       "\tat com.databricks.sql.util.ThreadLocalTagger.withTag(QueryTagger.scala:62)\n",
       "\tat com.databricks.sql.util.ThreadLocalTagger.withTag$(QueryTagger.scala:59)\n",
       "\tat com.databricks.sql.util.QueryTagger$.withTag(QueryTagger.scala:159)\n",
       "\tat com.databricks.sql.acl.CheckPermissions$.trusted(CheckPermissions.scala:2311)\n",
       "\tat com.databricks.sql.transaction.tahoe.commands.optimize.OptimizeBatch.execute(OptimizeExecutor.scala:642)\n",
       "\tat com.databricks.sql.transaction.tahoe.commands.optimize.OptimizeExecutor.$anonfun$executeBatch$2(OptimizeExecutor.scala:332)\n",
       "\tat com.databricks.backend.daemon.driver.ProgressReporter$.withStatusCode(ProgressReporter.scala:416)\n",
       "\tat com.databricks.backend.daemon.driver.ProgressReporter$.withStatusCode(ProgressReporter.scala:402)\n",
       "\tat com.databricks.spark.util.SparkDatabricksProgressReporter$.withStatusCode(ProgressReporter.scala:34)\n",
       "\tat com.databricks.sql.transaction.tahoe.util.DeltaProgressReporterEdge.withStatusCode(DeltaProgressReporterEdge.scala:30)\n",
       "\tat com.databricks.sql.transaction.tahoe.util.DeltaProgressReporterEdge.withStatusCode$(DeltaProgressReporterEdge.scala:25)\n",
       "\tat com.databricks.sql.transaction.tahoe.commands.optimize.OptimizeExecutor.withStatusCode(OptimizeExecutor.scala:122)\n",
       "\tat com.databricks.sql.transaction.tahoe.commands.optimize.OptimizeExecutor.$anonfun$executeBatch$1(OptimizeExecutor.scala:328)\n",
       "\tat com.databricks.spark.util.FrameProfiler$.record(FrameProfiler.scala:94)\n",
       "\tat com.databricks.sql.transaction.tahoe.commands.optimize.OptimizeExecutor.executeBatch(OptimizeExecutor.scala:328)\n",
       "\tat com.databricks.sql.transaction.tahoe.commands.optimize.OptimizeExecutor$$anon$1.$anonfun$call$1(OptimizeExecutor.scala:206)\n",
       "\tat com.databricks.sql.transaction.tahoe.metering.DeltaLogging.withOperationTypeTag(DeltaLogging.scala:247)\n",
       "\tat com.databricks.sql.transaction.tahoe.metering.DeltaLogging.withOperationTypeTag$(DeltaLogging.scala:234)\n",
       "\tat com.databricks.sql.transaction.tahoe.commands.optimize.OptimizeExecutor.withOperationTypeTag(OptimizeExecutor.scala:122)\n",
       "\tat com.databricks.sql.transaction.tahoe.metering.DeltaLogging.$anonfun$recordDeltaOperationInternal$2(DeltaLogging.scala:172)\n",
       "\tat com.databricks.spark.util.FrameProfiler$.record(FrameProfiler.scala:94)\n",
       "\tat com.databricks.sql.transaction.tahoe.metering.DeltaLogging.recordFrameProfile(DeltaLogging.scala:316)\n",
       "\tat com.databricks.sql.transaction.tahoe.metering.DeltaLogging.recordFrameProfile$(DeltaLogging.scala:314)\n",
       "\tat com.databricks.sql.transaction.tahoe.commands.optimize.OptimizeExecutor.recordFrameProfile(OptimizeExecutor.scala:122)\n",
       "\tat com.databricks.sql.transaction.tahoe.metering.DeltaLogging.$anonfun$recordDeltaOperationInternal$1(DeltaLogging.scala:171)\n",
       "\tat com.databricks.logging.UsageLogging.$anonfun$recordOperation$1(UsageLogging.scala:528)\n",
       "\tat com.databricks.logging.UsageLogging.executeThunkAndCaptureResultTags$1(UsageLogging.scala:633)\n",
       "\tat com.databricks.logging.UsageLogging.$anonfun$recordOperationWithResultTags$4(UsageLogging.scala:656)\n",
       "\tat com.databricks.logging.AttributionContextTracing.$anonfun$withAttributionContext$1(AttributionContextTracing.scala:48)\n",
       "\tat com.databricks.logging.AttributionContext$.$anonfun$withValue$1(AttributionContext.scala:276)\n",
       "\tat scala.util.DynamicVariable.withValue(DynamicVariable.scala:62)\n",
       "\tat com.databricks.logging.AttributionContext$.withValue(AttributionContext.scala:272)\n",
       "\tat com.databricks.logging.AttributionContextTracing.withAttributionContext(AttributionContextTracing.scala:46)\n",
       "\tat com.databricks.logging.AttributionContextTracing.withAttributionContext$(AttributionContextTracing.scala:43)\n",
       "\tat com.databricks.spark.util.PublicDBLogging.withAttributionContext(DatabricksSparkUsageLogger.scala:30)\n",
       "\tat com.databricks.logging.AttributionContextTracing.withAttributionTags(AttributionContextTracing.scala:95)\n",
       "\tat com.databricks.logging.AttributionContextTracing.withAttributionTags$(AttributionContextTracing.scala:76)\n",
       "\tat com.databricks.spark.util.PublicDBLogging.withAttributionTags(DatabricksSparkUsageLogger.scala:30)\n",
       "\tat com.databricks.logging.UsageLogging.recordOperationWithResultTags(UsageLogging.scala:628)\n",
       "\tat com.databricks.logging.UsageLogging.recordOperationWithResultTags$(UsageLogging.scala:537)\n",
       "\tat com.databricks.spark.util.PublicDBLogging.recordOperationWithResultTags(DatabricksSparkUsageLogger.scala:30)\n",
       "\tat com.databricks.logging.UsageLogging.recordOperation(UsageLogging.scala:529)\n",
       "\tat com.databricks.logging.UsageLogging.recordOperation$(UsageLogging.scala:495)\n",
       "\tat com.databricks.spark.util.PublicDBLogging.recordOperation(DatabricksSparkUsageLogger.scala:30)\n",
       "\tat com.databricks.spark.util.PublicDBLogging.recordOperation0(DatabricksSparkUsageLogger.scala:87)\n",
       "\tat com.databricks.spark.util.DatabricksSparkUsageLogger.recordOperation(DatabricksSparkUsageLogger.scala:173)\n",
       "\tat com.databricks.spark.util.UsageLogger.recordOperation(UsageLogger.scala:70)\n",
       "\tat com.databricks.spark.util.UsageLogger.recordOperation$(UsageLogger.scala:57)\n",
       "\tat com.databricks.spark.util.DatabricksSparkUsageLogger.recordOperation(DatabricksSparkUsageLogger.scala:132)\n",
       "\tat com.databricks.spark.util.UsageLogging.recordOperation(UsageLogger.scala:511)\n",
       "\tat com.databricks.spark.util.UsageLogging.recordOperation$(UsageLogger.scala:490)\n",
       "\tat com.databricks.sql.transaction.tahoe.commands.optimize.OptimizeExecutor.recordOperation(OptimizeExecutor.scala:122)\n",
       "\tat com.databricks.sql.transaction.tahoe.metering.DeltaLogging.recordDeltaOperationInternal(DeltaLogging.scala:170)\n",
       "\tat com.databricks.sql.transaction.tahoe.metering.DeltaLogging.recordDeltaOperation(DeltaLogging.scala:160)\n",
       "\tat com.databricks.sql.transaction.tahoe.metering.DeltaLogging.recordDeltaOperation$(DeltaLogging.scala:149)\n",
       "\tat com.databricks.sql.transaction.tahoe.commands.optimize.OptimizeExecutor.recordDeltaOperation(OptimizeExecutor.scala:122)\n",
       "\tat com.databricks.sql.transaction.tahoe.commands.optimize.OptimizeExecutor$$anon$1.call(OptimizeExecutor.scala:193)\n",
       "\tat com.databricks.sql.transaction.tahoe.commands.optimize.O\n",
       "\tat com.databricks.backend.daemon.driver.DriverLocal.executeSql(DriverLocal.scala:475)\n",
       "\tat com.databricks.backend.daemon.driver.JupyterDriverLocal.repl(JupyterDriverLocal.scala:1054)\n",
       "\tat com.databricks.backend.daemon.driver.DriverLocal.$anonfun$execute$33(DriverLocal.scala:1172)\n",
       "\tat com.databricks.unity.EmptyHandle$.runWith(UCSHandle.scala:133)\n",
       "\tat com.databricks.backend.daemon.driver.DriverLocal.$anonfun$execute$28(DriverLocal.scala:1163)\n",
       "\tat com.databricks.logging.AttributionContextTracing.$anonfun$withAttributionContext$1(AttributionContextTracing.scala:48)\n",
       "\tat com.databricks.logging.AttributionContext$.$anonfun$withValue$1(AttributionContext.scala:276)\n",
       "\tat scala.util.DynamicVariable.withValue(DynamicVariable.scala:62)\n",
       "\tat com.databricks.logging.AttributionContext$.withValue(AttributionContext.scala:272)\n",
       "\tat com.databricks.logging.AttributionContextTracing.withAttributionContext(AttributionContextTracing.scala:46)\n",
       "\tat com.databricks.logging.AttributionContextTracing.withAttributionContext$(AttributionContextTracing.scala:43)\n",
       "\tat com.databricks.backend.daemon.driver.DriverLocal.withAttributionContext(DriverLocal.scala:96)\n",
       "\tat com.databricks.logging.AttributionContextTracing.withAttributionTags(AttributionContextTracing.scala:95)\n",
       "\tat com.databricks.logging.AttributionContextTracing.withAttributionTags$(AttributionContextTracing.scala:76)\n",
       "\tat com.databricks.backend.daemon.driver.DriverLocal.withAttributionTags(DriverLocal.scala:96)\n",
       "\tat com.databricks.backend.daemon.driver.DriverLocal.$anonfun$execute$1(DriverLocal.scala:1099)\n",
       "\tat com.databricks.backend.daemon.driver.DriverLocal$.$anonfun$maybeSynchronizeExecution$4(DriverLocal.scala:1519)\n",
       "\tat com.databricks.backend.daemon.driver.DriverLocal.execute(DriverLocal.scala:776)\n",
       "\tat com.databricks.backend.daemon.driver.DriverWrapper.$anonfun$tryExecutingCommand$2(DriverWrapper.scala:932)\n",
       "\tat scala.util.Try$.apply(Try.scala:213)\n",
       "\tat com.databricks.backend.daemon.driver.DriverWrapper.$anonfun$tryExecutingCommand$1(DriverWrapper.scala:921)\n",
       "\tat com.databricks.backend.daemon.driver.DriverWrapper.$anonfun$tryExecutingCommand$3(DriverWrapper.scala:967)\n",
       "\tat com.databricks.logging.UsageLogging.executeThunkAndCaptureResultTags$1(UsageLogging.scala:633)\n",
       "\tat com.databricks.logging.UsageLogging.$anonfun$recordOperationWithResultTags$4(UsageLogging.scala:656)\n",
       "\tat com.databricks.logging.AttributionContextTracing.$anonfun$withAttributionContext$1(AttributionContextTracing.scala:48)\n",
       "\tat com.databricks.logging.AttributionContext$.$anonfun$withValue$1(AttributionContext.scala:276)\n",
       "\tat scala.util.DynamicVariable.withValue(DynamicVariable.scala:62)\n",
       "\tat com.databricks.logging.AttributionContext$.withValue(AttributionContext.scala:272)\n",
       "\tat com.databricks.logging.AttributionContextTracing.withAttributionContext(AttributionContextTracing.scala:46)\n",
       "\tat com.databricks.logging.AttributionContextTracing.withAttributionContext$(AttributionContextTracing.scala:43)\n",
       "\tat com.databricks.backend.daemon.driver.DriverWrapper.withAttributionContext(DriverWrapper.scala:73)\n",
       "\tat com.databricks.logging.AttributionContextTracing.withAttributionTags(AttributionContextTracing.scala:95)\n",
       "\tat com.databricks.logging.AttributionContextTracing.withAttributionTags$(AttributionContextTracing.scala:76)\n",
       "\tat com.databricks.backend.daemon.driver.DriverWrapper.withAttributionTags(DriverWrapper.scala:73)\n",
       "\tat com.databricks.logging.UsageLogging.recordOperationWithResultTags(UsageLogging.scala:628)\n",
       "\tat com.databricks.logging.UsageLogging.recordOperationWithResultTags$(UsageLogging.scala:537)\n",
       "\tat com.databricks.backend.daemon.driver.DriverWrapper.recordOperationWithResultTags(DriverWrapper.scala:73)\n",
       "\tat com.databricks.backend.daemon.driver.DriverWrapper.tryExecutingCommand(DriverWrapper.scala:967)\n",
       "\tat com.databricks.backend.daemon.driver.DriverWrapper.executeCommandAndGetError(DriverWrapper.scala:717)\n",
       "\tat com.databricks.backend.daemon.driver.DriverWrapper.executeCommand(DriverWrapper.scala:785)\n",
       "\tat com.databricks.backend.daemon.driver.DriverWrapper.$anonfun$runInnerLoop$1(DriverWrapper.scala:590)\n",
       "\tat scala.runtime.java8.JFunction0$mcV$sp.apply(JFunction0$mcV$sp.java:23)\n",
       "\tat com.databricks.logging.AttributionContextTracing.$anonfun$withAttributionContext$1(AttributionContextTracing.scala:48)\n",
       "\tat com.databricks.logging.AttributionContext$.$anonfun$withValue$1(AttributionContext.scala:276)\n",
       "\tat scala.util.DynamicVariable.withValue(DynamicVariable.scala:62)\n",
       "\tat com.databricks.logging.AttributionContext$.withValue(AttributionContext.scala:272)\n",
       "\tat com.databricks.logging.AttributionContextTracing.withAttributionContext(AttributionContextTracing.scala:46)\n",
       "\tat com.databricks.logging.AttributionContextTracing.withAttributionContext$(AttributionContextTracing.scala:43)\n",
       "\tat com.databricks.backend.daemon.driver.DriverWrapper.withAttributionContext(DriverWrapper.scala:73)\n",
       "\tat com.databricks.backend.daemon.driver.DriverWrapper.runInnerLoop(DriverWrapper.scala:590)\n",
       "\tat com.databricks.backend.daemon.driver.DriverWrapper.runInner(DriverWrapper.scala:512)\n",
       "\tat com.databricks.backend.daemon.driver.DriverWrapper.run(DriverWrapper.scala:306)\n",
       "\tat java.lang.Thread.run(Thread.java:750)"
      ]
     },
     "metadata": {
      "application/vnd.databricks.v1+output": {
       "addedWidgets": {},
       "arguments": {},
       "datasetInfos": [],
       "jupyterProps": null,
       "metadata": {
        "errorSummary": "ExecutionException: org.apache.spark.SparkException: Job aborted due to stage failure: Task 0 in stage 87.0 failed 4 times, most recent failure: Lost task 0.3 in stage 87.0 (TID 119) (10.139.64.4 executor driver): shaded.databricks.org.apache.hadoop.fs.azure.AzureException: hadoop_azure_shaded.com.microsoft.azure.storage.StorageException: The specified resource does not exist.\n\tat shaded.databricks.org.apache.hadoop.fs.azure.AzureNativeFileSystemStore.updateFolderLastModifiedTime(AzureNativeFileSystemStore.java:3626)\n\tat shaded.databricks.org.apache.hadoop.fs.azure.AzureNativeFileSystemStore.updateFolderLastModifiedTime(AzureNativeFileSystemStore.java:3637)\n\tat shaded.databricks.org.apache.hadoop.fs.azure.NativeAzureFileSystem.updateParentFolderLastModifiedTime(NativeAzureFileSystem.java:3378)\n\tat shaded.databricks.org.apache.hadoop.fs.azure.NativeAzureFileSystem.create(NativeAzureFileSystem.java:1926)\n\tat shaded.databricks.org.apache.hadoop.fs.azure.NativeAzureFileSystem.create(NativeAzureFileSystem.java:1741)\n\tat com.databricks.common.filesystem.LokiFileSystem.create(LokiFileSystem.scala:299)\n\tat org.apache.hadoop.fs.FileSystem.create(FileSystem.java:1233)\n\tat org.apache.hadoop.fs.FileSystem.create(FileSystem.java:1210)\n\tat org.apache.hadoop.fs.FileSystem.create(FileSystem.java:1091)\n\tat com.databricks.sql.io.HDFSStorage.create(HDFSStorage.java:209)\n\tat com.databricks.sql.io.NativeStorage.create(NativeStorage.java:468)\n\tat com.databricks.photon.NativeDataWriter.openNewFile(NativeDataWriter.scala:153)\n\tat 0xc7af812 <photon>.OpenNewFile(external/workspace_spark_3_5/photon/exec-nodes/data-writer.cc:77)\n\tat 0x7692569 <photon>.OpenNewFileInCurrentPartition(external/workspace_spark_3_5/photon/exec-nodes/file-writer-node.cc:433)\n\tat 0x7693130 <photon>.WriteBatch(external/workspace_spark_3_5/photon/exec-nodes/file-writer-node.cc:349)\n\tat 0x7690dcc <photon>.operator()(external/workspace_spark_3_5/photon/exec-nodes/file-writer-node.cc:209)\n\tat 0x75d96ec <photon>.ForEach(external/workspace_spark_3_5/photon/data-layout/column-batch-iterator.h:53)\n\tat 0x75d96ec <photon>.OpenImpl(external/workspace_spark_3_5/photon/exec-nodes/file-writer-node.cc:209)\n\tat com.databricks.photon.JniApiImpl.open(Native Method)\n\tat com.databricks.photon.JniApi.open(JniApi.scala)\n\tat com.databricks.photon.JniExecNode.open(JniExecNode.java:74)\n\tat com.databricks.photon.PhotonWriteResultHandler.$anonfun$getResult$3(PhotonWriteStageExec.scala:121)\n\tat scala.runtime.java8.JFunction0$mcV$sp.apply(JFunction0$mcV$sp.java:23)\n\tat com.databricks.photon.PhotonResultHandler.timeit(PhotonResultHandler.scala:30)\n\tat com.databricks.photon.PhotonResultHandler.timeit$(PhotonResultHandler.scala:28)\n\tat com.databricks.photon.PhotonWriteResultHandler.timeit(PhotonWriteStageExec.scala:67)\n\tat com.databricks.photon.PhotonWriteResultHandler.$anonfun$getResult$2(PhotonWriteStageExec.scala:121)\n\tat org.apache.spark.util.Utils$.tryWithSafeFinallyAndFailureCallbacks(Utils.scala:1621)\n\tat com.databricks.photon.PhotonWriteResultHandler.getResult(PhotonWriteStageExec.scala:118)\n\tat com.databricks.photon.PhotonBasicEvaluatorFactory$PhotonBasicEvaluator$$anon$1.hasNext(PhotonBasicEvaluatorFactory.scala:230)\n\tat com.databricks.photon.CloseableIterator$$anon$10.hasNext(CloseableIterator.scala:211)\n\tat org.apache.spark.sql.execution.datasources.FileFormatWriter$.$anonfun$writeUsingPhoton$2(FileFormatWriter.scala:645)\n\tat org.apache.spark.scheduler.ResultTask.$anonfun$runTask$3(ResultTask.scala:82)\n\tat com.databricks.spark.util.ExecutorFrameProfiler$.record(ExecutorFrameProfiler.scala:110)\n\tat org.apache.spark.scheduler.ResultTask.$anonfun$runTask$1(ResultTask.scala:82)\n\tat com.databricks.spark.util.ExecutorFrameProfiler$.record(ExecutorFrameProfiler.scala:110)\n\tat org.apache.spark.scheduler.ResultTask.runTask(ResultTask.scala:62)\n\tat org.apache.spark.TaskContext.runTaskWithListeners(TaskContext.scala:225)\n\tat org.apache.spark.scheduler.Task.doRunTask(Task.scala:199)\n\tat org.apache.spark.scheduler.Task.$anonfun$run$5(Task.scala:161)\n\tat com.databricks.unity.EmptyHandle$.runWithAndClose(UCSHandle.scala:134)\n\tat org.apache.spark.scheduler.Task.$anonfun$run$1(Task.scala:155)\n\tat com.databricks.spark.util.ExecutorFrameProfiler$.record(ExecutorFrameProfiler.scala:110)\n\tat org.apache.spark.scheduler.Task.run(Task.scala:102)\n\tat org.apache.spark.executor.Executor$TaskRunner.$anonfun$run$10(Executor.scala:1043)\n\tat org.apache.spark.util.SparkErrorUtils.tryWithSafeFinally(SparkErrorUtils.scala:64)\n\tat org.apache.spark.util.SparkErrorUtils.tryWithSafeFinally$(SparkErrorUtils.scala:61)\n\tat org.apache.spark.util.Utils$.tryWithSafeFinally(Utils.scala:111)\n\tat org.apache.spark.executor.Executor$TaskRunner.$anonfun$run$3(Executor.scala:1046)\n\tat scala.runtime.java8.JFunction0$mcV$sp.apply(JFunction0$mcV$sp.java:23)\n\tat com.databricks.spark.util.ExecutorFrameProfiler$.record(ExecutorFrameProfiler.scala:110)\n\tat org.apache.spark.executor.Executor$TaskRunner.run(Executor.scala:933)\n\tat java.util.concurrent.ThreadPoolExecutor.runWorker(ThreadPoolExecutor.java:1149)\n\tat java.util.concurrent.ThreadPoolExecutor$Worker.run(ThreadPoolExecutor.java:624)\n\tat java.lang.Thread.run(Thread.java:750)\nCaused by: hadoop_azure_shaded.com.microsoft.azure.storage.StorageException: The specified resource does not exist.\n\tat hadoop_azure_shaded.com.microsoft.azure.storage.StorageException.translateException(StorageException.java:87)\n\tat hadoop_azure_shaded.com.microsoft.azure.storage.core.StorageRequest.materializeException(StorageRequest.java:305)\n\tat hadoop_azure_shaded.com.microsoft.azure.storage.core.ExecutionEngine.executeWithRetry(ExecutionEngine.java:196)\n\tat hadoop_azure_shaded.com.microsoft.azure.storage.blob.CloudBlob.uploadProperties(CloudBlob.java:3249)\n\tat shaded.databricks.org.apache.hadoop.fs.azure.StorageInterfaceImpl$CloudBlobWrapperImpl.uploadProperties(StorageInterfaceImpl.java:443)\n\tat shaded.databricks.org.apache.hadoop.fs.azure.AzureNativeFileSystemStore.updateFolderLastModifiedTime(AzureNativeFileSystemStore.java:3620)\n\tat shaded.databricks.org.apache.hadoop.fs.azure.AzureNativeFileSystemStore.updateFolderLastModifiedTime(AzureNativeFileSystemStore.java:3637)\n\tat shaded.databricks.org.apache.hadoop.fs.azure.NativeAzureFileSystem.updateParentFolderLastModifiedTime(NativeAzureFileSystem.java:3378)\n\tat shaded.databricks.org.apache.hadoop.fs.azure.NativeAzureFileSystem.create(NativeAzureFileSystem.java:1926)\n\tat shaded.databricks.org.apache.hadoop.fs.azure.NativeAzureFileSystem.create(NativeAzureFileSystem.java:1741)\n\tat com.databricks.common.filesystem.LokiFileSystem.create(LokiFileSystem.scala:299)\n\tat org.apache.hadoop.fs.FileSystem.create(FileSystem.java:1233)\n\tat org.apache.hadoop.fs.FileSystem.create(FileSystem.java:1210)\n\tat org.apache.hadoop.fs.FileSystem.create(FileSystem.java:1091)\n\tat com.databricks.sql.io.HDFSStorage.create(HDFSStorage.java:209)\n\tat com.databricks.sql.io.NativeStorage.create(NativeStorage.java:468)\n\tat com.databricks.photon.NativeDataWriter.openNewFile(NativeDataWriter.scala:153)\n\t... 37 more\n\nDriver stacktrace:"
       },
       "removedWidgets": [],
       "sqlProps": null,
       "stackFrames": [
        "com.databricks.backend.common.rpc.SparkDriverExceptions$SQLExecutionException: java.util.concurrent.ExecutionException: org.apache.spark.SparkException: Job aborted due to stage failure: Task 0 in stage 87.0 failed 4 times, most recent failure: Lost task 0.3 in stage 87.0 (TID 119) (10.139.64.4 executor driver): shaded.databricks.org.apache.hadoop.fs.azure.AzureException: hadoop_azure_shaded.com.microsoft.azure.storage.StorageException: The specified resource does not exist.",
        "\tat shaded.databricks.org.apache.hadoop.fs.azure.AzureNativeFileSystemStore.updateFolderLastModifiedTime(AzureNativeFileSystemStore.java:3626)",
        "\tat shaded.databricks.org.apache.hadoop.fs.azure.AzureNativeFileSystemStore.updateFolderLastModifiedTime(AzureNativeFileSystemStore.java:3637)",
        "\tat shaded.databricks.org.apache.hadoop.fs.azure.NativeAzureFileSystem.updateParentFolderLastModifiedTime(NativeAzureFileSystem.java:3378)",
        "\tat shaded.databricks.org.apache.hadoop.fs.azure.NativeAzureFileSystem.create(NativeAzureFileSystem.java:1926)",
        "\tat shaded.databricks.org.apache.hadoop.fs.azure.NativeAzureFileSystem.create(NativeAzureFileSystem.java:1741)",
        "\tat com.databricks.common.filesystem.LokiFileSystem.create(LokiFileSystem.scala:299)",
        "\tat org.apache.hadoop.fs.FileSystem.create(FileSystem.java:1233)",
        "\tat org.apache.hadoop.fs.FileSystem.create(FileSystem.java:1210)",
        "\tat org.apache.hadoop.fs.FileSystem.create(FileSystem.java:1091)",
        "\tat com.databricks.sql.io.HDFSStorage.create(HDFSStorage.java:209)",
        "\tat com.databricks.sql.io.NativeStorage.create(NativeStorage.java:468)",
        "\tat com.databricks.photon.NativeDataWriter.openNewFile(NativeDataWriter.scala:153)",
        "\tat 0xc7af812 <photon>.OpenNewFile(external/workspace_spark_3_5/photon/exec-nodes/data-writer.cc:77)",
        "\tat 0x7692569 <photon>.OpenNewFileInCurrentPartition(external/workspace_spark_3_5/photon/exec-nodes/file-writer-node.cc:433)",
        "\tat 0x7693130 <photon>.WriteBatch(external/workspace_spark_3_5/photon/exec-nodes/file-writer-node.cc:349)",
        "\tat 0x7690dcc <photon>.operator()(external/workspace_spark_3_5/photon/exec-nodes/file-writer-node.cc:209)",
        "\tat 0x75d96ec <photon>.ForEach(external/workspace_spark_3_5/photon/data-layout/column-batch-iterator.h:53)",
        "\tat 0x75d96ec <photon>.OpenImpl(external/workspace_spark_3_5/photon/exec-nodes/file-writer-node.cc:209)",
        "\tat com.databricks.photon.JniApiImpl.open(Native Method)",
        "\tat com.databricks.photon.JniApi.open(JniApi.scala)",
        "\tat com.databricks.photon.JniExecNode.open(JniExecNode.java:74)",
        "\tat com.databricks.photon.PhotonWriteResultHandler.$anonfun$getResult$3(PhotonWriteStageExec.scala:121)",
        "\tat scala.runtime.java8.JFunction0$mcV$sp.apply(JFunction0$mcV$sp.java:23)",
        "\tat com.databricks.photon.PhotonResultHandler.timeit(PhotonResultHandler.scala:30)",
        "\tat com.databricks.photon.PhotonResultHandler.timeit$(PhotonResultHandler.scala:28)",
        "\tat com.databricks.photon.PhotonWriteResultHandler.timeit(PhotonWriteStageExec.scala:67)",
        "\tat com.databricks.photon.PhotonWriteResultHandler.$anonfun$getResult$2(PhotonWriteStageExec.scala:121)",
        "\tat org.apache.spark.util.Utils$.tryWithSafeFinallyAndFailureCallbacks(Utils.scala:1621)",
        "\tat com.databricks.photon.PhotonWriteResultHandler.getResult(PhotonWriteStageExec.scala:118)",
        "\tat com.databricks.photon.PhotonBasicEvaluatorFactory$PhotonBasicEvaluator$$anon$1.hasNext(PhotonBasicEvaluatorFactory.scala:230)",
        "\tat com.databricks.photon.CloseableIterator$$anon$10.hasNext(CloseableIterator.scala:211)",
        "\tat org.apache.spark.sql.execution.datasources.FileFormatWriter$.$anonfun$writeUsingPhoton$2(FileFormatWriter.scala:645)",
        "\tat org.apache.spark.scheduler.ResultTask.$anonfun$runTask$3(ResultTask.scala:82)",
        "\tat com.databricks.spark.util.ExecutorFrameProfiler$.record(ExecutorFrameProfiler.scala:110)",
        "\tat org.apache.spark.scheduler.ResultTask.$anonfun$runTask$1(ResultTask.scala:82)",
        "\tat com.databricks.spark.util.ExecutorFrameProfiler$.record(ExecutorFrameProfiler.scala:110)",
        "\tat org.apache.spark.scheduler.ResultTask.runTask(ResultTask.scala:62)",
        "\tat org.apache.spark.TaskContext.runTaskWithListeners(TaskContext.scala:225)",
        "\tat org.apache.spark.scheduler.Task.doRunTask(Task.scala:199)",
        "\tat org.apache.spark.scheduler.Task.$anonfun$run$5(Task.scala:161)",
        "\tat com.databricks.unity.EmptyHandle$.runWithAndClose(UCSHandle.scala:134)",
        "\tat org.apache.spark.scheduler.Task.$anonfun$run$1(Task.scala:155)",
        "\tat com.databricks.spark.util.ExecutorFrameProfiler$.record(ExecutorFrameProfiler.scala:110)",
        "\tat org.apache.spark.scheduler.Task.run(Task.scala:102)",
        "\tat org.apache.spark.executor.Executor$TaskRunner.$anonfun$run$10(Executor.scala:1043)",
        "\tat org.apache.spark.util.SparkErrorUtils.tryWithSafeFinally(SparkErrorUtils.scala:64)",
        "\tat org.apache.spark.util.SparkErrorUtils.tryWithSafeFinally$(SparkErrorUtils.scala:61)",
        "\tat org.apache.spark.util.Utils$.tryWithSafeFinally(Utils.scala:111)",
        "\tat org.apache.spark.executor.Executor$TaskRunner.$anonfun$run$3(Executor.scala:1046)",
        "\tat scala.runtime.java8.JFunction0$mcV$sp.apply(JFunction0$mcV$sp.java:23)",
        "\tat com.databricks.spark.util.ExecutorFrameProfiler$.record(ExecutorFrameProfiler.scala:110)",
        "\tat org.apache.spark.executor.Executor$TaskRunner.run(Executor.scala:933)",
        "\tat java.util.concurrent.ThreadPoolExecutor.runWorker(ThreadPoolExecutor.java:1149)",
        "\tat java.util.concurrent.ThreadPoolExecutor$Worker.run(ThreadPoolExecutor.java:624)",
        "\tat java.lang.Thread.run(Thread.java:750)",
        "Caused by: hadoop_azure_shaded.com.microsoft.azure.storage.StorageException: The specified resource does not exist.",
        "\tat hadoop_azure_shaded.com.microsoft.azure.storage.StorageException.translateException(StorageException.java:87)",
        "\tat hadoop_azure_shaded.com.microsoft.azure.storage.core.StorageRequest.materializeException(StorageRequest.java:305)",
        "\tat hadoop_azure_shaded.com.microsoft.azure.storage.core.ExecutionEngine.executeWithRetry(ExecutionEngine.java:196)",
        "\tat hadoop_azure_shaded.com.microsoft.azure.storage.blob.CloudBlob.uploadProperties(CloudBlob.java:3249)",
        "\tat shaded.databricks.org.apache.hadoop.fs.azure.StorageInterfaceImpl$CloudBlobWrapperImpl.uploadProperties(StorageInterfaceImpl.java:443)",
        "\tat shaded.databricks.org.apache.hadoop.fs.azure.AzureNativeFileSystemStore.updateFolderLastModifiedTime(AzureNativeFileSystemStore.java:3620)",
        "\tat shaded.databricks.org.apache.hadoop.fs.azure.AzureNativeFileSystemStore.updateFolderLastModifiedTime(AzureNativeFileSystemStore.java:3637)",
        "\tat shaded.databricks.org.apache.hadoop.fs.azure.NativeAzureFileSystem.updateParentFolderLastModifiedTime(NativeAzureFileSystem.java:3378)",
        "\tat shaded.databricks.org.apache.hadoop.fs.azure.NativeAzureFileSystem.create(NativeAzureFileSystem.java:1926)",
        "\tat shaded.databricks.org.apache.hadoop.fs.azure.NativeAzureFileSystem.create(NativeAzureFileSystem.java:1741)",
        "\tat com.databricks.common.filesystem.LokiFileSystem.create(LokiFileSystem.scala:299)",
        "\tat org.apache.hadoop.fs.FileSystem.create(FileSystem.java:1233)",
        "\tat org.apache.hadoop.fs.FileSystem.create(FileSystem.java:1210)",
        "\tat org.apache.hadoop.fs.FileSystem.create(FileSystem.java:1091)",
        "\tat com.databricks.sql.io.HDFSStorage.create(HDFSStorage.java:209)",
        "\tat com.databricks.sql.io.NativeStorage.create(NativeStorage.java:468)",
        "\tat com.databricks.photon.NativeDataWriter.openNewFile(NativeDataWriter.scala:153)",
        "\t... 37 more",
        "Driver stacktrace:",
        "\tat java.util.concurrent.FutureTask.report(FutureTask.java:122)",
        "\tat java.util.concurrent.FutureTask.get(FutureTask.java:192)",
        "\tat com.databricks.sql.transaction.tahoe.commands.optimize.OptimizeExecutor.$anonfun$executeOptimizeBatch$5(OptimizeExecutor.scala:218)",
        "\tat scala.collection.mutable.ResizableArray.foreach(ResizableArray.scala:62)",
        "\tat scala.collection.mutable.ResizableArray.foreach$(ResizableArray.scala:55)",
        "\tat scala.collection.mutable.ArrayBuffer.foreach(ArrayBuffer.scala:49)",
        "\tat com.databricks.sql.transaction.tahoe.commands.optimize.OptimizeExecutor.executeOptimizeBatch(OptimizeExecutor.scala:217)",
        "\tat com.databricks.sql.transaction.tahoe.commands.optimize.OptimizeExecutor.execute(OptimizeExecutor.scala:253)",
        "\tat com.databricks.sql.transaction.tahoe.commands.optimize.OptimizeRunner.$anonfun$optimize$9(OptimizeRunner.scala:877)",
        "\tat com.databricks.sql.transaction.tahoe.commands.optimize.OptimizeRunner.$anonfun$optimize$9$adapted(OptimizeRunner.scala:877)",
        "\tat scala.util.Using$.resource(Using.scala:269)",
        "\tat com.databricks.sql.transaction.tahoe.commands.optimize.OptimizeRunner.$anonfun$optimize$8(OptimizeRunner.scala:877)",
        "\tat com.databricks.sql.transaction.tahoe.commands.optimize.OptimizeRunner.$anonfun$optimize$4(OptimizeRunner.scala:939)",
        "\tat com.databricks.sql.transaction.tahoe.commands.optimize.OptimizeRunner.$anonfun$optimize$4$adapted(OptimizeRunner.scala:828)",
        "\tat com.databricks.sql.transaction.tahoe.FileMetadataMaterializationTracker$.withTracker(FileMetadataMaterializationTracker.scala:241)",
        "\tat com.databricks.sql.transaction.tahoe.commands.optimize.OptimizeRunner.$anonfun$optimize$1(OptimizeRunner.scala:828)",
        "\tat com.databricks.sql.transaction.tahoe.metering.DeltaLogging.withOperationTypeTag(DeltaLogging.scala:247)",
        "\tat com.databricks.sql.transaction.tahoe.metering.DeltaLogging.withOperationTypeTag$(DeltaLogging.scala:234)",
        "\tat com.databricks.sql.transaction.tahoe.commands.optimize.OptimizeRunner.withOperationTypeTag(OptimizeRunner.scala:401)",
        "\tat com.databricks.sql.transaction.tahoe.metering.DeltaLogging.$anonfun$recordDeltaOperationInternal$2(DeltaLogging.scala:172)",
        "\tat com.databricks.spark.util.FrameProfiler$.record(FrameProfiler.scala:94)",
        "\tat com.databricks.sql.transaction.tahoe.metering.DeltaLogging.recordFrameProfile(DeltaLogging.scala:316)",
        "\tat com.databricks.sql.transaction.tahoe.metering.DeltaLogging.recordFrameProfile$(DeltaLogging.scala:314)",
        "\tat com.databricks.sql.transaction.tahoe.commands.optimize.OptimizeRunner.recordFrameProfile(OptimizeRunner.scala:401)",
        "\tat com.databricks.sql.transaction.tahoe.metering.DeltaLogging.$anonfun$recordDeltaOperationInternal$1(DeltaLogging.scala:171)",
        "\tat com.databricks.logging.UsageLogging.$anonfun$recordOperation$1(UsageLogging.scala:528)",
        "\tat com.databricks.logging.UsageLogging.executeThunkAndCaptureResultTags$1(UsageLogging.scala:633)",
        "\tat com.databricks.logging.UsageLogging.$anonfun$recordOperationWithResultTags$4(UsageLogging.scala:656)",
        "\tat com.databricks.logging.AttributionContextTracing.$anonfun$withAttributionContext$1(AttributionContextTracing.scala:48)",
        "\tat com.databricks.logging.AttributionContext$.$anonfun$withValue$1(AttributionContext.scala:276)",
        "\tat scala.util.DynamicVariable.withValue(DynamicVariable.scala:62)",
        "\tat com.databricks.logging.AttributionContext$.withValue(AttributionContext.scala:272)",
        "\tat com.databricks.logging.AttributionContextTracing.withAttributionContext(AttributionContextTracing.scala:46)",
        "\tat com.databricks.logging.AttributionContextTracing.withAttributionContext$(AttributionContextTracing.scala:43)",
        "\tat com.databricks.spark.util.PublicDBLogging.withAttributionContext(DatabricksSparkUsageLogger.scala:30)",
        "\tat com.databricks.logging.AttributionContextTracing.withAttributionTags(AttributionContextTracing.scala:95)",
        "\tat com.databricks.logging.AttributionContextTracing.withAttributionTags$(AttributionContextTracing.scala:76)",
        "\tat com.databricks.spark.util.PublicDBLogging.withAttributionTags(DatabricksSparkUsageLogger.scala:30)",
        "\tat com.databricks.logging.UsageLogging.recordOperationWithResultTags(UsageLogging.scala:628)",
        "\tat com.databricks.logging.UsageLogging.recordOperationWithResultTags$(UsageLogging.scala:537)",
        "\tat com.databricks.spark.util.PublicDBLogging.recordOperationWithResultTags(DatabricksSparkUsageLogger.scala:30)",
        "\tat com.databricks.logging.UsageLogging.recordOperation(UsageLogging.scala:529)",
        "\tat com.databricks.logging.UsageLogging.recordOperation$(UsageLogging.scala:495)",
        "\tat com.databricks.spark.util.PublicDBLogging.recordOperation(DatabricksSparkUsageLogger.scala:30)",
        "\tat com.databricks.spark.util.PublicDBLogging.recordOperation0(DatabricksSparkUsageLogger.scala:87)",
        "\tat com.databricks.spark.util.DatabricksSparkUsageLogger.recordOperation(DatabricksSparkUsageLogger.scala:173)",
        "\tat com.databricks.spark.util.UsageLogger.recordOperation(UsageLogger.scala:70)",
        "\tat com.databricks.spark.util.UsageLogger.recordOperation$(UsageLogger.scala:57)",
        "\tat com.databricks.spark.util.DatabricksSparkUsageLogger.recordOperation(DatabricksSparkUsageLogger.scala:132)",
        "\tat com.databricks.spark.util.UsageLogging.recordOperation(UsageLogger.scala:511)",
        "\tat com.databricks.spark.util.UsageLogging.recordOperation$(UsageLogger.scala:490)",
        "\tat com.databricks.sql.transaction.tahoe.commands.optimize.OptimizeRunner.recordOperation(OptimizeRunner.scala:401)",
        "\tat com.databricks.sql.transaction.tahoe.metering.DeltaLogging.recordDeltaOperationInternal(DeltaLogging.scala:170)",
        "\tat com.databricks.sql.transaction.tahoe.metering.DeltaLogging.recordDeltaOperation(DeltaLogging.scala:160)",
        "\tat com.databricks.sql.transaction.tahoe.metering.DeltaLogging.recordDeltaOperation$(DeltaLogging.scala:149)",
        "\tat com.databricks.sql.transaction.tahoe.commands.optimize.OptimizeRunner.recordDeltaOperation(OptimizeRunner.scala:401)",
        "\tat com.databricks.sql.transaction.tahoe.commands.optimize.OptimizeRunner.optimize(OptimizeRunner.scala:766)",
        "\tat com.databricks.sql.transaction.tahoe.commands.optimize.OptimizeRunner.runOptimizeIterations(OptimizeRunner.scala:616)",
        "\tat com.databricks.sql.transaction.tahoe.commands.optimize.OptimizeRunner.$anonfun$runAndReturnMetricsInternal$3(OptimizeRunner.scala:568)",
        "\tat scala.runtime.java8.JFunction0$mcV$sp.apply(JFunction0$mcV$sp.java:23)",
        "\tat com.databricks.spark.util.FrameProfiler$.record(FrameProfiler.scala:94)",
        "\tat com.databricks.sql.transaction.tahoe.commands.optimize.OptimizeRunner.$anonfun$runAndReturnMetricsInternal$1(OptimizeRunner.scala:557)",
        "\tat com.databricks.sql.acl.CheckPermissions$.$anonfun$trusted$2(CheckPermissions.scala:2311)",
        "\tat com.databricks.sql.util.ThreadLocalTagger.withTag(QueryTagger.scala:62)",
        "\tat com.databricks.sql.util.ThreadLocalTagger.withTag$(QueryTagger.scala:59)",
        "\tat com.databricks.sql.util.QueryTagger$.withTag(QueryTagger.scala:159)",
        "\tat com.databricks.sql.acl.CheckPermissions$.trusted(CheckPermissions.scala:2311)",
        "\tat com.databricks.sql.transaction.tahoe.commands.optimize.OptimizeRunner.runAndReturnMetricsInternal(OptimizeRunner.scala:514)",
        "\tat com.databricks.sql.transaction.tahoe.commands.optimize.OptimizeRunner.runAndReturnMetricsWithConflictChecking(OptimizeRunner.scala:493)",
        "\tat com.databricks.sql.transaction.tahoe.commands.optimize.OptimizeRunner.runAndReturnMetrics(OptimizeRunner.scala:470)",
        "\tat com.databricks.sql.transaction.tahoe.commands.OptimizeTableCommandEdge.$anonfun$run$1(OptimizeTableCommandEdge.scala:187)",
        "\tat com.databricks.sql.acl.CheckPermissions$.$anonfun$trusted$2(CheckPermissions.scala:2311)",
        "\tat com.databricks.sql.util.ThreadLocalTagger.withTag(QueryTagger.scala:62)",
        "\tat com.databricks.sql.util.ThreadLocalTagger.withTag$(QueryTagger.scala:59)",
        "\tat com.databricks.sql.util.QueryTagger$.withTag(QueryTagger.scala:159)",
        "\tat com.databricks.sql.acl.CheckPermissions$.trusted(CheckPermissions.scala:2311)",
        "\tat com.databricks.sql.transaction.tahoe.commands.OptimizeTableCommandEdge.run(OptimizeTableCommandEdge.scala:139)",
        "\tat org.apache.spark.sql.execution.command.ExecutedCommandExec.$anonfun$sideEffectResult$2(commands.scala:84)",
        "\tat org.apache.spark.sql.execution.SparkPlan.runCommandInAetherOrSpark(SparkPlan.scala:189)",
        "\tat org.apache.spark.sql.execution.command.ExecutedCommandExec.$anonfun$sideEffectResult$1(commands.scala:84)",
        "\tat com.databricks.spark.util.FrameProfiler$.record(FrameProfiler.scala:94)",
        "\tat org.apache.spark.sql.execution.command.ExecutedCommandExec.sideEffectResult$lzycompute(commands.scala:81)",
        "\tat org.apache.spark.sql.execution.command.ExecutedCommandExec.sideEffectResult(commands.scala:80)",
        "\tat org.apache.spark.sql.execution.command.ExecutedCommandExec.executeCollect(commands.scala:94)",
        "\tat org.apache.spark.sql.execution.QueryExecution$$anonfun$$nestedInanonfun$eagerlyExecuteCommands$1$1.$anonfun$applyOrElse$5(QueryExecution.scala:425)",
        "\tat com.databricks.util.LexicalThreadLocal$Handle.runWith(LexicalThreadLocal.scala:63)",
        "\tat org.apache.spark.sql.execution.QueryExecution$$anonfun$$nestedInanonfun$eagerlyExecuteCommands$1$1.$anonfun$applyOrElse$4(QueryExecution.scala:425)",
        "\tat org.apache.spark.sql.catalyst.QueryPlanningTracker$.withTracker(QueryPlanningTracker.scala:194)",
        "\tat org.apache.spark.sql.execution.QueryExecution$$anonfun$$nestedInanonfun$eagerlyExecuteCommands$1$1.$anonfun$applyOrElse$3(QueryExecution.scala:425)",
        "\tat org.apache.spark.sql.execution.SQLExecution$.$anonfun$withNewExecutionId0$10(SQLExecution.scala:475)",
        "\tat org.apache.spark.sql.execution.SQLExecution$.withSQLConfPropagated(SQLExecution.scala:813)",
        "\tat org.apache.spark.sql.execution.SQLExecution$.$anonfun$withNewExecutionId0$1(SQLExecution.scala:334)",
        "\tat org.apache.spark.sql.SparkSession.withActive(SparkSession.scala:1210)",
        "\tat org.apache.spark.sql.execution.SQLExecution$.withNewExecutionId0(SQLExecution.scala:205)",
        "\tat org.apache.spark.sql.execution.SQLExecution$.withNewExecutionId(SQLExecution.scala:750)",
        "\tat org.apache.spark.sql.execution.QueryExecution$$anonfun$$nestedInanonfun$eagerlyExecuteCommands$1$1.$anonfun$applyOrElse$2(QueryExecution.scala:421)",
        "\tat org.apache.spark.sql.execution.QueryExecution$.withInternalError(QueryExecution.scala:1219)",
        "\tat org.apache.spark.sql.execution.QueryExecution$$anonfun$$nestedInanonfun$eagerlyExecuteCommands$1$1.$anonfun$applyOrElse$1(QueryExecution.scala:417)",
        "\tat org.apache.spark.sql.execution.QueryExecution.org$apache$spark$sql$execution$QueryExecution$$withMVTagsIfNecessary(QueryExecution.scala:355)",
        "\tat org.apache.spark.sql.execution.QueryExecution$$anonfun$$nestedInanonfun$eagerlyExecuteCommands$1$1.applyOrElse(QueryExecution.scala:414)",
        "\tat org.apache.spark.sql.execution.QueryExecution$$anonfun$$nestedInanonfun$eagerlyExecuteCommands$1$1.applyOrElse(QueryExecution.scala:388)",
        "\tat org.apache.spark.sql.catalyst.trees.TreeNode.$anonfun$transformDownWithPruning$1(TreeNode.scala:505)",
        "\tat org.apache.spark.sql.catalyst.trees.CurrentOrigin$.withOrigin(origin.scala:85)",
        "\tat org.apache.spark.sql.catalyst.trees.TreeNode.transformDownWithPruning(TreeNode.scala:505)",
        "\tat org.apache.spark.sql.catalyst.plans.logical.LogicalPlan.org$apache$spark$sql$catalyst$plans$logical$AnalysisHelper$$super$transformDownWithPruning(LogicalPlan.scala:40)",
        "\tat org.apache.spark.sql.catalyst.plans.logical.AnalysisHelper.transformDownWithPruning(AnalysisHelper.scala:379)",
        "\tat org.apache.spark.sql.catalyst.plans.logical.AnalysisHelper.transformDownWithPruning$(AnalysisHelper.scala:375)",
        "\tat org.apache.spark.sql.catalyst.plans.logical.LogicalPlan.transformDownWithPruning(LogicalPlan.scala:40)",
        "\tat org.apache.spark.sql.catalyst.plans.logical.LogicalPlan.transformDownWithPruning(LogicalPlan.scala:40)",
        "\tat org.apache.spark.sql.catalyst.trees.TreeNode.transformDown(TreeNode.scala:481)",
        "\tat org.apache.spark.sql.execution.QueryExecution.$anonfun$eagerlyExecuteCommands$1(QueryExecution.scala:388)",
        "\tat org.apache.spark.sql.catalyst.plans.logical.AnalysisHelper$.allowInvokingTransformsInAnalyzer(AnalysisHelper.scala:436)",
        "\tat org.apache.spark.sql.execution.QueryExecution.eagerlyExecuteCommands(QueryExecution.scala:388)",
        "\tat org.apache.spark.sql.execution.QueryExecution.commandExecuted$lzycompute(QueryExecution.scala:314)",
        "\tat org.apache.spark.sql.execution.QueryExecution.commandExecuted(QueryExecution.scala:311)",
        "\tat org.apache.spark.sql.Dataset.<init>(Dataset.scala:343)",
        "\tat org.apache.spark.sql.Dataset$.$anonfun$ofRows$2(Dataset.scala:131)",
        "\tat org.apache.spark.sql.SparkSession.withActive(SparkSession.scala:1210)",
        "\tat org.apache.spark.sql.SparkSession.$anonfun$withActiveAndFrameProfiler$1(SparkSession.scala:1217)",
        "\tat com.databricks.spark.util.FrameProfiler$.record(FrameProfiler.scala:94)",
        "\tat org.apache.spark.sql.SparkSession.withActiveAndFrameProfiler(SparkSession.scala:1217)",
        "\tat org.apache.spark.sql.Dataset$.ofRows(Dataset.scala:122)",
        "\tat org.apache.spark.sql.SparkSession.$anonfun$sql$4(SparkSession.scala:989)",
        "\tat org.apache.spark.sql.SparkSession.withActive(SparkSession.scala:1210)",
        "\tat org.apache.spark.sql.SparkSession.sql(SparkSession.scala:973)",
        "\tat org.apache.spark.sql.SparkSession.sql(SparkSession.scala:1012)",
        "\tat com.databricks.backend.daemon.driver.DriverLocal$DbClassicStrategy.executeSQLQuery(DriverLocal.scala:301)",
        "\tat com.databricks.backend.daemon.driver.DriverLocal.executeSQLSubCommand(DriverLocal.scala:401)",
        "\tat com.databricks.backend.daemon.driver.DriverLocal.$anonfun$executeSql$1(DriverLocal.scala:423)",
        "\tat scala.collection.immutable.List.map(List.scala:293)",
        "\tat com.databricks.backend.daemon.driver.DriverLocal.executeSql(DriverLocal.scala:418)",
        "\tat com.databricks.backend.daemon.driver.JupyterDriverLocal.repl(JupyterDriverLocal.scala:1054)",
        "\tat com.databricks.backend.daemon.driver.DriverLocal.$anonfun$execute$33(DriverLocal.scala:1172)",
        "\tat com.databricks.unity.EmptyHandle$.runWith(UCSHandle.scala:133)",
        "\tat com.databricks.backend.daemon.driver.DriverLocal.$anonfun$execute$28(DriverLocal.scala:1163)",
        "\tat com.databricks.logging.AttributionContextTracing.$anonfun$withAttributionContext$1(AttributionContextTracing.scala:48)",
        "\tat com.databricks.logging.AttributionContext$.$anonfun$withValue$1(AttributionContext.scala:276)",
        "\tat scala.util.DynamicVariable.withValue(DynamicVariable.scala:62)",
        "\tat com.databricks.logging.AttributionContext$.withValue(AttributionContext.scala:272)",
        "\tat com.databricks.logging.AttributionContextTracing.withAttributionContext(AttributionContextTracing.scala:46)",
        "\tat com.databricks.logging.AttributionContextTracing.withAttributionContext$(AttributionContextTracing.scala:43)",
        "\tat com.databricks.backend.daemon.driver.DriverLocal.withAttributionContext(DriverLocal.scala:96)",
        "\tat com.databricks.logging.AttributionContextTracing.withAttributionTags(AttributionContextTracing.scala:95)",
        "\tat com.databricks.logging.AttributionContextTracing.withAttributionTags$(AttributionContextTracing.scala:76)",
        "\tat com.databricks.backend.daemon.driver.DriverLocal.withAttributionTags(DriverLocal.scala:96)",
        "\tat com.databricks.backend.daemon.driver.DriverLocal.$anonfun$execute$1(DriverLocal.scala:1099)",
        "\tat com.databricks.backend.daemon.driver.DriverLocal$.$anonfun$maybeSynchronizeExecution$4(DriverLocal.scala:1519)",
        "\tat com.databricks.backend.daemon.driver.DriverLocal.execute(DriverLocal.scala:776)",
        "\tat com.databricks.backend.daemon.driver.DriverWrapper.$anonfun$tryExecutingCommand$2(DriverWrapper.scala:932)",
        "\tat scala.util.Try$.apply(Try.scala:213)",
        "\tat com.databricks.backend.daemon.driver.DriverWrapper.$anonfun$tryExecutingCommand$1(DriverWrapper.scala:921)",
        "\tat com.databricks.backend.daemon.driver.DriverWrapper.$anonfun$tryExecutingCommand$3(DriverWrapper.scala:967)",
        "\tat com.databricks.logging.UsageLogging.executeThunkAndCaptureResultTags$1(UsageLogging.scala:633)",
        "\tat com.databricks.logging.UsageLogging.$anonfun$recordOperationWithResultTags$4(UsageLogging.scala:656)",
        "\tat com.databricks.logging.AttributionContextTracing.$anonfun$withAttributionContext$1(AttributionContextTracing.scala:48)",
        "\tat com.databricks.logging.AttributionContext$.$anonfun$withValue$1(AttributionContext.scala:276)",
        "\tat scala.util.DynamicVariable.withValue(DynamicVariable.scala:62)",
        "\tat com.databricks.logging.AttributionContext$.withValue(AttributionContext.scala:272)",
        "\tat com.databricks.logging.AttributionContextTracing.withAttributionContext(AttributionContextTracing.scala:46)",
        "\tat com.databricks.logging.AttributionContextTracing.withAttributionContext$(AttributionContextTracing.scala:43)",
        "\tat com.databricks.backend.daemon.driver.DriverWrapper.withAttributionContext(DriverWrapper.scala:73)",
        "\tat com.databricks.logging.AttributionContextTracing.withAttributionTags(AttributionContextTracing.scala:95)",
        "\tat com.databricks.logging.AttributionContextTracing.withAttributionTags$(AttributionContextTracing.scala:76)",
        "\tat com.databricks.backend.daemon.driver.DriverWrapper.withAttributionTags(DriverWrapper.scala:73)",
        "\tat com.databricks.logging.UsageLogging.recordOperationWithResultTags(UsageLogging.scala:628)",
        "\tat com.databricks.logging.UsageLogging.recordOperationWithResultTags$(UsageLogging.scala:537)",
        "\tat com.databricks.backend.daemon.driver.DriverWrapper.recordOperationWithResultTags(DriverWrapper.scala:73)",
        "\tat com.databricks.backend.daemon.driver.DriverWrapper.tryExecutingCommand(DriverWrapper.scala:967)",
        "\tat com.databricks.backend.daemon.driver.DriverWrapper.executeCommandAndGetError(DriverWrapper.scala:717)",
        "\tat com.databricks.backend.daemon.driver.DriverWrapper.executeCommand(DriverWrapper.scala:785)",
        "\tat com.databricks.backend.daemon.driver.DriverWrapper.$anonfun$runInnerLoop$1(DriverWrapper.scala:590)",
        "\tat scala.runtime.java8.JFunction0$mcV$sp.apply(JFunction0$mcV$sp.java:23)",
        "\tat com.databricks.logging.AttributionContextTracing.$anonfun$withAttributionContext$1(AttributionContextTracing.scala:48)",
        "\tat com.databricks.logging.AttributionContext$.$anonfun$withValue$1(AttributionContext.scala:276)",
        "\tat scala.util.DynamicVariable.withValue(DynamicVariable.scala:62)",
        "\tat com.databricks.logging.AttributionContext$.withValue(AttributionContext.scala:272)",
        "\tat com.databricks.logging.AttributionContextTracing.withAttributionContext(AttributionContextTracing.scala:46)",
        "\tat com.databricks.logging.AttributionContextTracing.withAttributionContext$(AttributionContextTracing.scala:43)",
        "\tat com.databricks.backend.daemon.driver.DriverWrapper.withAttributionContext(DriverWrapper.scala:73)",
        "\tat com.databricks.backend.daemon.driver.DriverWrapper.runInnerLoop(DriverWrapper.scala:590)",
        "\tat com.databricks.backend.daemon.driver.DriverWrapper.runInner(DriverWrapper.scala:512)",
        "\tat com.databricks.backend.daemon.driver.DriverWrapper.run(DriverWrapper.scala:306)",
        "\tat java.lang.Thread.run(Thread.java:750)",
        "Caused by: org.apache.spark.SparkException: Job aborted due to stage failure: Task 0 in stage 87.0 failed 4 times, most recent failure: Lost task 0.3 in stage 87.0 (TID 119) (10.139.64.4 executor driver): shaded.databricks.org.apache.hadoop.fs.azure.AzureException: hadoop_azure_shaded.com.microsoft.azure.storage.StorageException: The specified resource does not exist.",
        "\tat shaded.databricks.org.apache.hadoop.fs.azure.AzureNativeFileSystemStore.updateFolderLastModifiedTime(AzureNativeFileSystemStore.java:3626)",
        "\tat shaded.databricks.org.apache.hadoop.fs.azure.AzureNativeFileSystemStore.updateFolderLastModifiedTime(AzureNativeFileSystemStore.java:3637)",
        "\tat shaded.databricks.org.apache.hadoop.fs.azure.NativeAzureFileSystem.updateParentFolderLastModifiedTime(NativeAzureFileSystem.java:3378)",
        "\tat shaded.databricks.org.apache.hadoop.fs.azure.NativeAzureFileSystem.create(NativeAzureFileSystem.java:1926)",
        "\tat shaded.databricks.org.apache.hadoop.fs.azure.NativeAzureFileSystem.create(NativeAzureFileSystem.java:1741)",
        "\tat com.databricks.common.filesystem.LokiFileSystem.create(LokiFileSystem.scala:299)",
        "\tat org.apache.hadoop.fs.FileSystem.create(FileSystem.java:1233)",
        "\tat org.apache.hadoop.fs.FileSystem.create(FileSystem.java:1210)",
        "\tat org.apache.hadoop.fs.FileSystem.create(FileSystem.java:1091)",
        "\tat com.databricks.sql.io.HDFSStorage.create(HDFSStorage.java:209)",
        "\tat com.databricks.sql.io.NativeStorage.create(NativeStorage.java:468)",
        "\tat com.databricks.photon.NativeDataWriter.openNewFile(NativeDataWriter.scala:153)",
        "\tat 0xc7af812 <photon>.OpenNewFile(external/workspace_spark_3_5/photon/exec-nodes/data-writer.cc:77)",
        "\tat 0x7692569 <photon>.OpenNewFileInCurrentPartition(external/workspace_spark_3_5/photon/exec-nodes/file-writer-node.cc:433)",
        "\tat 0x7693130 <photon>.WriteBatch(external/workspace_spark_3_5/photon/exec-nodes/file-writer-node.cc:349)",
        "\tat 0x7690dcc <photon>.operator()(external/workspace_spark_3_5/photon/exec-nodes/file-writer-node.cc:209)",
        "\tat 0x75d96ec <photon>.ForEach(external/workspace_spark_3_5/photon/data-layout/column-batch-iterator.h:53)",
        "\tat 0x75d96ec <photon>.OpenImpl(external/workspace_spark_3_5/photon/exec-nodes/file-writer-node.cc:209)",
        "\tat com.databricks.photon.JniApiImpl.open(Native Method)",
        "\tat com.databricks.photon.JniApi.open(JniApi.scala)",
        "\tat com.databricks.photon.JniExecNode.open(JniExecNode.java:74)",
        "\tat com.databricks.photon.PhotonWriteResultHandler.$anonfun$getResult$3(PhotonWriteStageExec.scala:121)",
        "\tat scala.runtime.java8.JFunction0$mcV$sp.apply(JFunction0$mcV$sp.java:23)",
        "\tat com.databricks.photon.PhotonResultHandler.timeit(PhotonResultHandler.scala:30)",
        "\tat com.databricks.photon.PhotonResultHandler.timeit$(PhotonResultHandler.scala:28)",
        "\tat com.databricks.photon.PhotonWriteResultHandler.timeit(PhotonWriteStageExec.scala:67)",
        "\tat com.databricks.photon.PhotonWriteResultHandler.$anonfun$getResult$2(PhotonWriteStageExec.scala:121)",
        "\tat org.apache.spark.util.Utils$.tryWithSafeFinallyAndFailureCallbacks(Utils.scala:1621)",
        "\tat com.databricks.photon.PhotonWriteResultHandler.getResult(PhotonWriteStageExec.scala:118)",
        "\tat com.databricks.photon.PhotonBasicEvaluatorFactory$PhotonBasicEvaluator$$anon$1.hasNext(PhotonBasicEvaluatorFactory.scala:230)",
        "\tat com.databricks.photon.CloseableIterator$$anon$10.hasNext(CloseableIterator.scala:211)",
        "\tat org.apache.spark.sql.execution.datasources.FileFormatWriter$.$anonfun$writeUsingPhoton$2(FileFormatWriter.scala:645)",
        "\tat org.apache.spark.scheduler.ResultTask.$anonfun$runTask$3(ResultTask.scala:82)",
        "\tat com.databricks.spark.util.ExecutorFrameProfiler$.record(ExecutorFrameProfiler.scala:110)",
        "\tat org.apache.spark.scheduler.ResultTask.$anonfun$runTask$1(ResultTask.scala:82)",
        "\tat com.databricks.spark.util.ExecutorFrameProfiler$.record(ExecutorFrameProfiler.scala:110)",
        "\tat org.apache.spark.scheduler.ResultTask.runTask(ResultTask.scala:62)",
        "\tat org.apache.spark.TaskContext.runTaskWithListeners(TaskContext.scala:225)",
        "\tat org.apache.spark.scheduler.Task.doRunTask(Task.scala:199)",
        "\tat org.apache.spark.scheduler.Task.$anonfun$run$5(Task.scala:161)",
        "\tat com.databricks.unity.EmptyHandle$.runWithAndClose(UCSHandle.scala:134)",
        "\tat org.apache.spark.scheduler.Task.$anonfun$run$1(Task.scala:155)",
        "\tat com.databricks.spark.util.ExecutorFrameProfiler$.record(ExecutorFrameProfiler.scala:110)",
        "\tat org.apache.spark.scheduler.Task.run(Task.scala:102)",
        "\tat org.apache.spark.executor.Executor$TaskRunner.$anonfun$run$10(Executor.scala:1043)",
        "\tat org.apache.spark.util.SparkErrorUtils.tryWithSafeFinally(SparkErrorUtils.scala:64)",
        "\tat org.apache.spark.util.SparkErrorUtils.tryWithSafeFinally$(SparkErrorUtils.scala:61)",
        "\tat org.apache.spark.util.Utils$.tryWithSafeFinally(Utils.scala:111)",
        "\tat org.apache.spark.executor.Executor$TaskRunner.$anonfun$run$3(Executor.scala:1046)",
        "\tat scala.runtime.java8.JFunction0$mcV$sp.apply(JFunction0$mcV$sp.java:23)",
        "\tat com.databricks.spark.util.ExecutorFrameProfiler$.record(ExecutorFrameProfiler.scala:110)",
        "\tat org.apache.spark.executor.Executor$TaskRunner.run(Executor.scala:933)",
        "\tat java.util.concurrent.ThreadPoolExecutor.runWorker(ThreadPoolExecutor.java:1149)",
        "\tat java.util.concurrent.ThreadPoolExecutor$Worker.run(ThreadPoolExecutor.java:624)",
        "\tat java.lang.Thread.run(Thread.java:750)",
        "Caused by: hadoop_azure_shaded.com.microsoft.azure.storage.StorageException: The specified resource does not exist.",
        "\tat hadoop_azure_shaded.com.microsoft.azure.storage.StorageException.translateException(StorageException.java:87)",
        "\tat hadoop_azure_shaded.com.microsoft.azure.storage.core.StorageRequest.materializeException(StorageRequest.java:305)",
        "\tat hadoop_azure_shaded.com.microsoft.azure.storage.core.ExecutionEngine.executeWithRetry(ExecutionEngine.java:196)",
        "\tat hadoop_azure_shaded.com.microsoft.azure.storage.blob.CloudBlob.uploadProperties(CloudBlob.java:3249)",
        "\tat shaded.databricks.org.apache.hadoop.fs.azure.StorageInterfaceImpl$CloudBlobWrapperImpl.uploadProperties(StorageInterfaceImpl.java:443)",
        "\tat shaded.databricks.org.apache.hadoop.fs.azure.AzureNativeFileSystemStore.updateFolderLastModifiedTime(AzureNativeFileSystemStore.java:3620)",
        "\tat shaded.databricks.org.apache.hadoop.fs.azure.AzureNativeFileSystemStore.updateFolderLastModifiedTime(AzureNativeFileSystemStore.java:3637)",
        "\tat shaded.databricks.org.apache.hadoop.fs.azure.NativeAzureFileSystem.updateParentFolderLastModifiedTime(NativeAzureFileSystem.java:3378)",
        "\tat shaded.databricks.org.apache.hadoop.fs.azure.NativeAzureFileSystem.create(NativeAzureFileSystem.java:1926)",
        "\tat shaded.databricks.org.apache.hadoop.fs.azure.NativeAzureFileSystem.create(NativeAzureFileSystem.java:1741)",
        "\tat com.databricks.common.filesystem.LokiFileSystem.create(LokiFileSystem.scala:299)",
        "\tat org.apache.hadoop.fs.FileSystem.create(FileSystem.java:1233)",
        "\tat org.apache.hadoop.fs.FileSystem.create(FileSystem.java:1210)",
        "\tat org.apache.hadoop.fs.FileSystem.create(FileSystem.java:1091)",
        "\tat com.databricks.sql.io.HDFSStorage.create(HDFSStorage.java:209)",
        "\tat com.databricks.sql.io.NativeStorage.create(NativeStorage.java:468)",
        "\tat com.databricks.photon.NativeDataWriter.openNewFile(NativeDataWriter.scala:153)",
        "\t... 37 more",
        "Driver stacktrace:",
        "\tat org.apache.spark.scheduler.DAGScheduler.$anonfun$failJobAndIndependentStages$1(DAGScheduler.scala:4018)",
        "\tat scala.Option.getOrElse(Option.scala:189)",
        "\tat org.apache.spark.scheduler.DAGScheduler.failJobAndIndependentStages(DAGScheduler.scala:4016)",
        "\tat org.apache.spark.scheduler.DAGScheduler.$anonfun$abortStage$2(DAGScheduler.scala:3930)",
        "\tat org.apache.spark.scheduler.DAGScheduler.$anonfun$abortStage$2$adapted(DAGScheduler.scala:3917)",
        "\tat scala.collection.mutable.ResizableArray.foreach(ResizableArray.scala:62)",
        "\tat scala.collection.mutable.ResizableArray.foreach$(ResizableArray.scala:55)",
        "\tat scala.collection.mutable.ArrayBuffer.foreach(ArrayBuffer.scala:49)",
        "\tat org.apache.spark.scheduler.DAGScheduler.abortStage(DAGScheduler.scala:3917)",
        "\tat org.apache.spark.scheduler.DAGScheduler.$anonfun$handleTaskSetFailed$1(DAGScheduler.scala:1766)",
        "\tat org.apache.spark.scheduler.DAGScheduler.$anonfun$handleTaskSetFailed$1$adapted(DAGScheduler.scala:1749)",
        "\tat scala.Option.foreach(Option.scala:407)",
        "\tat org.apache.spark.scheduler.DAGScheduler.handleTaskSetFailed(DAGScheduler.scala:1749)",
        "\tat org.apache.spark.scheduler.DAGSchedulerEventProcessLoop.doOnReceive(DAGScheduler.scala:4277)",
        "\tat org.apache.spark.scheduler.DAGSchedulerEventProcessLoop.onReceive(DAGScheduler.scala:4179)",
        "\tat org.apache.spark.scheduler.DAGSchedulerEventProcessLoop.onReceive(DAGScheduler.scala:4165)",
        "\tat org.apache.spark.util.EventLoop$$anon$1.run(EventLoop.scala:55)",
        "\tat org.apache.spark.scheduler.DAGScheduler.$anonfun$runJob$1(DAGScheduler.scala:1412)",
        "\tat scala.runtime.java8.JFunction0$mcV$sp.apply(JFunction0$mcV$sp.java:23)",
        "\tat com.databricks.spark.util.FrameProfiler$.record(FrameProfiler.scala:94)",
        "\tat org.apache.spark.scheduler.DAGScheduler.runJob(DAGScheduler.scala:1400)",
        "\tat org.apache.spark.SparkContext.runJobInternal(SparkContext.scala:3168)",
        "\tat org.apache.spark.SparkContext.runJob(SparkContext.scala:3149)",
        "\tat org.apache.spark.sql.execution.datasources.FileFormatWriter$.$anonfun$writeUsingPhoton$1(FileFormatWriter.scala:642)",
        "\tat org.apache.spark.sql.catalyst.MetricKeyUtils$.measureMs(MetricKey.scala:1191)",
        "\tat org.apache.spark.sql.execution.datasources.FileFormatWriter$.writeUsingPhoton(FileFormatWriter.scala:640)",
        "\tat org.apache.spark.sql.execution.datasources.FileFormatWriter$.$anonfun$write$21(FileFormatWriter.scala:287)",
        "\tat org.apache.spark.sql.execution.datasources.FileFormatWriter$.writeAndCommit(FileFormatWriter.scala:395)",
        "\tat org.apache.spark.sql.execution.datasources.FileFormatWriter$.$anonfun$write$1(FileFormatWriter.scala:277)",
        "\tat com.databricks.spark.util.FrameProfiler$.record(FrameProfiler.scala:94)",
        "\tat org.apache.spark.sql.execution.datasources.FileFormatWriter$.write(FileFormatWriter.scala:121)",
        "\tat com.databricks.sql.transaction.tahoe.commands.WriteIntoDeltaCommand.run(WriteIntoDeltaCommand.scala:121)",
        "\tat org.apache.spark.sql.execution.command.DataWritingCommandExec.$anonfun$sideEffectResult$5(commands.scala:137)",
        "\tat org.apache.spark.sql.execution.SparkPlan.runCommandInAetherOrSpark(SparkPlan.scala:189)",
        "\tat org.apache.spark.sql.execution.command.DataWritingCommandExec.$anonfun$sideEffectResult$4(commands.scala:137)",
        "\tat com.databricks.spark.util.FrameProfiler$.record(FrameProfiler.scala:94)",
        "\tat org.apache.spark.sql.execution.command.DataWritingCommandExec.sideEffectResult$lzycompute(commands.scala:133)",
        "\tat org.apache.spark.sql.execution.command.DataWritingCommandExec.sideEffectResult(commands.scala:132)",
        "\tat org.apache.spark.sql.execution.command.DataWritingCommandExec.$anonfun$doExecute$4(commands.scala:161)",
        "\tat com.databricks.spark.util.FrameProfiler$.record(FrameProfiler.scala:94)",
        "\tat org.apache.spark.sql.execution.command.DataWritingCommandExec.doExecute(commands.scala:161)",
        "\tat org.apache.spark.sql.execution.SparkPlan.$anonfun$execute$2(SparkPlan.scala:341)",
        "\tat com.databricks.spark.util.FrameProfiler$.record(FrameProfiler.scala:94)",
        "\tat org.apache.spark.sql.execution.SparkPlan.$anonfun$execute$1(SparkPlan.scala:341)",
        "\tat org.apache.spark.sql.execution.SparkPlan$.org$apache$spark$sql$execution$SparkPlan$$withExecuteQueryLogging(SparkPlan.scala:132)",
        "\tat org.apache.spark.sql.execution.SparkPlan.$anonfun$executeQuery$1(SparkPlan.scala:399)",
        "\tat org.apache.spark.rdd.RDDOperationScope$.withScope(RDDOperationScope.scala:165)",
        "\tat org.apache.spark.sql.execution.SparkPlan.executeQuery(SparkPlan.scala:395)",
        "\tat org.apache.spark.sql.execution.SparkPlan.execute(SparkPlan.scala:336)",
        "\tat org.apache.spark.sql.execution.QueryExecution.toRdd$lzycompute(QueryExecution.scala:633)",
        "\tat org.apache.spark.sql.execution.QueryExecution.toRdd(QueryExecution.scala:632)",
        "\tat com.databricks.sql.transaction.tahoe.files.TransactionalWriteEdge.$anonfun$writeFilesAndGetQueryExecution$15(TransactionalWriteEdge.scala:746)",
        "\tat org.apache.spark.sql.execution.SQLExecution$.$anonfun$withNewExecutionId0$10(SQLExecution.scala:475)",
        "\tat org.apache.spark.sql.execution.SQLExecution$.withSQLConfPropagated(SQLExecution.scala:813)",
        "\tat org.apache.spark.sql.execution.SQLExecution$.$anonfun$withNewExecutionId0$1(SQLExecution.scala:334)",
        "\tat org.apache.spark.sql.SparkSession.withActive(SparkSession.scala:1210)",
        "\tat org.apache.spark.sql.execution.SQLExecution$.withNewExecutionId0(SQLExecution.scala:205)",
        "\tat org.apache.spark.sql.execution.SQLExecution$.withNewExecutionId(SQLExecution.scala:750)",
        "\tat com.databricks.sql.transaction.tahoe.files.TransactionalWriteEdge.$anonfun$writeFilesAndGetQueryExecution$1(TransactionalWriteEdge.scala:735)",
        "\tat com.databricks.sql.transaction.tahoe.metering.DeltaLogging.withOperationTypeTag(DeltaLogging.scala:247)",
        "\tat com.databricks.sql.transaction.tahoe.metering.DeltaLogging.withOperationTypeTag$(DeltaLogging.scala:234)",
        "\tat com.databricks.sql.transaction.tahoe.OptimisticTransaction.withOperationTypeTag(OptimisticTransaction.scala:181)",
        "\tat com.databricks.sql.transaction.tahoe.metering.DeltaLogging.$anonfun$recordDeltaOperationInternal$2(DeltaLogging.scala:172)",
        "\tat com.databricks.spark.util.FrameProfiler$.record(FrameProfiler.scala:94)",
        "\tat com.databricks.sql.transaction.tahoe.metering.DeltaLogging.recordFrameProfile(DeltaLogging.scala:316)",
        "\tat com.databricks.sql.transaction.tahoe.metering.DeltaLogging.recordFrameProfile$(DeltaLogging.scala:314)",
        "\tat com.databricks.sql.transaction.tahoe.OptimisticTransaction.recordFrameProfile(OptimisticTransaction.scala:181)",
        "\tat com.databricks.sql.transaction.tahoe.metering.DeltaLogging.$anonfun$recordDeltaOperationInternal$1(DeltaLogging.scala:171)",
        "\tat com.databricks.logging.UsageLogging.$anonfun$recordOperation$1(UsageLogging.scala:528)",
        "\tat com.databricks.logging.UsageLogging.executeThunkAndCaptureResultTags$1(UsageLogging.scala:633)",
        "\tat com.databricks.logging.UsageLogging.$anonfun$recordOperationWithResultTags$4(UsageLogging.scala:656)",
        "\tat com.databricks.logging.AttributionContextTracing.$anonfun$withAttributionContext$1(AttributionContextTracing.scala:48)",
        "\tat com.databricks.logging.AttributionContext$.$anonfun$withValue$1(AttributionContext.scala:276)",
        "\tat scala.util.DynamicVariable.withValue(DynamicVariable.scala:62)",
        "\tat com.databricks.logging.AttributionContext$.withValue(AttributionContext.scala:272)",
        "\tat com.databricks.logging.AttributionContextTracing.withAttributionContext(AttributionContextTracing.scala:46)",
        "\tat com.databricks.logging.AttributionContextTracing.withAttributionContext$(AttributionContextTracing.scala:43)",
        "\tat com.databricks.spark.util.PublicDBLogging.withAttributionContext(DatabricksSparkUsageLogger.scala:30)",
        "\tat com.databricks.logging.AttributionContextTracing.withAttributionTags(AttributionContextTracing.scala:95)",
        "\tat com.databricks.logging.AttributionContextTracing.withAttributionTags$(AttributionContextTracing.scala:76)",
        "\tat com.databricks.spark.util.PublicDBLogging.withAttributionTags(DatabricksSparkUsageLogger.scala:30)",
        "\tat com.databricks.logging.UsageLogging.recordOperationWithResultTags(UsageLogging.scala:628)",
        "\tat com.databricks.logging.UsageLogging.recordOperationWithResultTags$(UsageLogging.scala:537)",
        "\tat com.databricks.spark.util.PublicDBLogging.recordOperationWithResultTags(DatabricksSparkUsageLogger.scala:30)",
        "\tat com.databricks.logging.UsageLogging.recordOperation(UsageLogging.scala:529)",
        "\tat com.databricks.logging.UsageLogging.recordOperation$(UsageLogging.scala:495)",
        "\tat com.databricks.spark.util.PublicDBLogging.recordOperation(DatabricksSparkUsageLogger.scala:30)",
        "\tat com.databricks.spark.util.PublicDBLogging.recordOperation0(DatabricksSparkUsageLogger.scala:87)",
        "\tat com.databricks.spark.util.DatabricksSparkUsageLogger.recordOperation(DatabricksSparkUsageLogger.scala:173)",
        "\tat com.databricks.spark.util.UsageLogger.recordOperation(UsageLogger.scala:70)",
        "\tat com.databricks.spark.util.UsageLogger.recordOperation$(UsageLogger.scala:57)",
        "\tat com.databricks.spark.util.DatabricksSparkUsageLogger.recordOperation(DatabricksSparkUsageLogger.scala:132)",
        "\tat com.databricks.spark.util.UsageLogging.recordOperation(UsageLogger.scala:511)",
        "\tat com.databricks.spark.util.UsageLogging.recordOperation$(UsageLogger.scala:490)",
        "\tat com.databricks.sql.transaction.tahoe.OptimisticTransaction.recordOperation(OptimisticTransaction.scala:181)",
        "\tat com.databricks.sql.transaction.tahoe.metering.DeltaLogging.recordDeltaOperationInternal(DeltaLogging.scala:170)",
        "\tat com.databricks.sql.transaction.tahoe.metering.DeltaLogging.recordDeltaOperation(DeltaLogging.scala:160)",
        "\tat com.databricks.sql.transaction.tahoe.metering.DeltaLogging.recordDeltaOperation$(DeltaLogging.scala:149)",
        "\tat com.databricks.sql.transaction.tahoe.OptimisticTransaction.recordDeltaOperation(OptimisticTransaction.scala:181)",
        "\tat com.databricks.sql.transaction.tahoe.files.TransactionalWriteEdge.$anonfun$recordWriteFilesOperation$1(TransactionalWriteEdge.scala:365)",
        "\tat com.databricks.sql.acl.CheckPermissions$.$anonfun$trusted$2(CheckPermissions.scala:2311)",
        "\tat com.databricks.sql.util.ThreadLocalTagger.withTag(QueryTagger.scala:62)",
        "\tat com.databricks.sql.util.ThreadLocalTagger.withTag$(QueryTagger.scala:59)",
        "\tat com.databricks.sql.util.QueryTagger$.withTag(QueryTagger.scala:159)",
        "\tat com.databricks.sql.acl.CheckPermissions$.trusted(CheckPermissions.scala:2311)",
        "\tat com.databricks.sql.transaction.tahoe.files.TransactionalWriteEdge.recordWriteFilesOperation(TransactionalWriteEdge.scala:364)",
        "\tat com.databricks.sql.transaction.tahoe.files.TransactionalWriteEdge.writeFilesAndGetQueryExecution(TransactionalWriteEdge.scala:424)",
        "\tat com.databricks.sql.transaction.tahoe.files.TransactionalWriteEdge.writeFilesAndGetQueryExecution$(TransactionalWriteEdge.scala:414)",
        "\tat com.databricks.sql.transaction.tahoe.OptimisticTransaction.writeFilesAndGetQueryExecution(OptimisticTransaction.scala:181)",
        "\tat com.databricks.sql.transaction.tahoe.files.TransactionalWriteEdge.writeFiles(TransactionalWriteEdge.scala:864)",
        "\tat com.databricks.sql.transaction.tahoe.files.TransactionalWriteEdge.writeFiles$(TransactionalWriteEdge.scala:847)",
        "\tat com.databricks.sql.transaction.tahoe.OptimisticTransaction.writeFiles(OptimisticTransaction.scala:181)",
        "\tat com.databricks.sql.transaction.tahoe.commands.optimize.OptimizeBatch.$anonfun$writeFiles$1(OptimizeExecutor.scala:852)",
        "\tat org.apache.spark.SparkContext.withJobGroup(SparkContext.scala:1314)",
        "\tat com.databricks.sql.transaction.tahoe.commands.optimize.OptimizeBatch.writeFiles(OptimizeExecutor.scala:851)",
        "\tat com.databricks.sql.transaction.tahoe.commands.optimize.OptimizeBatch.$anonfun$execute$10(OptimizeExecutor.scala:662)",
        "\tat com.databricks.sql.acl.CheckPermissions$.$anonfun$trusted$2(CheckPermissions.scala:2311)",
        "\tat com.databricks.sql.util.ThreadLocalTagger.withTag(QueryTagger.scala:62)",
        "\tat com.databricks.sql.util.ThreadLocalTagger.withTag$(QueryTagger.scala:59)",
        "\tat com.databricks.sql.util.QueryTagger$.withTag(QueryTagger.scala:159)",
        "\tat com.databricks.sql.acl.CheckPermissions$.trusted(CheckPermissions.scala:2311)",
        "\tat com.databricks.sql.transaction.tahoe.commands.optimize.OptimizeBatch.execute(OptimizeExecutor.scala:642)",
        "\tat com.databricks.sql.transaction.tahoe.commands.optimize.OptimizeExecutor.$anonfun$executeBatch$2(OptimizeExecutor.scala:332)",
        "\tat com.databricks.backend.daemon.driver.ProgressReporter$.withStatusCode(ProgressReporter.scala:416)",
        "\tat com.databricks.backend.daemon.driver.ProgressReporter$.withStatusCode(ProgressReporter.scala:402)",
        "\tat com.databricks.spark.util.SparkDatabricksProgressReporter$.withStatusCode(ProgressReporter.scala:34)",
        "\tat com.databricks.sql.transaction.tahoe.util.DeltaProgressReporterEdge.withStatusCode(DeltaProgressReporterEdge.scala:30)",
        "\tat com.databricks.sql.transaction.tahoe.util.DeltaProgressReporterEdge.withStatusCode$(DeltaProgressReporterEdge.scala:25)",
        "\tat com.databricks.sql.transaction.tahoe.commands.optimize.OptimizeExecutor.withStatusCode(OptimizeExecutor.scala:122)",
        "\tat com.databricks.sql.transaction.tahoe.commands.optimize.OptimizeExecutor.$anonfun$executeBatch$1(OptimizeExecutor.scala:328)",
        "\tat com.databricks.spark.util.FrameProfiler$.record(FrameProfiler.scala:94)",
        "\tat com.databricks.sql.transaction.tahoe.commands.optimize.OptimizeExecutor.executeBatch(OptimizeExecutor.scala:328)",
        "\tat com.databricks.sql.transaction.tahoe.commands.optimize.OptimizeExecutor$$anon$1.$anonfun$call$1(OptimizeExecutor.scala:206)",
        "\tat com.databricks.sql.transaction.tahoe.metering.DeltaLogging.withOperationTypeTag(DeltaLogging.scala:247)",
        "\tat com.databricks.sql.transaction.tahoe.metering.DeltaLogging.withOperationTypeTag$(DeltaLogging.scala:234)",
        "\tat com.databricks.sql.transaction.tahoe.commands.optimize.OptimizeExecutor.withOperationTypeTag(OptimizeExecutor.scala:122)",
        "\tat com.databricks.sql.transaction.tahoe.metering.DeltaLogging.$anonfun$recordDeltaOperationInternal$2(DeltaLogging.scala:172)",
        "\tat com.databricks.spark.util.FrameProfiler$.record(FrameProfiler.scala:94)",
        "\tat com.databricks.sql.transaction.tahoe.metering.DeltaLogging.recordFrameProfile(DeltaLogging.scala:316)",
        "\tat com.databricks.sql.transaction.tahoe.metering.DeltaLogging.recordFrameProfile$(DeltaLogging.scala:314)",
        "\tat com.databricks.sql.transaction.tahoe.commands.optimize.OptimizeExecutor.recordFrameProfile(OptimizeExecutor.scala:122)",
        "\tat com.databricks.sql.transaction.tahoe.metering.DeltaLogging.$anonfun$recordDeltaOperationInternal$1(DeltaLogging.scala:171)",
        "\tat com.databricks.logging.UsageLogging.$anonfun$recordOperation$1(UsageLogging.scala:528)",
        "\tat com.databricks.logging.UsageLogging.executeThunkAndCaptureResultTags$1(UsageLogging.scala:633)",
        "\tat com.databricks.logging.UsageLogging.$anonfun$recordOperationWithResultTags$4(UsageLogging.scala:656)",
        "\tat com.databricks.logging.AttributionContextTracing.$anonfun$withAttributionContext$1(AttributionContextTracing.scala:48)",
        "\tat com.databricks.logging.AttributionContext$.$anonfun$withValue$1(AttributionContext.scala:276)",
        "\tat scala.util.DynamicVariable.withValue(DynamicVariable.scala:62)",
        "\tat com.databricks.logging.AttributionContext$.withValue(AttributionContext.scala:272)",
        "\tat com.databricks.logging.AttributionContextTracing.withAttributionContext(AttributionContextTracing.scala:46)",
        "\tat com.databricks.logging.AttributionContextTracing.withAttributionContext$(AttributionContextTracing.scala:43)",
        "\tat com.databricks.spark.util.PublicDBLogging.withAttributionContext(DatabricksSparkUsageLogger.scala:30)",
        "\tat com.databricks.logging.AttributionContextTracing.withAttributionTags(AttributionContextTracing.scala:95)",
        "\tat com.databricks.logging.AttributionContextTracing.withAttributionTags$(AttributionContextTracing.scala:76)",
        "\tat com.databricks.spark.util.PublicDBLogging.withAttributionTags(DatabricksSparkUsageLogger.scala:30)",
        "\tat com.databricks.logging.UsageLogging.recordOperationWithResultTags(UsageLogging.scala:628)",
        "\tat com.databricks.logging.UsageLogging.recordOperationWithResultTags$(UsageLogging.scala:537)",
        "\tat com.databricks.spark.util.PublicDBLogging.recordOperationWithResultTags(DatabricksSparkUsageLogger.scala:30)",
        "\tat com.databricks.logging.UsageLogging.recordOperation(UsageLogging.scala:529)",
        "\tat com.databricks.logging.UsageLogging.recordOperation$(UsageLogging.scala:495)",
        "\tat com.databricks.spark.util.PublicDBLogging.recordOperation(DatabricksSparkUsageLogger.scala:30)",
        "\tat com.databricks.spark.util.PublicDBLogging.recordOperation0(DatabricksSparkUsageLogger.scala:87)",
        "\tat com.databricks.spark.util.DatabricksSparkUsageLogger.recordOperation(DatabricksSparkUsageLogger.scala:173)",
        "\tat com.databricks.spark.util.UsageLogger.recordOperation(UsageLogger.scala:70)",
        "\tat com.databricks.spark.util.UsageLogger.recordOperation$(UsageLogger.scala:57)",
        "\tat com.databricks.spark.util.DatabricksSparkUsageLogger.recordOperation(DatabricksSparkUsageLogger.scala:132)",
        "\tat com.databricks.spark.util.UsageLogging.recordOperation(UsageLogger.scala:511)",
        "\tat com.databricks.spark.util.UsageLogging.recordOperation$(UsageLogger.scala:490)",
        "\tat com.databricks.sql.transaction.tahoe.commands.optimize.OptimizeExecutor.recordOperation(OptimizeExecutor.scala:122)",
        "\tat com.databricks.sql.transaction.tahoe.metering.DeltaLogging.recordDeltaOperationInternal(DeltaLogging.scala:170)",
        "\tat com.databricks.sql.transaction.tahoe.metering.DeltaLogging.recordDeltaOperation(DeltaLogging.scala:160)",
        "\tat com.databricks.sql.transaction.tahoe.metering.DeltaLogging.recordDeltaOperation$(DeltaLogging.scala:149)",
        "\tat com.databricks.sql.transaction.tahoe.commands.optimize.OptimizeExecutor.recordDeltaOperation(OptimizeExecutor.scala:122)",
        "\tat com.databricks.sql.transaction.tahoe.commands.optimize.OptimizeExecutor$$anon$1.call(OptimizeExecutor.scala:193)",
        "\tat com.databricks.sql.transaction.tahoe.commands.optimize.O",
        "\tat com.databricks.backend.daemon.driver.DriverLocal.executeSql(DriverLocal.scala:475)",
        "\tat com.databricks.backend.daemon.driver.JupyterDriverLocal.repl(JupyterDriverLocal.scala:1054)",
        "\tat com.databricks.backend.daemon.driver.DriverLocal.$anonfun$execute$33(DriverLocal.scala:1172)",
        "\tat com.databricks.unity.EmptyHandle$.runWith(UCSHandle.scala:133)",
        "\tat com.databricks.backend.daemon.driver.DriverLocal.$anonfun$execute$28(DriverLocal.scala:1163)",
        "\tat com.databricks.logging.AttributionContextTracing.$anonfun$withAttributionContext$1(AttributionContextTracing.scala:48)",
        "\tat com.databricks.logging.AttributionContext$.$anonfun$withValue$1(AttributionContext.scala:276)",
        "\tat scala.util.DynamicVariable.withValue(DynamicVariable.scala:62)",
        "\tat com.databricks.logging.AttributionContext$.withValue(AttributionContext.scala:272)",
        "\tat com.databricks.logging.AttributionContextTracing.withAttributionContext(AttributionContextTracing.scala:46)",
        "\tat com.databricks.logging.AttributionContextTracing.withAttributionContext$(AttributionContextTracing.scala:43)",
        "\tat com.databricks.backend.daemon.driver.DriverLocal.withAttributionContext(DriverLocal.scala:96)",
        "\tat com.databricks.logging.AttributionContextTracing.withAttributionTags(AttributionContextTracing.scala:95)",
        "\tat com.databricks.logging.AttributionContextTracing.withAttributionTags$(AttributionContextTracing.scala:76)",
        "\tat com.databricks.backend.daemon.driver.DriverLocal.withAttributionTags(DriverLocal.scala:96)",
        "\tat com.databricks.backend.daemon.driver.DriverLocal.$anonfun$execute$1(DriverLocal.scala:1099)",
        "\tat com.databricks.backend.daemon.driver.DriverLocal$.$anonfun$maybeSynchronizeExecution$4(DriverLocal.scala:1519)",
        "\tat com.databricks.backend.daemon.driver.DriverLocal.execute(DriverLocal.scala:776)",
        "\tat com.databricks.backend.daemon.driver.DriverWrapper.$anonfun$tryExecutingCommand$2(DriverWrapper.scala:932)",
        "\tat scala.util.Try$.apply(Try.scala:213)",
        "\tat com.databricks.backend.daemon.driver.DriverWrapper.$anonfun$tryExecutingCommand$1(DriverWrapper.scala:921)",
        "\tat com.databricks.backend.daemon.driver.DriverWrapper.$anonfun$tryExecutingCommand$3(DriverWrapper.scala:967)",
        "\tat com.databricks.logging.UsageLogging.executeThunkAndCaptureResultTags$1(UsageLogging.scala:633)",
        "\tat com.databricks.logging.UsageLogging.$anonfun$recordOperationWithResultTags$4(UsageLogging.scala:656)",
        "\tat com.databricks.logging.AttributionContextTracing.$anonfun$withAttributionContext$1(AttributionContextTracing.scala:48)",
        "\tat com.databricks.logging.AttributionContext$.$anonfun$withValue$1(AttributionContext.scala:276)",
        "\tat scala.util.DynamicVariable.withValue(DynamicVariable.scala:62)",
        "\tat com.databricks.logging.AttributionContext$.withValue(AttributionContext.scala:272)",
        "\tat com.databricks.logging.AttributionContextTracing.withAttributionContext(AttributionContextTracing.scala:46)",
        "\tat com.databricks.logging.AttributionContextTracing.withAttributionContext$(AttributionContextTracing.scala:43)",
        "\tat com.databricks.backend.daemon.driver.DriverWrapper.withAttributionContext(DriverWrapper.scala:73)",
        "\tat com.databricks.logging.AttributionContextTracing.withAttributionTags(AttributionContextTracing.scala:95)",
        "\tat com.databricks.logging.AttributionContextTracing.withAttributionTags$(AttributionContextTracing.scala:76)",
        "\tat com.databricks.backend.daemon.driver.DriverWrapper.withAttributionTags(DriverWrapper.scala:73)",
        "\tat com.databricks.logging.UsageLogging.recordOperationWithResultTags(UsageLogging.scala:628)",
        "\tat com.databricks.logging.UsageLogging.recordOperationWithResultTags$(UsageLogging.scala:537)",
        "\tat com.databricks.backend.daemon.driver.DriverWrapper.recordOperationWithResultTags(DriverWrapper.scala:73)",
        "\tat com.databricks.backend.daemon.driver.DriverWrapper.tryExecutingCommand(DriverWrapper.scala:967)",
        "\tat com.databricks.backend.daemon.driver.DriverWrapper.executeCommandAndGetError(DriverWrapper.scala:717)",
        "\tat com.databricks.backend.daemon.driver.DriverWrapper.executeCommand(DriverWrapper.scala:785)",
        "\tat com.databricks.backend.daemon.driver.DriverWrapper.$anonfun$runInnerLoop$1(DriverWrapper.scala:590)",
        "\tat scala.runtime.java8.JFunction0$mcV$sp.apply(JFunction0$mcV$sp.java:23)",
        "\tat com.databricks.logging.AttributionContextTracing.$anonfun$withAttributionContext$1(AttributionContextTracing.scala:48)",
        "\tat com.databricks.logging.AttributionContext$.$anonfun$withValue$1(AttributionContext.scala:276)",
        "\tat scala.util.DynamicVariable.withValue(DynamicVariable.scala:62)",
        "\tat com.databricks.logging.AttributionContext$.withValue(AttributionContext.scala:272)",
        "\tat com.databricks.logging.AttributionContextTracing.withAttributionContext(AttributionContextTracing.scala:46)",
        "\tat com.databricks.logging.AttributionContextTracing.withAttributionContext$(AttributionContextTracing.scala:43)",
        "\tat com.databricks.backend.daemon.driver.DriverWrapper.withAttributionContext(DriverWrapper.scala:73)",
        "\tat com.databricks.backend.daemon.driver.DriverWrapper.runInnerLoop(DriverWrapper.scala:590)",
        "\tat com.databricks.backend.daemon.driver.DriverWrapper.runInner(DriverWrapper.scala:512)",
        "\tat com.databricks.backend.daemon.driver.DriverWrapper.run(DriverWrapper.scala:306)",
        "\tat java.lang.Thread.run(Thread.java:750)"
       ],
       "type": "baseError"
      }
     },
     "output_type": "display_data"
    }
   ],
   "source": [
    "%sql\n",
    "\n",
    "OPTIMIZE mydatabase.expedia\n",
    "ZORDER BY (id, srch_ci);\n",
    "\n",
    "OPTIMIZE mydatabase.hotel_weather\n",
    "ZORDER BY (id, wthr_date);\n",
    "\n",
    "CREATE TABLE mydatabase.date_sequence AS \n",
    "SELECT explode(sequence(\n",
    "    to_date('2016-10-01'), \n",
    "    to_date('2018-10-06'), \n",
    "    INTERVAL 1 DAY)) AS visit_date;\n",
    "\n",
    "CREATE TABLE mydatabase.exploded_dates AS\n",
    "SELECT \n",
    "    ex.id AS booking_id,\n",
    "    ex.hotel_id,\n",
    "    ds.visit_date\n",
    "FROM mydatabase.expedia ex\n",
    "JOIN mydatabase.date_sequence ds\n",
    "  ON ds.visit_date BETWEEN CAST(ex.srch_ci AS DATE) AND CAST(ex.srch_co AS DATE) - INTERVAL 1 DAY\n",
    "WHERE DATEDIFF(ex.srch_co, ex.srch_ci) BETWEEN 7 AND 30;\n",
    "\n",
    "CREATE TABLE mydatabase.joined_weather AS\n",
    "SELECT \n",
    "    ed.booking_id,\n",
    "    ed.hotel_id,\n",
    "    ed.visit_date,\n",
    "    hw.avg_tmpr_c,\n",
    "    hw.address\n",
    "FROM mydatabase.exploded_dates ed\n",
    "LEFT JOIN mydatabase.hotel_weather hw\n",
    "  ON ed.hotel_id = hw.id \n",
    "     AND hw.wthr_date = ed.visit_date\n",
    "WHERE hw.avg_tmpr_c IS NOT NULL;\n",
    "\n",
    "CREATE TABLE mydatabase.windowed_temps AS \n",
    "SELECT\n",
    "    booking_id,\n",
    "    hotel_id,\n",
    "    address,\n",
    "    visit_date,\n",
    "    avg_tmpr_c,\n",
    "    FIRST_VALUE(avg_tmpr_c) OVER (\n",
    "        PARTITION BY booking_id ORDER BY visit_date\n",
    "    ) AS first_temp,\n",
    "    LAST_VALUE(avg_tmpr_c) OVER (\n",
    "        PARTITION BY booking_id ORDER BY visit_date \n",
    "        ROWS BETWEEN UNBOUNDED PRECEDING AND UNBOUNDED FOLLOWING\n",
    "    ) AS last_temp\n",
    "FROM mydatabase.joined_weather;\n",
    "\n",
    "OPTIMIZE mydatabase.exploded_dates\n",
    "ZORDER BY (booking_id, visit_date);\n",
    "\n",
    "OPTIMIZE mydatabase.joined_weather\n",
    "ZORDER BY (booking_id, visit_date);\n",
    "\n",
    "OPTIMIZE mydatabase.windowed_temps\n",
    "ZORDER BY (booking_id, visit_date);\n",
    "\n",
    "\n",
    "WITH temp_calculations AS (\n",
    "    SELECT\n",
    "        booking_id,\n",
    "        hotel_id,\n",
    "        address,\n",
    "        MIN(visit_date) AS first_day,\n",
    "        MAX(visit_date) AS last_day,\n",
    "        ROUND(last_temp - first_temp, 2) AS temp_trend,\n",
    "        ROUND(AVG(avg_tmpr_c), 2) AS avg_temperature\n",
    "    FROM mydatabase.windowed_temps\n",
    "    GROUP BY booking_id, hotel_id, address, first_temp, last_temp\n",
    ")\n",
    "SELECT *\n",
    "FROM temp_calculations\n",
    "WHERE temp_trend IS NOT NULL\n",
    "  AND avg_temperature IS NOT NULL\n",
    "  AND DATEDIFF(last_day, first_day) >= 7\n",
    "ORDER BY ABS(temp_trend) DESC;\n",
    "\n"
   ]
  },
  {
   "cell_type": "code",
   "execution_count": 0,
   "metadata": {
    "application/vnd.databricks.v1+cell": {
     "cellMetadata": {
      "byteLimit": 2048000,
      "rowLimit": 10000
     },
     "collapsed": true,
     "inputWidgets": {},
     "nuid": "598ece0a-cbbe-468a-b974-68939ec24428",
     "showTitle": true,
     "tableResultSettingsMap": {},
     "title": "1st_query_save"
    }
   },
   "outputs": [],
   "source": [
    "df_first = spark.sql(\"\"\"\n",
    "\tSELECT \n",
    "    address,    -- Select the hotel address.\n",
    "    year,       -- Select the year from the data.\n",
    "    month,      -- Select the month from the data.\n",
    "    -- Calculate the temperature difference within each group:\n",
    "    --   1. Find the maximum average temperature (avg_tmpr_c) in the group.\n",
    "    --   2. Find the minimum average temperature (avg_tmpr_c) in the group.\n",
    "    --   3. Compute the absolute difference between these values.\n",
    "    --   4. Round the result to 2 decimal places and alias it as 'temp_diff'.\n",
    "    ROUND(ABS(MAX(avg_tmpr_c) - MIN(avg_tmpr_c)), 2) AS temp_diff\n",
    "\tFROM mydatabase.hotel_weather   -- Data is sourced from the hotel_weather table.\n",
    "\tGROUP BY address, year, month    -- Group the records by hotel address, year, and month.\n",
    "\tORDER BY temp_diff DESC          -- Order the groups by temperature difference in descending order.\n",
    "\tLIMIT 10;                       -- Limit the result to the top 10 groups with the largest temperature differences.\n",
    "\"\"\")\n",
    "\n",
    "df_first.write.format(\"parquet\") \\\n",
    "    .mode(\"overwrite\") \\\n",
    "    .partitionBy(\"year\", \"month\") \\\n",
    "    .save(\"dbfs:/mnt/data/final_datamarts/first\")"
   ]
  },
  {
   "cell_type": "code",
   "execution_count": 0,
   "metadata": {
    "application/vnd.databricks.v1+cell": {
     "cellMetadata": {
      "byteLimit": 2048000,
      "rowLimit": 10000
     },
     "collapsed": true,
     "inputWidgets": {},
     "nuid": "1efad132-8be8-48b1-854b-f598839e13a2",
     "showTitle": true,
     "tableResultSettingsMap": {},
     "title": "1st_query_output_check"
    }
   },
   "outputs": [
    {
     "name": "stdout",
     "output_type": "stream",
     "text": [
      "+--------------------+---------+----+-----+\n",
      "|             address|temp_diff|year|month|\n",
      "+--------------------+---------+----+-----+\n",
      "|         Rodeway Inn|     20.2|2016|   10|\n",
      "|Americas Best Val...|     20.3|2016|   10|\n",
      "|Quality Inn and S...|     21.1|2016|   10|\n",
      "|             Motel 6|     21.7|2016|   10|\n",
      "|            Studio 6|     23.0|2016|   10|\n",
      "|         Comfort Inn|     23.5|2016|   10|\n",
      "|Americas Best Val...|     19.6|2017|    9|\n",
      "|         Comfort Inn|     19.9|2017|    9|\n",
      "|Quality Inn & Suites|     20.2|2017|    9|\n",
      "|Quality Inn and S...|     21.7|2017|    9|\n",
      "+--------------------+---------+----+-----+\n",
      "\n"
     ]
    }
   ],
   "source": [
    "df_check = spark.read.parquet(\"dbfs:/mnt/data/final_datamarts/first\")\n",
    "df_check.show(10)"
   ]
  },
  {
   "cell_type": "code",
   "execution_count": 0,
   "metadata": {
    "application/vnd.databricks.v1+cell": {
     "cellMetadata": {
      "byteLimit": 2048000,
      "rowLimit": 10000
     },
     "collapsed": true,
     "inputWidgets": {},
     "nuid": "9bbcd2e6-6f9d-4893-b905-e454628f5d85",
     "showTitle": true,
     "tableResultSettingsMap": {},
     "title": "2nd_query_saving"
    }
   },
   "outputs": [],
   "source": [
    "df_second = spark.sql(\"\"\"\n",
    "\tWITH exploded_dates AS (\n",
    "\t\tSELECT\n",
    "\t\t\tex.hotel_id,\n",
    "\t\t\thw.address,\n",
    "\t\t\texplode(sequence(\n",
    "\t\t\t\tCAST(ex.srch_ci AS DATE), \n",
    "\t\t\t\tCAST(ex.srch_co AS DATE) - INTERVAL 1 DAY, \n",
    "\t\t\t\tinterval 1 day)) AS visit_date\n",
    "\t\tFROM mydatabase.expedia ex\n",
    "\t\tLEFT JOIN mydatabase.hotel_weather hw\n",
    "\t\tON ex.hotel_id = hw.id\n",
    "\t\tWHERE CAST(ex.srch_ci AS DATE) < CAST(ex.srch_co AS DATE)\n",
    "\t\tAND hw.address IS NOT NULL\n",
    "\t),\n",
    "\tmonthly_visits AS (\n",
    "\t\tSELECT\n",
    "\t\t\taddress,\n",
    "\t\t\tYEAR(visit_date) AS year,\n",
    "\t\t\tMONTH(visit_date) AS month,\n",
    "\t\t\tCOUNT(*) AS visits_count\n",
    "\t\tFROM exploded_dates\n",
    "\t\tGROUP BY address, YEAR(visit_date), MONTH(visit_date)\n",
    "\t),\n",
    "\tranked_hotels AS (\n",
    "\t\tSELECT *,\n",
    "\t\t\tDENSE_RANK() OVER (PARTITION BY year, month ORDER BY visits_count DESC) AS rank\n",
    "\t\tFROM monthly_visits\n",
    "\t)\n",
    "\tSELECT * FROM ranked_hotels WHERE rank <= 10;\n",
    "\"\"\")\n",
    "df_second.write.format(\"parquet\") \\\n",
    "    .mode(\"overwrite\") \\\n",
    "    .partitionBy(\"year\", \"month\") \\\n",
    "    .save(\"dbfs:/mnt/data/final_datamarts/second\")"
   ]
  },
  {
   "cell_type": "code",
   "execution_count": 0,
   "metadata": {
    "application/vnd.databricks.v1+cell": {
     "cellMetadata": {
      "byteLimit": 2048000,
      "rowLimit": 10000
     },
     "collapsed": true,
     "inputWidgets": {},
     "nuid": "64c57c07-d420-455a-904d-78e80f8a7916",
     "showTitle": true,
     "tableResultSettingsMap": {},
     "title": "2nd_query_check"
    }
   },
   "outputs": [
    {
     "name": "stdout",
     "output_type": "stream",
     "text": [
      "+--------------------+------------+----+----+-----+\n",
      "|             address|visits_count|rank|year|month|\n",
      "+--------------------+------------+----+----+-----+\n",
      "|Sofitel Paris Le ...|         420|   1|2017|   11|\n",
      "|The Pelham Starho...|         300|   2|2017|   11|\n",
      "|   Hotel Millersburg|         300|   2|2017|   11|\n",
      "|Best Western Hote...|         270|   3|2017|   11|\n",
      "|     TH Street Duomo|         270|   3|2017|   11|\n",
      "|IH Hotels Milano ...|         270|   3|2017|   11|\n",
      "|      Shoshone Lodge|         270|   3|2017|   11|\n",
      "|            Nu Hotel|         270|   3|2017|   11|\n",
      "|Conservatorium Hotel|         246|   4|2017|   11|\n",
      "|Mercure Vaugirard...|         240|   5|2017|   11|\n",
      "+--------------------+------------+----+----+-----+\n",
      "only showing top 10 rows\n",
      "\n"
     ]
    }
   ],
   "source": [
    "df_check = spark.read.parquet(\"dbfs:/mnt/data/final_datamarts/second\")\n",
    "df_check.show(10)"
   ]
  },
  {
   "cell_type": "code",
   "execution_count": 0,
   "metadata": {
    "application/vnd.databricks.v1+cell": {
     "cellMetadata": {
      "byteLimit": 2048000,
      "rowLimit": 10000
     },
     "collapsed": true,
     "inputWidgets": {},
     "nuid": "96254e20-08ad-4195-93ec-807b3d68a1a0",
     "showTitle": true,
     "tableResultSettingsMap": {},
     "title": "3rd_query_saving"
    }
   },
   "outputs": [],
   "source": [
    "df_third = spark.sql(\"\"\"\n",
    "\tWITH exploded_dates AS (\n",
    "\t\tSELECT\n",
    "\t\t\tex.id AS booking_id,\n",
    "\t\t\tex.hotel_id,\n",
    "\t\t\tex.srch_ci,\n",
    "\t\t\tex.srch_co,\n",
    "\t\t\texplode(sequence(\n",
    "\t\t\t\tCAST(ex.srch_ci AS DATE), \n",
    "\t\t\t\tCAST(ex.srch_co AS DATE) - INTERVAL 1 DAY,\n",
    "\t\t\t\tINTERVAL 1 DAY\n",
    "\t\t\t)) AS visit_date\n",
    "\t\tFROM mydatabase.expedia ex\n",
    "\t\tWHERE DATEDIFF(ex.srch_co, ex.srch_ci) BETWEEN 7 AND 30\n",
    "\t\tAND ex.srch_co > ex.srch_ci\n",
    "\t),\n",
    "\tjoined_weather AS (\n",
    "\t\tSELECT \n",
    "\t\t\ted.booking_id,\n",
    "\t\t\ted.hotel_id,\n",
    "\t\t\ted.visit_date,\n",
    "\t\t\thw.avg_tmpr_c,\n",
    "\t\t\thw.address\n",
    "\t\tFROM exploded_dates ed\n",
    "\t\tLEFT JOIN mydatabase.hotel_weather hw\n",
    "\t\tON ed.hotel_id = hw.id \n",
    "\t\t\tAND CAST(hw.wthr_date AS DATE) = ed.visit_date\n",
    "\t\tWHERE hw.avg_tmpr_c IS NOT NULL\n",
    "\t),\n",
    "\twindowed_temps AS (\n",
    "\t\tSELECT\n",
    "\t\t\tbooking_id,\n",
    "\t\t\thotel_id,\n",
    "\t\t\taddress,\n",
    "\t\t\tvisit_date,\n",
    "\t\t\tavg_tmpr_c,\n",
    "\t\t\tFIRST_VALUE(avg_tmpr_c) OVER (PARTITION BY booking_id ORDER BY visit_date) AS first_temp,\n",
    "\t\t\tLAST_VALUE(avg_tmpr_c) OVER (PARTITION BY booking_id ORDER BY visit_date \n",
    "\t\t\t\tROWS BETWEEN UNBOUNDED PRECEDING AND UNBOUNDED FOLLOWING) AS last_temp\n",
    "\t\tFROM joined_weather\n",
    "\t),\n",
    "\ttemp_calculations AS (\n",
    "\t\tSELECT\n",
    "\t\t\tbooking_id,\n",
    "\t\t\thotel_id,\n",
    "\t\t\taddress,\n",
    "\t\t\tMIN(visit_date) AS first_day,\n",
    "\t\t\tMAX(visit_date) AS last_day,\n",
    "\t\t\tROUND(last_temp - first_temp, 2) AS temp_trend,\n",
    "\t\t\tROUND(AVG(avg_tmpr_c), 2) AS avg_temperature\n",
    "\t\tFROM windowed_temps\n",
    "\t\tGROUP BY booking_id, hotel_id, address, first_temp, last_temp\n",
    "\t)\n",
    "\tSELECT *\n",
    "\tFROM temp_calculations\n",
    "\tWHERE temp_trend IS NOT NULL\n",
    "\tAND avg_temperature IS NOT NULL\n",
    "\tAND DATEDIFF(last_day, first_day) >= 7\n",
    "\tORDER BY ABS(temp_trend) DESC;\n",
    "\"\"\")\n",
    "\n",
    "df_third.write.format(\"parquet\") \\\n",
    "    .mode(\"overwrite\") \\\n",
    "    .partitionBy(\"first_day\", \"last_day\") \\\n",
    "    .save(\"dbfs:/mnt/data/final_datamarts/third\")"
   ]
  },
  {
   "cell_type": "code",
   "execution_count": 0,
   "metadata": {
    "application/vnd.databricks.v1+cell": {
     "cellMetadata": {
      "byteLimit": 2048000,
      "rowLimit": 10000
     },
     "collapsed": true,
     "inputWidgets": {},
     "nuid": "c85c2926-77a4-4390-9bb5-0e68c741bba4",
     "showTitle": true,
     "tableResultSettingsMap": {},
     "title": "3rd_query_checking"
    }
   },
   "outputs": [
    {
     "name": "stdout",
     "output_type": "stream",
     "text": [
      "+----------+-------------+--------------------+----------+---------------+----------+----------+\n",
      "|booking_id|     hotel_id|             address|temp_trend|avg_temperature| first_day|  last_day|\n",
      "+----------+-------------+--------------------+----------+---------------+----------+----------+\n",
      "|    660388|1262720385024|Holiday Inn Expre...|      -1.6|           34.1|2017-08-25|2017-09-03|\n",
      "|     22002|1262720385024|Holiday Inn Expre...|      -1.6|           34.1|2017-08-25|2017-09-03|\n",
      "|   2484059|1812476198912|  Staunton Hotel B B|      -3.2|           15.5|2017-08-25|2017-09-03|\n",
      "|   2456610|1855425871872|           Avo Hotel|      -3.2|           15.5|2017-08-25|2017-09-03|\n",
      "|   2418879|2310692405248|DoubleTree by Hil...|      -3.2|           15.5|2017-08-25|2017-09-03|\n",
      "|   2389551|2602750181378|Old Ship Inn Hackney|      -3.2|           15.5|2017-08-25|2017-09-03|\n",
      "|   2338050|2834678415363|Club Quarters Hot...|      -3.2|           15.5|2017-08-25|2017-09-03|\n",
      "|   2318405|2276332666883|Holiday Inn Londo...|      -3.2|           15.5|2017-08-25|2017-09-03|\n",
      "|   2302704|1812476198912|  Staunton Hotel B B|      -3.2|           15.5|2017-08-25|2017-09-03|\n",
      "|   2271827|2413771620353|Comfort Inn Suite...|      -3.2|           15.5|2017-08-25|2017-09-03|\n",
      "+----------+-------------+--------------------+----------+---------------+----------+----------+\n",
      "only showing top 10 rows\n",
      "\n"
     ]
    },
    {
     "data": {
      "text/plain": [
       "1410"
      ]
     },
     "execution_count": 41,
     "metadata": {},
     "output_type": "execute_result"
    }
   ],
   "source": [
    "df_check = spark.read.parquet(\"dbfs:/mnt/data/final_datamarts/third\")\n",
    "df_check.show(10)\n",
    "df_check.count()"
   ]
  }
 ],
 "metadata": {
  "application/vnd.databricks.v1+notebook": {
   "computePreferences": null,
   "dashboards": [],
   "environmentMetadata": {
    "base_environment": "",
    "environment_version": "2"
   },
   "language": "python",
   "notebookMetadata": {
    "mostRecentlyExecutedCommandWithImplicitDF": {
     "commandId": 769907486433565,
     "dataframes": [
      "_sqldf"
     ]
    },
    "pythonIndentUnit": 4
   },
   "notebookName": "Azure_Spark_SQL",
   "widgets": {}
  },
  "language_info": {
   "name": "python"
  }
 },
 "nbformat": 4,
 "nbformat_minor": 0
}
