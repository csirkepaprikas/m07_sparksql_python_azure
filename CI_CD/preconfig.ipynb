{
 "cells": [
  {
   "cell_type": "code",
   "execution_count": 0,
   "metadata": {
    "application/vnd.databricks.v1+cell": {
     "cellMetadata": {},
     "inputWidgets": {},
     "nuid": "9aa1130f-aff7-4dc0-8586-46c11f84e2b0",
     "showTitle": false,
     "tableResultSettingsMap": {},
     "title": ""
    }
   },
   "outputs": [],
   "source": [
    "# Azure Storage settings\n",
    "input_storage_account = \"\"\n",
    "output_storage_account = \"\"\n",
    "input_container = \"\"\n",
    "output_container = \"\"\n",
    "\n",
    "# Setting up Storage account keys\n",
    "spark.conf.set(\n",
    "    f\"fs.azure.account.key.{input_storage_account}.blob.core.windows.net\",\n",
    "    dbutils.secrets.get(scope=\"hw2secret\", key=\"AZURE_STORAGE_ACCOUNT_KEY_SOURCE\"))\n",
    "\n",
    "spark.conf.set(\n",
    "    f\"fs.azure.account.key.{output_storage_account}.blob.core.windows.net\",\n",
    "    dbutils.secrets.get(scope=\"hw2secret\", key=\"STORAGE_FINAL\"))\n",
    "\n",
    "# Create database if it doesn't exist\n",
    "spark.sql(\"CREATE DATABASE IF NOT EXISTS mydatabase\")\n",
    "\n",
    "# Read Expedia data from the source container and save it in Delta format to the data output container \n",
    "expedia_df = spark.read.format(\"avro\").load(f\"wasbs://{input_container}@{input_storage_account}.blob.core.windows.net/expedia/\")\n",
    "\n",
    "expedia_df.write.format(\"delta\").mode(\"overwrite\") \\\n",
    "    .option(\"overwriteSchema\", \"true\") \\\n",
    "    .save(f\"wasbs://{output_container}@{output_storage_account}.blob.core.windows.net/delta/expedia/\")\n",
    "\n",
    "# Register the Expedia Delta table in the Metastore\n",
    "spark.sql(\"DROP TABLE IF EXISTS mydatabase.expedia\")\n",
    "spark.sql(f\"\"\"\n",
    "    CREATE TABLE mydatabase.expedia\n",
    "    USING DELTA\n",
    "    LOCATION 'wasbs://{output_container}@{output_storage_account}.blob.core.windows.net/delta/expedia/'\n",
    "\"\"\")\n",
    "\n",
    "# Read Hotel-Weather data from the source container and save it in Delta format to the data output container, also partitioning is applied\n",
    "hotel_weather_df = spark.read.format(\"parquet\").load(f\"wasbs://{input_container}@{input_storage_account}.blob.core.windows.net/hotel-weather/hotel-weather/\")\n",
    "\n",
    "hotel_weather_df.write.format(\"delta\").mode(\"overwrite\") \\\n",
    "    .partitionBy(\"year\", \"month\", \"day\") \\\n",
    "    .option(\"overwriteSchema\", \"true\") \\\n",
    "    .save(f\"wasbs://{output_container}@{output_storage_account}.blob.core.windows.net/delta/hotel-weather/\")\n",
    "\n",
    "# Register the Hotel-Weather Delta table in the Metastore\n",
    "spark.sql(\"DROP TABLE IF EXISTS mydatabase.hotel_weather\")\n",
    "spark.sql(f\"\"\"\n",
    "    CREATE TABLE mydatabase.hotel_weather\n",
    "    USING DELTA\n",
    "    LOCATION 'wasbs://{output_container}@{output_storage_account}.blob.core.windows.net/delta/hotel-weather/'\n",
    "\"\"\")\n",
    "\n",
    "# Refresh cache to see the most up-to-date data\n",
    "spark.sql(\"REFRESH TABLE mydatabase.expedia\")\n",
    "spark.sql(\"REFRESH TABLE mydatabase.hotel_weather\")\n",
    "\n",
    "#Due to the same column name in the two dataframes, we need to rename the column\n",
    "hotel_weather_df = hotel_weather_df.withColumnRenamed(\"id\", \"accomodation_id\")\n",
    "# Join the Expedia and Hotel Weather data\n",
    "joined_df = expedia_df.join(hotel_weather_df, expedia_df.hotel_id == hotel_weather_df.accomodation_id, \"left\")\n",
    "\n",
    "# Save the intermediate DataFrame partitioned\n",
    "joined_df.write.format(\"parquet\") \\\n",
    "    .mode(\"overwrite\") \\\n",
    "    .partitionBy(\"year\", \"month\", \"day\") \\\n",
    "    .save(f\"wasbs://{output_container}@{output_storage_account}.blob.core.windows.net/joined_data/\")"
   ]
  }
 ],
 "metadata": {
  "application/vnd.databricks.v1+notebook": {
   "computePreferences": null,
   "dashboards": [],
   "environmentMetadata": null,
   "language": "python",
   "notebookMetadata": {
    "pythonIndentUnit": 4
   },
   "notebookName": "preconfig",
   "widgets": {}
  },
  "language_info": {
   "name": "python"
  }
 },
 "nbformat": 4,
 "nbformat_minor": 0
}
